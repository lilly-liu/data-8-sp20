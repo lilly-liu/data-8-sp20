{
 "cells": [
  {
   "cell_type": "code",
   "execution_count": 50,
   "metadata": {
    "deletable": false,
    "editable": false
   },
   "outputs": [
    {
     "name": "stdout",
     "output_type": "stream",
     "text": [
      "=====================================================================\n",
      "Assignment: Project 1: World Progress\n",
      "OK, version v1.12.5\n",
      "=====================================================================\n",
      "\n"
     ]
    }
   ],
   "source": [
    "# Initialize OK\n",
    "from client.api.notebook import Notebook\n",
    "ok = Notebook('project1.ok')"
   ]
  },
  {
   "cell_type": "markdown",
   "metadata": {},
   "source": [
    "## Project 1: World Progress"
   ]
  },
  {
   "cell_type": "markdown",
   "metadata": {},
   "source": [
    "In this project, you'll explore data from [Gapminder.org](http://gapminder.org), a website dedicated to providing a fact-based view of the world and how it has changed. That site includes several data visualizations and presentations, but also publishes the raw data that we will use in this project to recreate and extend some of their most famous visualizations.\n",
    "\n",
    "The Gapminder website collects data from many sources and compiles them into tables that describe many countries around the world. All of the data they aggregate are published in the [Systema Globalis](https://github.com/open-numbers/ddf--gapminder--systema_globalis/blob/master/README.md). Their goal is \"to compile all public statistics; Social, Economic and Environmental; into a comparable total dataset.\" All data sets in this project are copied directly from the Systema Globalis without any changes.\n",
    "\n",
    "This project is dedicated to [Hans Rosling](https://en.wikipedia.org/wiki/Hans_Rosling) (1948-2017), who championed the use of data to understand and prioritize global development challenges."
   ]
  },
  {
   "cell_type": "markdown",
   "metadata": {},
   "source": [
    "### Logistics\n",
    "\n",
    "**Deadline.** This project is due at 11:59pm on Friday 2/28. Projects will be accepted up to 2 days (48 hours) late; a project submitted less than 24 hours after the deadline will receive 2/3 credit, a project submitted between 24 and 48 hours after the deadline will receive 1/3 credit, and a project submitted 48 hours or more after the deadline will receive no credit. It's **much** better to be early than late, so start working now.\n",
    "\n",
    "**Checkpoint.** For full credit, you must also complete the first 8 questions, pass all public autograder tests, and submit to okpy by 11:59pm on Friday 2/21. After you've submitted the checkpoint, you may still change your answers before the project deadline - only your final submission will be graded for correctness. You will have some lab time to work on these questions, but we recommend that you start the project before lab and leave time to finish the checkpoint afterward.\n",
    "\n",
    "**Partners.** You may work with one other partner; your partner must be from your assigned lab section. Only one of you is required to submit the project. On [okpy.org](http://okpy.org), the person who submits should also designate their partner so that both of you receive credit.\n",
    "\n",
    "**Rules.** Don't share your code with anybody but your partner. You are welcome to discuss questions with other students, but don't share the answers. The experience of solving the problems in this project will prepare you for exams (and life). If someone asks you for the answer, resist! Instead, you can demonstrate how you would solve a similar problem.\n",
    "\n",
    "**Support.** You are not alone! Come to office hours, post on Piazza, and talk to your classmates. If you want to ask about the details of your solution to a problem, make a private Piazza post and the staff will respond. If you're ever feeling overwhelmed or don't know how to make progress, email your TA or tutor for help. You can find contact information for the staff on the [course website](http://data8.org/sp20/staff.html).\n",
    "\n",
    "**Tests.** The tests that are given are **not comprehensive** and passing the tests for a question **does not** mean that you answered the question correctly. Tests usually only check that your table has the correct column labels. However, more tests will be applied to verify the correctness of your submission in order to assign your final score, so be careful and check your work! You might want to create your own checks along the way to see if your answers make sense. Additionally, before you submit, make sure that none of your cells take a very long time to run (several minutes).\n",
    "\n",
    "**Free Response Questions:** Make sure that you put the answers to the written questions in the indicated cell we provide. Check to make sure that you have a [Gradescope](http://gradescope.com) account, which is where the scores to the free response questions will be posted. If you do not, make sure to reach out to your assigned (u)GSI.\n",
    "\n",
    "**Advice.** Develop your answers incrementally. To perform a complicated table manipulation, break it up into steps, perform each step on a different line, give a new name to each result, and check that each intermediate result is what you expect. You can add any additional names or functions you want to the provided cells. Make sure that you are using distinct and meaningful variable names throughout the notebook. Along that line, **DO NOT** reuse the variable names that we use when we grade your answers. For example, in Question 1 of the Global Poverty section, we ask you to assign an answer to `latest`. Do not reassign the variable name `latest` to anything else in your notebook, otherwise there is the chance that our tests grade against what `latest` was reassigned to.\n",
    "\n",
    "You **never** have to use just one line in this project or any others. Use intermediate variables and multiple lines as much as you would like!  \n",
    "\n",
    "To get started, load `datascience`, `numpy`, `plots`, and `ok`."
   ]
  },
  {
   "cell_type": "code",
   "execution_count": 51,
   "metadata": {},
   "outputs": [
    {
     "name": "stdout",
     "output_type": "stream",
     "text": [
      "=====================================================================\n",
      "Assignment: Project 1: World Progress\n",
      "OK, version v1.12.5\n",
      "=====================================================================\n",
      "\n"
     ]
    }
   ],
   "source": [
    "from datascience import *\n",
    "import numpy as np\n",
    "\n",
    "%matplotlib inline\n",
    "import matplotlib.pyplot as plots\n",
    "plots.style.use('fivethirtyeight')\n",
    "\n",
    "from client.api.notebook import Notebook\n",
    "ok = Notebook('project1.ok')"
   ]
  },
  {
   "cell_type": "markdown",
   "metadata": {},
   "source": [
    "Before continuing the assignment, select \"Save and Checkpoint\" in the File menu and then execute the submit cell below. The result will contain a link that you can use to check that your assignment has been submitted successfully. If you submit more than once before the deadline, we will only grade your final submission. If you mistakenly submit the wrong one, you can head to okpy.org and flag the correct version. There will be another submit cell at the end of the assignment when you finish!"
   ]
  },
  {
   "cell_type": "code",
   "execution_count": 52,
   "metadata": {},
   "outputs": [
    {
     "data": {
      "application/javascript": [
       "IPython.notebook.save_checkpoint();"
      ],
      "text/plain": [
       "<IPython.core.display.Javascript object>"
      ]
     },
     "metadata": {},
     "output_type": "display_data"
    },
    {
     "data": {
      "application/javascript": [
       "IPython.notebook.save_notebook();"
      ],
      "text/plain": [
       "<IPython.core.display.Javascript object>"
      ]
     },
     "metadata": {},
     "output_type": "display_data"
    },
    {
     "name": "stdout",
     "output_type": "stream",
     "text": [
      "Saving notebook... Saved 'project1.ipynb'.\n",
      "Submit... 100% complete\n",
      "Submission successful for user: lillyliu@berkeley.edu\n",
      "URL: https://okpy.org/cal/data8/sp20/project1/submissions/r2LY54\n",
      "\n"
     ]
    }
   ],
   "source": [
    "_ = ok.submit()"
   ]
  },
  {
   "cell_type": "markdown",
   "metadata": {
    "deletable": false,
    "editable": false
   },
   "source": [
    "## 1. Global Population Growth\n"
   ]
  },
  {
   "cell_type": "markdown",
   "metadata": {
    "deletable": false,
    "editable": false
   },
   "source": [
    "The global population of humans reached 1 billion around 1800, 3 billion around 1960, and 7 billion around 2011. The potential impact of exponential population growth has concerned scientists, economists, and politicians alike.\n",
    "\n",
    "The UN Population Division estimates that the world population will likely continue to grow throughout the 21st century, but at a slower rate, perhaps reaching 11 billion by 2100. However, the UN does not rule out scenarios of more extreme growth.\n",
    "\n",
    "<a href=\"http://www.pewresearch.org/fact-tank/2015/06/08/scientists-more-worried-than-public-about-worlds-growing-population/ft_15-06-04_popcount/\"> \n",
    " <img src=\"pew_population_projection.png\"/> \n",
    "</a>\n",
    "\n",
    "In this section, we will examine some of the factors that influence population growth and how they are changing around the world.\n",
    "\n",
    "The first table we will consider is the total population of each country over time. Run the cell below."
   ]
  },
  {
   "cell_type": "code",
   "execution_count": 53,
   "metadata": {
    "deletable": false,
    "editable": false
   },
   "outputs": [
    {
     "data": {
      "text/html": [
       "<table border=\"1\" class=\"dataframe\">\n",
       "    <thead>\n",
       "        <tr>\n",
       "            <th>geo</th> <th>time</th> <th>population_total</th>\n",
       "        </tr>\n",
       "    </thead>\n",
       "    <tbody>\n",
       "        <tr>\n",
       "            <td>abw </td> <td>1800</td> <td>19286           </td>\n",
       "        </tr>\n",
       "        <tr>\n",
       "            <td>abw </td> <td>1801</td> <td>19286           </td>\n",
       "        </tr>\n",
       "        <tr>\n",
       "            <td>abw </td> <td>1802</td> <td>19286           </td>\n",
       "        </tr>\n",
       "    </tbody>\n",
       "</table>\n",
       "<p>... (87792 rows omitted)</p>"
      ],
      "text/plain": [
       "<IPython.core.display.HTML object>"
      ]
     },
     "metadata": {},
     "output_type": "display_data"
    }
   ],
   "source": [
    "population = Table.read_table('population.csv')\n",
    "population.show(3)"
   ]
  },
  {
   "cell_type": "markdown",
   "metadata": {},
   "source": [
    "**Note:** The population csv file can also be found [here](https://github.com/open-numbers/ddf--gapminder--systema_globalis/raw/master/ddf--datapoints--population_total--by--geo--time.csv). The data for this project was downloaded in February 2017."
   ]
  },
  {
   "cell_type": "markdown",
   "metadata": {
    "deletable": false,
    "editable": false
   },
   "source": [
    "### Bangladesh\n",
    "\n",
    "In the `population` table, the `geo` column contains three-letter codes established by the [International Organization for Standardization](https://en.wikipedia.org/wiki/International_Organization_for_Standardization) (ISO) in the [Alpha-3](https://en.wikipedia.org/wiki/ISO_3166-1_alpha-3#Current_codes) standard. We will begin by taking a close look at Bangladesh. Inspect the standard to find the 3-letter code for Bangladesh."
   ]
  },
  {
   "cell_type": "markdown",
   "metadata": {
    "deletable": false,
    "editable": false
   },
   "source": [
    "**Question 1.** Create a table called `b_pop` that has two columns labeled `time` and `population_total`. The first column should contain the years from 1970 through 2015 (including both 1970 and 2015) and the second should contain the population of Bangladesh in each of those years.\n",
    "\n",
    "<!--\n",
    "BEGIN QUESTION\n",
    "name: q1_1\n",
    "-->"
   ]
  },
  {
   "cell_type": "code",
   "execution_count": 54,
   "metadata": {
    "deletable": false
   },
   "outputs": [
    {
     "data": {
      "text/html": [
       "<table border=\"1\" class=\"dataframe\">\n",
       "    <thead>\n",
       "        <tr>\n",
       "            <th>time</th> <th>population_total</th>\n",
       "        </tr>\n",
       "    </thead>\n",
       "    <tbody>\n",
       "        <tr>\n",
       "            <td>1970</td> <td>65048701        </td>\n",
       "        </tr>\n",
       "        <tr>\n",
       "            <td>1971</td> <td>66417450        </td>\n",
       "        </tr>\n",
       "        <tr>\n",
       "            <td>1972</td> <td>67578486        </td>\n",
       "        </tr>\n",
       "        <tr>\n",
       "            <td>1973</td> <td>68658472        </td>\n",
       "        </tr>\n",
       "        <tr>\n",
       "            <td>1974</td> <td>69837960        </td>\n",
       "        </tr>\n",
       "        <tr>\n",
       "            <td>1975</td> <td>71247153        </td>\n",
       "        </tr>\n",
       "        <tr>\n",
       "            <td>1976</td> <td>72930206        </td>\n",
       "        </tr>\n",
       "        <tr>\n",
       "            <td>1977</td> <td>74848466        </td>\n",
       "        </tr>\n",
       "        <tr>\n",
       "            <td>1978</td> <td>76948378        </td>\n",
       "        </tr>\n",
       "        <tr>\n",
       "            <td>1979</td> <td>79141947        </td>\n",
       "        </tr>\n",
       "    </tbody>\n",
       "</table>\n",
       "<p>... (36 rows omitted)</p>"
      ],
      "text/plain": [
       "time | population_total\n",
       "1970 | 65048701\n",
       "1971 | 66417450\n",
       "1972 | 67578486\n",
       "1973 | 68658472\n",
       "1974 | 69837960\n",
       "1975 | 71247153\n",
       "1976 | 72930206\n",
       "1977 | 74848466\n",
       "1978 | 76948378\n",
       "1979 | 79141947\n",
       "... (36 rows omitted)"
      ]
     },
     "execution_count": 54,
     "metadata": {},
     "output_type": "execute_result"
    }
   ],
   "source": [
    "b_pop = population.where(\"geo\", are.equal_to(\"bgd\")).where(\"time\", are.between(1970, 2016)).select(\"time\", \"population_total\")\n",
    "b_pop"
   ]
  },
  {
   "cell_type": "code",
   "execution_count": 55,
   "metadata": {
    "deletable": false,
    "editable": false
   },
   "outputs": [
    {
     "name": "stdout",
     "output_type": "stream",
     "text": [
      "~~~~~~~~~~~~~~~~~~~~~~~~~~~~~~~~~~~~~~~~~~~~~~~~~~~~~~~~~~~~~~~~~~~~~\n",
      "Running tests\n",
      "\n",
      "---------------------------------------------------------------------\n",
      "Test summary\n",
      "    Passed: 2\n",
      "    Failed: 0\n",
      "[ooooooooook] 100.0% passed\n",
      "\n"
     ]
    }
   ],
   "source": [
    "ok.grade(\"q1_1\");"
   ]
  },
  {
   "cell_type": "markdown",
   "metadata": {
    "deletable": false,
    "editable": false
   },
   "source": [
    "Run the following cell to create a table called `b_five` that has the population of Bangladesh every five years. At a glance, it appears that the population of Bangladesh has been growing quickly indeed!"
   ]
  },
  {
   "cell_type": "code",
   "execution_count": 56,
   "metadata": {
    "deletable": false,
    "editable": false
   },
   "outputs": [
    {
     "data": {
      "text/html": [
       "<table border=\"1\" class=\"dataframe\">\n",
       "    <thead>\n",
       "        <tr>\n",
       "            <th>time</th> <th>population_total</th>\n",
       "        </tr>\n",
       "    </thead>\n",
       "    <tbody>\n",
       "        <tr>\n",
       "            <td>1970</td> <td>65,048,701      </td>\n",
       "        </tr>\n",
       "        <tr>\n",
       "            <td>1975</td> <td>71,247,153      </td>\n",
       "        </tr>\n",
       "        <tr>\n",
       "            <td>1980</td> <td>81,364,176      </td>\n",
       "        </tr>\n",
       "        <tr>\n",
       "            <td>1985</td> <td>93,015,182      </td>\n",
       "        </tr>\n",
       "        <tr>\n",
       "            <td>1990</td> <td>105,983,136     </td>\n",
       "        </tr>\n",
       "        <tr>\n",
       "            <td>1995</td> <td>118,427,768     </td>\n",
       "        </tr>\n",
       "        <tr>\n",
       "            <td>2000</td> <td>131,280,739     </td>\n",
       "        </tr>\n",
       "        <tr>\n",
       "            <td>2005</td> <td>142,929,979     </td>\n",
       "        </tr>\n",
       "        <tr>\n",
       "            <td>2010</td> <td>151,616,777     </td>\n",
       "        </tr>\n",
       "        <tr>\n",
       "            <td>2015</td> <td>160,995,642     </td>\n",
       "        </tr>\n",
       "    </tbody>\n",
       "</table>"
      ],
      "text/plain": [
       "time | population_total\n",
       "1970 | 65,048,701\n",
       "1975 | 71,247,153\n",
       "1980 | 81,364,176\n",
       "1985 | 93,015,182\n",
       "1990 | 105,983,136\n",
       "1995 | 118,427,768\n",
       "2000 | 131,280,739\n",
       "2005 | 142,929,979\n",
       "2010 | 151,616,777\n",
       "2015 | 160,995,642"
      ]
     },
     "execution_count": 56,
     "metadata": {},
     "output_type": "execute_result"
    }
   ],
   "source": [
    "b_pop.set_format('population_total', NumberFormatter)\n",
    "\n",
    "fives = np.arange(1970, 2016, 5) # 1970, 1975, 1980, ...\n",
    "b_five = b_pop.sort('time').where('time', are.contained_in(fives))\n",
    "b_five"
   ]
  },
  {
   "cell_type": "markdown",
   "metadata": {
    "deletable": false,
    "editable": false
   },
   "source": [
    "**Question 2.** Assign `initial` to an array that contains the population for every five year interval from 1970 to 2010. Then, assign `changed` to an array that contains the population for every five year interval from 1975 to 2015. You should use the `b_five` table to create both arrays, first filtering the table to only contain the relevant years.\n",
    "\n",
    "We have provided the code below that uses  `initial` and `changed` in order to add a column to `b_five` called `annual_growth`. Don't worry about the calculation of the growth rates; run the test below to test your solution.\n",
    "\n",
    "If you are interested in how we came up with the formula for growth rates, consult the [growth rates](https://www.inferentialthinking.com/chapters/03/2/1/growth) section of the textbook.\n",
    "\n",
    "<!--\n",
    "BEGIN QUESTION\n",
    "name: q1_2\n",
    "-->"
   ]
  },
  {
   "cell_type": "code",
   "execution_count": 57,
   "metadata": {
    "deletable": false
   },
   "outputs": [
    {
     "data": {
      "text/html": [
       "<table border=\"1\" class=\"dataframe\">\n",
       "    <thead>\n",
       "        <tr>\n",
       "            <th>time</th> <th>population_total</th> <th>annual_growth</th>\n",
       "        </tr>\n",
       "    </thead>\n",
       "    <tbody>\n",
       "        <tr>\n",
       "            <td>1970</td> <td>65,048,701      </td> <td>1.84%        </td>\n",
       "        </tr>\n",
       "        <tr>\n",
       "            <td>1975</td> <td>71,247,153      </td> <td>2.69%        </td>\n",
       "        </tr>\n",
       "        <tr>\n",
       "            <td>1980</td> <td>81,364,176      </td> <td>2.71%        </td>\n",
       "        </tr>\n",
       "        <tr>\n",
       "            <td>1985</td> <td>93,015,182      </td> <td>2.64%        </td>\n",
       "        </tr>\n",
       "        <tr>\n",
       "            <td>1990</td> <td>105,983,136     </td> <td>2.25%        </td>\n",
       "        </tr>\n",
       "        <tr>\n",
       "            <td>1995</td> <td>118,427,768     </td> <td>2.08%        </td>\n",
       "        </tr>\n",
       "        <tr>\n",
       "            <td>2000</td> <td>131,280,739     </td> <td>1.71%        </td>\n",
       "        </tr>\n",
       "        <tr>\n",
       "            <td>2005</td> <td>142,929,979     </td> <td>1.19%        </td>\n",
       "        </tr>\n",
       "        <tr>\n",
       "            <td>2010</td> <td>151,616,777     </td> <td>1.21%        </td>\n",
       "        </tr>\n",
       "    </tbody>\n",
       "</table>"
      ],
      "text/plain": [
       "time | population_total | annual_growth\n",
       "1970 | 65,048,701       | 1.84%\n",
       "1975 | 71,247,153       | 2.69%\n",
       "1980 | 81,364,176       | 2.71%\n",
       "1985 | 93,015,182       | 2.64%\n",
       "1990 | 105,983,136      | 2.25%\n",
       "1995 | 118,427,768      | 2.08%\n",
       "2000 | 131,280,739      | 1.71%\n",
       "2005 | 142,929,979      | 1.19%\n",
       "2010 | 151,616,777      | 1.21%"
      ]
     },
     "execution_count": 57,
     "metadata": {},
     "output_type": "execute_result"
    }
   ],
   "source": [
    "initial = b_five.where(\"time\", are.between(1970, 2011)).column(\"population_total\")\n",
    "changed = b_five.where(\"time\", are.between(1975, 2016)).column(\"population_total\")\n",
    "\n",
    "b_1970_through_2010 = b_five.where('time', are.below_or_equal_to(2010)) \n",
    "b_five_growth = b_1970_through_2010.with_column('annual_growth', (changed/initial)**0.2-1)\n",
    "b_five_growth.set_format('annual_growth', PercentFormatter)"
   ]
  },
  {
   "cell_type": "code",
   "execution_count": 58,
   "metadata": {
    "deletable": false,
    "editable": false
   },
   "outputs": [
    {
     "name": "stdout",
     "output_type": "stream",
     "text": [
      "~~~~~~~~~~~~~~~~~~~~~~~~~~~~~~~~~~~~~~~~~~~~~~~~~~~~~~~~~~~~~~~~~~~~~\n",
      "Running tests\n",
      "\n",
      "---------------------------------------------------------------------\n",
      "Test summary\n",
      "    Passed: 2\n",
      "    Failed: 0\n",
      "[ooooooooook] 100.0% passed\n",
      "\n"
     ]
    }
   ],
   "source": [
    "ok.grade(\"q1_2\");"
   ]
  },
  {
   "cell_type": "markdown",
   "metadata": {
    "deletable": false,
    "editable": false
   },
   "source": [
    "While the population has grown every five years since 1970, the annual growth rate decreased dramatically from 1985 to 2005. Let's look at some other information in order to develop a possible explanation. Run the next cell to load three additional tables of measurements about countries over time."
   ]
  },
  {
   "cell_type": "code",
   "execution_count": 59,
   "metadata": {
    "deletable": false,
    "editable": false
   },
   "outputs": [],
   "source": [
    "life_expectancy = Table.read_table('life_expectancy.csv')\n",
    "child_mortality = Table.read_table('child_mortality.csv').relabel(2, 'child_mortality_under_5_per_1000_born')\n",
    "fertility = Table.read_table('fertility.csv')"
   ]
  },
  {
   "cell_type": "markdown",
   "metadata": {
    "deletable": false,
    "editable": false
   },
   "source": [
    "The `life_expectancy` table contains a statistic that is often used to measure how long people live, called *life expectancy at birth*. This number, for a country in a given year, [does not measure how long babies born in that year are expected to live](http://blogs.worldbank.org/opendata/what-does-life-expectancy-birth-really-mean). Instead, it measures how long someone would live, on average, if the *mortality conditions* in that year persisted throughout their lifetime. These \"mortality conditions\" describe what fraction of people at each age survived the year. So, it is a way of measuring the proportion of people that are staying alive, aggregated over different age groups in the population."
   ]
  },
  {
   "cell_type": "markdown",
   "metadata": {},
   "source": [
    "Run the following cells below to see `life_expectancy`, `child_mortality`, and `fertility`. Refer back to these tables as they will be helpful for answering further questions!"
   ]
  },
  {
   "cell_type": "code",
   "execution_count": 60,
   "metadata": {},
   "outputs": [
    {
     "data": {
      "text/html": [
       "<table border=\"1\" class=\"dataframe\">\n",
       "    <thead>\n",
       "        <tr>\n",
       "            <th>geo</th> <th>time</th> <th>life_expectancy_years</th>\n",
       "        </tr>\n",
       "    </thead>\n",
       "    <tbody>\n",
       "        <tr>\n",
       "            <td>afg </td> <td>1800</td> <td>28.21                </td>\n",
       "        </tr>\n",
       "        <tr>\n",
       "            <td>afg </td> <td>1801</td> <td>28.2                 </td>\n",
       "        </tr>\n",
       "        <tr>\n",
       "            <td>afg </td> <td>1802</td> <td>28.19                </td>\n",
       "        </tr>\n",
       "        <tr>\n",
       "            <td>afg </td> <td>1803</td> <td>28.18                </td>\n",
       "        </tr>\n",
       "        <tr>\n",
       "            <td>afg </td> <td>1804</td> <td>28.17                </td>\n",
       "        </tr>\n",
       "        <tr>\n",
       "            <td>afg </td> <td>1805</td> <td>28.16                </td>\n",
       "        </tr>\n",
       "        <tr>\n",
       "            <td>afg </td> <td>1806</td> <td>28.15                </td>\n",
       "        </tr>\n",
       "        <tr>\n",
       "            <td>afg </td> <td>1807</td> <td>28.14                </td>\n",
       "        </tr>\n",
       "        <tr>\n",
       "            <td>afg </td> <td>1808</td> <td>28.13                </td>\n",
       "        </tr>\n",
       "        <tr>\n",
       "            <td>afg </td> <td>1809</td> <td>28.12                </td>\n",
       "        </tr>\n",
       "    </tbody>\n",
       "</table>\n",
       "<p>... (43847 rows omitted)</p>"
      ],
      "text/plain": [
       "geo  | time | life_expectancy_years\n",
       "afg  | 1800 | 28.21\n",
       "afg  | 1801 | 28.2\n",
       "afg  | 1802 | 28.19\n",
       "afg  | 1803 | 28.18\n",
       "afg  | 1804 | 28.17\n",
       "afg  | 1805 | 28.16\n",
       "afg  | 1806 | 28.15\n",
       "afg  | 1807 | 28.14\n",
       "afg  | 1808 | 28.13\n",
       "afg  | 1809 | 28.12\n",
       "... (43847 rows omitted)"
      ]
     },
     "execution_count": 60,
     "metadata": {},
     "output_type": "execute_result"
    }
   ],
   "source": [
    "life_expectancy"
   ]
  },
  {
   "cell_type": "code",
   "execution_count": 61,
   "metadata": {},
   "outputs": [
    {
     "data": {
      "text/html": [
       "<table border=\"1\" class=\"dataframe\">\n",
       "    <thead>\n",
       "        <tr>\n",
       "            <th>geo</th> <th>time</th> <th>child_mortality_under_5_per_1000_born</th>\n",
       "        </tr>\n",
       "    </thead>\n",
       "    <tbody>\n",
       "        <tr>\n",
       "            <td>afg </td> <td>1800</td> <td>468.6                                </td>\n",
       "        </tr>\n",
       "        <tr>\n",
       "            <td>afg </td> <td>1801</td> <td>468.6                                </td>\n",
       "        </tr>\n",
       "        <tr>\n",
       "            <td>afg </td> <td>1802</td> <td>468.6                                </td>\n",
       "        </tr>\n",
       "        <tr>\n",
       "            <td>afg </td> <td>1803</td> <td>468.6                                </td>\n",
       "        </tr>\n",
       "        <tr>\n",
       "            <td>afg </td> <td>1804</td> <td>468.6                                </td>\n",
       "        </tr>\n",
       "        <tr>\n",
       "            <td>afg </td> <td>1805</td> <td>468.6                                </td>\n",
       "        </tr>\n",
       "        <tr>\n",
       "            <td>afg </td> <td>1806</td> <td>470                                  </td>\n",
       "        </tr>\n",
       "        <tr>\n",
       "            <td>afg </td> <td>1807</td> <td>470                                  </td>\n",
       "        </tr>\n",
       "        <tr>\n",
       "            <td>afg </td> <td>1808</td> <td>470                                  </td>\n",
       "        </tr>\n",
       "        <tr>\n",
       "            <td>afg </td> <td>1809</td> <td>470                                  </td>\n",
       "        </tr>\n",
       "    </tbody>\n",
       "</table>\n",
       "<p>... (40746 rows omitted)</p>"
      ],
      "text/plain": [
       "geo  | time | child_mortality_under_5_per_1000_born\n",
       "afg  | 1800 | 468.6\n",
       "afg  | 1801 | 468.6\n",
       "afg  | 1802 | 468.6\n",
       "afg  | 1803 | 468.6\n",
       "afg  | 1804 | 468.6\n",
       "afg  | 1805 | 468.6\n",
       "afg  | 1806 | 470\n",
       "afg  | 1807 | 470\n",
       "afg  | 1808 | 470\n",
       "afg  | 1809 | 470\n",
       "... (40746 rows omitted)"
      ]
     },
     "execution_count": 61,
     "metadata": {},
     "output_type": "execute_result"
    }
   ],
   "source": [
    "child_mortality"
   ]
  },
  {
   "cell_type": "code",
   "execution_count": 62,
   "metadata": {},
   "outputs": [
    {
     "data": {
      "text/html": [
       "<table border=\"1\" class=\"dataframe\">\n",
       "    <thead>\n",
       "        <tr>\n",
       "            <th>geo</th> <th>time</th> <th>children_per_woman_total_fertility</th>\n",
       "        </tr>\n",
       "    </thead>\n",
       "    <tbody>\n",
       "        <tr>\n",
       "            <td>afg </td> <td>1800</td> <td>7                                 </td>\n",
       "        </tr>\n",
       "        <tr>\n",
       "            <td>afg </td> <td>1801</td> <td>7                                 </td>\n",
       "        </tr>\n",
       "        <tr>\n",
       "            <td>afg </td> <td>1802</td> <td>7                                 </td>\n",
       "        </tr>\n",
       "        <tr>\n",
       "            <td>afg </td> <td>1803</td> <td>7                                 </td>\n",
       "        </tr>\n",
       "        <tr>\n",
       "            <td>afg </td> <td>1804</td> <td>7                                 </td>\n",
       "        </tr>\n",
       "        <tr>\n",
       "            <td>afg </td> <td>1805</td> <td>7                                 </td>\n",
       "        </tr>\n",
       "        <tr>\n",
       "            <td>afg </td> <td>1806</td> <td>7                                 </td>\n",
       "        </tr>\n",
       "        <tr>\n",
       "            <td>afg </td> <td>1807</td> <td>7                                 </td>\n",
       "        </tr>\n",
       "        <tr>\n",
       "            <td>afg </td> <td>1808</td> <td>7                                 </td>\n",
       "        </tr>\n",
       "        <tr>\n",
       "            <td>afg </td> <td>1809</td> <td>7                                 </td>\n",
       "        </tr>\n",
       "    </tbody>\n",
       "</table>\n",
       "<p>... (43402 rows omitted)</p>"
      ],
      "text/plain": [
       "geo  | time | children_per_woman_total_fertility\n",
       "afg  | 1800 | 7\n",
       "afg  | 1801 | 7\n",
       "afg  | 1802 | 7\n",
       "afg  | 1803 | 7\n",
       "afg  | 1804 | 7\n",
       "afg  | 1805 | 7\n",
       "afg  | 1806 | 7\n",
       "afg  | 1807 | 7\n",
       "afg  | 1808 | 7\n",
       "afg  | 1809 | 7\n",
       "... (43402 rows omitted)"
      ]
     },
     "execution_count": 62,
     "metadata": {},
     "output_type": "execute_result"
    }
   ],
   "source": [
    "fertility"
   ]
  },
  {
   "cell_type": "markdown",
   "metadata": {
    "deletable": false,
    "editable": false
   },
   "source": [
    "**Question 3.** Perhaps population is growing more slowly because people aren't living as long. Use the `life_expectancy` table to draw a line graph with the years 1970 and later on the horizontal axis that shows how the *life expectancy at birth* has changed in Bangladesh.\n",
    "\n",
    "<!--\n",
    "BEGIN QUESTION\n",
    "name: q1_3\n",
    "manual: true\n",
    "-->\n",
    "<!-- EXPORT TO PDF -->"
   ]
  },
  {
   "cell_type": "code",
   "execution_count": 63,
   "metadata": {
    "deletable": false,
    "export_pdf": true,
    "manual_grade": true,
    "manual_problem_id": "global_pop_3"
   },
   "outputs": [
    {
     "data": {
      "image/png": "[encoded data removed]",
      "text/plain": [
       "<Figure size 432x288 with 1 Axes>"
      ]
     },
     "metadata": {},
     "output_type": "display_data"
    }
   ],
   "source": [
    "#Fill in code here\n",
    "lifeUpdate = life_expectancy.where(\"time\", are.above(1969)).where(\"geo\", are.equal_to(\"bgd\"))\n",
    "lifeUpdate.plot(\"time\", \"life_expectancy_years\")"
   ]
  },
  {
   "cell_type": "markdown",
   "metadata": {
    "deletable": false,
    "editable": false
   },
   "source": [
    "**Question 4.** Assuming everything else stays the same, do the trends in life expectancy in the graph above directly explain why the population growth rate decreased from 1985 to 2010 in Bangladesh? Why or why not? \n",
    "\n",
    "Hint: What happened in Bangladesh in 1991, and does that event explain the overall change in population growth rate?\n",
    "\n",
    "<!--\n",
    "BEGIN QUESTION\n",
    "name: q1_4\n",
    "manual: true\n",
    "-->\n",
    "<!-- EXPORT TO PDF -->"
   ]
  },
  {
   "cell_type": "markdown",
   "metadata": {
    "collapsed": true,
    "deletable": false,
    "export_pdf": true,
    "manual_grade": true,
    "manual_problem_id": "global_pop_4"
   },
   "source": [
    "Increases in life expectancy can help explain why the population growth rate changed over time, but they cannot directly explain why. This is because confounding factors, like the damaged infrastructure/lack of resources after the huge cyclone that hit Bangladesh in 1991, can change the both the life expectancy at birth and the population growth rate. \n"
   ]
  },
  {
   "cell_type": "markdown",
   "metadata": {
    "deletable": false,
    "editable": false
   },
   "source": [
    "The `fertility` table contains a statistic that is often used to measure how many babies are being born, the *total fertility rate*. This number describes the [number of children a woman would have in her lifetime](https://www.measureevaluation.org/prh/rh_indicators/specific/fertility/total-fertility-rate), on average, if the current rates of birth by age of the mother persisted throughout her child bearing years, assuming she survived through age 49. "
   ]
  },
  {
   "cell_type": "markdown",
   "metadata": {
    "deletable": false,
    "editable": false
   },
   "source": [
    "**Question 5.** Write a function `fertility_over_time` that takes the Alpha-3 code of a `country` and a `start` year. It returns a two-column table with labels `Year` and `Children per woman` that can be used to generate a line chart of the country's fertility rate each year, starting at the `start` year. The plot should include the `start` year and all later years that appear in the `fertility` table. \n",
    "\n",
    "Then, in the next cell, call your `fertility_over_time` function on the Alpha-3 code for Bangladesh and the year 1970 in order to plot how Bangladesh's fertility rate has changed since 1970. Note that the function `fertility_over_time` should not return the plot itself. **The expression that draws the line plot is provided for you; please don't change it.**\n",
    "\n",
    "<!--\n",
    "BEGIN QUESTION\n",
    "name: q1_5\n",
    "-->"
   ]
  },
  {
   "cell_type": "code",
   "execution_count": 64,
   "metadata": {
    "deletable": false
   },
   "outputs": [
    {
     "data": {
      "image/png": "[encoded data removed]",
      "text/plain": [
       "<Figure size 432x288 with 1 Axes>"
      ]
     },
     "metadata": {},
     "output_type": "display_data"
    }
   ],
   "source": [
    "def fertility_over_time(country, start):\n",
    "    \"\"\"Create a two-column table that describes a country's total fertility rate each year.\"\"\"\n",
    "    country_fertility = fertility.where(\"geo\", are.equal_to(country))\n",
    "    country_fertility_after_start = country_fertility.where(\"time\", are.above(start-1))\n",
    "    cleaned_table = country_fertility_after_start.select(\"time\", \"children_per_woman_total_fertility\").relabel(\"time\", \"Year\").relabel(\"children_per_woman_total_fertility\", \"Children per woman\")\n",
    "    return cleaned_table\n",
    "\n",
    "bangladesh_code = \"bgd\"\n",
    "fertility_over_time(bangladesh_code, 1970).plot(0, 1) # You should *not* change this line."
   ]
  },
  {
   "cell_type": "code",
   "execution_count": 65,
   "metadata": {
    "deletable": false,
    "editable": false
   },
   "outputs": [
    {
     "name": "stdout",
     "output_type": "stream",
     "text": [
      "~~~~~~~~~~~~~~~~~~~~~~~~~~~~~~~~~~~~~~~~~~~~~~~~~~~~~~~~~~~~~~~~~~~~~\n",
      "Running tests\n",
      "\n",
      "---------------------------------------------------------------------\n",
      "Test summary\n",
      "    Passed: 3\n",
      "    Failed: 0\n",
      "[ooooooooook] 100.0% passed\n",
      "\n"
     ]
    }
   ],
   "source": [
    "ok.grade(\"q1_5\");"
   ]
  },
  {
   "cell_type": "markdown",
   "metadata": {
    "deletable": false,
    "editable": false
   },
   "source": [
    "**Question 6.** Assuming everything else is constant, do the trends in fertility in the graph above help directly explain why the population growth rate decreased from 1985 to 2010 in Bangladesh? Why or why not?\n",
    "\n",
    "<!--\n",
    "BEGIN QUESTION\n",
    "name: q1_6\n",
    "manual: true\n",
    "-->\n",
    "<!-- EXPORT TO PDF -->"
   ]
  },
  {
   "cell_type": "markdown",
   "metadata": {
    "deletable": false,
    "export_pdf": true,
    "manual_grade": true,
    "manual_problem_id": "global_pop_6"
   },
   "source": [
    "Yes, the trends in the fertility graph help explain why the population growth rate decreased because there are less children in each household every year (decreasing trend), meaning that women were having less kids from 1985 to 2010. If everything else is constant, the decrease in fertility as shown in the graph can directly explain why the population growth rate decreased over this time period. This is because increased birth rate is directly correlated to the growth of the population, and if everything else is constant, then increased fertility rates can directly explain this change."
   ]
  },
  {
   "cell_type": "markdown",
   "metadata": {
    "deletable": false,
    "editable": false
   },
   "source": [
    "It has been observed that lower fertility rates are often associated with lower child mortality rates. The link has been attributed to family planning: if parents can expect that their children will all survive into adulthood, then they will choose to have fewer children. We can see if this association is evident in Bangladesh by plotting the relationship between total fertility rate and [child mortality rate per 1000 children](https://en.wikipedia.org/wiki/Child_mortality)."
   ]
  },
  {
   "cell_type": "markdown",
   "metadata": {
    "deletable": false,
    "editable": false
   },
   "source": [
    "**Question 7.** Using both the `fertility` and `child_mortality` tables, draw a scatter diagram that has Bangladesh's total fertility on the horizontal axis and its child mortality on the vertical axis with one point for each year, starting with 1970.\n",
    "\n",
    "**The expression that draws the scatter diagram is provided for you; please don't change it.** Instead, create a table called `post_1969_fertility_and_child_mortality` with the appropriate column labels and data in order to generate the chart correctly. Use the label `Children per woman` to describe total fertility and the label `Child deaths per 1000 born` to describe child mortality.\n",
    "\n",
    "<!--\n",
    "BEGIN QUESTION\n",
    "name: q1_7\n",
    "manual: false\n",
    "-->"
   ]
  },
  {
   "cell_type": "code",
   "execution_count": 66,
   "metadata": {
    "deletable": false
   },
   "outputs": [
    {
     "data": {
      "image/png": "[encoded data removed]",
      "text/plain": [
       "<Figure size 360x360 with 1 Axes>"
      ]
     },
     "metadata": {},
     "output_type": "display_data"
    }
   ],
   "source": [
    "bgd_fertility = fertility.where(\"geo\", are.equal_to(\"bgd\")) #.select(\"children_per_woman_total_fertility\")\n",
    "bgd_child_mortality = child_mortality.where(\"geo\", are.equal_to(\"bgd\")) #.select(\"child_mortality_under_5_per_1000_born\")\n",
    "fertility_and_child_mortality = bgd_fertility.join(\"time\", bgd_child_mortality, \"time\")\n",
    "fertility_and_child_mortality\n",
    "post_1969_fertility_and_child_mortality = fertility_and_child_mortality.where(\"time\", are.between(1970, 2016)).relabel(\"children_per_woman_total_fertility\", \"Children per woman\").relabel(\"child_mortality_under_5_per_1000_born\", \"Child deaths per 1000 born\")\n",
    "post_1969_fertility_and_child_mortality.scatter('Children per woman', 'Child deaths per 1000 born') # You should *not* change this line."
   ]
  },
  {
   "cell_type": "code",
   "execution_count": 67,
   "metadata": {
    "deletable": false,
    "editable": false
   },
   "outputs": [
    {
     "name": "stdout",
     "output_type": "stream",
     "text": [
      "~~~~~~~~~~~~~~~~~~~~~~~~~~~~~~~~~~~~~~~~~~~~~~~~~~~~~~~~~~~~~~~~~~~~~\n",
      "Running tests\n",
      "\n",
      "---------------------------------------------------------------------\n",
      "Test summary\n",
      "    Passed: 2\n",
      "    Failed: 0\n",
      "[ooooooooook] 100.0% passed\n",
      "\n"
     ]
    }
   ],
   "source": [
    "ok.grade(\"q1_7\");"
   ]
  },
  {
   "cell_type": "markdown",
   "metadata": {
    "deletable": false,
    "editable": false
   },
   "source": [
    "**Question 8.** In one or two sentences, describe the association (if any) that is illustrated by this scatter diagram. Does the diagram show that reduced child mortality causes parents to choose to have fewer children?\n",
    "\n",
    "<!--\n",
    "BEGIN QUESTION\n",
    "name: q1_8\n",
    "manual: true\n",
    "-->\n",
    "<!-- EXPORT TO PDF -->"
   ]
  },
  {
   "cell_type": "markdown",
   "metadata": {
    "deletable": false,
    "export_pdf": true,
    "manual_grade": true,
    "manual_problem_id": "global_pop_8"
   },
   "source": [
    "While there is a strong positive association between the number of children per woman and the number of deaths per 1000 born, this does not necessarily show that reduced child mortality causes parents to choose to have fewer children. When the number of children increases, the number of child deaths also increase and when the number of children decreases, the number of child deaths also decreases; this association does not imply causation. Therefore, due to confounding factors, we cannot conclude that one directly causes the other, as there may be confounding factors."
   ]
  },
  {
   "cell_type": "markdown",
   "metadata": {},
   "source": [
    "### Checkpoint (due Friday 2/21)\n",
    "#### Congratulations, you have reached the checkpoint! Run the submit cell below to generate the checkpoint submission."
   ]
  },
  {
   "cell_type": "code",
   "execution_count": 68,
   "metadata": {},
   "outputs": [
    {
     "name": "stdout",
     "output_type": "stream",
     "text": [
      "\n",
      "Open the following URL:\n",
      "\n",
      "https://okpy.org/client/login/\n",
      "\n",
      "After logging in, copy the code from the web page and paste it into the box.\n",
      "Then press the \"Enter\" key on your keyboard.\n",
      "\n",
      "Paste your code here: mRd2pmoxyxudDEkdDUPZKxr9MRPFpe\n",
      "Successfully logged in as lillyliu@berkeley.edu\n"
     ]
    },
    {
     "data": {
      "application/javascript": [
       "IPython.notebook.save_checkpoint();"
      ],
      "text/plain": [
       "<IPython.core.display.Javascript object>"
      ]
     },
     "metadata": {},
     "output_type": "display_data"
    },
    {
     "data": {
      "application/javascript": [
       "IPython.notebook.save_notebook();"
      ],
      "text/plain": [
       "<IPython.core.display.Javascript object>"
      ]
     },
     "metadata": {},
     "output_type": "display_data"
    },
    {
     "name": "stdout",
     "output_type": "stream",
     "text": [
      "Saving notebook... Saved 'project1.ipynb'.\n",
      "Submit... 100% complete\n",
      "Submission successful for user: lillyliu@berkeley.edu\n",
      "URL: https://okpy.org/cal/data8/sp20/project1/submissions/nREzXE\n",
      "\n"
     ]
    }
   ],
   "source": [
    "ok.auth(force=True)\n",
    "_ = ok.submit()"
   ]
  },
  {
   "cell_type": "markdown",
   "metadata": {
    "deletable": false,
    "editable": false
   },
   "source": [
    "### The World\n",
    "\n",
    "The change observed in Bangladesh since 1970 can also be observed in many other developing countries: health services improve, life expectancy increases, and child mortality decreases. At the same time, the fertility rate often plummets, and so the population growth rate decreases despite increasing longevity."
   ]
  },
  {
   "cell_type": "markdown",
   "metadata": {
    "deletable": false,
    "editable": false
   },
   "source": [
    "Run the cell below to generate two overlaid histograms, one for 1960 and one for 2010, that show the distributions of total fertility rates for these two years among all 201 countries in the `fertility` table."
   ]
  },
  {
   "cell_type": "code",
   "execution_count": 69,
   "metadata": {
    "deletable": false
   },
   "outputs": [
    {
     "data": {
      "image/png": "[encoded data removed]",
      "text/plain": [
       "<Figure size 432x288 with 1 Axes>"
      ]
     },
     "metadata": {},
     "output_type": "display_data"
    }
   ],
   "source": [
    "Table().with_columns(\n",
    "    '1960', fertility.where('time', 1960).column(2),\n",
    "    '2010', fertility.where('time', 2010).column(2)\n",
    ").hist(bins=np.arange(0, 10, 0.5), unit='child per woman')\n",
    "_ = plots.xlabel('Children per woman')\n",
    "_ = plots.ylabel('Percent per children per woman')\n",
    "_ = plots.xticks(np.arange(10))"
   ]
  },
  {
   "cell_type": "markdown",
   "metadata": {
    "deletable": false,
    "editable": false
   },
   "source": [
    "**Question 9.** Assign `fertility_statements` to an array of the numbers of each statement below that can be correctly inferred from these histograms.\n",
    "1. About the same number of countries had a fertility rate between 3.5 and 4.5 in both 1960 and 2010.\n",
    "1. In 2010, about 40% of countries had a fertility rate between 1.5 and 2.\n",
    "1. In 1960, less than 20% of countries had a fertility rate below 3.\n",
    "1. More countries had a fertility rate above 3 in 1960 than in 2010.\n",
    "1. At least half of countries had a fertility rate between 5 and 8 in 1960.\n",
    "1. At least half of countries had a fertility rate below 3 in 2010.\n",
    "\n",
    "<!--\n",
    "BEGIN QUESTION\n",
    "name: q1_9\n",
    "-->"
   ]
  },
  {
   "cell_type": "code",
   "execution_count": 70,
   "metadata": {
    "deletable": false
   },
   "outputs": [],
   "source": [
    "fertility_statements = [1, 3, 4, 5, 6]"
   ]
  },
  {
   "cell_type": "code",
   "execution_count": 71,
   "metadata": {
    "deletable": false,
    "editable": false
   },
   "outputs": [
    {
     "name": "stdout",
     "output_type": "stream",
     "text": [
      "~~~~~~~~~~~~~~~~~~~~~~~~~~~~~~~~~~~~~~~~~~~~~~~~~~~~~~~~~~~~~~~~~~~~~\n",
      "Running tests\n",
      "\n",
      "---------------------------------------------------------------------\n",
      "Test summary\n",
      "    Passed: 1\n",
      "    Failed: 0\n",
      "[ooooooooook] 100.0% passed\n",
      "\n"
     ]
    }
   ],
   "source": [
    "ok.grade(\"q1_9\");"
   ]
  },
  {
   "cell_type": "markdown",
   "metadata": {
    "deletable": false,
    "editable": false
   },
   "source": [
    "**Question 10.** Draw a line plot of the world population from 1800 through 2005. The world population is the sum of all the country's populations. \n",
    "\n",
    "<!--\n",
    "BEGIN QUESTION\n",
    "name: q1_10\n",
    "manual: true\n",
    "-->\n",
    "<!-- EXPORT TO PDF -->"
   ]
  },
  {
   "cell_type": "code",
   "execution_count": 72,
   "metadata": {
    "deletable": false,
    "export_pdf": true,
    "manual_grade": true,
    "manual_problem_id": "global_pop_10"
   },
   "outputs": [
    {
     "data": {
      "image/png": "[encoded data removed]",
      "text/plain": [
       "<Figure size 432x288 with 1 Axes>"
      ]
     },
     "metadata": {},
     "output_type": "display_data"
    }
   ],
   "source": [
    "#Fill in code here\n",
    "new_pop = population.where(\"time\", are.between(1800, 2006)).group(\"time\", sum)\n",
    "new_pop.plot(\"time\", \"population_total sum\")"
   ]
  },
  {
   "cell_type": "markdown",
   "metadata": {
    "deletable": false,
    "editable": false
   },
   "source": [
    "**Question 11.** Create a function `stats_for_year` that takes a `year` and returns a table of statistics. The table it returns should have four columns: `geo`, `population_total`, `children_per_woman_total_fertility`, and `child_mortality_under_5_per_1000_born`. Each row should contain one Alpha-3 country code and three statistics: population, fertility rate, and child mortality for that `year` from the `population`, `fertility` and `child_mortality` tables. Only include rows for which all three statistics are available for the country and year.\n",
    "\n",
    "In addition, restrict the result to country codes that appears in `big_50`, an array of the 50 most populous countries in 2010. This restriction will speed up computations later in the project.\n",
    "\n",
    "After you write `stats_for_year`, try calling `stats_for_year` on any year between 1960 and 2010. Try to understand the output of stats_for_year.\n",
    "\n",
    "*Hint*: The tests for this question are quite comprehensive, so if you pass the tests, your function is probably correct. However, without calling your function yourself and looking at the output, it will be very difficult to understand any problems you have, so try your best to write the function correctly and check that it works before you rely on the `ok` tests to confirm your work.\n",
    "\n",
    "<!--\n",
    "BEGIN QUESTION\n",
    "name: q1_11\n",
    "manual: false\n",
    "-->"
   ]
  },
  {
   "cell_type": "code",
   "execution_count": 73,
   "metadata": {
    "deletable": false
   },
   "outputs": [
    {
     "data": {
      "text/html": [
       "<table border=\"1\" class=\"dataframe\">\n",
       "    <thead>\n",
       "        <tr>\n",
       "            <th>geo</th> <th>population_total</th> <th>children_per_woman_total_fertility</th> <th>child_mortality_under_5_per_1000_born</th>\n",
       "        </tr>\n",
       "    </thead>\n",
       "    <tbody>\n",
       "        <tr>\n",
       "            <td>afg </td> <td>20531160        </td> <td>7.62                              </td> <td>133.8                                </td>\n",
       "        </tr>\n",
       "        <tr>\n",
       "            <td>arg </td> <td>37471535        </td> <td>2.42                              </td> <td>19.7                                 </td>\n",
       "        </tr>\n",
       "        <tr>\n",
       "            <td>bgd </td> <td>133776064       </td> <td>3.01                              </td> <td>83.5                                 </td>\n",
       "        </tr>\n",
       "        <tr>\n",
       "            <td>bra </td> <td>178419396       </td> <td>2.32                              </td> <td>30.1                                 </td>\n",
       "        </tr>\n",
       "        <tr>\n",
       "            <td>can </td> <td>30991344        </td> <td>1.54                              </td> <td>6.2                                  </td>\n",
       "        </tr>\n",
       "        <tr>\n",
       "            <td>chn </td> <td>1277188787      </td> <td>1.46                              </td> <td>34.3                                 </td>\n",
       "        </tr>\n",
       "        <tr>\n",
       "            <td>cod </td> <td>49449015        </td> <td>7.03                              </td> <td>156.8                                </td>\n",
       "        </tr>\n",
       "        <tr>\n",
       "            <td>col </td> <td>40988909        </td> <td>2.6                               </td> <td>24.3                                 </td>\n",
       "        </tr>\n",
       "        <tr>\n",
       "            <td>deu </td> <td>81809438        </td> <td>1.35                              </td> <td>5.2                                  </td>\n",
       "        </tr>\n",
       "        <tr>\n",
       "            <td>dza </td> <td>31590320        </td> <td>2.44                              </td> <td>38.9                                 </td>\n",
       "        </tr>\n",
       "    </tbody>\n",
       "</table>\n",
       "<p>... (40 rows omitted)</p>"
      ],
      "text/plain": [
       "geo  | population_total | children_per_woman_total_fertility | child_mortality_under_5_per_1000_born\n",
       "afg  | 20531160         | 7.62                               | 133.8\n",
       "arg  | 37471535         | 2.42                               | 19.7\n",
       "bgd  | 133776064        | 3.01                               | 83.5\n",
       "bra  | 178419396        | 2.32                               | 30.1\n",
       "can  | 30991344         | 1.54                               | 6.2\n",
       "chn  | 1277188787       | 1.46                               | 34.3\n",
       "cod  | 49449015         | 7.03                               | 156.8\n",
       "col  | 40988909         | 2.6                                | 24.3\n",
       "deu  | 81809438         | 1.35                               | 5.2\n",
       "dza  | 31590320         | 2.44                               | 38.9\n",
       "... (40 rows omitted)"
      ]
     },
     "execution_count": 73,
     "metadata": {},
     "output_type": "execute_result"
    }
   ],
   "source": [
    "big_50 = population.where('time', are.equal_to(2010)).sort(\"population_total\", descending=True).take(np.arange(50)).column('geo')\n",
    "population_of_big_50 = population.where('time', are.above(1959)).where('geo', are.contained_in(big_50))\n",
    "\n",
    "def stats_for_year(year):\n",
    "    \"\"\"Return a table of the stats for each country that year.\"\"\"\n",
    "    p = population_of_big_50.where('time', are.equal_to(year)).drop('time')\n",
    "    f = fertility.where('time', are.equal_to(year)).drop('time')\n",
    "    c = child_mortality.where('time', are.equal_to(year)).drop('time')\n",
    "    \n",
    "    new_table = p.join(\"geo\", f).join(\"geo\", c)\n",
    "    return new_table\n",
    "\n",
    "stats_for_year(2001)"
   ]
  },
  {
   "cell_type": "code",
   "execution_count": 74,
   "metadata": {
    "deletable": false,
    "editable": false
   },
   "outputs": [
    {
     "name": "stdout",
     "output_type": "stream",
     "text": [
      "~~~~~~~~~~~~~~~~~~~~~~~~~~~~~~~~~~~~~~~~~~~~~~~~~~~~~~~~~~~~~~~~~~~~~\n",
      "Running tests\n",
      "\n",
      "---------------------------------------------------------------------\n",
      "Test summary\n",
      "    Passed: 4\n",
      "    Failed: 0\n",
      "[ooooooooook] 100.0% passed\n",
      "\n"
     ]
    }
   ],
   "source": [
    "ok.grade(\"q1_11\");"
   ]
  },
  {
   "cell_type": "markdown",
   "metadata": {
    "deletable": false,
    "editable": false
   },
   "source": [
    "**Question 12.** Create a table called `pop_by_decade` with two columns called `decade` and `population`. It has a row for each `year` since 1960 that starts a decade. The `population` column contains the total population of all countries included in the result of `stats_for_year(year)` for the first `year` of the decade. For example, 1960 is the first year of the 1960's decade. You should see that these countries contain most of the world's population.\n",
    "\n",
    "*Hint:* One approach is to define a function `pop_for_year` that computes this total population, then `apply` it to the `decade` column.  The `stats_for_year` function from the previous question may be useful here.\n",
    "\n",
    "This first test is just a sanity check for your helper function if you choose to use it. You will not lose points for not implementing the function `pop_for_year`.\n",
    "\n",
    "**Note:** The cell where you will generate the `pop_by_decade` table is below the cell where you can choose to define the helper function `pop_for_year`. You should define your `pop_by_decade` table in the cell that starts with the table `decades` being defined. \n",
    "\n",
    "<!--\n",
    "BEGIN QUESTION\n",
    "name: q1_12_0\n",
    "manual: false\n",
    "points: 0\n",
    "-->"
   ]
  },
  {
   "cell_type": "code",
   "execution_count": 75,
   "metadata": {},
   "outputs": [],
   "source": [
    "def pop_for_year(year):\n",
    "    a = stats_for_year(year).column(\"population_total\")\n",
    "    return sum(a)"
   ]
  },
  {
   "cell_type": "code",
   "execution_count": 76,
   "metadata": {
    "deletable": false,
    "editable": false
   },
   "outputs": [
    {
     "name": "stdout",
     "output_type": "stream",
     "text": [
      "~~~~~~~~~~~~~~~~~~~~~~~~~~~~~~~~~~~~~~~~~~~~~~~~~~~~~~~~~~~~~~~~~~~~~\n",
      "Running tests\n",
      "\n",
      "---------------------------------------------------------------------\n",
      "Test summary\n",
      "    Passed: 3\n",
      "    Failed: 0\n",
      "[ooooooooook] 100.0% passed\n",
      "\n"
     ]
    }
   ],
   "source": [
    "ok.grade(\"q1_12_0\");"
   ]
  },
  {
   "cell_type": "markdown",
   "metadata": {
    "deletable": false,
    "editable": false
   },
   "source": [
    "Now that you've defined your helper function (if you've chosen to do so), define the `pop_by_decade` table.\n",
    "\n",
    "<!--\n",
    "BEGIN QUESTION\n",
    "name: q1_12\n",
    "manual: false\n",
    "-->"
   ]
  },
  {
   "cell_type": "code",
   "execution_count": 77,
   "metadata": {
    "deletable": false
   },
   "outputs": [
    {
     "data": {
      "text/html": [
       "<table border=\"1\" class=\"dataframe\">\n",
       "    <thead>\n",
       "        <tr>\n",
       "            <th>decade</th> <th>population</th>\n",
       "        </tr>\n",
       "    </thead>\n",
       "    <tbody>\n",
       "        <tr>\n",
       "            <td>1960  </td> <td>2,624,944,597</td>\n",
       "        </tr>\n",
       "        <tr>\n",
       "            <td>1970  </td> <td>3,211,487,418</td>\n",
       "        </tr>\n",
       "        <tr>\n",
       "            <td>1980  </td> <td>3,880,722,003</td>\n",
       "        </tr>\n",
       "        <tr>\n",
       "            <td>1990  </td> <td>4,648,434,558</td>\n",
       "        </tr>\n",
       "        <tr>\n",
       "            <td>2000  </td> <td>5,367,553,063</td>\n",
       "        </tr>\n",
       "        <tr>\n",
       "            <td>2010  </td> <td>6,040,810,517</td>\n",
       "        </tr>\n",
       "    </tbody>\n",
       "</table>"
      ],
      "text/plain": [
       "decade | population\n",
       "1960   | 2,624,944,597\n",
       "1970   | 3,211,487,418\n",
       "1980   | 3,880,722,003\n",
       "1990   | 4,648,434,558\n",
       "2000   | 5,367,553,063\n",
       "2010   | 6,040,810,517"
      ]
     },
     "execution_count": 77,
     "metadata": {},
     "output_type": "execute_result"
    }
   ],
   "source": [
    "decades = Table().with_column('decade', np.arange(1960, 2011, 10))\n",
    "pop_by_decade = decades.apply(pop_for_year, \"decade\")\n",
    "pop_by_decade = decades.with_columns(\"population\", pop_by_decade)\n",
    "pop_by_decade.set_format(1, NumberFormatter)"
   ]
  },
  {
   "cell_type": "code",
   "execution_count": 78,
   "metadata": {
    "deletable": false,
    "editable": false
   },
   "outputs": [
    {
     "name": "stdout",
     "output_type": "stream",
     "text": [
      "~~~~~~~~~~~~~~~~~~~~~~~~~~~~~~~~~~~~~~~~~~~~~~~~~~~~~~~~~~~~~~~~~~~~~\n",
      "Running tests\n",
      "\n",
      "---------------------------------------------------------------------\n",
      "Test summary\n",
      "    Passed: 2\n",
      "    Failed: 0\n",
      "[ooooooooook] 100.0% passed\n",
      "\n"
     ]
    }
   ],
   "source": [
    "ok.grade(\"q1_12\");"
   ]
  },
  {
   "cell_type": "markdown",
   "metadata": {
    "deletable": false,
    "editable": false
   },
   "source": [
    "The `countries` table describes various characteristics of countries. The `country` column contains the same codes as the `geo` column in each of the other data tables (`population`, `fertility`, and `child_mortality`). The `world_6region` column classifies each country into a region of the world. Run the cell below to inspect the data."
   ]
  },
  {
   "cell_type": "code",
   "execution_count": 79,
   "metadata": {},
   "outputs": [
    {
     "data": {
      "text/html": [
       "<table border=\"1\" class=\"dataframe\">\n",
       "    <thead>\n",
       "        <tr>\n",
       "            <th>country</th> <th>name</th> <th>world_6region</th>\n",
       "        </tr>\n",
       "    </thead>\n",
       "    <tbody>\n",
       "        <tr>\n",
       "            <td>afg      </td> <td>Afghanistan          </td> <td>south_asia              </td>\n",
       "        </tr>\n",
       "        <tr>\n",
       "            <td>akr_a_dhe</td> <td>Akrotiri and Dhekelia</td> <td>europe_central_asia     </td>\n",
       "        </tr>\n",
       "        <tr>\n",
       "            <td>alb      </td> <td>Albania              </td> <td>europe_central_asia     </td>\n",
       "        </tr>\n",
       "        <tr>\n",
       "            <td>dza      </td> <td>Algeria              </td> <td>middle_east_north_africa</td>\n",
       "        </tr>\n",
       "        <tr>\n",
       "            <td>asm      </td> <td>American Samoa       </td> <td>east_asia_pacific       </td>\n",
       "        </tr>\n",
       "        <tr>\n",
       "            <td>and      </td> <td>Andorra              </td> <td>europe_central_asia     </td>\n",
       "        </tr>\n",
       "        <tr>\n",
       "            <td>ago      </td> <td>Angola               </td> <td>sub_saharan_africa      </td>\n",
       "        </tr>\n",
       "        <tr>\n",
       "            <td>aia      </td> <td>Anguilla             </td> <td>america                 </td>\n",
       "        </tr>\n",
       "        <tr>\n",
       "            <td>atg      </td> <td>Antigua and Barbuda  </td> <td>america                 </td>\n",
       "        </tr>\n",
       "        <tr>\n",
       "            <td>arg      </td> <td>Argentina            </td> <td>america                 </td>\n",
       "        </tr>\n",
       "    </tbody>\n",
       "</table>\n",
       "<p>... (245 rows omitted)</p>"
      ],
      "text/plain": [
       "country   | name                  | world_6region\n",
       "afg       | Afghanistan           | south_asia\n",
       "akr_a_dhe | Akrotiri and Dhekelia | europe_central_asia\n",
       "alb       | Albania               | europe_central_asia\n",
       "dza       | Algeria               | middle_east_north_africa\n",
       "asm       | American Samoa        | east_asia_pacific\n",
       "and       | Andorra               | europe_central_asia\n",
       "ago       | Angola                | sub_saharan_africa\n",
       "aia       | Anguilla              | america\n",
       "atg       | Antigua and Barbuda   | america\n",
       "arg       | Argentina             | america\n",
       "... (245 rows omitted)"
      ]
     },
     "execution_count": 79,
     "metadata": {},
     "output_type": "execute_result"
    }
   ],
   "source": [
    "countries = Table.read_table('countries.csv').where('country', are.contained_in(population.group('geo').column('geo')))\n",
    "countries.select('country', 'name', 'world_6region')"
   ]
  },
  {
   "cell_type": "markdown",
   "metadata": {
    "deletable": false,
    "editable": false
   },
   "source": [
    "**Question 13.** Create a table called `region_counts` that has two columns, `region` and `count`. It should contain two columns: a region column and a count column that contains the number of countries in each region that appear in the result of `stats_for_year(1960)`. For example, one row would have `south_asia` as its `world_6region` value and an integer as its `count` value: the number of large South Asian countries for which we have population, fertility, and child mortality numbers from 1960.\n",
    "\n",
    "<!--\n",
    "BEGIN QUESTION\n",
    "name: q1_13\n",
    "-->"
   ]
  },
  {
   "cell_type": "code",
   "execution_count": 80,
   "metadata": {
    "deletable": false
   },
   "outputs": [
    {
     "data": {
      "text/html": [
       "<table border=\"1\" class=\"dataframe\">\n",
       "    <thead>\n",
       "        <tr>\n",
       "            <th>region</th> <th>count</th>\n",
       "        </tr>\n",
       "    </thead>\n",
       "    <tbody>\n",
       "        <tr>\n",
       "            <td>america                 </td> <td>8    </td>\n",
       "        </tr>\n",
       "        <tr>\n",
       "            <td>east_asia_pacific       </td> <td>10   </td>\n",
       "        </tr>\n",
       "        <tr>\n",
       "            <td>europe_central_asia     </td> <td>10   </td>\n",
       "        </tr>\n",
       "        <tr>\n",
       "            <td>middle_east_north_africa</td> <td>7    </td>\n",
       "        </tr>\n",
       "        <tr>\n",
       "            <td>south_asia              </td> <td>5    </td>\n",
       "        </tr>\n",
       "        <tr>\n",
       "            <td>sub_saharan_africa      </td> <td>10   </td>\n",
       "        </tr>\n",
       "    </tbody>\n",
       "</table>"
      ],
      "text/plain": [
       "region                   | count\n",
       "america                  | 8\n",
       "east_asia_pacific        | 10\n",
       "europe_central_asia      | 10\n",
       "middle_east_north_africa | 7\n",
       "south_asia               | 5\n",
       "sub_saharan_africa       | 10"
      ]
     },
     "execution_count": 80,
     "metadata": {},
     "output_type": "execute_result"
    }
   ],
   "source": [
    "stat = stats_for_year(1960)\n",
    "g = stat.column(\"geo\")\n",
    "region_counts = countries.where(\"country\", are.contained_in(g)).select(\"world_6region\").group(\"world_6region\").relabel(\"world_6region\", \"region\")\n",
    "region_counts"
   ]
  },
  {
   "cell_type": "code",
   "execution_count": 81,
   "metadata": {
    "deletable": false,
    "editable": false
   },
   "outputs": [
    {
     "name": "stdout",
     "output_type": "stream",
     "text": [
      "~~~~~~~~~~~~~~~~~~~~~~~~~~~~~~~~~~~~~~~~~~~~~~~~~~~~~~~~~~~~~~~~~~~~~\n",
      "Running tests\n",
      "\n",
      "---------------------------------------------------------------------\n",
      "Test summary\n",
      "    Passed: 2\n",
      "    Failed: 0\n",
      "[ooooooooook] 100.0% passed\n",
      "\n"
     ]
    }
   ],
   "source": [
    "ok.grade(\"q1_13\");"
   ]
  },
  {
   "cell_type": "markdown",
   "metadata": {
    "deletable": false,
    "editable": false
   },
   "source": [
    "The following scatter diagram compares total fertility rate and child mortality rate for each country in 1960. The area of each dot represents the population of the country, and the color represents its region of the world. Run the cell. Do you think you can identify any of the dots?"
   ]
  },
  {
   "cell_type": "code",
   "execution_count": 82,
   "metadata": {
    "deletable": false
   },
   "outputs": [
    {
     "data": {
      "image/png": "[encoded data removed]",
      "text/plain": [
       "<Figure size 360x360 with 1 Axes>"
      ]
     },
     "metadata": {},
     "output_type": "display_data"
    }
   ],
   "source": [
    "from functools import lru_cache as cache\n",
    "\n",
    "# This cache annotation makes sure that if the same year\n",
    "# is passed as an argument twice, the work of computing\n",
    "# the result is only carried out once.\n",
    "@cache(None)\n",
    "def stats_relabeled(year):\n",
    "    \"\"\"Relabeled and cached version of stats_for_year.\"\"\"\n",
    "    return stats_for_year(year).relabel(2, 'Children per woman').relabel(3, 'Child deaths per 1000 born')\n",
    "\n",
    "def fertility_vs_child_mortality(year):\n",
    "    \"\"\"Draw a color scatter diagram comparing child mortality and fertility.\"\"\"\n",
    "    with_region = stats_relabeled(year).join('geo', countries.select('country', 'world_6region'), 'country')\n",
    "    with_region.scatter(2, 3, sizes=1, group=4, s=500)\n",
    "    plots.xlim(0,10)\n",
    "    plots.ylim(-50, 500)\n",
    "    plots.title(year)\n",
    "\n",
    "fertility_vs_child_mortality(1960)"
   ]
  },
  {
   "cell_type": "markdown",
   "metadata": {
    "deletable": false,
    "editable": false
   },
   "source": [
    "**Question 14.** Assign `scatter_statements` to an array of the numbers of each statement below that can be inferred from this scatter diagram for 1960. \n",
    "1. As a whole, the `europe_central_asia` region had the lowest child mortality rate.\n",
    "1. The lowest child mortality rate of any country was from an `east_asia_pacific` country.\n",
    "1. Most countries had a fertility rate above 5.\n",
    "1. There was an association between child mortality and fertility.\n",
    "1. The two largest countries by population also had the two highest child mortality rate.\n",
    "\n",
    "<!--\n",
    "BEGIN QUESTION\n",
    "name: q1_14\n",
    "-->"
   ]
  },
  {
   "cell_type": "code",
   "execution_count": 83,
   "metadata": {
    "deletable": false
   },
   "outputs": [],
   "source": [
    "scatter_statements = [1, 3, 4]"
   ]
  },
  {
   "cell_type": "code",
   "execution_count": 84,
   "metadata": {
    "deletable": false,
    "editable": false
   },
   "outputs": [
    {
     "name": "stdout",
     "output_type": "stream",
     "text": [
      "~~~~~~~~~~~~~~~~~~~~~~~~~~~~~~~~~~~~~~~~~~~~~~~~~~~~~~~~~~~~~~~~~~~~~\n",
      "Running tests\n",
      "\n",
      "---------------------------------------------------------------------\n",
      "Test summary\n",
      "    Passed: 1\n",
      "    Failed: 0\n",
      "[ooooooooook] 100.0% passed\n",
      "\n"
     ]
    }
   ],
   "source": [
    "ok.grade(\"q1_14\");"
   ]
  },
  {
   "cell_type": "markdown",
   "metadata": {
    "deletable": false
   },
   "source": [
    "The result of the cell below is interactive. Drag the slider to the right to see how countries have changed over time. You'll find that the great divide between so-called \"Western\" and \"developing\" countries that existed in the 1960's has nearly disappeared. This shift in fertility rates is the reason that the global population is expected to grow more slowly in the 21st century than it did in the 19th and 20th centuries.\n",
    "\n",
    "**Note:** Don't worry if a red warning pops up when running the cell below. You'll still be able to run the cell!"
   ]
  },
  {
   "cell_type": "code",
   "execution_count": 107,
   "metadata": {
    "deletable": false,
    "scrolled": false
   },
   "outputs": [
    {
     "data": {
      "application/vnd.jupyter.widget-view+json": {
       "model_id": "294017bc8f84476d865201e274ddfaa6",
       "version_major": 2,
       "version_minor": 0
      },
      "text/plain": [
       "interactive(children=(IntSlider(value=1960, description='year', max=2015, min=1960), Output()), _dom_classes=(…"
      ]
     },
     "metadata": {},
     "output_type": "display_data"
    }
   ],
   "source": [
    "import ipywidgets as widgets\n",
    "\n",
    "# This part takes a few minutes to run because it \n",
    "# computes 55 tables in advance: one for each year.\n",
    "Table().with_column('Year', np.arange(1960, 2016)).apply(stats_relabeled, 'Year')\n",
    "\n",
    "_ = widgets.interact(fertility_vs_child_mortality, \n",
    "                     year=widgets.IntSlider(min=1960, max=2015, value=1960))"
   ]
  },
  {
   "cell_type": "markdown",
   "metadata": {
    "deletable": false,
    "editable": false
   },
   "source": [
    "Now is a great time to take a break and watch the same data presented by [Hans Rosling in a 2010 TEDx talk](https://www.gapminder.org/videos/reducing-child-mortality-a-moral-and-environmental-imperative) with smoother animation and witty commentary."
   ]
  },
  {
   "cell_type": "markdown",
   "metadata": {
    "deletable": false,
    "editable": false
   },
   "source": [
    "## 2. Global Poverty\n"
   ]
  },
  {
   "cell_type": "markdown",
   "metadata": {
    "deletable": false,
    "editable": false
   },
   "source": [
    "In 1800, 85% of the world's 1 billion people lived in *extreme poverty*, defined by the United Nations as \"a condition characterized by severe deprivation of basic human needs, including food, safe drinking water, sanitation facilities, health, shelter, education and information.\" A common measure of extreme poverty is a person living on less than \\$1.25 per day.\n",
    "\n",
    "In 2018, the proportion of people living in extreme poverty was estimated to be 8%. Although the world rate of extreme poverty has declined consistently for hundreds of years, the number of people living in extreme poverty is still over 600 million. The United Nations recently adopted an [ambitious goal](http://www.un.org/sustainabledevelopment/poverty/): \"By 2030, eradicate extreme poverty for all people everywhere.\"\n",
    "In this section, we will examine extreme poverty trends around the world."
   ]
  },
  {
   "cell_type": "markdown",
   "metadata": {
    "deletable": false,
    "editable": false
   },
   "source": [
    "First, load the population and poverty rate by country and year and the country descriptions. While the `population` table has values for every recent year for many countries, the `poverty` table only includes certain years for each country in which a measurement of the rate of extreme poverty was available."
   ]
  },
  {
   "cell_type": "code",
   "execution_count": 86,
   "metadata": {},
   "outputs": [
    {
     "data": {
      "text/html": [
       "<table border=\"1\" class=\"dataframe\">\n",
       "    <thead>\n",
       "        <tr>\n",
       "            <th>geo</th> <th>time</th> <th>population_total</th>\n",
       "        </tr>\n",
       "    </thead>\n",
       "    <tbody>\n",
       "        <tr>\n",
       "            <td>abw </td> <td>1800</td> <td>19286           </td>\n",
       "        </tr>\n",
       "        <tr>\n",
       "            <td>abw </td> <td>1801</td> <td>19286           </td>\n",
       "        </tr>\n",
       "        <tr>\n",
       "            <td>abw </td> <td>1802</td> <td>19286           </td>\n",
       "        </tr>\n",
       "    </tbody>\n",
       "</table>\n",
       "<p>... (87792 rows omitted)</p>"
      ],
      "text/plain": [
       "<IPython.core.display.HTML object>"
      ]
     },
     "metadata": {},
     "output_type": "display_data"
    },
    {
     "data": {
      "text/html": [
       "<table border=\"1\" class=\"dataframe\">\n",
       "    <thead>\n",
       "        <tr>\n",
       "            <th>geo</th> <th>time</th> <th>extreme_poverty_percent_people_below_125_a_day</th>\n",
       "        </tr>\n",
       "    </thead>\n",
       "    <tbody>\n",
       "        <tr>\n",
       "            <td>alb </td> <td>1996</td> <td>0.2                                           </td>\n",
       "        </tr>\n",
       "        <tr>\n",
       "            <td>alb </td> <td>2002</td> <td>0.73                                          </td>\n",
       "        </tr>\n",
       "        <tr>\n",
       "            <td>alb </td> <td>2004</td> <td>0.53                                          </td>\n",
       "        </tr>\n",
       "    </tbody>\n",
       "</table>\n",
       "<p>... (1096 rows omitted)</p>"
      ],
      "text/plain": [
       "<IPython.core.display.HTML object>"
      ]
     },
     "metadata": {},
     "output_type": "display_data"
    },
    {
     "data": {
      "text/html": [
       "<table border=\"1\" class=\"dataframe\">\n",
       "    <thead>\n",
       "        <tr>\n",
       "            <th>geo</th> <th>time</th> <th>extreme_poverty_percent_people_below_125_a_day</th>\n",
       "        </tr>\n",
       "    </thead>\n",
       "    <tbody>\n",
       "        <tr>\n",
       "            <td>alb </td> <td>1996</td> <td>0.2                                           </td>\n",
       "        </tr>\n",
       "        <tr>\n",
       "            <td>alb </td> <td>2002</td> <td>0.73                                          </td>\n",
       "        </tr>\n",
       "        <tr>\n",
       "            <td>alb </td> <td>2004</td> <td>0.53                                          </td>\n",
       "        </tr>\n",
       "        <tr>\n",
       "            <td>alb </td> <td>2005</td> <td>0.44                                          </td>\n",
       "        </tr>\n",
       "        <tr>\n",
       "            <td>alb </td> <td>2008</td> <td>0.2                                           </td>\n",
       "        </tr>\n",
       "        <tr>\n",
       "            <td>alb </td> <td>2012</td> <td>0.46                                          </td>\n",
       "        </tr>\n",
       "    </tbody>\n",
       "</table>"
      ],
      "text/plain": [
       "geo  | time | extreme_poverty_percent_people_below_125_a_day\n",
       "alb  | 1996 | 0.2\n",
       "alb  | 2002 | 0.73\n",
       "alb  | 2004 | 0.53\n",
       "alb  | 2005 | 0.44\n",
       "alb  | 2008 | 0.2\n",
       "alb  | 2012 | 0.46"
      ]
     },
     "execution_count": 86,
     "metadata": {},
     "output_type": "execute_result"
    }
   ],
   "source": [
    "population = Table.read_table('population.csv')\n",
    "population.show(3)\n",
    "countries = Table.read_table('countries.csv').where('country', are.contained_in(population.group('geo').column('geo')))\n",
    "poverty = Table.read_table('poverty.csv')\n",
    "poverty.show(3)\n",
    "x = poverty.where(\"geo\", are.equal_to(\"alb\"))\n",
    "x"
   ]
  },
  {
   "cell_type": "markdown",
   "metadata": {
    "deletable": false,
    "editable": false
   },
   "source": [
    "**Question 1.** Assign `latest_poverty` to a three-column table with one row for each country that appears in the `poverty` table. The first column should contain the 3-letter code for the country. The second column should contain the most recent year for which an extreme poverty rate is available for the country. The third column should contain the poverty rate in that year. **Do not change the last line, so that the labels of your table are set correctly.**\n",
    "\n",
    "*Hint*: think about how ```group``` works: it does a sequential search of the table (from top to bottom) and collects values in the array in the order in which they appear, and then applies a function to that array. The `first` function may be helpful, but you are not required to use it.\n",
    "\n",
    "<!--\n",
    "BEGIN QUESTION\n",
    "name: q2_1\n",
    "-->"
   ]
  },
  {
   "cell_type": "code",
   "execution_count": 87,
   "metadata": {
    "deletable": false
   },
   "outputs": [
    {
     "data": {
      "text/html": [
       "<table border=\"1\" class=\"dataframe\">\n",
       "    <thead>\n",
       "        <tr>\n",
       "            <th>geo</th> <th>time</th> <th>poverty_percent</th>\n",
       "        </tr>\n",
       "    </thead>\n",
       "    <tbody>\n",
       "        <tr>\n",
       "            <td>ago </td> <td>2009</td> <td>43.37          </td>\n",
       "        </tr>\n",
       "        <tr>\n",
       "            <td>alb </td> <td>2012</td> <td>0.46           </td>\n",
       "        </tr>\n",
       "        <tr>\n",
       "            <td>arg </td> <td>2011</td> <td>1.41           </td>\n",
       "        </tr>\n",
       "        <tr>\n",
       "            <td>arm </td> <td>2012</td> <td>1.75           </td>\n",
       "        </tr>\n",
       "        <tr>\n",
       "            <td>aus </td> <td>2003</td> <td>1.36           </td>\n",
       "        </tr>\n",
       "        <tr>\n",
       "            <td>aut </td> <td>2004</td> <td>0.34           </td>\n",
       "        </tr>\n",
       "        <tr>\n",
       "            <td>aze </td> <td>2008</td> <td>0.31           </td>\n",
       "        </tr>\n",
       "        <tr>\n",
       "            <td>bdi </td> <td>2006</td> <td>81.32          </td>\n",
       "        </tr>\n",
       "        <tr>\n",
       "            <td>bel </td> <td>2000</td> <td>0.5            </td>\n",
       "        </tr>\n",
       "        <tr>\n",
       "            <td>ben </td> <td>2012</td> <td>51.61          </td>\n",
       "        </tr>\n",
       "    </tbody>\n",
       "</table>\n",
       "<p>... (135 rows omitted)</p>"
      ],
      "text/plain": [
       "geo  | time | poverty_percent\n",
       "ago  | 2009 | 43.37\n",
       "alb  | 2012 | 0.46\n",
       "arg  | 2011 | 1.41\n",
       "arm  | 2012 | 1.75\n",
       "aus  | 2003 | 1.36\n",
       "aut  | 2004 | 0.34\n",
       "aze  | 2008 | 0.31\n",
       "bdi  | 2006 | 81.32\n",
       "bel  | 2000 | 0.5\n",
       "ben  | 2012 | 51.61\n",
       "... (135 rows omitted)"
      ]
     },
     "execution_count": 87,
     "metadata": {},
     "output_type": "execute_result"
    }
   ],
   "source": [
    "def first(values):\n",
    "    return values.item(0)\n",
    "def last(values):\n",
    "    return values.item(len(values)-1)\n",
    "\n",
    "latest_poverty = poverty.join(\"geo\", population).group(\"geo\", last).drop(\"time_2 last\", \"population_total last\")\n",
    "latest_poverty = latest_poverty.relabeled(0, 'geo').relabeled(1, 'time').relabeled(2, 'poverty_percent') # You should *not* change this line.\n",
    "latest_poverty\n",
    "\n"
   ]
  },
  {
   "cell_type": "code",
   "execution_count": 88,
   "metadata": {
    "deletable": false,
    "editable": false
   },
   "outputs": [
    {
     "name": "stdout",
     "output_type": "stream",
     "text": [
      "~~~~~~~~~~~~~~~~~~~~~~~~~~~~~~~~~~~~~~~~~~~~~~~~~~~~~~~~~~~~~~~~~~~~~\n",
      "Running tests\n",
      "\n",
      "---------------------------------------------------------------------\n",
      "Test summary\n",
      "    Passed: 2\n",
      "    Failed: 0\n",
      "[ooooooooook] 100.0% passed\n",
      "\n"
     ]
    }
   ],
   "source": [
    "ok.grade(\"q2_1\");"
   ]
  },
  {
   "cell_type": "markdown",
   "metadata": {
    "deletable": false,
    "editable": false
   },
   "source": [
    "**Question 2.** Using both `latest_poverty` and `population`, create a four-column table called `recent_poverty_total` with one row for each country in `latest_poverty`. The four columns should have the following labels and contents, in the following order:\n",
    "1. `geo` contains the 3-letter country code,\n",
    "1. `poverty_percent` contains the most recent poverty percent,\n",
    "1. `population_total` contains the population of the country in 2010,\n",
    "1. `poverty_total` contains the number of people in poverty **rounded to the nearest integer**, based on the 2010 population and most recent poverty rate.\n",
    "\n",
    "<!--\n",
    "BEGIN QUESTION\n",
    "name: q2_2\n",
    "-->"
   ]
  },
  {
   "cell_type": "code",
   "execution_count": 89,
   "metadata": {
    "deletable": false
   },
   "outputs": [
    {
     "data": {
      "text/html": [
       "<table border=\"1\" class=\"dataframe\">\n",
       "    <thead>\n",
       "        <tr>\n",
       "            <th>geo</th> <th>poverty_percent</th> <th>population_total</th> <th>poverty_total</th>\n",
       "        </tr>\n",
       "    </thead>\n",
       "    <tbody>\n",
       "        <tr>\n",
       "            <td>ago </td> <td>43.37          </td> <td>21219954        </td> <td>9.20309e+06  </td>\n",
       "        </tr>\n",
       "        <tr>\n",
       "            <td>alb </td> <td>0.46           </td> <td>2901883         </td> <td>13349        </td>\n",
       "        </tr>\n",
       "        <tr>\n",
       "            <td>arg </td> <td>1.41           </td> <td>41222875        </td> <td>581243       </td>\n",
       "        </tr>\n",
       "        <tr>\n",
       "            <td>arm </td> <td>1.75           </td> <td>2963496         </td> <td>51861        </td>\n",
       "        </tr>\n",
       "        <tr>\n",
       "            <td>aus </td> <td>1.36           </td> <td>22162863        </td> <td>301415       </td>\n",
       "        </tr>\n",
       "        <tr>\n",
       "            <td>aut </td> <td>0.34           </td> <td>8391986         </td> <td>28533        </td>\n",
       "        </tr>\n",
       "        <tr>\n",
       "            <td>aze </td> <td>0.31           </td> <td>9099893         </td> <td>28210        </td>\n",
       "        </tr>\n",
       "        <tr>\n",
       "            <td>bdi </td> <td>81.32          </td> <td>9461117         </td> <td>7.69378e+06  </td>\n",
       "        </tr>\n",
       "        <tr>\n",
       "            <td>bel </td> <td>0.5            </td> <td>10929978        </td> <td>54650        </td>\n",
       "        </tr>\n",
       "        <tr>\n",
       "            <td>ben </td> <td>51.61          </td> <td>9509798         </td> <td>4.90801e+06  </td>\n",
       "        </tr>\n",
       "    </tbody>\n",
       "</table>\n",
       "<p>... (135 rows omitted)</p>"
      ],
      "text/plain": [
       "geo  | poverty_percent | population_total | poverty_total\n",
       "ago  | 43.37           | 21219954         | 9.20309e+06\n",
       "alb  | 0.46            | 2901883          | 13349\n",
       "arg  | 1.41            | 41222875         | 581243\n",
       "arm  | 1.75            | 2963496          | 51861\n",
       "aus  | 1.36            | 22162863         | 301415\n",
       "aut  | 0.34            | 8391986          | 28533\n",
       "aze  | 0.31            | 9099893          | 28210\n",
       "bdi  | 81.32           | 9461117          | 7.69378e+06\n",
       "bel  | 0.5             | 10929978         | 54650\n",
       "ben  | 51.61           | 9509798          | 4.90801e+06\n",
       "... (135 rows omitted)"
      ]
     },
     "execution_count": 89,
     "metadata": {},
     "output_type": "execute_result"
    }
   ],
   "source": [
    "poverty_and_pop = latest_poverty.join(\"geo\", population.where(\"time\", are.equal_to(2010)), \"geo\")\n",
    "recent_poverty_total = poverty_and_pop.with_column(\"poverty_total\", (poverty_and_pop.column(\"poverty_percent\")/100*poverty_and_pop.column(\"population_total\")).round(0)).drop(\"time\", \"time_2\")\n",
    "recent_poverty_total"
   ]
  },
  {
   "cell_type": "code",
   "execution_count": 90,
   "metadata": {
    "deletable": false,
    "editable": false
   },
   "outputs": [
    {
     "name": "stdout",
     "output_type": "stream",
     "text": [
      "~~~~~~~~~~~~~~~~~~~~~~~~~~~~~~~~~~~~~~~~~~~~~~~~~~~~~~~~~~~~~~~~~~~~~\n",
      "Running tests\n",
      "\n",
      "---------------------------------------------------------------------\n",
      "Test summary\n",
      "    Passed: 3\n",
      "    Failed: 0\n",
      "[ooooooooook] 100.0% passed\n",
      "\n"
     ]
    }
   ],
   "source": [
    "ok.grade(\"q2_2\");"
   ]
  },
  {
   "cell_type": "markdown",
   "metadata": {
    "deletable": false,
    "editable": false
   },
   "source": [
    "**Question 3.** Assign the name `poverty_percent` to the known percentage of the world’s 2010 population that were living in extreme poverty. Assume that the `poverty_total` numbers in the `recent_poverty_total` table describe **all** people in 2010 living in extreme poverty. You should find a number that is above the 2018 global estimate of 8%, since many country-specific poverty rates are older than 2018.\n",
    "\n",
    "*Hint*: The sum of the `population_total` column in the `recent_poverty_total` table is not the world population, because only a subset of the world's countries are included in the `recent_poverty_total` table (only some countries have known poverty rates). Use the `population` table to compute the world's 2010 total population..\n",
    "\n",
    "<!--\n",
    "BEGIN QUESTION\n",
    "name: q2_3\n",
    "-->"
   ]
  },
  {
   "cell_type": "code",
   "execution_count": 91,
   "metadata": {
    "deletable": false
   },
   "outputs": [
    {
     "data": {
      "text/plain": [
       "14.299370218520854"
      ]
     },
     "execution_count": 91,
     "metadata": {},
     "output_type": "execute_result"
    }
   ],
   "source": [
    "population2010 = np.sum(population.where(\"time\", are.equal_to(2010)).column(\"population_total\"))\n",
    "poverty_percent = (np.sum(recent_poverty_total.column(\"poverty_total\"))/population2010)*100\n",
    "poverty_percent"
   ]
  },
  {
   "cell_type": "code",
   "execution_count": 92,
   "metadata": {
    "deletable": false,
    "editable": false
   },
   "outputs": [
    {
     "name": "stdout",
     "output_type": "stream",
     "text": [
      "~~~~~~~~~~~~~~~~~~~~~~~~~~~~~~~~~~~~~~~~~~~~~~~~~~~~~~~~~~~~~~~~~~~~~\n",
      "Running tests\n",
      "\n",
      "---------------------------------------------------------------------\n",
      "Test summary\n",
      "    Passed: 1\n",
      "    Failed: 0\n",
      "[ooooooooook] 100.0% passed\n",
      "\n"
     ]
    }
   ],
   "source": [
    "ok.grade(\"q2_3\");"
   ]
  },
  {
   "cell_type": "markdown",
   "metadata": {
    "deletable": false,
    "editable": false
   },
   "source": [
    "The `countries` table includes not only the name and region of countries, but also their positions on the globe."
   ]
  },
  {
   "cell_type": "code",
   "execution_count": 93,
   "metadata": {
    "deletable": false,
    "editable": false
   },
   "outputs": [
    {
     "data": {
      "text/html": [
       "<table border=\"1\" class=\"dataframe\">\n",
       "    <thead>\n",
       "        <tr>\n",
       "            <th>country</th> <th>name</th> <th>world_4region</th> <th>latitude</th> <th>longitude</th>\n",
       "        </tr>\n",
       "    </thead>\n",
       "    <tbody>\n",
       "        <tr>\n",
       "            <td>afg      </td> <td>Afghanistan          </td> <td>asia         </td> <td>33      </td> <td>66       </td>\n",
       "        </tr>\n",
       "        <tr>\n",
       "            <td>akr_a_dhe</td> <td>Akrotiri and Dhekelia</td> <td>europe       </td> <td>nan     </td> <td>nan      </td>\n",
       "        </tr>\n",
       "        <tr>\n",
       "            <td>alb      </td> <td>Albania              </td> <td>europe       </td> <td>41      </td> <td>20       </td>\n",
       "        </tr>\n",
       "        <tr>\n",
       "            <td>dza      </td> <td>Algeria              </td> <td>africa       </td> <td>28      </td> <td>3        </td>\n",
       "        </tr>\n",
       "        <tr>\n",
       "            <td>asm      </td> <td>American Samoa       </td> <td>asia         </td> <td>-11.056 </td> <td>-171.082 </td>\n",
       "        </tr>\n",
       "        <tr>\n",
       "            <td>and      </td> <td>Andorra              </td> <td>europe       </td> <td>42.5078 </td> <td>1.52109  </td>\n",
       "        </tr>\n",
       "        <tr>\n",
       "            <td>ago      </td> <td>Angola               </td> <td>africa       </td> <td>-12.5   </td> <td>18.5     </td>\n",
       "        </tr>\n",
       "        <tr>\n",
       "            <td>aia      </td> <td>Anguilla             </td> <td>americas     </td> <td>18.2167 </td> <td>-63.05   </td>\n",
       "        </tr>\n",
       "        <tr>\n",
       "            <td>atg      </td> <td>Antigua and Barbuda  </td> <td>americas     </td> <td>17.05   </td> <td>-61.8    </td>\n",
       "        </tr>\n",
       "        <tr>\n",
       "            <td>arg      </td> <td>Argentina            </td> <td>americas     </td> <td>-34     </td> <td>-64      </td>\n",
       "        </tr>\n",
       "    </tbody>\n",
       "</table>\n",
       "<p>... (245 rows omitted)</p>"
      ],
      "text/plain": [
       "country   | name                  | world_4region | latitude | longitude\n",
       "afg       | Afghanistan           | asia          | 33       | 66\n",
       "akr_a_dhe | Akrotiri and Dhekelia | europe        | nan      | nan\n",
       "alb       | Albania               | europe        | 41       | 20\n",
       "dza       | Algeria               | africa        | 28       | 3\n",
       "asm       | American Samoa        | asia          | -11.056  | -171.082\n",
       "and       | Andorra               | europe        | 42.5078  | 1.52109\n",
       "ago       | Angola                | africa        | -12.5    | 18.5\n",
       "aia       | Anguilla              | americas      | 18.2167  | -63.05\n",
       "atg       | Antigua and Barbuda   | americas      | 17.05    | -61.8\n",
       "arg       | Argentina             | americas      | -34      | -64\n",
       "... (245 rows omitted)"
      ]
     },
     "execution_count": 93,
     "metadata": {},
     "output_type": "execute_result"
    }
   ],
   "source": [
    "countries.select('country', 'name', 'world_4region', 'latitude', 'longitude')"
   ]
  },
  {
   "cell_type": "markdown",
   "metadata": {
    "deletable": false,
    "editable": false
   },
   "source": [
    "**Question 4.** Using both `countries` and `recent_poverty_total`, create a five-column table called `poverty_map` with one row for every country in `recent_poverty_total`.  The five columns should have the following labels and contents:\n",
    "1. `latitude` contains the country's latitude,\n",
    "1. `longitude` contains the country's longitude,\n",
    "1. `name` contains the country's name,\n",
    "1. `region` contains the country's region from the `world_4region` column of `countries`,\n",
    "1. `poverty_total` contains the country's poverty total.\n",
    "\n",
    "<!--\n",
    "BEGIN QUESTION\n",
    "name: q2_4\n",
    "-->"
   ]
  },
  {
   "cell_type": "code",
   "execution_count": 94,
   "metadata": {
    "deletable": false
   },
   "outputs": [
    {
     "data": {
      "text/html": [
       "<table border=\"1\" class=\"dataframe\">\n",
       "    <thead>\n",
       "        <tr>\n",
       "            <th>latitude</th> <th>longitude</th> <th>name</th> <th>region</th> <th>poverty_total</th>\n",
       "        </tr>\n",
       "    </thead>\n",
       "    <tbody>\n",
       "        <tr>\n",
       "            <td>-12.5   </td> <td>18.5     </td> <td>Angola    </td> <td>africa  </td> <td>9.20309e+06  </td>\n",
       "        </tr>\n",
       "        <tr>\n",
       "            <td>41      </td> <td>20       </td> <td>Albania   </td> <td>europe  </td> <td>13349        </td>\n",
       "        </tr>\n",
       "        <tr>\n",
       "            <td>-34     </td> <td>-64      </td> <td>Argentina </td> <td>americas</td> <td>581243       </td>\n",
       "        </tr>\n",
       "        <tr>\n",
       "            <td>40.25   </td> <td>45       </td> <td>Armenia   </td> <td>europe  </td> <td>51861        </td>\n",
       "        </tr>\n",
       "        <tr>\n",
       "            <td>-25     </td> <td>135      </td> <td>Australia </td> <td>asia    </td> <td>301415       </td>\n",
       "        </tr>\n",
       "        <tr>\n",
       "            <td>47.3333 </td> <td>13.3333  </td> <td>Austria   </td> <td>europe  </td> <td>28533        </td>\n",
       "        </tr>\n",
       "        <tr>\n",
       "            <td>40.5    </td> <td>47.5     </td> <td>Azerbaijan</td> <td>europe  </td> <td>28210        </td>\n",
       "        </tr>\n",
       "        <tr>\n",
       "            <td>-3.5    </td> <td>30       </td> <td>Burundi   </td> <td>africa  </td> <td>7.69378e+06  </td>\n",
       "        </tr>\n",
       "        <tr>\n",
       "            <td>50.75   </td> <td>4.5      </td> <td>Belgium   </td> <td>europe  </td> <td>54650        </td>\n",
       "        </tr>\n",
       "        <tr>\n",
       "            <td>9.5     </td> <td>2.25     </td> <td>Benin     </td> <td>africa  </td> <td>4.90801e+06  </td>\n",
       "        </tr>\n",
       "    </tbody>\n",
       "</table>\n",
       "<p>... (135 rows omitted)</p>"
      ],
      "text/plain": [
       "latitude | longitude | name       | region   | poverty_total\n",
       "-12.5    | 18.5      | Angola     | africa   | 9.20309e+06\n",
       "41       | 20        | Albania    | europe   | 13349\n",
       "-34      | -64       | Argentina  | americas | 581243\n",
       "40.25    | 45        | Armenia    | europe   | 51861\n",
       "-25      | 135       | Australia  | asia     | 301415\n",
       "47.3333  | 13.3333   | Austria    | europe   | 28533\n",
       "40.5     | 47.5      | Azerbaijan | europe   | 28210\n",
       "-3.5     | 30        | Burundi    | africa   | 7.69378e+06\n",
       "50.75    | 4.5       | Belgium    | europe   | 54650\n",
       "9.5      | 2.25      | Benin      | africa   | 4.90801e+06\n",
       "... (135 rows omitted)"
      ]
     },
     "execution_count": 94,
     "metadata": {},
     "output_type": "execute_result"
    }
   ],
   "source": [
    "poverty_map = countries.select('country', 'name', 'world_4region', 'latitude', 'longitude').join(\"country\", recent_poverty_total, \"geo\").select(\"latitude\", \"longitude\", \"name\", \"world_4region\", \"poverty_total\").relabel(\"world_4region\", \"region\")\n",
    "poverty_map"
   ]
  },
  {
   "cell_type": "code",
   "execution_count": 95,
   "metadata": {
    "deletable": false,
    "editable": false
   },
   "outputs": [
    {
     "name": "stdout",
     "output_type": "stream",
     "text": [
      "~~~~~~~~~~~~~~~~~~~~~~~~~~~~~~~~~~~~~~~~~~~~~~~~~~~~~~~~~~~~~~~~~~~~~\n",
      "Running tests\n",
      "\n",
      "---------------------------------------------------------------------\n",
      "Test summary\n",
      "    Passed: 2\n",
      "    Failed: 0\n",
      "[ooooooooook] 100.0% passed\n",
      "\n"
     ]
    }
   ],
   "source": [
    "ok.grade(\"q2_4\");"
   ]
  },
  {
   "cell_type": "markdown",
   "metadata": {
    "deletable": false,
    "editable": false
   },
   "source": [
    "Run the cell below to draw a map of the world in which the areas of circles represent the number of people living in extreme poverty. Double-click on the map to zoom in."
   ]
  },
  {
   "cell_type": "code",
   "execution_count": 96,
   "metadata": {
    "deletable": false,
    "editable": false
   },
   "outputs": [
    {
     "data": {
      "text/html": [
       "<div style=\"width:100%;\"><div style=\"position:relative;width:100%;height:0;padding-bottom:60%;\"><iframe src=\"about:blank\" style=\"position:absolute;width:100%;height:100%;left:0;top:0;border:none !important;\" data-html=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 onload=\"this.contentDocument.open();this.contentDocument.write(atob(this.getAttribute('data-html')));this.contentDocument.close();\" allowfullscreen webkitallowfullscreen mozallowfullscreen></iframe></div></div>"
      ],
      "text/plain": [
       "<datascience.maps.Map at 0x7f472db04a58>"
      ]
     },
     "execution_count": 96,
     "metadata": {},
     "output_type": "execute_result"
    }
   ],
   "source": [
    "# It may take a few seconds to generate this map.\n",
    "colors = {'africa': 'blue', 'europe': 'black', 'asia': 'red', 'americas': 'green'}\n",
    "scaled = poverty_map.with_columns(\n",
    "    'poverty_total', 1e-4 * poverty_map.column('poverty_total'),\n",
    "    'region', poverty_map.apply(colors.get, 'region')\n",
    ")\n",
    "Circle.map_table(scaled)"
   ]
  },
  {
   "cell_type": "markdown",
   "metadata": {
    "deletable": false,
    "editable": false
   },
   "source": [
    "Although people live in extreme poverty throughout the world (with more than 5 million in the United States), the largest numbers are in Asia and Africa."
   ]
  },
  {
   "cell_type": "markdown",
   "metadata": {
    "deletable": false,
    "editable": false
   },
   "source": [
    "**Question 5.** Assign `largest` to a two-column table with the `name` (not the 3-letter code) and `poverty_total` of the 10 countries with the largest number of people living in extreme poverty.\n",
    "\n",
    "<!--\n",
    "BEGIN QUESTION\n",
    "name: q2_5\n",
    "-->"
   ]
  },
  {
   "cell_type": "code",
   "execution_count": 97,
   "metadata": {
    "deletable": false
   },
   "outputs": [
    {
     "data": {
      "text/html": [
       "<table border=\"1\" class=\"dataframe\">\n",
       "    <thead>\n",
       "        <tr>\n",
       "            <th>name</th> <th>poverty_total</th>\n",
       "        </tr>\n",
       "    </thead>\n",
       "    <tbody>\n",
       "        <tr>\n",
       "            <td>India           </td> <td>290,881,638.00</td>\n",
       "        </tr>\n",
       "        <tr>\n",
       "            <td>Nigeria         </td> <td>98,891,167.00 </td>\n",
       "        </tr>\n",
       "        <tr>\n",
       "            <td>China           </td> <td>83,944,643.00 </td>\n",
       "        </tr>\n",
       "        <tr>\n",
       "            <td>Bangladesh      </td> <td>65,574,256.00 </td>\n",
       "        </tr>\n",
       "        <tr>\n",
       "            <td>Congo, Dem. Rep.</td> <td>57,841,438.00 </td>\n",
       "        </tr>\n",
       "        <tr>\n",
       "            <td>Indonesia       </td> <td>39,141,326.00 </td>\n",
       "        </tr>\n",
       "        <tr>\n",
       "            <td>Ethiopia        </td> <td>32,213,991.00 </td>\n",
       "        </tr>\n",
       "        <tr>\n",
       "            <td>Pakistan        </td> <td>21,663,595.00 </td>\n",
       "        </tr>\n",
       "        <tr>\n",
       "            <td>Tanzania        </td> <td>19,847,979.00 </td>\n",
       "        </tr>\n",
       "        <tr>\n",
       "            <td>Madagascar      </td> <td>18,480,426.00 </td>\n",
       "        </tr>\n",
       "    </tbody>\n",
       "</table>"
      ],
      "text/plain": [
       "name             | poverty_total\n",
       "India            | 290,881,638.00\n",
       "Nigeria          | 98,891,167.00\n",
       "China            | 83,944,643.00\n",
       "Bangladesh       | 65,574,256.00\n",
       "Congo, Dem. Rep. | 57,841,438.00\n",
       "Indonesia        | 39,141,326.00\n",
       "Ethiopia         | 32,213,991.00\n",
       "Pakistan         | 21,663,595.00\n",
       "Tanzania         | 19,847,979.00\n",
       "Madagascar       | 18,480,426.00"
      ]
     },
     "execution_count": 97,
     "metadata": {},
     "output_type": "execute_result"
    }
   ],
   "source": [
    "largest = poverty_map.sort(\"poverty_total\", descending=True).take(np.arange(0,10)).drop(\"latitude\", \"longitude\", \"region\")\n",
    "largest.set_format('poverty_total', NumberFormatter)"
   ]
  },
  {
   "cell_type": "code",
   "execution_count": 98,
   "metadata": {
    "deletable": false,
    "editable": false
   },
   "outputs": [
    {
     "name": "stdout",
     "output_type": "stream",
     "text": [
      "~~~~~~~~~~~~~~~~~~~~~~~~~~~~~~~~~~~~~~~~~~~~~~~~~~~~~~~~~~~~~~~~~~~~~\n",
      "Running tests\n",
      "\n",
      "---------------------------------------------------------------------\n",
      "Test summary\n",
      "    Passed: 3\n",
      "    Failed: 0\n",
      "[ooooooooook] 100.0% passed\n",
      "\n"
     ]
    }
   ],
   "source": [
    "ok.grade(\"q2_5\");"
   ]
  },
  {
   "cell_type": "markdown",
   "metadata": {
    "deletable": false
   },
   "source": [
    "**Question 6.** Write a function called `poverty_timeline` that takes **the name of a country** (not the geo code) as its argument. It should draw a line plot of the number of people living in poverty in that country with time on the horizontal axis. The line plot should have a point for each row in the `poverty` table for that country. To compute the population living in poverty from a poverty percentage, multiply by the population of the country **in that year**.\n",
    "\n",
    "*Hint:* To make your plot, you will first need to make a table.\n",
    "\n",
    "*Hint:* This question is long. Feel free to create cells and experiment. "
   ]
  },
  {
   "cell_type": "code",
   "execution_count": 99,
   "metadata": {},
   "outputs": [
    {
     "data": {
      "image/png": "[encoded data removed]",
      "text/plain": [
       "<Figure size 432x288 with 1 Axes>"
      ]
     },
     "metadata": {},
     "output_type": "display_data"
    }
   ],
   "source": [
    "def poverty_timeline(country):\n",
    "    '''Draw a timeline of people living in extreme poverty in a country.'''\n",
    "    geo = countries.group([\"name\", \"country\"]).where(\"name\", are.equal_to(country)).column(\"country\")[0]\n",
    "    country_poverty = poverty.where(\"geo\", are.equal_to(geo))\n",
    "    poverty_pop = population.where(\"geo\", are.equal_to(geo)).join(\"time\", country_poverty,\"time\").drop(\"geo\", \"geo_2\")\n",
    "    pop_pov_col = poverty_pop.column(\"extreme_poverty_percent_people_below_125_a_day\")/100 * poverty_pop.column(\"population_total\")\n",
    "    final_table = poverty_pop.with_column(\"Number of People in Poverty\", pop_pov_col)\n",
    "    final_table.plot(\"time\", \"Number of People in Poverty\")\n",
    "    \n",
    "poverty_timeline(\"India\")"
   ]
  },
  {
   "cell_type": "markdown",
   "metadata": {
    "deletable": false,
    "editable": false
   },
   "source": [
    "Finally, draw the timelines below to see how the world is changing. You can check your work by comparing your graphs to the ones on [gapminder.org](https://www.gapminder.org/tools/#$state$entities$show$country$/$in@=ind;;;;&marker$axis_y$which=number_of_people_in_poverty&scaleType=linear&spaceRef:null;;;&chart-type=linechart).\n",
    "\n",
    "<!--\n",
    "BEGIN QUESTION\n",
    "name: q2_6\n",
    "manual: true\n",
    "-->\n",
    "<!-- EXPORT TO PDF -->"
   ]
  },
  {
   "cell_type": "code",
   "execution_count": 100,
   "metadata": {
    "export_pdf": true
   },
   "outputs": [
    {
     "data": {
      "image/png": "[encoded data removed]",
      "text/plain": [
       "<Figure size 432x288 with 1 Axes>"
      ]
     },
     "metadata": {},
     "output_type": "display_data"
    },
    {
     "data": {
      "image/png": "[encoded data removed]",
      "text/plain": [
       "<Figure size 432x288 with 1 Axes>"
      ]
     },
     "metadata": {},
     "output_type": "display_data"
    },
    {
     "data": {
      "image/png": "[encoded data removed]",
      "text/plain": [
       "<Figure size 432x288 with 1 Axes>"
      ]
     },
     "metadata": {},
     "output_type": "display_data"
    },
    {
     "data": {
      "image/png": "[encoded data removed]",
      "text/plain": [
       "<Figure size 432x288 with 1 Axes>"
      ]
     },
     "metadata": {},
     "output_type": "display_data"
    }
   ],
   "source": [
    "poverty_timeline('India')\n",
    "poverty_timeline('Nigeria')\n",
    "poverty_timeline('China')\n",
    "poverty_timeline('United States')"
   ]
  },
  {
   "cell_type": "markdown",
   "metadata": {
    "deletable": false,
    "editable": false
   },
   "source": [
    "Although the number of people living in extreme poverty has been increasing in Nigeria and the United States, the massive decreases in China and India have shaped the overall trend that extreme poverty is decreasing worldwide, both in percentage and in absolute number. \n",
    "\n",
    "To learn more, watch [Hans Rosling in a 2015 film](https://www.gapminder.org/videos/dont-panic-end-poverty/) about the UN goal of eradicating extreme poverty from the world. \n",
    "\n",
    "Below, we've also added an interactive dropdown menu for you to visualize `poverty_timeline` graphs for other countries. Note that each dropdown menu selection may take a few seconds to run."
   ]
  },
  {
   "cell_type": "code",
   "execution_count": 101,
   "metadata": {
    "deletable": false,
    "editable": false
   },
   "outputs": [
    {
     "data": {
      "application/vnd.jupyter.widget-view+json": {
       "model_id": "e8b8e97542704b90ac1fcd8bedb308f2",
       "version_major": 2,
       "version_minor": 0
      },
      "text/plain": [
       "interactive(children=(Dropdown(description='country', options=('Angola', 'Albania', 'Argentina', 'Armenia', 'A…"
      ]
     },
     "metadata": {},
     "output_type": "display_data"
    }
   ],
   "source": [
    "# Just run this cell\n",
    "\n",
    "all_countries = poverty_map.column('name')\n",
    "_ = widgets.interact(poverty_timeline, country=list(all_countries))"
   ]
  },
  {
   "cell_type": "markdown",
   "metadata": {
    "deletable": false,
    "editable": false
   },
   "source": [
    "**You're finished!** Congratulations on mastering data visualization and table manipulation. Time to submit."
   ]
  },
  {
   "cell_type": "markdown",
   "metadata": {},
   "source": [
    "## 3. Submission\n"
   ]
  },
  {
   "cell_type": "markdown",
   "metadata": {
    "collapsed": true
   },
   "source": [
    "Once you're finished, select \"Save and Checkpoint\" in the File menu and then execute the `submit` cell below. The result will contain a link that you can use to check that your assignment has been submitted successfully. If you submit more than once before the deadline, we will only grade your final submission. If you mistakenly submit the wrong one, you can head to [okpy.org](https://okpy.org/) and flag the correct version. To do so, go to the website, click on this assignment, and find the version you would like to have graded. There should be an option to flag that submission for grading!"
   ]
  },
  {
   "cell_type": "code",
   "execution_count": 109,
   "metadata": {},
   "outputs": [
    {
     "data": {
      "application/javascript": [
       "IPython.notebook.save_checkpoint();"
      ],
      "text/plain": [
       "<IPython.core.display.Javascript object>"
      ]
     },
     "metadata": {},
     "output_type": "display_data"
    },
    {
     "data": {
      "application/javascript": [
       "IPython.notebook.save_notebook();"
      ],
      "text/plain": [
       "<IPython.core.display.Javascript object>"
      ]
     },
     "metadata": {},
     "output_type": "display_data"
    },
    {
     "name": "stdout",
     "output_type": "stream",
     "text": [
      "Saving notebook... Saved 'project1.ipynb'.\n",
      "Submit... 100% complete\n",
      "Submission successful for user: lillyliu@berkeley.edu\n",
      "URL: https://okpy.org/cal/data8/sp20/project1/submissions/lRBpP5\n",
      "\n"
     ]
    }
   ],
   "source": [
    "_ = ok.submit()"
   ]
  },
  {
   "cell_type": "code",
   "execution_count": 104,
   "metadata": {},
   "outputs": [
    {
     "name": "stdout",
     "output_type": "stream",
     "text": [
      "Running all tests...\n",
      "~~~~~~~~~~~~~~~~~~~~~~~~~~~~~~~~~~~~~~~~~~~~~~~~~~~~~~~~~~~~~~~~~~~~~\n",
      "Running tests\n",
      "\n",
      "---------------------------------------------------------------------\n",
      "Test summary\n",
      "    Passed: 3\n",
      "    Failed: 0\n",
      "[ooooooooook] 100.0% passed\n",
      "\n",
      "~~~~~~~~~~~~~~~~~~~~~~~~~~~~~~~~~~~~~~~~~~~~~~~~~~~~~~~~~~~~~~~~~~~~~\n",
      "Running tests\n",
      "\n",
      "---------------------------------------------------------------------\n",
      "Test summary\n",
      "    Passed: 4\n",
      "    Failed: 0\n",
      "[ooooooooook] 100.0% passed\n",
      "\n",
      "~~~~~~~~~~~~~~~~~~~~~~~~~~~~~~~~~~~~~~~~~~~~~~~~~~~~~~~~~~~~~~~~~~~~~\n",
      "Running tests\n",
      "\n",
      "---------------------------------------------------------------------\n",
      "Test summary\n",
      "    Passed: 2\n",
      "    Failed: 0\n",
      "[ooooooooook] 100.0% passed\n",
      "\n",
      "~~~~~~~~~~~~~~~~~~~~~~~~~~~~~~~~~~~~~~~~~~~~~~~~~~~~~~~~~~~~~~~~~~~~~\n",
      "Running tests\n",
      "\n",
      "---------------------------------------------------------------------\n",
      "Test summary\n",
      "    Passed: 2\n",
      "    Failed: 0\n",
      "[ooooooooook] 100.0% passed\n",
      "\n",
      "~~~~~~~~~~~~~~~~~~~~~~~~~~~~~~~~~~~~~~~~~~~~~~~~~~~~~~~~~~~~~~~~~~~~~\n",
      "Running tests\n",
      "\n",
      "---------------------------------------------------------------------\n",
      "Test summary\n",
      "    Passed: 2\n",
      "    Failed: 0\n",
      "[ooooooooook] 100.0% passed\n",
      "\n",
      "~~~~~~~~~~~~~~~~~~~~~~~~~~~~~~~~~~~~~~~~~~~~~~~~~~~~~~~~~~~~~~~~~~~~~\n",
      "Running tests\n",
      "\n",
      "---------------------------------------------------------------------\n",
      "Test summary\n",
      "    Passed: 2\n",
      "    Failed: 0\n",
      "[ooooooooook] 100.0% passed\n",
      "\n",
      "~~~~~~~~~~~~~~~~~~~~~~~~~~~~~~~~~~~~~~~~~~~~~~~~~~~~~~~~~~~~~~~~~~~~~\n",
      "Running tests\n",
      "\n",
      "---------------------------------------------------------------------\n",
      "Test summary\n",
      "    Passed: 2\n",
      "    Failed: 0\n",
      "[ooooooooook] 100.0% passed\n",
      "\n",
      "~~~~~~~~~~~~~~~~~~~~~~~~~~~~~~~~~~~~~~~~~~~~~~~~~~~~~~~~~~~~~~~~~~~~~\n",
      "Running tests\n",
      "\n",
      "---------------------------------------------------------------------\n",
      "Test summary\n",
      "    Passed: 1\n",
      "    Failed: 0\n",
      "[ooooooooook] 100.0% passed\n",
      "\n",
      "~~~~~~~~~~~~~~~~~~~~~~~~~~~~~~~~~~~~~~~~~~~~~~~~~~~~~~~~~~~~~~~~~~~~~\n",
      "Running tests\n",
      "\n",
      "---------------------------------------------------------------------\n",
      "Test summary\n",
      "    Passed: 1\n",
      "    Failed: 0\n",
      "[ooooooooook] 100.0% passed\n",
      "\n",
      "~~~~~~~~~~~~~~~~~~~~~~~~~~~~~~~~~~~~~~~~~~~~~~~~~~~~~~~~~~~~~~~~~~~~~\n",
      "Running tests\n",
      "\n",
      "---------------------------------------------------------------------\n",
      "Test summary\n",
      "    Passed: 3\n",
      "    Failed: 0\n",
      "[ooooooooook] 100.0% passed\n",
      "\n",
      "~~~~~~~~~~~~~~~~~~~~~~~~~~~~~~~~~~~~~~~~~~~~~~~~~~~~~~~~~~~~~~~~~~~~~\n",
      "Running tests\n",
      "\n",
      "---------------------------------------------------------------------\n",
      "Test summary\n",
      "    Passed: 3\n",
      "    Failed: 0\n",
      "[ooooooooook] 100.0% passed\n",
      "\n",
      "~~~~~~~~~~~~~~~~~~~~~~~~~~~~~~~~~~~~~~~~~~~~~~~~~~~~~~~~~~~~~~~~~~~~~\n",
      "Running tests\n",
      "\n",
      "---------------------------------------------------------------------\n",
      "Test summary\n",
      "    Passed: 2\n",
      "    Failed: 0\n",
      "[ooooooooook] 100.0% passed\n",
      "\n",
      "~~~~~~~~~~~~~~~~~~~~~~~~~~~~~~~~~~~~~~~~~~~~~~~~~~~~~~~~~~~~~~~~~~~~~\n",
      "Running tests\n",
      "\n",
      "---------------------------------------------------------------------\n",
      "Test summary\n",
      "    Passed: 2\n",
      "    Failed: 0\n",
      "[ooooooooook] 100.0% passed\n",
      "\n",
      "~~~~~~~~~~~~~~~~~~~~~~~~~~~~~~~~~~~~~~~~~~~~~~~~~~~~~~~~~~~~~~~~~~~~~\n",
      "Running tests\n",
      "\n",
      "---------------------------------------------------------------------\n",
      "Test summary\n",
      "    Passed: 1\n",
      "    Failed: 0\n",
      "[ooooooooook] 100.0% passed\n",
      "\n",
      "~~~~~~~~~~~~~~~~~~~~~~~~~~~~~~~~~~~~~~~~~~~~~~~~~~~~~~~~~~~~~~~~~~~~~\n",
      "Running tests\n",
      "\n",
      "---------------------------------------------------------------------\n",
      "Test summary\n",
      "    Passed: 3\n",
      "    Failed: 0\n",
      "[ooooooooook] 100.0% passed\n",
      "\n",
      "Finished running all tests.\n"
     ]
    }
   ],
   "source": [
    "# For your convenience, you can run this cell to run all the tests at once!\n",
    "import os\n",
    "print(\"Running all tests...\")\n",
    "_ = [ok.grade(q[:-3]) for q in os.listdir(\"tests\") if q.startswith('q') and len(q) <= 10]\n",
    "print(\"Finished running all tests.\")\n"
   ]
  },
  {
   "cell_type": "code",
   "execution_count": null,
   "metadata": {},
   "outputs": [],
   "source": []
  }
 ],
 "metadata": {
  "kernelspec": {
   "display_name": "Python 3",
   "language": "python",
   "name": "python3"
  },
  "language_info": {
   "codemirror_mode": {
    "name": "ipython",
    "version": 3
   },
   "file_extension": ".py",
   "mimetype": "text/x-python",
   "name": "python",
   "nbconvert_exporter": "python",
   "pygments_lexer": "ipython3",
   "version": "3.6.9"
  }
 },
 "nbformat": 4,
 "nbformat_minor": 1
}
