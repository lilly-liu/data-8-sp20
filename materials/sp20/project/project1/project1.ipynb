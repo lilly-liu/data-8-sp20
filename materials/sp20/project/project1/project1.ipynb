{
 "cells": [
  {
   "cell_type": "code",
   "execution_count": 1,
   "metadata": {
    "deletable": false,
    "editable": false
   },
   "outputs": [
    {
     "name": "stdout",
     "output_type": "stream",
     "text": [
      "=====================================================================\n",
      "Assignment: Project 1: World Progress\n",
      "OK, version v1.12.5\n",
      "=====================================================================\n",
      "\n"
     ]
    }
   ],
   "source": [
    "# Initialize OK\n",
    "from client.api.notebook import Notebook\n",
    "ok = Notebook('project1.ok')"
   ]
  },
  {
   "cell_type": "markdown",
   "metadata": {},
   "source": [
    "## Project 1: World Progress"
   ]
  },
  {
   "cell_type": "markdown",
   "metadata": {},
   "source": [
    "In this project, you'll explore data from [Gapminder.org](http://gapminder.org), a website dedicated to providing a fact-based view of the world and how it has changed. That site includes several data visualizations and presentations, but also publishes the raw data that we will use in this project to recreate and extend some of their most famous visualizations.\n",
    "\n",
    "The Gapminder website collects data from many sources and compiles them into tables that describe many countries around the world. All of the data they aggregate are published in the [Systema Globalis](https://github.com/open-numbers/ddf--gapminder--systema_globalis/blob/master/README.md). Their goal is \"to compile all public statistics; Social, Economic and Environmental; into a comparable total dataset.\" All data sets in this project are copied directly from the Systema Globalis without any changes.\n",
    "\n",
    "This project is dedicated to [Hans Rosling](https://en.wikipedia.org/wiki/Hans_Rosling) (1948-2017), who championed the use of data to understand and prioritize global development challenges."
   ]
  },
  {
   "cell_type": "markdown",
   "metadata": {},
   "source": [
    "### Logistics\n",
    "\n",
    "**Deadline.** This project is due at 11:59pm on Friday 2/28. Projects will be accepted up to 2 days (48 hours) late; a project submitted less than 24 hours after the deadline will receive 2/3 credit, a project submitted between 24 and 48 hours after the deadline will receive 1/3 credit, and a project submitted 48 hours or more after the deadline will receive no credit. It's **much** better to be early than late, so start working now.\n",
    "\n",
    "**Checkpoint.** For full credit, you must also complete the first 8 questions, pass all public autograder tests, and submit to okpy by 11:59pm on Friday 2/21. After you've submitted the checkpoint, you may still change your answers before the project deadline - only your final submission will be graded for correctness. You will have some lab time to work on these questions, but we recommend that you start the project before lab and leave time to finish the checkpoint afterward.\n",
    "\n",
    "**Partners.** You may work with one other partner; your partner must be from your assigned lab section. Only one of you is required to submit the project. On [okpy.org](http://okpy.org), the person who submits should also designate their partner so that both of you receive credit.\n",
    "\n",
    "**Rules.** Don't share your code with anybody but your partner. You are welcome to discuss questions with other students, but don't share the answers. The experience of solving the problems in this project will prepare you for exams (and life). If someone asks you for the answer, resist! Instead, you can demonstrate how you would solve a similar problem.\n",
    "\n",
    "**Support.** You are not alone! Come to office hours, post on Piazza, and talk to your classmates. If you want to ask about the details of your solution to a problem, make a private Piazza post and the staff will respond. If you're ever feeling overwhelmed or don't know how to make progress, email your TA or tutor for help. You can find contact information for the staff on the [course website](http://data8.org/sp20/staff.html).\n",
    "\n",
    "**Tests.** The tests that are given are **not comprehensive** and passing the tests for a question **does not** mean that you answered the question correctly. Tests usually only check that your table has the correct column labels. However, more tests will be applied to verify the correctness of your submission in order to assign your final score, so be careful and check your work! You might want to create your own checks along the way to see if your answers make sense. Additionally, before you submit, make sure that none of your cells take a very long time to run (several minutes).\n",
    "\n",
    "**Free Response Questions:** Make sure that you put the answers to the written questions in the indicated cell we provide. Check to make sure that you have a [Gradescope](http://gradescope.com) account, which is where the scores to the free response questions will be posted. If you do not, make sure to reach out to your assigned (u)GSI.\n",
    "\n",
    "**Advice.** Develop your answers incrementally. To perform a complicated table manipulation, break it up into steps, perform each step on a different line, give a new name to each result, and check that each intermediate result is what you expect. You can add any additional names or functions you want to the provided cells. Make sure that you are using distinct and meaningful variable names throughout the notebook. Along that line, **DO NOT** reuse the variable names that we use when we grade your answers. For example, in Question 1 of the Global Poverty section, we ask you to assign an answer to `latest`. Do not reassign the variable name `latest` to anything else in your notebook, otherwise there is the chance that our tests grade against what `latest` was reassigned to.\n",
    "\n",
    "You **never** have to use just one line in this project or any others. Use intermediate variables and multiple lines as much as you would like!  \n",
    "\n",
    "To get started, load `datascience`, `numpy`, `plots`, and `ok`."
   ]
  },
  {
   "cell_type": "code",
   "execution_count": 2,
   "metadata": {},
   "outputs": [
    {
     "name": "stdout",
     "output_type": "stream",
     "text": [
      "=====================================================================\n",
      "Assignment: Project 1: World Progress\n",
      "OK, version v1.12.5\n",
      "=====================================================================\n",
      "\n"
     ]
    }
   ],
   "source": [
    "from datascience import *\n",
    "import numpy as np\n",
    "\n",
    "%matplotlib inline\n",
    "import matplotlib.pyplot as plots\n",
    "plots.style.use('fivethirtyeight')\n",
    "\n",
    "from client.api.notebook import Notebook\n",
    "ok = Notebook('project1.ok')"
   ]
  },
  {
   "cell_type": "markdown",
   "metadata": {},
   "source": [
    "Before continuing the assignment, select \"Save and Checkpoint\" in the File menu and then execute the submit cell below. The result will contain a link that you can use to check that your assignment has been submitted successfully. If you submit more than once before the deadline, we will only grade your final submission. If you mistakenly submit the wrong one, you can head to okpy.org and flag the correct version. There will be another submit cell at the end of the assignment when you finish!"
   ]
  },
  {
   "cell_type": "code",
   "execution_count": 3,
   "metadata": {},
   "outputs": [
    {
     "data": {
      "application/javascript": [
       "IPython.notebook.save_checkpoint();"
      ],
      "text/plain": [
       "<IPython.core.display.Javascript object>"
      ]
     },
     "metadata": {},
     "output_type": "display_data"
    },
    {
     "data": {
      "application/javascript": [
       "IPython.notebook.save_notebook();"
      ],
      "text/plain": [
       "<IPython.core.display.Javascript object>"
      ]
     },
     "metadata": {},
     "output_type": "display_data"
    },
    {
     "name": "stdout",
     "output_type": "stream",
     "text": [
      "Saving notebook... Saved 'project1.ipynb'.\n",
      "Submit... 100% complete\n",
      "Submission successful for user: lillyliu@berkeley.edu\n",
      "URL: https://okpy.org/cal/data8/sp20/project1/submissions/WP337v\n",
      "\n"
     ]
    }
   ],
   "source": [
    "_ = ok.submit()"
   ]
  },
  {
   "cell_type": "markdown",
   "metadata": {
    "deletable": false,
    "editable": false
   },
   "source": [
    "## 1. Global Population Growth\n"
   ]
  },
  {
   "cell_type": "markdown",
   "metadata": {
    "deletable": false,
    "editable": false
   },
   "source": [
    "The global population of humans reached 1 billion around 1800, 3 billion around 1960, and 7 billion around 2011. The potential impact of exponential population growth has concerned scientists, economists, and politicians alike.\n",
    "\n",
    "The UN Population Division estimates that the world population will likely continue to grow throughout the 21st century, but at a slower rate, perhaps reaching 11 billion by 2100. However, the UN does not rule out scenarios of more extreme growth.\n",
    "\n",
    "<a href=\"http://www.pewresearch.org/fact-tank/2015/06/08/scientists-more-worried-than-public-about-worlds-growing-population/ft_15-06-04_popcount/\"> \n",
    " <img src=\"pew_population_projection.png\"/> \n",
    "</a>\n",
    "\n",
    "In this section, we will examine some of the factors that influence population growth and how they are changing around the world.\n",
    "\n",
    "The first table we will consider is the total population of each country over time. Run the cell below."
   ]
  },
  {
   "cell_type": "code",
   "execution_count": 4,
   "metadata": {
    "deletable": false,
    "editable": false
   },
   "outputs": [
    {
     "data": {
      "text/html": [
       "<table border=\"1\" class=\"dataframe\">\n",
       "    <thead>\n",
       "        <tr>\n",
       "            <th>geo</th> <th>time</th> <th>population_total</th>\n",
       "        </tr>\n",
       "    </thead>\n",
       "    <tbody>\n",
       "        <tr>\n",
       "            <td>abw </td> <td>1800</td> <td>19286           </td>\n",
       "        </tr>\n",
       "        <tr>\n",
       "            <td>abw </td> <td>1801</td> <td>19286           </td>\n",
       "        </tr>\n",
       "        <tr>\n",
       "            <td>abw </td> <td>1802</td> <td>19286           </td>\n",
       "        </tr>\n",
       "    </tbody>\n",
       "</table>\n",
       "<p>... (87792 rows omitted)</p>"
      ],
      "text/plain": [
       "<IPython.core.display.HTML object>"
      ]
     },
     "metadata": {},
     "output_type": "display_data"
    }
   ],
   "source": [
    "population = Table.read_table('population.csv')\n",
    "population.show(3)"
   ]
  },
  {
   "cell_type": "markdown",
   "metadata": {},
   "source": [
    "**Note:** The population csv file can also be found [here](https://github.com/open-numbers/ddf--gapminder--systema_globalis/raw/master/ddf--datapoints--population_total--by--geo--time.csv). The data for this project was downloaded in February 2017."
   ]
  },
  {
   "cell_type": "markdown",
   "metadata": {
    "deletable": false,
    "editable": false
   },
   "source": [
    "### Bangladesh\n",
    "\n",
    "In the `population` table, the `geo` column contains three-letter codes established by the [International Organization for Standardization](https://en.wikipedia.org/wiki/International_Organization_for_Standardization) (ISO) in the [Alpha-3](https://en.wikipedia.org/wiki/ISO_3166-1_alpha-3#Current_codes) standard. We will begin by taking a close look at Bangladesh. Inspect the standard to find the 3-letter code for Bangladesh."
   ]
  },
  {
   "cell_type": "markdown",
   "metadata": {
    "deletable": false,
    "editable": false
   },
   "source": [
    "**Question 1.** Create a table called `b_pop` that has two columns labeled `time` and `population_total`. The first column should contain the years from 1970 through 2015 (including both 1970 and 2015) and the second should contain the population of Bangladesh in each of those years.\n",
    "\n",
    "<!--\n",
    "BEGIN QUESTION\n",
    "name: q1_1\n",
    "-->"
   ]
  },
  {
   "cell_type": "code",
   "execution_count": 5,
   "metadata": {
    "deletable": false
   },
   "outputs": [
    {
     "data": {
      "text/html": [
       "<table border=\"1\" class=\"dataframe\">\n",
       "    <thead>\n",
       "        <tr>\n",
       "            <th>time</th> <th>population_total</th>\n",
       "        </tr>\n",
       "    </thead>\n",
       "    <tbody>\n",
       "        <tr>\n",
       "            <td>1970</td> <td>65048701        </td>\n",
       "        </tr>\n",
       "        <tr>\n",
       "            <td>1971</td> <td>66417450        </td>\n",
       "        </tr>\n",
       "        <tr>\n",
       "            <td>1972</td> <td>67578486        </td>\n",
       "        </tr>\n",
       "        <tr>\n",
       "            <td>1973</td> <td>68658472        </td>\n",
       "        </tr>\n",
       "        <tr>\n",
       "            <td>1974</td> <td>69837960        </td>\n",
       "        </tr>\n",
       "        <tr>\n",
       "            <td>1975</td> <td>71247153        </td>\n",
       "        </tr>\n",
       "        <tr>\n",
       "            <td>1976</td> <td>72930206        </td>\n",
       "        </tr>\n",
       "        <tr>\n",
       "            <td>1977</td> <td>74848466        </td>\n",
       "        </tr>\n",
       "        <tr>\n",
       "            <td>1978</td> <td>76948378        </td>\n",
       "        </tr>\n",
       "        <tr>\n",
       "            <td>1979</td> <td>79141947        </td>\n",
       "        </tr>\n",
       "    </tbody>\n",
       "</table>\n",
       "<p>... (36 rows omitted)</p>"
      ],
      "text/plain": [
       "time | population_total\n",
       "1970 | 65048701\n",
       "1971 | 66417450\n",
       "1972 | 67578486\n",
       "1973 | 68658472\n",
       "1974 | 69837960\n",
       "1975 | 71247153\n",
       "1976 | 72930206\n",
       "1977 | 74848466\n",
       "1978 | 76948378\n",
       "1979 | 79141947\n",
       "... (36 rows omitted)"
      ]
     },
     "execution_count": 5,
     "metadata": {},
     "output_type": "execute_result"
    }
   ],
   "source": [
    "b_pop = population.where(\"geo\", are.equal_to(\"bgd\")).where(\"time\", are.between(1970, 2016)).select(\"time\", \"population_total\")\n",
    "b_pop"
   ]
  },
  {
   "cell_type": "code",
   "execution_count": 6,
   "metadata": {
    "deletable": false,
    "editable": false
   },
   "outputs": [
    {
     "name": "stdout",
     "output_type": "stream",
     "text": [
      "~~~~~~~~~~~~~~~~~~~~~~~~~~~~~~~~~~~~~~~~~~~~~~~~~~~~~~~~~~~~~~~~~~~~~\n",
      "Running tests\n",
      "\n",
      "---------------------------------------------------------------------\n",
      "Test summary\n",
      "    Passed: 2\n",
      "    Failed: 0\n",
      "[ooooooooook] 100.0% passed\n",
      "\n"
     ]
    }
   ],
   "source": [
    "ok.grade(\"q1_1\");"
   ]
  },
  {
   "cell_type": "markdown",
   "metadata": {
    "deletable": false,
    "editable": false
   },
   "source": [
    "Run the following cell to create a table called `b_five` that has the population of Bangladesh every five years. At a glance, it appears that the population of Bangladesh has been growing quickly indeed!"
   ]
  },
  {
   "cell_type": "code",
   "execution_count": 7,
   "metadata": {
    "deletable": false,
    "editable": false
   },
   "outputs": [
    {
     "data": {
      "text/html": [
       "<table border=\"1\" class=\"dataframe\">\n",
       "    <thead>\n",
       "        <tr>\n",
       "            <th>time</th> <th>population_total</th>\n",
       "        </tr>\n",
       "    </thead>\n",
       "    <tbody>\n",
       "        <tr>\n",
       "            <td>1970</td> <td>65,048,701      </td>\n",
       "        </tr>\n",
       "        <tr>\n",
       "            <td>1975</td> <td>71,247,153      </td>\n",
       "        </tr>\n",
       "        <tr>\n",
       "            <td>1980</td> <td>81,364,176      </td>\n",
       "        </tr>\n",
       "        <tr>\n",
       "            <td>1985</td> <td>93,015,182      </td>\n",
       "        </tr>\n",
       "        <tr>\n",
       "            <td>1990</td> <td>105,983,136     </td>\n",
       "        </tr>\n",
       "        <tr>\n",
       "            <td>1995</td> <td>118,427,768     </td>\n",
       "        </tr>\n",
       "        <tr>\n",
       "            <td>2000</td> <td>131,280,739     </td>\n",
       "        </tr>\n",
       "        <tr>\n",
       "            <td>2005</td> <td>142,929,979     </td>\n",
       "        </tr>\n",
       "        <tr>\n",
       "            <td>2010</td> <td>151,616,777     </td>\n",
       "        </tr>\n",
       "        <tr>\n",
       "            <td>2015</td> <td>160,995,642     </td>\n",
       "        </tr>\n",
       "    </tbody>\n",
       "</table>"
      ],
      "text/plain": [
       "time | population_total\n",
       "1970 | 65,048,701\n",
       "1975 | 71,247,153\n",
       "1980 | 81,364,176\n",
       "1985 | 93,015,182\n",
       "1990 | 105,983,136\n",
       "1995 | 118,427,768\n",
       "2000 | 131,280,739\n",
       "2005 | 142,929,979\n",
       "2010 | 151,616,777\n",
       "2015 | 160,995,642"
      ]
     },
     "execution_count": 7,
     "metadata": {},
     "output_type": "execute_result"
    }
   ],
   "source": [
    "b_pop.set_format('population_total', NumberFormatter)\n",
    "\n",
    "fives = np.arange(1970, 2016, 5) # 1970, 1975, 1980, ...\n",
    "b_five = b_pop.sort('time').where('time', are.contained_in(fives))\n",
    "b_five"
   ]
  },
  {
   "cell_type": "markdown",
   "metadata": {
    "deletable": false,
    "editable": false
   },
   "source": [
    "**Question 2.** Assign `initial` to an array that contains the population for every five year interval from 1970 to 2010. Then, assign `changed` to an array that contains the population for every five year interval from 1975 to 2015. You should use the `b_five` table to create both arrays, first filtering the table to only contain the relevant years.\n",
    "\n",
    "We have provided the code below that uses  `initial` and `changed` in order to add a column to `b_five` called `annual_growth`. Don't worry about the calculation of the growth rates; run the test below to test your solution.\n",
    "\n",
    "If you are interested in how we came up with the formula for growth rates, consult the [growth rates](https://www.inferentialthinking.com/chapters/03/2/1/growth) section of the textbook.\n",
    "\n",
    "<!--\n",
    "BEGIN QUESTION\n",
    "name: q1_2\n",
    "-->"
   ]
  },
  {
   "cell_type": "code",
   "execution_count": 8,
   "metadata": {
    "deletable": false
   },
   "outputs": [
    {
     "data": {
      "text/html": [
       "<table border=\"1\" class=\"dataframe\">\n",
       "    <thead>\n",
       "        <tr>\n",
       "            <th>time</th> <th>population_total</th> <th>annual_growth</th>\n",
       "        </tr>\n",
       "    </thead>\n",
       "    <tbody>\n",
       "        <tr>\n",
       "            <td>1970</td> <td>65,048,701      </td> <td>1.84%        </td>\n",
       "        </tr>\n",
       "        <tr>\n",
       "            <td>1975</td> <td>71,247,153      </td> <td>2.69%        </td>\n",
       "        </tr>\n",
       "        <tr>\n",
       "            <td>1980</td> <td>81,364,176      </td> <td>2.71%        </td>\n",
       "        </tr>\n",
       "        <tr>\n",
       "            <td>1985</td> <td>93,015,182      </td> <td>2.64%        </td>\n",
       "        </tr>\n",
       "        <tr>\n",
       "            <td>1990</td> <td>105,983,136     </td> <td>2.25%        </td>\n",
       "        </tr>\n",
       "        <tr>\n",
       "            <td>1995</td> <td>118,427,768     </td> <td>2.08%        </td>\n",
       "        </tr>\n",
       "        <tr>\n",
       "            <td>2000</td> <td>131,280,739     </td> <td>1.71%        </td>\n",
       "        </tr>\n",
       "        <tr>\n",
       "            <td>2005</td> <td>142,929,979     </td> <td>1.19%        </td>\n",
       "        </tr>\n",
       "        <tr>\n",
       "            <td>2010</td> <td>151,616,777     </td> <td>1.21%        </td>\n",
       "        </tr>\n",
       "    </tbody>\n",
       "</table>"
      ],
      "text/plain": [
       "time | population_total | annual_growth\n",
       "1970 | 65,048,701       | 1.84%\n",
       "1975 | 71,247,153       | 2.69%\n",
       "1980 | 81,364,176       | 2.71%\n",
       "1985 | 93,015,182       | 2.64%\n",
       "1990 | 105,983,136      | 2.25%\n",
       "1995 | 118,427,768      | 2.08%\n",
       "2000 | 131,280,739      | 1.71%\n",
       "2005 | 142,929,979      | 1.19%\n",
       "2010 | 151,616,777      | 1.21%"
      ]
     },
     "execution_count": 8,
     "metadata": {},
     "output_type": "execute_result"
    }
   ],
   "source": [
    "initial = b_five.where(\"time\", are.between(1970, 2011)).column(\"population_total\")\n",
    "changed = b_five.where(\"time\", are.between(1975, 2016)).column(\"population_total\")\n",
    "\n",
    "b_1970_through_2010 = b_five.where('time', are.below_or_equal_to(2010)) \n",
    "b_five_growth = b_1970_through_2010.with_column('annual_growth', (changed/initial)**0.2-1)\n",
    "b_five_growth.set_format('annual_growth', PercentFormatter)"
   ]
  },
  {
   "cell_type": "code",
   "execution_count": 9,
   "metadata": {
    "deletable": false,
    "editable": false
   },
   "outputs": [
    {
     "name": "stdout",
     "output_type": "stream",
     "text": [
      "~~~~~~~~~~~~~~~~~~~~~~~~~~~~~~~~~~~~~~~~~~~~~~~~~~~~~~~~~~~~~~~~~~~~~\n",
      "Running tests\n",
      "\n",
      "---------------------------------------------------------------------\n",
      "Test summary\n",
      "    Passed: 2\n",
      "    Failed: 0\n",
      "[ooooooooook] 100.0% passed\n",
      "\n"
     ]
    }
   ],
   "source": [
    "ok.grade(\"q1_2\");"
   ]
  },
  {
   "cell_type": "markdown",
   "metadata": {
    "deletable": false,
    "editable": false
   },
   "source": [
    "While the population has grown every five years since 1970, the annual growth rate decreased dramatically from 1985 to 2005. Let's look at some other information in order to develop a possible explanation. Run the next cell to load three additional tables of measurements about countries over time."
   ]
  },
  {
   "cell_type": "code",
   "execution_count": 10,
   "metadata": {
    "deletable": false,
    "editable": false
   },
   "outputs": [],
   "source": [
    "life_expectancy = Table.read_table('life_expectancy.csv')\n",
    "child_mortality = Table.read_table('child_mortality.csv').relabel(2, 'child_mortality_under_5_per_1000_born')\n",
    "fertility = Table.read_table('fertility.csv')"
   ]
  },
  {
   "cell_type": "markdown",
   "metadata": {
    "deletable": false,
    "editable": false
   },
   "source": [
    "The `life_expectancy` table contains a statistic that is often used to measure how long people live, called *life expectancy at birth*. This number, for a country in a given year, [does not measure how long babies born in that year are expected to live](http://blogs.worldbank.org/opendata/what-does-life-expectancy-birth-really-mean). Instead, it measures how long someone would live, on average, if the *mortality conditions* in that year persisted throughout their lifetime. These \"mortality conditions\" describe what fraction of people at each age survived the year. So, it is a way of measuring the proportion of people that are staying alive, aggregated over different age groups in the population."
   ]
  },
  {
   "cell_type": "markdown",
   "metadata": {},
   "source": [
    "Run the following cells below to see `life_expectancy`, `child_mortality`, and `fertility`. Refer back to these tables as they will be helpful for answering further questions!"
   ]
  },
  {
   "cell_type": "code",
   "execution_count": 11,
   "metadata": {},
   "outputs": [
    {
     "data": {
      "text/html": [
       "<table border=\"1\" class=\"dataframe\">\n",
       "    <thead>\n",
       "        <tr>\n",
       "            <th>geo</th> <th>time</th> <th>life_expectancy_years</th>\n",
       "        </tr>\n",
       "    </thead>\n",
       "    <tbody>\n",
       "        <tr>\n",
       "            <td>afg </td> <td>1800</td> <td>28.21                </td>\n",
       "        </tr>\n",
       "        <tr>\n",
       "            <td>afg </td> <td>1801</td> <td>28.2                 </td>\n",
       "        </tr>\n",
       "        <tr>\n",
       "            <td>afg </td> <td>1802</td> <td>28.19                </td>\n",
       "        </tr>\n",
       "        <tr>\n",
       "            <td>afg </td> <td>1803</td> <td>28.18                </td>\n",
       "        </tr>\n",
       "        <tr>\n",
       "            <td>afg </td> <td>1804</td> <td>28.17                </td>\n",
       "        </tr>\n",
       "        <tr>\n",
       "            <td>afg </td> <td>1805</td> <td>28.16                </td>\n",
       "        </tr>\n",
       "        <tr>\n",
       "            <td>afg </td> <td>1806</td> <td>28.15                </td>\n",
       "        </tr>\n",
       "        <tr>\n",
       "            <td>afg </td> <td>1807</td> <td>28.14                </td>\n",
       "        </tr>\n",
       "        <tr>\n",
       "            <td>afg </td> <td>1808</td> <td>28.13                </td>\n",
       "        </tr>\n",
       "        <tr>\n",
       "            <td>afg </td> <td>1809</td> <td>28.12                </td>\n",
       "        </tr>\n",
       "    </tbody>\n",
       "</table>\n",
       "<p>... (43847 rows omitted)</p>"
      ],
      "text/plain": [
       "geo  | time | life_expectancy_years\n",
       "afg  | 1800 | 28.21\n",
       "afg  | 1801 | 28.2\n",
       "afg  | 1802 | 28.19\n",
       "afg  | 1803 | 28.18\n",
       "afg  | 1804 | 28.17\n",
       "afg  | 1805 | 28.16\n",
       "afg  | 1806 | 28.15\n",
       "afg  | 1807 | 28.14\n",
       "afg  | 1808 | 28.13\n",
       "afg  | 1809 | 28.12\n",
       "... (43847 rows omitted)"
      ]
     },
     "execution_count": 11,
     "metadata": {},
     "output_type": "execute_result"
    }
   ],
   "source": [
    "life_expectancy"
   ]
  },
  {
   "cell_type": "code",
   "execution_count": 12,
   "metadata": {},
   "outputs": [
    {
     "data": {
      "text/html": [
       "<table border=\"1\" class=\"dataframe\">\n",
       "    <thead>\n",
       "        <tr>\n",
       "            <th>geo</th> <th>time</th> <th>child_mortality_under_5_per_1000_born</th>\n",
       "        </tr>\n",
       "    </thead>\n",
       "    <tbody>\n",
       "        <tr>\n",
       "            <td>afg </td> <td>1800</td> <td>468.6                                </td>\n",
       "        </tr>\n",
       "        <tr>\n",
       "            <td>afg </td> <td>1801</td> <td>468.6                                </td>\n",
       "        </tr>\n",
       "        <tr>\n",
       "            <td>afg </td> <td>1802</td> <td>468.6                                </td>\n",
       "        </tr>\n",
       "        <tr>\n",
       "            <td>afg </td> <td>1803</td> <td>468.6                                </td>\n",
       "        </tr>\n",
       "        <tr>\n",
       "            <td>afg </td> <td>1804</td> <td>468.6                                </td>\n",
       "        </tr>\n",
       "        <tr>\n",
       "            <td>afg </td> <td>1805</td> <td>468.6                                </td>\n",
       "        </tr>\n",
       "        <tr>\n",
       "            <td>afg </td> <td>1806</td> <td>470                                  </td>\n",
       "        </tr>\n",
       "        <tr>\n",
       "            <td>afg </td> <td>1807</td> <td>470                                  </td>\n",
       "        </tr>\n",
       "        <tr>\n",
       "            <td>afg </td> <td>1808</td> <td>470                                  </td>\n",
       "        </tr>\n",
       "        <tr>\n",
       "            <td>afg </td> <td>1809</td> <td>470                                  </td>\n",
       "        </tr>\n",
       "    </tbody>\n",
       "</table>\n",
       "<p>... (40746 rows omitted)</p>"
      ],
      "text/plain": [
       "geo  | time | child_mortality_under_5_per_1000_born\n",
       "afg  | 1800 | 468.6\n",
       "afg  | 1801 | 468.6\n",
       "afg  | 1802 | 468.6\n",
       "afg  | 1803 | 468.6\n",
       "afg  | 1804 | 468.6\n",
       "afg  | 1805 | 468.6\n",
       "afg  | 1806 | 470\n",
       "afg  | 1807 | 470\n",
       "afg  | 1808 | 470\n",
       "afg  | 1809 | 470\n",
       "... (40746 rows omitted)"
      ]
     },
     "execution_count": 12,
     "metadata": {},
     "output_type": "execute_result"
    }
   ],
   "source": [
    "child_mortality"
   ]
  },
  {
   "cell_type": "code",
   "execution_count": 13,
   "metadata": {},
   "outputs": [
    {
     "data": {
      "text/html": [
       "<table border=\"1\" class=\"dataframe\">\n",
       "    <thead>\n",
       "        <tr>\n",
       "            <th>geo</th> <th>time</th> <th>children_per_woman_total_fertility</th>\n",
       "        </tr>\n",
       "    </thead>\n",
       "    <tbody>\n",
       "        <tr>\n",
       "            <td>afg </td> <td>1800</td> <td>7                                 </td>\n",
       "        </tr>\n",
       "        <tr>\n",
       "            <td>afg </td> <td>1801</td> <td>7                                 </td>\n",
       "        </tr>\n",
       "        <tr>\n",
       "            <td>afg </td> <td>1802</td> <td>7                                 </td>\n",
       "        </tr>\n",
       "        <tr>\n",
       "            <td>afg </td> <td>1803</td> <td>7                                 </td>\n",
       "        </tr>\n",
       "        <tr>\n",
       "            <td>afg </td> <td>1804</td> <td>7                                 </td>\n",
       "        </tr>\n",
       "        <tr>\n",
       "            <td>afg </td> <td>1805</td> <td>7                                 </td>\n",
       "        </tr>\n",
       "        <tr>\n",
       "            <td>afg </td> <td>1806</td> <td>7                                 </td>\n",
       "        </tr>\n",
       "        <tr>\n",
       "            <td>afg </td> <td>1807</td> <td>7                                 </td>\n",
       "        </tr>\n",
       "        <tr>\n",
       "            <td>afg </td> <td>1808</td> <td>7                                 </td>\n",
       "        </tr>\n",
       "        <tr>\n",
       "            <td>afg </td> <td>1809</td> <td>7                                 </td>\n",
       "        </tr>\n",
       "    </tbody>\n",
       "</table>\n",
       "<p>... (43402 rows omitted)</p>"
      ],
      "text/plain": [
       "geo  | time | children_per_woman_total_fertility\n",
       "afg  | 1800 | 7\n",
       "afg  | 1801 | 7\n",
       "afg  | 1802 | 7\n",
       "afg  | 1803 | 7\n",
       "afg  | 1804 | 7\n",
       "afg  | 1805 | 7\n",
       "afg  | 1806 | 7\n",
       "afg  | 1807 | 7\n",
       "afg  | 1808 | 7\n",
       "afg  | 1809 | 7\n",
       "... (43402 rows omitted)"
      ]
     },
     "execution_count": 13,
     "metadata": {},
     "output_type": "execute_result"
    }
   ],
   "source": [
    "fertility"
   ]
  },
  {
   "cell_type": "markdown",
   "metadata": {
    "deletable": false,
    "editable": false
   },
   "source": [
    "**Question 3.** Perhaps population is growing more slowly because people aren't living as long. Use the `life_expectancy` table to draw a line graph with the years 1970 and later on the horizontal axis that shows how the *life expectancy at birth* has changed in Bangladesh.\n",
    "\n",
    "<!--\n",
    "BEGIN QUESTION\n",
    "name: q1_3\n",
    "manual: true\n",
    "-->\n",
    "<!-- EXPORT TO PDF -->"
   ]
  },
  {
   "cell_type": "code",
   "execution_count": 14,
   "metadata": {
    "deletable": false,
    "export_pdf": true,
    "manual_grade": true,
    "manual_problem_id": "global_pop_3"
   },
   "outputs": [
    {
     "data": {
      "image/png": "[encoded data removed]",
      "text/plain": [
       "<Figure size 432x288 with 1 Axes>"
      ]
     },
     "metadata": {},
     "output_type": "display_data"
    }
   ],
   "source": [
    "#Fill in code here\n",
    "lifeUpdate = life_expectancy.where(\"time\", are.above(1969)).where(\"geo\", are.equal_to(\"bgd\"))\n",
    "lifeUpdate.plot(\"time\", \"life_expectancy_years\")"
   ]
  },
  {
   "cell_type": "markdown",
   "metadata": {
    "deletable": false,
    "editable": false
   },
   "source": [
    "**Question 4.** Assuming everything else stays the same, do the trends in life expectancy in the graph above directly explain why the population growth rate decreased from 1985 to 2010 in Bangladesh? Why or why not? \n",
    "\n",
    "Hint: What happened in Bangladesh in 1991, and does that event explain the overall change in population growth rate?\n",
    "\n",
    "<!--\n",
    "BEGIN QUESTION\n",
    "name: q1_4\n",
    "manual: true\n",
    "-->\n",
    "<!-- EXPORT TO PDF -->"
   ]
  },
  {
   "cell_type": "markdown",
   "metadata": {
    "collapsed": true,
    "deletable": false,
    "export_pdf": true,
    "manual_grade": true,
    "manual_problem_id": "global_pop_4"
   },
   "source": [
    "Increases in life expectancy can help explain why the population growth rate changed over time, but they cannot directly explain why. This is because confounding factors, like the damaged infrastructure/lack of resources after the huge cyclone that hit Bangladesh in 1991, can change the both the life expectancy at birth and the population growth rate. \n"
   ]
  },
  {
   "cell_type": "markdown",
   "metadata": {
    "deletable": false,
    "editable": false
   },
   "source": [
    "The `fertility` table contains a statistic that is often used to measure how many babies are being born, the *total fertility rate*. This number describes the [number of children a woman would have in her lifetime](https://www.measureevaluation.org/prh/rh_indicators/specific/fertility/total-fertility-rate), on average, if the current rates of birth by age of the mother persisted throughout her child bearing years, assuming she survived through age 49. "
   ]
  },
  {
   "cell_type": "markdown",
   "metadata": {
    "deletable": false,
    "editable": false
   },
   "source": [
    "**Question 5.** Write a function `fertility_over_time` that takes the Alpha-3 code of a `country` and a `start` year. It returns a two-column table with labels `Year` and `Children per woman` that can be used to generate a line chart of the country's fertility rate each year, starting at the `start` year. The plot should include the `start` year and all later years that appear in the `fertility` table. \n",
    "\n",
    "Then, in the next cell, call your `fertility_over_time` function on the Alpha-3 code for Bangladesh and the year 1970 in order to plot how Bangladesh's fertility rate has changed since 1970. Note that the function `fertility_over_time` should not return the plot itself. **The expression that draws the line plot is provided for you; please don't change it.**\n",
    "\n",
    "<!--\n",
    "BEGIN QUESTION\n",
    "name: q1_5\n",
    "-->"
   ]
  },
  {
   "cell_type": "code",
   "execution_count": 15,
   "metadata": {
    "deletable": false
   },
   "outputs": [
    {
     "data": {
      "image/png": "[encoded data removed]",
      "text/plain": [
       "<Figure size 432x288 with 1 Axes>"
      ]
     },
     "metadata": {},
     "output_type": "display_data"
    }
   ],
   "source": [
    "def fertility_over_time(country, start):\n",
    "    \"\"\"Create a two-column table that describes a country's total fertility rate each year.\"\"\"\n",
    "    country_fertility = fertility.where(\"geo\", are.equal_to(country))\n",
    "    country_fertility_after_start = country_fertility.where(\"time\", are.above(start-1))\n",
    "    cleaned_table = country_fertility_after_start.select(\"time\", \"children_per_woman_total_fertility\").relabel(\"time\", \"Year\").relabel(\"children_per_woman_total_fertility\", \"Children per woman\")\n",
    "    return cleaned_table\n",
    "\n",
    "bangladesh_code = \"bgd\"\n",
    "fertility_over_time(bangladesh_code, 1970).plot(0, 1) # You should *not* change this line."
   ]
  },
  {
   "cell_type": "code",
   "execution_count": 16,
   "metadata": {
    "deletable": false,
    "editable": false
   },
   "outputs": [
    {
     "name": "stdout",
     "output_type": "stream",
     "text": [
      "~~~~~~~~~~~~~~~~~~~~~~~~~~~~~~~~~~~~~~~~~~~~~~~~~~~~~~~~~~~~~~~~~~~~~\n",
      "Running tests\n",
      "\n",
      "---------------------------------------------------------------------\n",
      "Test summary\n",
      "    Passed: 3\n",
      "    Failed: 0\n",
      "[ooooooooook] 100.0% passed\n",
      "\n"
     ]
    }
   ],
   "source": [
    "ok.grade(\"q1_5\");"
   ]
  },
  {
   "cell_type": "markdown",
   "metadata": {
    "deletable": false,
    "editable": false
   },
   "source": [
    "**Question 6.** Assuming everything else is constant, do the trends in fertility in the graph above help directly explain why the population growth rate decreased from 1985 to 2010 in Bangladesh? Why or why not?\n",
    "\n",
    "<!--\n",
    "BEGIN QUESTION\n",
    "name: q1_6\n",
    "manual: true\n",
    "-->\n",
    "<!-- EXPORT TO PDF -->"
   ]
  },
  {
   "cell_type": "markdown",
   "metadata": {
    "deletable": false,
    "export_pdf": true,
    "manual_grade": true,
    "manual_problem_id": "global_pop_6"
   },
   "source": [
    "Yes, the trends in the fertility graph help explain why the population growth rate decreased because there are less children in each household every year (decreasing trend), meaning that women were having less kids from 1985 to 2010. If everything else is constant, the decrease in fertility as shown in the graph can directly explain why the population growth rate decreased over this time period. This is because increased birth rate is directly correlated to the growth of the population, and if everything else is constant, then increased fertility rates can directly explain this change."
   ]
  },
  {
   "cell_type": "markdown",
   "metadata": {
    "deletable": false,
    "editable": false
   },
   "source": [
    "It has been observed that lower fertility rates are often associated with lower child mortality rates. The link has been attributed to family planning: if parents can expect that their children will all survive into adulthood, then they will choose to have fewer children. We can see if this association is evident in Bangladesh by plotting the relationship between total fertility rate and [child mortality rate per 1000 children](https://en.wikipedia.org/wiki/Child_mortality)."
   ]
  },
  {
   "cell_type": "markdown",
   "metadata": {
    "deletable": false,
    "editable": false
   },
   "source": [
    "**Question 7.** Using both the `fertility` and `child_mortality` tables, draw a scatter diagram that has Bangladesh's total fertility on the horizontal axis and its child mortality on the vertical axis with one point for each year, starting with 1970.\n",
    "\n",
    "**The expression that draws the scatter diagram is provided for you; please don't change it.** Instead, create a table called `post_1969_fertility_and_child_mortality` with the appropriate column labels and data in order to generate the chart correctly. Use the label `Children per woman` to describe total fertility and the label `Child deaths per 1000 born` to describe child mortality.\n",
    "\n",
    "<!--\n",
    "BEGIN QUESTION\n",
    "name: q1_7\n",
    "manual: false\n",
    "-->"
   ]
  },
  {
   "cell_type": "code",
   "execution_count": 17,
   "metadata": {
    "deletable": false
   },
   "outputs": [
    {
     "data": {
      "image/png": "[encoded data removed]",
      "text/plain": [
       "<Figure size 360x360 with 1 Axes>"
      ]
     },
     "metadata": {},
     "output_type": "display_data"
    }
   ],
   "source": [
    "bgd_fertility = fertility.where(\"geo\", are.equal_to(\"bgd\")) #.select(\"children_per_woman_total_fertility\")\n",
    "bgd_child_mortality = child_mortality.where(\"geo\", are.equal_to(\"bgd\")) #.select(\"child_mortality_under_5_per_1000_born\")\n",
    "fertility_and_child_mortality = bgd_fertility.join(\"time\", bgd_child_mortality, \"time\")\n",
    "fertility_and_child_mortality\n",
    "post_1969_fertility_and_child_mortality = fertility_and_child_mortality.where(\"time\", are.between(1970, 2016)).relabel(\"children_per_woman_total_fertility\", \"Children per woman\").relabel(\"child_mortality_under_5_per_1000_born\", \"Child deaths per 1000 born\")\n",
    "post_1969_fertility_and_child_mortality.scatter('Children per woman', 'Child deaths per 1000 born') # You should *not* change this line."
   ]
  },
  {
   "cell_type": "code",
   "execution_count": 18,
   "metadata": {
    "deletable": false,
    "editable": false
   },
   "outputs": [
    {
     "name": "stdout",
     "output_type": "stream",
     "text": [
      "~~~~~~~~~~~~~~~~~~~~~~~~~~~~~~~~~~~~~~~~~~~~~~~~~~~~~~~~~~~~~~~~~~~~~\n",
      "Running tests\n",
      "\n",
      "---------------------------------------------------------------------\n",
      "Test summary\n",
      "    Passed: 2\n",
      "    Failed: 0\n",
      "[ooooooooook] 100.0% passed\n",
      "\n"
     ]
    }
   ],
   "source": [
    "ok.grade(\"q1_7\");"
   ]
  },
  {
   "cell_type": "markdown",
   "metadata": {
    "deletable": false,
    "editable": false
   },
   "source": [
    "**Question 8.** In one or two sentences, describe the association (if any) that is illustrated by this scatter diagram. Does the diagram show that reduced child mortality causes parents to choose to have fewer children?\n",
    "\n",
    "<!--\n",
    "BEGIN QUESTION\n",
    "name: q1_8\n",
    "manual: true\n",
    "-->\n",
    "<!-- EXPORT TO PDF -->"
   ]
  },
  {
   "cell_type": "markdown",
   "metadata": {
    "deletable": false,
    "export_pdf": true,
    "manual_grade": true,
    "manual_problem_id": "global_pop_8"
   },
   "source": [
    "While there is a strong positive association between the number of children per woman and the number of deaths per 1000 born, this does not necessarily show that reduced child mortality causes parents to choose to have fewer children. When the number of children increases, the number of child deaths also increase and when the number of children decreases, the number of child deaths also decreases; this association does not imply causation. Therefore, due to confounding factors, we cannot conclude that one directly causes the other, as there may be confounding factors."
   ]
  },
  {
   "cell_type": "markdown",
   "metadata": {},
   "source": [
    "### Checkpoint (due Friday 2/21)\n",
    "#### Congratulations, you have reached the checkpoint! Run the submit cell below to generate the checkpoint submission."
   ]
  },
  {
   "cell_type": "code",
   "execution_count": 19,
   "metadata": {},
   "outputs": [
    {
     "name": "stdout",
     "output_type": "stream",
     "text": [
      "\n",
      "Open the following URL:\n",
      "\n",
      "https://okpy.org/client/login/\n",
      "\n",
      "After logging in, copy the code from the web page and paste it into the box.\n",
      "Then press the \"Enter\" key on your keyboard.\n",
      "\n",
      "Paste your code here: Lmv09ikShXaNifeLm0fxFyqMl3KxKI\n",
      "Successfully logged in as lillyliu@berkeley.edu\n"
     ]
    },
    {
     "data": {
      "application/javascript": [
       "IPython.notebook.save_checkpoint();"
      ],
      "text/plain": [
       "<IPython.core.display.Javascript object>"
      ]
     },
     "metadata": {},
     "output_type": "display_data"
    },
    {
     "data": {
      "application/javascript": [
       "IPython.notebook.save_notebook();"
      ],
      "text/plain": [
       "<IPython.core.display.Javascript object>"
      ]
     },
     "metadata": {},
     "output_type": "display_data"
    },
    {
     "name": "stdout",
     "output_type": "stream",
     "text": [
      "Saving notebook... Saved 'project1.ipynb'.\n",
      "Submit... 100% complete\n",
      "Submission successful for user: lillyliu@berkeley.edu\n",
      "URL: https://okpy.org/cal/data8/sp20/project1/submissions/16JJrP\n",
      "\n"
     ]
    }
   ],
   "source": [
    "ok.auth(force=True)\n",
    "_ = ok.submit()"
   ]
  },
  {
   "cell_type": "markdown",
   "metadata": {
    "deletable": false,
    "editable": false
   },
   "source": [
    "### The World\n",
    "\n",
    "The change observed in Bangladesh since 1970 can also be observed in many other developing countries: health services improve, life expectancy increases, and child mortality decreases. At the same time, the fertility rate often plummets, and so the population growth rate decreases despite increasing longevity."
   ]
  },
  {
   "cell_type": "markdown",
   "metadata": {
    "deletable": false,
    "editable": false
   },
   "source": [
    "Run the cell below to generate two overlaid histograms, one for 1960 and one for 2010, that show the distributions of total fertility rates for these two years among all 201 countries in the `fertility` table."
   ]
  },
  {
   "cell_type": "code",
   "execution_count": 20,
   "metadata": {
    "deletable": false
   },
   "outputs": [
    {
     "data": {
      "image/png": "[encoded data removed]",
      "text/plain": [
       "<Figure size 432x288 with 1 Axes>"
      ]
     },
     "metadata": {},
     "output_type": "display_data"
    }
   ],
   "source": [
    "Table().with_columns(\n",
    "    '1960', fertility.where('time', 1960).column(2),\n",
    "    '2010', fertility.where('time', 2010).column(2)\n",
    ").hist(bins=np.arange(0, 10, 0.5), unit='child per woman')\n",
    "_ = plots.xlabel('Children per woman')\n",
    "_ = plots.ylabel('Percent per children per woman')\n",
    "_ = plots.xticks(np.arange(10))"
   ]
  },
  {
   "cell_type": "markdown",
   "metadata": {
    "deletable": false,
    "editable": false
   },
   "source": [
    "**Question 9.** Assign `fertility_statements` to an array of the numbers of each statement below that can be correctly inferred from these histograms.\n",
    "1. About the same number of countries had a fertility rate between 3.5 and 4.5 in both 1960 and 2010.\n",
    "1. In 2010, about 40% of countries had a fertility rate between 1.5 and 2.\n",
    "1. In 1960, less than 20% of countries had a fertility rate below 3.\n",
    "1. More countries had a fertility rate above 3 in 1960 than in 2010.\n",
    "1. At least half of countries had a fertility rate between 5 and 8 in 1960.\n",
    "1. At least half of countries had a fertility rate below 3 in 2010.\n",
    "\n",
    "<!--\n",
    "BEGIN QUESTION\n",
    "name: q1_9\n",
    "-->"
   ]
  },
  {
   "cell_type": "code",
   "execution_count": 21,
   "metadata": {
    "deletable": false
   },
   "outputs": [],
   "source": [
    "fertility_statements = ..."
   ]
  },
  {
   "cell_type": "code",
   "execution_count": 22,
   "metadata": {
    "deletable": false,
    "editable": false
   },
   "outputs": [
    {
     "name": "stdout",
     "output_type": "stream",
     "text": [
      "~~~~~~~~~~~~~~~~~~~~~~~~~~~~~~~~~~~~~~~~~~~~~~~~~~~~~~~~~~~~~~~~~~~~~\n",
      "Running tests\n",
      "\n",
      "---------------------------------------------------------------------\n",
      "q1_9 > Suite 1 > Case 1\n",
      "\n",
      ">>> # Please use a list of integers from 1 to 6;\n",
      ">>> all(x in range(1, 7) for x in set(fertility_statements))\n",
      "TypeError: 'ellipsis' object is not iterable\n",
      "\n",
      "# Error: expected\n",
      "#     True\n",
      "# but got\n",
      "#     Traceback (most recent call last):\n",
      "#       ...\n",
      "#     TypeError: 'ellipsis' object is not iterable\n",
      "\n",
      "Run only this test case with \"python3 ok -q q1_9 --suite 1 --case 1\"\n",
      "---------------------------------------------------------------------\n",
      "Test summary\n",
      "    Passed: 0\n",
      "    Failed: 1\n",
      "[k..........] 0.0% passed\n",
      "\n"
     ]
    }
   ],
   "source": [
    "ok.grade(\"q1_9\");"
   ]
  },
  {
   "cell_type": "markdown",
   "metadata": {
    "deletable": false,
    "editable": false
   },
   "source": [
    "**Question 10.** Draw a line plot of the world population from 1800 through 2005. The world population is the sum of all the country's populations. \n",
    "\n",
    "<!--\n",
    "BEGIN QUESTION\n",
    "name: q1_10\n",
    "manual: true\n",
    "-->\n",
    "<!-- EXPORT TO PDF -->"
   ]
  },
  {
   "cell_type": "code",
   "execution_count": 23,
   "metadata": {
    "deletable": false,
    "export_pdf": true,
    "manual_grade": true,
    "manual_problem_id": "global_pop_10"
   },
   "outputs": [],
   "source": [
    "#Fill in code here\n",
    "..."
   ]
  },
  {
   "cell_type": "markdown",
   "metadata": {
    "deletable": false,
    "editable": false
   },
   "source": [
    "**Question 11.** Create a function `stats_for_year` that takes a `year` and returns a table of statistics. The table it returns should have four columns: `geo`, `population_total`, `children_per_woman_total_fertility`, and `child_mortality_under_5_per_1000_born`. Each row should contain one Alpha-3 country code and three statistics: population, fertility rate, and child mortality for that `year` from the `population`, `fertility` and `child_mortality` tables. Only include rows for which all three statistics are available for the country and year.\n",
    "\n",
    "In addition, restrict the result to country codes that appears in `big_50`, an array of the 50 most populous countries in 2010. This restriction will speed up computations later in the project.\n",
    "\n",
    "After you write `stats_for_year`, try calling `stats_for_year` on any year between 1960 and 2010. Try to understand the output of stats_for_year.\n",
    "\n",
    "*Hint*: The tests for this question are quite comprehensive, so if you pass the tests, your function is probably correct. However, without calling your function yourself and looking at the output, it will be very difficult to understand any problems you have, so try your best to write the function correctly and check that it works before you rely on the `ok` tests to confirm your work.\n",
    "\n",
    "<!--\n",
    "BEGIN QUESTION\n",
    "name: q1_11\n",
    "manual: false\n",
    "-->"
   ]
  },
  {
   "cell_type": "code",
   "execution_count": 24,
   "metadata": {
    "deletable": false
   },
   "outputs": [
    {
     "data": {
      "text/plain": [
       "Ellipsis"
      ]
     },
     "execution_count": 24,
     "metadata": {},
     "output_type": "execute_result"
    }
   ],
   "source": [
    "# We first create a population table that only includes the \n",
    "# 50 countries with the largest 2010 populations. We focus on \n",
    "# these 50 countries only so that plotting later will run faster.\n",
    "big_50 = population.where('time', are.equal_to(2010)).sort(\"population_total\", descending=True).take(np.arange(50)).column('geo')\n",
    "population_of_big_50 = population.where('time', are.above(1959)).where('geo', are.contained_in(big_50))\n",
    "\n",
    "def stats_for_year(year):\n",
    "    \"\"\"Return a table of the stats for each country that year.\"\"\"\n",
    "    p = population_of_big_50.where('time', are.equal_to(year)).drop('time')\n",
    "    f = fertility.where('time', are.equal_to(year)).drop('time')\n",
    "    c = child_mortality.where('time', are.equal_to(year)).drop('time')\n",
    "    ...\n",
    "\n",
    "..."
   ]
  },
  {
   "cell_type": "code",
   "execution_count": 25,
   "metadata": {
    "deletable": false,
    "editable": false
   },
   "outputs": [
    {
     "name": "stdout",
     "output_type": "stream",
     "text": [
      "~~~~~~~~~~~~~~~~~~~~~~~~~~~~~~~~~~~~~~~~~~~~~~~~~~~~~~~~~~~~~~~~~~~~~\n",
      "Running tests\n",
      "\n",
      "---------------------------------------------------------------------\n",
      "q1_11 > Suite 1 > Case 1\n",
      "\n",
      ">>> # Incorrect labels for columns;\n",
      ">>> t = stats_for_year(1990);\n",
      ">>> t.labels == ('geo', 'population_total', 'children_per_woman_total_fertility', 'child_mortality_under_5_per_1000_born')\n",
      "AttributeError: 'NoneType' object has no attribute 'labels'\n",
      "\n",
      "# Error: expected\n",
      "#     True\n",
      "# but got\n",
      "#     Traceback (most recent call last):\n",
      "#       ...\n",
      "#     AttributeError: 'NoneType' object has no attribute 'labels'\n",
      "\n",
      "Run only this test case with \"python3 ok -q q1_11 --suite 1 --case 1\"\n",
      "---------------------------------------------------------------------\n",
      "Test summary\n",
      "    Passed: 0\n",
      "    Failed: 1\n",
      "[k..........] 0.0% passed\n",
      "\n"
     ]
    }
   ],
   "source": [
    "ok.grade(\"q1_11\");"
   ]
  },
  {
   "cell_type": "markdown",
   "metadata": {
    "deletable": false,
    "editable": false
   },
   "source": [
    "**Question 12.** Create a table called `pop_by_decade` with two columns called `decade` and `population`. It has a row for each `year` since 1960 that starts a decade. The `population` column contains the total population of all countries included in the result of `stats_for_year(year)` for the first `year` of the decade. For example, 1960 is the first year of the 1960's decade. You should see that these countries contain most of the world's population.\n",
    "\n",
    "*Hint:* One approach is to define a function `pop_for_year` that computes this total population, then `apply` it to the `decade` column.  The `stats_for_year` function from the previous question may be useful here.\n",
    "\n",
    "This first test is just a sanity check for your helper function if you choose to use it. You will not lose points for not implementing the function `pop_for_year`.\n",
    "\n",
    "**Note:** The cell where you will generate the `pop_by_decade` table is below the cell where you can choose to define the helper function `pop_for_year`. You should define your `pop_by_decade` table in the cell that starts with the table `decades` being defined. \n",
    "\n",
    "<!--\n",
    "BEGIN QUESTION\n",
    "name: q1_12_0\n",
    "manual: false\n",
    "points: 0\n",
    "-->"
   ]
  },
  {
   "cell_type": "code",
   "execution_count": 26,
   "metadata": {},
   "outputs": [],
   "source": [
    "def pop_for_year(year):\n",
    "    ..."
   ]
  },
  {
   "cell_type": "code",
   "execution_count": 27,
   "metadata": {
    "deletable": false,
    "editable": false
   },
   "outputs": [
    {
     "name": "stdout",
     "output_type": "stream",
     "text": [
      "~~~~~~~~~~~~~~~~~~~~~~~~~~~~~~~~~~~~~~~~~~~~~~~~~~~~~~~~~~~~~~~~~~~~~\n",
      "Running tests\n",
      "\n",
      "---------------------------------------------------------------------\n",
      "q1_12_0 > Suite 1 > Case 1\n",
      "\n",
      ">>> pop_for_year(1972) == 3345978384\n",
      "False\n",
      "\n",
      "# Error: expected\n",
      "#     True\n",
      "# but got\n",
      "#     False\n",
      "\n",
      "Run only this test case with \"python3 ok -q q1_12_0 --suite 1 --case 1\"\n",
      "---------------------------------------------------------------------\n",
      "Test summary\n",
      "    Passed: 0\n",
      "    Failed: 1\n",
      "[k..........] 0.0% passed\n",
      "\n"
     ]
    }
   ],
   "source": [
    "ok.grade(\"q1_12_0\");"
   ]
  },
  {
   "cell_type": "markdown",
   "metadata": {
    "deletable": false,
    "editable": false
   },
   "source": [
    "Now that you've defined your helper function (if you've chosen to do so), define the `pop_by_decade` table.\n",
    "\n",
    "<!--\n",
    "BEGIN QUESTION\n",
    "name: q1_12\n",
    "manual: false\n",
    "-->"
   ]
  },
  {
   "cell_type": "code",
   "execution_count": 28,
   "metadata": {
    "deletable": false
   },
   "outputs": [
    {
     "ename": "AttributeError",
     "evalue": "'ellipsis' object has no attribute 'set_format'",
     "output_type": "error",
     "traceback": [
      "\u001b[0;31m---------------------------------------------------------------------------\u001b[0m",
      "\u001b[0;31mAttributeError\u001b[0m                            Traceback (most recent call last)",
      "\u001b[0;32m<ipython-input-28-54b05eac127d>\u001b[0m in \u001b[0;36m<module>\u001b[0;34m\u001b[0m\n\u001b[1;32m      2\u001b[0m \u001b[0;34m\u001b[0m\u001b[0m\n\u001b[1;32m      3\u001b[0m \u001b[0mpop_by_decade\u001b[0m \u001b[0;34m=\u001b[0m \u001b[0;34m...\u001b[0m\u001b[0;34m\u001b[0m\u001b[0;34m\u001b[0m\u001b[0m\n\u001b[0;32m----> 4\u001b[0;31m \u001b[0mpop_by_decade\u001b[0m\u001b[0;34m.\u001b[0m\u001b[0mset_format\u001b[0m\u001b[0;34m(\u001b[0m\u001b[0;36m1\u001b[0m\u001b[0;34m,\u001b[0m \u001b[0mNumberFormatter\u001b[0m\u001b[0;34m)\u001b[0m\u001b[0;34m\u001b[0m\u001b[0;34m\u001b[0m\u001b[0m\n\u001b[0m",
      "\u001b[0;31mAttributeError\u001b[0m: 'ellipsis' object has no attribute 'set_format'"
     ]
    }
   ],
   "source": [
    "decades = Table().with_column('decade', np.arange(1960, 2011, 10))\n",
    "\n",
    "pop_by_decade = ...\n",
    "pop_by_decade.set_format(1, NumberFormatter)"
   ]
  },
  {
   "cell_type": "code",
   "execution_count": null,
   "metadata": {
    "deletable": false,
    "editable": false
   },
   "outputs": [],
   "source": [
    "ok.grade(\"q1_12\");"
   ]
  },
  {
   "cell_type": "markdown",
   "metadata": {
    "deletable": false,
    "editable": false
   },
   "source": [
    "The `countries` table describes various characteristics of countries. The `country` column contains the same codes as the `geo` column in each of the other data tables (`population`, `fertility`, and `child_mortality`). The `world_6region` column classifies each country into a region of the world. Run the cell below to inspect the data."
   ]
  },
  {
   "cell_type": "code",
   "execution_count": null,
   "metadata": {},
   "outputs": [],
   "source": [
    "countries = Table.read_table('countries.csv').where('country', are.contained_in(population.group('geo').column('geo')))\n",
    "countries.select('country', 'name', 'world_6region')"
   ]
  },
  {
   "cell_type": "markdown",
   "metadata": {
    "deletable": false,
    "editable": false
   },
   "source": [
    "**Question 13.** Create a table called `region_counts` that has two columns, `region` and `count`. It should contain two columns: a region column and a count column that contains the number of countries in each region that appear in the result of `stats_for_year(1960)`. For example, one row would have `south_asia` as its `world_6region` value and an integer as its `count` value: the number of large South Asian countries for which we have population, fertility, and child mortality numbers from 1960.\n",
    "\n",
    "<!--\n",
    "BEGIN QUESTION\n",
    "name: q1_13\n",
    "-->"
   ]
  },
  {
   "cell_type": "code",
   "execution_count": null,
   "metadata": {
    "deletable": false
   },
   "outputs": [],
   "source": [
    "region_counts = ...\n",
    "region_counts"
   ]
  },
  {
   "cell_type": "code",
   "execution_count": null,
   "metadata": {
    "deletable": false,
    "editable": false
   },
   "outputs": [],
   "source": [
    "ok.grade(\"q1_13\");"
   ]
  },
  {
   "cell_type": "markdown",
   "metadata": {
    "deletable": false,
    "editable": false
   },
   "source": [
    "The following scatter diagram compares total fertility rate and child mortality rate for each country in 1960. The area of each dot represents the population of the country, and the color represents its region of the world. Run the cell. Do you think you can identify any of the dots?"
   ]
  },
  {
   "cell_type": "code",
   "execution_count": null,
   "metadata": {
    "deletable": false
   },
   "outputs": [],
   "source": [
    "from functools import lru_cache as cache\n",
    "\n",
    "# This cache annotation makes sure that if the same year\n",
    "# is passed as an argument twice, the work of computing\n",
    "# the result is only carried out once.\n",
    "@cache(None)\n",
    "def stats_relabeled(year):\n",
    "    \"\"\"Relabeled and cached version of stats_for_year.\"\"\"\n",
    "    return stats_for_year(year).relabel(2, 'Children per woman').relabel(3, 'Child deaths per 1000 born')\n",
    "\n",
    "def fertility_vs_child_mortality(year):\n",
    "    \"\"\"Draw a color scatter diagram comparing child mortality and fertility.\"\"\"\n",
    "    with_region = stats_relabeled(year).join('geo', countries.select('country', 'world_6region'), 'country')\n",
    "    with_region.scatter(2, 3, sizes=1, group=4, s=500)\n",
    "    plots.xlim(0,10)\n",
    "    plots.ylim(-50, 500)\n",
    "    plots.title(year)\n",
    "\n",
    "fertility_vs_child_mortality(1960)"
   ]
  },
  {
   "cell_type": "markdown",
   "metadata": {
    "deletable": false,
    "editable": false
   },
   "source": [
    "**Question 14.** Assign `scatter_statements` to an array of the numbers of each statement below that can be inferred from this scatter diagram for 1960. \n",
    "1. As a whole, the `europe_central_asia` region had the lowest child mortality rate.\n",
    "1. The lowest child mortality rate of any country was from an `east_asia_pacific` country.\n",
    "1. Most countries had a fertility rate above 5.\n",
    "1. There was an association between child mortality and fertility.\n",
    "1. The two largest countries by population also had the two highest child mortality rate.\n",
    "\n",
    "<!--\n",
    "BEGIN QUESTION\n",
    "name: q1_14\n",
    "-->"
   ]
  },
  {
   "cell_type": "code",
   "execution_count": null,
   "metadata": {
    "deletable": false
   },
   "outputs": [],
   "source": [
    "scatter_statements = ..."
   ]
  },
  {
   "cell_type": "code",
   "execution_count": null,
   "metadata": {
    "deletable": false,
    "editable": false
   },
   "outputs": [],
   "source": [
    "ok.grade(\"q1_14\");"
   ]
  },
  {
   "cell_type": "markdown",
   "metadata": {
    "deletable": false
   },
   "source": [
    "The result of the cell below is interactive. Drag the slider to the right to see how countries have changed over time. You'll find that the great divide between so-called \"Western\" and \"developing\" countries that existed in the 1960's has nearly disappeared. This shift in fertility rates is the reason that the global population is expected to grow more slowly in the 21st century than it did in the 19th and 20th centuries.\n",
    "\n",
    "**Note:** Don't worry if a red warning pops up when running the cell below. You'll still be able to run the cell!"
   ]
  },
  {
   "cell_type": "code",
   "execution_count": null,
   "metadata": {
    "deletable": false,
    "scrolled": false
   },
   "outputs": [],
   "source": [
    "import ipywidgets as widgets\n",
    "\n",
    "# This part takes a few minutes to run because it \n",
    "# computes 55 tables in advance: one for each year.\n",
    "Table().with_column('Year', np.arange(1960, 2016)).apply(stats_relabeled, 'Year')\n",
    "\n",
    "_ = widgets.interact(fertility_vs_child_mortality, \n",
    "                     year=widgets.IntSlider(min=1960, max=2015, value=1960))"
   ]
  },
  {
   "cell_type": "markdown",
   "metadata": {
    "deletable": false,
    "editable": false
   },
   "source": [
    "Now is a great time to take a break and watch the same data presented by [Hans Rosling in a 2010 TEDx talk](https://www.gapminder.org/videos/reducing-child-mortality-a-moral-and-environmental-imperative) with smoother animation and witty commentary."
   ]
  },
  {
   "cell_type": "markdown",
   "metadata": {
    "deletable": false,
    "editable": false
   },
   "source": [
    "## 2. Global Poverty\n"
   ]
  },
  {
   "cell_type": "markdown",
   "metadata": {
    "deletable": false,
    "editable": false
   },
   "source": [
    "In 1800, 85% of the world's 1 billion people lived in *extreme poverty*, defined by the United Nations as \"a condition characterized by severe deprivation of basic human needs, including food, safe drinking water, sanitation facilities, health, shelter, education and information.\" A common measure of extreme poverty is a person living on less than \\$1.25 per day.\n",
    "\n",
    "In 2018, the proportion of people living in extreme poverty was estimated to be 8%. Although the world rate of extreme poverty has declined consistently for hundreds of years, the number of people living in extreme poverty is still over 600 million. The United Nations recently adopted an [ambitious goal](http://www.un.org/sustainabledevelopment/poverty/): \"By 2030, eradicate extreme poverty for all people everywhere.\"\n",
    "In this section, we will examine extreme poverty trends around the world."
   ]
  },
  {
   "cell_type": "markdown",
   "metadata": {
    "deletable": false,
    "editable": false
   },
   "source": [
    "First, load the population and poverty rate by country and year and the country descriptions. While the `population` table has values for every recent year for many countries, the `poverty` table only includes certain years for each country in which a measurement of the rate of extreme poverty was available."
   ]
  },
  {
   "cell_type": "code",
   "execution_count": 30,
   "metadata": {},
   "outputs": [
    {
     "data": {
      "text/html": [
       "<table border=\"1\" class=\"dataframe\">\n",
       "    <thead>\n",
       "        <tr>\n",
       "            <th>geo</th> <th>time</th> <th>population_total</th>\n",
       "        </tr>\n",
       "    </thead>\n",
       "    <tbody>\n",
       "        <tr>\n",
       "            <td>abw </td> <td>1800</td> <td>19286           </td>\n",
       "        </tr>\n",
       "        <tr>\n",
       "            <td>abw </td> <td>1801</td> <td>19286           </td>\n",
       "        </tr>\n",
       "        <tr>\n",
       "            <td>abw </td> <td>1802</td> <td>19286           </td>\n",
       "        </tr>\n",
       "    </tbody>\n",
       "</table>\n",
       "<p>... (87792 rows omitted)</p>"
      ],
      "text/plain": [
       "<IPython.core.display.HTML object>"
      ]
     },
     "metadata": {},
     "output_type": "display_data"
    },
    {
     "data": {
      "text/html": [
       "<table border=\"1\" class=\"dataframe\">\n",
       "    <thead>\n",
       "        <tr>\n",
       "            <th>geo</th> <th>time</th> <th>extreme_poverty_percent_people_below_125_a_day</th>\n",
       "        </tr>\n",
       "    </thead>\n",
       "    <tbody>\n",
       "        <tr>\n",
       "            <td>alb </td> <td>1996</td> <td>0.2                                           </td>\n",
       "        </tr>\n",
       "        <tr>\n",
       "            <td>alb </td> <td>2002</td> <td>0.73                                          </td>\n",
       "        </tr>\n",
       "        <tr>\n",
       "            <td>alb </td> <td>2004</td> <td>0.53                                          </td>\n",
       "        </tr>\n",
       "    </tbody>\n",
       "</table>\n",
       "<p>... (1096 rows omitted)</p>"
      ],
      "text/plain": [
       "<IPython.core.display.HTML object>"
      ]
     },
     "metadata": {},
     "output_type": "display_data"
    },
    {
     "data": {
      "text/html": [
       "<table border=\"1\" class=\"dataframe\">\n",
       "    <thead>\n",
       "        <tr>\n",
       "            <th>geo</th> <th>time</th> <th>extreme_poverty_percent_people_below_125_a_day</th>\n",
       "        </tr>\n",
       "    </thead>\n",
       "    <tbody>\n",
       "        <tr>\n",
       "            <td>alb </td> <td>1996</td> <td>0.2                                           </td>\n",
       "        </tr>\n",
       "        <tr>\n",
       "            <td>alb </td> <td>2002</td> <td>0.73                                          </td>\n",
       "        </tr>\n",
       "        <tr>\n",
       "            <td>alb </td> <td>2004</td> <td>0.53                                          </td>\n",
       "        </tr>\n",
       "        <tr>\n",
       "            <td>alb </td> <td>2005</td> <td>0.44                                          </td>\n",
       "        </tr>\n",
       "        <tr>\n",
       "            <td>alb </td> <td>2008</td> <td>0.2                                           </td>\n",
       "        </tr>\n",
       "        <tr>\n",
       "            <td>alb </td> <td>2012</td> <td>0.46                                          </td>\n",
       "        </tr>\n",
       "    </tbody>\n",
       "</table>"
      ],
      "text/plain": [
       "geo  | time | extreme_poverty_percent_people_below_125_a_day\n",
       "alb  | 1996 | 0.2\n",
       "alb  | 2002 | 0.73\n",
       "alb  | 2004 | 0.53\n",
       "alb  | 2005 | 0.44\n",
       "alb  | 2008 | 0.2\n",
       "alb  | 2012 | 0.46"
      ]
     },
     "execution_count": 30,
     "metadata": {},
     "output_type": "execute_result"
    }
   ],
   "source": [
    "population = Table.read_table('population.csv')\n",
    "population.show(3)\n",
    "countries = Table.read_table('countries.csv').where('country', are.contained_in(population.group('geo').column('geo')))\n",
    "poverty = Table.read_table('poverty.csv')\n",
    "poverty.show(3)\n",
    "x = poverty.where(\"geo\", are.equal_to(\"alb\"))\n",
    "x"
   ]
  },
  {
   "cell_type": "markdown",
   "metadata": {
    "deletable": false,
    "editable": false
   },
   "source": [
    "**Question 1.** Assign `latest_poverty` to a three-column table with one row for each country that appears in the `poverty` table. The first column should contain the 3-letter code for the country. The second column should contain the most recent year for which an extreme poverty rate is available for the country. The third column should contain the poverty rate in that year. **Do not change the last line, so that the labels of your table are set correctly.**\n",
    "\n",
    "*Hint*: think about how ```group``` works: it does a sequential search of the table (from top to bottom) and collects values in the array in the order in which they appear, and then applies a function to that array. The `first` function may be helpful, but you are not required to use it.\n",
    "\n",
    "<!--\n",
    "BEGIN QUESTION\n",
    "name: q2_1\n",
    "-->"
   ]
  },
  {
   "cell_type": "code",
   "execution_count": 31,
   "metadata": {
    "deletable": false
   },
   "outputs": [
    {
     "data": {
      "text/html": [
       "<table border=\"1\" class=\"dataframe\">\n",
       "    <thead>\n",
       "        <tr>\n",
       "            <th>geo</th> <th>time</th> <th>poverty_percent</th>\n",
       "        </tr>\n",
       "    </thead>\n",
       "    <tbody>\n",
       "        <tr>\n",
       "            <td>ago </td> <td>2009</td> <td>43.37          </td>\n",
       "        </tr>\n",
       "        <tr>\n",
       "            <td>alb </td> <td>2012</td> <td>0.46           </td>\n",
       "        </tr>\n",
       "        <tr>\n",
       "            <td>arg </td> <td>2011</td> <td>1.41           </td>\n",
       "        </tr>\n",
       "        <tr>\n",
       "            <td>arm </td> <td>2012</td> <td>1.75           </td>\n",
       "        </tr>\n",
       "        <tr>\n",
       "            <td>aus </td> <td>2003</td> <td>1.36           </td>\n",
       "        </tr>\n",
       "        <tr>\n",
       "            <td>aut </td> <td>2004</td> <td>0.34           </td>\n",
       "        </tr>\n",
       "        <tr>\n",
       "            <td>aze </td> <td>2008</td> <td>0.31           </td>\n",
       "        </tr>\n",
       "        <tr>\n",
       "            <td>bdi </td> <td>2006</td> <td>81.32          </td>\n",
       "        </tr>\n",
       "        <tr>\n",
       "            <td>bel </td> <td>2000</td> <td>0.5            </td>\n",
       "        </tr>\n",
       "        <tr>\n",
       "            <td>ben </td> <td>2012</td> <td>51.61          </td>\n",
       "        </tr>\n",
       "    </tbody>\n",
       "</table>\n",
       "<p>... (135 rows omitted)</p>"
      ],
      "text/plain": [
       "geo  | time | poverty_percent\n",
       "ago  | 2009 | 43.37\n",
       "alb  | 2012 | 0.46\n",
       "arg  | 2011 | 1.41\n",
       "arm  | 2012 | 1.75\n",
       "aus  | 2003 | 1.36\n",
       "aut  | 2004 | 0.34\n",
       "aze  | 2008 | 0.31\n",
       "bdi  | 2006 | 81.32\n",
       "bel  | 2000 | 0.5\n",
       "ben  | 2012 | 51.61\n",
       "... (135 rows omitted)"
      ]
     },
     "execution_count": 31,
     "metadata": {},
     "output_type": "execute_result"
    }
   ],
   "source": [
    "def first(values):\n",
    "    return values.item(0)\n",
    "def last(values):\n",
    "    return values.item(len(values)-1)\n",
    "\n",
    "latest_poverty = poverty.join(\"geo\", population).group(\"geo\", last).drop(\"time_2 last\", \"population_total last\")\n",
    "latest_poverty = latest_poverty.relabeled(0, 'geo').relabeled(1, 'time').relabeled(2, 'poverty_percent') # You should *not* change this line.\n",
    "latest_poverty\n",
    "\n"
   ]
  },
  {
   "cell_type": "code",
   "execution_count": 32,
   "metadata": {
    "deletable": false,
    "editable": false
   },
   "outputs": [
    {
     "name": "stdout",
     "output_type": "stream",
     "text": [
      "~~~~~~~~~~~~~~~~~~~~~~~~~~~~~~~~~~~~~~~~~~~~~~~~~~~~~~~~~~~~~~~~~~~~~\n",
      "Running tests\n",
      "\n",
      "---------------------------------------------------------------------\n",
      "Test summary\n",
      "    Passed: 2\n",
      "    Failed: 0\n",
      "[ooooooooook] 100.0% passed\n",
      "\n"
     ]
    }
   ],
   "source": [
    "ok.grade(\"q2_1\");"
   ]
  },
  {
   "cell_type": "markdown",
   "metadata": {
    "deletable": false,
    "editable": false
   },
   "source": [
    "**Question 2.** Using both `latest_poverty` and `population`, create a four-column table called `recent_poverty_total` with one row for each country in `latest_poverty`. The four columns should have the following labels and contents, in the following order:\n",
    "1. `geo` contains the 3-letter country code,\n",
    "1. `poverty_percent` contains the most recent poverty percent,\n",
    "1. `population_total` contains the population of the country in 2010,\n",
    "1. `poverty_total` contains the number of people in poverty **rounded to the nearest integer**, based on the 2010 population and most recent poverty rate.\n",
    "\n",
    "<!--\n",
    "BEGIN QUESTION\n",
    "name: q2_2\n",
    "-->"
   ]
  },
  {
   "cell_type": "code",
   "execution_count": 33,
   "metadata": {
    "deletable": false
   },
   "outputs": [
    {
     "data": {
      "text/html": [
       "<table border=\"1\" class=\"dataframe\">\n",
       "    <thead>\n",
       "        <tr>\n",
       "            <th>geo</th> <th>poverty_percent</th> <th>population_total</th> <th>poverty_total</th>\n",
       "        </tr>\n",
       "    </thead>\n",
       "    <tbody>\n",
       "        <tr>\n",
       "            <td>ago </td> <td>43.37          </td> <td>21219954        </td> <td>9.20309e+06  </td>\n",
       "        </tr>\n",
       "        <tr>\n",
       "            <td>alb </td> <td>0.46           </td> <td>2901883         </td> <td>13349        </td>\n",
       "        </tr>\n",
       "        <tr>\n",
       "            <td>arg </td> <td>1.41           </td> <td>41222875        </td> <td>581243       </td>\n",
       "        </tr>\n",
       "        <tr>\n",
       "            <td>arm </td> <td>1.75           </td> <td>2963496         </td> <td>51861        </td>\n",
       "        </tr>\n",
       "        <tr>\n",
       "            <td>aus </td> <td>1.36           </td> <td>22162863        </td> <td>301415       </td>\n",
       "        </tr>\n",
       "        <tr>\n",
       "            <td>aut </td> <td>0.34           </td> <td>8391986         </td> <td>28533        </td>\n",
       "        </tr>\n",
       "        <tr>\n",
       "            <td>aze </td> <td>0.31           </td> <td>9099893         </td> <td>28210        </td>\n",
       "        </tr>\n",
       "        <tr>\n",
       "            <td>bdi </td> <td>81.32          </td> <td>9461117         </td> <td>7.69378e+06  </td>\n",
       "        </tr>\n",
       "        <tr>\n",
       "            <td>bel </td> <td>0.5            </td> <td>10929978        </td> <td>54650        </td>\n",
       "        </tr>\n",
       "        <tr>\n",
       "            <td>ben </td> <td>51.61          </td> <td>9509798         </td> <td>4.90801e+06  </td>\n",
       "        </tr>\n",
       "    </tbody>\n",
       "</table>\n",
       "<p>... (135 rows omitted)</p>"
      ],
      "text/plain": [
       "geo  | poverty_percent | population_total | poverty_total\n",
       "ago  | 43.37           | 21219954         | 9.20309e+06\n",
       "alb  | 0.46            | 2901883          | 13349\n",
       "arg  | 1.41            | 41222875         | 581243\n",
       "arm  | 1.75            | 2963496          | 51861\n",
       "aus  | 1.36            | 22162863         | 301415\n",
       "aut  | 0.34            | 8391986          | 28533\n",
       "aze  | 0.31            | 9099893          | 28210\n",
       "bdi  | 81.32           | 9461117          | 7.69378e+06\n",
       "bel  | 0.5             | 10929978         | 54650\n",
       "ben  | 51.61           | 9509798          | 4.90801e+06\n",
       "... (135 rows omitted)"
      ]
     },
     "execution_count": 33,
     "metadata": {},
     "output_type": "execute_result"
    }
   ],
   "source": [
    "poverty_and_pop = latest_poverty.join(\"geo\", population.where(\"time\", are.equal_to(2010)), \"geo\")\n",
    "recent_poverty_total = poverty_and_pop.with_column(\"poverty_total\", (poverty_and_pop.column(\"poverty_percent\")/100*poverty_and_pop.column(\"population_total\")).round(0)).drop(\"time\", \"time_2\")\n",
    "recent_poverty_total"
   ]
  },
  {
   "cell_type": "code",
   "execution_count": 34,
   "metadata": {
    "deletable": false,
    "editable": false
   },
   "outputs": [
    {
     "name": "stdout",
     "output_type": "stream",
     "text": [
      "~~~~~~~~~~~~~~~~~~~~~~~~~~~~~~~~~~~~~~~~~~~~~~~~~~~~~~~~~~~~~~~~~~~~~\n",
      "Running tests\n",
      "\n",
      "---------------------------------------------------------------------\n",
      "Test summary\n",
      "    Passed: 3\n",
      "    Failed: 0\n",
      "[ooooooooook] 100.0% passed\n",
      "\n"
     ]
    }
   ],
   "source": [
    "ok.grade(\"q2_2\");"
   ]
  },
  {
   "cell_type": "markdown",
   "metadata": {
    "deletable": false,
    "editable": false
   },
   "source": [
    "**Question 3.** Assign the name `poverty_percent` to the known percentage of the world’s 2010 population that were living in extreme poverty. Assume that the `poverty_total` numbers in the `recent_poverty_total` table describe **all** people in 2010 living in extreme poverty. You should find a number that is above the 2018 global estimate of 8%, since many country-specific poverty rates are older than 2018.\n",
    "\n",
    "*Hint*: The sum of the `population_total` column in the `recent_poverty_total` table is not the world population, because only a subset of the world's countries are included in the `recent_poverty_total` table (only some countries have known poverty rates). Use the `population` table to compute the world's 2010 total population..\n",
    "\n",
    "<!--\n",
    "BEGIN QUESTION\n",
    "name: q2_3\n",
    "-->"
   ]
  },
  {
   "cell_type": "code",
   "execution_count": 35,
   "metadata": {
    "deletable": false
   },
   "outputs": [
    {
     "data": {
      "text/plain": [
       "14.299370218520854"
      ]
     },
     "execution_count": 35,
     "metadata": {},
     "output_type": "execute_result"
    }
   ],
   "source": [
    "population2010 = np.sum(population.where(\"time\", are.equal_to(2010)).column(\"population_total\"))\n",
    "poverty_percent = (np.sum(recent_poverty_total.column(\"poverty_total\"))/population2010)*100\n",
    "poverty_percent"
   ]
  },
  {
   "cell_type": "code",
   "execution_count": 36,
   "metadata": {
    "deletable": false,
    "editable": false
   },
   "outputs": [
    {
     "name": "stdout",
     "output_type": "stream",
     "text": [
      "~~~~~~~~~~~~~~~~~~~~~~~~~~~~~~~~~~~~~~~~~~~~~~~~~~~~~~~~~~~~~~~~~~~~~\n",
      "Running tests\n",
      "\n",
      "---------------------------------------------------------------------\n",
      "Test summary\n",
      "    Passed: 1\n",
      "    Failed: 0\n",
      "[ooooooooook] 100.0% passed\n",
      "\n"
     ]
    }
   ],
   "source": [
    "ok.grade(\"q2_3\");"
   ]
  },
  {
   "cell_type": "markdown",
   "metadata": {
    "deletable": false,
    "editable": false
   },
   "source": [
    "The `countries` table includes not only the name and region of countries, but also their positions on the globe."
   ]
  },
  {
   "cell_type": "code",
   "execution_count": 37,
   "metadata": {
    "deletable": false,
    "editable": false
   },
   "outputs": [
    {
     "data": {
      "text/html": [
       "<table border=\"1\" class=\"dataframe\">\n",
       "    <thead>\n",
       "        <tr>\n",
       "            <th>country</th> <th>name</th> <th>world_4region</th> <th>latitude</th> <th>longitude</th>\n",
       "        </tr>\n",
       "    </thead>\n",
       "    <tbody>\n",
       "        <tr>\n",
       "            <td>afg      </td> <td>Afghanistan          </td> <td>asia         </td> <td>33      </td> <td>66       </td>\n",
       "        </tr>\n",
       "        <tr>\n",
       "            <td>akr_a_dhe</td> <td>Akrotiri and Dhekelia</td> <td>europe       </td> <td>nan     </td> <td>nan      </td>\n",
       "        </tr>\n",
       "        <tr>\n",
       "            <td>alb      </td> <td>Albania              </td> <td>europe       </td> <td>41      </td> <td>20       </td>\n",
       "        </tr>\n",
       "        <tr>\n",
       "            <td>dza      </td> <td>Algeria              </td> <td>africa       </td> <td>28      </td> <td>3        </td>\n",
       "        </tr>\n",
       "        <tr>\n",
       "            <td>asm      </td> <td>American Samoa       </td> <td>asia         </td> <td>-11.056 </td> <td>-171.082 </td>\n",
       "        </tr>\n",
       "        <tr>\n",
       "            <td>and      </td> <td>Andorra              </td> <td>europe       </td> <td>42.5078 </td> <td>1.52109  </td>\n",
       "        </tr>\n",
       "        <tr>\n",
       "            <td>ago      </td> <td>Angola               </td> <td>africa       </td> <td>-12.5   </td> <td>18.5     </td>\n",
       "        </tr>\n",
       "        <tr>\n",
       "            <td>aia      </td> <td>Anguilla             </td> <td>americas     </td> <td>18.2167 </td> <td>-63.05   </td>\n",
       "        </tr>\n",
       "        <tr>\n",
       "            <td>atg      </td> <td>Antigua and Barbuda  </td> <td>americas     </td> <td>17.05   </td> <td>-61.8    </td>\n",
       "        </tr>\n",
       "        <tr>\n",
       "            <td>arg      </td> <td>Argentina            </td> <td>americas     </td> <td>-34     </td> <td>-64      </td>\n",
       "        </tr>\n",
       "    </tbody>\n",
       "</table>\n",
       "<p>... (245 rows omitted)</p>"
      ],
      "text/plain": [
       "country   | name                  | world_4region | latitude | longitude\n",
       "afg       | Afghanistan           | asia          | 33       | 66\n",
       "akr_a_dhe | Akrotiri and Dhekelia | europe        | nan      | nan\n",
       "alb       | Albania               | europe        | 41       | 20\n",
       "dza       | Algeria               | africa        | 28       | 3\n",
       "asm       | American Samoa        | asia          | -11.056  | -171.082\n",
       "and       | Andorra               | europe        | 42.5078  | 1.52109\n",
       "ago       | Angola                | africa        | -12.5    | 18.5\n",
       "aia       | Anguilla              | americas      | 18.2167  | -63.05\n",
       "atg       | Antigua and Barbuda   | americas      | 17.05    | -61.8\n",
       "arg       | Argentina             | americas      | -34      | -64\n",
       "... (245 rows omitted)"
      ]
     },
     "execution_count": 37,
     "metadata": {},
     "output_type": "execute_result"
    }
   ],
   "source": [
    "countries.select('country', 'name', 'world_4region', 'latitude', 'longitude')"
   ]
  },
  {
   "cell_type": "markdown",
   "metadata": {
    "deletable": false,
    "editable": false
   },
   "source": [
    "**Question 4.** Using both `countries` and `recent_poverty_total`, create a five-column table called `poverty_map` with one row for every country in `recent_poverty_total`.  The five columns should have the following labels and contents:\n",
    "1. `latitude` contains the country's latitude,\n",
    "1. `longitude` contains the country's longitude,\n",
    "1. `name` contains the country's name,\n",
    "1. `region` contains the country's region from the `world_4region` column of `countries`,\n",
    "1. `poverty_total` contains the country's poverty total.\n",
    "\n",
    "<!--\n",
    "BEGIN QUESTION\n",
    "name: q2_4\n",
    "-->"
   ]
  },
  {
   "cell_type": "code",
   "execution_count": 38,
   "metadata": {
    "deletable": false
   },
   "outputs": [
    {
     "data": {
      "text/html": [
       "<table border=\"1\" class=\"dataframe\">\n",
       "    <thead>\n",
       "        <tr>\n",
       "            <th>latitude</th> <th>longitude</th> <th>name</th> <th>region</th> <th>poverty_total</th>\n",
       "        </tr>\n",
       "    </thead>\n",
       "    <tbody>\n",
       "        <tr>\n",
       "            <td>-12.5   </td> <td>18.5     </td> <td>Angola    </td> <td>africa  </td> <td>9.20309e+06  </td>\n",
       "        </tr>\n",
       "        <tr>\n",
       "            <td>41      </td> <td>20       </td> <td>Albania   </td> <td>europe  </td> <td>13349        </td>\n",
       "        </tr>\n",
       "        <tr>\n",
       "            <td>-34     </td> <td>-64      </td> <td>Argentina </td> <td>americas</td> <td>581243       </td>\n",
       "        </tr>\n",
       "        <tr>\n",
       "            <td>40.25   </td> <td>45       </td> <td>Armenia   </td> <td>europe  </td> <td>51861        </td>\n",
       "        </tr>\n",
       "        <tr>\n",
       "            <td>-25     </td> <td>135      </td> <td>Australia </td> <td>asia    </td> <td>301415       </td>\n",
       "        </tr>\n",
       "        <tr>\n",
       "            <td>47.3333 </td> <td>13.3333  </td> <td>Austria   </td> <td>europe  </td> <td>28533        </td>\n",
       "        </tr>\n",
       "        <tr>\n",
       "            <td>40.5    </td> <td>47.5     </td> <td>Azerbaijan</td> <td>europe  </td> <td>28210        </td>\n",
       "        </tr>\n",
       "        <tr>\n",
       "            <td>-3.5    </td> <td>30       </td> <td>Burundi   </td> <td>africa  </td> <td>7.69378e+06  </td>\n",
       "        </tr>\n",
       "        <tr>\n",
       "            <td>50.75   </td> <td>4.5      </td> <td>Belgium   </td> <td>europe  </td> <td>54650        </td>\n",
       "        </tr>\n",
       "        <tr>\n",
       "            <td>9.5     </td> <td>2.25     </td> <td>Benin     </td> <td>africa  </td> <td>4.90801e+06  </td>\n",
       "        </tr>\n",
       "    </tbody>\n",
       "</table>\n",
       "<p>... (135 rows omitted)</p>"
      ],
      "text/plain": [
       "latitude | longitude | name       | region   | poverty_total\n",
       "-12.5    | 18.5      | Angola     | africa   | 9.20309e+06\n",
       "41       | 20        | Albania    | europe   | 13349\n",
       "-34      | -64       | Argentina  | americas | 581243\n",
       "40.25    | 45        | Armenia    | europe   | 51861\n",
       "-25      | 135       | Australia  | asia     | 301415\n",
       "47.3333  | 13.3333   | Austria    | europe   | 28533\n",
       "40.5     | 47.5      | Azerbaijan | europe   | 28210\n",
       "-3.5     | 30        | Burundi    | africa   | 7.69378e+06\n",
       "50.75    | 4.5       | Belgium    | europe   | 54650\n",
       "9.5      | 2.25      | Benin      | africa   | 4.90801e+06\n",
       "... (135 rows omitted)"
      ]
     },
     "execution_count": 38,
     "metadata": {},
     "output_type": "execute_result"
    }
   ],
   "source": [
    "poverty_map = countries.select('country', 'name', 'world_4region', 'latitude', 'longitude').join(\"country\", recent_poverty_total, \"geo\").select(\"latitude\", \"longitude\", \"name\", \"world_4region\", \"poverty_total\").relabel(\"world_4region\", \"region\")\n",
    "poverty_map"
   ]
  },
  {
   "cell_type": "code",
   "execution_count": 39,
   "metadata": {
    "deletable": false,
    "editable": false
   },
   "outputs": [
    {
     "name": "stdout",
     "output_type": "stream",
     "text": [
      "~~~~~~~~~~~~~~~~~~~~~~~~~~~~~~~~~~~~~~~~~~~~~~~~~~~~~~~~~~~~~~~~~~~~~\n",
      "Running tests\n",
      "\n",
      "---------------------------------------------------------------------\n",
      "Test summary\n",
      "    Passed: 2\n",
      "    Failed: 0\n",
      "[ooooooooook] 100.0% passed\n",
      "\n"
     ]
    }
   ],
   "source": [
    "ok.grade(\"q2_4\");"
   ]
  },
  {
   "cell_type": "markdown",
   "metadata": {
    "deletable": false,
    "editable": false
   },
   "source": [
    "Run the cell below to draw a map of the world in which the areas of circles represent the number of people living in extreme poverty. Double-click on the map to zoom in."
   ]
  },
  {
   "cell_type": "code",
   "execution_count": 40,
   "metadata": {
    "deletable": false,
    "editable": false
   },
   "outputs": [
    {
     "data": {
      "text/html": [
       "<div style=\"width:100%;\"><div style=\"position:relative;width:100%;height:0;padding-bottom:60%;\"><iframe src=\"about:blank\" style=\"position:absolute;width:100%;height:100%;left:0;top:0;border:none !important;\" data-html=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 onload=\"this.contentDocument.open();this.contentDocument.write(atob(this.getAttribute('data-html')));this.contentDocument.close();\" allowfullscreen webkitallowfullscreen mozallowfullscreen></iframe></div></div>"
      ],
      "text/plain": [
       "<datascience.maps.Map at 0x7f4f9cb827f0>"
      ]
     },
     "execution_count": 40,
     "metadata": {},
     "output_type": "execute_result"
    }
   ],
   "source": [
    "# It may take a few seconds to generate this map.\n",
    "colors = {'africa': 'blue', 'europe': 'black', 'asia': 'red', 'americas': 'green'}\n",
    "scaled = poverty_map.with_columns(\n",
    "    'poverty_total', 1e-4 * poverty_map.column('poverty_total'),\n",
    "    'region', poverty_map.apply(colors.get, 'region')\n",
    ")\n",
    "Circle.map_table(scaled)"
   ]
  },
  {
   "cell_type": "markdown",
   "metadata": {
    "deletable": false,
    "editable": false
   },
   "source": [
    "Although people live in extreme poverty throughout the world (with more than 5 million in the United States), the largest numbers are in Asia and Africa."
   ]
  },
  {
   "cell_type": "markdown",
   "metadata": {
    "deletable": false,
    "editable": false
   },
   "source": [
    "**Question 5.** Assign `largest` to a two-column table with the `name` (not the 3-letter code) and `poverty_total` of the 10 countries with the largest number of people living in extreme poverty.\n",
    "\n",
    "<!--\n",
    "BEGIN QUESTION\n",
    "name: q2_5\n",
    "-->"
   ]
  },
  {
   "cell_type": "code",
   "execution_count": 41,
   "metadata": {
    "deletable": false
   },
   "outputs": [
    {
     "data": {
      "text/html": [
       "<table border=\"1\" class=\"dataframe\">\n",
       "    <thead>\n",
       "        <tr>\n",
       "            <th>name</th> <th>poverty_total</th>\n",
       "        </tr>\n",
       "    </thead>\n",
       "    <tbody>\n",
       "        <tr>\n",
       "            <td>India           </td> <td>290,881,638.00</td>\n",
       "        </tr>\n",
       "        <tr>\n",
       "            <td>Nigeria         </td> <td>98,891,167.00 </td>\n",
       "        </tr>\n",
       "        <tr>\n",
       "            <td>China           </td> <td>83,944,643.00 </td>\n",
       "        </tr>\n",
       "        <tr>\n",
       "            <td>Bangladesh      </td> <td>65,574,256.00 </td>\n",
       "        </tr>\n",
       "        <tr>\n",
       "            <td>Congo, Dem. Rep.</td> <td>57,841,438.00 </td>\n",
       "        </tr>\n",
       "        <tr>\n",
       "            <td>Indonesia       </td> <td>39,141,326.00 </td>\n",
       "        </tr>\n",
       "        <tr>\n",
       "            <td>Ethiopia        </td> <td>32,213,991.00 </td>\n",
       "        </tr>\n",
       "        <tr>\n",
       "            <td>Pakistan        </td> <td>21,663,595.00 </td>\n",
       "        </tr>\n",
       "        <tr>\n",
       "            <td>Tanzania        </td> <td>19,847,979.00 </td>\n",
       "        </tr>\n",
       "        <tr>\n",
       "            <td>Madagascar      </td> <td>18,480,426.00 </td>\n",
       "        </tr>\n",
       "    </tbody>\n",
       "</table>"
      ],
      "text/plain": [
       "name             | poverty_total\n",
       "India            | 290,881,638.00\n",
       "Nigeria          | 98,891,167.00\n",
       "China            | 83,944,643.00\n",
       "Bangladesh       | 65,574,256.00\n",
       "Congo, Dem. Rep. | 57,841,438.00\n",
       "Indonesia        | 39,141,326.00\n",
       "Ethiopia         | 32,213,991.00\n",
       "Pakistan         | 21,663,595.00\n",
       "Tanzania         | 19,847,979.00\n",
       "Madagascar       | 18,480,426.00"
      ]
     },
     "execution_count": 41,
     "metadata": {},
     "output_type": "execute_result"
    }
   ],
   "source": [
    "largest = poverty_map.sort(\"poverty_total\", descending=True).take(np.arange(0,10)).drop(\"latitude\", \"longitude\", \"region\")\n",
    "largest.set_format('poverty_total', NumberFormatter)"
   ]
  },
  {
   "cell_type": "code",
   "execution_count": 42,
   "metadata": {
    "deletable": false,
    "editable": false
   },
   "outputs": [
    {
     "name": "stdout",
     "output_type": "stream",
     "text": [
      "~~~~~~~~~~~~~~~~~~~~~~~~~~~~~~~~~~~~~~~~~~~~~~~~~~~~~~~~~~~~~~~~~~~~~\n",
      "Running tests\n",
      "\n",
      "---------------------------------------------------------------------\n",
      "Test summary\n",
      "    Passed: 3\n",
      "    Failed: 0\n",
      "[ooooooooook] 100.0% passed\n",
      "\n"
     ]
    }
   ],
   "source": [
    "ok.grade(\"q2_5\");"
   ]
  },
  {
   "cell_type": "markdown",
   "metadata": {
    "deletable": false
   },
   "source": [
    "**Question 6.** Write a function called `poverty_timeline` that takes **the name of a country** (not the geo code) as its argument. It should draw a line plot of the number of people living in poverty in that country with time on the horizontal axis. The line plot should have a point for each row in the `poverty` table for that country. To compute the population living in poverty from a poverty percentage, multiply by the population of the country **in that year**.\n",
    "\n",
    "*Hint:* To make your plot, you will first need to make a table.\n",
    "\n",
    "*Hint:* This question is long. Feel free to create cells and experiment. "
   ]
  },
  {
   "cell_type": "code",
   "execution_count": 64,
   "metadata": {},
   "outputs": [
    {
     "data": {
      "image/png": "[encoded data removed]",
      "text/plain": [
       "<Figure size 432x288 with 1 Axes>"
      ]
     },
     "metadata": {},
     "output_type": "display_data"
    }
   ],
   "source": [
    "def poverty_timeline(country):\n",
    "    '''Draw a timeline of people living in extreme poverty in a country.'''\n",
    "    geo = countries.group([\"name\", \"country\"]).where(\"name\", are.equal_to(country)).column(\"country\")[0]\n",
    "    country_poverty = poverty.where(\"geo\", are.equal_to(geo))\n",
    "    poverty_pop = population.where(\"geo\", are.equal_to(geo)).join(\"time\", country_poverty,\"time\").drop(\"geo\", \"geo_2\")\n",
    "    pop_pov_col = poverty_pop.column(\"extreme_poverty_percent_people_below_125_a_day\")/100 * poverty_pop.column(\"population_total\")\n",
    "    final_table = poverty_pop.with_column(\"Number of People in Poverty\", pop_pov_col)\n",
    "    final_table.plot(\"time\", \"Number of People in Poverty\")\n",
    "    \n",
    "poverty_timeline(\"India\")"
   ]
  },
  {
   "cell_type": "markdown",
   "metadata": {
    "deletable": false,
    "editable": false
   },
   "source": [
    "Finally, draw the timelines below to see how the world is changing. You can check your work by comparing your graphs to the ones on [gapminder.org](https://www.gapminder.org/tools/#$state$entities$show$country$/$in@=ind;;;;&marker$axis_y$which=number_of_people_in_poverty&scaleType=linear&spaceRef:null;;;&chart-type=linechart).\n",
    "\n",
    "<!--\n",
    "BEGIN QUESTION\n",
    "name: q2_6\n",
    "manual: true\n",
    "-->\n",
    "<!-- EXPORT TO PDF -->"
   ]
  },
  {
   "cell_type": "code",
   "execution_count": 65,
   "metadata": {
    "export_pdf": true
   },
   "outputs": [
    {
     "data": {
      "image/png": "[encoded data removed]",
      "text/plain": [
       "<Figure size 432x288 with 1 Axes>"
      ]
     },
     "metadata": {},
     "output_type": "display_data"
    },
    {
     "data": {
      "image/png": "[encoded data removed]",
      "text/plain": [
       "<Figure size 432x288 with 1 Axes>"
      ]
     },
     "metadata": {},
     "output_type": "display_data"
    },
    {
     "data": {
      "image/png": "[encoded data removed]",
      "text/plain": [
       "<Figure size 432x288 with 1 Axes>"
      ]
     },
     "metadata": {},
     "output_type": "display_data"
    },
    {
     "data": {
      "image/png": "[encoded data removed]",
      "text/plain": [
       "<Figure size 432x288 with 1 Axes>"
      ]
     },
     "metadata": {},
     "output_type": "display_data"
    }
   ],
   "source": [
    "poverty_timeline('India')\n",
    "poverty_timeline('Nigeria')\n",
    "poverty_timeline('China')\n",
    "poverty_timeline('United States')"
   ]
  },
  {
   "cell_type": "markdown",
   "metadata": {
    "deletable": false,
    "editable": false
   },
   "source": [
    "Although the number of people living in extreme poverty has been increasing in Nigeria and the United States, the massive decreases in China and India have shaped the overall trend that extreme poverty is decreasing worldwide, both in percentage and in absolute number. \n",
    "\n",
    "To learn more, watch [Hans Rosling in a 2015 film](https://www.gapminder.org/videos/dont-panic-end-poverty/) about the UN goal of eradicating extreme poverty from the world. \n",
    "\n",
    "Below, we've also added an interactive dropdown menu for you to visualize `poverty_timeline` graphs for other countries. Note that each dropdown menu selection may take a few seconds to run."
   ]
  },
  {
   "cell_type": "code",
   "execution_count": 67,
   "metadata": {
    "deletable": false,
    "editable": false
   },
   "outputs": [
    {
     "ename": "NameError",
     "evalue": "name 'widgets' is not defined",
     "output_type": "error",
     "traceback": [
      "\u001b[0;31m---------------------------------------------------------------------------\u001b[0m",
      "\u001b[0;31mNameError\u001b[0m                                 Traceback (most recent call last)",
      "\u001b[0;32m<ipython-input-67-d2230bb749d5>\u001b[0m in \u001b[0;36m<module>\u001b[0;34m\u001b[0m\n\u001b[1;32m      2\u001b[0m \u001b[0;34m\u001b[0m\u001b[0m\n\u001b[1;32m      3\u001b[0m \u001b[0mall_countries\u001b[0m \u001b[0;34m=\u001b[0m \u001b[0mpoverty_map\u001b[0m\u001b[0;34m.\u001b[0m\u001b[0mcolumn\u001b[0m\u001b[0;34m(\u001b[0m\u001b[0;34m'name'\u001b[0m\u001b[0;34m)\u001b[0m\u001b[0;34m\u001b[0m\u001b[0;34m\u001b[0m\u001b[0m\n\u001b[0;32m----> 4\u001b[0;31m \u001b[0m_\u001b[0m \u001b[0;34m=\u001b[0m \u001b[0mwidgets\u001b[0m\u001b[0;34m.\u001b[0m\u001b[0minteract\u001b[0m\u001b[0;34m(\u001b[0m\u001b[0mpoverty_timeline\u001b[0m\u001b[0;34m,\u001b[0m \u001b[0mcountry\u001b[0m\u001b[0;34m=\u001b[0m\u001b[0mlist\u001b[0m\u001b[0;34m(\u001b[0m\u001b[0mall_countries\u001b[0m\u001b[0;34m)\u001b[0m\u001b[0;34m)\u001b[0m\u001b[0;34m\u001b[0m\u001b[0;34m\u001b[0m\u001b[0m\n\u001b[0m",
      "\u001b[0;31mNameError\u001b[0m: name 'widgets' is not defined"
     ]
    }
   ],
   "source": [
    "# Just run this cell\n",
    "\n",
    "all_countries = poverty_map.column('name')\n",
    "_ = widgets.interact(poverty_timeline, country=list(all_countries))"
   ]
  },
  {
   "cell_type": "markdown",
   "metadata": {
    "deletable": false,
    "editable": false
   },
   "source": [
    "**You're finished!** Congratulations on mastering data visualization and table manipulation. Time to submit."
   ]
  },
  {
   "cell_type": "markdown",
   "metadata": {},
   "source": [
    "## 3. Submission\n"
   ]
  },
  {
   "cell_type": "markdown",
   "metadata": {
    "collapsed": true
   },
   "source": [
    "Once you're finished, select \"Save and Checkpoint\" in the File menu and then execute the `submit` cell below. The result will contain a link that you can use to check that your assignment has been submitted successfully. If you submit more than once before the deadline, we will only grade your final submission. If you mistakenly submit the wrong one, you can head to [okpy.org](https://okpy.org/) and flag the correct version. To do so, go to the website, click on this assignment, and find the version you would like to have graded. There should be an option to flag that submission for grading!"
   ]
  },
  {
   "cell_type": "code",
   "execution_count": 68,
   "metadata": {},
   "outputs": [
    {
     "data": {
      "application/javascript": [
       "IPython.notebook.save_checkpoint();"
      ],
      "text/plain": [
       "<IPython.core.display.Javascript object>"
      ]
     },
     "metadata": {},
     "output_type": "display_data"
    },
    {
     "data": {
      "application/javascript": [
       "IPython.notebook.save_notebook();"
      ],
      "text/plain": [
       "<IPython.core.display.Javascript object>"
      ]
     },
     "metadata": {},
     "output_type": "display_data"
    },
    {
     "name": "stdout",
     "output_type": "stream",
     "text": [
      "Saving notebook... Saved 'project1.ipynb'.\n",
      "Submit... 100% complete\n",
      "Submission successful for user: lillyliu@berkeley.edu\n",
      "URL: https://okpy.org/cal/data8/sp20/project1/submissions/83QQO5\n",
      "\n"
     ]
    }
   ],
   "source": [
    "_ = ok.submit()"
   ]
  },
  {
   "cell_type": "code",
   "execution_count": 69,
   "metadata": {},
   "outputs": [
    {
     "name": "stdout",
     "output_type": "stream",
     "text": [
      "Running all tests...\n",
      "~~~~~~~~~~~~~~~~~~~~~~~~~~~~~~~~~~~~~~~~~~~~~~~~~~~~~~~~~~~~~~~~~~~~~\n",
      "Running tests\n",
      "\n",
      "---------------------------------------------------------------------\n",
      "Test summary\n",
      "    Passed: 3\n",
      "    Failed: 0\n",
      "[ooooooooook] 100.0% passed\n",
      "\n",
      "~~~~~~~~~~~~~~~~~~~~~~~~~~~~~~~~~~~~~~~~~~~~~~~~~~~~~~~~~~~~~~~~~~~~~\n",
      "Running tests\n",
      "\n",
      "---------------------------------------------------------------------\n",
      "q1_11 > Suite 1 > Case 1\n",
      "\n",
      ">>> # Incorrect labels for columns;\n",
      ">>> t = stats_for_year(1990);\n",
      ">>> t.labels == ('geo', 'population_total', 'children_per_woman_total_fertility', 'child_mortality_under_5_per_1000_born')\n",
      "AttributeError: 'NoneType' object has no attribute 'labels'\n",
      "\n",
      "# Error: expected\n",
      "#     True\n",
      "# but got\n",
      "#     Traceback (most recent call last):\n",
      "#       ...\n",
      "#     AttributeError: 'NoneType' object has no attribute 'labels'\n",
      "\n",
      "Run only this test case with \"python3 ok -q q1_11 --suite 1 --case 1\"\n",
      "---------------------------------------------------------------------\n",
      "Test summary\n",
      "    Passed: 0\n",
      "    Failed: 1\n",
      "[k..........] 0.0% passed\n",
      "\n",
      "~~~~~~~~~~~~~~~~~~~~~~~~~~~~~~~~~~~~~~~~~~~~~~~~~~~~~~~~~~~~~~~~~~~~~\n",
      "Running tests\n",
      "\n",
      "---------------------------------------------------------------------\n",
      "q1_13 > Suite 1 > Case 1\n",
      "\n",
      ">>> # Check your column labels and spelling;\n",
      ">>> region_counts.labels == ('region', 'count')\n",
      "NameError: name 'region_counts' is not defined\n",
      "\n",
      "# Error: expected\n",
      "#     True\n",
      "# but got\n",
      "#     Traceback (most recent call last):\n",
      "#       ...\n",
      "#     NameError: name 'region_counts' is not defined\n",
      "\n",
      "Run only this test case with \"python3 ok -q q1_13 --suite 1 --case 1\"\n",
      "---------------------------------------------------------------------\n",
      "Test summary\n",
      "    Passed: 0\n",
      "    Failed: 1\n",
      "[k..........] 0.0% passed\n",
      "\n",
      "~~~~~~~~~~~~~~~~~~~~~~~~~~~~~~~~~~~~~~~~~~~~~~~~~~~~~~~~~~~~~~~~~~~~~\n",
      "Running tests\n",
      "\n",
      "---------------------------------------------------------------------\n",
      "Test summary\n",
      "    Passed: 2\n",
      "    Failed: 0\n",
      "[ooooooooook] 100.0% passed\n",
      "\n",
      "~~~~~~~~~~~~~~~~~~~~~~~~~~~~~~~~~~~~~~~~~~~~~~~~~~~~~~~~~~~~~~~~~~~~~\n",
      "Running tests\n",
      "\n",
      "---------------------------------------------------------------------\n",
      "q1_12 > Suite 1 > Case 1\n",
      "\n",
      ">>> # Check your column labels and spelling;\n",
      ">>> pop_by_decade.labels == ('decade', 'population')\n",
      "AttributeError: 'ellipsis' object has no attribute 'labels'\n",
      "\n",
      "# Error: expected\n",
      "#     True\n",
      "# but got\n",
      "#     Traceback (most recent call last):\n",
      "#       ...\n",
      "#     AttributeError: 'ellipsis' object has no attribute 'labels'\n",
      "\n",
      "Run only this test case with \"python3 ok -q q1_12 --suite 1 --case 1\"\n",
      "---------------------------------------------------------------------\n",
      "Test summary\n",
      "    Passed: 0\n",
      "    Failed: 1\n",
      "[k..........] 0.0% passed\n",
      "\n",
      "~~~~~~~~~~~~~~~~~~~~~~~~~~~~~~~~~~~~~~~~~~~~~~~~~~~~~~~~~~~~~~~~~~~~~\n",
      "Running tests\n",
      "\n",
      "---------------------------------------------------------------------\n",
      "Test summary\n",
      "    Passed: 2\n",
      "    Failed: 0\n",
      "[ooooooooook] 100.0% passed\n",
      "\n",
      "~~~~~~~~~~~~~~~~~~~~~~~~~~~~~~~~~~~~~~~~~~~~~~~~~~~~~~~~~~~~~~~~~~~~~\n",
      "Running tests\n",
      "\n",
      "---------------------------------------------------------------------\n",
      "Test summary\n",
      "    Passed: 2\n",
      "    Failed: 0\n",
      "[ooooooooook] 100.0% passed\n",
      "\n",
      "~~~~~~~~~~~~~~~~~~~~~~~~~~~~~~~~~~~~~~~~~~~~~~~~~~~~~~~~~~~~~~~~~~~~~\n",
      "Running tests\n",
      "\n",
      "---------------------------------------------------------------------\n",
      "q1_14 > Suite 1 > Case 1\n",
      "\n",
      ">>> # Please use a list of integers from 1 to 5;\n",
      ">>> all(x in range(1, 6) for x in set(scatter_statements))\n",
      "NameError: name 'scatter_statements' is not defined\n",
      "\n",
      "# Error: expected\n",
      "#     True\n",
      "# but got\n",
      "#     Traceback (most recent call last):\n",
      "#       ...\n",
      "#     NameError: name 'scatter_statements' is not defined\n",
      "\n",
      "Run only this test case with \"python3 ok -q q1_14 --suite 1 --case 1\"\n",
      "---------------------------------------------------------------------\n",
      "Test summary\n",
      "    Passed: 0\n",
      "    Failed: 1\n",
      "[k..........] 0.0% passed\n",
      "\n",
      "~~~~~~~~~~~~~~~~~~~~~~~~~~~~~~~~~~~~~~~~~~~~~~~~~~~~~~~~~~~~~~~~~~~~~\n",
      "Running tests\n",
      "\n",
      "---------------------------------------------------------------------\n",
      "q1_9 > Suite 1 > Case 1\n",
      "\n",
      ">>> # Please use a list of integers from 1 to 6;\n",
      ">>> all(x in range(1, 7) for x in set(fertility_statements))\n",
      "TypeError: 'ellipsis' object is not iterable\n",
      "\n",
      "# Error: expected\n",
      "#     True\n",
      "# but got\n",
      "#     Traceback (most recent call last):\n",
      "#       ...\n",
      "#     TypeError: 'ellipsis' object is not iterable\n",
      "\n",
      "Run only this test case with \"python3 ok -q q1_9 --suite 1 --case 1\"\n",
      "---------------------------------------------------------------------\n",
      "Test summary\n",
      "    Passed: 0\n",
      "    Failed: 1\n",
      "[k..........] 0.0% passed\n",
      "\n",
      "~~~~~~~~~~~~~~~~~~~~~~~~~~~~~~~~~~~~~~~~~~~~~~~~~~~~~~~~~~~~~~~~~~~~~\n",
      "Running tests\n",
      "\n",
      "---------------------------------------------------------------------\n",
      "q1_12_0 > Suite 1 > Case 1\n",
      "\n",
      ">>> pop_for_year(1972) == 3345978384\n",
      "False\n",
      "\n",
      "# Error: expected\n",
      "#     True\n",
      "# but got\n",
      "#     False\n",
      "\n",
      "Run only this test case with \"python3 ok -q q1_12_0 --suite 1 --case 1\"\n",
      "---------------------------------------------------------------------\n",
      "Test summary\n",
      "    Passed: 0\n",
      "    Failed: 1\n",
      "[k..........] 0.0% passed\n",
      "\n",
      "~~~~~~~~~~~~~~~~~~~~~~~~~~~~~~~~~~~~~~~~~~~~~~~~~~~~~~~~~~~~~~~~~~~~~\n",
      "Running tests\n",
      "\n",
      "---------------------------------------------------------------------\n",
      "Test summary\n",
      "    Passed: 3\n",
      "    Failed: 0\n",
      "[ooooooooook] 100.0% passed\n",
      "\n",
      "~~~~~~~~~~~~~~~~~~~~~~~~~~~~~~~~~~~~~~~~~~~~~~~~~~~~~~~~~~~~~~~~~~~~~\n",
      "Running tests\n",
      "\n",
      "---------------------------------------------------------------------\n",
      "Test summary\n",
      "    Passed: 2\n",
      "    Failed: 0\n",
      "[ooooooooook] 100.0% passed\n",
      "\n",
      "~~~~~~~~~~~~~~~~~~~~~~~~~~~~~~~~~~~~~~~~~~~~~~~~~~~~~~~~~~~~~~~~~~~~~\n",
      "Running tests\n",
      "\n",
      "---------------------------------------------------------------------\n",
      "Test summary\n",
      "    Passed: 2\n",
      "    Failed: 0\n",
      "[ooooooooook] 100.0% passed\n",
      "\n",
      "~~~~~~~~~~~~~~~~~~~~~~~~~~~~~~~~~~~~~~~~~~~~~~~~~~~~~~~~~~~~~~~~~~~~~\n",
      "Running tests\n",
      "\n",
      "---------------------------------------------------------------------\n",
      "Test summary\n",
      "    Passed: 1\n",
      "    Failed: 0\n",
      "[ooooooooook] 100.0% passed\n",
      "\n",
      "~~~~~~~~~~~~~~~~~~~~~~~~~~~~~~~~~~~~~~~~~~~~~~~~~~~~~~~~~~~~~~~~~~~~~\n",
      "Running tests\n",
      "\n",
      "---------------------------------------------------------------------\n",
      "Test summary\n",
      "    Passed: 3\n",
      "    Failed: 0\n",
      "[ooooooooook] 100.0% passed\n",
      "\n",
      "Finished running all tests.\n"
     ]
    }
   ],
   "source": [
    "# For your convenience, you can run this cell to run all the tests at once!\n",
    "import os\n",
    "print(\"Running all tests...\")\n",
    "_ = [ok.grade(q[:-3]) for q in os.listdir(\"tests\") if q.startswith('q') and len(q) <= 10]\n",
    "print(\"Finished running all tests.\")"
   ]
  },
  {
   "cell_type": "code",
   "execution_count": null,
   "metadata": {},
   "outputs": [],
   "source": []
  }
 ],
 "metadata": {
  "kernelspec": {
   "display_name": "Python 3",
   "language": "python",
   "name": "python3"
  },
  "language_info": {
   "codemirror_mode": {
    "name": "ipython",
    "version": 3
   },
   "file_extension": ".py",
   "mimetype": "text/x-python",
   "name": "python",
   "nbconvert_exporter": "python",
   "pygments_lexer": "ipython3",
   "version": "3.6.9"
  }
 },
 "nbformat": 4,
 "nbformat_minor": 1
}
