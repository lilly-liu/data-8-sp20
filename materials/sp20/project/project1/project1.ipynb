{
 "cells": [
  {
   "cell_type": "code",
   "execution_count": 2,
   "metadata": {
    "deletable": false,
    "editable": false
   },
   "outputs": [
    {
     "name": "stdout",
     "output_type": "stream",
     "text": [
      "=====================================================================\n",
      "Assignment: Project 1: World Progress\n",
      "OK, version v1.12.5\n",
      "=====================================================================\n",
      "\n"
     ]
    }
   ],
   "source": [
    "# Initialize OK\n",
    "from client.api.notebook import Notebook\n",
    "ok = Notebook('project1.ok')"
   ]
  },
  {
   "cell_type": "markdown",
   "metadata": {},
   "source": [
    "## Project 1: World Progress"
   ]
  },
  {
   "cell_type": "markdown",
   "metadata": {},
   "source": [
    "In this project, you'll explore data from [Gapminder.org](http://gapminder.org), a website dedicated to providing a fact-based view of the world and how it has changed. That site includes several data visualizations and presentations, but also publishes the raw data that we will use in this project to recreate and extend some of their most famous visualizations.\n",
    "\n",
    "The Gapminder website collects data from many sources and compiles them into tables that describe many countries around the world. All of the data they aggregate are published in the [Systema Globalis](https://github.com/open-numbers/ddf--gapminder--systema_globalis/blob/master/README.md). Their goal is \"to compile all public statistics; Social, Economic and Environmental; into a comparable total dataset.\" All data sets in this project are copied directly from the Systema Globalis without any changes.\n",
    "\n",
    "This project is dedicated to [Hans Rosling](https://en.wikipedia.org/wiki/Hans_Rosling) (1948-2017), who championed the use of data to understand and prioritize global development challenges."
   ]
  },
  {
   "cell_type": "markdown",
   "metadata": {},
   "source": [
    "### Logistics\n",
    "\n",
    "**Deadline.** This project is due at 11:59pm on Friday 2/28. Projects will be accepted up to 2 days (48 hours) late; a project submitted less than 24 hours after the deadline will receive 2/3 credit, a project submitted between 24 and 48 hours after the deadline will receive 1/3 credit, and a project submitted 48 hours or more after the deadline will receive no credit. It's **much** better to be early than late, so start working now.\n",
    "\n",
    "**Checkpoint.** For full credit, you must also complete the first 8 questions, pass all public autograder tests, and submit to okpy by 11:59pm on Friday 2/21. After you've submitted the checkpoint, you may still change your answers before the project deadline - only your final submission will be graded for correctness. You will have some lab time to work on these questions, but we recommend that you start the project before lab and leave time to finish the checkpoint afterward.\n",
    "\n",
    "**Partners.** You may work with one other partner; your partner must be from your assigned lab section. Only one of you is required to submit the project. On [okpy.org](http://okpy.org), the person who submits should also designate their partner so that both of you receive credit.\n",
    "\n",
    "**Rules.** Don't share your code with anybody but your partner. You are welcome to discuss questions with other students, but don't share the answers. The experience of solving the problems in this project will prepare you for exams (and life). If someone asks you for the answer, resist! Instead, you can demonstrate how you would solve a similar problem.\n",
    "\n",
    "**Support.** You are not alone! Come to office hours, post on Piazza, and talk to your classmates. If you want to ask about the details of your solution to a problem, make a private Piazza post and the staff will respond. If you're ever feeling overwhelmed or don't know how to make progress, email your TA or tutor for help. You can find contact information for the staff on the [course website](http://data8.org/sp20/staff.html).\n",
    "\n",
    "**Tests.** The tests that are given are **not comprehensive** and passing the tests for a question **does not** mean that you answered the question correctly. Tests usually only check that your table has the correct column labels. However, more tests will be applied to verify the correctness of your submission in order to assign your final score, so be careful and check your work! You might want to create your own checks along the way to see if your answers make sense. Additionally, before you submit, make sure that none of your cells take a very long time to run (several minutes).\n",
    "\n",
    "**Free Response Questions:** Make sure that you put the answers to the written questions in the indicated cell we provide. Check to make sure that you have a [Gradescope](http://gradescope.com) account, which is where the scores to the free response questions will be posted. If you do not, make sure to reach out to your assigned (u)GSI.\n",
    "\n",
    "**Advice.** Develop your answers incrementally. To perform a complicated table manipulation, break it up into steps, perform each step on a different line, give a new name to each result, and check that each intermediate result is what you expect. You can add any additional names or functions you want to the provided cells. Make sure that you are using distinct and meaningful variable names throughout the notebook. Along that line, **DO NOT** reuse the variable names that we use when we grade your answers. For example, in Question 1 of the Global Poverty section, we ask you to assign an answer to `latest`. Do not reassign the variable name `latest` to anything else in your notebook, otherwise there is the chance that our tests grade against what `latest` was reassigned to.\n",
    "\n",
    "You **never** have to use just one line in this project or any others. Use intermediate variables and multiple lines as much as you would like!  \n",
    "\n",
    "To get started, load `datascience`, `numpy`, `plots`, and `ok`."
   ]
  },
  {
   "cell_type": "code",
   "execution_count": 3,
   "metadata": {},
   "outputs": [
    {
     "name": "stdout",
     "output_type": "stream",
     "text": [
      "=====================================================================\n",
      "Assignment: Project 1: World Progress\n",
      "OK, version v1.12.5\n",
      "=====================================================================\n",
      "\n"
     ]
    }
   ],
   "source": [
    "from datascience import *\n",
    "import numpy as np\n",
    "\n",
    "%matplotlib inline\n",
    "import matplotlib.pyplot as plots\n",
    "plots.style.use('fivethirtyeight')\n",
    "\n",
    "from client.api.notebook import Notebook\n",
    "ok = Notebook('project1.ok')"
   ]
  },
  {
   "cell_type": "markdown",
   "metadata": {},
   "source": [
    "Before continuing the assignment, select \"Save and Checkpoint\" in the File menu and then execute the submit cell below. The result will contain a link that you can use to check that your assignment has been submitted successfully. If you submit more than once before the deadline, we will only grade your final submission. If you mistakenly submit the wrong one, you can head to okpy.org and flag the correct version. There will be another submit cell at the end of the assignment when you finish!"
   ]
  },
  {
   "cell_type": "code",
   "execution_count": 4,
   "metadata": {},
   "outputs": [
    {
     "data": {
      "application/javascript": [
       "IPython.notebook.save_checkpoint();"
      ],
      "text/plain": [
       "<IPython.core.display.Javascript object>"
      ]
     },
     "metadata": {},
     "output_type": "display_data"
    },
    {
     "data": {
      "application/javascript": [
       "IPython.notebook.save_notebook();"
      ],
      "text/plain": [
       "<IPython.core.display.Javascript object>"
      ]
     },
     "metadata": {},
     "output_type": "display_data"
    },
    {
     "name": "stdout",
     "output_type": "stream",
     "text": [
      "Saving notebook... Saved 'project1.ipynb'.\n",
      "Submit... 100% complete\n",
      "Submission successful for user: lillyliu@berkeley.edu\n",
      "URL: https://okpy.org/cal/data8/sp20/project1/submissions/r2OLKW\n",
      "\n"
     ]
    }
   ],
   "source": [
    "_ = ok.submit()"
   ]
  },
  {
   "cell_type": "markdown",
   "metadata": {
    "deletable": false,
    "editable": false
   },
   "source": [
    "## 1. Global Population Growth\n"
   ]
  },
  {
   "cell_type": "markdown",
   "metadata": {
    "deletable": false,
    "editable": false
   },
   "source": [
    "The global population of humans reached 1 billion around 1800, 3 billion around 1960, and 7 billion around 2011. The potential impact of exponential population growth has concerned scientists, economists, and politicians alike.\n",
    "\n",
    "The UN Population Division estimates that the world population will likely continue to grow throughout the 21st century, but at a slower rate, perhaps reaching 11 billion by 2100. However, the UN does not rule out scenarios of more extreme growth.\n",
    "\n",
    "<a href=\"http://www.pewresearch.org/fact-tank/2015/06/08/scientists-more-worried-than-public-about-worlds-growing-population/ft_15-06-04_popcount/\"> \n",
    " <img src=\"pew_population_projection.png\"/> \n",
    "</a>\n",
    "\n",
    "In this section, we will examine some of the factors that influence population growth and how they are changing around the world.\n",
    "\n",
    "The first table we will consider is the total population of each country over time. Run the cell below."
   ]
  },
  {
   "cell_type": "code",
   "execution_count": 5,
   "metadata": {
    "deletable": false,
    "editable": false
   },
   "outputs": [
    {
     "data": {
      "text/html": [
       "<table border=\"1\" class=\"dataframe\">\n",
       "    <thead>\n",
       "        <tr>\n",
       "            <th>geo</th> <th>time</th> <th>population_total</th>\n",
       "        </tr>\n",
       "    </thead>\n",
       "    <tbody>\n",
       "        <tr>\n",
       "            <td>abw </td> <td>1800</td> <td>19286           </td>\n",
       "        </tr>\n",
       "        <tr>\n",
       "            <td>abw </td> <td>1801</td> <td>19286           </td>\n",
       "        </tr>\n",
       "        <tr>\n",
       "            <td>abw </td> <td>1802</td> <td>19286           </td>\n",
       "        </tr>\n",
       "    </tbody>\n",
       "</table>\n",
       "<p>... (87792 rows omitted)</p>"
      ],
      "text/plain": [
       "<IPython.core.display.HTML object>"
      ]
     },
     "metadata": {},
     "output_type": "display_data"
    }
   ],
   "source": [
    "population = Table.read_table('population.csv')\n",
    "population.show(3)"
   ]
  },
  {
   "cell_type": "markdown",
   "metadata": {},
   "source": [
    "**Note:** The population csv file can also be found [here](https://github.com/open-numbers/ddf--gapminder--systema_globalis/raw/master/ddf--datapoints--population_total--by--geo--time.csv). The data for this project was downloaded in February 2017."
   ]
  },
  {
   "cell_type": "markdown",
   "metadata": {
    "deletable": false,
    "editable": false
   },
   "source": [
    "### Bangladesh\n",
    "\n",
    "In the `population` table, the `geo` column contains three-letter codes established by the [International Organization for Standardization](https://en.wikipedia.org/wiki/International_Organization_for_Standardization) (ISO) in the [Alpha-3](https://en.wikipedia.org/wiki/ISO_3166-1_alpha-3#Current_codes) standard. We will begin by taking a close look at Bangladesh. Inspect the standard to find the 3-letter code for Bangladesh."
   ]
  },
  {
   "cell_type": "markdown",
   "metadata": {
    "deletable": false,
    "editable": false
   },
   "source": [
    "**Question 1.** Create a table called `b_pop` that has two columns labeled `time` and `population_total`. The first column should contain the years from 1970 through 2015 (including both 1970 and 2015) and the second should contain the population of Bangladesh in each of those years.\n",
    "\n",
    "<!--\n",
    "BEGIN QUESTION\n",
    "name: q1_1\n",
    "-->"
   ]
  },
  {
   "cell_type": "code",
   "execution_count": 6,
   "metadata": {
    "deletable": false
   },
   "outputs": [
    {
     "data": {
      "text/html": [
       "<table border=\"1\" class=\"dataframe\">\n",
       "    <thead>\n",
       "        <tr>\n",
       "            <th>time</th> <th>population_total</th>\n",
       "        </tr>\n",
       "    </thead>\n",
       "    <tbody>\n",
       "        <tr>\n",
       "            <td>1970</td> <td>65048701        </td>\n",
       "        </tr>\n",
       "        <tr>\n",
       "            <td>1971</td> <td>66417450        </td>\n",
       "        </tr>\n",
       "        <tr>\n",
       "            <td>1972</td> <td>67578486        </td>\n",
       "        </tr>\n",
       "        <tr>\n",
       "            <td>1973</td> <td>68658472        </td>\n",
       "        </tr>\n",
       "        <tr>\n",
       "            <td>1974</td> <td>69837960        </td>\n",
       "        </tr>\n",
       "        <tr>\n",
       "            <td>1975</td> <td>71247153        </td>\n",
       "        </tr>\n",
       "        <tr>\n",
       "            <td>1976</td> <td>72930206        </td>\n",
       "        </tr>\n",
       "        <tr>\n",
       "            <td>1977</td> <td>74848466        </td>\n",
       "        </tr>\n",
       "        <tr>\n",
       "            <td>1978</td> <td>76948378        </td>\n",
       "        </tr>\n",
       "        <tr>\n",
       "            <td>1979</td> <td>79141947        </td>\n",
       "        </tr>\n",
       "    </tbody>\n",
       "</table>\n",
       "<p>... (36 rows omitted)</p>"
      ],
      "text/plain": [
       "time | population_total\n",
       "1970 | 65048701\n",
       "1971 | 66417450\n",
       "1972 | 67578486\n",
       "1973 | 68658472\n",
       "1974 | 69837960\n",
       "1975 | 71247153\n",
       "1976 | 72930206\n",
       "1977 | 74848466\n",
       "1978 | 76948378\n",
       "1979 | 79141947\n",
       "... (36 rows omitted)"
      ]
     },
     "execution_count": 6,
     "metadata": {},
     "output_type": "execute_result"
    }
   ],
   "source": [
    "b_pop = population.where(\"geo\", are.equal_to(\"bgd\")).where(\"time\", are.between(1970, 2016)).select(\"time\", \"population_total\")\n",
    "b_pop"
   ]
  },
  {
   "cell_type": "code",
   "execution_count": 7,
   "metadata": {
    "deletable": false,
    "editable": false
   },
   "outputs": [
    {
     "name": "stdout",
     "output_type": "stream",
     "text": [
      "~~~~~~~~~~~~~~~~~~~~~~~~~~~~~~~~~~~~~~~~~~~~~~~~~~~~~~~~~~~~~~~~~~~~~\n",
      "Running tests\n",
      "\n",
      "---------------------------------------------------------------------\n",
      "Test summary\n",
      "    Passed: 2\n",
      "    Failed: 0\n",
      "[ooooooooook] 100.0% passed\n",
      "\n"
     ]
    }
   ],
   "source": [
    "ok.grade(\"q1_1\");"
   ]
  },
  {
   "cell_type": "markdown",
   "metadata": {
    "deletable": false,
    "editable": false
   },
   "source": [
    "Run the following cell to create a table called `b_five` that has the population of Bangladesh every five years. At a glance, it appears that the population of Bangladesh has been growing quickly indeed!"
   ]
  },
  {
   "cell_type": "code",
   "execution_count": 8,
   "metadata": {
    "deletable": false,
    "editable": false
   },
   "outputs": [
    {
     "data": {
      "text/html": [
       "<table border=\"1\" class=\"dataframe\">\n",
       "    <thead>\n",
       "        <tr>\n",
       "            <th>time</th> <th>population_total</th>\n",
       "        </tr>\n",
       "    </thead>\n",
       "    <tbody>\n",
       "        <tr>\n",
       "            <td>1970</td> <td>65,048,701      </td>\n",
       "        </tr>\n",
       "        <tr>\n",
       "            <td>1975</td> <td>71,247,153      </td>\n",
       "        </tr>\n",
       "        <tr>\n",
       "            <td>1980</td> <td>81,364,176      </td>\n",
       "        </tr>\n",
       "        <tr>\n",
       "            <td>1985</td> <td>93,015,182      </td>\n",
       "        </tr>\n",
       "        <tr>\n",
       "            <td>1990</td> <td>105,983,136     </td>\n",
       "        </tr>\n",
       "        <tr>\n",
       "            <td>1995</td> <td>118,427,768     </td>\n",
       "        </tr>\n",
       "        <tr>\n",
       "            <td>2000</td> <td>131,280,739     </td>\n",
       "        </tr>\n",
       "        <tr>\n",
       "            <td>2005</td> <td>142,929,979     </td>\n",
       "        </tr>\n",
       "        <tr>\n",
       "            <td>2010</td> <td>151,616,777     </td>\n",
       "        </tr>\n",
       "        <tr>\n",
       "            <td>2015</td> <td>160,995,642     </td>\n",
       "        </tr>\n",
       "    </tbody>\n",
       "</table>"
      ],
      "text/plain": [
       "time | population_total\n",
       "1970 | 65,048,701\n",
       "1975 | 71,247,153\n",
       "1980 | 81,364,176\n",
       "1985 | 93,015,182\n",
       "1990 | 105,983,136\n",
       "1995 | 118,427,768\n",
       "2000 | 131,280,739\n",
       "2005 | 142,929,979\n",
       "2010 | 151,616,777\n",
       "2015 | 160,995,642"
      ]
     },
     "execution_count": 8,
     "metadata": {},
     "output_type": "execute_result"
    }
   ],
   "source": [
    "b_pop.set_format('population_total', NumberFormatter)\n",
    "\n",
    "fives = np.arange(1970, 2016, 5) # 1970, 1975, 1980, ...\n",
    "b_five = b_pop.sort('time').where('time', are.contained_in(fives))\n",
    "b_five"
   ]
  },
  {
   "cell_type": "markdown",
   "metadata": {
    "deletable": false,
    "editable": false
   },
   "source": [
    "**Question 2.** Assign `initial` to an array that contains the population for every five year interval from 1970 to 2010. Then, assign `changed` to an array that contains the population for every five year interval from 1975 to 2015. You should use the `b_five` table to create both arrays, first filtering the table to only contain the relevant years.\n",
    "\n",
    "We have provided the code below that uses  `initial` and `changed` in order to add a column to `b_five` called `annual_growth`. Don't worry about the calculation of the growth rates; run the test below to test your solution.\n",
    "\n",
    "If you are interested in how we came up with the formula for growth rates, consult the [growth rates](https://www.inferentialthinking.com/chapters/03/2/1/growth) section of the textbook.\n",
    "\n",
    "<!--\n",
    "BEGIN QUESTION\n",
    "name: q1_2\n",
    "-->"
   ]
  },
  {
   "cell_type": "code",
   "execution_count": 9,
   "metadata": {
    "deletable": false
   },
   "outputs": [
    {
     "data": {
      "text/html": [
       "<table border=\"1\" class=\"dataframe\">\n",
       "    <thead>\n",
       "        <tr>\n",
       "            <th>time</th> <th>population_total</th> <th>annual_growth</th>\n",
       "        </tr>\n",
       "    </thead>\n",
       "    <tbody>\n",
       "        <tr>\n",
       "            <td>1970</td> <td>65,048,701      </td> <td>1.84%        </td>\n",
       "        </tr>\n",
       "        <tr>\n",
       "            <td>1975</td> <td>71,247,153      </td> <td>2.69%        </td>\n",
       "        </tr>\n",
       "        <tr>\n",
       "            <td>1980</td> <td>81,364,176      </td> <td>2.71%        </td>\n",
       "        </tr>\n",
       "        <tr>\n",
       "            <td>1985</td> <td>93,015,182      </td> <td>2.64%        </td>\n",
       "        </tr>\n",
       "        <tr>\n",
       "            <td>1990</td> <td>105,983,136     </td> <td>2.25%        </td>\n",
       "        </tr>\n",
       "        <tr>\n",
       "            <td>1995</td> <td>118,427,768     </td> <td>2.08%        </td>\n",
       "        </tr>\n",
       "        <tr>\n",
       "            <td>2000</td> <td>131,280,739     </td> <td>1.71%        </td>\n",
       "        </tr>\n",
       "        <tr>\n",
       "            <td>2005</td> <td>142,929,979     </td> <td>1.19%        </td>\n",
       "        </tr>\n",
       "        <tr>\n",
       "            <td>2010</td> <td>151,616,777     </td> <td>1.21%        </td>\n",
       "        </tr>\n",
       "    </tbody>\n",
       "</table>"
      ],
      "text/plain": [
       "time | population_total | annual_growth\n",
       "1970 | 65,048,701       | 1.84%\n",
       "1975 | 71,247,153       | 2.69%\n",
       "1980 | 81,364,176       | 2.71%\n",
       "1985 | 93,015,182       | 2.64%\n",
       "1990 | 105,983,136      | 2.25%\n",
       "1995 | 118,427,768      | 2.08%\n",
       "2000 | 131,280,739      | 1.71%\n",
       "2005 | 142,929,979      | 1.19%\n",
       "2010 | 151,616,777      | 1.21%"
      ]
     },
     "execution_count": 9,
     "metadata": {},
     "output_type": "execute_result"
    }
   ],
   "source": [
    "initial = b_five.where(\"time\", are.between(1970, 2011)).column(\"population_total\")\n",
    "changed = b_five.where(\"time\", are.between(1975, 2016)).column(\"population_total\")\n",
    "\n",
    "b_1970_through_2010 = b_five.where('time', are.below_or_equal_to(2010)) \n",
    "b_five_growth = b_1970_through_2010.with_column('annual_growth', (changed/initial)**0.2-1)\n",
    "b_five_growth.set_format('annual_growth', PercentFormatter)"
   ]
  },
  {
   "cell_type": "code",
   "execution_count": 10,
   "metadata": {
    "deletable": false,
    "editable": false
   },
   "outputs": [
    {
     "name": "stdout",
     "output_type": "stream",
     "text": [
      "~~~~~~~~~~~~~~~~~~~~~~~~~~~~~~~~~~~~~~~~~~~~~~~~~~~~~~~~~~~~~~~~~~~~~\n",
      "Running tests\n",
      "\n",
      "---------------------------------------------------------------------\n",
      "Test summary\n",
      "    Passed: 2\n",
      "    Failed: 0\n",
      "[ooooooooook] 100.0% passed\n",
      "\n"
     ]
    }
   ],
   "source": [
    "ok.grade(\"q1_2\");"
   ]
  },
  {
   "cell_type": "markdown",
   "metadata": {
    "deletable": false,
    "editable": false
   },
   "source": [
    "While the population has grown every five years since 1970, the annual growth rate decreased dramatically from 1985 to 2005. Let's look at some other information in order to develop a possible explanation. Run the next cell to load three additional tables of measurements about countries over time."
   ]
  },
  {
   "cell_type": "code",
   "execution_count": 11,
   "metadata": {
    "deletable": false,
    "editable": false
   },
   "outputs": [],
   "source": [
    "life_expectancy = Table.read_table('life_expectancy.csv')\n",
    "child_mortality = Table.read_table('child_mortality.csv').relabel(2, 'child_mortality_under_5_per_1000_born')\n",
    "fertility = Table.read_table('fertility.csv')"
   ]
  },
  {
   "cell_type": "markdown",
   "metadata": {
    "deletable": false,
    "editable": false
   },
   "source": [
    "The `life_expectancy` table contains a statistic that is often used to measure how long people live, called *life expectancy at birth*. This number, for a country in a given year, [does not measure how long babies born in that year are expected to live](http://blogs.worldbank.org/opendata/what-does-life-expectancy-birth-really-mean). Instead, it measures how long someone would live, on average, if the *mortality conditions* in that year persisted throughout their lifetime. These \"mortality conditions\" describe what fraction of people at each age survived the year. So, it is a way of measuring the proportion of people that are staying alive, aggregated over different age groups in the population."
   ]
  },
  {
   "cell_type": "markdown",
   "metadata": {},
   "source": [
    "Run the following cells below to see `life_expectancy`, `child_mortality`, and `fertility`. Refer back to these tables as they will be helpful for answering further questions!"
   ]
  },
  {
   "cell_type": "code",
   "execution_count": 12,
   "metadata": {},
   "outputs": [
    {
     "data": {
      "text/html": [
       "<table border=\"1\" class=\"dataframe\">\n",
       "    <thead>\n",
       "        <tr>\n",
       "            <th>geo</th> <th>time</th> <th>life_expectancy_years</th>\n",
       "        </tr>\n",
       "    </thead>\n",
       "    <tbody>\n",
       "        <tr>\n",
       "            <td>afg </td> <td>1800</td> <td>28.21                </td>\n",
       "        </tr>\n",
       "        <tr>\n",
       "            <td>afg </td> <td>1801</td> <td>28.2                 </td>\n",
       "        </tr>\n",
       "        <tr>\n",
       "            <td>afg </td> <td>1802</td> <td>28.19                </td>\n",
       "        </tr>\n",
       "        <tr>\n",
       "            <td>afg </td> <td>1803</td> <td>28.18                </td>\n",
       "        </tr>\n",
       "        <tr>\n",
       "            <td>afg </td> <td>1804</td> <td>28.17                </td>\n",
       "        </tr>\n",
       "        <tr>\n",
       "            <td>afg </td> <td>1805</td> <td>28.16                </td>\n",
       "        </tr>\n",
       "        <tr>\n",
       "            <td>afg </td> <td>1806</td> <td>28.15                </td>\n",
       "        </tr>\n",
       "        <tr>\n",
       "            <td>afg </td> <td>1807</td> <td>28.14                </td>\n",
       "        </tr>\n",
       "        <tr>\n",
       "            <td>afg </td> <td>1808</td> <td>28.13                </td>\n",
       "        </tr>\n",
       "        <tr>\n",
       "            <td>afg </td> <td>1809</td> <td>28.12                </td>\n",
       "        </tr>\n",
       "    </tbody>\n",
       "</table>\n",
       "<p>... (43847 rows omitted)</p>"
      ],
      "text/plain": [
       "geo  | time | life_expectancy_years\n",
       "afg  | 1800 | 28.21\n",
       "afg  | 1801 | 28.2\n",
       "afg  | 1802 | 28.19\n",
       "afg  | 1803 | 28.18\n",
       "afg  | 1804 | 28.17\n",
       "afg  | 1805 | 28.16\n",
       "afg  | 1806 | 28.15\n",
       "afg  | 1807 | 28.14\n",
       "afg  | 1808 | 28.13\n",
       "afg  | 1809 | 28.12\n",
       "... (43847 rows omitted)"
      ]
     },
     "execution_count": 12,
     "metadata": {},
     "output_type": "execute_result"
    }
   ],
   "source": [
    "life_expectancy"
   ]
  },
  {
   "cell_type": "code",
   "execution_count": 13,
   "metadata": {},
   "outputs": [
    {
     "data": {
      "text/html": [
       "<table border=\"1\" class=\"dataframe\">\n",
       "    <thead>\n",
       "        <tr>\n",
       "            <th>geo</th> <th>time</th> <th>child_mortality_under_5_per_1000_born</th>\n",
       "        </tr>\n",
       "    </thead>\n",
       "    <tbody>\n",
       "        <tr>\n",
       "            <td>afg </td> <td>1800</td> <td>468.6                                </td>\n",
       "        </tr>\n",
       "        <tr>\n",
       "            <td>afg </td> <td>1801</td> <td>468.6                                </td>\n",
       "        </tr>\n",
       "        <tr>\n",
       "            <td>afg </td> <td>1802</td> <td>468.6                                </td>\n",
       "        </tr>\n",
       "        <tr>\n",
       "            <td>afg </td> <td>1803</td> <td>468.6                                </td>\n",
       "        </tr>\n",
       "        <tr>\n",
       "            <td>afg </td> <td>1804</td> <td>468.6                                </td>\n",
       "        </tr>\n",
       "        <tr>\n",
       "            <td>afg </td> <td>1805</td> <td>468.6                                </td>\n",
       "        </tr>\n",
       "        <tr>\n",
       "            <td>afg </td> <td>1806</td> <td>470                                  </td>\n",
       "        </tr>\n",
       "        <tr>\n",
       "            <td>afg </td> <td>1807</td> <td>470                                  </td>\n",
       "        </tr>\n",
       "        <tr>\n",
       "            <td>afg </td> <td>1808</td> <td>470                                  </td>\n",
       "        </tr>\n",
       "        <tr>\n",
       "            <td>afg </td> <td>1809</td> <td>470                                  </td>\n",
       "        </tr>\n",
       "    </tbody>\n",
       "</table>\n",
       "<p>... (40746 rows omitted)</p>"
      ],
      "text/plain": [
       "geo  | time | child_mortality_under_5_per_1000_born\n",
       "afg  | 1800 | 468.6\n",
       "afg  | 1801 | 468.6\n",
       "afg  | 1802 | 468.6\n",
       "afg  | 1803 | 468.6\n",
       "afg  | 1804 | 468.6\n",
       "afg  | 1805 | 468.6\n",
       "afg  | 1806 | 470\n",
       "afg  | 1807 | 470\n",
       "afg  | 1808 | 470\n",
       "afg  | 1809 | 470\n",
       "... (40746 rows omitted)"
      ]
     },
     "execution_count": 13,
     "metadata": {},
     "output_type": "execute_result"
    }
   ],
   "source": [
    "child_mortality"
   ]
  },
  {
   "cell_type": "code",
   "execution_count": 14,
   "metadata": {},
   "outputs": [
    {
     "data": {
      "text/html": [
       "<table border=\"1\" class=\"dataframe\">\n",
       "    <thead>\n",
       "        <tr>\n",
       "            <th>geo</th> <th>time</th> <th>children_per_woman_total_fertility</th>\n",
       "        </tr>\n",
       "    </thead>\n",
       "    <tbody>\n",
       "        <tr>\n",
       "            <td>afg </td> <td>1800</td> <td>7                                 </td>\n",
       "        </tr>\n",
       "        <tr>\n",
       "            <td>afg </td> <td>1801</td> <td>7                                 </td>\n",
       "        </tr>\n",
       "        <tr>\n",
       "            <td>afg </td> <td>1802</td> <td>7                                 </td>\n",
       "        </tr>\n",
       "        <tr>\n",
       "            <td>afg </td> <td>1803</td> <td>7                                 </td>\n",
       "        </tr>\n",
       "        <tr>\n",
       "            <td>afg </td> <td>1804</td> <td>7                                 </td>\n",
       "        </tr>\n",
       "        <tr>\n",
       "            <td>afg </td> <td>1805</td> <td>7                                 </td>\n",
       "        </tr>\n",
       "        <tr>\n",
       "            <td>afg </td> <td>1806</td> <td>7                                 </td>\n",
       "        </tr>\n",
       "        <tr>\n",
       "            <td>afg </td> <td>1807</td> <td>7                                 </td>\n",
       "        </tr>\n",
       "        <tr>\n",
       "            <td>afg </td> <td>1808</td> <td>7                                 </td>\n",
       "        </tr>\n",
       "        <tr>\n",
       "            <td>afg </td> <td>1809</td> <td>7                                 </td>\n",
       "        </tr>\n",
       "    </tbody>\n",
       "</table>\n",
       "<p>... (43402 rows omitted)</p>"
      ],
      "text/plain": [
       "geo  | time | children_per_woman_total_fertility\n",
       "afg  | 1800 | 7\n",
       "afg  | 1801 | 7\n",
       "afg  | 1802 | 7\n",
       "afg  | 1803 | 7\n",
       "afg  | 1804 | 7\n",
       "afg  | 1805 | 7\n",
       "afg  | 1806 | 7\n",
       "afg  | 1807 | 7\n",
       "afg  | 1808 | 7\n",
       "afg  | 1809 | 7\n",
       "... (43402 rows omitted)"
      ]
     },
     "execution_count": 14,
     "metadata": {},
     "output_type": "execute_result"
    }
   ],
   "source": [
    "fertility"
   ]
  },
  {
   "cell_type": "markdown",
   "metadata": {
    "deletable": false,
    "editable": false
   },
   "source": [
    "**Question 3.** Perhaps population is growing more slowly because people aren't living as long. Use the `life_expectancy` table to draw a line graph with the years 1970 and later on the horizontal axis that shows how the *life expectancy at birth* has changed in Bangladesh.\n",
    "\n",
    "<!--\n",
    "BEGIN QUESTION\n",
    "name: q1_3\n",
    "manual: true\n",
    "-->\n",
    "<!-- EXPORT TO PDF -->"
   ]
  },
  {
   "cell_type": "code",
   "execution_count": 15,
   "metadata": {
    "deletable": false,
    "export_pdf": true,
    "manual_grade": true,
    "manual_problem_id": "global_pop_3"
   },
   "outputs": [
    {
     "data": {
      "image/png": "[encoded data removed]",
      "text/plain": [
       "<Figure size 432x288 with 1 Axes>"
      ]
     },
     "metadata": {},
     "output_type": "display_data"
    }
   ],
   "source": [
    "#Fill in code here\n",
    "lifeUpdate = life_expectancy.where(\"time\", are.above(1969)).where(\"geo\", are.equal_to(\"bgd\"))\n",
    "lifeUpdate.plot(\"time\", \"life_expectancy_years\")"
   ]
  },
  {
   "cell_type": "markdown",
   "metadata": {
    "deletable": false,
    "editable": false
   },
   "source": [
    "**Question 4.** Assuming everything else stays the same, do the trends in life expectancy in the graph above directly explain why the population growth rate decreased from 1985 to 2010 in Bangladesh? Why or why not? \n",
    "\n",
    "Hint: What happened in Bangladesh in 1991, and does that event explain the overall change in population growth rate?\n",
    "\n",
    "<!--\n",
    "BEGIN QUESTION\n",
    "name: q1_4\n",
    "manual: true\n",
    "-->\n",
    "<!-- EXPORT TO PDF -->"
   ]
  },
  {
   "cell_type": "markdown",
   "metadata": {
    "collapsed": true,
    "deletable": false,
    "export_pdf": true,
    "manual_grade": true,
    "manual_problem_id": "global_pop_4"
   },
   "source": [
    "Increases in life expectancy can help explain why the population growth rate changed over time, but they cannot directly explain why. This is because confounding factors, like the damaged infrastructure/lack of resources after the huge cyclone that hit Bangladesh in 1991, can change the both the life expectancy at birth and the population growth rate. \n"
   ]
  },
  {
   "cell_type": "markdown",
   "metadata": {
    "deletable": false,
    "editable": false
   },
   "source": [
    "The `fertility` table contains a statistic that is often used to measure how many babies are being born, the *total fertility rate*. This number describes the [number of children a woman would have in her lifetime](https://www.measureevaluation.org/prh/rh_indicators/specific/fertility/total-fertility-rate), on average, if the current rates of birth by age of the mother persisted throughout her child bearing years, assuming she survived through age 49. "
   ]
  },
  {
   "cell_type": "markdown",
   "metadata": {
    "deletable": false,
    "editable": false
   },
   "source": [
    "**Question 5.** Write a function `fertility_over_time` that takes the Alpha-3 code of a `country` and a `start` year. It returns a two-column table with labels `Year` and `Children per woman` that can be used to generate a line chart of the country's fertility rate each year, starting at the `start` year. The plot should include the `start` year and all later years that appear in the `fertility` table. \n",
    "\n",
    "Then, in the next cell, call your `fertility_over_time` function on the Alpha-3 code for Bangladesh and the year 1970 in order to plot how Bangladesh's fertility rate has changed since 1970. Note that the function `fertility_over_time` should not return the plot itself. **The expression that draws the line plot is provided for you; please don't change it.**\n",
    "\n",
    "<!--\n",
    "BEGIN QUESTION\n",
    "name: q1_5\n",
    "-->"
   ]
  },
  {
   "cell_type": "code",
   "execution_count": 16,
   "metadata": {
    "deletable": false
   },
   "outputs": [
    {
     "data": {
      "image/png": "[encoded data removed]",
      "text/plain": [
       "<Figure size 432x288 with 1 Axes>"
      ]
     },
     "metadata": {},
     "output_type": "display_data"
    }
   ],
   "source": [
    "def fertility_over_time(country, start):\n",
    "    \"\"\"Create a two-column table that describes a country's total fertility rate each year.\"\"\"\n",
    "    country_fertility = fertility.where(\"geo\", are.equal_to(country))\n",
    "    country_fertility_after_start = country_fertility.where(\"time\", are.above(start-1))\n",
    "    cleaned_table = country_fertility_after_start.select(\"time\", \"children_per_woman_total_fertility\").relabel(\"time\", \"Year\").relabel(\"children_per_woman_total_fertility\", \"Children per woman\")\n",
    "    return cleaned_table\n",
    "\n",
    "bangladesh_code = \"bgd\"\n",
    "fertility_over_time(bangladesh_code, 1970).plot(0, 1) # You should *not* change this line."
   ]
  },
  {
   "cell_type": "code",
   "execution_count": 17,
   "metadata": {
    "deletable": false,
    "editable": false
   },
   "outputs": [
    {
     "name": "stdout",
     "output_type": "stream",
     "text": [
      "~~~~~~~~~~~~~~~~~~~~~~~~~~~~~~~~~~~~~~~~~~~~~~~~~~~~~~~~~~~~~~~~~~~~~\n",
      "Running tests\n",
      "\n",
      "---------------------------------------------------------------------\n",
      "Test summary\n",
      "    Passed: 3\n",
      "    Failed: 0\n",
      "[ooooooooook] 100.0% passed\n",
      "\n"
     ]
    }
   ],
   "source": [
    "ok.grade(\"q1_5\");"
   ]
  },
  {
   "cell_type": "markdown",
   "metadata": {
    "deletable": false,
    "editable": false
   },
   "source": [
    "**Question 6.** Assuming everything else is constant, do the trends in fertility in the graph above help directly explain why the population growth rate decreased from 1985 to 2010 in Bangladesh? Why or why not?\n",
    "\n",
    "<!--\n",
    "BEGIN QUESTION\n",
    "name: q1_6\n",
    "manual: true\n",
    "-->\n",
    "<!-- EXPORT TO PDF -->"
   ]
  },
  {
   "cell_type": "markdown",
   "metadata": {
    "deletable": false,
    "export_pdf": true,
    "manual_grade": true,
    "manual_problem_id": "global_pop_6"
   },
   "source": [
    "Yes, the trends in the fertility graph help explain why the population growth rate decreased because there are less children in each household every year (decreasing trend), meaning that women were having less kids from 1985 to 2010. If everything else is constant, the decrease in fertility as shown in the graph can directly explain why the population growth rate decreased over this time period. This is because increased birth rate is directly correlated to the growth of the population, and if everything else is constant, then increased fertility rates can directly explain this change."
   ]
  },
  {
   "cell_type": "markdown",
   "metadata": {
    "deletable": false,
    "editable": false
   },
   "source": [
    "It has been observed that lower fertility rates are often associated with lower child mortality rates. The link has been attributed to family planning: if parents can expect that their children will all survive into adulthood, then they will choose to have fewer children. We can see if this association is evident in Bangladesh by plotting the relationship between total fertility rate and [child mortality rate per 1000 children](https://en.wikipedia.org/wiki/Child_mortality)."
   ]
  },
  {
   "cell_type": "markdown",
   "metadata": {
    "deletable": false,
    "editable": false
   },
   "source": [
    "**Question 7.** Using both the `fertility` and `child_mortality` tables, draw a scatter diagram that has Bangladesh's total fertility on the horizontal axis and its child mortality on the vertical axis with one point for each year, starting with 1970.\n",
    "\n",
    "**The expression that draws the scatter diagram is provided for you; please don't change it.** Instead, create a table called `post_1969_fertility_and_child_mortality` with the appropriate column labels and data in order to generate the chart correctly. Use the label `Children per woman` to describe total fertility and the label `Child deaths per 1000 born` to describe child mortality.\n",
    "\n",
    "<!--\n",
    "BEGIN QUESTION\n",
    "name: q1_7\n",
    "manual: false\n",
    "-->"
   ]
  },
  {
   "cell_type": "code",
   "execution_count": 18,
   "metadata": {
    "deletable": false
   },
   "outputs": [
    {
     "data": {
      "image/png": "[encoded data removed]",
      "text/plain": [
       "<Figure size 360x360 with 1 Axes>"
      ]
     },
     "metadata": {},
     "output_type": "display_data"
    }
   ],
   "source": [
    "bgd_fertility = fertility.where(\"geo\", are.equal_to(\"bgd\")) #.select(\"children_per_woman_total_fertility\")\n",
    "bgd_child_mortality = child_mortality.where(\"geo\", are.equal_to(\"bgd\")) #.select(\"child_mortality_under_5_per_1000_born\")\n",
    "fertility_and_child_mortality = bgd_fertility.join(\"time\", bgd_child_mortality, \"time\")\n",
    "fertility_and_child_mortality\n",
    "post_1969_fertility_and_child_mortality = fertility_and_child_mortality.where(\"time\", are.between(1970, 2016)).relabel(\"children_per_woman_total_fertility\", \"Children per woman\").relabel(\"child_mortality_under_5_per_1000_born\", \"Child deaths per 1000 born\")\n",
    "post_1969_fertility_and_child_mortality.scatter('Children per woman', 'Child deaths per 1000 born') # You should *not* change this line."
   ]
  },
  {
   "cell_type": "code",
   "execution_count": 19,
   "metadata": {
    "deletable": false,
    "editable": false
   },
   "outputs": [
    {
     "name": "stdout",
     "output_type": "stream",
     "text": [
      "~~~~~~~~~~~~~~~~~~~~~~~~~~~~~~~~~~~~~~~~~~~~~~~~~~~~~~~~~~~~~~~~~~~~~\n",
      "Running tests\n",
      "\n",
      "---------------------------------------------------------------------\n",
      "Test summary\n",
      "    Passed: 2\n",
      "    Failed: 0\n",
      "[ooooooooook] 100.0% passed\n",
      "\n"
     ]
    }
   ],
   "source": [
    "ok.grade(\"q1_7\");"
   ]
  },
  {
   "cell_type": "markdown",
   "metadata": {
    "deletable": false,
    "editable": false
   },
   "source": [
    "**Question 8.** In one or two sentences, describe the association (if any) that is illustrated by this scatter diagram. Does the diagram show that reduced child mortality causes parents to choose to have fewer children?\n",
    "\n",
    "<!--\n",
    "BEGIN QUESTION\n",
    "name: q1_8\n",
    "manual: true\n",
    "-->\n",
    "<!-- EXPORT TO PDF -->"
   ]
  },
  {
   "cell_type": "markdown",
   "metadata": {
    "deletable": false,
    "export_pdf": true,
    "manual_grade": true,
    "manual_problem_id": "global_pop_8"
   },
   "source": [
    "While there is a strong positive association between the number of children per woman and the number of deaths per 1000 born, this does not necessarily show that reduced child mortality causes parents to choose to have fewer children. When the number of children increases, the number of child deaths also increase and when the number of children decreases, the number of child deaths also decreases; this association does not imply causation. Therefore, due to confounding factors, we cannot conclude that one directly causes the other, as there may be confounding factors."
   ]
  },
  {
   "cell_type": "markdown",
   "metadata": {},
   "source": [
    "### Checkpoint (due Friday 2/21)\n",
    "#### Congratulations, you have reached the checkpoint! Run the submit cell below to generate the checkpoint submission."
   ]
  },
  {
   "cell_type": "code",
   "execution_count": 20,
   "metadata": {},
   "outputs": [
    {
     "name": "stdout",
     "output_type": "stream",
     "text": [
      "\n",
      "Open the following URL:\n",
      "\n",
      "https://okpy.org/client/login/\n",
      "\n",
      "After logging in, copy the code from the web page and paste it into the box.\n",
      "Then press the \"Enter\" key on your keyboard.\n",
      "\n",
      "Paste your code here: mIlTu20A9ctNOLn8Lgi2SyXxmaVOLY\n",
      "Successfully logged in as lillyliu@berkeley.edu\n"
     ]
    },
    {
     "data": {
      "application/javascript": [
       "IPython.notebook.save_checkpoint();"
      ],
      "text/plain": [
       "<IPython.core.display.Javascript object>"
      ]
     },
     "metadata": {},
     "output_type": "display_data"
    },
    {
     "data": {
      "application/javascript": [
       "IPython.notebook.save_notebook();"
      ],
      "text/plain": [
       "<IPython.core.display.Javascript object>"
      ]
     },
     "metadata": {},
     "output_type": "display_data"
    },
    {
     "name": "stdout",
     "output_type": "stream",
     "text": [
      "Saving notebook... Saved 'project1.ipynb'.\n",
      "Submit... 100% complete\n",
      "Submission successful for user: lillyliu@berkeley.edu\n",
      "URL: https://okpy.org/cal/data8/sp20/project1/submissions/Dq4yMk\n",
      "\n"
     ]
    }
   ],
   "source": [
    "ok.auth(force=True)\n",
    "_ = ok.submit()"
   ]
  },
  {
   "cell_type": "markdown",
   "metadata": {
    "deletable": false,
    "editable": false
   },
   "source": [
    "### The World\n",
    "\n",
    "The change observed in Bangladesh since 1970 can also be observed in many other developing countries: health services improve, life expectancy increases, and child mortality decreases. At the same time, the fertility rate often plummets, and so the population growth rate decreases despite increasing longevity."
   ]
  },
  {
   "cell_type": "markdown",
   "metadata": {
    "deletable": false,
    "editable": false
   },
   "source": [
    "Run the cell below to generate two overlaid histograms, one for 1960 and one for 2010, that show the distributions of total fertility rates for these two years among all 201 countries in the `fertility` table."
   ]
  },
  {
   "cell_type": "code",
   "execution_count": 21,
   "metadata": {
    "deletable": false
   },
   "outputs": [
    {
     "data": {
      "image/png": "[encoded data removed]",
      "text/plain": [
       "<Figure size 432x288 with 1 Axes>"
      ]
     },
     "metadata": {},
     "output_type": "display_data"
    }
   ],
   "source": [
    "Table().with_columns(\n",
    "    '1960', fertility.where('time', 1960).column(2),\n",
    "    '2010', fertility.where('time', 2010).column(2)\n",
    ").hist(bins=np.arange(0, 10, 0.5), unit='child per woman')\n",
    "_ = plots.xlabel('Children per woman')\n",
    "_ = plots.ylabel('Percent per children per woman')\n",
    "_ = plots.xticks(np.arange(10))"
   ]
  },
  {
   "cell_type": "markdown",
   "metadata": {
    "deletable": false,
    "editable": false
   },
   "source": [
    "**Question 9.** Assign `fertility_statements` to an array of the numbers of each statement below that can be correctly inferred from these histograms.\n",
    "1. About the same number of countries had a fertility rate between 3.5 and 4.5 in both 1960 and 2010.\n",
    "1. In 2010, about 40% of countries had a fertility rate between 1.5 and 2.\n",
    "1. In 1960, less than 20% of countries had a fertility rate below 3.\n",
    "1. More countries had a fertility rate above 3 in 1960 than in 2010.\n",
    "1. At least half of countries had a fertility rate between 5 and 8 in 1960.\n",
    "1. At least half of countries had a fertility rate below 3 in 2010.\n",
    "\n",
    "<!--\n",
    "BEGIN QUESTION\n",
    "name: q1_9\n",
    "-->"
   ]
  },
  {
   "cell_type": "code",
   "execution_count": 22,
   "metadata": {
    "deletable": false
   },
   "outputs": [],
   "source": [
    "fertility_statements = ..."
   ]
  },
  {
   "cell_type": "code",
   "execution_count": 23,
   "metadata": {
    "deletable": false,
    "editable": false
   },
   "outputs": [
    {
     "name": "stdout",
     "output_type": "stream",
     "text": [
      "~~~~~~~~~~~~~~~~~~~~~~~~~~~~~~~~~~~~~~~~~~~~~~~~~~~~~~~~~~~~~~~~~~~~~\n",
      "Running tests\n",
      "\n",
      "---------------------------------------------------------------------\n",
      "q1_9 > Suite 1 > Case 1\n",
      "\n",
      ">>> # Please use a list of integers from 1 to 6;\n",
      ">>> all(x in range(1, 7) for x in set(fertility_statements))\n",
      "TypeError: 'ellipsis' object is not iterable\n",
      "\n",
      "# Error: expected\n",
      "#     True\n",
      "# but got\n",
      "#     Traceback (most recent call last):\n",
      "#       ...\n",
      "#     TypeError: 'ellipsis' object is not iterable\n",
      "\n",
      "Run only this test case with \"python3 ok -q q1_9 --suite 1 --case 1\"\n",
      "---------------------------------------------------------------------\n",
      "Test summary\n",
      "    Passed: 0\n",
      "    Failed: 1\n",
      "[k..........] 0.0% passed\n",
      "\n"
     ]
    }
   ],
   "source": [
    "ok.grade(\"q1_9\");"
   ]
  },
  {
   "cell_type": "markdown",
   "metadata": {
    "deletable": false,
    "editable": false
   },
   "source": [
    "**Question 10.** Draw a line plot of the world population from 1800 through 2005. The world population is the sum of all the country's populations. \n",
    "\n",
    "<!--\n",
    "BEGIN QUESTION\n",
    "name: q1_10\n",
    "manual: true\n",
    "-->\n",
    "<!-- EXPORT TO PDF -->"
   ]
  },
  {
   "cell_type": "code",
   "execution_count": 24,
   "metadata": {
    "deletable": false,
    "export_pdf": true,
    "manual_grade": true,
    "manual_problem_id": "global_pop_10"
   },
   "outputs": [],
   "source": [
    "#Fill in code here\n",
    "..."
   ]
  },
  {
   "cell_type": "markdown",
   "metadata": {
    "deletable": false,
    "editable": false
   },
   "source": [
    "**Question 11.** Create a function `stats_for_year` that takes a `year` and returns a table of statistics. The table it returns should have four columns: `geo`, `population_total`, `children_per_woman_total_fertility`, and `child_mortality_under_5_per_1000_born`. Each row should contain one Alpha-3 country code and three statistics: population, fertility rate, and child mortality for that `year` from the `population`, `fertility` and `child_mortality` tables. Only include rows for which all three statistics are available for the country and year.\n",
    "\n",
    "In addition, restrict the result to country codes that appears in `big_50`, an array of the 50 most populous countries in 2010. This restriction will speed up computations later in the project.\n",
    "\n",
    "After you write `stats_for_year`, try calling `stats_for_year` on any year between 1960 and 2010. Try to understand the output of stats_for_year.\n",
    "\n",
    "*Hint*: The tests for this question are quite comprehensive, so if you pass the tests, your function is probably correct. However, without calling your function yourself and looking at the output, it will be very difficult to understand any problems you have, so try your best to write the function correctly and check that it works before you rely on the `ok` tests to confirm your work.\n",
    "\n",
    "<!--\n",
    "BEGIN QUESTION\n",
    "name: q1_11\n",
    "manual: false\n",
    "-->"
   ]
  },
  {
   "cell_type": "code",
   "execution_count": 25,
   "metadata": {
    "deletable": false
   },
   "outputs": [
    {
     "data": {
      "text/plain": [
       "Ellipsis"
      ]
     },
     "execution_count": 25,
     "metadata": {},
     "output_type": "execute_result"
    }
   ],
   "source": [
    "# We first create a population table that only includes the \n",
    "# 50 countries with the largest 2010 populations. We focus on \n",
    "# these 50 countries only so that plotting later will run faster.\n",
    "big_50 = population.where('time', are.equal_to(2010)).sort(\"population_total\", descending=True).take(np.arange(50)).column('geo')\n",
    "population_of_big_50 = population.where('time', are.above(1959)).where('geo', are.contained_in(big_50))\n",
    "\n",
    "def stats_for_year(year):\n",
    "    \"\"\"Return a table of the stats for each country that year.\"\"\"\n",
    "    p = population_of_big_50.where('time', are.equal_to(year)).drop('time')\n",
    "    f = fertility.where('time', are.equal_to(year)).drop('time')\n",
    "    c = child_mortality.where('time', are.equal_to(year)).drop('time')\n",
    "    ...\n",
    "\n",
    "..."
   ]
  },
  {
   "cell_type": "code",
   "execution_count": 26,
   "metadata": {
    "deletable": false,
    "editable": false
   },
   "outputs": [
    {
     "name": "stdout",
     "output_type": "stream",
     "text": [
      "~~~~~~~~~~~~~~~~~~~~~~~~~~~~~~~~~~~~~~~~~~~~~~~~~~~~~~~~~~~~~~~~~~~~~\n",
      "Running tests\n",
      "\n",
      "---------------------------------------------------------------------\n",
      "q1_11 > Suite 1 > Case 1\n",
      "\n",
      ">>> # Incorrect labels for columns;\n",
      ">>> t = stats_for_year(1990);\n",
      ">>> t.labels == ('geo', 'population_total', 'children_per_woman_total_fertility', 'child_mortality_under_5_per_1000_born')\n",
      "AttributeError: 'NoneType' object has no attribute 'labels'\n",
      "\n",
      "# Error: expected\n",
      "#     True\n",
      "# but got\n",
      "#     Traceback (most recent call last):\n",
      "#       ...\n",
      "#     AttributeError: 'NoneType' object has no attribute 'labels'\n",
      "\n",
      "Run only this test case with \"python3 ok -q q1_11 --suite 1 --case 1\"\n",
      "---------------------------------------------------------------------\n",
      "Test summary\n",
      "    Passed: 0\n",
      "    Failed: 1\n",
      "[k..........] 0.0% passed\n",
      "\n"
     ]
    }
   ],
   "source": [
    "ok.grade(\"q1_11\");"
   ]
  },
  {
   "cell_type": "markdown",
   "metadata": {
    "deletable": false,
    "editable": false
   },
   "source": [
    "**Question 12.** Create a table called `pop_by_decade` with two columns called `decade` and `population`. It has a row for each `year` since 1960 that starts a decade. The `population` column contains the total population of all countries included in the result of `stats_for_year(year)` for the first `year` of the decade. For example, 1960 is the first year of the 1960's decade. You should see that these countries contain most of the world's population.\n",
    "\n",
    "*Hint:* One approach is to define a function `pop_for_year` that computes this total population, then `apply` it to the `decade` column.  The `stats_for_year` function from the previous question may be useful here.\n",
    "\n",
    "This first test is just a sanity check for your helper function if you choose to use it. You will not lose points for not implementing the function `pop_for_year`.\n",
    "\n",
    "**Note:** The cell where you will generate the `pop_by_decade` table is below the cell where you can choose to define the helper function `pop_for_year`. You should define your `pop_by_decade` table in the cell that starts with the table `decades` being defined. \n",
    "\n",
    "<!--\n",
    "BEGIN QUESTION\n",
    "name: q1_12_0\n",
    "manual: false\n",
    "points: 0\n",
    "-->"
   ]
  },
  {
   "cell_type": "code",
   "execution_count": 27,
   "metadata": {},
   "outputs": [],
   "source": [
    "def pop_for_year(year):\n",
    "    ..."
   ]
  },
  {
   "cell_type": "code",
   "execution_count": 28,
   "metadata": {
    "deletable": false,
    "editable": false
   },
   "outputs": [
    {
     "name": "stdout",
     "output_type": "stream",
     "text": [
      "~~~~~~~~~~~~~~~~~~~~~~~~~~~~~~~~~~~~~~~~~~~~~~~~~~~~~~~~~~~~~~~~~~~~~\n",
      "Running tests\n",
      "\n",
      "---------------------------------------------------------------------\n",
      "q1_12_0 > Suite 1 > Case 1\n",
      "\n",
      ">>> pop_for_year(1972) == 3345978384\n",
      "False\n",
      "\n",
      "# Error: expected\n",
      "#     True\n",
      "# but got\n",
      "#     False\n",
      "\n",
      "Run only this test case with \"python3 ok -q q1_12_0 --suite 1 --case 1\"\n",
      "---------------------------------------------------------------------\n",
      "Test summary\n",
      "    Passed: 0\n",
      "    Failed: 1\n",
      "[k..........] 0.0% passed\n",
      "\n"
     ]
    }
   ],
   "source": [
    "ok.grade(\"q1_12_0\");"
   ]
  },
  {
   "cell_type": "markdown",
   "metadata": {
    "deletable": false,
    "editable": false
   },
   "source": [
    "Now that you've defined your helper function (if you've chosen to do so), define the `pop_by_decade` table.\n",
    "\n",
    "<!--\n",
    "BEGIN QUESTION\n",
    "name: q1_12\n",
    "manual: false\n",
    "-->"
   ]
  },
  {
   "cell_type": "code",
   "execution_count": 29,
   "metadata": {
    "deletable": false
   },
   "outputs": [
    {
     "ename": "AttributeError",
     "evalue": "'ellipsis' object has no attribute 'set_format'",
     "output_type": "error",
     "traceback": [
      "\u001b[0;31m---------------------------------------------------------------------------\u001b[0m",
      "\u001b[0;31mAttributeError\u001b[0m                            Traceback (most recent call last)",
      "\u001b[0;32m<ipython-input-29-54b05eac127d>\u001b[0m in \u001b[0;36m<module>\u001b[0;34m\u001b[0m\n\u001b[1;32m      2\u001b[0m \u001b[0;34m\u001b[0m\u001b[0m\n\u001b[1;32m      3\u001b[0m \u001b[0mpop_by_decade\u001b[0m \u001b[0;34m=\u001b[0m \u001b[0;34m...\u001b[0m\u001b[0;34m\u001b[0m\u001b[0;34m\u001b[0m\u001b[0m\n\u001b[0;32m----> 4\u001b[0;31m \u001b[0mpop_by_decade\u001b[0m\u001b[0;34m.\u001b[0m\u001b[0mset_format\u001b[0m\u001b[0;34m(\u001b[0m\u001b[0;36m1\u001b[0m\u001b[0;34m,\u001b[0m \u001b[0mNumberFormatter\u001b[0m\u001b[0;34m)\u001b[0m\u001b[0;34m\u001b[0m\u001b[0;34m\u001b[0m\u001b[0m\n\u001b[0m",
      "\u001b[0;31mAttributeError\u001b[0m: 'ellipsis' object has no attribute 'set_format'"
     ]
    }
   ],
   "source": [
    "decades = Table().with_column('decade', np.arange(1960, 2011, 10))\n",
    "\n",
    "pop_by_decade = ...\n",
    "pop_by_decade.set_format(1, NumberFormatter)"
   ]
  },
  {
   "cell_type": "code",
   "execution_count": null,
   "metadata": {
    "deletable": false,
    "editable": false
   },
   "outputs": [],
   "source": [
    "ok.grade(\"q1_12\");"
   ]
  },
  {
   "cell_type": "markdown",
   "metadata": {
    "deletable": false,
    "editable": false
   },
   "source": [
    "The `countries` table describes various characteristics of countries. The `country` column contains the same codes as the `geo` column in each of the other data tables (`population`, `fertility`, and `child_mortality`). The `world_6region` column classifies each country into a region of the world. Run the cell below to inspect the data."
   ]
  },
  {
   "cell_type": "code",
   "execution_count": null,
   "metadata": {},
   "outputs": [],
   "source": [
    "countries = Table.read_table('countries.csv').where('country', are.contained_in(population.group('geo').column('geo')))\n",
    "countries.select('country', 'name', 'world_6region')"
   ]
  },
  {
   "cell_type": "markdown",
   "metadata": {
    "deletable": false,
    "editable": false
   },
   "source": [
    "**Question 13.** Create a table called `region_counts` that has two columns, `region` and `count`. It should contain two columns: a region column and a count column that contains the number of countries in each region that appear in the result of `stats_for_year(1960)`. For example, one row would have `south_asia` as its `world_6region` value and an integer as its `count` value: the number of large South Asian countries for which we have population, fertility, and child mortality numbers from 1960.\n",
    "\n",
    "<!--\n",
    "BEGIN QUESTION\n",
    "name: q1_13\n",
    "-->"
   ]
  },
  {
   "cell_type": "code",
   "execution_count": null,
   "metadata": {
    "deletable": false
   },
   "outputs": [],
   "source": [
    "region_counts = ...\n",
    "region_counts"
   ]
  },
  {
   "cell_type": "code",
   "execution_count": null,
   "metadata": {
    "deletable": false,
    "editable": false
   },
   "outputs": [],
   "source": [
    "ok.grade(\"q1_13\");"
   ]
  },
  {
   "cell_type": "markdown",
   "metadata": {
    "deletable": false,
    "editable": false
   },
   "source": [
    "The following scatter diagram compares total fertility rate and child mortality rate for each country in 1960. The area of each dot represents the population of the country, and the color represents its region of the world. Run the cell. Do you think you can identify any of the dots?"
   ]
  },
  {
   "cell_type": "code",
   "execution_count": null,
   "metadata": {
    "deletable": false
   },
   "outputs": [],
   "source": [
    "from functools import lru_cache as cache\n",
    "\n",
    "# This cache annotation makes sure that if the same year\n",
    "# is passed as an argument twice, the work of computing\n",
    "# the result is only carried out once.\n",
    "@cache(None)\n",
    "def stats_relabeled(year):\n",
    "    \"\"\"Relabeled and cached version of stats_for_year.\"\"\"\n",
    "    return stats_for_year(year).relabel(2, 'Children per woman').relabel(3, 'Child deaths per 1000 born')\n",
    "\n",
    "def fertility_vs_child_mortality(year):\n",
    "    \"\"\"Draw a color scatter diagram comparing child mortality and fertility.\"\"\"\n",
    "    with_region = stats_relabeled(year).join('geo', countries.select('country', 'world_6region'), 'country')\n",
    "    with_region.scatter(2, 3, sizes=1, group=4, s=500)\n",
    "    plots.xlim(0,10)\n",
    "    plots.ylim(-50, 500)\n",
    "    plots.title(year)\n",
    "\n",
    "fertility_vs_child_mortality(1960)"
   ]
  },
  {
   "cell_type": "markdown",
   "metadata": {
    "deletable": false,
    "editable": false
   },
   "source": [
    "**Question 14.** Assign `scatter_statements` to an array of the numbers of each statement below that can be inferred from this scatter diagram for 1960. \n",
    "1. As a whole, the `europe_central_asia` region had the lowest child mortality rate.\n",
    "1. The lowest child mortality rate of any country was from an `east_asia_pacific` country.\n",
    "1. Most countries had a fertility rate above 5.\n",
    "1. There was an association between child mortality and fertility.\n",
    "1. The two largest countries by population also had the two highest child mortality rate.\n",
    "\n",
    "<!--\n",
    "BEGIN QUESTION\n",
    "name: q1_14\n",
    "-->"
   ]
  },
  {
   "cell_type": "code",
   "execution_count": null,
   "metadata": {
    "deletable": false
   },
   "outputs": [],
   "source": [
    "scatter_statements = ..."
   ]
  },
  {
   "cell_type": "code",
   "execution_count": null,
   "metadata": {
    "deletable": false,
    "editable": false
   },
   "outputs": [],
   "source": [
    "ok.grade(\"q1_14\");"
   ]
  },
  {
   "cell_type": "markdown",
   "metadata": {
    "deletable": false
   },
   "source": [
    "The result of the cell below is interactive. Drag the slider to the right to see how countries have changed over time. You'll find that the great divide between so-called \"Western\" and \"developing\" countries that existed in the 1960's has nearly disappeared. This shift in fertility rates is the reason that the global population is expected to grow more slowly in the 21st century than it did in the 19th and 20th centuries.\n",
    "\n",
    "**Note:** Don't worry if a red warning pops up when running the cell below. You'll still be able to run the cell!"
   ]
  },
  {
   "cell_type": "code",
   "execution_count": null,
   "metadata": {
    "deletable": false,
    "scrolled": false
   },
   "outputs": [],
   "source": [
    "import ipywidgets as widgets\n",
    "\n",
    "# This part takes a few minutes to run because it \n",
    "# computes 55 tables in advance: one for each year.\n",
    "Table().with_column('Year', np.arange(1960, 2016)).apply(stats_relabeled, 'Year')\n",
    "\n",
    "_ = widgets.interact(fertility_vs_child_mortality, \n",
    "                     year=widgets.IntSlider(min=1960, max=2015, value=1960))"
   ]
  },
  {
   "cell_type": "markdown",
   "metadata": {
    "deletable": false,
    "editable": false
   },
   "source": [
    "Now is a great time to take a break and watch the same data presented by [Hans Rosling in a 2010 TEDx talk](https://www.gapminder.org/videos/reducing-child-mortality-a-moral-and-environmental-imperative) with smoother animation and witty commentary."
   ]
  },
  {
   "cell_type": "markdown",
   "metadata": {
    "deletable": false,
    "editable": false
   },
   "source": [
    "## 2. Global Poverty\n"
   ]
  },
  {
   "cell_type": "markdown",
   "metadata": {
    "deletable": false,
    "editable": false
   },
   "source": [
    "In 1800, 85% of the world's 1 billion people lived in *extreme poverty*, defined by the United Nations as \"a condition characterized by severe deprivation of basic human needs, including food, safe drinking water, sanitation facilities, health, shelter, education and information.\" A common measure of extreme poverty is a person living on less than \\$1.25 per day.\n",
    "\n",
    "In 2018, the proportion of people living in extreme poverty was estimated to be 8%. Although the world rate of extreme poverty has declined consistently for hundreds of years, the number of people living in extreme poverty is still over 600 million. The United Nations recently adopted an [ambitious goal](http://www.un.org/sustainabledevelopment/poverty/): \"By 2030, eradicate extreme poverty for all people everywhere.\"\n",
    "In this section, we will examine extreme poverty trends around the world."
   ]
  },
  {
   "cell_type": "markdown",
   "metadata": {
    "deletable": false,
    "editable": false
   },
   "source": [
    "First, load the population and poverty rate by country and year and the country descriptions. While the `population` table has values for every recent year for many countries, the `poverty` table only includes certain years for each country in which a measurement of the rate of extreme poverty was available."
   ]
  },
  {
   "cell_type": "code",
   "execution_count": 46,
   "metadata": {},
   "outputs": [
    {
     "data": {
      "text/html": [
       "<table border=\"1\" class=\"dataframe\">\n",
       "    <thead>\n",
       "        <tr>\n",
       "            <th>geo</th> <th>time</th> <th>population_total</th>\n",
       "        </tr>\n",
       "    </thead>\n",
       "    <tbody>\n",
       "        <tr>\n",
       "            <td>abw </td> <td>1800</td> <td>19286           </td>\n",
       "        </tr>\n",
       "        <tr>\n",
       "            <td>abw </td> <td>1801</td> <td>19286           </td>\n",
       "        </tr>\n",
       "        <tr>\n",
       "            <td>abw </td> <td>1802</td> <td>19286           </td>\n",
       "        </tr>\n",
       "    </tbody>\n",
       "</table>\n",
       "<p>... (87792 rows omitted)</p>"
      ],
      "text/plain": [
       "<IPython.core.display.HTML object>"
      ]
     },
     "metadata": {},
     "output_type": "display_data"
    },
    {
     "data": {
      "text/html": [
       "<table border=\"1\" class=\"dataframe\">\n",
       "    <thead>\n",
       "        <tr>\n",
       "            <th>geo</th> <th>time</th> <th>extreme_poverty_percent_people_below_125_a_day</th>\n",
       "        </tr>\n",
       "    </thead>\n",
       "    <tbody>\n",
       "        <tr>\n",
       "            <td>alb </td> <td>1996</td> <td>0.2                                           </td>\n",
       "        </tr>\n",
       "        <tr>\n",
       "            <td>alb </td> <td>2002</td> <td>0.73                                          </td>\n",
       "        </tr>\n",
       "        <tr>\n",
       "            <td>alb </td> <td>2004</td> <td>0.53                                          </td>\n",
       "        </tr>\n",
       "    </tbody>\n",
       "</table>\n",
       "<p>... (1096 rows omitted)</p>"
      ],
      "text/plain": [
       "<IPython.core.display.HTML object>"
      ]
     },
     "metadata": {},
     "output_type": "display_data"
    },
    {
     "data": {
      "text/html": [
       "<table border=\"1\" class=\"dataframe\">\n",
       "    <thead>\n",
       "        <tr>\n",
       "            <th>geo</th> <th>time</th> <th>extreme_poverty_percent_people_below_125_a_day</th>\n",
       "        </tr>\n",
       "    </thead>\n",
       "    <tbody>\n",
       "        <tr>\n",
       "            <td>alb </td> <td>1996</td> <td>0.2                                           </td>\n",
       "        </tr>\n",
       "        <tr>\n",
       "            <td>alb </td> <td>2002</td> <td>0.73                                          </td>\n",
       "        </tr>\n",
       "        <tr>\n",
       "            <td>alb </td> <td>2004</td> <td>0.53                                          </td>\n",
       "        </tr>\n",
       "        <tr>\n",
       "            <td>alb </td> <td>2005</td> <td>0.44                                          </td>\n",
       "        </tr>\n",
       "        <tr>\n",
       "            <td>alb </td> <td>2008</td> <td>0.2                                           </td>\n",
       "        </tr>\n",
       "        <tr>\n",
       "            <td>alb </td> <td>2012</td> <td>0.46                                          </td>\n",
       "        </tr>\n",
       "    </tbody>\n",
       "</table>"
      ],
      "text/plain": [
       "geo  | time | extreme_poverty_percent_people_below_125_a_day\n",
       "alb  | 1996 | 0.2\n",
       "alb  | 2002 | 0.73\n",
       "alb  | 2004 | 0.53\n",
       "alb  | 2005 | 0.44\n",
       "alb  | 2008 | 0.2\n",
       "alb  | 2012 | 0.46"
      ]
     },
     "execution_count": 46,
     "metadata": {},
     "output_type": "execute_result"
    }
   ],
   "source": [
    "population = Table.read_table('population.csv')\n",
    "population.show(3)\n",
    "countries = Table.read_table('countries.csv').where('country', are.contained_in(population.group('geo').column('geo')))\n",
    "poverty = Table.read_table('poverty.csv')\n",
    "poverty.show(3)\n",
    "x = poverty.where(\"geo\", are.equal_to(\"alb\"))\n",
    "x"
   ]
  },
  {
   "cell_type": "markdown",
   "metadata": {
    "deletable": false,
    "editable": false
   },
   "source": [
    "**Question 1.** Assign `latest_poverty` to a three-column table with one row for each country that appears in the `poverty` table. The first column should contain the 3-letter code for the country. The second column should contain the most recent year for which an extreme poverty rate is available for the country. The third column should contain the poverty rate in that year. **Do not change the last line, so that the labels of your table are set correctly.**\n",
    "\n",
    "*Hint*: think about how ```group``` works: it does a sequential search of the table (from top to bottom) and collects values in the array in the order in which they appear, and then applies a function to that array. The `first` function may be helpful, but you are not required to use it.\n",
    "\n",
    "<!--\n",
    "BEGIN QUESTION\n",
    "name: q2_1\n",
    "-->"
   ]
  },
  {
   "cell_type": "code",
   "execution_count": 49,
   "metadata": {
    "deletable": false
   },
   "outputs": [
    {
     "data": {
      "text/html": [
       "<table border=\"1\" class=\"dataframe\">\n",
       "    <thead>\n",
       "        <tr>\n",
       "            <th>geo</th> <th>time</th> <th>poverty_percent</th>\n",
       "        </tr>\n",
       "    </thead>\n",
       "    <tbody>\n",
       "        <tr>\n",
       "            <td>ago </td> <td>2009</td> <td>43.37          </td>\n",
       "        </tr>\n",
       "        <tr>\n",
       "            <td>alb </td> <td>2012</td> <td>0.46           </td>\n",
       "        </tr>\n",
       "        <tr>\n",
       "            <td>arg </td> <td>2011</td> <td>1.41           </td>\n",
       "        </tr>\n",
       "        <tr>\n",
       "            <td>arm </td> <td>2012</td> <td>1.75           </td>\n",
       "        </tr>\n",
       "        <tr>\n",
       "            <td>aus </td> <td>2003</td> <td>1.36           </td>\n",
       "        </tr>\n",
       "        <tr>\n",
       "            <td>aut </td> <td>2004</td> <td>0.34           </td>\n",
       "        </tr>\n",
       "        <tr>\n",
       "            <td>aze </td> <td>2008</td> <td>0.31           </td>\n",
       "        </tr>\n",
       "        <tr>\n",
       "            <td>bdi </td> <td>2006</td> <td>81.32          </td>\n",
       "        </tr>\n",
       "        <tr>\n",
       "            <td>bel </td> <td>2000</td> <td>0.5            </td>\n",
       "        </tr>\n",
       "        <tr>\n",
       "            <td>ben </td> <td>2012</td> <td>51.61          </td>\n",
       "        </tr>\n",
       "    </tbody>\n",
       "</table>\n",
       "<p>... (135 rows omitted)</p>"
      ],
      "text/plain": [
       "geo  | time | poverty_percent\n",
       "ago  | 2009 | 43.37\n",
       "alb  | 2012 | 0.46\n",
       "arg  | 2011 | 1.41\n",
       "arm  | 2012 | 1.75\n",
       "aus  | 2003 | 1.36\n",
       "aut  | 2004 | 0.34\n",
       "aze  | 2008 | 0.31\n",
       "bdi  | 2006 | 81.32\n",
       "bel  | 2000 | 0.5\n",
       "ben  | 2012 | 51.61\n",
       "... (135 rows omitted)"
      ]
     },
     "execution_count": 49,
     "metadata": {},
     "output_type": "execute_result"
    }
   ],
   "source": [
    "def first(values):\n",
    "    return values.item(0)\n",
    "def last(values):\n",
    "    return values.item(len(values)-1)\n",
    "\n",
    "latest_poverty = poverty.join(\"geo\", population).group(\"geo\", last).drop(\"time_2 last\", \"population_total last\")\n",
    "latest_poverty = latest_poverty.relabeled(0, 'geo').relabeled(1, 'time').relabeled(2, 'poverty_percent') # You should *not* change this line.\n",
    "latest_poverty\n",
    "\n"
   ]
  },
  {
   "cell_type": "code",
   "execution_count": 50,
   "metadata": {
    "deletable": false,
    "editable": false
   },
   "outputs": [
    {
     "name": "stdout",
     "output_type": "stream",
     "text": [
      "~~~~~~~~~~~~~~~~~~~~~~~~~~~~~~~~~~~~~~~~~~~~~~~~~~~~~~~~~~~~~~~~~~~~~\n",
      "Running tests\n",
      "\n",
      "---------------------------------------------------------------------\n",
      "Test summary\n",
      "    Passed: 2\n",
      "    Failed: 0\n",
      "[ooooooooook] 100.0% passed\n",
      "\n"
     ]
    }
   ],
   "source": [
    "ok.grade(\"q2_1\");"
   ]
  },
  {
   "cell_type": "markdown",
   "metadata": {
    "deletable": false,
    "editable": false
   },
   "source": [
    "**Question 2.** Using both `latest_poverty` and `population`, create a four-column table called `recent_poverty_total` with one row for each country in `latest_poverty`. The four columns should have the following labels and contents, in the following order:\n",
    "1. `geo` contains the 3-letter country code,\n",
    "1. `poverty_percent` contains the most recent poverty percent,\n",
    "1. `population_total` contains the population of the country in 2010,\n",
    "1. `poverty_total` contains the number of people in poverty **rounded to the nearest integer**, based on the 2010 population and most recent poverty rate.\n",
    "\n",
    "<!--\n",
    "BEGIN QUESTION\n",
    "name: q2_2\n",
    "-->"
   ]
  },
  {
   "cell_type": "code",
   "execution_count": 72,
   "metadata": {
    "deletable": false
   },
   "outputs": [
    {
     "data": {
      "text/html": [
       "<table border=\"1\" class=\"dataframe\">\n",
       "    <thead>\n",
       "        <tr>\n",
       "            <th>geo</th> <th>poverty_percent</th> <th>population_total</th> <th>poverty_total</th>\n",
       "        </tr>\n",
       "    </thead>\n",
       "    <tbody>\n",
       "        <tr>\n",
       "            <td>ago </td> <td>43.37          </td> <td>21219954        </td> <td>9.20309e+06  </td>\n",
       "        </tr>\n",
       "        <tr>\n",
       "            <td>alb </td> <td>0.46           </td> <td>2901883         </td> <td>13349        </td>\n",
       "        </tr>\n",
       "        <tr>\n",
       "            <td>arg </td> <td>1.41           </td> <td>41222875        </td> <td>581243       </td>\n",
       "        </tr>\n",
       "        <tr>\n",
       "            <td>arm </td> <td>1.75           </td> <td>2963496         </td> <td>51861        </td>\n",
       "        </tr>\n",
       "        <tr>\n",
       "            <td>aus </td> <td>1.36           </td> <td>22162863        </td> <td>301415       </td>\n",
       "        </tr>\n",
       "        <tr>\n",
       "            <td>aut </td> <td>0.34           </td> <td>8391986         </td> <td>28533        </td>\n",
       "        </tr>\n",
       "        <tr>\n",
       "            <td>aze </td> <td>0.31           </td> <td>9099893         </td> <td>28210        </td>\n",
       "        </tr>\n",
       "        <tr>\n",
       "            <td>bdi </td> <td>81.32          </td> <td>9461117         </td> <td>7.69378e+06  </td>\n",
       "        </tr>\n",
       "        <tr>\n",
       "            <td>bel </td> <td>0.5            </td> <td>10929978        </td> <td>54650        </td>\n",
       "        </tr>\n",
       "        <tr>\n",
       "            <td>ben </td> <td>51.61          </td> <td>9509798         </td> <td>4.90801e+06  </td>\n",
       "        </tr>\n",
       "    </tbody>\n",
       "</table>\n",
       "<p>... (135 rows omitted)</p>"
      ],
      "text/plain": [
       "geo  | poverty_percent | population_total | poverty_total\n",
       "ago  | 43.37           | 21219954         | 9.20309e+06\n",
       "alb  | 0.46            | 2901883          | 13349\n",
       "arg  | 1.41            | 41222875         | 581243\n",
       "arm  | 1.75            | 2963496          | 51861\n",
       "aus  | 1.36            | 22162863         | 301415\n",
       "aut  | 0.34            | 8391986          | 28533\n",
       "aze  | 0.31            | 9099893          | 28210\n",
       "bdi  | 81.32           | 9461117          | 7.69378e+06\n",
       "bel  | 0.5             | 10929978         | 54650\n",
       "ben  | 51.61           | 9509798          | 4.90801e+06\n",
       "... (135 rows omitted)"
      ]
     },
     "execution_count": 72,
     "metadata": {},
     "output_type": "execute_result"
    }
   ],
   "source": [
    "poverty_and_pop = latest_poverty.join(\"geo\", population.where(\"time\", are.equal_to(2010)), \"geo\")\n",
    "recent_poverty_total = poverty_and_pop.with_column(\"poverty_total\", (poverty_and_pop.column(\"poverty_percent\")/100*poverty_and_pop.column(\"population_total\")).round(0)).drop(\"time\", \"time_2\")\n",
    "recent_poverty_total"
   ]
  },
  {
   "cell_type": "code",
   "execution_count": 73,
   "metadata": {
    "deletable": false,
    "editable": false
   },
   "outputs": [
    {
     "name": "stdout",
     "output_type": "stream",
     "text": [
      "~~~~~~~~~~~~~~~~~~~~~~~~~~~~~~~~~~~~~~~~~~~~~~~~~~~~~~~~~~~~~~~~~~~~~\n",
      "Running tests\n",
      "\n",
      "---------------------------------------------------------------------\n",
      "Test summary\n",
      "    Passed: 3\n",
      "    Failed: 0\n",
      "[ooooooooook] 100.0% passed\n",
      "\n"
     ]
    }
   ],
   "source": [
    "ok.grade(\"q2_2\");"
   ]
  },
  {
   "cell_type": "markdown",
   "metadata": {
    "deletable": false,
    "editable": false
   },
   "source": [
    "**Question 3.** Assign the name `poverty_percent` to the known percentage of the world’s 2010 population that were living in extreme poverty. Assume that the `poverty_total` numbers in the `recent_poverty_total` table describe **all** people in 2010 living in extreme poverty. You should find a number that is above the 2018 global estimate of 8%, since many country-specific poverty rates are older than 2018.\n",
    "\n",
    "*Hint*: The sum of the `population_total` column in the `recent_poverty_total` table is not the world population, because only a subset of the world's countries are included in the `recent_poverty_total` table (only some countries have known poverty rates). Use the `population` table to compute the world's 2010 total population..\n",
    "\n",
    "<!--\n",
    "BEGIN QUESTION\n",
    "name: q2_3\n",
    "-->"
   ]
  },
  {
   "cell_type": "code",
   "execution_count": 79,
   "metadata": {
    "deletable": false
   },
   "outputs": [
    {
     "data": {
      "text/plain": [
       "14.299370218520854"
      ]
     },
     "execution_count": 79,
     "metadata": {},
     "output_type": "execute_result"
    }
   ],
   "source": [
    "population2010 = np.sum(population.where(\"time\", are.equal_to(2010)).column(\"population_total\"))\n",
    "poverty_percent = (np.sum(recent_poverty_total.column(\"poverty_total\"))/population2010)*100\n",
    "poverty_percent"
   ]
  },
  {
   "cell_type": "code",
   "execution_count": 80,
   "metadata": {
    "deletable": false,
    "editable": false
   },
   "outputs": [
    {
     "name": "stdout",
     "output_type": "stream",
     "text": [
      "~~~~~~~~~~~~~~~~~~~~~~~~~~~~~~~~~~~~~~~~~~~~~~~~~~~~~~~~~~~~~~~~~~~~~\n",
      "Running tests\n",
      "\n",
      "---------------------------------------------------------------------\n",
      "Test summary\n",
      "    Passed: 1\n",
      "    Failed: 0\n",
      "[ooooooooook] 100.0% passed\n",
      "\n"
     ]
    }
   ],
   "source": [
    "ok.grade(\"q2_3\");"
   ]
  },
  {
   "cell_type": "markdown",
   "metadata": {
    "deletable": false,
    "editable": false
   },
   "source": [
    "The `countries` table includes not only the name and region of countries, but also their positions on the globe."
   ]
  },
  {
   "cell_type": "code",
   "execution_count": 81,
   "metadata": {
    "deletable": false,
    "editable": false
   },
   "outputs": [
    {
     "data": {
      "text/html": [
       "<table border=\"1\" class=\"dataframe\">\n",
       "    <thead>\n",
       "        <tr>\n",
       "            <th>country</th> <th>name</th> <th>world_4region</th> <th>latitude</th> <th>longitude</th>\n",
       "        </tr>\n",
       "    </thead>\n",
       "    <tbody>\n",
       "        <tr>\n",
       "            <td>afg      </td> <td>Afghanistan          </td> <td>asia         </td> <td>33      </td> <td>66       </td>\n",
       "        </tr>\n",
       "        <tr>\n",
       "            <td>akr_a_dhe</td> <td>Akrotiri and Dhekelia</td> <td>europe       </td> <td>nan     </td> <td>nan      </td>\n",
       "        </tr>\n",
       "        <tr>\n",
       "            <td>alb      </td> <td>Albania              </td> <td>europe       </td> <td>41      </td> <td>20       </td>\n",
       "        </tr>\n",
       "        <tr>\n",
       "            <td>dza      </td> <td>Algeria              </td> <td>africa       </td> <td>28      </td> <td>3        </td>\n",
       "        </tr>\n",
       "        <tr>\n",
       "            <td>asm      </td> <td>American Samoa       </td> <td>asia         </td> <td>-11.056 </td> <td>-171.082 </td>\n",
       "        </tr>\n",
       "        <tr>\n",
       "            <td>and      </td> <td>Andorra              </td> <td>europe       </td> <td>42.5078 </td> <td>1.52109  </td>\n",
       "        </tr>\n",
       "        <tr>\n",
       "            <td>ago      </td> <td>Angola               </td> <td>africa       </td> <td>-12.5   </td> <td>18.5     </td>\n",
       "        </tr>\n",
       "        <tr>\n",
       "            <td>aia      </td> <td>Anguilla             </td> <td>americas     </td> <td>18.2167 </td> <td>-63.05   </td>\n",
       "        </tr>\n",
       "        <tr>\n",
       "            <td>atg      </td> <td>Antigua and Barbuda  </td> <td>americas     </td> <td>17.05   </td> <td>-61.8    </td>\n",
       "        </tr>\n",
       "        <tr>\n",
       "            <td>arg      </td> <td>Argentina            </td> <td>americas     </td> <td>-34     </td> <td>-64      </td>\n",
       "        </tr>\n",
       "    </tbody>\n",
       "</table>\n",
       "<p>... (245 rows omitted)</p>"
      ],
      "text/plain": [
       "country   | name                  | world_4region | latitude | longitude\n",
       "afg       | Afghanistan           | asia          | 33       | 66\n",
       "akr_a_dhe | Akrotiri and Dhekelia | europe        | nan      | nan\n",
       "alb       | Albania               | europe        | 41       | 20\n",
       "dza       | Algeria               | africa        | 28       | 3\n",
       "asm       | American Samoa        | asia          | -11.056  | -171.082\n",
       "and       | Andorra               | europe        | 42.5078  | 1.52109\n",
       "ago       | Angola                | africa        | -12.5    | 18.5\n",
       "aia       | Anguilla              | americas      | 18.2167  | -63.05\n",
       "atg       | Antigua and Barbuda   | americas      | 17.05    | -61.8\n",
       "arg       | Argentina             | americas      | -34      | -64\n",
       "... (245 rows omitted)"
      ]
     },
     "execution_count": 81,
     "metadata": {},
     "output_type": "execute_result"
    }
   ],
   "source": [
    "countries.select('country', 'name', 'world_4region', 'latitude', 'longitude')"
   ]
  },
  {
   "cell_type": "markdown",
   "metadata": {
    "deletable": false,
    "editable": false
   },
   "source": [
    "**Question 4.** Using both `countries` and `recent_poverty_total`, create a five-column table called `poverty_map` with one row for every country in `recent_poverty_total`.  The five columns should have the following labels and contents:\n",
    "1. `latitude` contains the country's latitude,\n",
    "1. `longitude` contains the country's longitude,\n",
    "1. `name` contains the country's name,\n",
    "1. `region` contains the country's region from the `world_4region` column of `countries`,\n",
    "1. `poverty_total` contains the country's poverty total.\n",
    "\n",
    "<!--\n",
    "BEGIN QUESTION\n",
    "name: q2_4\n",
    "-->"
   ]
  },
  {
   "cell_type": "code",
   "execution_count": 87,
   "metadata": {
    "deletable": false
   },
   "outputs": [
    {
     "data": {
      "text/html": [
       "<table border=\"1\" class=\"dataframe\">\n",
       "    <thead>\n",
       "        <tr>\n",
       "            <th>latitude</th> <th>longitude</th> <th>name</th> <th>region</th> <th>poverty_total</th>\n",
       "        </tr>\n",
       "    </thead>\n",
       "    <tbody>\n",
       "        <tr>\n",
       "            <td>-12.5   </td> <td>18.5     </td> <td>Angola    </td> <td>africa  </td> <td>9.20309e+06  </td>\n",
       "        </tr>\n",
       "        <tr>\n",
       "            <td>41      </td> <td>20       </td> <td>Albania   </td> <td>europe  </td> <td>13349        </td>\n",
       "        </tr>\n",
       "        <tr>\n",
       "            <td>-34     </td> <td>-64      </td> <td>Argentina </td> <td>americas</td> <td>581243       </td>\n",
       "        </tr>\n",
       "        <tr>\n",
       "            <td>40.25   </td> <td>45       </td> <td>Armenia   </td> <td>europe  </td> <td>51861        </td>\n",
       "        </tr>\n",
       "        <tr>\n",
       "            <td>-25     </td> <td>135      </td> <td>Australia </td> <td>asia    </td> <td>301415       </td>\n",
       "        </tr>\n",
       "        <tr>\n",
       "            <td>47.3333 </td> <td>13.3333  </td> <td>Austria   </td> <td>europe  </td> <td>28533        </td>\n",
       "        </tr>\n",
       "        <tr>\n",
       "            <td>40.5    </td> <td>47.5     </td> <td>Azerbaijan</td> <td>europe  </td> <td>28210        </td>\n",
       "        </tr>\n",
       "        <tr>\n",
       "            <td>-3.5    </td> <td>30       </td> <td>Burundi   </td> <td>africa  </td> <td>7.69378e+06  </td>\n",
       "        </tr>\n",
       "        <tr>\n",
       "            <td>50.75   </td> <td>4.5      </td> <td>Belgium   </td> <td>europe  </td> <td>54650        </td>\n",
       "        </tr>\n",
       "        <tr>\n",
       "            <td>9.5     </td> <td>2.25     </td> <td>Benin     </td> <td>africa  </td> <td>4.90801e+06  </td>\n",
       "        </tr>\n",
       "    </tbody>\n",
       "</table>\n",
       "<p>... (135 rows omitted)</p>"
      ],
      "text/plain": [
       "latitude | longitude | name       | region   | poverty_total\n",
       "-12.5    | 18.5      | Angola     | africa   | 9.20309e+06\n",
       "41       | 20        | Albania    | europe   | 13349\n",
       "-34      | -64       | Argentina  | americas | 581243\n",
       "40.25    | 45        | Armenia    | europe   | 51861\n",
       "-25      | 135       | Australia  | asia     | 301415\n",
       "47.3333  | 13.3333   | Austria    | europe   | 28533\n",
       "40.5     | 47.5      | Azerbaijan | europe   | 28210\n",
       "-3.5     | 30        | Burundi    | africa   | 7.69378e+06\n",
       "50.75    | 4.5       | Belgium    | europe   | 54650\n",
       "9.5      | 2.25      | Benin      | africa   | 4.90801e+06\n",
       "... (135 rows omitted)"
      ]
     },
     "execution_count": 87,
     "metadata": {},
     "output_type": "execute_result"
    }
   ],
   "source": [
    "poverty_map = countries.select('country', 'name', 'world_4region', 'latitude', 'longitude').join(\"country\", recent_poverty_total, \"geo\").select(\"latitude\", \"longitude\", \"name\", \"world_4region\", \"poverty_total\").relabel(\"world_4region\", \"region\")\n",
    "poverty_map"
   ]
  },
  {
   "cell_type": "code",
   "execution_count": 88,
   "metadata": {
    "deletable": false,
    "editable": false
   },
   "outputs": [
    {
     "name": "stdout",
     "output_type": "stream",
     "text": [
      "~~~~~~~~~~~~~~~~~~~~~~~~~~~~~~~~~~~~~~~~~~~~~~~~~~~~~~~~~~~~~~~~~~~~~\n",
      "Running tests\n",
      "\n",
      "---------------------------------------------------------------------\n",
      "Test summary\n",
      "    Passed: 2\n",
      "    Failed: 0\n",
      "[ooooooooook] 100.0% passed\n",
      "\n"
     ]
    }
   ],
   "source": [
    "ok.grade(\"q2_4\");"
   ]
  },
  {
   "cell_type": "markdown",
   "metadata": {
    "deletable": false,
    "editable": false
   },
   "source": [
    "Run the cell below to draw a map of the world in which the areas of circles represent the number of people living in extreme poverty. Double-click on the map to zoom in."
   ]
  },
  {
   "cell_type": "code",
   "execution_count": 89,
   "metadata": {
    "deletable": false,
    "editable": false
   },
   "outputs": [
    {
     "data": {
      "text/html": [
       "<div style=\"width:100%;\"><div style=\"position:relative;width:100%;height:0;padding-bottom:60%;\"><iframe src=\"about:blank\" style=\"position:absolute;width:100%;height:100%;left:0;top:0;border:none !important;\" data-html=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 onload=\"this.contentDocument.open();this.contentDocument.write(atob(this.getAttribute('data-html')));this.contentDocument.close();\" allowfullscreen webkitallowfullscreen mozallowfullscreen></iframe></div></div>"
      ],
      "text/plain": [
       "<datascience.maps.Map at 0x7fc1a4035cf8>"
      ]
     },
     "execution_count": 89,
     "metadata": {},
     "output_type": "execute_result"
    }
   ],
   "source": [
    "# It may take a few seconds to generate this map.\n",
    "colors = {'africa': 'blue', 'europe': 'black', 'asia': 'red', 'americas': 'green'}\n",
    "scaled = poverty_map.with_columns(\n",
    "    'poverty_total', 1e-4 * poverty_map.column('poverty_total'),\n",
    "    'region', poverty_map.apply(colors.get, 'region')\n",
    ")\n",
    "Circle.map_table(scaled)"
   ]
  },
  {
   "cell_type": "markdown",
   "metadata": {
    "deletable": false,
    "editable": false
   },
   "source": [
    "Although people live in extreme poverty throughout the world (with more than 5 million in the United States), the largest numbers are in Asia and Africa."
   ]
  },
  {
   "cell_type": "markdown",
   "metadata": {
    "deletable": false,
    "editable": false
   },
   "source": [
    "**Question 5.** Assign `largest` to a two-column table with the `name` (not the 3-letter code) and `poverty_total` of the 10 countries with the largest number of people living in extreme poverty.\n",
    "\n",
    "<!--\n",
    "BEGIN QUESTION\n",
    "name: q2_5\n",
    "-->"
   ]
  },
  {
   "cell_type": "code",
   "execution_count": 90,
   "metadata": {
    "deletable": false
   },
   "outputs": [
    {
     "data": {
      "text/html": [
       "<table border=\"1\" class=\"dataframe\">\n",
       "    <thead>\n",
       "        <tr>\n",
       "            <th>name</th> <th>poverty_total</th>\n",
       "        </tr>\n",
       "    </thead>\n",
       "    <tbody>\n",
       "        <tr>\n",
       "            <td>India           </td> <td>290,881,638.00</td>\n",
       "        </tr>\n",
       "        <tr>\n",
       "            <td>Nigeria         </td> <td>98,891,167.00 </td>\n",
       "        </tr>\n",
       "        <tr>\n",
       "            <td>China           </td> <td>83,944,643.00 </td>\n",
       "        </tr>\n",
       "        <tr>\n",
       "            <td>Bangladesh      </td> <td>65,574,256.00 </td>\n",
       "        </tr>\n",
       "        <tr>\n",
       "            <td>Congo, Dem. Rep.</td> <td>57,841,438.00 </td>\n",
       "        </tr>\n",
       "        <tr>\n",
       "            <td>Indonesia       </td> <td>39,141,326.00 </td>\n",
       "        </tr>\n",
       "        <tr>\n",
       "            <td>Ethiopia        </td> <td>32,213,991.00 </td>\n",
       "        </tr>\n",
       "        <tr>\n",
       "            <td>Pakistan        </td> <td>21,663,595.00 </td>\n",
       "        </tr>\n",
       "        <tr>\n",
       "            <td>Tanzania        </td> <td>19,847,979.00 </td>\n",
       "        </tr>\n",
       "        <tr>\n",
       "            <td>Madagascar      </td> <td>18,480,426.00 </td>\n",
       "        </tr>\n",
       "    </tbody>\n",
       "</table>"
      ],
      "text/plain": [
       "name             | poverty_total\n",
       "India            | 290,881,638.00\n",
       "Nigeria          | 98,891,167.00\n",
       "China            | 83,944,643.00\n",
       "Bangladesh       | 65,574,256.00\n",
       "Congo, Dem. Rep. | 57,841,438.00\n",
       "Indonesia        | 39,141,326.00\n",
       "Ethiopia         | 32,213,991.00\n",
       "Pakistan         | 21,663,595.00\n",
       "Tanzania         | 19,847,979.00\n",
       "Madagascar       | 18,480,426.00"
      ]
     },
     "execution_count": 90,
     "metadata": {},
     "output_type": "execute_result"
    }
   ],
   "source": [
    "largest = poverty_map.sort(\"poverty_total\", descending=True).take(np.arange(0,10)).drop(\"latitude\", \"longitude\", \"region\")\n",
    "largest.set_format('poverty_total', NumberFormatter)"
   ]
  },
  {
   "cell_type": "code",
   "execution_count": 91,
   "metadata": {
    "deletable": false,
    "editable": false
   },
   "outputs": [
    {
     "name": "stdout",
     "output_type": "stream",
     "text": [
      "~~~~~~~~~~~~~~~~~~~~~~~~~~~~~~~~~~~~~~~~~~~~~~~~~~~~~~~~~~~~~~~~~~~~~\n",
      "Running tests\n",
      "\n",
      "---------------------------------------------------------------------\n",
      "Test summary\n",
      "    Passed: 3\n",
      "    Failed: 0\n",
      "[ooooooooook] 100.0% passed\n",
      "\n"
     ]
    }
   ],
   "source": [
    "ok.grade(\"q2_5\");"
   ]
  },
  {
   "cell_type": "markdown",
   "metadata": {
    "deletable": false
   },
   "source": [
    "**Question 6.** Write a function called `poverty_timeline` that takes **the name of a country** (not the geo code) as its argument. It should draw a line plot of the number of people living in poverty in that country with time on the horizontal axis. The line plot should have a point for each row in the `poverty` table for that country. To compute the population living in poverty from a poverty percentage, multiply by the population of the country **in that year**.\n",
    "\n",
    "*Hint:* To make your plot, you will first need to make a table.\n",
    "\n",
    "*Hint:* This question is long. Feel free to create cells and experiment. "
   ]
  },
  {
   "cell_type": "code",
   "execution_count": null,
   "metadata": {},
   "outputs": [],
   "source": [
    "def poverty_timeline(country):\n",
    "    '''Draw a timeline of people living in extreme poverty in a country.'''\n",
    "    geo = ...\n",
    "    # This solution will take multiple lines of code. Use as many as you need\n",
    "    ..."
   ]
  },
  {
   "cell_type": "markdown",
   "metadata": {
    "deletable": false,
    "editable": false
   },
   "source": [
    "Finally, draw the timelines below to see how the world is changing. You can check your work by comparing your graphs to the ones on [gapminder.org](https://www.gapminder.org/tools/#$state$entities$show$country$/$in@=ind;;;;&marker$axis_y$which=number_of_people_in_poverty&scaleType=linear&spaceRef:null;;;&chart-type=linechart).\n",
    "\n",
    "<!--\n",
    "BEGIN QUESTION\n",
    "name: q2_6\n",
    "manual: true\n",
    "-->\n",
    "<!-- EXPORT TO PDF -->"
   ]
  },
  {
   "cell_type": "code",
   "execution_count": null,
   "metadata": {
    "export_pdf": true
   },
   "outputs": [],
   "source": [
    "poverty_timeline('India')\n",
    "poverty_timeline('Nigeria')\n",
    "poverty_timeline('China')\n",
    "poverty_timeline('United States')"
   ]
  },
  {
   "cell_type": "markdown",
   "metadata": {
    "deletable": false,
    "editable": false
   },
   "source": [
    "Although the number of people living in extreme poverty has been increasing in Nigeria and the United States, the massive decreases in China and India have shaped the overall trend that extreme poverty is decreasing worldwide, both in percentage and in absolute number. \n",
    "\n",
    "To learn more, watch [Hans Rosling in a 2015 film](https://www.gapminder.org/videos/dont-panic-end-poverty/) about the UN goal of eradicating extreme poverty from the world. \n",
    "\n",
    "Below, we've also added an interactive dropdown menu for you to visualize `poverty_timeline` graphs for other countries. Note that each dropdown menu selection may take a few seconds to run."
   ]
  },
  {
   "cell_type": "code",
   "execution_count": null,
   "metadata": {
    "deletable": false,
    "editable": false
   },
   "outputs": [],
   "source": [
    "# Just run this cell\n",
    "\n",
    "all_countries = poverty_map.column('name')\n",
    "_ = widgets.interact(poverty_timeline, country=list(all_countries))"
   ]
  },
  {
   "cell_type": "markdown",
   "metadata": {
    "deletable": false,
    "editable": false
   },
   "source": [
    "**You're finished!** Congratulations on mastering data visualization and table manipulation. Time to submit."
   ]
  },
  {
   "cell_type": "markdown",
   "metadata": {},
   "source": [
    "## 3. Submission\n"
   ]
  },
  {
   "cell_type": "markdown",
   "metadata": {
    "collapsed": true
   },
   "source": [
    "Once you're finished, select \"Save and Checkpoint\" in the File menu and then execute the `submit` cell below. The result will contain a link that you can use to check that your assignment has been submitted successfully. If you submit more than once before the deadline, we will only grade your final submission. If you mistakenly submit the wrong one, you can head to [okpy.org](https://okpy.org/) and flag the correct version. To do so, go to the website, click on this assignment, and find the version you would like to have graded. There should be an option to flag that submission for grading!"
   ]
  },
  {
   "cell_type": "code",
   "execution_count": null,
   "metadata": {},
   "outputs": [],
   "source": [
    "_ = ok.submit()"
   ]
  },
  {
   "cell_type": "code",
   "execution_count": null,
   "metadata": {},
   "outputs": [],
   "source": [
    "# For your convenience, you can run this cell to run all the tests at once!\n",
    "import os\n",
    "print(\"Running all tests...\")\n",
    "_ = [ok.grade(q[:-3]) for q in os.listdir(\"tests\") if q.startswith('q') and len(q) <= 10]\n",
    "print(\"Finished running all tests.\")"
   ]
  }
 ],
 "metadata": {
  "kernelspec": {
   "display_name": "Python 3",
   "language": "python",
   "name": "python3"
  },
  "language_info": {
   "codemirror_mode": {
    "name": "ipython",
    "version": 3
   },
   "file_extension": ".py",
   "mimetype": "text/x-python",
   "name": "python",
   "nbconvert_exporter": "python",
   "pygments_lexer": "ipython3",
   "version": "3.6.9"
  }
 },
 "nbformat": 4,
 "nbformat_minor": 1
}
