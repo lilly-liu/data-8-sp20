{
 "cells": [
  {
   "cell_type": "code",
   "execution_count": 3,
   "metadata": {
    "deletable": false,
    "editable": false
   },
   "outputs": [
    {
     "name": "stdout",
     "output_type": "stream",
     "text": [
      "=====================================================================\n",
      "Assignment: Project 3: Movie Classification\n",
      "OK, version v1.12.5\n",
      "=====================================================================\n",
      "\n"
     ]
    }
   ],
   "source": [
    "# Initialize OK\n",
    "from client.api.notebook import Notebook\n",
    "ok = Notebook('project3.ok')"
   ]
  },
  {
   "cell_type": "markdown",
   "metadata": {},
   "source": [
    "# Project 3: Movie Classification\n",
    "Welcome to the third project of Data 8!  You will build a classifier that guesses whether a movie is a comedy or a thriller, using only the number of times words appear in the movies's screenplay.  By the end of the project, you should know how to:\n",
    "\n",
    "1. Build a k-nearest-neighbors classifier.\n",
    "2. Test a classifier on data.\n",
    "\n",
    "### Logistics\n",
    "\n",
    "\n",
    "**Deadline.** This project is due at 11:59pm on Friday 5/01. You can earn an early submission bonus point by submitting your completed project by 11:59 on Thursday 4/30. It's **much** better to be early than late, so start working now.\n",
    "\n",
    "**Checkpoint.** For full credit, you must also **complete Part 2 of the project (out of 4) and submit it by 11:59pm on Friday 4/24**.  You will not have lab time to work on these questions, we recommend that you start early on each part to stay on track.\n",
    "\n",
    "**Partners.** You may work with one other partner; this partner **does not** need to be from the same lab. Only one of you is required to submit the project. On [okpy.org](http://okpy.org), the person who submits should also designate their partner so that both of you receive credit.\n",
    "\n",
    "**Rules.** Don't share your code with anybody but your partner. You are welcome to discuss questions with other students, but don't share the answers. The experience of solving the problems in this project will prepare you for exams (and life). If someone asks you for the answer, resist! Instead, you can demonstrate how you would solve a similar problem.\n",
    "\n",
    "**Support.** You are not alone! Come to office hours, post on Piazza, and talk to your classmates. If you want to ask about the details of your solution to a problem, make a private Piazza post and the staff will respond. If you're ever feeling overwhelmed or don't know how to make progress, email your TA or tutor for help. You can find contact information for the staff on the [course website](http://data8.org/sp20/staff.html).\n",
    "\n",
    "**Tests.** Passing the tests for a question **does not** mean that you answered the question correctly. Tests usually only check that your table has the correct column labels. However, more tests will be applied to verify the correctness of your submission in order to assign your final score, so be careful and check your work!\n",
    "\n",
    "**Advice.** Develop your answers incrementally. To perform a complicated table manipulation, break it up into steps, perform each step on a different line, give a new name to each result, and check that each intermediate result is what you expect. You can add any additional names or functions you want to the provided cells. Also, please be sure to not re-assign variables throughout the notebook! For example, if you use max_temperature in your answer to one question, do not reassign it later on.\n",
    "\n",
    "To get started, load `datascience`, `numpy`, `plots`, and `ok`."
   ]
  },
  {
   "cell_type": "code",
   "execution_count": 4,
   "metadata": {},
   "outputs": [
    {
     "name": "stdout",
     "output_type": "stream",
     "text": [
      "=====================================================================\n",
      "Assignment: Project 3: Movie Classification\n",
      "OK, version v1.12.5\n",
      "=====================================================================\n",
      "\n",
      "Successfully logged in as lillyliu@berkeley.edu\n"
     ]
    }
   ],
   "source": [
    "# Run this cell to set up the notebook, but please don't change it.\n",
    "import numpy as np\n",
    "import math\n",
    "from datascience import *\n",
    "\n",
    "# These lines set up the plotting functionality and formatting.\n",
    "import matplotlib\n",
    "matplotlib.use('Agg', warn=False)\n",
    "%matplotlib inline\n",
    "import matplotlib.pyplot as plots\n",
    "plots.style.use('fivethirtyeight')\n",
    "import warnings\n",
    "warnings.simplefilter(action=\"ignore\", category=FutureWarning)\n",
    "\n",
    "# These lines load the tests.\n",
    "from client.api.notebook import Notebook\n",
    "ok = Notebook('project3.ok')\n",
    "_ = ok.auth(inline=True)"
   ]
  },
  {
   "cell_type": "markdown",
   "metadata": {},
   "source": [
    "# 1. The Dataset\n",
    "\n",
    "In this project, we are exploring movie screenplays. We'll be trying to predict each movie's genre from the text of its screenplay. In particular, we have compiled a list of 5,000 words that occur in conversations between movie characters. For each movie, our dataset tells us the frequency with which each of these words occurs in certain conversations in its screenplay. All words have been converted to lowercase.\n",
    "\n",
    "Run the cell below to read the `movies` table. **It may take up to a minute to load.**"
   ]
  },
  {
   "cell_type": "code",
   "execution_count": 5,
   "metadata": {},
   "outputs": [
    {
     "data": {
      "text/html": [
       "<table border=\"1\" class=\"dataframe\">\n",
       "    <thead>\n",
       "        <tr>\n",
       "            <th>Title</th> <th>Year</th> <th>Rating</th> <th>Genre</th> <th># Words</th> <th>breez</th> <th>england</th> <th>it</th> <th>bravo</th>\n",
       "        </tr>\n",
       "    </thead>\n",
       "    <tbody>\n",
       "        <tr>\n",
       "            <td>wild wild west</td> <td>1999</td> <td>4.3   </td> <td>comedy</td> <td>3446   </td> <td>0    </td> <td>0      </td> <td>0.0212635</td> <td>0    </td>\n",
       "        </tr>\n",
       "    </tbody>\n",
       "</table>"
      ],
      "text/plain": [
       "Title          | Year | Rating | Genre  | # Words | breez | england | it        | bravo\n",
       "wild wild west | 1999 | 4.3    | comedy | 3446    | 0     | 0       | 0.0212635 | 0"
      ]
     },
     "execution_count": 5,
     "metadata": {},
     "output_type": "execute_result"
    }
   ],
   "source": [
    "movies = Table.read_table('movies.csv')\n",
    "movies.where(\"Title\", \"wild wild west\").select(0, 1, 2, 3, 4, 14, 49, 1042, 4004)"
   ]
  },
  {
   "cell_type": "markdown",
   "metadata": {},
   "source": [
    "The above cell prints a few columns of the row for the comedy movie *Wild Wild West*.  The movie contains 3446 words. The word \"it\" appears 74 times, as it makes up  $\\frac{74}{3446} \\approx 0.021364$ of the words in the movie. The word \"england\" doesn't appear at all.\n",
    "This numerical representation of a body of text, one that describes only the frequencies of individual words, is called a bag-of-words representation. A lot of information is discarded in this representation: the order of the words, the context of each word, who said what, the cast of characters and actors, etc. However, a bag-of-words representation is often used for machine learning applications as a reasonable starting point, because a great deal of information is also retained and expressed in a convenient and compact format. In this project, we will investigate whether this representation is sufficient to build an accurate genre classifier."
   ]
  },
  {
   "cell_type": "markdown",
   "metadata": {},
   "source": [
    "All movie titles are unique. The `row_for_title` function provides fast access to the one row for each title. \n",
    "\n",
    "*Note: All movies in our dataset have their titles lower-cased.* "
   ]
  },
  {
   "cell_type": "code",
   "execution_count": 6,
   "metadata": {},
   "outputs": [
    {
     "data": {
      "text/plain": [
       "Row(Title='the terminator', Year='1984', Rating=8.1, Genre='thriller', # Words=2210, she=0.0024084778420038703, decid=0.000963391136801548, talk=0.001926782273603096, wit=0.0, razor=0.0, slam=0.0, credit=0.0, rai=0.0, hugh=0.0, breez=0.0, conscienc=0.0, audienc=0.0, cathi=0.0, log=0.0, met=0.0, chosen=0.0, grip=0.0, booz=0.0, bianca=0.0, doubl=0.0, agent=0.0, exit=0.0, carpent=0.0, underground=0.0, clemenza=0.0, gain=0.0, neg=0.0, majesti=0.0, studio=0.0, chri=0.0, spin=0.0, greater=0.0, eaten=0.0, vibrat=0.0, stupid=0.000481695568400774, cigarett=0.000481695568400774, jesu=0.0, mani=0.0, violin=0.0, financi=0.0, bai=0.0, cop=0.000481695568400774, neighbor=0.0, cd=0.0, england=0.0, made=0.000481695568400774, conni=0.0, instinct=0.0, took=0.0, jacquelin=0.0, mace=0.0, disappear=0.000481695568400774, waltz=0.0, behind=0.0, bourbon=0.0, favorit=0.0, benni=0.0, manhattan=0.0, nixon=0.0, lunch=0.0, principl=0.0, tradit=0.0, counterfeit=0.0, sophi=0.0, third=0.0, exist=0.000963391136801548, wouldv=0.0, hero=0.0, theyr=0.000481695568400774, anytim=0.0, christin=0.0, vallei=0.000481695568400774, chess=0.0, paid=0.0, burglar=0.0, nostril=0.0, rubber=0.000481695568400774, human=0.000963391136801548, british=0.0, plissken=0.0, eddi=0.0, gee=0.0, offend=0.0, rebecca=0.0, anger=0.0, plant=0.0, famou=0.0, repres=0.0, latest=0.0, rent=0.0, dip=0.0, bell=0.0, andi=0.0, so=0.0057803468208092856, london=0.0, cooler=0.0, keaton=0.0, portland=0.0, headlin=0.0, whatta=0.0, fatal=0.0, sew=0.0, cheer=0.0, davi=0.0, feed=0.0, hudson=0.0, ambros=0.0, digest=0.0, redi=0.0, fri=0.0, staff=0.0, casino=0.0, occasion=0.0, shadow=0.0, work=0.000963391136801548, restrain=0.0, face=0.000481695568400774, exercis=0.0, sidnei=0.0, pile=0.0, whyd=0.0, teenag=0.0, her=0.003371868978805418, retir=0.0, hazard=0.0, roth=0.0, hurrican=0.0, impuls=0.0, ranger=0.0, pour=0.0, lester=0.0, slash=0.0, deer=0.0, could=0.0014450867052023214, vital=0.0, qualiti=0.0, coma=0.0, incred=0.0, hank=0.0, famili=0.0, duchess=0.0, global=0.0, virgin=0.0, scientif=0.0, between=0.0, holidai=0.0, qualifi=0.0, moor=0.0, happili=0.0, arizona=0.0, non=0.0, bruce=0.0, ankl=0.0, constant=0.0, buzz=0.0, harder=0.0, ing=0.0014450867052023214, christian=0.0, palmer=0.0, tent=0.0, sunset=0.0, damour=0.0, cohaagen=0.0, advertis=0.0, sensat=0.0, local=0.0, there=0.007225433526011609, terri=0.0, sedat=0.0, rotten=0.0, struck=0.0, deck=0.0, past=0.0, bro=0.0, ann=0.0, dump=0.0, kane=0.0, slot=0.0, immun=0.0, block=0.0, lil=0.0, technic=0.0, tactic=0.000481695568400774, pencil=0.0, outsid=0.000963391136801548, laboratori=0.0, easi=0.000481695568400774, nephew=0.0, coffin=0.0, pretti=0.000481695568400774, coward=0.0, verbal=0.0, permiss=0.0, bartend=0.0, wont=0.0014450867052023214, watch=0.0, lindenmey=0.0, cosmo=0.0, capabl=0.0, flirt=0.0, huge=0.0, berkelei=0.0, max=0.0, walter=0.0, lime=0.0, rico=0.0, marvin=0.0, aboard=0.0, bacon=0.0, account=0.0, kirk=0.0, quaid=0.0, stunt=0.0, closet=0.0, due=0.0, nuclear=0.0, blind=0.0, pussi=0.0, howdi=0.0, snuff=0.0, eas=0.0, now=0.002890173410404644, leak=0.0, underwear=0.0, westlei=0.0, mayb=0.0014450867052023214, theo=0.0, limo=0.0, cousin=0.0, illeg=0.0, silli=0.0, against=0.0, done=0.000963391136801548, district=0.0, invad=0.0, ryan=0.0, wait=0.000963391136801548, grudg=0.0, charact=0.0, hick=0.0, jami=0.0, lifetim=0.0, lecktor=0.0, and=0.010115606936416251, republican=0.0, life=0.000963391136801548, hidden=0.0, wire=0.0, paranoia=0.0, network=0.000481695568400774, messi=0.0, uthatu=0.0, effort=0.0, carri=0.0, windham=0.0, fun=0.000481695568400774, psychologist=0.0, sean=0.0, scent=0.0, answer=0.000963391136801548, mom=0.000481695568400774, wake=0.0, sign=0.0, ho=0.0, relat=0.0, jame=0.0, fat=0.000481695568400774, myself=0.0, disrupt=0.0, scan=0.0, vagu=0.0, basket=0.0, christma=0.0, estim=0.0, em=0.0, union=0.0, involv=0.0, norman=0.0, suspici=0.0, becom=0.000481695568400774, shoe=0.0, librari=0.0, administr=0.0, ford=0.0, complic=0.0, stuck=0.0, justic=0.0, attack=0.0, releas=0.000481695568400774, econom=0.0, hesit=0.0, autopsi=0.0, jurisdict=0.0, four=0.000481695568400774, factor=0.0, inquiri=0.0, lion=0.0, meanwhil=0.0, prison=0.0, blair=0.0, seri=0.000963391136801548, groceri=0.0, surgeri=0.000481695568400774, season=0.0, christi=0.0, clean=0.000481695568400774, ow=0.000481695568400774, wrestl=0.0, en=0.0, moral=0.0, hungri=0.0, cole=0.0, surfer=0.0, sixteen=0.0, angl=0.0, shame=0.0, barrel=0.0, major=0.0, ago=0.0, lott=0.0, airplan=0.0, worth=0.000481695568400774, train=0.0, easili=0.0, feller=0.0, valentin=0.0, harvei=0.0, wherev=0.000481695568400774, francisco=0.0, true=0.0, dramat=0.0, boston=0.0, besid=0.0, inspector=0.0, orlean=0.0, opportun=0.0, nearli=0.0, lindsei=0.0, photograph=0.0, frame=0.0, at=0.002890173410404644, psychopath=0.0, press=0.000963391136801548, youyou=0.0, havana=0.0, australia=0.0, plai=0.0, mayfield=0.0, chick=0.0, stewart=0.0, seven=0.000481695568400774, reflect=0.0, outer=0.0, vega=0.0, anywai=0.000481695568400774, prime=0.0, farmer=0.0, backyard=0.0, joe=0.0, otherwis=0.0, cowgirl=0.0, grate=0.0, clerk=0.0, dispos=0.000481695568400774, tow=0.0, mari=0.0, certifi=0.0, thi=0.009152215799614708, wheel=0.0, privaci=0.0, todai=0.0, nathan=0.0, teller=0.0, plot=0.0, correct=0.0, couch=0.0, job=0.000481695568400774, hurt=0.000481695568400774, inject=0.0, chocol=0.0, session=0.0, outrag=0.0, reduc=0.0, knew=0.000963391136801548, jd=0.0, perfum=0.0, fabric=0.0, bodyguard=0.0, think=0.003371868978805418, il=0.0, yesterdai=0.0, side=0.000481695568400774, doesnt=0.000481695568400774, ronni=0.0, blank=0.0, jess=0.0, push=0.0, ahh=0.0, jealou=0.0, alter=0.0, blew=0.0, bu=0.0, off=0.0, sweetheart=0.0, abl=0.0, angelo=0.0, nicer=0.0, coupla=0.0, resum=0.0, coke=0.0, strangl=0.0, gut=0.0, morn=0.0, miracl=0.0, bit=0.000481695568400774, intimid=0.0, pipelin=0.0, sour=0.0, shep=0.0, vivian=0.0, grave=0.0, chemic=0.0, czech=0.0, scholarship=0.0, oldfashion=0.0, accent=0.0, spitz=0.0, dirti=0.0, shot=0.000963391136801548, lit=0.0, cedar=0.0, pirat=0.0, weather=0.0, stun=0.0, learn=0.000963391136801548, wick=0.0, bring=0.000481695568400774, slack=0.0, brave=0.0, shakespear=0.0, monkei=0.0, presum=0.0, vacat=0.0, faint=0.0, strap=0.0, stephen=0.0, maggi=0.0, indic=0.0, sundai=0.0, nois=0.0, organ=0.000963391136801548, terranc=0.0, foundat=0.0, littl=0.0, perman=0.0, insid=0.000481695568400774, stabl=0.000481695568400774, sharp=0.0, uptight=0.0, wholl=0.0, jeffrei=0.0, root=0.0, thy=0.0, josi=0.0, woman=0.0, post=0.0, judg=0.0, ralph=0.0, amaz=0.0, surf=0.0, naughti=0.0, norm=0.0, glove=0.0, cigar=0.0, wendi=0.0, corpor=0.000481695568400774, statement=0.000481695568400774, defin=0.0, drawn=0.0, progress=0.0, year.1=0.0014450867052023214, shovel=0.0, sequenc=0.0, andand=0.0, reel=0.0, held=0.0, youv=0.000963391136801548, trick=0.0, horseman=0.0, whoa=0.0, emploi=0.0, chain=0.0, cmon=0.0, brief=0.0, creativ=0.0, moscow=0.0, challeng=0.0, walli=0.0, golf=0.0, abort=0.000481695568400774, aha=0.000481695568400774, bent=0.0, exclus=0.0, amber=0.0, figur=0.0, healthi=0.0, ransom=0.0, steer=0.0, blow=0.000481695568400774, bark=0.0, imbecil=0.0, mother=0.0014450867052023214, had=0.0043352601156069655, whatev=0.000481695568400774, donit=0.0, goodby=0.0, terrifi=0.0, cash=0.000481695568400774, descript=0.0, spell=0.0, west=0.0, shoulda=0.0, when=0.003371868978805418, wear=0.000481695568400774, crop=0.0, trapper=0.0, donat=0.0, breath=0.000481695568400774, bracelet=0.0, lover=0.0, afraid=0.000481695568400774, vice=0.0, ms=0.000481695568400774, didnt=0.0024084778420038703, kill=0.0014450867052023214, depth=0.0, si=0.0, experiment=0.0, dna=0.0, desmond=0.0, coconut=0.0, dil=0.0, llewelyn=0.0, spoil=0.0, lung=0.0, attent=0.000481695568400774, offens=0.0, babi=0.0, havin=0.0, mustnt=0.0, creepi=0.0, daniel=0.0, abandon=0.0, less=0.000481695568400774, go=0.009152215799614708, negoti=0.0, butcher=0.0, sudden=0.0, templ=0.0, ii=0.0, alex=0.0, deal=0.0, rememb=0.0, polic=0.0, gasolin=0.0, luggag=0.0, smooth=0.0, declar=0.0, chase=0.0, host=0.0, uptown=0.0, heavi=0.0, tenni=0.0, picard=0.0, success=0.0, as=0.001926782273603096, heroin=0.0, hi=0.000963391136801548, seduc=0.0, den=0.0, accur=0.0, parasit=0.0, fiddl=0.0, altern=0.0, chees=0.0, flatter=0.0, lloyd=0.0, collector=0.0, athlet=0.0, useless=0.0, yeh=0.0, lawsuit=0.0, guitar=0.0, apart=0.000481695568400774, strong=0.0, ditch=0.0, doc=0.0, wors=0.0, trigger=0.0, mister=0.0, request=0.0, direct=0.0, telephon=0.0, expir=0.0, blond=0.0, energi=0.0, eh=0.0, damag=0.0, across=0.0, anni=0.0, eleven=0.000481695568400774, episod=0.0, reliant=0.0, jason=0.0, get=0.007225433526011609, duh=0.0, victori=0.0, speci=0.0, includ=0.0, time=0.001926782273603096, imagin=0.000481695568400774, hang=0.0, estat=0.0, full=0.0, sleep=0.0014450867052023214, receiv=0.0, grei=0.000481695568400774, belief=0.0, itali=0.0, separ=0.0, claw=0.0, circuit=0.0, memo=0.0, monei=0.000481695568400774, anna=0.0, term=0.0, drunk=0.0, everydai=0.0, haldeman=0.0, frozen=0.0, castro=0.0, soup=0.0, mornin=0.0, starship=0.0, dawn=0.0, curtain=0.0, pipe=0.0, twist=0.0, downtown=0.0, drive=0.0, tank=0.0, servant=0.0, circumst=0.0, town=0.0, beat=0.0, wooden=0.0, thursdai=0.0, ordinari=0.0, acid=0.0, must=0.002890173410404644, literatur=0.0, carol=0.0, homework=0.0, present=0.0, lunat=0.0, lifestyl=0.0, rat=0.0, satisfi=0.0, funni=0.0, gang=0.0, jewelri=0.0, develop=0.000481695568400774, yell=0.0, stash=0.0, ab=0.0, mm=0.0, thumb=0.0, to=0.02312138728323715, lift=0.0, re=0.0, mud=0.0, taranski=0.0, camel=0.0, cancer=0.0, valiant=0.0, leavin=0.0, sand=0.0, themselv=0.0, stai=0.000481695568400774, junki=0.0, dinner=0.0, subject=0.0, ax=0.0, thankyou=0.0, squad=0.0, charl=0.0, pretend=0.0, mumford=0.0, player=0.0, sorri=0.000481695568400774, feet=0.000481695568400774, dee=0.0, casual=0.0, check=0.0014450867052023214, fugit=0.0, garden=0.0, million=0.0, suppos=0.0014450867052023214, observ=0.0, low=0.000481695568400774, cathol=0.0, parad=0.0, confus=0.0, appli=0.0, uhura=0.0, sane=0.0, beverli=0.0, princip=0.0, helen=0.0, drain=0.0, want=0.003853564547206192, maam=0.0, care=0.0, tomorrow=0.0, abus=0.0, parent=0.0, diner=0.0, proud=0.0, squeez=0.0, allerg=0.0, displai=0.0, rave=0.0, da=0.0, tabl=0.0, kip=0.0, string=0.0, ik=0.0, microwav=0.0, tongu=0.0, miner=0.0, montana=0.0, ident=0.0, gaston=0.0, individu=0.0, treasur=0.0, brown=0.0, delic=0.0, forbidden=0.0, blah=0.0, although=0.0, cold=0.000963391136801548, strategi=0.0, psycholog=0.0, fill=0.0, profession=0.0, rig=0.0, theori=0.0, psychiatr=0.0, raw=0.0, critic=0.0, contribut=0.0, fart=0.0, bitter=0.0, lemm=0.0, isol=0.0, drug=0.0, also=0.0, type=0.0, oblig=0.0, jen=0.0, feder=0.0, note=0.0, perhap=0.0, dwayn=0.0, wolf=0.0, central=0.0, annoi=0.0, cycl=0.0, accid=0.0, puzzl=0.0, invis=0.000481695568400774, ronald=0.0, mercuri=0.0, escap=0.0, damon=0.0, acr=0.0, spy=0.0, gig=0.0, armor=0.0, gotten=0.0, swana=0.0, scene=0.0, marla=0.0, penetr=0.0, shock=0.0, sunk=0.0, iv=0.000481695568400774, diari=0.0, atlant=0.0, absenc=0.0, corps=0.0, relai=0.0, rip=0.000481695568400774, bull=0.0, requir=0.0, buck=0.0, complain=0.0, russia=0.0, arctic=0.0, schedul=0.000481695568400774, casei=0.0, temperatur=0.0, tree=0.0, unbeliev=0.0, graduat=0.0, place=0.000963391136801548, communist=0.0, nine=0.0, vulner=0.0, hike=0.0, raymond=0.0, laura=0.0, manifest=0.0, cellular=0.0, repress=0.0, divid=0.0, lesson=0.0, crate=0.0, coin=0.0, bachelor=0.0, carl=0.0, sport=0.0, simpli=0.0, politician=0.0, destroi=0.0, juno=0.0, castor=0.0, liter=0.0, dwight=0.0, malkovich=0.0, cord=0.0, edmund=0.0, walk=0.000481695568400774, cake=0.0, protect=0.0, nearest=0.0, takin=0.0, comrad=0.0, dai=0.0, tour=0.0, whose=0.0, partial=0.0, vada=0.0, delight=0.0, godfath=0.0, cheat=0.0, harmless=0.0, romant=0.0, pound=0.0, im=0.007707129094412382, violat=0.0, chief=0.0, onlin=0.0, pleasur=0.0, crystal=0.0, luther=0.0, festiv=0.0, along=0.0, admir=0.0, owner=0.0, prove=0.0, giron=0.0, lydia=0.0, dad=0.0, ultim=0.0, hawkin=0.0, hei=0.000481695568400774, father=0.000481695568400774, rot=0.0, doll=0.0, fountain=0.0, williamson=0.0, horror=0.0, ell=0.0, media=0.0, russian=0.0, carefulli=0.000481695568400774, verifi=0.0, prepar=0.000481695568400774, cia=0.0, flew=0.0, logic=0.0, affect=0.0, skirt=0.0, nineteen=0.0, breakdown=0.0, william=0.0, batteri=0.0, shore=0.0, project=0.0, strength=0.000481695568400774, bail=0.0, piti=0.000481695568400774, harbor=0.0, oper=0.0, yanke=0.0, orphan=0.0, squar=0.0, gari=0.0, driven=0.0, nanci=0.000481695568400774, leonard=0.0, nonsens=0.0, anybodi=0.000481695568400774, strict=0.0, riddl=0.0, boulevard=0.0, articl=0.0, shop=0.0, mexico=0.0, ruin=0.000481695568400774, did=0.002890173410404644, annett=0.0, piano=0.0, chest=0.0, becker=0.0, strip=0.0, stroll=0.0, philosophi=0.0, footbal=0.0, whom=0.000481695568400774, flight=0.0, refriger=0.0, loretta=0.0, geniu=0.0, condit=0.0, for=0.009152215799614708, anyon=0.0, ideal=0.000481695568400774, terribl=0.0, otho=0.0, self=0.0, swore=0.0, ring=0.0, baron=0.0, civilian=0.0, panick=0.0, settl=0.0, spread=0.0, turn=0.0, blast=0.0, growth=0.0, seal=0.0, box=0.0, locker=0.0, help=0.003371868978805418, cast=0.0, jennif=0.0, regan=0.0, stole=0.0, yessir=0.0, randi=0.0, left=0.0, explain=0.0, inspect=0.0, tribun=0.0, pop=0.0, bed=0.0, encourag=0.0, bubbl=0.0, contact=0.0, patrick=0.0, domino=0.0, reliev=0.0, superman=0.0, sector=0.0, entranc=0.0, corner=0.0, mama=0.0, supposedli=0.0, yo=0.0, role=0.0, wai=0.000963391136801548, vicki=0.0, buddi=0.000481695568400774, wizard=0.0, heal=0.0, element=0.0, here=0.007225433526011609, leather=0.0, hardli=0.0, their=0.0, sworn=0.0, africa=0.0, yearold=0.0, sphere=0.0, psych=0.0, behalf=0.0, moren=0.0, shelter=0.0, dr=0.000481695568400774, weight=0.0, ami=0.0, pike=0.0, gitt=0.0, kinda=0.000481695568400774, liber=0.0, badg=0.0, last=0.000481695568400774, from=0.003371868978805418, uhhuh=0.0, afford=0.0, shag=0.0, presenc=0.0, jai=0.0, hall=0.0, worst=0.0, agenc=0.0, threat=0.000481695568400774, jaw=0.0, hold=0.000963391136801548, someplac=0.0, birth=0.0, junk=0.0, natali=0.0, graveyard=0.0, march=0.0, focu=0.0, graviti=0.0, smoke=0.0, normal=0.0, congress=0.0, ash=0.0, predict=0.0, copper=0.0, court=0.0, wealth=0.0, it=0.031310211946050305, um=0.0, issu=0.0, misunderstand=0.0, berlin=0.0, structur=0.0, hardwar=0.0, casanova=0.0, worship=0.0, unhappi=0.0, spit=0.0, quadrant=0.0, downstair=0.0, see=0.0043352601156069655, gentlemen=0.0, intern=0.0, conrad=0.0, flame=0.0, within=0.0, drum=0.0, yet=0.0014450867052023214, differ=0.001926782273603096, jacket=0.0, onto=0.0, prospect=0.0, nation=0.0, soft=0.0, girl=0.0014450867052023214, counter=0.0, rug=0.0, neutral=0.0, elli=0.0, transmiss=0.0, integr=0.0, cadillac=0.0, hose=0.0, lillian=0.0, clip=0.0, stanlei=0.0, marriag=0.0, built=0.000481695568400774, paso=0.0, subwai=0.0, whiskei=0.0, kyle=0.003853564547206192, sai=0.0014450867052023214, barzini=0.0, virginia=0.0, lou=0.0, slip=0.000481695568400774, pageant=0.0, tellin=0.0, taylor=0.0, proof=0.0, yank=0.0, yacht=0.0, bless=0.0, brooklyn=0.0, argu=0.0, pistol=0.0, bo=0.0, unnecessari=0.0, share=0.0, th=0.0, sabotag=0.0, china=0.0, hojon=0.0, intim=0.0, chop=0.0, comic=0.0, compuls=0.0, bingo=0.0, make=0.0043352601156069655, vulcan=0.0, parri=0.0, shouldnt=0.000481695568400774, disconnect=0.000481695568400774, toon=0.0, forc=0.0, annabel=0.0, clown=0.0, sentenc=0.0, with=0.0024084778420038703, cartoon=0.0, suspicion=0.0, willi=0.0, brook=0.0, revers=0.0, luci=0.0, visitor=0.0, wave=0.0, stick=0.0, cuban=0.0, sweep=0.0, comment=0.0, elimin=0.0, spencer=0.0, monica=0.0, debat=0.0, coron=0.0, lie=0.0, ourselv=0.000963391136801548, weapon=0.000963391136801548, kate=0.0, distant=0.0, grade=0.0, atf=0.0, balloon=0.0, southern=0.0, chang=0.0, oppos=0.0, indict=0.0, respect=0.0, sure=0.0014450867052023214, jane=0.0, doubt=0.000481695568400774, princ=0.0, admiss=0.0, ador=0.0, jungl=0.0, paint=0.0, south=0.0, event=0.0, taxi=0.0, voic=0.0, video=0.0, convert=0.0, couldnt=0.0, citi=0.000481695568400774, motiv=0.0, rel=0.0, herself=0.0, curios=0.0, buffalo=0.0, terrorist=0.0, write=0.0, school=0.0, wing=0.0, smack=0.0, marti=0.0, counti=0.0, pud=0.0, thatd=0.0, readi=0.0, manrai=0.0, airlin=0.0, romeo=0.0, weekend=0.0, apolog=0.0, ladi=0.0, emili=0.0, maker=0.0, dian=0.0, barf=0.0, quest=0.0, crown=0.0, expect=0.0, gull=0.0, pump=0.0, depress=0.0, interrog=0.0, instant=0.0, barri=0.0, book=0.000481695568400774, ahm=0.0, shutup=0.0, larri=0.0, seriou=0.0, hobbi=0.0, unotu=0.0, kingdom=0.0, on=0.013005780346820898, quarter=0.0, nicki=0.0, pierr=0.0, dream=0.0, clarenc=0.0, buffi=0.0, winner=0.0, scatter=0.0, erik=0.0, bike=0.0, bean=0.0, unabl=0.0, women=0.000963391136801548, maya=0.0, tommi=0.0, seventyf=0.0, curs=0.0, maintain=0.0, genesi=0.0, background=0.0, dude=0.0, satellit=0.0, hour=0.0014450867052023214, extend=0.0, transport=0.0, hull=0.0, top=0.0, grief=0.0, evid=0.0, gradi=0.0, onc=0.000481695568400774, philadelphia=0.0, honesti=0.0, super=0.0, florida=0.0, gentleman=0.0, cannot=0.0, too=0.0014450867052023214, fuss=0.0, hasnt=0.0, lookin=0.0, arrang=0.0, brill=0.0, sale=0.0, month=0.0, intact=0.0, foolish=0.0, newspap=0.0, transit=0.0, roi=0.0, whew=0.0, uwhatu=0.0, main=0.0, bat=0.0, line=0.000481695568400774, snake=0.0, bald=0.0, cage=0.0, toward=0.0, sold=0.0, till=0.0, mood=0.0, warn=0.0, johnni=0.0, mustv=0.0, scream=0.0, undress=0.0, absolut=0.000481695568400774, flaw=0.0, bake=0.0, mmm=0.000481695568400774, jerri=0.0, employe=0.0, quot=0.0, waitin=0.0, benefit=0.0, werent=0.0, fulfil=0.0, plastic=0.0, tribe=0.0, yknow=0.000481695568400774, hope=0.0, layer=0.0, tom=0.0, reaction=0.0, san=0.0, katrina=0.0, identifi=0.0, red=0.0, exorc=0.0, iron=0.0, beer=0.0, santo=0.0, bruis=0.0, stab=0.0, louis=0.0, agreement=0.0, coulda=0.0, film=0.0, rufu=0.0, soil=0.0, playin=0.0, millionair=0.0, middl=0.0, closer=0.0, spirit=0.0, accident=0.0, yer=0.0, traffic=0.0, what=0.00963391136801548, convict=0.0, sack=0.0, examin=0.0, compound=0.0, squid=0.0, gimm=0.0, fault=0.0, mysteri=0.0, sea=0.0, barbara=0.0, surpris=0.0, rm=0.0, hid=0.0, sewer=0.0, kilomet=0.0, lisa=0.0, workshop=0.0, safeti=0.0, touch=0.000963391136801548, jersei=0.0, frequent=0.0, enjoi=0.0, loos=0.0, homeless=0.0, ah=0.0, extens=0.0, termin=0.0014450867052023214, level=0.0, violent=0.0, rush=0.0, coordin=0.0, earli=0.0, wa=0.007225433526011609, dizzi=0.0, privat=0.0, gwen=0.0, suicid=0.0, headquart=0.0, educ=0.0, sort=0.000481695568400774, handsom=0.0, stella=0.0, ac=0.0, audit=0.0, antiqu=0.0, dot=0.0, technolog=0.0, motion=0.0, hairi=0.0, site=0.0, student=0.0, up=0.004816955684007741, either=0.0, pry=0.0, conspiraci=0.0, basi=0.0, timer=0.0, heat=0.0, lawson=0.0, hear=0.000481695568400774, ui=0.0, fool=0.0, mere=0.0, huh=0.000481695568400774, donni=0.0, none=0.000963391136801548, fifth=0.0, becaus=0.0, lamb=0.0, interpret=0.0, increas=0.0, tower=0.0, mickei=0.0, colleagu=0.0, confer=0.0, hollow=0.0, leon=0.0, thou=0.0, fran=0.0, percent=0.0, six=0.000481695568400774, limp=0.0, arrowai=0.0, explod=0.0, friendli=0.0, breakfast=0.0, greek=0.0, need=0.000481695568400774, rome=0.0, beast=0.0, rehab=0.0, ben=0.0, land=0.0, river=0.0, frank=0.0, smash=0.000481695568400774, quicker=0.0, former=0.0, lower=0.0, rap=0.0, nick=0.0, came=0.0, hopeless=0.0, comedian=0.0, right=0.001926782273603096, yall=0.0, truli=0.0, not=0.008188824662813158, soze=0.0, forgotten=0.0, tight=0.000481695568400774, pro=0.0, sona=0.0, under=0.000481695568400774, precis=0.0, center=0.0, stiff=0.0, virtual=0.0, author=0.000481695568400774, dry=0.0, theyll=0.0, golden=0.0, final=0.0, properli=0.0, paper=0.0, older=0.0, serv=0.0, dant=0.0, whistl=0.0, suffer=0.0, confid=0.0, fraud=0.0, brain=0.000481695568400774, minu=0.0, twentyf=0.0, cut=0.0, atmospher=0.0, bid=0.0, curv=0.0, pizza=0.0, bench=0.0, tattoo=0.0, poor=0.0, enid=0.0, pink=0.0, bathroom=0.0, cramp=0.0, hill=0.0, sight=0.0, patrol=0.000481695568400774, niec=0.0, calib=0.000481695568400774, hafta=0.0, journei=0.0, poster=0.0, thruster=0.0, dela=0.0, celebr=0.0, myer=0.0, ruth=0.0, suzi=0.0, bunni=0.0, male=0.0, margi=0.0, bate=0.0, naw=0.0, than=0.000963391136801548, msieu=0.0, lone=0.0, mole=0.0, briefcas=0.0, rudi=0.0, excel=0.0, madman=0.0, nazi=0.0, flop=0.0, invent=0.0, signor=0.0, suggest=0.0, edward=0.0, station=0.0, senat=0.0, amen=0.0, hip=0.0, price=0.0, awai=0.000481695568400774, randal=0.0, high=0.0, field=0.000481695568400774, spiritu=0.0, tone=0.0, citizen=0.0, stair=0.0, equal=0.0, nor=0.0, sixth=0.0, gettin=0.0, ground=0.0, control=0.000963391136801548, awak=0.0, oak=0.0, enterpris=0.0, slightli=0.0, lee=0.0, scope=0.0, holli=0.0, hunch=0.0, ethic=0.0, nasti=0.0, fall=0.0, wednesdai=0.0, gulf=0.0, dont=0.009152215799614708, pictur=0.000481695568400774, awar=0.0, sponsor=0.0, seattl=0.0, english=0.0, introduc=0.0, health=0.0, hallucin=0.0, quickli=0.0, jacob=0.0, crew=0.0, cuervo=0.0, alabama=0.0, teresa=0.0, bain=0.0, precog=0.0, brake=0.0, professor=0.0, somethin=0.0, formal=0.0, unload=0.0, curiou=0.0, daddi=0.0, porch=0.0, model=0.0, vehicl=0.0, wisdom=0.0, find=0.000481695568400774, ruben=0.0, both=0.0, report=0.0, denver=0.0, helicopt=0.0, complex=0.000481695568400774, neednt=0.0, be=0.010115606936416251, greet=0.0, spock=0.0, song=0.0, bibl=0.0, lipstick=0.0, stroke=0.0, persuad=0.0, recommend=0.0, deliveri=0.0, hors=0.0, shut=0.000481695568400774, zone=0.0, bomb=0.0, linda=0.0, tube=0.000481695568400774, gross=0.0, order=0.000963391136801548, dillon=0.0, action=0.0, spot=0.000963391136801548, resign=0.0, barn=0.0, bush=0.0, itu=0.0, cry=0.000481695568400774, decemb=0.0, manufactur=0.0, satisfact=0.0, fairi=0.0, excit=0.0, extraordinari=0.0, thoma=0.0, musician=0.0, black=0.0, mmmmm=0.0, fuel=0.0, board=0.0, joei=0.0, detail=0.0, stewardess=0.0, hunt=0.0, mum=0.0, preacher=0.0, shown=0.0, bread=0.0, mind=0.000481695568400774, saint=0.0, oclock=0.0, sail=0.0, stranger=0.0, smile=0.0, product=0.0, rubi=0.0, disabl=0.0, question=0.0, philip=0.0, exampl=0.0, freddi=0.0, stori=0.0, chariti=0.0, franklin=0.0, routin=0.0, engin=0.0, lax=0.0, blade=0.0, chew=0.0, buljanoff=0.0, counselor=0.0, houston=0.0, alright=0.001926782273603096, support=0.0, wheelchair=0.0, goe=0.000481695568400774, rachel=0.0, stuff=0.000963391136801548, neck=0.0, have=0.002890173410404644, divis=0.000481695568400774, anniversari=0.0, diamond=0.0, sparazza=0.0, try=0.0, appar=0.0, joker=0.0, dentist=0.0, section=0.0, gallagh=0.0, slept=0.0, bank=0.0, hurri=0.0, dure=0.0, sunni=0.0, ink=0.0, vein=0.0, immigr=0.0, concentr=0.0, kat=0.0, eager=0.0, don=0.0, somewher=0.0, religi=0.0, pierc=0.0, bureau=0.0, theyd=0.0, mueller=0.0, familiar=0.0, bonu=0.0, austrian=0.0, violenc=0.0, produc=0.0, tonight=0.0, royal=0.0, breakin=0.0, map=0.0, sayin=0.0, discuss=0.0, hed=0.0, strictli=0.0, led=0.0, mile=0.0, thisll=0.0, dammit=0.0, leav=0.000481695568400774, dummi=0.0, reactor=0.0, sauc=0.0, rice=0.0, coupl=0.0, clever=0.0, choic=0.000481695568400774, chrissak=0.0, director=0.0, kastl=0.0, borg=0.0, fax=0.0, brought=0.0, disturb=0.0, poison=0.0, grissom=0.0, shake=0.000481695568400774, corrupt=0.0, stall=0.0, sarah=0.003371868978805418, starter=0.0, alik=0.0, quiet=0.0, entertain=0.0, demonstr=0.0, oxygen=0.0, asham=0.0, undercov=0.0, beef=0.0, nice=0.0, televis=0.0, oscar=0.0, tourist=0.0, practic=0.0, mount=0.0, swedish=0.0, compani=0.0, twenti=0.0, shall=0.0, sherman=0.0, daryl=0.0, forev=0.0, crowd=0.0, tap=0.0, fix=0.0, store=0.0, grail=0.0, vietnam=0.0, candl=0.0, whoop=0.0, taken=0.000481695568400774, end=0.0, eleph=0.0, prefer=0.0, brian=0.0, lamar=0.0, ma=0.0, victoria=0.0, surviv=0.000481695568400774, three=0.0, bobbi=0.0, stage=0.0, steed=0.0, macfarlan=0.0, spider=0.0, trial=0.0, suprem=0.0, awfulli=0.0, foot=0.0, ar=0.004816955684007741, thrown=0.0, ask=0.000963391136801548, cap=0.0, strang=0.0, phoenix=0.0, boot=0.0, georgia=0.0, replac=0.0, reckon=0.0, divorc=0.0, arrest=0.0, horni=0.0, grandfath=0.0, problem=0.0, bust=0.0, pari=0.0, roommat=0.0, consum=0.0, ag=0.0, been=0.0014450867052023214, spaghetti=0.0, minimum=0.0, car=0.0, recruit=0.0, farm=0.0, dave=0.0, tape=0.0, regular=0.0, decor=0.0, shirt=0.0, multipl=0.0, mechan=0.0, effici=0.0, all=0.001926782273603096, thiev=0.0, pose=0.0, silenc=0.0, lenni=0.0, radiat=0.0, doesn=0.0, worri=0.0, garrison=0.0, bound=0.0, superior=0.0, cure=0.0, belli=0.0, mmmm=0.0, of=0.007707129094412382, bride=0.0, hole=0.0, toler=0.0, content=0.0, applic=0.0, frequenc=0.0, sore=0.0, ranch=0.0, fair=0.0, nowher=0.0, monitor=0.0, peanut=0.0, presid=0.0, cooper=0.0, speech=0.0, canyon=0.0, humili=0.0, primari=0.0, anchor=0.0, everi=0.0, fiance=0.0, temporari=0.0, nyah=0.0, greenleaf=0.0, marvel=0.0, enough=0.000963391136801548, extra=0.0, breast=0.0, properti=0.0, social=0.0, hug=0.0, tempt=0.0, dracula=0.0, richard=0.0, rob=0.0, guinea=0.0, wanna=0.0, hate=0.0014450867052023214, dash=0.0, pull=0.0, lab=0.000481695568400774, disast=0.0, lobbi=0.0, plug=0.0, rear=0.0, conveni=0.0, bounti=0.0, auggi=0.0, thee=0.0, proposit=0.0, jeep=0.0, pee=0.0, josephin=0.0, gestur=0.0, profil=0.0, mimi=0.0, infect=0.0, coincid=0.0, mel=0.0, knock=0.0, search=0.0, pan=0.0, if=0.002890173410404644, odd=0.0, jenni=0.0, howd=0.0, simon=0.0, dodg=0.0, outfit=0.0, floor=0.000481695568400774, uhh=0.0, nah=0.0, jimmi=0.0, chuck=0.001926782273603096, rich=0.0, emot=0.0, destruct=0.0, blue=0.0, game=0.0, peculiar=0.0, internet=0.0, paranoid=0.0, paradis=0.0, deposit=0.0, look=0.003371868978805418, count=0.0, ooz=0.0, gale=0.0, plumb=0.0, shouldv=0.0, giant=0.0, sooz=0.0, gino=0.0, waitress=0.000481695568400774, conceiv=0.000481695568400774, messag=0.0014450867052023214, door=0.000481695568400774, mondai=0.0, mayor=0.0, fanci=0.0, cuba=0.0, most=0.000963391136801548, barrier=0.0, eject=0.0, grew=0.000481695568400774, alic=0.0, jazz=0.0, thread=0.000481695568400774, commun=0.0, treati=0.0, lieuten=0.000481695568400774, tran=0.0, mackelwai=0.0, colonel=0.0, vincent=0.0, pant=0.0, simpl=0.0, shave=0.0, snoop=0.0, flower=0.0, barton=0.0, trailer=0.0, towel=0.0, sheldon=0.0, comput=0.0024084778420038703, medic=0.0, hit=0.0, grow=0.0, ventur=0.0, mistaken=0.0, difficulti=0.0, thirtyf=0.0, pm=0.0, peter=0.0, orang=0.0, kei=0.0, earl=0.0, ex=0.0, vault=0.0, doe=0.0, music=0.0, romanc=0.0, blanket=0.0, colleg=0.0, fog=0.0, bad=0.000481695568400774, novel=0.0, kidnap=0.0, consult=0.0, recogn=0.0, laugh=0.0, shooter=0.0, galaxi=0.0, paulin=0.0, procedur=0.0, seed=0.0, radioact=0.0, ars=0.0, total=0.0, theater=0.0, cute=0.0, iraq=0.0, net=0.0, laplant=0.0, waiter=0.0, print=0.0, milo=0.0, judgment=0.0, act=0.0, gone=0.0014450867052023214, lecter=0.0, draft=0.0, build=0.0024084778420038703, vow=0.0, steam=0.0, veteran=0.0, eighth=0.0, insect=0.0, entir=0.000481695568400774, hon=0.0, okai=0.003853564547206192, fourteen=0.0, meet=0.000963391136801548, tens=0.0, doin=0.0, hat=0.0, sub=0.0, counsel=0.0, channel=0.0, close=0.0, daylight=0.0, loser=0.0, tend=0.0, judgement=0.0, accus=0.0, coast=0.0, everywher=0.0, welli=0.0, yep=0.0, label=0.0, chines=0.0, kim=0.0, rather=0.0, publish=0.0, neat=0.0, askin=0.0, pearl=0.0, bond=0.0, labor=0.0, cover=0.0, forget=0.000963391136801548, warrior=0.0, asid=0.0, favor=0.000481695568400774, sheep=0.0, crook=0.0, imag=0.0, wimp=0.0, coach=0.0, seller=0.0, impact=0.0, shoot=0.0, soda=0.0, mitch=0.0, western=0.0, gift=0.0, shred=0.0, compromis=0.0, fridai=0.000481695568400774, scout=0.0, steve=0.0, solar=0.0, evan=0.0, rule=0.0, dylan=0.0, han=0.0, faith=0.0, umyu=0.0, wise=0.0, tortur=0.0, girlfriend=0.000481695568400774, anywher=0.0, air=0.0, murder=0.0, younger=0.0, handl=0.000481695568400774, albanian=0.0, laser=0.0, dull=0.0, guidanc=0.0, live=0.0024084778420038703, dish=0.0, dancer=0.0, heh=0.0, samuel=0.0, lawn=0.0, defeat=0.0, photon=0.0, mason=0.0, goal=0.0, prescott=0.0, insur=0.0, deep=0.0, lugosi=0.0, singl=0.0, chancellor=0.0, avail=0.0, acknowledg=0.0, dread=0.0, manual=0.0, ll=0.0, stew=0.0, pai=0.000963391136801548, crawford=0.0, janet=0.0, loan=0.0, rib=0.0, peel=0.0, hormon=0.0, about=0.005298651252408513, ohio=0.0, advisor=0.0, crusher=0.0, centuri=0.0, govern=0.000481695568400774, probabl=0.000481695568400774, slow=0.0, homicid=0.0, shift=0.0, sentiment=0.0, sophist=0.0, mock=0.0, supper=0.0, washington=0.0, inn=0.0, polici=0.0, call=0.001926782273603096, surgic=0.0, talent=0.0, futur=0.0024084778420038703, appl=0.0, hiya=0.0, should=0.000481695568400774, hoop=0.0, joseph=0.0, uisu=0.0, unit=0.000481695568400774, radar=0.0, magnific=0.0, rendezv=0.0, anxiou=0.0, featur=0.0, discov=0.0, dental=0.0, legal=0.000481695568400774, shuttl=0.0, word=0.0, tool=0.0, deceas=0.0, consider=0.0, noon=0.000481695568400774, york=0.0, lauri=0.0, fell=0.0, reject=0.0, ton=0.0, lead=0.0, marin=0.0, name=0.002890173410404644, commiss=0.0, windshield=0.0, captain=0.0, winter=0.0, slap=0.0, burst=0.0, mallori=0.0, goodnight=0.0, polish=0.0, letter=0.0, voyag=0.0, sandi=0.0, ta=0.0, commission=0.0, joke=0.0, idea=0.0, deserv=0.0, shove=0.0, rd=0.0, mistak=0.000481695568400774, earthquak=0.0, worm=0.0, abil=0.0, guarante=0.0, outta=0.0, mutual=0.0, prize=0.0, welcom=0.0, seventi=0.0, trunk=0.0, teas=0.0, access=0.0, jacki=0.0, refresh=0.0, affirm=0.0, ill=0.000963391136801548, gregor=0.0, chet=0.0, complet=0.0, mill=0.0, speak=0.0, whatiya=0.0, prei=0.0, fed=0.0, flash=0.0, crab=0.0, wet=0.0, warm=0.0, hoover=0.0, flood=0.0, regard=0.0, hamburg=0.0, anim=0.0, random=0.0, lick=0.0, liabl=0.0, unknown=0.0, histori=0.0, highli=0.0, fred=0.0, peggi=0.0, emerg=0.0, maid=0.0, relax=0.000481695568400774, whaddya=0.0, give=0.000963391136801548, starfleet=0.0, rout=0.0, resourc=0.0, night=0.000481695568400774, statu=0.0, spare=0.0, abov=0.0, save=0.0, fett=0.0, goat=0.0, career=0.0, van=0.0, puke=0.000481695568400774, disagre=0.0, reveng=0.0, femal=0.0, penni=0.0, better=0.0014450867052023214, rex=0.0, marg=0.0, but=0.004816955684007741, border=0.0, phil=0.0, twentyseven=0.0, sixti=0.0, delai=0.0, jewel=0.0, uiu=0.0, leash=0.0, berni=0.0, nickel=0.0, aim=0.0, uyouu=0.0, advic=0.0, gold=0.0, actress=0.0, whisper=0.0, goin=0.0, particularli=0.0, gossip=0.0, runnin=0.0, peni=0.0, minut=0.000481695568400774, scandal=0.0, awkward=0.0, crank=0.0, ev=0.0, owen=0.0, diet=0.0, cargo=0.0, fashion=0.0, tale=0.0, quietli=0.0, son=0.000963391136801548, geek=0.0, devot=0.0, madelein=0.0, luke=0.0, laval=0.0, seventeen=0.0, yourselv=0.0, sleev=0.0, robberi=0.0, debt=0.0, flow=0.0, mark=0.0, subtl=0.0, symbol=0.0, prank=0.0, illus=0.0, restor=0.0, catch=0.000481695568400774, predat=0.0, temper=0.0, globe=0.0, pacif=0.0, ethel=0.0, phaser=0.0, midnight=0.0, lock=0.0, adult=0.0, brandon=0.0, kitchen=0.0, noi=0.0, toni=0.0, mo=0.0, awhil=0.0, actor=0.0, length=0.0, pinch=0.0, throw=0.0, tunnel=0.0, materi=0.0, function=0.0, zip=0.0, visa=0.0, josh=0.0, shed=0.0, crash=0.0, craig=0.0, he=0.0062620423892100615, perri=0.000481695568400774, pathet=0.0, eastern=0.0, demand=0.0, sheet=0.0, data=0.0, fbi=0.0, insist=0.0, regist=0.0, fame=0.0, particular=0.0, upon=0.0, screen=0.0, becki=0.0, ya=0.001926782273603096, attornei=0.0, clai=0.0, mate=0.0, interview=0.0, yard=0.0, duke=0.0, footprint=0.0, user=0.0, influenc=0.0, swallow=0.0, lula=0.0, plate=0.0, queen=0.0, until=0.000481695568400774, rode=0.0, creat=0.0, disappoint=0.000481695568400774, region=0.0, marcia=0.0, defens=0.001926782273603096, sensit=0.0, defend=0.0, miseri=0.0, take=0.000963391136801548, oil=0.0, holi=0.0, polit=0.0, crazi=0.000481695568400774, interrupt=0.0, luca=0.0, franc=0.0, pete=0.0, afternoon=0.0, distress=0.0, finder=0.0, around=0.000481695568400774, europ=0.0, sit=0.0, follow=0.000481695568400774, intellectu=0.0, tee=0.0, planet=0.0, perk=0.0, dame=0.0, wife=0.0, distanc=0.0, breed=0.0, height=0.0, compens=0.0, storm=0.0, appoint=0.0, daphn=0.0, salesman=0.0, scoobi=0.0, distinct=0.0, alon=0.0, remot=0.0, boss=0.000481695568400774, pawn=0.0, wonder=0.0, easier=0.0, lt=0.0, zero=0.0014450867052023214, stake=0.0, food=0.0, forest=0.0, june=0.0, pickup=0.0, sensor=0.0, choke=0.0, situat=0.0, david=0.0, blackmail=0.0, atom=0.0, necessarili=0.0, albert=0.0, advantag=0.0, fli=0.0, horn=0.0, metal=0.000481695568400774, consequ=0.0, sloan=0.0, tragic=0.0, determin=0.0, meter=0.0, toast=0.0, disguis=0.0, loud=0.0, employ=0.0, xxxxxx=0.0, cat=0.000963391136801548, math=0.0, sue=0.0, foul=0.0, like=0.007707129094412382, ferri=0.0, praetor=0.0, marri=0.0, stamp=0.0, lainei=0.0, gai=0.0, potato=0.0, licens=0.000481695568400774, some=0.002890173410404644, sylvia=0.0, tag=0.0, caught=0.000963391136801548, runner=0.0, unpleas=0.0, typic=0.0, dive=0.0, devic=0.0, alien=0.0, deadlin=0.0, landlord=0.0, bridg=0.0, sink=0.0, affair=0.0, record=0.000481695568400774, thinkin=0.0, gate=0.0, austin=0.0, poker=0.0, liquor=0.0, cow=0.0, run=0.000963391136801548, yourself=0.0, tie=0.0, slightest=0.0, businessman=0.0, martini=0.0, dell=0.0, stone=0.0, iti=0.0, dri=0.0, scanner=0.000481695568400774, effect=0.000481695568400774, appreci=0.0, shark=0.0, child=0.000481695568400774, bend=0.0, slice=0.0, hair=0.0, patienc=0.0, ga=0.0, disco=0.0, expert=0.0, implant=0.0, dealer=0.0, oooh=0.0, beavi=0.0, troubl=0.0, lesli=0.0, lectur=0.0, youd=0.000963391136801548, baldwin=0.0, scienc=0.0, surg=0.0, uallu=0.0, ooh=0.0, harvard=0.0, smart=0.0, statist=0.0, sheila=0.0, haul=0.0, livingston=0.0, exhaust=0.0, jail=0.000481695568400774, biggest=0.0, hudsuck=0.0, rocket=0.0, trace=0.000481695568400774, punish=0.0, contain=0.0, twomblei=0.0, intend=0.0, flynn=0.0, describ=0.0, contract=0.0, straighten=0.0, reilli=0.0, regula=0.0, tremend=0.0, love=0.0, setup=0.0, enforc=0.0, castl=0.0, lousi=0.0, bloke=0.0, marietta=0.0, cooki=0.0, someon=0.000963391136801548, design=0.0, address=0.0, knowi=0.0, award=0.0, tick=0.0, unconsci=0.0, weve=0.0, cleveland=0.0, sweeti=0.0, intellect=0.0, beard=0.0, surrend=0.0, vinci=0.0, hildi=0.0, tail=0.0, dignan=0.0, moss=0.0, photo=0.0, myth=0.0, tuesdai=0.0, stress=0.0, limb=0.0, wallet=0.0, tooth=0.0, bare=0.0, ten=0.000481695568400774, guilti=0.0, inform=0.0, list=0.0, husband=0.0, visual=0.0, ross=0.0, jabez=0.0, cape=0.0, atlanta=0.0, champion=0.0, valuabl=0.0, respons=0.0, addit=0.0, spike=0.0, lighten=0.0, wagon=0.0, owl=0.0, dog=0.0014450867052023214, santa=0.0, fantasi=0.0, belt=0.0, unowu=0.0, enorm=0.0, kind=0.0, light=0.000963391136801548, investig=0.0, lila=0.0, laundri=0.0, jessica=0.0, jodi=0.0, masturb=0.0, porter=0.0, la=0.0, couldn=0.0, canada=0.0, dress=0.0, port=0.0, alwai=0.0, explor=0.0, bateman=0.0, governor=0.0, sat=0.0, fought=0.0, perimet=0.0, wasnt=0.000481695568400774, testimoni=0.0, conklin=0.0, cart=0.0, caus=0.0, number=0.0, crane=0.0, loyalti=0.0, fake=0.0, puff=0.0, accompani=0.0, cultur=0.0, fenc=0.0, outa=0.0, cal=0.0, whenev=0.0, roach=0.0, transmitt=0.0, fingerprint=0.0, mail=0.0, kaufman=0.0, pole=0.0, engag=0.0, plain=0.0, suppli=0.0, reserv=0.0, few=0.000481695568400774, sandwich=0.0, fredo=0.0, safe=0.000963391136801548, hockei=0.0, hous=0.0, elain=0.0, knox=0.0, oath=0.0, wander=0.0, latin=0.0, same=0.0024084778420038703, git=0.0, garbag=0.0, charg=0.0, knowledg=0.0, uknowu=0.0, veronica=0.0, john=0.001926782273603096, connel=0.0, anticip=0.0, drown=0.0, rose=0.0, carpet=0.0, circu=0.0, sebastian=0.0, cmere=0.0, irish=0.0, robert=0.0, fork=0.0, lazi=0.0, flare=0.0, bobo=0.0, guess=0.000481695568400774, hippi=0.0, the=0.04046242774566501, specif=0.0, offici=0.000963391136801548, god=0.0, exhibit=0.0, madam=0.0, privileg=0.0, scrambl=0.0, con=0.0, handi=0.0, rifl=0.0, peep=0.0, moron=0.0, resent=0.0, lai=0.000481695568400774, scotch=0.0, brenner=0.0, lake=0.0, therel=0.0, gordo=0.0, everett=0.0, neural=0.0, madison=0.0, realiz=0.0, georg=0.0, skate=0.0, drink=0.000481695568400774, goddam=0.0, anyhow=0.0, jew=0.0, popul=0.0, freedom=0.0, togeth=0.0, attempt=0.0, adel=0.0, coat=0.0, mob=0.0, higher=0.0, cowboi=0.0, heel=0.0, inconveni=0.0, respond=0.0, patch=0.0, mostli=0.0, fan=0.0, highwai=0.0, reason=0.000481695568400774, soon=0.000963391136801548, helpless=0.0, then=0.003371868978805418, cobb=0.0, weird=0.000963391136801548, parker=0.0, seen=0.000963391136801548, happier=0.0, roast=0.0, tip=0.000481695568400774, legend=0.000963391136801548, behavior=0.0, secur=0.0, tatum=0.0, especi=0.000481695568400774, jeez=0.0, your=0.00963391136801548, dispatch=0.0, heart=0.000481695568400774, test=0.0, webster=0.0, categori=0.0, chicken=0.0, alibi=0.0, wouldn=0.0, hyster=0.0, mankind=0.0, north=0.0, kiss=0.0, mighti=0.0, levi=0.0, fond=0.0, rain=0.0, obsess=0.0, michael=0.0, corleon=0.0, vision=0.0, edg=0.0, command=0.0, nineti=0.0, gin=0.0, nix=0.0, amus=0.0, afterward=0.0, wanta=0.0, thorwald=0.0, by=0.002890173410404644, rag=0.0, jack=0.0, desert=0.0, maureen=0.0, own=0.000963391136801548, heck=0.0, walker=0.0, empti=0.0, grunemann=0.0, relief=0.0, narrow=0.0, saavik=0.0, seymour=0.0, anonym=0.0, footag=0.0, territori=0.0, maniac=0.0, envelop=0.0, despis=0.0, definit=0.0, return=0.0, nobodi=0.0024084778420038703, eventu=0.0, rita=0.0, pepper=0.0, prep=0.0, stand=0.0, deepli=0.0, park=0.0, aunt=0.0, youth=0.0, water=0.0, els=0.001926782273603096, starl=0.0, allei=0.0, snow=0.0, pope=0.0, wax=0.0, object=0.000481695568400774, basic=0.000481695568400774, file=0.0, dismiss=0.0, much=0.001926782273603096, sometim=0.000481695568400774, warrant=0.0, drama=0.0, android=0.0, wast=0.0, brick=0.0, restless=0.0, unusu=0.0, orbit=0.0, headach=0.0, ambul=0.0, pier=0.0, talkin=0.0, instal=0.0, toss=0.0, pure=0.0, maxin=0.0, canadian=0.0, amount=0.0, shatter=0.0, spoke=0.0, danc=0.0, ir=0.0, proven=0.0, broke=0.0, ninotchka=0.0, lili=0.0, dat=0.0, scum=0.0, psychic=0.0, guest=0.0, architect=0.0, vancouv=0.0, balconi=0.0, my=0.003853564547206192, resist=0.0, juic=0.0, reliabl=0.0, will=0.003853564547206192, launch=0.0, tire=0.0, villag=0.0, ordel=0.0, broad=0.0, juri=0.0, mccoi=0.0, italian=0.0, item=0.0, process=0.0, sake=0.0, diseas=0.0, kelli=0.0, contest=0.0, champagn=0.0, cabinet=0.0, plead=0.0, era=0.0, sergeant=0.0, nervou=0.0, imposs=0.0, cruel=0.0, claud=0.0, movi=0.000481695568400774, cruis=0.0, daughter=0.0, premier=0.0, law=0.0, intent=0.0, liz=0.0, nake=0.000481695568400774, petti=0.0, mirror=0.0, ha=0.001926782273603096, each=0.0, never=0.0024084778420038703, do=0.005298651252408513, exact=0.0, rescu=0.0, drivin=0.0, limit=0.0, ti=0.0, manag=0.000481695568400774, thirsti=0.0, bargain=0.000481695568400774, origin=0.0, acceler=0.0, pilot=0.0, guid=0.0, mummi=0.0, mad=0.0, frighten=0.0, factori=0.000481695568400774, cotton=0.0, rape=0.0, chef=0.0, leg=0.0, calm=0.0, fail=0.0, interior=0.0, germ=0.0, inch=0.0, donald=0.0, smear=0.0, berserk=0.0, finest=0.0, hard=0.000481695568400774, bourn=0.0, brilliant=0.0, solv=0.0, fireman=0.0, electr=0.0, moment=0.0, wound=0.0, begun=0.0, while=0.000481695568400774, militari=0.000481695568400774, scoop=0.0, saw=0.000481695568400774, machin=0.0014450867052023214, german=0.0, enemi=0.000963391136801548, creatur=0.0, throat=0.0, stuf=0.0, impli=0.0, burnt=0.0, mall=0.0, navi=0.0, rude=0.0, lean=0.0, bullet=0.0, sissi=0.0, dough=0.0, reynold=0.0, promot=0.0, burn=0.0, rise=0.0, guard=0.0, deton=0.0, gloriou=0.0, confidenti=0.0, lost=0.000963391136801548, desk=0.0, thin=0.0, superhero=0.0, wive=0.0, pooch=0.0, col=0.0, gambl=0.0, crimin=0.0, can=0.0057803468208092856, tiger=0.0, pair=0.0, below=0.0, him=0.004816955684007741, un=0.0, mortgag=0.0, toto=0.0, dine=0.0, gun=0.0, thirti=0.000963391136801548, warp=0.0, sid=0.0, standard=0.0, deliv=0.0, couldv=0.0, sandra=0.0, wide=0.0, daydai=0.0, nail=0.0, novemb=0.0, speck=0.0, broken=0.0, fulli=0.0, di=0.000481695568400774, concept=0.0, plenti=0.0, sara=0.0, toilet=0.0, smyth=0.0, dirt=0.0, skull=0.0, match=0.0, win=0.000481695568400774, abduct=0.0, chamber=0.0, putter=0.0, advanc=0.0, baxter=0.0, group=0.0, onli=0.0, commerci=0.0, uniqu=0.0, bet=0.000481695568400774, back=0.0014450867052023214, aisl=0.0, darlin=0.0, creation=0.0, target=0.0, sip=0.0, sam=0.0, worker=0.0, five=0.0, ladder=0.0, capit=0.0, smaller=0.0, merri=0.0, won=0.000481695568400774, howard=0.0, eleg=0.0, bee=0.0, digit=0.0, lowel=0.0, outstand=0.0, meant=0.000963391136801548, precaut=0.0, degre=0.0, suspend=0.0, week=0.000481695568400774, evacu=0.0, wow=0.0, loui=0.0, iii=0.0, per=0.0, tenth=0.0, open=0.0, possibl=0.000963391136801548, old=0.0, primit=0.0, keyser=0.0, fianc=0.0, point=0.000481695568400774, bone=0.0, alreadi=0.0014450867052023214, straight=0.0, henri=0.0, hack=0.0, rank=0.0, scott=0.0, fold=0.0, nothin=0.0, kendal=0.0, bar=0.0, ant=0.0, meredith=0.0, musta=0.0, dollar=0.0, retard=0.0, volum=0.0, ocean=0.0, acquaint=0.0, jon=0.0, dozen=0.0, treat=0.000481695568400774, fund=0.0, crush=0.0, accomplish=0.0, cabl=0.0, stock=0.0, pig=0.0, recent=0.0, ed=0.0, escort=0.0, east=0.0, vodka=0.0, natur=0.0, fella=0.0, missil=0.0, ancient=0.0, how=0.0014450867052023214, rumor=0.0, torn=0.0, palei=0.0, well=0.0014450867052023214, fear=0.000481695568400774, detroit=0.0, civil=0.0, current=0.0, advis=0.0, elect=0.0, pill=0.0, artist=0.0, bastaldi=0.0, market=0.0, symptom=0.0, therapi=0.0, toi=0.0, scumbag=0.0, satan=0.0, ouch=0.0, jeff=0.0, cemeteri=0.0, sorta=0.0, deni=0.0, sister=0.0, givin=0.0, boi=0.0, closest=0.0, mission=0.000963391136801548, stabil=0.0, identif=0.0, set=0.001926782273603096, rebel=0.0, salli=0.0, joint=0.0, zoo=0.0, version=0.000481695568400774, camper=0.0, directli=0.0, kid=0.001926782273603096, jim=0.0, viru=0.0, desir=0.0, tide=0.0, cell=0.0, mulwrai=0.0, sod=0.0, domini=0.0, dealt=0.0, pane=0.0, trade=0.0, spose=0.0, eleanor=0.0, someth=0.0014450867052023214, milk=0.0, honestli=0.0, sap=0.0, graham=0.0, tune=0.0, secretari=0.0, chao=0.0, backup=0.0, freez=0.000481695568400774, obvious=0.0, believ=0.0, delmar=0.0, sting=0.0, happiest=0.0, broadcast=0.0, haunt=0.0, haven=0.0, kong=0.0, gonna=0.0024084778420038703, without=0.000481695568400774, lip=0.0, spill=0.0, psychiatrist=0.0, suddenli=0.0, realli=0.000481695568400774, byeby=0.0, coffe=0.0, opinion=0.0, borrow=0.0, lechter=0.0, cuff=0.0, overload=0.0, attract=0.0, rid=0.0, bertrand=0.0, mordechai=0.0, amanda=0.0, nicknam=0.0, gather=0.0, mr=0.000481695568400774, miss=0.0, fascin=0.0, hound=0.0, lid=0.0, joi=0.0, weak=0.0, though=0.0, alfr=0.0, comfort=0.0, ich=0.0, gallon=0.0, narcot=0.0, evelyn=0.0, duck=0.0, bucket=0.0, cabin=0.0, settlement=0.0, send=0.000963391136801548, milli=0.0, israel=0.0, alcohol=0.0, suspect=0.000481695568400774, robinson=0.0, doug=0.0, alan=0.0, sleepi=0.0, adventur=0.0, ridicul=0.0, crabtre=0.0, lawyer=0.0, reward=0.0, cloth=0.0, riot=0.0, seek=0.0, other=0.000963391136801548, pet=0.0, everyth=0.0024084778420038703, found=0.000963391136801548, basketbal=0.0, liar=0.0, wouldnt=0.0, fit=0.0, stop=0.000963391136801548, cleaner=0.0, paul=0.0, execut=0.0, alpha=0.0, movement=0.0, cheek=0.0, recov=0.0, phillip=0.0, seem=0.0, leo=0.0, rand=0.0, bright=0.0, moon=0.0, fallen=0.0, prayer=0.0, betti=0.0, fantast=0.0, theyv=0.000481695568400774, drove=0.0, turkei=0.0, modern=0.0, edi=0.0, jonah=0.0, exagger=0.0, mine=0.0, envi=0.0, big=0.000481695568400774, krueger=0.0, faster=0.0, alli=0.0, fine=0.0, iraqi=0.0, appear=0.0, independ=0.0, poni=0.0, invest=0.0, hooker=0.0, dictat=0.0, medicin=0.0, honei=0.0, shine=0.0, comedi=0.0, unou=0.0, who=0.002890173410404644, late=0.0014450867052023214, boost=0.0, gentli=0.000481695568400774, sun=0.0, dunno=0.0, improv=0.0, chairman=0.0, honest=0.0, shout=0.0, invas=0.0, hadnt=0.0, fox=0.0, powder=0.0, quick=0.0, breaker=0.0, breach=0.0, dope=0.0, frustrat=0.0, cent=0.0, long=0.0, interest=0.0, freak=0.0, marsh=0.0, maria=0.0, shhhh=0.0, cloak=0.0, solid=0.0, id.1=0.000481695568400774, nobl=0.0, swing=0.0, evalu=0.0, member=0.0, skunk=0.0, zira=0.0, conduct=0.0, buyer=0.0, instanc=0.0, financ=0.0, protest=0.0, karl=0.0, dent=0.0, jake=0.0, goofi=0.0, au=0.0, plu=0.0, ahead=0.000481695568400774, possess=0.0, prototyp=0.0, whatd=0.0, road=0.0, fifti=0.0, down=0.000963391136801548, viciou=0.0, destin=0.0, ride=0.0, hmm=0.0, democrat=0.0, daili=0.0, remov=0.0, catherin=0.0, unlock=0.0, hot=0.0014450867052023214, yuh=0.0, lewi=0.0, concern=0.0, mouth=0.0, didn=0.0, merci=0.000481695568400774, lotta=0.0, sacrific=0.0, chekov=0.0, rock=0.0, instead=0.0, egon=0.0, sank=0.0, probe=0.0, pit=0.0, rest=0.000481695568400774, confront=0.0, magic=0.0, mean=0.000481695568400774, similar=0.0, itd=0.0, flesh=0.000481695568400774, bunch=0.0, donut=0.0, soldier=0.000481695568400774, dork=0.0, short=0.000481695568400774, innoc=0.0, fight=0.000481695568400774, grai=0.0, bout=0.0, befor=0.001926782273603096, encount=0.0, lombardo=0.0, arriv=0.0, date=0.0, worn=0.0, frankenstein=0.0, budget=0.0, gag=0.0, part=0.0, forgot=0.0, blake=0.0, himself=0.0, facil=0.0, thousand=0.0, frankli=0.0, whatcha=0.0, struggl=0.0, lad=0.0, a=0.022639691714836367, resid=0.0, salad=0.0, told=0.000481695568400774, brother=0.0, rmph=0.0, which=0.0, philosoph=0.0, clear=0.0, cracker=0.0, zavitz=0.0, tell=0.002890173410404644, conclus=0.0, collin=0.0, shhh=0.0, tickl=0.0, delus=0.0, ship=0.0, band=0.0, naiv=0.0, sever=0.0, wreck=0.0, torch=0.0, gym=0.0, bang=0.0, man=0.000481695568400774, aid=0.0, purchas=0.0, review=0.0, lantern=0.0, new=0.0024084778420038703, nunez=0.0, wish=0.0, nest=0.0, fortun=0.0, bud=0.0, excus=0.0, rattl=0.0, knight=0.0, broadwai=0.0, destini=0.0, smell=0.0, rick=0.0, mommi=0.0, klingon=0.0, staci=0.0, calcul=0.0, signific=0.0, arrog=0.0, mac=0.0, offic=0.000481695568400774, pitch=0.0, detect=0.0, hood=0.0, relationship=0.0, sunshin=0.0, arlyn=0.0, gentl=0.0, heard=0.000481695568400774, babe=0.0, beg=0.000481695568400774, princess=0.0, memphi=0.0, addict=0.0, incid=0.0, reput=0.0, forth=0.0, club=0.0, theme=0.0, anthoni=0.0, corn=0.0, suitcas=0.0, went=0.0, worthi=0.0, jessi=0.0, announc=0.0, panic=0.0, pleasant=0.0, bath=0.0, pauli=0.0, sampl=0.0, policeman=0.0, co=0.0, sonni=0.0, gave=0.000481695568400774, weigh=0.0, attic=0.0, incident=0.0, quarantin=0.0, got=0.0043352601156069655, napkin=0.0, chair=0.0, grandmoth=0.0, theft=0.0, disord=0.0, blame=0.0, stronger=0.000481695568400774, perform=0.0, absurd=0.0, mitchel=0.0, cab=0.0, mutant=0.0, corbett=0.0, travi=0.0, erica=0.0, pressur=0.0, larg=0.000481695568400774, toddi=0.0, gum=0.0, trap=0.0, twelv=0.0, treatment=0.0, xrai=0.0, callin=0.0, rope=0.0, japan=0.0, pot=0.0, method=0.0, enter=0.0, confess=0.0, killer=0.0014450867052023214, constantli=0.0, scar=0.0, concert=0.0, thirteen=0.0, debbi=0.0, knot=0.0, pension=0.0, bob=0.000481695568400774, home=0.000963391136801548, walt=0.0, troi=0.0, argument=0.0, desper=0.0, jeremi=0.0, epp=0.0, havent=0.000963391136801548, ugh=0.0, dewei=0.0, dumb=0.0, deputi=0.0, phone=0.000481695568400774, worf=0.0, spook=0.0, avenu=0.0, hm=0.0, keep=0.0014450867052023214, happen=0.0, plane=0.0, cartel=0.0, brush=0.0, betrai=0.0, geez=0.0, spark=0.0, tryin=0.0, injur=0.0, lauren=0.0, jam=0.0, jill=0.0, mikei=0.0, cocain=0.0, drop=0.0, harri=0.0, paus=0.0, space=0.0, sound=0.0, julia=0.0, warehous=0.0, remark=0.0, rum=0.0, snap=0.0, meantim=0.0, candi=0.0, proper=0.0, realist=0.0, arthur=0.0, sh=0.0, survivor=0.000481695568400774, teeth=0.0, de=0.0, sens=0.0, maneuv=0.0, poetri=0.0, overnight=0.0, bow=0.0, dalla=0.0, discharg=0.0, bill=0.0, fly=0.0, realiti=0.0, compar=0.000481695568400774, upstair=0.0, pritchett=0.0, terrif=0.0, anoth=0.000963391136801548, kiddin=0.0, unfair=0.0, brace=0.0, chimera=0.0, feather=0.0, regul=0.0, hump=0.0, thank=0.0014450867052023214, matur=0.0, valu=0.0, even=0.0024084778420038703, shoulder=0.0, booth=0.0, ribbon=0.0, ceas=0.0, base=0.0, dan=0.0, smokei=0.0, coup=0.0, thick=0.0, bui=0.000481695568400774, stud=0.0, scenario=0.0, laid=0.0, mexican=0.0, prior=0.0, bra=0.0, leader=0.0, charli=0.0, fairli=0.0, nurs=0.0, ahhh=0.0, texa=0.0, lui=0.0, except=0.000481695568400774, august=0.0, sittin=0.0, bait=0.0, power=0.000481695568400774, kansa=0.0, scotti=0.0, swipe=0.0, videotap=0.0, opposit=0.0, expand=0.0, neighborhood=0.0, out=0.006743737957610836, melt=0.0, difficult=0.0, crow=0.0, occup=0.0, swine=0.0, expens=0.0, brad=0.0, balanc=0.000481695568400774, tension=0.0, smarter=0.0, team=0.0, salari=0.0, expos=0.0, incom=0.0, special=0.000481695568400774, thea=0.0, needl=0.0, aggress=0.0, necessari=0.0, burk=0.0, uniform=0.0, crawl=0.0, hundr=0.0, radio=0.0, into=0.000481695568400774, singer=0.0, explan=0.0, sollozzo=0.0, beauti=0.0, whole=0.000963391136801548, attach=0.0, bleed=0.0, card=0.0, longer=0.0, good=0.0024084778420038703, draw=0.0, rate=0.0, enlighten=0.0, startin=0.0, demon=0.0, street=0.0, thatll=0.0, convers=0.0, nerv=0.0, telegram=0.0, therer=0.000481695568400774, stan=0.0, momma=0.0, nightmar=0.0, combat=0.000481695568400774, brand=0.0, greatest=0.0, color=0.0, sourc=0.0, swap=0.0, preciou=0.0, greas=0.0, manipul=0.0, blood=0.0, batman=0.0, hitler=0.0, visit=0.0, india=0.0, poke=0.0, baltimor=0.0, tear=0.0, fate=0.000963391136801548, cours=0.000481695568400774, stu=0.0, vampir=0.0, vessel=0.0, creep=0.0, margaret=0.0, bigger=0.0, error=0.0, repair=0.0, grab=0.0, nope=0.0, period=0.0, construct=0.0, email=0.0, shinzon=0.0, activ=0.0, bradi=0.0, sprai=0.0, steel=0.0, shack=0.0, til=0.000963391136801548, woodi=0.0, roman=0.0, risk=0.0, peach=0.0, instruct=0.0, plagu=0.0, provid=0.0, grandma=0.0, tough=0.000481695568400774, schmuck=0.0, souvenir=0.0, stain=0.0, wine=0.0, carla=0.0, mckenna=0.0, rexroth=0.0, spend=0.0, i=0.03660886319845883, susi=0.0, brodi=0.0, far=0.0, sweater=0.0, appeal=0.0, vibe=0.0, poet=0.0, oz=0.0, finch=0.0, busi=0.000481695568400774, perfect=0.0, boyfriend=0.0, lemon=0.0, hand=0.0, charm=0.0, sustain=0.0, retain=0.0, continu=0.0, hammer=0.0, ripper=0.0, personnel=0.0, beaten=0.0, remind=0.0, joan=0.0, witch=0.0, second=0.0014450867052023214, impress=0.0, hint=0.0, avoid=0.0, billi=0.0, wipe=0.000481695568400774, calvin=0.0, shrink=0.0, darn=0.0, is=0.007707129094412382, show=0.000481695568400774, first=0.0014450867052023214, intellig=0.0, kit=0.0, collar=0.0, bundi=0.0, feel=0.001926782273603096, martha=0.0, fortyeight=0.0, franki=0.0, rehears=0.0, reunion=0.0, previou=0.0, fire=0.000481695568400774, specimen=0.0, exactli=0.0, gotta=0.000963391136801548, claric=0.0, you=0.039017341040462686, psychot=0.0, liberti=0.0, ever=0.000963391136801548, indian=0.0, karen=0.0, ear=0.0, uncl=0.0, mar=0.0, surround=0.000481695568400774, wood=0.0, airport=0.0, jean=0.0, prescript=0.0, occupi=0.0, slave=0.0, yup=0.0, cri=0.0, threw=0.0, extort=0.0, cheap=0.0, melvin=0.0, strain=0.0, solut=0.0, skye=0.0, packag=0.0, young=0.000481695568400774, agre=0.0, purs=0.0, puppet=0.0, clearli=0.0, ellen=0.0, serious=0.0, applejack=0.0, threaten=0.0, swear=0.0, journalist=0.0, beth=0.0, feelin=0.0, danni=0.0, hmmm=0.0, stomach=0.0, certif=0.0, them=0.0024084778420038703, wigand=0.0, electron=0.0, surfac=0.0, op=0.0, edit=0.0, backward=0.0, buckaroo=0.0, fare=0.0, mhm=0.0, cynic=0.0, fee=0.0, blown=0.0, workin=0.0, eric=0.0, gear=0.0, chill=0.0, public=0.000481695568400774, elizabeth=0.0, dy=0.000481695568400774, great=0.000963391136801548, load=0.0, melani=0.0, unless=0.0, mora=0.0, nativ=0.0, gene=0.0, wind=0.000481695568400774, code=0.0, bribe=0.0, dieter=0.0, boil=0.0, deliber=0.0, ritual=0.0, dolor=0.0, pride=0.0, molli=0.0, felt=0.0, oswald=0.0, drank=0.0, el=0.000481695568400774, soap=0.0, suck=0.0, psycho=0.0, prom=0.0, dig=0.0, sword=0.0, exchang=0.0, duti=0.0, parti=0.0, juliet=0.0, seventh=0.0, given=0.0, hawk=0.0, fry=0.0, thei=0.0043352601156069655, vinc=0.0, notion=0.0, consid=0.0, upset=0.0, ve=0.0, yeah=0.000481695568400774, compet=0.0, ticket=0.0, doom=0.0, ski=0.0, courthous=0.0, alert=0.0, tan=0.0, nam=0.0, posit=0.0, urgent=0.0, tast=0.0, makeup=0.0, parol=0.0, schwartz=0.0, doctor=0.000963391136801548, aw=0.0, christ=0.0, scari=0.0, walkin=0.0, wrist=0.0, cattl=0.0, truck=0.0, eighteen=0.0, ethan=0.0, idiot=0.0, hotel=0.0, hook=0.000963391136801548, notic=0.0, heali=0.0, benjamin=0.0, octob=0.0, ought=0.0, isnt=0.000481695568400774, drew=0.0, whether=0.0, seat=0.0, matter=0.0, er=0.0, int=0.0, arent=0.000481695568400774, aubrei=0.0, lookout=0.0, gabe=0.0, cliff=0.0, hail=0.0, horribl=0.0, heaven=0.0, hospit=0.0, whatsoev=0.0, supernatur=0.0, lot=0.000481695568400774, establish=0.0, select=0.0, motor=0.0, brenda=0.0, guilt=0.0, glori=0.0, move=0.000963391136801548, rage=0.0, decent=0.0, religion=0.0, pillow=0.0, sincer=0.0, steven=0.0, winston=0.0, arm=0.0, system=0.000481695568400774, score=0.0, isn=0.0, wallac=0.0, lane=0.0, burger=0.0, bowl=0.0, umeu=0.0, journal=0.0, lonnegan=0.0, teddi=0.0, pd=0.0, trooper=0.0, puppi=0.0, prosecut=0.0, badli=0.0, thought=0.000481695568400774, troop=0.0, forti=0.000963391136801548, highest=0.0, dust=0.0, begin=0.000481695568400774, lapd=0.0, priest=0.0, turk=0.0, hawaii=0.0, amateur=0.0, honor=0.000963391136801548, ap=0.0, lodg=0.0, lombard=0.0, academi=0.0, gibson=0.0, injuri=0.0, wha=0.0, therefor=0.0, victor=0.0, profess=0.0, strike=0.0, deed=0.0, grand=0.0, penthous=0.0, yellow=0.0, insult=0.0, genuin=0.0, ward=0.0, mi=0.0, stolen=0.0, banana=0.0, speed=0.0, piec=0.0, born=0.000963391136801548, oughta=0.0, hacker=0.0, stream=0.0, smith=0.0, choir=0.0, variou=0.0, weed=0.0, boundari=0.0, panti=0.0, accord=0.0, best=0.0, condom=0.0, whatll=0.0, carlo=0.0, promis=0.0, barrett=0.0, pentagon=0.0, sooner=0.0, nexu=0.0, bloodi=0.0, said=0.0014450867052023214, mississippi=0.0, legitim=0.0, syndrom=0.0, repli=0.0, purpl=0.0, break=0.0, wash=0.0, motel=0.0, wrap=0.0, fifteen=0.0, sell=0.0, bravo=0.0, world=0.000481695568400774, beaumont=0.0, switch=0.0, adrian=0.0, after=0.000963391136801548, vanish=0.0, window=0.0, interfer=0.0, countri=0.000481695568400774, wretch=0.0, sugar=0.0, captur=0.000481695568400774, wed=0.0014450867052023214, adrenalin=0.0, dorothi=0.0, jude=0.0, gorgeou=0.0, corneliu=0.0, flip=0.0, beyond=0.0, mix=0.0, bandit=0.0, rabbit=0.0, rare=0.0, cecil=0.0, belong=0.0, collaps=0.0, resort=0.0, cuz=0.0, trevor=0.0, lovebird=0.0, express=0.0, dutch=0.0, scare=0.0, kept=0.0, stephani=0.0, signatur=0.0, warren=0.0, battl=0.0, insight=0.0, next=0.000481695568400774, lamp=0.0, trail=0.0, kent=0.0, forg=0.0, ran=0.0, proce=0.0, shade=0.0, asylum=0.0, kubelik=0.0, vallen=0.0, in=0.011560693641618576, everyon=0.0, kidnei=0.0, hostil=0.0, pie=0.0, written=0.0, bye=0.0, refer=0.0, explos=0.0, tucker=0.0, swayzak=0.0, lord=0.0, room=0.0, split=0.0, udou=0.0, whack=0.0, lo=0.0, drawer=0.0, wild=0.0, hire=0.0, among=0.0, disgust=0.0, pocket=0.0, margo=0.0, ignor=0.0, goodlook=0.0, claim=0.0, approach=0.0, fruit=0.0, raid=0.0, phrase=0.0, luck=0.0, kevin=0.0, autograph=0.0, core=0.0, download=0.0, evil=0.0, strand=0.0, woulda=0.0, branch=0.0, ghost=0.0, pack=0.0, robber=0.0, dime=0.0, angri=0.0, ju=0.0, uyouru=0.0, drill=0.0, preserv=0.0, serial=0.0, option=0.0, oldest=0.0, pattern=0.000481695568400774, herb=0.0, row=0.0, ball=0.0, equip=0.000481695568400774, drift=0.0, mike=0.0, tyler=0.0, choos=0.0, nag=0.0, bookstor=0.0, happi=0.0, haircut=0.0, candid=0.0, tim=0.0, friend=0.0, sneak=0.0, those=0.0, wayn=0.0, straw=0.0, cynthia=0.0, ad=0.0, two=0.0014450867052023214, eyebal=0.0, carv=0.0, overlook=0.0, contractor=0.0, languag=0.0, fortyf=0.0, admit=0.0, slight=0.0, popular=0.0, compliment=0.0, del=0.0, listen=0.0014450867052023214, mess=0.0, free=0.0, keen=0.0, noth=0.0014450867052023214, acquir=0.0, earlier=0.0, bluff=0.0, twentyfour=0.0, steak=0.0, california=0.0, dial=0.0, industri=0.0, hopefulli=0.0, probli=0.0, certainli=0.0, magnet=0.0, mobil=0.0, elvi=0.0, parlor=0.0, utah=0.0, we=0.006743737957610836, phoni=0.0, sec=0.0, fellow=0.0, eagl=0.0, achiev=0.0, denni=0.0, head=0.0, bore=0.0, dyou=0.0, junior=0.0, bite=0.0, through=0.002890173410404644, grenad=0.0, phase=0.000481695568400774, fabul=0.0, diplomat=0.0, wrong=0.000963391136801548, itll=0.0014450867052023214, again=0.000963391136801548, dock=0.0, bear=0.0, minor=0.0, white=0.000481695568400774, environ=0.0, patient=0.0, mug=0.0, lighthous=0.0, upsid=0.0, nasal=0.0, navig=0.0, sad=0.0, research=0.0, case=0.0014450867052023214, gu=0.0, brutal=0.0, aint=0.0, sinc=0.0, nichola=0.0, intrud=0.0, dare=0.0, were=0.003853564547206192, import=0.000481695568400774, pi=0.0, babysit=0.0, race=0.0, oh=0.000481695568400774, flag=0.0, shaw=0.0, teacher=0.0, pimp=0.0, diego=0.0, victim=0.0, anymor=0.000481695568400774, round=0.000481695568400774, rough=0.0, occas=0.0, sulu=0.0, woke=0.0, chose=0.0, convent=0.0, prioriti=0.0, treadston=0.0, drag=0.0, maud=0.0, monster=0.0, ic=0.0, or=0.0024084778420038703, gener=0.000481695568400774, penguin=0.0, earth=0.0, dc=0.0, cave=0.0, fleet=0.0, wrote=0.0, goddammit=0.0, venic=0.0, wade=0.0, spoken=0.0, unfortun=0.0, campaign=0.0, fever=0.0, marcu=0.0, almost=0.000481695568400774, these=0.000481695568400774, sick=0.0, reach=0.000481695568400774, screw=0.000963391136801548, grace=0.0, anyth=0.0014450867052023214, empir=0.0, rack=0.0, nell=0.0, divin=0.0, violet=0.0, sing=0.0, friendship=0.0, loomi=0.0, basebal=0.0, stood=0.0, clark=0.0, bottl=0.0, marylin=0.0, sin=0.0, juli=0.0, halfwai=0.0, spanish=0.0, hannah=0.0, shower=0.000481695568400774, murphi=0.0, pal=0.000481695568400774, why=0.0024084778420038703, leagu=0.0, our=0.000481695568400774, die=0.000481695568400774, glad=0.0, depart=0.000481695568400774, mightv=0.0, deborah=0.0, spent=0.0, heather=0.0, grant=0.0, delici=0.0, bloom=0.0, halloween=0.0, selfish=0.0, mack=0.0, pleas=0.000481695568400774, later=0.000481695568400774, tomb=0.0, veri=0.000963391136801548, al=0.0, filthi=0.0, bein=0.0, cream=0.0, invit=0.0, ay=0.0, mountain=0.0, tax=0.0, liquid=0.0, suffici=0.0, start=0.000963391136801548, particl=0.0, taught=0.000481695568400774, worthless=0.0, caitlin=0.0, paperwork=0.0, duffi=0.0, fade=0.0, lothar=0.0, courag=0.000481695568400774, puls=0.0, fighter=0.000481695568400774, galleri=0.0, restaur=0.0, sky=0.0, hollywood=0.0, accept=0.0, trip=0.0, grid=0.000481695568400774, vigo=0.0, cellar=0.0, urg=0.0, recal=0.0, task=0.0, nose=0.0, circul=0.0, sperm=0.0, experi=0.0, rust=0.0, thirtyseven=0.0, lame=0.0, editor=0.0, univers=0.0, children=0.0, slug=0.0, ration=0.0, adam=0.0, mailbox=0.0, twentytwo=0.0, reveal=0.0, eat=0.0, tobacco=0.0, schuyler=0.0, widow=0.0, forgiv=0.0, punch=0.0, transfer=0.000481695568400774, humor=0.0, thrill=0.0, jewish=0.0, elbow=0.0, teach=0.0, flush=0.0, pace=0.0, copi=0.0, locat=0.0, senior=0.0, mantan=0.0, auto=0.0, chemistri=0.0, bolt=0.0, steadi=0.0, kick=0.0, ego=0.0, underneath=0.0, approv=0.0, cloud=0.0, studi=0.0, hunter=0.000481695568400774, clue=0.0, roof=0.0, french=0.0, billion=0.0, streak=0.0, chauncei=0.0, judi=0.0, cost=0.0, campbel=0.0, contrari=0.0, bought=0.0, negro=0.0, seein=0.0, area=0.0, testifi=0.0, remain=0.0, summer=0.0, dunbar=0.0, racket=0.0, no=0.0057803468208092856, decis=0.0, gardin=0.0, miami=0.0, dark=0.000481695568400774, bird=0.0, reverend=0.0, loyal=0.0, clair=0.0, master=0.0, finger=0.0, stink=0.0, expedit=0.0, skip=0.0, pardon=0.0, jone=0.0, fals=0.0, toe=0.0, gal=0.0, might=0.0, approxim=0.0, norvil=0.0, sheriff=0.0, behav=0.0, punk=0.0, uareu=0.0, inde=0.0, maximum=0.0, vernon=0.0, hide=0.000963391136801548, hampshir=0.0, put=0.001926782273603096, shh=0.0, program=0.0, plan=0.0, scratch=0.0, ban=0.0, adopt=0.0, ninth=0.0, gui=0.001926782273603096, physic=0.0, enhanc=0.0, dead=0.000963391136801548, bounc=0.0, perspect=0.0, column=0.0, refus=0.0, knife=0.0, dragon=0.0, caesar=0.0, spacecraft=0.0, step=0.0, genet=0.0, bowler=0.0, driver=0.000481695568400774, result=0.0, bishop=0.0, crime=0.0, ram=0.0, howr=0.0, st=0.0, memori=0.0, dana=0.0, upper=0.0, front=0.0, twice=0.0, susan=0.0, whoever=0.0, know=0.0057803468208092856, actual=0.0, war=0.002890173410404644, egg=0.0, johnson=0.0, island=0.0, pervert=0.0, muscl=0.0, darryl=0.0, umm=0.0, fourth=0.0, fresh=0.0, recept=0.0, crack=0.000481695568400774, vote=0.0, betcha=0.0, skywir=0.0, donovan=0.0, societi=0.0, uncomfort=0.0, commit=0.0, mai=0.000481695568400774, april=0.0, purpos=0.0, stare=0.0, common=0.0, campu=0.0, mask=0.0, opera=0.0, kennedi=0.0, bree=0.0, acm=0.0, dug=0.0, climb=0.0, chicago=0.0, ey=0.0, pinta=0.0, lack=0.0, hung=0.0, camp=0.0, clinic=0.0, spat=0.0, uthisu=0.0, sock=0.0, dawson=0.0, museum=0.0, vacuum=0.0, leap=0.0, romulan=0.0, soviet=0.0, freewai=0.0, half=0.0, profit=0.0, iri=0.0, real=0.0, client=0.0, an=0.000963391136801548, dynamit=0.0, eugen=0.0, nuke=0.0, robin=0.0, rub=0.0, gloria=0.0, becam=0.0, deceiv=0.0, distract=0.0, matthew=0.0, ken=0.0, where=0.002890173410404644, america=0.0, bela=0.0, often=0.0, sox=0.0, dear=0.0, partner=0.0, devil=0.0, harm=0.0, shotgun=0.0, adjust=0.0, scheme=0.0, let=0.003371868978805418, trash=0.0, sherri=0.0, script=0.0, join=0.0, clock=0.0, allison=0.0, confirm=0.0, clau=0.0, probat=0.0, rhyme=0.0, whale=0.0, nsa=0.0, gruner=0.0, somedai=0.0, tripl=0.0, forward=0.0, pool=0.0, flat=0.0, sole=0.0, american=0.0, pentang=0.0, grown=0.000481695568400774, frederick=0.0, perfectli=0.0, potenti=0.0, mccaffrei=0.0, form=0.0, nap=0.0, slide=0.0, elev=0.0, thelma=0.0, fink=0.0, pumpkin=0.0, lilli=0.0, farewel=0.0, swann=0.0, meal=0.0, fergu=0.0, mention=0.0, cant=0.004816955684007741, pain=0.0014450867052023214, tri=0.0, ok=0.0, crisi=0.0, jose=0.0, would=0.000481695568400774, beach=0.000481695568400774, size=0.0, angel=0.0, cancel=0.0, tuck=0.0, cook=0.0, began=0.0, pregnanc=0.0, king=0.0, finish=0.0, automat=0.0, overwhelm=0.0, fast=0.0, intens=0.0, translat=0.0, sucker=0.0, etern=0.0, still=0.000963391136801548, beneath=0.0, funer=0.0, immedi=0.0, prai=0.0, theatr=0.0, ceremoni=0.0, pregnant=0.0, capac=0.0, dya=0.0, killain=0.0, maroon=0.0, sammi=0.0, gordon=0.0, bother=0.0, hah=0.0, cartman=0.0, crude=0.0, bedroom=0.0, mustang=0.0, offer=0.0, path=0.0, doyl=0.0, viktor=0.0, iim=0.0, buff=0.0, disk=0.0, birthdai=0.0, kilo=0.0, lap=0.0, am=0.000963391136801548, poem=0.0, least=0.000481695568400774, pick=0.0, pad=0.0, slowli=0.000481695568400774, garag=0.0, person=0.000481695568400774, permit=0.0, further=0.0, connect=0.0, surgeon=0.0, freezer=0.0, obviou=0.0, dinosaur=0.0, audrei=0.0, furnitur=0.0, scientist=0.0, roll=0.0, collect=0.0, chat=0.0, attend=0.0, document=0.0, chapter=0.0, death=0.0, venkman=0.0, fingernail=0.0, sweet=0.0, ol=0.0, stalk=0.0, salt=0.0, tobi=0.0, camera=0.0, entri=0.0, congratul=0.0, inspir=0.0, jackson=0.0, simul=0.0, friedman=0.0, pale=0.0, kathryn=0.0, somebodi=0.0, splendid=0.0, eighti=0.0, eras=0.0, digniti=0.0, swim=0.0, ly=0.0, star=0.0, ye=0.0024084778420038703, shy=0.0, pin=0.0, outpost=0.0, rais=0.0, yah=0.0, leopard=0.0, exposur=0.0, puttin=0.0, martin=0.0, chip=0.0, somehow=0.0, jaeger=0.0, silent=0.0, fact=0.0, ni=0.0, tub=0.0, bag=0.000481695568400774, initi=0.0, buri=0.0, council=0.0, andrew=0.0, brazil=0.0, neil=0.0, suit=0.0, aliv=0.0, us=0.003853564547206192, gabriel=0.0, expertis=0.0, secret=0.0, cherri=0.0, crippl=0.0, cross=0.0, silver=0.0, thief=0.0, whip=0.0, insan=0.0, riplei=0.0, foreign=0.0, ted=0.0, glimps=0.0, lebowski=0.0, me=0.012524084778420123, peopl=0.000481695568400774, koessler=0.0, minist=0.0, kristen=0.0, faze=0.0, payment=0.0, dean=0.0, regret=0.0, histor=0.0, slaughter=0.0, near=0.0, popcorn=0.000481695568400774, japanes=0.0, fuse=0.000481695568400774, lucki=0.0, mous=0.0, wherer=0.0, powel=0.0, vanessa=0.0, inherit=0.0, meat=0.0, sang=0.0, bert=0.0, scale=0.0, scam=0.0, servic=0.0, porno=0.0, spring=0.0, storag=0.0, small=0.0, thing=0.001926782273603096, tragedi=0.0, makin=0.0, just=0.007225433526011609, costum=0.0, averag=0.0, experienc=0.0, click=0.0, lose=0.0, folk=0.0, danger=0.000481695568400774, mayflow=0.0, more=0.001926782273603096, view=0.000481695568400774, jasper=0.0, hostag=0.000481695568400774, swamp=0.0, cup=0.0, hatch=0.0, echo=0.0, cindi=0.0, buddyboi=0.0, depend=0.0, rang=0.000481695568400774, harold=0.0, instrument=0.0, deeper=0.0, beam=0.0, fish=0.0, writer=0.0, stir=0.0, penelop=0.0, react=0.0, knive=0.0, mafia=0.0, carter=0.0, whod=0.0, lincoln=0.0, swell=0.0, boat=0.0, certain=0.0, jet=0.0, steal=0.000481695568400774, safer=0.0, larger=0.0, magazin=0.0, edgar=0.0, pittsburgh=0.0, committe=0.0, truth=0.0, green=0.0, over=0.002890173410404644, prevent=0.000481695568400774, impati=0.0, tv=0.0, ian=0.0, alarm=0.0, boom=0.0, tripp=0.0, basement=0.0, torpedo=0.0, such=0.000481695568400774, sir=0.0, whatr=0.0, jump=0.0, shari=0.0, kenni=0.0, oti=0.0, sweat=0.000481695568400774, spine=0.0, everybodi=0.0, salon=0.0, asian=0.0, miser=0.0, church=0.0, trust=0.000963391136801548, peac=0.0, surveil=0.0, understand=0.0024084778420038703, picnic=0.0, skipper=0.0, bodi=0.000481695568400774, itself=0.0, mental=0.0, come=0.002890173410404644, shortli=0.0, bizarr=0.0, evolv=0.0, tea=0.0, known=0.0, unlik=0.0, arni=0.0, whistler=0.0, firm=0.0, occur=0.0, grandpa=0.0, traitor=0.0, that=0.01589595375722554, gosh=0.0, wynant=0.0, hopkin=0.0, cough=0.0, butch=0.0, agn=0.0, wichita=0.0, tall=0.000481695568400774, sent=0.000481695568400774, manner=0.0, artifici=0.0, dumper=0.0, palac=0.0, track=0.0, twin=0.0, darl=0.0, stark=0.0, despit=0.0, alvi=0.0, pen=0.0, wore=0.0, ani=0.000963391136801548, marshal=0.0, deaf=0.0, stretch=0.000481695568400774, chopper=0.0, coloni=0.0, shaft=0.0, pat=0.0, hal=0.0, allow=0.0, knee=0.0, ugli=0.0, combin=0.0, sheldrak=0.0, wall=0.0, complaint=0.0, understood=0.0, varieti=0.0, roger=0.0, page=0.0, alphabet=0.0, men=0.0, palm=0.0, terror=0.0, li=0.0, skill=0.0, childhood=0.0, wilder=0.0, elliot=0.0, specialist=0.0, travel=0.0, howev=0.0, exploit=0.0, quit=0.0, mph=0.0, traci=0.0, extrem=0.0, torranc=0.0, fiction=0.0, measur=0.0, bug=0.0, lawrenc=0.0, pendergast=0.0, cb=0.0, art=0.0, convinc=0.0, float=0.0, hop=0.0, armi=0.0, socal=0.0, sailor=0.0, circl=0.0, pursu=0.0, notifi=0.0, creasi=0.0, sum=0.0, restrict=0.0, shield=0.0, rocco=0.0, asleep=0.0, failur=0.0, memor=0.000481695568400774, mon=0.0, cool=0.0, emma=0.0, shape=0.0, state=0.0, discount=0.0, youll=0.001926782273603096, repeat=0.000481695568400774, neither=0.0, chart=0.0, soul=0.0, dose=0.0, kai=0.0, wilson=0.0, valet=0.0, tore=0.0, sacr=0.0, rorschach=0.0, custom=0.0, imit=0.0, rekal=0.0, railroad=0.0, monsieur=0.0, read=0.0, lighter=0.0, utterli=0.0, loss=0.0, appropri=0.0, veget=0.0, oklahoma=0.0, oliv=0.0, habit=0.0, slick=0.0, intuit=0.0, rod=0.0, dedic=0.0, propos=0.0, corridor=0.0, nut=0.0, auction=0.0, flu=0.0, bottom=0.0, patron=0.0, uwhyu=0.0, richi=0.0, link=0.0, signal=0.0, custodi=0.0, chanc=0.000481695568400774, sayer=0.0, skin=0.000963391136801548, mortal=0.0, add=0.0, honeymoon=0.0, receipt=0.0, nun=0.0, usual=0.0, starv=0.000481695568400774, eight=0.0, morgu=0.0, comin=0.0, style=0.0, cadet=0.0, uh=0.0, uhuh=0.0, earn=0.0, tini=0.0, volunt=0.000963391136801548)"
      ]
     },
     "execution_count": 6,
     "metadata": {},
     "output_type": "execute_result"
    }
   ],
   "source": [
    "title_index = movies.index_by('Title')\n",
    "def row_for_title(title):\n",
    "    \"\"\"Return the row for a title, similar to the following expression (but faster)\n",
    "    \n",
    "    movies.where('Title', title).row(0)\n",
    "    \"\"\"\n",
    "    return title_index.get(title)[0]\n",
    "\n",
    "row_for_title('the terminator')"
   ]
  },
  {
   "cell_type": "markdown",
   "metadata": {},
   "source": [
    "For example, the fastest way to find the frequency of \"none\" in the movie *The Terminator* is to access the `'none'` item from its row. Check the original table to see if this worked for you!"
   ]
  },
  {
   "cell_type": "code",
   "execution_count": 7,
   "metadata": {},
   "outputs": [
    {
     "data": {
      "text/plain": [
       "0.000963391136801548"
      ]
     },
     "execution_count": 7,
     "metadata": {},
     "output_type": "execute_result"
    }
   ],
   "source": [
    "row_for_title('the terminator').item('none') "
   ]
  },
  {
   "cell_type": "markdown",
   "metadata": {
    "deletable": false,
    "editable": false
   },
   "source": [
    "#### Question 1.0\n",
    "Set `expected_row_sum` to the number that you __expect__ will result from summing all proportions in each row, excluding the first five columns.\n",
    "\n",
    "<!--\n",
    "BEGIN QUESTION\n",
    "name: q1_0\n",
    "-->"
   ]
  },
  {
   "cell_type": "code",
   "execution_count": 8,
   "metadata": {
    "deletable": false
   },
   "outputs": [],
   "source": [
    "# Set row_sum to a number that's the (approximate) sum of each row of word proportions.\n",
    "expected_row_sum = 1"
   ]
  },
  {
   "cell_type": "code",
   "execution_count": 9,
   "metadata": {
    "deletable": false,
    "editable": false
   },
   "outputs": [
    {
     "name": "stdout",
     "output_type": "stream",
     "text": [
      "~~~~~~~~~~~~~~~~~~~~~~~~~~~~~~~~~~~~~~~~~~~~~~~~~~~~~~~~~~~~~~~~~~~~~\n",
      "Running tests\n",
      "\n",
      "---------------------------------------------------------------------\n",
      "Test summary\n",
      "    Passed: 1\n",
      "    Failed: 0\n",
      "[ooooooooook] 100.0% passed\n",
      "\n"
     ]
    }
   ],
   "source": [
    "ok.grade(\"q1_0\");"
   ]
  },
  {
   "cell_type": "markdown",
   "metadata": {},
   "source": [
    "This dataset was extracted from [a dataset from Cornell University](http://www.cs.cornell.edu/~cristian/Cornell_Movie-Dialogs_Corpus.html). After transforming the dataset (e.g., converting the words to lowercase, removing the naughty words, and converting the counts to frequencies), we created this new dataset containing the frequency of 5000 common words in each movie."
   ]
  },
  {
   "cell_type": "code",
   "execution_count": 10,
   "metadata": {},
   "outputs": [
    {
     "name": "stdout",
     "output_type": "stream",
     "text": [
      "Words with frequencies: 5000\n",
      "Movies with genres: 370\n"
     ]
    }
   ],
   "source": [
    "print('Words with frequencies:', movies.drop(np.arange(5)).num_columns) \n",
    "print('Movies with genres:', movies.num_rows)"
   ]
  },
  {
   "cell_type": "markdown",
   "metadata": {},
   "source": [
    "## 1.1. Word Stemming\n",
    "The columns other than \"Title\", \"Year\", \"Rating\", \"Genre\", and \"# Words\" in the `movies` table are all words that appear in some of the movies in our dataset.  These words have been *stemmed*, or abbreviated heuristically, in an attempt to make different [inflected](https://en.wikipedia.org/wiki/Inflection) forms of the same base word into the same string.  For example, the column \"manag\" is the sum of proportions of the words \"manage\", \"manager\", \"managed\", and \"managerial\" (and perhaps others) in each movie. This is a common technique used in machine learning and natural language processing.\n",
    "\n",
    "Stemming makes it a little tricky to search for the words you want to use, so we have provided another table that will let you see examples of unstemmed versions of each stemmed word.  Run the code below to load it."
   ]
  },
  {
   "cell_type": "code",
   "execution_count": 11,
   "metadata": {
    "scrolled": false
   },
   "outputs": [
    {
     "data": {
      "text/html": [
       "<table border=\"1\" class=\"dataframe\">\n",
       "    <thead>\n",
       "        <tr>\n",
       "            <th>Stem</th> <th>Word</th>\n",
       "        </tr>\n",
       "    </thead>\n",
       "    <tbody>\n",
       "        <tr>\n",
       "            <td>bond</td> <td>bonding </td>\n",
       "        </tr>\n",
       "        <tr>\n",
       "            <td>bone</td> <td>bone    </td>\n",
       "        </tr>\n",
       "        <tr>\n",
       "            <td>bone</td> <td>boning  </td>\n",
       "        </tr>\n",
       "        <tr>\n",
       "            <td>bone</td> <td>bones   </td>\n",
       "        </tr>\n",
       "        <tr>\n",
       "            <td>bonu</td> <td>bonus   </td>\n",
       "        </tr>\n",
       "        <tr>\n",
       "            <td>book</td> <td>bookings</td>\n",
       "        </tr>\n",
       "        <tr>\n",
       "            <td>book</td> <td>books   </td>\n",
       "        </tr>\n",
       "        <tr>\n",
       "            <td>book</td> <td>booking </td>\n",
       "        </tr>\n",
       "        <tr>\n",
       "            <td>book</td> <td>booked  </td>\n",
       "        </tr>\n",
       "        <tr>\n",
       "            <td>book</td> <td>book    </td>\n",
       "        </tr>\n",
       "    </tbody>\n",
       "</table>"
      ],
      "text/plain": [
       "Stem | Word\n",
       "bond | bonding\n",
       "bone | bone\n",
       "bone | boning\n",
       "bone | bones\n",
       "bonu | bonus\n",
       "book | bookings\n",
       "book | books\n",
       "book | booking\n",
       "book | booked\n",
       "book | book"
      ]
     },
     "execution_count": 11,
     "metadata": {},
     "output_type": "execute_result"
    }
   ],
   "source": [
    "# Just run this cell.\n",
    "vocab_mapping = Table.read_table('stem.csv')\n",
    "stemmed = np.take(movies.labels, np.arange(3, len(movies.labels)))\n",
    "vocab_table = Table().with_column('Stem', stemmed).join('Stem', vocab_mapping)\n",
    "vocab_table.take(np.arange(1100, 1110))"
   ]
  },
  {
   "cell_type": "markdown",
   "metadata": {
    "deletable": false,
    "editable": false
   },
   "source": [
    "#### Question 1.1.1\n",
    "Assign `stemmed_message` to the stemmed version of the word \"vegetables\".\n",
    "\n",
    "<!--\n",
    "BEGIN QUESTION\n",
    "name: q1_1_1\n",
    "-->"
   ]
  },
  {
   "cell_type": "code",
   "execution_count": 12,
   "metadata": {},
   "outputs": [
    {
     "data": {
      "text/plain": [
       "'veget'"
      ]
     },
     "execution_count": 12,
     "metadata": {},
     "output_type": "execute_result"
    }
   ],
   "source": [
    "stemmed_message = vocab_table.where(\"Word\", are.equal_to(\"vegetables\")).column(0).item(0)\n",
    "stemmed_message"
   ]
  },
  {
   "cell_type": "code",
   "execution_count": 13,
   "metadata": {
    "deletable": false,
    "editable": false
   },
   "outputs": [
    {
     "name": "stdout",
     "output_type": "stream",
     "text": [
      "~~~~~~~~~~~~~~~~~~~~~~~~~~~~~~~~~~~~~~~~~~~~~~~~~~~~~~~~~~~~~~~~~~~~~\n",
      "Running tests\n",
      "\n",
      "---------------------------------------------------------------------\n",
      "Test summary\n",
      "    Passed: 1\n",
      "    Failed: 0\n",
      "[ooooooooook] 100.0% passed\n",
      "\n"
     ]
    }
   ],
   "source": [
    "ok.grade(\"q1_1_1\");"
   ]
  },
  {
   "cell_type": "markdown",
   "metadata": {
    "deletable": false,
    "editable": false
   },
   "source": [
    "#### Question 1.1.2\n",
    "What stem in the dataset has the most words that are shortened to it? Assign `most_stem` to that stem.\n",
    "\n",
    "<!--\n",
    "BEGIN QUESTION\n",
    "name: q1_1_2\n",
    "-->"
   ]
  },
  {
   "cell_type": "code",
   "execution_count": 14,
   "metadata": {},
   "outputs": [
    {
     "data": {
      "text/plain": [
       "'gener'"
      ]
     },
     "execution_count": 14,
     "metadata": {},
     "output_type": "execute_result"
    }
   ],
   "source": [
    "most_stem = vocab_table.group(\"Stem\")\n",
    "most_stem = most_stem.where(\"count\", max(most_stem.column(\"count\"))).column(\"Stem\").item(0)\n",
    "most_stem"
   ]
  },
  {
   "cell_type": "code",
   "execution_count": 15,
   "metadata": {
    "deletable": false,
    "editable": false
   },
   "outputs": [
    {
     "name": "stdout",
     "output_type": "stream",
     "text": [
      "~~~~~~~~~~~~~~~~~~~~~~~~~~~~~~~~~~~~~~~~~~~~~~~~~~~~~~~~~~~~~~~~~~~~~\n",
      "Running tests\n",
      "\n",
      "---------------------------------------------------------------------\n",
      "Test summary\n",
      "    Passed: 1\n",
      "    Failed: 0\n",
      "[ooooooooook] 100.0% passed\n",
      "\n"
     ]
    }
   ],
   "source": [
    "ok.grade(\"q1_1_2\");"
   ]
  },
  {
   "cell_type": "markdown",
   "metadata": {
    "deletable": false,
    "editable": false
   },
   "source": [
    "#### Question 1.1.3\n",
    "What is the longest word in the dataset whose stem wasn't shortened? Assign that to `longest_uncut`. Break ties alphabetically from Z to A (so if your options are \"albatross\" or \"batman\", you should pick \"batman\").\n",
    "\n",
    "<!--\n",
    "BEGIN QUESTION\n",
    "name: q1_1_3\n",
    "-->"
   ]
  },
  {
   "cell_type": "code",
   "execution_count": 16,
   "metadata": {
    "for_assignment_type": "student"
   },
   "outputs": [
    {
     "data": {
      "text/plain": [
       "'misunderstand'"
      ]
     },
     "execution_count": 16,
     "metadata": {},
     "output_type": "execute_result"
    }
   ],
   "source": [
    "# In our solution, we found it useful to first add columns with\n",
    "# the length of the word and the length of the stem,\n",
    "# and then to add a column with the difference between those lengths.\n",
    "# What will the difference be if the word is not shortened?\n",
    "wlen = make_array()\n",
    "slen = make_array()\n",
    "diff = make_array()\n",
    "for i in np.arange(vocab_table.num_rows):\n",
    "    wlen = np.append(wlen, len(vocab_table.column(1).item(i)))\n",
    "for i in np.arange(vocab_table.num_rows):\n",
    "    slen = np.append(slen, len(vocab_table.column(0).item(i)))\n",
    "diff = abs(wlen - slen)\n",
    "maxl = max(wlen)\n",
    "tbl_with_lens = vocab_table.with_columns(\"wlen\", wlen, \"slen\", slen)\n",
    "tbl_with_dif = tbl_with_lens.with_column(\"diff\", diff)\n",
    "\n",
    "\n",
    "longest_uncut = tbl_with_dif.where(\"diff\", 0).sort(\"wlen\", descending = True)\n",
    "longest_uncut = longest_uncut.where(\"wlen\", max(longest_uncut.column(\"wlen\"))).sort(\"Word\", descending=True).column(1).item(0)\n",
    "longest_uncut"
   ]
  },
  {
   "cell_type": "code",
   "execution_count": 17,
   "metadata": {
    "deletable": false,
    "editable": false
   },
   "outputs": [
    {
     "name": "stdout",
     "output_type": "stream",
     "text": [
      "~~~~~~~~~~~~~~~~~~~~~~~~~~~~~~~~~~~~~~~~~~~~~~~~~~~~~~~~~~~~~~~~~~~~~\n",
      "Running tests\n",
      "\n",
      "---------------------------------------------------------------------\n",
      "Test summary\n",
      "    Passed: 1\n",
      "    Failed: 0\n",
      "[ooooooooook] 100.0% passed\n",
      "\n"
     ]
    }
   ],
   "source": [
    "ok.grade(\"q1_1_3\");"
   ]
  },
  {
   "cell_type": "markdown",
   "metadata": {},
   "source": [
    "## 1.2. Exploratory Data Analysis: Linear Regression"
   ]
  },
  {
   "cell_type": "markdown",
   "metadata": {},
   "source": [
    "Let's explore our dataset before trying to build a classifier. To start, we'll look at the relationship between words in proportions. \n",
    "\n",
    "The first association we'll investigate is the association between the proportion of words that are \"outer\" and the proportion of words that are \"space\". \n",
    "\n",
    "As usual, we'll investigate our data visually before performing any numerical analysis.\n",
    "\n",
    "Run the cell below to plot a scatter diagram of space proportions vs outer proportions and to create the `outer_space` table."
   ]
  },
  {
   "cell_type": "code",
   "execution_count": 18,
   "metadata": {
    "scrolled": false
   },
   "outputs": [
    {
     "data": {
      "text/html": [
       "<table border=\"1\" class=\"dataframe\">\n",
       "    <thead>\n",
       "        <tr>\n",
       "            <th>Title</th> <th>Year</th> <th>Rating</th> <th>Genre</th> <th># Words</th> <th>she</th> <th>decid</th> <th>talk</th> <th>wit</th> <th>razor</th> <th>slam</th> <th>credit</th> <th>rai</th> <th>hugh</th> <th>breez</th> <th>conscienc</th> <th>audienc</th> <th>cathi</th> <th>log</th> <th>met</th> <th>chosen</th> <th>grip</th> <th>booz</th> <th>bianca</th> <th>doubl</th> <th>agent</th> <th>exit</th> <th>carpent</th> <th>underground</th> <th>clemenza</th> <th>gain</th> <th>neg</th> <th>majesti</th> <th>studio</th> <th>chri</th> <th>spin</th> <th>greater</th> <th>eaten</th> <th>vibrat</th> <th>stupid</th> <th>cigarett</th> <th>jesu</th> <th>mani</th> <th>violin</th> <th>financi</th> <th>bai</th> <th>cop</th> <th>neighbor</th> <th>cd</th> <th>england</th> <th>made</th> <th>conni</th> <th>instinct</th> <th>took</th> <th>jacquelin</th> <th>mace</th> <th>disappear</th> <th>waltz</th> <th>behind</th> <th>bourbon</th> <th>favorit</th> <th>benni</th> <th>manhattan</th> <th>nixon</th> <th>lunch</th> <th>principl</th> <th>tradit</th> <th>counterfeit</th> <th>sophi</th> <th>third</th> <th>exist</th> <th>wouldv</th> <th>hero</th> <th>theyr</th> <th>anytim</th> <th>christin</th> <th>vallei</th> <th>chess</th> <th>paid</th> <th>burglar</th> <th>nostril</th> <th>rubber</th> <th>human</th> <th>british</th> <th>plissken</th> <th>eddi</th> <th>gee</th> <th>offend</th> <th>rebecca</th> <th>anger</th> <th>plant</th> <th>famou</th> <th>repres</th> <th>latest</th> <th>rent</th> <th>dip</th> <th>bell</th> <th>andi</th> <th>so</th> <th>london</th> <th>cooler</th> <th>keaton</th> <th>portland</th> <th>headlin</th> <th>whatta</th> <th>fatal</th> <th>sew</th> <th>cheer</th> <th>davi</th> <th>feed</th> <th>hudson</th> <th>ambros</th> <th>digest</th> <th>redi</th> <th>fri</th> <th>staff</th> <th>casino</th> <th>occasion</th> <th>shadow</th> <th>work</th> <th>restrain</th> <th>face</th> <th>exercis</th> <th>sidnei</th> <th>pile</th> <th>whyd</th> <th>teenag</th> <th>her</th> <th>retir</th> <th>hazard</th> <th>roth</th> <th>hurrican</th> <th>impuls</th> <th>ranger</th> <th>pour</th> <th>lester</th> <th>slash</th> <th>deer</th> <th>could</th> <th>vital</th> <th>qualiti</th> <th>coma</th> <th>incred</th> <th>hank</th> <th>famili</th> <th>duchess</th> <th>global</th> <th>virgin</th> <th>scientif</th> <th>between</th> <th>holidai</th> <th>qualifi</th> <th>moor</th> <th>happili</th> <th>arizona</th> <th>non</th> <th>bruce</th> <th>ankl</th> <th>constant</th> <th>buzz</th> <th>harder</th> <th>ing</th> <th>christian</th> <th>palmer</th> <th>tent</th> <th>sunset</th> <th>damour</th> <th>cohaagen</th> <th>advertis</th> <th>sensat</th> <th>local</th> <th>there</th> <th>terri</th> <th>sedat</th> <th>rotten</th> <th>struck</th> <th>deck</th> <th>past</th> <th>bro</th> <th>ann</th> <th>dump</th> <th>kane</th> <th>slot</th> <th>immun</th> <th>block</th> <th>lil</th> <th>technic</th> <th>tactic</th> <th>pencil</th> <th>outsid</th> <th>laboratori</th> <th>easi</th> <th>nephew</th> <th>coffin</th> <th>pretti</th> <th>coward</th> <th>verbal</th> <th>permiss</th> <th>bartend</th> <th>wont</th> <th>watch</th> <th>lindenmey</th> <th>cosmo</th> <th>capabl</th> <th>flirt</th> <th>huge</th> <th>berkelei</th> <th>max</th> <th>walter</th> <th>lime</th> <th>rico</th> <th>marvin</th> <th>aboard</th> <th>bacon</th> <th>account</th> <th>kirk</th> <th>quaid</th> <th>stunt</th> <th>closet</th> <th>due</th> <th>nuclear</th> <th>blind</th> <th>pussi</th> <th>howdi</th> <th>snuff</th> <th>eas</th> <th>now</th> <th>leak</th> <th>underwear</th> <th>westlei</th> <th>mayb</th> <th>theo</th> <th>limo</th> <th>cousin</th> <th>illeg</th> <th>silli</th> <th>against</th> <th>done</th> <th>district</th> <th>invad</th> <th>ryan</th> <th>wait</th> <th>grudg</th> <th>charact</th> <th>hick</th> <th>jami</th> <th>lifetim</th> <th>lecktor</th> <th>and</th> <th>republican</th> <th>life</th> <th>hidden</th> <th>wire</th> <th>paranoia</th> <th>network</th> <th>messi</th> <th>uthatu</th> <th>effort</th> <th>carri</th> <th>windham</th> <th>fun</th> <th>psychologist</th> <th>sean</th> <th>scent</th> <th>answer</th> <th>mom</th> <th>wake</th> <th>sign</th> <th>ho</th> <th>relat</th> <th>jame</th> <th>fat</th> <th>myself</th> <th>disrupt</th> <th>scan</th> <th>vagu</th> <th>basket</th> <th>christma</th> <th>estim</th> <th>em</th> <th>union</th> <th>involv</th> <th>norman</th> <th>suspici</th> <th>becom</th> <th>shoe</th> <th>librari</th> <th>administr</th> <th>ford</th> <th>complic</th> <th>stuck</th> <th>justic</th> <th>attack</th> <th>releas</th> <th>econom</th> <th>hesit</th> <th>autopsi</th> <th>jurisdict</th> <th>four</th> <th>factor</th> <th>inquiri</th> <th>lion</th> <th>meanwhil</th> <th>prison</th> <th>blair</th> <th>seri</th> <th>groceri</th> <th>surgeri</th> <th>season</th> <th>christi</th> <th>clean</th> <th>ow</th> <th>wrestl</th> <th>en</th> <th>moral</th> <th>hungri</th> <th>cole</th> <th>surfer</th> <th>sixteen</th> <th>angl</th> <th>shame</th> <th>barrel</th> <th>major</th> <th>ago</th> <th>lott</th> <th>airplan</th> <th>worth</th> <th>train</th> <th>easili</th> <th>feller</th> <th>valentin</th> <th>harvei</th> <th>wherev</th> <th>francisco</th> <th>true</th> <th>dramat</th> <th>boston</th> <th>besid</th> <th>inspector</th> <th>orlean</th> <th>opportun</th> <th>nearli</th> <th>lindsei</th> <th>photograph</th> <th>frame</th> <th>at</th> <th>psychopath</th> <th>press</th> <th>youyou</th> <th>havana</th> <th>australia</th> <th>plai</th> <th>mayfield</th> <th>chick</th> <th>stewart</th> <th>seven</th> <th>reflect</th> <th>outer</th> <th>vega</th> <th>anywai</th> <th>prime</th> <th>farmer</th> <th>backyard</th> <th>joe</th> <th>otherwis</th> <th>cowgirl</th> <th>grate</th> <th>clerk</th> <th>dispos</th> <th>tow</th> <th>mari</th> <th>certifi</th> <th>thi</th> <th>wheel</th> <th>privaci</th> <th>todai</th> <th>nathan</th> <th>teller</th> <th>plot</th> <th>correct</th> <th>couch</th> <th>job</th> <th>hurt</th> <th>inject</th> <th>chocol</th> <th>session</th> <th>outrag</th> <th>reduc</th> <th>knew</th> <th>jd</th> <th>perfum</th> <th>fabric</th> <th>bodyguard</th> <th>think</th> <th>il</th> <th>yesterdai</th> <th>side</th> <th>doesnt</th> <th>ronni</th> <th>blank</th> <th>jess</th> <th>push</th> <th>ahh</th> <th>jealou</th> <th>alter</th> <th>blew</th> <th>bu</th> <th>off</th> <th>sweetheart</th> <th>abl</th> <th>angelo</th> <th>nicer</th> <th>coupla</th> <th>resum</th> <th>coke</th> <th>strangl</th> <th>gut</th> <th>morn</th> <th>miracl</th> <th>bit</th> <th>intimid</th> <th>pipelin</th> <th>sour</th> <th>shep</th> <th>vivian</th> <th>grave</th> <th>chemic</th> <th>czech</th> <th>scholarship</th> <th>oldfashion</th> <th>accent</th> <th>spitz</th> <th>dirti</th> <th>shot</th> <th>lit</th> <th>cedar</th> <th>pirat</th> <th>weather</th> <th>stun</th> <th>learn</th> <th>wick</th> <th>bring</th> <th>slack</th> <th>brave</th> <th>shakespear</th> <th>monkei</th> <th>presum</th> <th>vacat</th> <th>faint</th> <th>strap</th> <th>stephen</th> <th>maggi</th> <th>indic</th> <th>sundai</th> <th>nois</th> <th>organ</th> <th>terranc</th> <th>foundat</th> <th>littl</th> <th>perman</th> <th>insid</th> <th>stabl</th> <th>sharp</th> <th>uptight</th> <th>wholl</th> <th>jeffrei</th> <th>root</th> <th>thy</th> <th>josi</th> <th>woman</th> <th>post</th> <th>judg</th> <th>ralph</th> <th>amaz</th> <th>surf</th> <th>naughti</th> <th>norm</th> <th>glove</th> <th>cigar</th> <th>wendi</th> <th>corpor</th> <th>statement</th> <th>defin</th> <th>drawn</th> <th>progress</th> <th>year.1</th> <th>shovel</th> <th>sequenc</th> <th>andand</th> <th>reel</th> <th>held</th> <th>youv</th> <th>trick</th> <th>horseman</th> <th>whoa</th> <th>emploi</th> <th>chain</th> <th>cmon</th> <th>brief</th> <th>creativ</th> <th>moscow</th> <th>challeng</th> <th>walli</th> <th>golf</th> <th>abort</th> <th>aha</th> <th>bent</th> <th>exclus</th> <th>amber</th> <th>figur</th> <th>healthi</th> <th>ransom</th> <th>steer</th> <th>blow</th> <th>bark</th> <th>imbecil</th> <th>mother</th> <th>had</th> <th>whatev</th> <th>donit</th> <th>goodby</th> <th>terrifi</th> <th>cash</th> <th>descript</th> <th>spell</th> <th>west</th> <th>shoulda</th> <th>when</th> <th>wear</th> <th>crop</th> <th>trapper</th> <th>donat</th> <th>breath</th> <th>bracelet</th> <th>lover</th> <th>afraid</th> <th>vice</th> <th>ms</th> <th>didnt</th> <th>kill</th> <th>depth</th> <th>si</th> <th>experiment</th> <th>dna</th> <th>desmond</th> <th>coconut</th> <th>dil</th> <th>llewelyn</th> <th>spoil</th> <th>lung</th> <th>attent</th> <th>offens</th> <th>babi</th> <th>havin</th> <th>mustnt</th> <th>creepi</th> <th>daniel</th> <th>abandon</th> <th>less</th> <th>go</th> <th>negoti</th> <th>butcher</th> <th>sudden</th> <th>templ</th> <th>ii</th> <th>alex</th> <th>deal</th> <th>rememb</th> <th>polic</th> <th>gasolin</th> <th>luggag</th> <th>smooth</th> <th>declar</th> <th>chase</th> <th>host</th> <th>uptown</th> <th>heavi</th> <th>tenni</th> <th>picard</th> <th>success</th> <th>as</th> <th>heroin</th> <th>hi</th> <th>seduc</th> <th>den</th> <th>accur</th> <th>parasit</th> <th>fiddl</th> <th>altern</th> <th>chees</th> <th>flatter</th> <th>lloyd</th> <th>collector</th> <th>athlet</th> <th>useless</th> <th>yeh</th> <th>lawsuit</th> <th>guitar</th> <th>apart</th> <th>strong</th> <th>ditch</th> <th>doc</th> <th>wors</th> <th>trigger</th> <th>mister</th> <th>request</th> <th>direct</th> <th>telephon</th> <th>expir</th> <th>blond</th> <th>energi</th> <th>eh</th> <th>damag</th> <th>across</th> <th>anni</th> <th>eleven</th> <th>episod</th> <th>reliant</th> <th>jason</th> <th>get</th> <th>duh</th> <th>victori</th> <th>speci</th> <th>includ</th> <th>time</th> <th>imagin</th> <th>hang</th> <th>estat</th> <th>full</th> <th>sleep</th> <th>receiv</th> <th>grei</th> <th>belief</th> <th>itali</th> <th>separ</th> <th>claw</th> <th>circuit</th> <th>memo</th> <th>monei</th> <th>anna</th> <th>term</th> <th>drunk</th> <th>everydai</th> <th>haldeman</th> <th>frozen</th> <th>castro</th> <th>soup</th> <th>mornin</th> <th>starship</th> <th>dawn</th> <th>curtain</th> <th>pipe</th> <th>twist</th> <th>downtown</th> <th>drive</th> <th>tank</th> <th>servant</th> <th>circumst</th> <th>town</th> <th>beat</th> <th>wooden</th> <th>thursdai</th> <th>ordinari</th> <th>acid</th> <th>must</th> <th>literatur</th> <th>carol</th> <th>homework</th> <th>present</th> <th>lunat</th> <th>lifestyl</th> <th>rat</th> <th>satisfi</th> <th>funni</th> <th>gang</th> <th>jewelri</th> <th>develop</th> <th>yell</th> <th>stash</th> <th>ab</th> <th>mm</th> <th>thumb</th> <th>to</th> <th>lift</th> <th>re</th> <th>mud</th> <th>taranski</th> <th>camel</th> <th>cancer</th> <th>valiant</th> <th>leavin</th> <th>sand</th> <th>themselv</th> <th>stai</th> <th>junki</th> <th>dinner</th> <th>subject</th> <th>ax</th> <th>thankyou</th> <th>squad</th> <th>charl</th> <th>pretend</th> <th>mumford</th> <th>player</th> <th>sorri</th> <th>feet</th> <th>dee</th> <th>casual</th> <th>check</th> <th>fugit</th> <th>garden</th> <th>million</th> <th>suppos</th> <th>observ</th> <th>low</th> <th>cathol</th> <th>parad</th> <th>confus</th> <th>appli</th> <th>uhura</th> <th>sane</th> <th>beverli</th> <th>princip</th> <th>helen</th> <th>drain</th> <th>want</th> <th>maam</th> <th>care</th> <th>tomorrow</th> <th>abus</th> <th>parent</th> <th>diner</th> <th>proud</th> <th>squeez</th> <th>allerg</th> <th>displai</th> <th>rave</th> <th>da</th> <th>tabl</th> <th>kip</th> <th>string</th> <th>ik</th> <th>microwav</th> <th>tongu</th> <th>miner</th> <th>montana</th> <th>ident</th> <th>gaston</th> <th>individu</th> <th>treasur</th> <th>brown</th> <th>delic</th> <th>forbidden</th> <th>blah</th> <th>although</th> <th>cold</th> <th>strategi</th> <th>psycholog</th> <th>fill</th> <th>profession</th> <th>rig</th> <th>theori</th> <th>psychiatr</th> <th>raw</th> <th>critic</th> <th>contribut</th> <th>fart</th> <th>bitter</th> <th>lemm</th> <th>isol</th> <th>drug</th> <th>also</th> <th>type</th> <th>oblig</th> <th>jen</th> <th>feder</th> <th>note</th> <th>perhap</th> <th>dwayn</th> <th>wolf</th> <th>central</th> <th>annoi</th> <th>cycl</th> <th>accid</th> <th>puzzl</th> <th>invis</th> <th>ronald</th> <th>mercuri</th> <th>escap</th> <th>damon</th> <th>acr</th> <th>spy</th> <th>gig</th> <th>armor</th> <th>gotten</th> <th>swana</th> <th>scene</th> <th>marla</th> <th>penetr</th> <th>shock</th> <th>sunk</th> <th>iv</th> <th>diari</th> <th>atlant</th> <th>absenc</th> <th>corps</th> <th>relai</th> <th>rip</th> <th>bull</th> <th>requir</th> <th>buck</th> <th>complain</th> <th>russia</th> <th>arctic</th> <th>schedul</th> <th>casei</th> <th>temperatur</th> <th>tree</th> <th>unbeliev</th> <th>graduat</th> <th>place</th> <th>communist</th> <th>nine</th> <th>vulner</th> <th>hike</th> <th>raymond</th> <th>laura</th> <th>manifest</th> <th>cellular</th> <th>repress</th> <th>divid</th> <th>lesson</th> <th>crate</th> <th>coin</th> <th>bachelor</th> <th>carl</th> <th>sport</th> <th>simpli</th> <th>politician</th> <th>destroi</th> <th>juno</th> <th>castor</th> <th>liter</th> <th>dwight</th> <th>malkovich</th> <th>cord</th> <th>edmund</th> <th>walk</th> <th>cake</th> <th>protect</th> <th>nearest</th> <th>takin</th> <th>comrad</th> <th>dai</th> <th>tour</th> <th>whose</th> <th>partial</th> <th>vada</th> <th>delight</th> <th>godfath</th> <th>cheat</th> <th>harmless</th> <th>romant</th> <th>pound</th> <th>im</th> <th>violat</th> <th>chief</th> <th>onlin</th> <th>pleasur</th> <th>crystal</th> <th>luther</th> <th>festiv</th> <th>along</th> <th>admir</th> <th>owner</th> <th>prove</th> <th>giron</th> <th>lydia</th> <th>dad</th> <th>ultim</th> <th>hawkin</th> <th>hei</th> <th>father</th> <th>rot</th> <th>doll</th> <th>fountain</th> <th>williamson</th> <th>horror</th> <th>ell</th> <th>media</th> <th>russian</th> <th>carefulli</th> <th>verifi</th> <th>prepar</th> <th>cia</th> <th>flew</th> <th>logic</th> <th>affect</th> <th>skirt</th> <th>nineteen</th> <th>breakdown</th> <th>william</th> <th>batteri</th> <th>shore</th> <th>project</th> <th>strength</th> <th>bail</th> <th>piti</th> <th>harbor</th> <th>oper</th> <th>yanke</th> <th>orphan</th> <th>squar</th> <th>gari</th> <th>driven</th> <th>nanci</th> <th>leonard</th> <th>nonsens</th> <th>anybodi</th> <th>strict</th> <th>riddl</th> <th>boulevard</th> <th>articl</th> <th>shop</th> <th>mexico</th> <th>ruin</th> <th>did</th> <th>annett</th> <th>piano</th> <th>chest</th> <th>becker</th> <th>strip</th> <th>stroll</th> <th>philosophi</th> <th>footbal</th> <th>whom</th> <th>flight</th> <th>refriger</th> <th>loretta</th> <th>geniu</th> <th>condit</th> <th>for</th> <th>anyon</th> <th>ideal</th> <th>terribl</th> <th>otho</th> <th>self</th> <th>swore</th> <th>ring</th> <th>baron</th> <th>civilian</th> <th>panick</th> <th>settl</th> <th>spread</th> <th>turn</th> <th>blast</th> <th>growth</th> <th>seal</th> <th>box</th> <th>locker</th> <th>help</th> <th>cast</th> <th>jennif</th> <th>regan</th> <th>stole</th> <th>yessir</th> <th>randi</th> <th>left</th> <th>explain</th> <th>inspect</th> <th>tribun</th> <th>pop</th> <th>bed</th> <th>encourag</th> <th>bubbl</th> <th>contact</th> <th>patrick</th> <th>domino</th> <th>reliev</th> <th>superman</th> <th>sector</th> <th>entranc</th> <th>corner</th> <th>mama</th> <th>supposedli</th> <th>yo</th> <th>role</th> <th>wai</th> <th>vicki</th> <th>buddi</th> <th>wizard</th> <th>heal</th> <th>element</th> <th>here</th> <th>leather</th> <th>hardli</th> <th>their</th> <th>sworn</th> <th>africa</th> <th>yearold</th> <th>sphere</th> <th>psych</th> <th>behalf</th> <th>moren</th> <th>shelter</th> <th>dr</th> <th>weight</th> <th>ami</th> <th>pike</th> <th>gitt</th> <th>kinda</th> <th>liber</th> <th>badg</th> <th>last</th> <th>from</th> <th>uhhuh</th> <th>afford</th> <th>shag</th> <th>presenc</th> <th>jai</th> <th>hall</th> <th>worst</th> <th>agenc</th> <th>threat</th> <th>jaw</th> <th>hold</th> <th>someplac</th> <th>birth</th> <th>junk</th> <th>natali</th> <th>graveyard</th> <th>march</th> <th>focu</th> <th>graviti</th> <th>smoke</th> <th>normal</th> <th>congress</th> <th>ash</th> <th>predict</th> <th>copper</th> <th>court</th> <th>wealth</th> <th>it</th> <th>um</th> <th>issu</th> <th>misunderstand</th> <th>berlin</th> <th>structur</th> <th>hardwar</th> <th>casanova</th> <th>worship</th> <th>unhappi</th> <th>spit</th> <th>quadrant</th> <th>downstair</th> <th>see</th> <th>gentlemen</th> <th>intern</th> <th>conrad</th> <th>flame</th> <th>within</th> <th>drum</th> <th>yet</th> <th>differ</th> <th>jacket</th> <th>onto</th> <th>prospect</th> <th>nation</th> <th>soft</th> <th>girl</th> <th>counter</th> <th>rug</th> <th>neutral</th> <th>elli</th> <th>transmiss</th> <th>integr</th> <th>cadillac</th> <th>hose</th> <th>lillian</th> <th>clip</th> <th>stanlei</th> <th>marriag</th> <th>built</th> <th>paso</th> <th>subwai</th> <th>whiskei</th> <th>kyle</th> <th>sai</th> <th>barzini</th> <th>virginia</th> <th>lou</th> <th>slip</th> <th>pageant</th> <th>tellin</th> <th>taylor</th> <th>proof</th> <th>yank</th> <th>yacht</th> <th>bless</th> <th>brooklyn</th> <th>argu</th> <th>pistol</th> <th>bo</th> <th>unnecessari</th> <th>share</th> <th>th</th> <th>sabotag</th> <th>china</th> <th>hojon</th> <th>intim</th> <th>chop</th> <th>comic</th> <th>compuls</th> <th>bingo</th> <th>make</th> <th>vulcan</th> <th>parri</th> <th>shouldnt</th> <th>disconnect</th> <th>toon</th> <th>forc</th> <th>annabel</th> <th>clown</th> <th>sentenc</th> <th>with</th> <th>cartoon</th> <th>suspicion</th> <th>willi</th> <th>brook</th> <th>revers</th> <th>luci</th> <th>visitor</th> <th>wave</th> <th>stick</th> <th>cuban</th> <th>sweep</th> <th>comment</th> <th>elimin</th> <th>spencer</th> <th>monica</th> <th>debat</th> <th>coron</th> <th>lie</th> <th>ourselv</th> <th>weapon</th> <th>kate</th> <th>distant</th> <th>grade</th> <th>atf</th> <th>balloon</th> <th>southern</th> <th>chang</th> <th>oppos</th> <th>indict</th> <th>respect</th> <th>sure</th> <th>jane</th> <th>doubt</th> <th>princ</th> <th>admiss</th> <th>ador</th> <th>jungl</th> <th>paint</th> <th>south</th> <th>event</th> <th>taxi</th> <th>voic</th> <th>video</th> <th>convert</th> <th>couldnt</th> <th>citi</th> <th>motiv</th> <th>rel</th> <th>herself</th> <th>curios</th> <th>buffalo</th> <th>terrorist</th> <th>write</th> <th>school</th> <th>wing</th> <th>smack</th> <th>marti</th> <th>counti</th> <th>pud</th> <th>thatd</th> <th>readi</th> <th>manrai</th> <th>airlin</th> <th>romeo</th> <th>weekend</th> <th>apolog</th> <th>ladi</th> <th>emili</th> <th>maker</th> <th>dian</th> <th>barf</th> <th>quest</th> <th>crown</th> <th>expect</th> <th>gull</th> <th>pump</th> <th>depress</th> <th>interrog</th> <th>instant</th> <th>barri</th> <th>book</th> <th>ahm</th> <th>shutup</th> <th>larri</th> <th>seriou</th> <th>hobbi</th> <th>unotu</th> <th>kingdom</th> <th>on</th> <th>quarter</th> <th>nicki</th> <th>pierr</th> <th>dream</th> <th>clarenc</th> <th>buffi</th> <th>winner</th> <th>scatter</th> <th>erik</th> <th>bike</th> <th>bean</th> <th>unabl</th> <th>women</th> <th>maya</th> <th>tommi</th> <th>seventyf</th> <th>curs</th> <th>maintain</th> <th>genesi</th> <th>background</th> <th>dude</th> <th>satellit</th> <th>hour</th> <th>extend</th> <th>transport</th> <th>hull</th> <th>top</th> <th>grief</th> <th>evid</th> <th>gradi</th> <th>onc</th> <th>philadelphia</th> <th>honesti</th> <th>super</th> <th>florida</th> <th>gentleman</th> <th>cannot</th> <th>too</th> <th>fuss</th> <th>hasnt</th> <th>lookin</th> <th>arrang</th> <th>brill</th> <th>sale</th> <th>month</th> <th>intact</th> <th>foolish</th> <th>newspap</th> <th>transit</th> <th>roi</th> <th>whew</th> <th>uwhatu</th> <th>main</th> <th>bat</th> <th>line</th> <th>snake</th> <th>bald</th> <th>cage</th> <th>toward</th> <th>sold</th> <th>till</th> <th>mood</th> <th>warn</th> <th>johnni</th> <th>mustv</th> <th>scream</th> <th>undress</th> <th>absolut</th> <th>flaw</th> <th>bake</th> <th>mmm</th> <th>jerri</th> <th>employe</th> <th>quot</th> <th>waitin</th> <th>benefit</th> <th>werent</th> <th>fulfil</th> <th>plastic</th> <th>tribe</th> <th>yknow</th> <th>hope</th> <th>layer</th> <th>tom</th> <th>reaction</th> <th>san</th> <th>katrina</th> <th>identifi</th> <th>red</th> <th>exorc</th> <th>iron</th> <th>beer</th> <th>santo</th> <th>bruis</th> <th>stab</th> <th>louis</th> <th>agreement</th> <th>coulda</th> <th>film</th> <th>rufu</th> <th>soil</th> <th>playin</th> <th>millionair</th> <th>middl</th> <th>closer</th> <th>spirit</th> <th>accident</th> <th>yer</th> <th>traffic</th> <th>what</th> <th>convict</th> <th>sack</th> <th>examin</th> <th>compound</th> <th>squid</th> <th>gimm</th> <th>fault</th> <th>mysteri</th> <th>sea</th> <th>barbara</th> <th>surpris</th> <th>rm</th> <th>hid</th> <th>sewer</th> <th>kilomet</th> <th>lisa</th> <th>workshop</th> <th>safeti</th> <th>touch</th> <th>jersei</th> <th>frequent</th> <th>enjoi</th> <th>loos</th> <th>homeless</th> <th>ah</th> <th>extens</th> <th>termin</th> <th>level</th> <th>violent</th> <th>rush</th> <th>coordin</th> <th>earli</th> <th>wa</th> <th>dizzi</th> <th>privat</th> <th>gwen</th> <th>suicid</th> <th>headquart</th> <th>educ</th> <th>sort</th> <th>handsom</th> <th>stella</th> <th>ac</th> <th>audit</th> <th>antiqu</th> <th>dot</th> <th>technolog</th> <th>motion</th> <th>hairi</th> <th>site</th> <th>student</th> <th>up</th> <th>either</th> <th>pry</th> <th>conspiraci</th> <th>basi</th> <th>timer</th> <th>heat</th> <th>lawson</th> <th>hear</th> <th>ui</th> <th>fool</th> <th>mere</th> <th>huh</th> <th>donni</th> <th>none</th> <th>fifth</th> <th>becaus</th> <th>lamb</th> <th>interpret</th> <th>increas</th> <th>tower</th> <th>mickei</th> <th>colleagu</th> <th>confer</th> <th>hollow</th> <th>leon</th> <th>thou</th> <th>fran</th> <th>percent</th> <th>six</th> <th>limp</th> <th>arrowai</th> <th>explod</th> <th>friendli</th> <th>breakfast</th> <th>greek</th> <th>need</th> <th>rome</th> <th>beast</th> <th>rehab</th> <th>ben</th> <th>land</th> <th>river</th> <th>frank</th> <th>smash</th> <th>quicker</th> <th>former</th> <th>lower</th> <th>rap</th> <th>nick</th> <th>came</th> <th>hopeless</th> <th>comedian</th> <th>right</th> <th>yall</th> <th>truli</th> <th>not</th> <th>soze</th> <th>forgotten</th> <th>tight</th> <th>pro</th> <th>sona</th> <th>under</th> <th>precis</th> <th>center</th> <th>stiff</th> <th>virtual</th> <th>author</th> <th>dry</th> <th>theyll</th> <th>golden</th> <th>final</th> <th>properli</th> <th>paper</th> <th>older</th> <th>serv</th> <th>dant</th> <th>whistl</th> <th>suffer</th> <th>confid</th> <th>fraud</th> <th>brain</th> <th>minu</th> <th>twentyf</th> <th>cut</th> <th>atmospher</th> <th>bid</th> <th>curv</th> <th>pizza</th> <th>bench</th> <th>tattoo</th> <th>poor</th> <th>enid</th> <th>pink</th> <th>bathroom</th> <th>cramp</th> <th>hill</th> <th>sight</th> <th>patrol</th> <th>niec</th> <th>calib</th> <th>hafta</th> <th>journei</th> <th>poster</th> <th>thruster</th> <th>dela</th> <th>celebr</th> <th>myer</th> <th>ruth</th> <th>suzi</th> <th>bunni</th> <th>male</th> <th>margi</th> <th>bate</th> <th>naw</th> <th>than</th> <th>msieu</th> <th>lone</th> <th>mole</th> <th>briefcas</th> <th>rudi</th> <th>excel</th> <th>madman</th> <th>nazi</th> <th>flop</th> <th>invent</th> <th>signor</th> <th>suggest</th> <th>edward</th> <th>station</th> <th>senat</th> <th>amen</th> <th>hip</th> <th>price</th> <th>awai</th> <th>randal</th> <th>high</th> <th>field</th> <th>spiritu</th> <th>tone</th> <th>citizen</th> <th>stair</th> <th>equal</th> <th>nor</th> <th>sixth</th> <th>gettin</th> <th>ground</th> <th>control</th> <th>awak</th> <th>oak</th> <th>enterpris</th> <th>slightli</th> <th>lee</th> <th>scope</th> <th>holli</th> <th>hunch</th> <th>ethic</th> <th>nasti</th> <th>fall</th> <th>wednesdai</th> <th>gulf</th> <th>dont</th> <th>pictur</th> <th>awar</th> <th>sponsor</th> <th>seattl</th> <th>english</th> <th>introduc</th> <th>health</th> <th>hallucin</th> <th>quickli</th> <th>jacob</th> <th>crew</th> <th>cuervo</th> <th>alabama</th> <th>teresa</th> <th>bain</th> <th>precog</th> <th>brake</th> <th>professor</th> <th>somethin</th> <th>formal</th> <th>unload</th> <th>curiou</th> <th>daddi</th> <th>porch</th> <th>model</th> <th>vehicl</th> <th>wisdom</th> <th>find</th> <th>ruben</th> <th>both</th> <th>report</th> <th>denver</th> <th>helicopt</th> <th>complex</th> <th>neednt</th> <th>be</th> <th>greet</th> <th>spock</th> <th>song</th> <th>bibl</th> <th>lipstick</th> <th>stroke</th> <th>persuad</th> <th>recommend</th> <th>deliveri</th> <th>hors</th> <th>shut</th> <th>zone</th> <th>bomb</th> <th>linda</th> <th>tube</th> <th>gross</th> <th>order</th> <th>dillon</th> <th>action</th> <th>spot</th> <th>resign</th> <th>barn</th> <th>bush</th> <th>itu</th> <th>cry</th> <th>decemb</th> <th>manufactur</th> <th>satisfact</th> <th>fairi</th> <th>excit</th> <th>extraordinari</th> <th>thoma</th> <th>musician</th> <th>black</th> <th>mmmmm</th> <th>fuel</th> <th>board</th> <th>joei</th> <th>detail</th> <th>stewardess</th> <th>hunt</th> <th>mum</th> <th>preacher</th> <th>shown</th> <th>bread</th> <th>mind</th> <th>saint</th> <th>oclock</th> <th>sail</th> <th>stranger</th> <th>smile</th> <th>product</th> <th>rubi</th> <th>disabl</th> <th>question</th> <th>philip</th> <th>exampl</th> <th>freddi</th> <th>stori</th> <th>chariti</th> <th>franklin</th> <th>routin</th> <th>engin</th> <th>lax</th> <th>blade</th> <th>chew</th> <th>buljanoff</th> <th>counselor</th> <th>houston</th> <th>alright</th> <th>support</th> <th>wheelchair</th> <th>goe</th> <th>rachel</th> <th>stuff</th> <th>neck</th> <th>have</th> <th>divis</th> <th>anniversari</th> <th>diamond</th> <th>sparazza</th> <th>try</th> <th>appar</th> <th>joker</th> <th>dentist</th> <th>section</th> <th>gallagh</th> <th>slept</th> <th>bank</th> <th>hurri</th> <th>dure</th> <th>sunni</th> <th>ink</th> <th>vein</th> <th>immigr</th> <th>concentr</th> <th>kat</th> <th>eager</th> <th>don</th> <th>somewher</th> <th>religi</th> <th>pierc</th> <th>bureau</th> <th>theyd</th> <th>mueller</th> <th>familiar</th> <th>bonu</th> <th>austrian</th> <th>violenc</th> <th>produc</th> <th>tonight</th> <th>royal</th> <th>breakin</th> <th>map</th> <th>sayin</th> <th>discuss</th> <th>hed</th> <th>strictli</th> <th>led</th> <th>mile</th> <th>thisll</th> <th>dammit</th> <th>leav</th> <th>dummi</th> <th>reactor</th> <th>sauc</th> <th>rice</th> <th>coupl</th> <th>clever</th> <th>choic</th> <th>chrissak</th> <th>director</th> <th>kastl</th> <th>borg</th> <th>fax</th> <th>brought</th> <th>disturb</th> <th>poison</th> <th>grissom</th> <th>shake</th> <th>corrupt</th> <th>stall</th> <th>sarah</th> <th>starter</th> <th>alik</th> <th>quiet</th> <th>entertain</th> <th>demonstr</th> <th>oxygen</th> <th>asham</th> <th>undercov</th> <th>beef</th> <th>nice</th> <th>televis</th> <th>oscar</th> <th>tourist</th> <th>practic</th> <th>mount</th> <th>swedish</th> <th>compani</th> <th>twenti</th> <th>shall</th> <th>sherman</th> <th>daryl</th> <th>forev</th> <th>crowd</th> <th>tap</th> <th>fix</th> <th>store</th> <th>grail</th> <th>vietnam</th> <th>candl</th> <th>whoop</th> <th>taken</th> <th>end</th> <th>eleph</th> <th>prefer</th> <th>brian</th> <th>lamar</th> <th>ma</th> <th>victoria</th> <th>surviv</th> <th>three</th> <th>bobbi</th> <th>stage</th> <th>steed</th> <th>macfarlan</th> <th>spider</th> <th>trial</th> <th>suprem</th> <th>awfulli</th> <th>foot</th> <th>ar</th> <th>thrown</th> <th>ask</th> <th>cap</th> <th>strang</th> <th>phoenix</th> <th>boot</th> <th>georgia</th> <th>replac</th> <th>reckon</th> <th>divorc</th> <th>arrest</th> <th>horni</th> <th>grandfath</th> <th>problem</th> <th>bust</th> <th>pari</th> <th>roommat</th> <th>consum</th> <th>ag</th> <th>been</th> <th>spaghetti</th> <th>minimum</th> <th>car</th> <th>recruit</th> <th>farm</th> <th>dave</th> <th>tape</th> <th>regular</th> <th>decor</th> <th>shirt</th> <th>multipl</th> <th>mechan</th> <th>effici</th> <th>all</th> <th>thiev</th> <th>pose</th> <th>silenc</th> <th>lenni</th> <th>radiat</th> <th>doesn</th> <th>worri</th> <th>garrison</th> <th>bound</th> <th>superior</th> <th>cure</th> <th>belli</th> <th>mmmm</th> <th>of</th> <th>bride</th> <th>hole</th> <th>toler</th> <th>content</th> <th>applic</th> <th>frequenc</th> <th>sore</th> <th>ranch</th> <th>fair</th> <th>nowher</th> <th>monitor</th> <th>peanut</th> <th>presid</th> <th>cooper</th> <th>speech</th> <th>canyon</th> <th>humili</th> <th>primari</th> <th>anchor</th> <th>everi</th> <th>fiance</th> <th>temporari</th> <th>nyah</th> <th>greenleaf</th> <th>marvel</th> <th>enough</th> <th>extra</th> <th>breast</th> <th>properti</th> <th>social</th> <th>hug</th> <th>tempt</th> <th>dracula</th> <th>richard</th> <th>rob</th> <th>guinea</th> <th>wanna</th> <th>hate</th> <th>dash</th> <th>pull</th> <th>lab</th> <th>disast</th> <th>lobbi</th> <th>plug</th> <th>rear</th> <th>conveni</th> <th>bounti</th> <th>auggi</th> <th>thee</th> <th>proposit</th> <th>jeep</th> <th>pee</th> <th>josephin</th> <th>gestur</th> <th>profil</th> <th>mimi</th> <th>infect</th> <th>coincid</th> <th>mel</th> <th>knock</th> <th>search</th> <th>pan</th> <th>if</th> <th>odd</th> <th>jenni</th> <th>howd</th> <th>simon</th> <th>dodg</th> <th>outfit</th> <th>floor</th> <th>uhh</th> <th>nah</th> <th>jimmi</th> <th>chuck</th> <th>rich</th> <th>emot</th> <th>destruct</th> <th>blue</th> <th>game</th> <th>peculiar</th> <th>internet</th> <th>paranoid</th> <th>paradis</th> <th>deposit</th> <th>look</th> <th>count</th> <th>ooz</th> <th>gale</th> <th>plumb</th> <th>shouldv</th> <th>giant</th> <th>sooz</th> <th>gino</th> <th>waitress</th> <th>conceiv</th> <th>messag</th> <th>door</th> <th>mondai</th> <th>mayor</th> <th>fanci</th> <th>cuba</th> <th>most</th> <th>barrier</th> <th>eject</th> <th>grew</th> <th>alic</th> <th>jazz</th> <th>thread</th> <th>commun</th> <th>treati</th> <th>lieuten</th> <th>tran</th> <th>mackelwai</th> <th>colonel</th> <th>vincent</th> <th>pant</th> <th>simpl</th> <th>shave</th> <th>snoop</th> <th>flower</th> <th>barton</th> <th>trailer</th> <th>towel</th> <th>sheldon</th> <th>comput</th> <th>medic</th> <th>hit</th> <th>grow</th> <th>ventur</th> <th>mistaken</th> <th>difficulti</th> <th>thirtyf</th> <th>pm</th> <th>peter</th> <th>orang</th> <th>kei</th> <th>earl</th> <th>ex</th> <th>vault</th> <th>doe</th> <th>music</th> <th>romanc</th> <th>blanket</th> <th>colleg</th> <th>fog</th> <th>bad</th> <th>novel</th> <th>kidnap</th> <th>consult</th> <th>recogn</th> <th>laugh</th> <th>shooter</th> <th>galaxi</th> <th>paulin</th> <th>procedur</th> <th>seed</th> <th>radioact</th> <th>ars</th> <th>total</th> <th>theater</th> <th>cute</th> <th>iraq</th> <th>net</th> <th>laplant</th> <th>waiter</th> <th>print</th> <th>milo</th> <th>judgment</th> <th>act</th> <th>gone</th> <th>lecter</th> <th>draft</th> <th>build</th> <th>vow</th> <th>steam</th> <th>veteran</th> <th>eighth</th> <th>insect</th> <th>entir</th> <th>hon</th> <th>okai</th> <th>fourteen</th> <th>meet</th> <th>tens</th> <th>doin</th> <th>hat</th> <th>sub</th> <th>counsel</th> <th>channel</th> <th>close</th> <th>daylight</th> <th>loser</th> <th>tend</th> <th>judgement</th> <th>accus</th> <th>coast</th> <th>everywher</th> <th>welli</th> <th>yep</th> <th>label</th> <th>chines</th> <th>kim</th> <th>rather</th> <th>publish</th> <th>neat</th> <th>askin</th> <th>pearl</th> <th>bond</th> <th>labor</th> <th>cover</th> <th>forget</th> <th>warrior</th> <th>asid</th> <th>favor</th> <th>sheep</th> <th>crook</th> <th>imag</th> <th>wimp</th> <th>coach</th> <th>seller</th> <th>impact</th> <th>shoot</th> <th>soda</th> <th>mitch</th> <th>western</th> <th>gift</th> <th>shred</th> <th>compromis</th> <th>fridai</th> <th>scout</th> <th>steve</th> <th>solar</th> <th>evan</th> <th>rule</th> <th>dylan</th> <th>han</th> <th>faith</th> <th>umyu</th> <th>wise</th> <th>tortur</th> <th>girlfriend</th> <th>anywher</th> <th>air</th> <th>murder</th> <th>younger</th> <th>handl</th> <th>albanian</th> <th>laser</th> <th>dull</th> <th>guidanc</th> <th>live</th> <th>dish</th> <th>dancer</th> <th>heh</th> <th>samuel</th> <th>lawn</th> <th>defeat</th> <th>photon</th> <th>mason</th> <th>goal</th> <th>prescott</th> <th>insur</th> <th>deep</th> <th>lugosi</th> <th>singl</th> <th>chancellor</th> <th>avail</th> <th>acknowledg</th> <th>dread</th> <th>manual</th> <th>ll</th> <th>stew</th> <th>pai</th> <th>crawford</th> <th>janet</th> <th>loan</th> <th>rib</th> <th>peel</th> <th>hormon</th> <th>about</th> <th>ohio</th> <th>advisor</th> <th>crusher</th> <th>centuri</th> <th>govern</th> <th>probabl</th> <th>slow</th> <th>homicid</th> <th>shift</th> <th>sentiment</th> <th>sophist</th> <th>mock</th> <th>supper</th> <th>washington</th> <th>inn</th> <th>polici</th> <th>call</th> <th>surgic</th> <th>talent</th> <th>futur</th> <th>appl</th> <th>hiya</th> <th>should</th> <th>hoop</th> <th>joseph</th> <th>uisu</th> <th>unit</th> <th>radar</th> <th>magnific</th> <th>rendezv</th> <th>anxiou</th> <th>featur</th> <th>discov</th> <th>dental</th> <th>legal</th> <th>shuttl</th> <th>word</th> <th>tool</th> <th>deceas</th> <th>consider</th> <th>noon</th> <th>york</th> <th>lauri</th> <th>fell</th> <th>reject</th> <th>ton</th> <th>lead</th> <th>marin</th> <th>name</th> <th>commiss</th> <th>windshield</th> <th>captain</th> <th>winter</th> <th>slap</th> <th>burst</th> <th>mallori</th> <th>goodnight</th> <th>polish</th> <th>letter</th> <th>voyag</th> <th>sandi</th> <th>ta</th> <th>commission</th> <th>joke</th> <th>idea</th> <th>deserv</th> <th>shove</th> <th>rd</th> <th>mistak</th> <th>earthquak</th> <th>worm</th> <th>abil</th> <th>guarante</th> <th>outta</th> <th>mutual</th> <th>prize</th> <th>welcom</th> <th>seventi</th> <th>trunk</th> <th>teas</th> <th>access</th> <th>jacki</th> <th>refresh</th> <th>affirm</th> <th>ill</th> <th>gregor</th> <th>chet</th> <th>complet</th> <th>mill</th> <th>speak</th> <th>whatiya</th> <th>prei</th> <th>fed</th> <th>flash</th> <th>crab</th> <th>wet</th> <th>warm</th> <th>hoover</th> <th>flood</th> <th>regard</th> <th>hamburg</th> <th>anim</th> <th>random</th> <th>lick</th> <th>liabl</th> <th>unknown</th> <th>histori</th> <th>highli</th> <th>fred</th> <th>peggi</th> <th>emerg</th> <th>maid</th> <th>relax</th> <th>whaddya</th> <th>give</th> <th>starfleet</th> <th>rout</th> <th>resourc</th> <th>night</th> <th>statu</th> <th>spare</th> <th>abov</th> <th>save</th> <th>fett</th> <th>goat</th> <th>career</th> <th>van</th> <th>puke</th> <th>disagre</th> <th>reveng</th> <th>femal</th> <th>penni</th> <th>better</th> <th>rex</th> <th>marg</th> <th>but</th> <th>border</th> <th>phil</th> <th>twentyseven</th> <th>sixti</th> <th>delai</th> <th>jewel</th> <th>uiu</th> <th>leash</th> <th>berni</th> <th>nickel</th> <th>aim</th> <th>uyouu</th> <th>advic</th> <th>gold</th> <th>actress</th> <th>whisper</th> <th>goin</th> <th>particularli</th> <th>gossip</th> <th>runnin</th> <th>peni</th> <th>minut</th> <th>scandal</th> <th>awkward</th> <th>crank</th> <th>ev</th> <th>owen</th> <th>diet</th> <th>cargo</th> <th>fashion</th> <th>tale</th> <th>quietli</th> <th>son</th> <th>geek</th> <th>devot</th> <th>madelein</th> <th>luke</th> <th>laval</th> <th>seventeen</th> <th>yourselv</th> <th>sleev</th> <th>robberi</th> <th>debt</th> <th>flow</th> <th>mark</th> <th>subtl</th> <th>symbol</th> <th>prank</th> <th>illus</th> <th>restor</th> <th>catch</th> <th>predat</th> <th>temper</th> <th>globe</th> <th>pacif</th> <th>ethel</th> <th>phaser</th> <th>midnight</th> <th>lock</th> <th>adult</th> <th>brandon</th> <th>kitchen</th> <th>noi</th> <th>toni</th> <th>mo</th> <th>awhil</th> <th>actor</th> <th>length</th> <th>pinch</th> <th>throw</th> <th>tunnel</th> <th>materi</th> <th>function</th> <th>zip</th> <th>visa</th> <th>josh</th> <th>shed</th> <th>crash</th> <th>craig</th> <th>he</th> <th>perri</th> <th>pathet</th> <th>eastern</th> <th>demand</th> <th>sheet</th> <th>data</th> <th>fbi</th> <th>insist</th> <th>regist</th> <th>fame</th> <th>particular</th> <th>upon</th> <th>screen</th> <th>becki</th> <th>ya</th> <th>attornei</th> <th>clai</th> <th>mate</th> <th>interview</th> <th>yard</th> <th>duke</th> <th>footprint</th> <th>user</th> <th>influenc</th> <th>swallow</th> <th>lula</th> <th>plate</th> <th>queen</th> <th>until</th> <th>rode</th> <th>creat</th> <th>disappoint</th> <th>region</th> <th>marcia</th> <th>defens</th> <th>sensit</th> <th>defend</th> <th>miseri</th> <th>take</th> <th>oil</th> <th>holi</th> <th>polit</th> <th>crazi</th> <th>interrupt</th> <th>luca</th> <th>franc</th> <th>pete</th> <th>afternoon</th> <th>distress</th> <th>finder</th> <th>around</th> <th>europ</th> <th>sit</th> <th>follow</th> <th>intellectu</th> <th>tee</th> <th>planet</th> <th>perk</th> <th>dame</th> <th>wife</th> <th>distanc</th> <th>breed</th> <th>height</th> <th>compens</th> <th>storm</th> <th>appoint</th> <th>daphn</th> <th>salesman</th> <th>scoobi</th> <th>distinct</th> <th>alon</th> <th>remot</th> <th>boss</th> <th>pawn</th> <th>wonder</th> <th>easier</th> <th>lt</th> <th>zero</th> <th>stake</th> <th>food</th> <th>forest</th> <th>june</th> <th>pickup</th> <th>sensor</th> <th>choke</th> <th>situat</th> <th>david</th> <th>blackmail</th> <th>atom</th> <th>necessarili</th> <th>albert</th> <th>advantag</th> <th>fli</th> <th>horn</th> <th>metal</th> <th>consequ</th> <th>sloan</th> <th>tragic</th> <th>determin</th> <th>meter</th> <th>toast</th> <th>disguis</th> <th>loud</th> <th>employ</th> <th>xxxxxx</th> <th>cat</th> <th>math</th> <th>sue</th> <th>foul</th> <th>like</th> <th>ferri</th> <th>praetor</th> <th>marri</th> <th>stamp</th> <th>lainei</th> <th>gai</th> <th>potato</th> <th>licens</th> <th>some</th> <th>sylvia</th> <th>tag</th> <th>caught</th> <th>runner</th> <th>unpleas</th> <th>typic</th> <th>dive</th> <th>devic</th> <th>alien</th> <th>deadlin</th> <th>landlord</th> <th>bridg</th> <th>sink</th> <th>affair</th> <th>record</th> <th>thinkin</th> <th>gate</th> <th>austin</th> <th>poker</th> <th>liquor</th> <th>cow</th> <th>run</th> <th>yourself</th> <th>tie</th> <th>slightest</th> <th>businessman</th> <th>martini</th> <th>dell</th> <th>stone</th> <th>iti</th> <th>dri</th> <th>scanner</th> <th>effect</th> <th>appreci</th> <th>shark</th> <th>child</th> <th>bend</th> <th>slice</th> <th>hair</th> <th>patienc</th> <th>ga</th> <th>disco</th> <th>expert</th> <th>implant</th> <th>dealer</th> <th>oooh</th> <th>beavi</th> <th>troubl</th> <th>lesli</th> <th>lectur</th> <th>youd</th> <th>baldwin</th> <th>scienc</th> <th>surg</th> <th>uallu</th> <th>ooh</th> <th>harvard</th> <th>smart</th> <th>statist</th> <th>sheila</th> <th>haul</th> <th>livingston</th> <th>exhaust</th> <th>jail</th> <th>biggest</th> <th>hudsuck</th> <th>rocket</th> <th>trace</th> <th>punish</th> <th>contain</th> <th>twomblei</th> <th>intend</th> <th>flynn</th> <th>describ</th> <th>contract</th> <th>straighten</th> <th>reilli</th> <th>regula</th> <th>tremend</th> <th>love</th> <th>setup</th> <th>enforc</th> <th>castl</th> <th>lousi</th> <th>bloke</th> <th>marietta</th> <th>cooki</th> <th>someon</th> <th>design</th> <th>address</th> <th>knowi</th> <th>award</th> <th>tick</th> <th>unconsci</th> <th>weve</th> <th>cleveland</th> <th>sweeti</th> <th>intellect</th> <th>beard</th> <th>surrend</th> <th>vinci</th> <th>hildi</th> <th>tail</th> <th>dignan</th> <th>moss</th> <th>photo</th> <th>myth</th> <th>tuesdai</th> <th>stress</th> <th>limb</th> <th>wallet</th> <th>tooth</th> <th>bare</th> <th>ten</th> <th>guilti</th> <th>inform</th> <th>list</th> <th>husband</th> <th>visual</th> <th>ross</th> <th>jabez</th> <th>cape</th> <th>atlanta</th> <th>champion</th> <th>valuabl</th> <th>respons</th> <th>addit</th> <th>spike</th> <th>lighten</th> <th>wagon</th> <th>owl</th> <th>dog</th> <th>santa</th> <th>fantasi</th> <th>belt</th> <th>unowu</th> <th>enorm</th> <th>kind</th> <th>light</th> <th>investig</th> <th>lila</th> <th>laundri</th> <th>jessica</th> <th>jodi</th> <th>masturb</th> <th>porter</th> <th>la</th> <th>couldn</th> <th>canada</th> <th>dress</th> <th>port</th> <th>alwai</th> <th>explor</th> <th>bateman</th> <th>governor</th> <th>sat</th> <th>fought</th> <th>perimet</th> <th>wasnt</th> <th>testimoni</th> <th>conklin</th> <th>cart</th> <th>caus</th> <th>number</th> <th>crane</th> <th>loyalti</th> <th>fake</th> <th>puff</th> <th>accompani</th> <th>cultur</th> <th>fenc</th> <th>outa</th> <th>cal</th> <th>whenev</th> <th>roach</th> <th>transmitt</th> <th>fingerprint</th> <th>mail</th> <th>kaufman</th> <th>pole</th> <th>engag</th> <th>plain</th> <th>suppli</th> <th>reserv</th> <th>few</th> <th>sandwich</th> <th>fredo</th> <th>safe</th> <th>hockei</th> <th>hous</th> <th>elain</th> <th>knox</th> <th>oath</th> <th>wander</th> <th>latin</th> <th>same</th> <th>git</th> <th>garbag</th> <th>charg</th> <th>knowledg</th> <th>uknowu</th> <th>veronica</th> <th>john</th> <th>connel</th> <th>anticip</th> <th>drown</th> <th>rose</th> <th>carpet</th> <th>circu</th> <th>sebastian</th> <th>cmere</th> <th>irish</th> <th>robert</th> <th>fork</th> <th>lazi</th> <th>flare</th> <th>bobo</th> <th>guess</th> <th>hippi</th> <th>the</th> <th>specif</th> <th>offici</th> <th>god</th> <th>exhibit</th> <th>madam</th> <th>privileg</th> <th>scrambl</th> <th>con</th> <th>handi</th> <th>rifl</th> <th>peep</th> <th>moron</th> <th>resent</th> <th>lai</th> <th>scotch</th> <th>brenner</th> <th>lake</th> <th>therel</th> <th>gordo</th> <th>everett</th> <th>neural</th> <th>madison</th> <th>realiz</th> <th>georg</th> <th>skate</th> <th>drink</th> <th>goddam</th> <th>anyhow</th> <th>jew</th> <th>popul</th> <th>freedom</th> <th>togeth</th> <th>attempt</th> <th>adel</th> <th>coat</th> <th>mob</th> <th>higher</th> <th>cowboi</th> <th>heel</th> <th>inconveni</th> <th>respond</th> <th>patch</th> <th>mostli</th> <th>fan</th> <th>highwai</th> <th>reason</th> <th>soon</th> <th>helpless</th> <th>then</th> <th>cobb</th> <th>weird</th> <th>parker</th> <th>seen</th> <th>happier</th> <th>roast</th> <th>tip</th> <th>legend</th> <th>behavior</th> <th>secur</th> <th>tatum</th> <th>especi</th> <th>jeez</th> <th>your</th> <th>dispatch</th> <th>heart</th> <th>test</th> <th>webster</th> <th>categori</th> <th>chicken</th> <th>alibi</th> <th>wouldn</th> <th>hyster</th> <th>mankind</th> <th>north</th> <th>kiss</th> <th>mighti</th> <th>levi</th> <th>fond</th> <th>rain</th> <th>obsess</th> <th>michael</th> <th>corleon</th> <th>vision</th> <th>edg</th> <th>command</th> <th>nineti</th> <th>gin</th> <th>nix</th> <th>amus</th> <th>afterward</th> <th>wanta</th> <th>thorwald</th> <th>by</th> <th>rag</th> <th>jack</th> <th>desert</th> <th>maureen</th> <th>own</th> <th>heck</th> <th>walker</th> <th>empti</th> <th>grunemann</th> <th>relief</th> <th>narrow</th> <th>saavik</th> <th>seymour</th> <th>anonym</th> <th>footag</th> <th>territori</th> <th>maniac</th> <th>envelop</th> <th>despis</th> <th>definit</th> <th>return</th> <th>nobodi</th> <th>eventu</th> <th>rita</th> <th>pepper</th> <th>prep</th> <th>stand</th> <th>deepli</th> <th>park</th> <th>aunt</th> <th>youth</th> <th>water</th> <th>els</th> <th>starl</th> <th>allei</th> <th>snow</th> <th>pope</th> <th>wax</th> <th>object</th> <th>basic</th> <th>file</th> <th>dismiss</th> <th>much</th> <th>sometim</th> <th>warrant</th> <th>drama</th> <th>android</th> <th>wast</th> <th>brick</th> <th>restless</th> <th>unusu</th> <th>orbit</th> <th>headach</th> <th>ambul</th> <th>pier</th> <th>talkin</th> <th>instal</th> <th>toss</th> <th>pure</th> <th>maxin</th> <th>canadian</th> <th>amount</th> <th>shatter</th> <th>spoke</th> <th>danc</th> <th>ir</th> <th>proven</th> <th>broke</th> <th>ninotchka</th> <th>lili</th> <th>dat</th> <th>scum</th> <th>psychic</th> <th>guest</th> <th>architect</th> <th>vancouv</th> <th>balconi</th> <th>my</th> <th>resist</th> <th>juic</th> <th>reliabl</th> <th>will</th> <th>launch</th> <th>tire</th> <th>villag</th> <th>ordel</th> <th>broad</th> <th>juri</th> <th>mccoi</th> <th>italian</th> <th>item</th> <th>process</th> <th>sake</th> <th>diseas</th> <th>kelli</th> <th>contest</th> <th>champagn</th> <th>cabinet</th> <th>plead</th> <th>era</th> <th>sergeant</th> <th>nervou</th> <th>imposs</th> <th>cruel</th> <th>claud</th> <th>movi</th> <th>cruis</th> <th>daughter</th> <th>premier</th> <th>law</th> <th>intent</th> <th>liz</th> <th>nake</th> <th>petti</th> <th>mirror</th> <th>ha</th> <th>each</th> <th>never</th> <th>do</th> <th>exact</th> <th>rescu</th> <th>drivin</th> <th>limit</th> <th>ti</th> <th>manag</th> <th>thirsti</th> <th>bargain</th> <th>origin</th> <th>acceler</th> <th>pilot</th> <th>guid</th> <th>mummi</th> <th>mad</th> <th>frighten</th> <th>factori</th> <th>cotton</th> <th>rape</th> <th>chef</th> <th>leg</th> <th>calm</th> <th>fail</th> <th>interior</th> <th>germ</th> <th>inch</th> <th>donald</th> <th>smear</th> <th>berserk</th> <th>finest</th> <th>hard</th> <th>bourn</th> <th>brilliant</th> <th>solv</th> <th>fireman</th> <th>electr</th> <th>moment</th> <th>wound</th> <th>begun</th> <th>while</th> <th>militari</th> <th>scoop</th> <th>saw</th> <th>machin</th> <th>german</th> <th>enemi</th> <th>creatur</th> <th>throat</th> <th>stuf</th> <th>impli</th> <th>burnt</th> <th>mall</th> <th>navi</th> <th>rude</th> <th>lean</th> <th>bullet</th> <th>sissi</th> <th>dough</th> <th>reynold</th> <th>promot</th> <th>burn</th> <th>rise</th> <th>guard</th> <th>deton</th> <th>gloriou</th> <th>confidenti</th> <th>lost</th> <th>desk</th> <th>thin</th> <th>superhero</th> <th>wive</th> <th>pooch</th> <th>col</th> <th>gambl</th> <th>crimin</th> <th>can</th> <th>tiger</th> <th>pair</th> <th>below</th> <th>him</th> <th>un</th> <th>mortgag</th> <th>toto</th> <th>dine</th> <th>gun</th> <th>thirti</th> <th>warp</th> <th>sid</th> <th>standard</th> <th>deliv</th> <th>couldv</th> <th>sandra</th> <th>wide</th> <th>daydai</th> <th>nail</th> <th>novemb</th> <th>speck</th> <th>broken</th> <th>fulli</th> <th>di</th> <th>concept</th> <th>plenti</th> <th>sara</th> <th>toilet</th> <th>smyth</th> <th>dirt</th> <th>skull</th> <th>match</th> <th>win</th> <th>abduct</th> <th>chamber</th> <th>putter</th> <th>advanc</th> <th>baxter</th> <th>group</th> <th>onli</th> <th>commerci</th> <th>uniqu</th> <th>bet</th> <th>back</th> <th>aisl</th> <th>darlin</th> <th>creation</th> <th>target</th> <th>sip</th> <th>sam</th> <th>worker</th> <th>five</th> <th>ladder</th> <th>capit</th> <th>smaller</th> <th>merri</th> <th>won</th> <th>howard</th> <th>eleg</th> <th>bee</th> <th>digit</th> <th>lowel</th> <th>outstand</th> <th>meant</th> <th>precaut</th> <th>degre</th> <th>suspend</th> <th>week</th> <th>evacu</th> <th>wow</th> <th>loui</th> <th>iii</th> <th>per</th> <th>tenth</th> <th>open</th> <th>possibl</th> <th>old</th> <th>primit</th> <th>keyser</th> <th>fianc</th> <th>point</th> <th>bone</th> <th>alreadi</th> <th>straight</th> <th>henri</th> <th>hack</th> <th>rank</th> <th>scott</th> <th>fold</th> <th>nothin</th> <th>kendal</th> <th>bar</th> <th>ant</th> <th>meredith</th> <th>musta</th> <th>dollar</th> <th>retard</th> <th>volum</th> <th>ocean</th> <th>acquaint</th> <th>jon</th> <th>dozen</th> <th>treat</th> <th>fund</th> <th>crush</th> <th>accomplish</th> <th>cabl</th> <th>stock</th> <th>pig</th> <th>recent</th> <th>ed</th> <th>escort</th> <th>east</th> <th>vodka</th> <th>natur</th> <th>fella</th> <th>missil</th> <th>ancient</th> <th>how</th> <th>rumor</th> <th>torn</th> <th>palei</th> <th>well</th> <th>fear</th> <th>detroit</th> <th>civil</th> <th>current</th> <th>advis</th> <th>elect</th> <th>pill</th> <th>artist</th> <th>bastaldi</th> <th>market</th> <th>symptom</th> <th>therapi</th> <th>toi</th> <th>scumbag</th> <th>satan</th> <th>ouch</th> <th>jeff</th> <th>cemeteri</th> <th>sorta</th> <th>deni</th> <th>sister</th> <th>givin</th> <th>boi</th> <th>closest</th> <th>mission</th> <th>stabil</th> <th>identif</th> <th>set</th> <th>rebel</th> <th>salli</th> <th>joint</th> <th>zoo</th> <th>version</th> <th>camper</th> <th>directli</th> <th>kid</th> <th>jim</th> <th>viru</th> <th>desir</th> <th>tide</th> <th>cell</th> <th>mulwrai</th> <th>sod</th> <th>domini</th> <th>dealt</th> <th>pane</th> <th>trade</th> <th>spose</th> <th>eleanor</th> <th>someth</th> <th>milk</th> <th>honestli</th> <th>sap</th> <th>graham</th> <th>tune</th> <th>secretari</th> <th>chao</th> <th>backup</th> <th>freez</th> <th>obvious</th> <th>believ</th> <th>delmar</th> <th>sting</th> <th>happiest</th> <th>broadcast</th> <th>haunt</th> <th>haven</th> <th>kong</th> <th>gonna</th> <th>without</th> <th>lip</th> <th>spill</th> <th>psychiatrist</th> <th>suddenli</th> <th>realli</th> <th>byeby</th> <th>coffe</th> <th>opinion</th> <th>borrow</th> <th>lechter</th> <th>cuff</th> <th>overload</th> <th>attract</th> <th>rid</th> <th>bertrand</th> <th>mordechai</th> <th>amanda</th> <th>nicknam</th> <th>gather</th> <th>mr</th> <th>miss</th> <th>fascin</th> <th>hound</th> <th>lid</th> <th>joi</th> <th>weak</th> <th>though</th> <th>alfr</th> <th>comfort</th> <th>ich</th> <th>gallon</th> <th>narcot</th> <th>evelyn</th> <th>duck</th> <th>bucket</th> <th>cabin</th> <th>settlement</th> <th>send</th> <th>milli</th> <th>israel</th> <th>alcohol</th> <th>suspect</th> <th>robinson</th> <th>doug</th> <th>alan</th> <th>sleepi</th> <th>adventur</th> <th>ridicul</th> <th>crabtre</th> <th>lawyer</th> <th>reward</th> <th>cloth</th> <th>riot</th> <th>seek</th> <th>other</th> <th>pet</th> <th>everyth</th> <th>found</th> <th>basketbal</th> <th>liar</th> <th>wouldnt</th> <th>fit</th> <th>stop</th> <th>cleaner</th> <th>paul</th> <th>execut</th> <th>alpha</th> <th>movement</th> <th>cheek</th> <th>recov</th> <th>phillip</th> <th>seem</th> <th>leo</th> <th>rand</th> <th>bright</th> <th>moon</th> <th>fallen</th> <th>prayer</th> <th>betti</th> <th>fantast</th> <th>theyv</th> <th>drove</th> <th>turkei</th> <th>modern</th> <th>edi</th> <th>jonah</th> <th>exagger</th> <th>mine</th> <th>envi</th> <th>big</th> <th>krueger</th> <th>faster</th> <th>alli</th> <th>fine</th> <th>iraqi</th> <th>appear</th> <th>independ</th> <th>poni</th> <th>invest</th> <th>hooker</th> <th>dictat</th> <th>medicin</th> <th>honei</th> <th>shine</th> <th>comedi</th> <th>unou</th> <th>who</th> <th>late</th> <th>boost</th> <th>gentli</th> <th>sun</th> <th>dunno</th> <th>improv</th> <th>chairman</th> <th>honest</th> <th>shout</th> <th>invas</th> <th>hadnt</th> <th>fox</th> <th>powder</th> <th>quick</th> <th>breaker</th> <th>breach</th> <th>dope</th> <th>frustrat</th> <th>cent</th> <th>long</th> <th>interest</th> <th>freak</th> <th>marsh</th> <th>maria</th> <th>shhhh</th> <th>cloak</th> <th>solid</th> <th>id.1</th> <th>nobl</th> <th>swing</th> <th>evalu</th> <th>member</th> <th>skunk</th> <th>zira</th> <th>conduct</th> <th>buyer</th> <th>instanc</th> <th>financ</th> <th>protest</th> <th>karl</th> <th>dent</th> <th>jake</th> <th>goofi</th> <th>au</th> <th>plu</th> <th>ahead</th> <th>possess</th> <th>prototyp</th> <th>whatd</th> <th>road</th> <th>fifti</th> <th>down</th> <th>viciou</th> <th>destin</th> <th>ride</th> <th>hmm</th> <th>democrat</th> <th>daili</th> <th>remov</th> <th>catherin</th> <th>unlock</th> <th>hot</th> <th>yuh</th> <th>lewi</th> <th>concern</th> <th>mouth</th> <th>didn</th> <th>merci</th> <th>lotta</th> <th>sacrific</th> <th>chekov</th> <th>rock</th> <th>instead</th> <th>egon</th> <th>sank</th> <th>probe</th> <th>pit</th> <th>rest</th> <th>confront</th> <th>magic</th> <th>mean</th> <th>similar</th> <th>itd</th> <th>flesh</th> <th>bunch</th> <th>donut</th> <th>soldier</th> <th>dork</th> <th>short</th> <th>innoc</th> <th>fight</th> <th>grai</th> <th>bout</th> <th>befor</th> <th>encount</th> <th>lombardo</th> <th>arriv</th> <th>date</th> <th>worn</th> <th>frankenstein</th> <th>budget</th> <th>gag</th> <th>part</th> <th>forgot</th> <th>blake</th> <th>himself</th> <th>facil</th> <th>thousand</th> <th>frankli</th> <th>whatcha</th> <th>struggl</th> <th>lad</th> <th>a</th> <th>resid</th> <th>salad</th> <th>told</th> <th>brother</th> <th>rmph</th> <th>which</th> <th>philosoph</th> <th>clear</th> <th>cracker</th> <th>zavitz</th> <th>tell</th> <th>conclus</th> <th>collin</th> <th>shhh</th> <th>tickl</th> <th>delus</th> <th>ship</th> <th>band</th> <th>naiv</th> <th>sever</th> <th>wreck</th> <th>torch</th> <th>gym</th> <th>bang</th> <th>man</th> <th>aid</th> <th>purchas</th> <th>review</th> <th>lantern</th> <th>new</th> <th>nunez</th> <th>wish</th> <th>nest</th> <th>fortun</th> <th>bud</th> <th>excus</th> <th>rattl</th> <th>knight</th> <th>broadwai</th> <th>destini</th> <th>smell</th> <th>rick</th> <th>mommi</th> <th>klingon</th> <th>staci</th> <th>calcul</th> <th>signific</th> <th>arrog</th> <th>mac</th> <th>offic</th> <th>pitch</th> <th>detect</th> <th>hood</th> <th>relationship</th> <th>sunshin</th> <th>arlyn</th> <th>gentl</th> <th>heard</th> <th>babe</th> <th>beg</th> <th>princess</th> <th>memphi</th> <th>addict</th> <th>incid</th> <th>reput</th> <th>forth</th> <th>club</th> <th>theme</th> <th>anthoni</th> <th>corn</th> <th>suitcas</th> <th>went</th> <th>worthi</th> <th>jessi</th> <th>announc</th> <th>panic</th> <th>pleasant</th> <th>bath</th> <th>pauli</th> <th>sampl</th> <th>policeman</th> <th>co</th> <th>sonni</th> <th>gave</th> <th>weigh</th> <th>attic</th> <th>incident</th> <th>quarantin</th> <th>got</th> <th>napkin</th> <th>chair</th> <th>grandmoth</th> <th>theft</th> <th>disord</th> <th>blame</th> <th>stronger</th> <th>perform</th> <th>absurd</th> <th>mitchel</th> <th>cab</th> <th>mutant</th> <th>corbett</th> <th>travi</th> <th>erica</th> <th>pressur</th> <th>larg</th> <th>toddi</th> <th>gum</th> <th>trap</th> <th>twelv</th> <th>treatment</th> <th>xrai</th> <th>callin</th> <th>rope</th> <th>japan</th> <th>pot</th> <th>method</th> <th>enter</th> <th>confess</th> <th>killer</th> <th>constantli</th> <th>scar</th> <th>concert</th> <th>thirteen</th> <th>debbi</th> <th>knot</th> <th>pension</th> <th>bob</th> <th>home</th> <th>walt</th> <th>troi</th> <th>argument</th> <th>desper</th> <th>jeremi</th> <th>epp</th> <th>havent</th> <th>ugh</th> <th>dewei</th> <th>dumb</th> <th>deputi</th> <th>phone</th> <th>worf</th> <th>spook</th> <th>avenu</th> <th>hm</th> <th>keep</th> <th>happen</th> <th>plane</th> <th>cartel</th> <th>brush</th> <th>betrai</th> <th>geez</th> <th>spark</th> <th>tryin</th> <th>injur</th> <th>lauren</th> <th>jam</th> <th>jill</th> <th>mikei</th> <th>cocain</th> <th>drop</th> <th>harri</th> <th>paus</th> <th>space</th> <th>sound</th> <th>julia</th> <th>warehous</th> <th>remark</th> <th>rum</th> <th>snap</th> <th>meantim</th> <th>candi</th> <th>proper</th> <th>realist</th> <th>arthur</th> <th>sh</th> <th>survivor</th> <th>teeth</th> <th>de</th> <th>sens</th> <th>maneuv</th> <th>poetri</th> <th>overnight</th> <th>bow</th> <th>dalla</th> <th>discharg</th> <th>bill</th> <th>fly</th> <th>realiti</th> <th>compar</th> <th>upstair</th> <th>pritchett</th> <th>terrif</th> <th>anoth</th> <th>kiddin</th> <th>unfair</th> <th>brace</th> <th>chimera</th> <th>feather</th> <th>regul</th> <th>hump</th> <th>thank</th> <th>matur</th> <th>valu</th> <th>even</th> <th>shoulder</th> <th>booth</th> <th>ribbon</th> <th>ceas</th> <th>base</th> <th>dan</th> <th>smokei</th> <th>coup</th> <th>thick</th> <th>bui</th> <th>stud</th> <th>scenario</th> <th>laid</th> <th>mexican</th> <th>prior</th> <th>bra</th> <th>leader</th> <th>charli</th> <th>fairli</th> <th>nurs</th> <th>ahhh</th> <th>texa</th> <th>lui</th> <th>except</th> <th>august</th> <th>sittin</th> <th>bait</th> <th>power</th> <th>kansa</th> <th>scotti</th> <th>swipe</th> <th>videotap</th> <th>opposit</th> <th>expand</th> <th>neighborhood</th> <th>out</th> <th>melt</th> <th>difficult</th> <th>crow</th> <th>occup</th> <th>swine</th> <th>expens</th> <th>brad</th> <th>balanc</th> <th>tension</th> <th>smarter</th> <th>team</th> <th>salari</th> <th>expos</th> <th>incom</th> <th>special</th> <th>thea</th> <th>needl</th> <th>aggress</th> <th>necessari</th> <th>burk</th> <th>uniform</th> <th>crawl</th> <th>hundr</th> <th>radio</th> <th>into</th> <th>singer</th> <th>explan</th> <th>sollozzo</th> <th>beauti</th> <th>whole</th> <th>attach</th> <th>bleed</th> <th>card</th> <th>longer</th> <th>good</th> <th>draw</th> <th>rate</th> <th>enlighten</th> <th>startin</th> <th>demon</th> <th>street</th> <th>thatll</th> <th>convers</th> <th>nerv</th> <th>telegram</th> <th>therer</th> <th>stan</th> <th>momma</th> <th>nightmar</th> <th>combat</th> <th>brand</th> <th>greatest</th> <th>color</th> <th>sourc</th> <th>swap</th> <th>preciou</th> <th>greas</th> <th>manipul</th> <th>blood</th> <th>batman</th> <th>hitler</th> <th>visit</th> <th>india</th> <th>poke</th> <th>baltimor</th> <th>tear</th> <th>fate</th> <th>cours</th> <th>stu</th> <th>vampir</th> <th>vessel</th> <th>creep</th> <th>margaret</th> <th>bigger</th> <th>error</th> <th>repair</th> <th>grab</th> <th>nope</th> <th>period</th> <th>construct</th> <th>email</th> <th>shinzon</th> <th>activ</th> <th>bradi</th> <th>sprai</th> <th>steel</th> <th>shack</th> <th>til</th> <th>woodi</th> <th>roman</th> <th>risk</th> <th>peach</th> <th>instruct</th> <th>plagu</th> <th>provid</th> <th>grandma</th> <th>tough</th> <th>schmuck</th> <th>souvenir</th> <th>stain</th> <th>wine</th> <th>carla</th> <th>mckenna</th> <th>rexroth</th> <th>spend</th> <th>i</th> <th>susi</th> <th>brodi</th> <th>far</th> <th>sweater</th> <th>appeal</th> <th>vibe</th> <th>poet</th> <th>oz</th> <th>finch</th> <th>busi</th> <th>perfect</th> <th>boyfriend</th> <th>lemon</th> <th>hand</th> <th>charm</th> <th>sustain</th> <th>retain</th> <th>continu</th> <th>hammer</th> <th>ripper</th> <th>personnel</th> <th>beaten</th> <th>remind</th> <th>joan</th> <th>witch</th> <th>second</th> <th>impress</th> <th>hint</th> <th>avoid</th> <th>billi</th> <th>wipe</th> <th>calvin</th> <th>shrink</th> <th>darn</th> <th>is</th> <th>show</th> <th>first</th> <th>intellig</th> <th>kit</th> <th>collar</th> <th>bundi</th> <th>feel</th> <th>martha</th> <th>fortyeight</th> <th>franki</th> <th>rehears</th> <th>reunion</th> <th>previou</th> <th>fire</th> <th>specimen</th> <th>exactli</th> <th>gotta</th> <th>claric</th> <th>you</th> <th>psychot</th> <th>liberti</th> <th>ever</th> <th>indian</th> <th>karen</th> <th>ear</th> <th>uncl</th> <th>mar</th> <th>surround</th> <th>wood</th> <th>airport</th> <th>jean</th> <th>prescript</th> <th>occupi</th> <th>slave</th> <th>yup</th> <th>cri</th> <th>threw</th> <th>extort</th> <th>cheap</th> <th>melvin</th> <th>strain</th> <th>solut</th> <th>skye</th> <th>packag</th> <th>young</th> <th>agre</th> <th>purs</th> <th>puppet</th> <th>clearli</th> <th>ellen</th> <th>serious</th> <th>applejack</th> <th>threaten</th> <th>swear</th> <th>journalist</th> <th>beth</th> <th>feelin</th> <th>danni</th> <th>hmmm</th> <th>stomach</th> <th>certif</th> <th>them</th> <th>wigand</th> <th>electron</th> <th>surfac</th> <th>op</th> <th>edit</th> <th>backward</th> <th>buckaroo</th> <th>fare</th> <th>mhm</th> <th>cynic</th> <th>fee</th> <th>blown</th> <th>workin</th> <th>eric</th> <th>gear</th> <th>chill</th> <th>public</th> <th>elizabeth</th> <th>dy</th> <th>great</th> <th>load</th> <th>melani</th> <th>unless</th> <th>mora</th> <th>nativ</th> <th>gene</th> <th>wind</th> <th>code</th> <th>bribe</th> <th>dieter</th> <th>boil</th> <th>deliber</th> <th>ritual</th> <th>dolor</th> <th>pride</th> <th>molli</th> <th>felt</th> <th>oswald</th> <th>drank</th> <th>el</th> <th>soap</th> <th>suck</th> <th>psycho</th> <th>prom</th> <th>dig</th> <th>sword</th> <th>exchang</th> <th>duti</th> <th>parti</th> <th>juliet</th> <th>seventh</th> <th>given</th> <th>hawk</th> <th>fry</th> <th>thei</th> <th>vinc</th> <th>notion</th> <th>consid</th> <th>upset</th> <th>ve</th> <th>yeah</th> <th>compet</th> <th>ticket</th> <th>doom</th> <th>ski</th> <th>courthous</th> <th>alert</th> <th>tan</th> <th>nam</th> <th>posit</th> <th>urgent</th> <th>tast</th> <th>makeup</th> <th>parol</th> <th>schwartz</th> <th>doctor</th> <th>aw</th> <th>christ</th> <th>scari</th> <th>walkin</th> <th>wrist</th> <th>cattl</th> <th>truck</th> <th>eighteen</th> <th>ethan</th> <th>idiot</th> <th>hotel</th> <th>hook</th> <th>notic</th> <th>heali</th> <th>benjamin</th> <th>octob</th> <th>ought</th> <th>isnt</th> <th>drew</th> <th>whether</th> <th>seat</th> <th>matter</th> <th>er</th> <th>int</th> <th>arent</th> <th>aubrei</th> <th>lookout</th> <th>gabe</th> <th>cliff</th> <th>hail</th> <th>horribl</th> <th>heaven</th> <th>hospit</th> <th>whatsoev</th> <th>supernatur</th> <th>lot</th> <th>establish</th> <th>select</th> <th>motor</th> <th>brenda</th> <th>guilt</th> <th>glori</th> <th>move</th> <th>rage</th> <th>decent</th> <th>religion</th> <th>pillow</th> <th>sincer</th> <th>steven</th> <th>winston</th> <th>arm</th> <th>system</th> <th>score</th> <th>isn</th> <th>wallac</th> <th>lane</th> <th>burger</th> <th>bowl</th> <th>umeu</th> <th>journal</th> <th>lonnegan</th> <th>teddi</th> <th>pd</th> <th>trooper</th> <th>puppi</th> <th>prosecut</th> <th>badli</th> <th>thought</th> <th>troop</th> <th>forti</th> <th>highest</th> <th>dust</th> <th>begin</th> <th>lapd</th> <th>priest</th> <th>turk</th> <th>hawaii</th> <th>amateur</th> <th>honor</th> <th>ap</th> <th>lodg</th> <th>lombard</th> <th>academi</th> <th>gibson</th> <th>injuri</th> <th>wha</th> <th>therefor</th> <th>victor</th> <th>profess</th> <th>strike</th> <th>deed</th> <th>grand</th> <th>penthous</th> <th>yellow</th> <th>insult</th> <th>genuin</th> <th>ward</th> <th>mi</th> <th>stolen</th> <th>banana</th> <th>speed</th> <th>piec</th> <th>born</th> <th>oughta</th> <th>hacker</th> <th>stream</th> <th>smith</th> <th>choir</th> <th>variou</th> <th>weed</th> <th>boundari</th> <th>panti</th> <th>accord</th> <th>best</th> <th>condom</th> <th>whatll</th> <th>carlo</th> <th>promis</th> <th>barrett</th> <th>pentagon</th> <th>sooner</th> <th>nexu</th> <th>bloodi</th> <th>said</th> <th>mississippi</th> <th>legitim</th> <th>syndrom</th> <th>repli</th> <th>purpl</th> <th>break</th> <th>wash</th> <th>motel</th> <th>wrap</th> <th>fifteen</th> <th>sell</th> <th>bravo</th> <th>world</th> <th>beaumont</th> <th>switch</th> <th>adrian</th> <th>after</th> <th>vanish</th> <th>window</th> <th>interfer</th> <th>countri</th> <th>wretch</th> <th>sugar</th> <th>captur</th> <th>wed</th> <th>adrenalin</th> <th>dorothi</th> <th>jude</th> <th>gorgeou</th> <th>corneliu</th> <th>flip</th> <th>beyond</th> <th>mix</th> <th>bandit</th> <th>rabbit</th> <th>rare</th> <th>cecil</th> <th>belong</th> <th>collaps</th> <th>resort</th> <th>cuz</th> <th>trevor</th> <th>lovebird</th> <th>express</th> <th>dutch</th> <th>scare</th> <th>kept</th> <th>stephani</th> <th>signatur</th> <th>warren</th> <th>battl</th> <th>insight</th> <th>next</th> <th>lamp</th> <th>trail</th> <th>kent</th> <th>forg</th> <th>ran</th> <th>proce</th> <th>shade</th> <th>asylum</th> <th>kubelik</th> <th>vallen</th> <th>in</th> <th>everyon</th> <th>kidnei</th> <th>hostil</th> <th>pie</th> <th>written</th> <th>bye</th> <th>refer</th> <th>explos</th> <th>tucker</th> <th>swayzak</th> <th>lord</th> <th>room</th> <th>split</th> <th>udou</th> <th>whack</th> <th>lo</th> <th>drawer</th> <th>wild</th> <th>hire</th> <th>among</th> <th>disgust</th> <th>pocket</th> <th>margo</th> <th>ignor</th> <th>goodlook</th> <th>claim</th> <th>approach</th> <th>fruit</th> <th>raid</th> <th>phrase</th> <th>luck</th> <th>kevin</th> <th>autograph</th> <th>core</th> <th>download</th> <th>evil</th> <th>strand</th> <th>woulda</th> <th>branch</th> <th>ghost</th> <th>pack</th> <th>robber</th> <th>dime</th> <th>angri</th> <th>ju</th> <th>uyouru</th> <th>drill</th> <th>preserv</th> <th>serial</th> <th>option</th> <th>oldest</th> <th>pattern</th> <th>herb</th> <th>row</th> <th>ball</th> <th>equip</th> <th>drift</th> <th>mike</th> <th>tyler</th> <th>choos</th> <th>nag</th> <th>bookstor</th> <th>happi</th> <th>haircut</th> <th>candid</th> <th>tim</th> <th>friend</th> <th>sneak</th> <th>those</th> <th>wayn</th> <th>straw</th> <th>cynthia</th> <th>ad</th> <th>two</th> <th>eyebal</th> <th>carv</th> <th>overlook</th> <th>contractor</th> <th>languag</th> <th>fortyf</th> <th>admit</th> <th>slight</th> <th>popular</th> <th>compliment</th> <th>del</th> <th>listen</th> <th>mess</th> <th>free</th> <th>keen</th> <th>noth</th> <th>acquir</th> <th>earlier</th> <th>bluff</th> <th>twentyfour</th> <th>steak</th> <th>california</th> <th>dial</th> <th>industri</th> <th>hopefulli</th> <th>probli</th> <th>certainli</th> <th>magnet</th> <th>mobil</th> <th>elvi</th> <th>parlor</th> <th>utah</th> <th>we</th> <th>phoni</th> <th>sec</th> <th>fellow</th> <th>eagl</th> <th>achiev</th> <th>denni</th> <th>head</th> <th>bore</th> <th>dyou</th> <th>junior</th> <th>bite</th> <th>through</th> <th>grenad</th> <th>phase</th> <th>fabul</th> <th>diplomat</th> <th>wrong</th> <th>itll</th> <th>again</th> <th>dock</th> <th>bear</th> <th>minor</th> <th>white</th> <th>environ</th> <th>patient</th> <th>mug</th> <th>lighthous</th> <th>upsid</th> <th>nasal</th> <th>navig</th> <th>sad</th> <th>research</th> <th>case</th> <th>gu</th> <th>brutal</th> <th>aint</th> <th>sinc</th> <th>nichola</th> <th>intrud</th> <th>dare</th> <th>were</th> <th>import</th> <th>pi</th> <th>babysit</th> <th>race</th> <th>oh</th> <th>flag</th> <th>shaw</th> <th>teacher</th> <th>pimp</th> <th>diego</th> <th>victim</th> <th>anymor</th> <th>round</th> <th>rough</th> <th>occas</th> <th>sulu</th> <th>woke</th> <th>chose</th> <th>convent</th> <th>prioriti</th> <th>treadston</th> <th>drag</th> <th>maud</th> <th>monster</th> <th>ic</th> <th>or</th> <th>gener</th> <th>penguin</th> <th>earth</th> <th>dc</th> <th>cave</th> <th>fleet</th> <th>wrote</th> <th>goddammit</th> <th>venic</th> <th>wade</th> <th>spoken</th> <th>unfortun</th> <th>campaign</th> <th>fever</th> <th>marcu</th> <th>almost</th> <th>these</th> <th>sick</th> <th>reach</th> <th>screw</th> <th>grace</th> <th>anyth</th> <th>empir</th> <th>rack</th> <th>nell</th> <th>divin</th> <th>violet</th> <th>sing</th> <th>friendship</th> <th>loomi</th> <th>basebal</th> <th>stood</th> <th>clark</th> <th>bottl</th> <th>marylin</th> <th>sin</th> <th>juli</th> <th>halfwai</th> <th>spanish</th> <th>hannah</th> <th>shower</th> <th>murphi</th> <th>pal</th> <th>why</th> <th>leagu</th> <th>our</th> <th>die</th> <th>glad</th> <th>depart</th> <th>mightv</th> <th>deborah</th> <th>spent</th> <th>heather</th> <th>grant</th> <th>delici</th> <th>bloom</th> <th>halloween</th> <th>selfish</th> <th>mack</th> <th>pleas</th> <th>later</th> <th>tomb</th> <th>veri</th> <th>al</th> <th>filthi</th> <th>bein</th> <th>cream</th> <th>invit</th> <th>ay</th> <th>mountain</th> <th>tax</th> <th>liquid</th> <th>suffici</th> <th>start</th> <th>particl</th> <th>taught</th> <th>worthless</th> <th>caitlin</th> <th>paperwork</th> <th>duffi</th> <th>fade</th> <th>lothar</th> <th>courag</th> <th>puls</th> <th>fighter</th> <th>galleri</th> <th>restaur</th> <th>sky</th> <th>hollywood</th> <th>accept</th> <th>trip</th> <th>grid</th> <th>vigo</th> <th>cellar</th> <th>urg</th> <th>recal</th> <th>task</th> <th>nose</th> <th>circul</th> <th>sperm</th> <th>experi</th> <th>rust</th> <th>thirtyseven</th> <th>lame</th> <th>editor</th> <th>univers</th> <th>children</th> <th>slug</th> <th>ration</th> <th>adam</th> <th>mailbox</th> <th>twentytwo</th> <th>reveal</th> <th>eat</th> <th>tobacco</th> <th>schuyler</th> <th>widow</th> <th>forgiv</th> <th>punch</th> <th>transfer</th> <th>humor</th> <th>thrill</th> <th>jewish</th> <th>elbow</th> <th>teach</th> <th>flush</th> <th>pace</th> <th>copi</th> <th>locat</th> <th>senior</th> <th>mantan</th> <th>auto</th> <th>chemistri</th> <th>bolt</th> <th>steadi</th> <th>kick</th> <th>ego</th> <th>underneath</th> <th>approv</th> <th>cloud</th> <th>studi</th> <th>hunter</th> <th>clue</th> <th>roof</th> <th>french</th> <th>billion</th> <th>streak</th> <th>chauncei</th> <th>judi</th> <th>cost</th> <th>campbel</th> <th>contrari</th> <th>bought</th> <th>negro</th> <th>seein</th> <th>area</th> <th>testifi</th> <th>remain</th> <th>summer</th> <th>dunbar</th> <th>racket</th> <th>no</th> <th>decis</th> <th>gardin</th> <th>miami</th> <th>dark</th> <th>bird</th> <th>reverend</th> <th>loyal</th> <th>clair</th> <th>master</th> <th>finger</th> <th>stink</th> <th>expedit</th> <th>skip</th> <th>pardon</th> <th>jone</th> <th>fals</th> <th>toe</th> <th>gal</th> <th>might</th> <th>approxim</th> <th>norvil</th> <th>sheriff</th> <th>behav</th> <th>punk</th> <th>uareu</th> <th>inde</th> <th>maximum</th> <th>vernon</th> <th>hide</th> <th>hampshir</th> <th>put</th> <th>shh</th> <th>program</th> <th>plan</th> <th>scratch</th> <th>ban</th> <th>adopt</th> <th>ninth</th> <th>gui</th> <th>physic</th> <th>enhanc</th> <th>dead</th> <th>bounc</th> <th>perspect</th> <th>column</th> <th>refus</th> <th>knife</th> <th>dragon</th> <th>caesar</th> <th>spacecraft</th> <th>step</th> <th>genet</th> <th>bowler</th> <th>driver</th> <th>result</th> <th>bishop</th> <th>crime</th> <th>ram</th> <th>howr</th> <th>st</th> <th>memori</th> <th>dana</th> <th>upper</th> <th>front</th> <th>twice</th> <th>susan</th> <th>whoever</th> <th>know</th> <th>actual</th> <th>war</th> <th>egg</th> <th>johnson</th> <th>island</th> <th>pervert</th> <th>muscl</th> <th>darryl</th> <th>umm</th> <th>fourth</th> <th>fresh</th> <th>recept</th> <th>crack</th> <th>vote</th> <th>betcha</th> <th>skywir</th> <th>donovan</th> <th>societi</th> <th>uncomfort</th> <th>commit</th> <th>mai</th> <th>april</th> <th>purpos</th> <th>stare</th> <th>common</th> <th>campu</th> <th>mask</th> <th>opera</th> <th>kennedi</th> <th>bree</th> <th>acm</th> <th>dug</th> <th>climb</th> <th>chicago</th> <th>ey</th> <th>pinta</th> <th>lack</th> <th>hung</th> <th>camp</th> <th>clinic</th> <th>spat</th> <th>uthisu</th> <th>sock</th> <th>dawson</th> <th>museum</th> <th>vacuum</th> <th>leap</th> <th>romulan</th> <th>soviet</th> <th>freewai</th> <th>half</th> <th>profit</th> <th>iri</th> <th>real</th> <th>client</th> <th>an</th> <th>dynamit</th> <th>eugen</th> <th>nuke</th> <th>robin</th> <th>rub</th> <th>gloria</th> <th>becam</th> <th>deceiv</th> <th>distract</th> <th>matthew</th> <th>ken</th> <th>where</th> <th>america</th> <th>bela</th> <th>often</th> <th>sox</th> <th>dear</th> <th>partner</th> <th>devil</th> <th>harm</th> <th>shotgun</th> <th>adjust</th> <th>scheme</th> <th>let</th> <th>trash</th> <th>sherri</th> <th>script</th> <th>join</th> <th>clock</th> <th>allison</th> <th>confirm</th> <th>clau</th> <th>probat</th> <th>rhyme</th> <th>whale</th> <th>nsa</th> <th>gruner</th> <th>somedai</th> <th>tripl</th> <th>forward</th> <th>pool</th> <th>flat</th> <th>sole</th> <th>american</th> <th>pentang</th> <th>grown</th> <th>frederick</th> <th>perfectli</th> <th>potenti</th> <th>mccaffrei</th> <th>form</th> <th>nap</th> <th>slide</th> <th>elev</th> <th>thelma</th> <th>fink</th> <th>pumpkin</th> <th>lilli</th> <th>farewel</th> <th>swann</th> <th>meal</th> <th>fergu</th> <th>mention</th> <th>cant</th> <th>pain</th> <th>tri</th> <th>ok</th> <th>crisi</th> <th>jose</th> <th>would</th> <th>beach</th> <th>size</th> <th>angel</th> <th>cancel</th> <th>tuck</th> <th>cook</th> <th>began</th> <th>pregnanc</th> <th>king</th> <th>finish</th> <th>automat</th> <th>overwhelm</th> <th>fast</th> <th>intens</th> <th>translat</th> <th>sucker</th> <th>etern</th> <th>still</th> <th>beneath</th> <th>funer</th> <th>immedi</th> <th>prai</th> <th>theatr</th> <th>ceremoni</th> <th>pregnant</th> <th>capac</th> <th>dya</th> <th>killain</th> <th>maroon</th> <th>sammi</th> <th>gordon</th> <th>bother</th> <th>hah</th> <th>cartman</th> <th>crude</th> <th>bedroom</th> <th>mustang</th> <th>offer</th> <th>path</th> <th>doyl</th> <th>viktor</th> <th>iim</th> <th>buff</th> <th>disk</th> <th>birthdai</th> <th>kilo</th> <th>lap</th> <th>am</th> <th>poem</th> <th>least</th> <th>pick</th> <th>pad</th> <th>slowli</th> <th>garag</th> <th>person</th> <th>permit</th> <th>further</th> <th>connect</th> <th>surgeon</th> <th>freezer</th> <th>obviou</th> <th>dinosaur</th> <th>audrei</th> <th>furnitur</th> <th>scientist</th> <th>roll</th> <th>collect</th> <th>chat</th> <th>attend</th> <th>document</th> <th>chapter</th> <th>death</th> <th>venkman</th> <th>fingernail</th> <th>sweet</th> <th>ol</th> <th>stalk</th> <th>salt</th> <th>tobi</th> <th>camera</th> <th>entri</th> <th>congratul</th> <th>inspir</th> <th>jackson</th> <th>simul</th> <th>friedman</th> <th>pale</th> <th>kathryn</th> <th>somebodi</th> <th>splendid</th> <th>eighti</th> <th>eras</th> <th>digniti</th> <th>swim</th> <th>ly</th> <th>star</th> <th>ye</th> <th>shy</th> <th>pin</th> <th>outpost</th> <th>rais</th> <th>yah</th> <th>leopard</th> <th>exposur</th> <th>puttin</th> <th>martin</th> <th>chip</th> <th>somehow</th> <th>jaeger</th> <th>silent</th> <th>fact</th> <th>ni</th> <th>tub</th> <th>bag</th> <th>initi</th> <th>buri</th> <th>council</th> <th>andrew</th> <th>brazil</th> <th>neil</th> <th>suit</th> <th>aliv</th> <th>us</th> <th>gabriel</th> <th>expertis</th> <th>secret</th> <th>cherri</th> <th>crippl</th> <th>cross</th> <th>silver</th> <th>thief</th> <th>whip</th> <th>insan</th> <th>riplei</th> <th>foreign</th> <th>ted</th> <th>glimps</th> <th>lebowski</th> <th>me</th> <th>peopl</th> <th>koessler</th> <th>minist</th> <th>kristen</th> <th>faze</th> <th>payment</th> <th>dean</th> <th>regret</th> <th>histor</th> <th>slaughter</th> <th>near</th> <th>popcorn</th> <th>japanes</th> <th>fuse</th> <th>lucki</th> <th>mous</th> <th>wherer</th> <th>powel</th> <th>vanessa</th> <th>inherit</th> <th>meat</th> <th>sang</th> <th>bert</th> <th>scale</th> <th>scam</th> <th>servic</th> <th>porno</th> <th>spring</th> <th>storag</th> <th>small</th> <th>thing</th> <th>tragedi</th> <th>makin</th> <th>just</th> <th>costum</th> <th>averag</th> <th>experienc</th> <th>click</th> <th>lose</th> <th>folk</th> <th>danger</th> <th>mayflow</th> <th>more</th> <th>view</th> <th>jasper</th> <th>hostag</th> <th>swamp</th> <th>cup</th> <th>hatch</th> <th>echo</th> <th>cindi</th> <th>buddyboi</th> <th>depend</th> <th>rang</th> <th>harold</th> <th>instrument</th> <th>deeper</th> <th>beam</th> <th>fish</th> <th>writer</th> <th>stir</th> <th>penelop</th> <th>react</th> <th>knive</th> <th>mafia</th> <th>carter</th> <th>whod</th> <th>lincoln</th> <th>swell</th> <th>boat</th> <th>certain</th> <th>jet</th> <th>steal</th> <th>safer</th> <th>larger</th> <th>magazin</th> <th>edgar</th> <th>pittsburgh</th> <th>committe</th> <th>truth</th> <th>green</th> <th>over</th> <th>prevent</th> <th>impati</th> <th>tv</th> <th>ian</th> <th>alarm</th> <th>boom</th> <th>tripp</th> <th>basement</th> <th>torpedo</th> <th>such</th> <th>sir</th> <th>whatr</th> <th>jump</th> <th>shari</th> <th>kenni</th> <th>oti</th> <th>sweat</th> <th>spine</th> <th>everybodi</th> <th>salon</th> <th>asian</th> <th>miser</th> <th>church</th> <th>trust</th> <th>peac</th> <th>surveil</th> <th>understand</th> <th>picnic</th> <th>skipper</th> <th>bodi</th> <th>itself</th> <th>mental</th> <th>come</th> <th>shortli</th> <th>bizarr</th> <th>evolv</th> <th>tea</th> <th>known</th> <th>unlik</th> <th>arni</th> <th>whistler</th> <th>firm</th> <th>occur</th> <th>grandpa</th> <th>traitor</th> <th>that</th> <th>gosh</th> <th>wynant</th> <th>hopkin</th> <th>cough</th> <th>butch</th> <th>agn</th> <th>wichita</th> <th>tall</th> <th>sent</th> <th>manner</th> <th>artifici</th> <th>dumper</th> <th>palac</th> <th>track</th> <th>twin</th> <th>darl</th> <th>stark</th> <th>despit</th> <th>alvi</th> <th>pen</th> <th>wore</th> <th>ani</th> <th>marshal</th> <th>deaf</th> <th>stretch</th> <th>chopper</th> <th>coloni</th> <th>shaft</th> <th>pat</th> <th>hal</th> <th>allow</th> <th>knee</th> <th>ugli</th> <th>combin</th> <th>sheldrak</th> <th>wall</th> <th>complaint</th> <th>understood</th> <th>varieti</th> <th>roger</th> <th>page</th> <th>alphabet</th> <th>men</th> <th>palm</th> <th>terror</th> <th>li</th> <th>skill</th> <th>childhood</th> <th>wilder</th> <th>elliot</th> <th>specialist</th> <th>travel</th> <th>howev</th> <th>exploit</th> <th>quit</th> <th>mph</th> <th>traci</th> <th>extrem</th> <th>torranc</th> <th>fiction</th> <th>measur</th> <th>bug</th> <th>lawrenc</th> <th>pendergast</th> <th>cb</th> <th>art</th> <th>convinc</th> <th>float</th> <th>hop</th> <th>armi</th> <th>socal</th> <th>sailor</th> <th>circl</th> <th>pursu</th> <th>notifi</th> <th>creasi</th> <th>sum</th> <th>restrict</th> <th>shield</th> <th>rocco</th> <th>asleep</th> <th>failur</th> <th>memor</th> <th>mon</th> <th>cool</th> <th>emma</th> <th>shape</th> <th>state</th> <th>discount</th> <th>youll</th> <th>repeat</th> <th>neither</th> <th>chart</th> <th>soul</th> <th>dose</th> <th>kai</th> <th>wilson</th> <th>valet</th> <th>tore</th> <th>sacr</th> <th>rorschach</th> <th>custom</th> <th>imit</th> <th>rekal</th> <th>railroad</th> <th>monsieur</th> <th>read</th> <th>lighter</th> <th>utterli</th> <th>loss</th> <th>appropri</th> <th>veget</th> <th>oklahoma</th> <th>oliv</th> <th>habit</th> <th>slick</th> <th>intuit</th> <th>rod</th> <th>dedic</th> <th>propos</th> <th>corridor</th> <th>nut</th> <th>auction</th> <th>flu</th> <th>bottom</th> <th>patron</th> <th>uwhyu</th> <th>richi</th> <th>link</th> <th>signal</th> <th>custodi</th> <th>chanc</th> <th>sayer</th> <th>skin</th> <th>mortal</th> <th>add</th> <th>honeymoon</th> <th>receipt</th> <th>nun</th> <th>usual</th> <th>starv</th> <th>eight</th> <th>morgu</th> <th>comin</th> <th>style</th> <th>cadet</th> <th>uh</th> <th>uhuh</th> <th>earn</th> <th>tini</th> <th>volunt</th>\n",
       "        </tr>\n",
       "    </thead>\n",
       "    <tbody>\n",
       "        <tr>\n",
       "            <td>10 things i hate about you</td> <td>1999</td> <td>6.9   </td> <td>comedy</td> <td>5341   </td> <td>0.0061667</td> <td>0.000596777</td> <td>0.00159141</td> <td>0.000198926</td> <td>0    </td> <td>0   </td> <td>0     </td> <td>0   </td> <td>0   </td> <td>0    </td> <td>0        </td> <td>0      </td> <td>0    </td> <td>0   </td> <td>0   </td> <td>0     </td> <td>0   </td> <td>0   </td> <td>0.00298389</td> <td>0    </td> <td>0.000198926</td> <td>0   </td> <td>0      </td> <td>0          </td> <td>0       </td> <td>0   </td> <td>0   </td> <td>0      </td> <td>0     </td> <td>0   </td> <td>0   </td> <td>0      </td> <td>0    </td> <td>0     </td> <td>0.000596777</td> <td>0       </td> <td>0.000198926</td> <td>0.000397852</td> <td>0     </td> <td>0      </td> <td>0   </td> <td>0   </td> <td>0       </td> <td>0   </td> <td>0      </td> <td>0   </td> <td>0    </td> <td>0       </td> <td>0.000198926</td> <td>0        </td> <td>0   </td> <td>0        </td> <td>0    </td> <td>0     </td> <td>0      </td> <td>0.000596777</td> <td>0    </td> <td>0        </td> <td>0    </td> <td>0.000198926</td> <td>0       </td> <td>0.000198926</td> <td>0          </td> <td>0    </td> <td>0    </td> <td>0    </td> <td>0.000198926</td> <td>0   </td> <td>0.000596777</td> <td>0     </td> <td>0       </td> <td>0     </td> <td>0    </td> <td>0.000397852</td> <td>0      </td> <td>0      </td> <td>0     </td> <td>0.000198926</td> <td>0.000198926</td> <td>0       </td> <td>0   </td> <td>0   </td> <td>0     </td> <td>0      </td> <td>0    </td> <td>0    </td> <td>0    </td> <td>0     </td> <td>0     </td> <td>0   </td> <td>0.000198926</td> <td>0   </td> <td>0   </td> <td>0.00716133</td> <td>0     </td> <td>0     </td> <td>0     </td> <td>0       </td> <td>0      </td> <td>0     </td> <td>0    </td> <td>0   </td> <td>0    </td> <td>0   </td> <td>0   </td> <td>0     </td> <td>0     </td> <td>0     </td> <td>0   </td> <td>0   </td> <td>0    </td> <td>0     </td> <td>0       </td> <td>0     </td> <td>0.000397852</td> <td>0       </td> <td>0   </td> <td>0      </td> <td>0     </td> <td>0   </td> <td>0.000596777</td> <td>0.000198926</td> <td>0.00676348</td> <td>0    </td> <td>0     </td> <td>0   </td> <td>0       </td> <td>0     </td> <td>0     </td> <td>0   </td> <td>0     </td> <td>0    </td> <td>0   </td> <td>0.00218818</td> <td>0    </td> <td>0      </td> <td>0   </td> <td>0.000397852</td> <td>0   </td> <td>0.000198926</td> <td>0      </td> <td>0     </td> <td>0     </td> <td>0       </td> <td>0      </td> <td>0      </td> <td>0      </td> <td>0   </td> <td>0      </td> <td>0      </td> <td>0.000198926</td> <td>0    </td> <td>0   </td> <td>0       </td> <td>0   </td> <td>0     </td> <td>0   </td> <td>0        </td> <td>0     </td> <td>0   </td> <td>0     </td> <td>0     </td> <td>0       </td> <td>0       </td> <td>0     </td> <td>0    </td> <td>0.00338174</td> <td>0    </td> <td>0    </td> <td>0     </td> <td>0     </td> <td>0   </td> <td>0.000198926</td> <td>0   </td> <td>0   </td> <td>0   </td> <td>0   </td> <td>0   </td> <td>0    </td> <td>0.000198926</td> <td>0   </td> <td>0      </td> <td>0     </td> <td>0     </td> <td>0     </td> <td>0         </td> <td>0.000198926</td> <td>0     </td> <td>0     </td> <td>0.000994629</td> <td>0     </td> <td>0.000198926</td> <td>0.000198926</td> <td>0      </td> <td>0.00119355</td> <td>0.000795703</td> <td>0        </td> <td>0    </td> <td>0.000198926</td> <td>0    </td> <td>0.000397852</td> <td>0       </td> <td>0   </td> <td>0     </td> <td>0   </td> <td>0   </td> <td>0     </td> <td>0     </td> <td>0    </td> <td>0      </td> <td>0   </td> <td>0    </td> <td>0    </td> <td>0     </td> <td>0   </td> <td>0      </td> <td>0.000198926</td> <td>0    </td> <td>0    </td> <td>0    </td> <td>0   </td> <td>0.00179033</td> <td>0   </td> <td>0        </td> <td>0      </td> <td>0.000596777</td> <td>0   </td> <td>0   </td> <td>0     </td> <td>0    </td> <td>0    </td> <td>0      </td> <td>0.000397852</td> <td>0       </td> <td>0    </td> <td>0   </td> <td>0.000198926</td> <td>0    </td> <td>0      </td> <td>0   </td> <td>0   </td> <td>0      </td> <td>0      </td> <td>0.0121345</td> <td>0         </td> <td>0.000596777</td> <td>0     </td> <td>0   </td> <td>0       </td> <td>0      </td> <td>0    </td> <td>0     </td> <td>0.000198926</td> <td>0.000198926</td> <td>0      </td> <td>0.000596777</td> <td>0           </td> <td>0   </td> <td>0    </td> <td>0.000198926</td> <td>0.000198926</td> <td>0.000198926</td> <td>0.000198926</td> <td>0   </td> <td>0    </td> <td>0   </td> <td>0   </td> <td>0.000397852</td> <td>0      </td> <td>0   </td> <td>0   </td> <td>0     </td> <td>0       </td> <td>0    </td> <td>0.000397852</td> <td>0    </td> <td>0.000198926</td> <td>0     </td> <td>0      </td> <td>0.000596777</td> <td>0   </td> <td>0      </td> <td>0        </td> <td>0   </td> <td>0      </td> <td>0    </td> <td>0     </td> <td>0     </td> <td>0     </td> <td>0     </td> <td>0    </td> <td>0      </td> <td>0        </td> <td>0   </td> <td>0     </td> <td>0      </td> <td>0   </td> <td>0       </td> <td>0.000198926</td> <td>0    </td> <td>0   </td> <td>0      </td> <td>0      </td> <td>0     </td> <td>0      </td> <td>0    </td> <td>0   </td> <td>0     </td> <td>0   </td> <td>0    </td> <td>0     </td> <td>0   </td> <td>0     </td> <td>0      </td> <td>0.000198926</td> <td>0.000198926</td> <td>0     </td> <td>0.000198926</td> <td>0   </td> <td>0   </td> <td>0      </td> <td>0    </td> <td>0    </td> <td>0     </td> <td>0     </td> <td>0       </td> <td>0     </td> <td>0.000198926</td> <td>0        </td> <td>0.000198926</td> <td>0     </td> <td>0     </td> <td>0.000397852</td> <td>0        </td> <td>0     </td> <td>0.000198926</td> <td>0     </td> <td>0      </td> <td>0         </td> <td>0    </td> <td>0.00397852</td> <td>0         </td> <td>0    </td> <td>0     </td> <td>0     </td> <td>0        </td> <td>0.000795703</td> <td>0       </td> <td>0.000397852</td> <td>0      </td> <td>0    </td> <td>0      </td> <td>0    </td> <td>0   </td> <td>0.000198926</td> <td>0    </td> <td>0     </td> <td>0       </td> <td>0   </td> <td>0.000198926</td> <td>0      </td> <td>0    </td> <td>0    </td> <td>0     </td> <td>0   </td> <td>0   </td> <td>0      </td> <td>0.00775811</td> <td>0.000198926</td> <td>0      </td> <td>0.000397852</td> <td>0     </td> <td>0     </td> <td>0   </td> <td>0      </td> <td>0.000198926</td> <td>0.000596777</td> <td>0   </td> <td>0     </td> <td>0     </td> <td>0      </td> <td>0     </td> <td>0    </td> <td>0.000596777</td> <td>0   </td> <td>0     </td> <td>0     </td> <td>0        </td> <td>0.005371</td> <td>0   </td> <td>0        </td> <td>0.000596777</td> <td>0.00139248</td> <td>0    </td> <td>0    </td> <td>0   </td> <td>0   </td> <td>0   </td> <td>0     </td> <td>0    </td> <td>0   </td> <td>0   </td> <td>0.00119355</td> <td>0         </td> <td>0.000198926</td> <td>0     </td> <td>0    </td> <td>0     </td> <td>0    </td> <td>0   </td> <td>0      </td> <td>0   </td> <td>0   </td> <td>0     </td> <td>0   </td> <td>0      </td> <td>0      </td> <td>0   </td> <td>0   </td> <td>0     </td> <td>0    </td> <td>0     </td> <td>0    </td> <td>0          </td> <td>0         </td> <td>0     </td> <td>0    </td> <td>0    </td> <td>0.000397852</td> <td>0.000198926</td> <td>0    </td> <td>0.000397852</td> <td>0      </td> <td>0.000198926</td> <td>0.000198926</td> <td>0   </td> <td>0    </td> <td>0    </td> <td>0    </td> <td>0.000397852</td> <td>0     </td> <td>0     </td> <td>0    </td> <td>0    </td> <td>0    </td> <td>0      </td> <td>0    </td> <td>0    </td> <td>0     </td> <td>0   </td> <td>0    </td> <td>0      </td> <td>0      </td> <td>0.000994629</td> <td>0     </td> <td>0    </td> <td>0    </td> <td>0    </td> <td>0      </td> <td>0.000198926</td> <td>0      </td> <td>0   </td> <td>0.000198926</td> <td>0   </td> <td>0.000596777</td> <td>0   </td> <td>0   </td> <td>0    </td> <td>0   </td> <td>0   </td> <td>0      </td> <td>0   </td> <td>0    </td> <td>0    </td> <td>0    </td> <td>0     </td> <td>0.000198926</td> <td>0    </td> <td>0    </td> <td>0.000596777</td> <td>0.00159141</td> <td>0     </td> <td>0      </td> <td>0     </td> <td>0   </td> <td>0   </td> <td>0.00119355</td> <td>0    </td> <td>0       </td> <td>0   </td> <td>0     </td> <td>0    </td> <td>0.000397852</td> <td>0    </td> <td>0      </td> <td>0     </td> <td>0       </td> <td>0    </td> <td>0.000198926</td> <td>0    </td> <td>0   </td> <td>0.000198926</td> <td>0     </td> <td>0    </td> <td>0.000397852</td> <td>0      </td> <td>0     </td> <td>0    </td> <td>0.000198926</td> <td>0   </td> <td>0      </td> <td>0.000198926</td> <td>0.00258604</td> <td>0.000596777</td> <td>0    </td> <td>0     </td> <td>0      </td> <td>0.000397852</td> <td>0       </td> <td>0    </td> <td>0   </td> <td>0      </td> <td>0.00318281</td> <td>0.000795703</td> <td>0   </td> <td>0      </td> <td>0    </td> <td>0.000198926</td> <td>0       </td> <td>0    </td> <td>0.000198926</td> <td>0   </td> <td>0.000198926</td> <td>0.00198926</td> <td>0.000397852</td> <td>0    </td> <td>0   </td> <td>0         </td> <td>0   </td> <td>0      </td> <td>0      </td> <td>0   </td> <td>0       </td> <td>0    </td> <td>0.000198926</td> <td>0.000198926</td> <td>0.000198926</td> <td>0   </td> <td>0    </td> <td>0     </td> <td>0     </td> <td>0     </td> <td>0      </td> <td>0   </td> <td>0.0109409</td> <td>0.000198926</td> <td>0      </td> <td>0     </td> <td>0    </td> <td>0   </td> <td>0   </td> <td>0.000795703</td> <td>0.000198926</td> <td>0    </td> <td>0      </td> <td>0     </td> <td>0     </td> <td>0     </td> <td>0    </td> <td>0   </td> <td>0     </td> <td>0    </td> <td>0    </td> <td>0     </td> <td>0      </td> <td>0.00198926</td> <td>0     </td> <td>0.00218818</td> <td>0    </td> <td>0   </td> <td>0    </td> <td>0      </td> <td>0    </td> <td>0.000198926</td> <td>0    </td> <td>0      </td> <td>0    </td> <td>0        </td> <td>0     </td> <td>0      </td> <td>0   </td> <td>0      </td> <td>0     </td> <td>0    </td> <td>0.000198926</td> <td>0    </td> <td>0   </td> <td>0.000198926</td> <td>0      </td> <td>0     </td> <td>0.000198926</td> <td>0.000198926</td> <td>0       </td> <td>0    </td> <td>0.000198926</td> <td>0     </td> <td>0   </td> <td>0.000198926</td> <td>0     </td> <td>0   </td> <td>0.000198926</td> <td>0     </td> <td>0      </td> <td>0    </td> <td>0.00656455</td> <td>0   </td> <td>0      </td> <td>0    </td> <td>0.000198926</td> <td>0.00119355</td> <td>0.000397852</td> <td>0   </td> <td>0    </td> <td>0.000198926</td> <td>0.000994629</td> <td>0     </td> <td>0   </td> <td>0     </td> <td>0    </td> <td>0    </td> <td>0   </td> <td>0      </td> <td>0   </td> <td>0.000596777</td> <td>0   </td> <td>0.000198926</td> <td>0.000397852</td> <td>0       </td> <td>0       </td> <td>0     </td> <td>0     </td> <td>0   </td> <td>0     </td> <td>0       </td> <td>0   </td> <td>0      </td> <td>0   </td> <td>0.000198926</td> <td>0       </td> <td>0.000198926</td> <td>0   </td> <td>0      </td> <td>0       </td> <td>0   </td> <td>0.000198926</td> <td>0     </td> <td>0       </td> <td>0       </td> <td>0   </td> <td>0.000198926</td> <td>0        </td> <td>0    </td> <td>0       </td> <td>0.000198926</td> <td>0    </td> <td>0       </td> <td>0   </td> <td>0      </td> <td>0.000397852</td> <td>0   </td> <td>0      </td> <td>0      </td> <td>0   </td> <td>0    </td> <td>0   </td> <td>0   </td> <td>0    </td> <td>0.0298389</td> <td>0   </td> <td>0.000994629</td> <td>0   </td> <td>0       </td> <td>0    </td> <td>0.000198926</td> <td>0      </td> <td>0     </td> <td>0   </td> <td>0       </td> <td>0.000198926</td> <td>0    </td> <td>0     </td> <td>0      </td> <td>0   </td> <td>0       </td> <td>0    </td> <td>0    </td> <td>0.000198926</td> <td>0      </td> <td>0     </td> <td>0.000198926</td> <td>0   </td> <td>0   </td> <td>0     </td> <td>0.000198926</td> <td>0    </td> <td>0     </td> <td>0      </td> <td>0.00119355</td> <td>0     </td> <td>0   </td> <td>0     </td> <td>0    </td> <td>0     </td> <td>0    </td> <td>0    </td> <td>0   </td> <td>0      </td> <td>0      </td> <td>0    </td> <td>0    </td> <td>0.005371</td> <td>0   </td> <td>0.000994629</td> <td>0.000397852</td> <td>0.000198926</td> <td>0.000198926</td> <td>0    </td> <td>0    </td> <td>0     </td> <td>0     </td> <td>0.000198926</td> <td>0   </td> <td>0   </td> <td>0   </td> <td>0   </td> <td>0     </td> <td>0   </td> <td>0.000198926</td> <td>0    </td> <td>0    </td> <td>0      </td> <td>0    </td> <td>0     </td> <td>0       </td> <td>0      </td> <td>0    </td> <td>0    </td> <td>0        </td> <td>0   </td> <td>0       </td> <td>0   </td> <td>0       </td> <td>0        </td> <td>0   </td> <td>0         </td> <td>0   </td> <td>0     </td> <td>0        </td> <td>0   </td> <td>0     </td> <td>0        </td> <td>0   </td> <td>0     </td> <td>0   </td> <td>0   </td> <td>0   </td> <td>0   </td> <td>0.000596777</td> <td>0    </td> <td>0   </td> <td>0    </td> <td>0   </td> <td>0     </td> <td>0    </td> <td>0   </td> <td>0      </td> <td>0    </td> <td>0   </td> <td>0    </td> <td>0    </td> <td>0    </td> <td>0     </td> <td>0      </td> <td>0    </td> <td>0    </td> <td>0   </td> <td>0   </td> <td>0.000198926</td> <td>0    </td> <td>0     </td> <td>0    </td> <td>0    </td> <td>0    </td> <td>0     </td> <td>0    </td> <td>0   </td> <td>0.00179033</td> <td>0.000198926</td> <td>0     </td> <td>0.000198926</td> <td>0    </td> <td>0    </td> <td>0   </td> <td>0   </td> <td>0     </td> <td>0.000397852</td> <td>0       </td> <td>0     </td> <td>0     </td> <td>0      </td> <td>0    </td> <td>0         </td> <td>0   </td> <td>0       </td> <td>0      </td> <td>0.000198926</td> <td>0        </td> <td>0   </td> <td>0     </td> <td>0   </td> <td>0      </td> <td>0    </td> <td>0       </td> <td>0       </td> <td>0      </td> <td>0    </td> <td>0     </td> <td>0    </td> <td>0   </td> <td>0       </td> <td>0   </td> <td>0    </td> <td>0.000198926</td> <td>0         </td> <td>0      </td> <td>0   </td> <td>0     </td> <td>0    </td> <td>0     </td> <td>0        </td> <td>0   </td> <td>0     </td> <td>0   </td> <td>0.000198926</td> <td>0.000198926</td> <td>0      </td> <td>0    </td> <td>0     </td> <td>0.000596777</td> <td>0.000198926</td> <td>0.000198926</td> <td>0.000198926</td> <td>0   </td> <td>0      </td> <td>0      </td> <td>0    </td> <td>0       </td> <td>0     </td> <td>0    </td> <td>0.00835488</td> <td>0     </td> <td>0    </td> <td>0    </td> <td>0.000397852</td> <td>0      </td> <td>0     </td> <td>0     </td> <td>0    </td> <td>0.000198926</td> <td>0    </td> <td>0    </td> <td>0    </td> <td>0    </td> <td>0.000198926</td> <td>0.000198926</td> <td>0     </td> <td>0.00179033</td> <td>0.000397852</td> <td>0   </td> <td>0   </td> <td>0       </td> <td>0         </td> <td>0     </td> <td>0   </td> <td>0    </td> <td>0      </td> <td>0        </td> <td>0     </td> <td>0     </td> <td>0   </td> <td>0   </td> <td>0    </td> <td>0.000198926</td> <td>0    </td> <td>0       </td> <td>0        </td> <td>0.000994629</td> <td>0      </td> <td>0    </td> <td>0      </td> <td>0       </td> <td>0   </td> <td>0   </td> <td>0.000198926</td> <td>0.000198926</td> <td>0    </td> <td>0     </td> <td>0    </td> <td>0   </td> <td>0     </td> <td>0    </td> <td>0      </td> <td>0      </td> <td>0      </td> <td>0     </td> <td>0    </td> <td>0        </td> <td>0     </td> <td>0   </td> <td>0     </td> <td>0.000397852</td> <td>0.00258604</td> <td>0     </td> <td>0    </td> <td>0    </td> <td>0     </td> <td>0    </td> <td>0     </td> <td>0         </td> <td>0      </td> <td>0   </td> <td>0     </td> <td>0       </td> <td>0      </td> <td>0    </td> <td>0     </td> <td>0.00775811</td> <td>0.000596777</td> <td>0    </td> <td>0      </td> <td>0   </td> <td>0   </td> <td>0.000198926</td> <td>0.000198926</td> <td>0    </td> <td>0       </td> <td>0     </td> <td>0    </td> <td>0.000198926</td> <td>0   </td> <td>0    </td> <td>0     </td> <td>0   </td> <td>0   </td> <td>0     </td> <td>0.00119355</td> <td>0   </td> <td>0     </td> <td>0    </td> <td>0    </td> <td>0     </td> <td>0    </td> <td>0.000397852</td> <td>0      </td> <td>0      </td> <td>0     </td> <td>0   </td> <td>0   </td> <td>0       </td> <td>0    </td> <td>0      </td> <td>0.00119355</td> <td>0     </td> <td>0     </td> <td>0       </td> <td>0     </td> <td>0      </td> <td>0     </td> <td>0   </td> <td>0         </td> <td>0   </td> <td>0   </td> <td>0.00139248</td> <td>0    </td> <td>0    </td> <td>0     </td> <td>0   </td> <td>0      </td> <td>0.00179033</td> <td>0      </td> <td>0     </td> <td>0.00119355</td> <td>0    </td> <td>0     </td> <td>0      </td> <td>0     </td> <td>0    </td> <td>0     </td> <td>0    </td> <td>0      </td> <td>0.000397852</td> <td>0     </td> <td>0   </td> <td>0   </td> <td>0   </td> <td>0.000198926</td> <td>0    </td> <td>0   </td> <td>0.000795703</td> <td>0.00139248</td> <td>0    </td> <td>0     </td> <td>0   </td> <td>0      </td> <td>0   </td> <td>0   </td> <td>0.000198926</td> <td>0    </td> <td>0     </td> <td>0   </td> <td>0.000198926</td> <td>0       </td> <td>0    </td> <td>0   </td> <td>0     </td> <td>0        </td> <td>0    </td> <td>0   </td> <td>0      </td> <td>0.000198926</td> <td>0.00119355</td> <td>0       </td> <td>0   </td> <td>0      </td> <td>0     </td> <td>0    </td> <td>0     </td> <td>0.0163119</td> <td>0   </td> <td>0.000198926</td> <td>0            </td> <td>0     </td> <td>0       </td> <td>0      </td> <td>0       </td> <td>0      </td> <td>0      </td> <td>0.000198926</td> <td>0       </td> <td>0        </td> <td>0.00159141</td> <td>0        </td> <td>0     </td> <td>0     </td> <td>0    </td> <td>0     </td> <td>0   </td> <td>0   </td> <td>0.000795703</td> <td>0     </td> <td>0   </td> <td>0       </td> <td>0     </td> <td>0.000198926</td> <td>0.00318281</td> <td>0      </td> <td>0   </td> <td>0      </td> <td>0   </td> <td>0        </td> <td>0     </td> <td>0       </td> <td>0   </td> <td>0      </td> <td>0   </td> <td>0      </td> <td>0      </td> <td>0    </td> <td>0   </td> <td>0     </td> <td>0      </td> <td>0   </td> <td>0.00417744</td> <td>0      </td> <td>0       </td> <td>0   </td> <td>0   </td> <td>0      </td> <td>0     </td> <td>0     </td> <td>0    </td> <td>0   </td> <td>0    </td> <td>0    </td> <td>0       </td> <td>0   </td> <td>0     </td> <td>0   </td> <td>0          </td> <td>0.000198926</td> <td>0.000198926</td> <td>0      </td> <td>0    </td> <td>0    </td> <td>0    </td> <td>0   </td> <td>0    </td> <td>0      </td> <td>0    </td> <td>0.00218818</td> <td>0     </td> <td>0    </td> <td>0       </td> <td>0         </td> <td>0   </td> <td>0.000198926</td> <td>0      </td> <td>0    </td> <td>0      </td> <td>0.00934951</td> <td>0      </td> <td>0        </td> <td>0    </td> <td>0    </td> <td>0     </td> <td>0   </td> <td>0      </td> <td>0   </td> <td>0    </td> <td>0    </td> <td>0    </td> <td>0      </td> <td>0     </td> <td>0      </td> <td>0     </td> <td>0    </td> <td>0    </td> <td>0.000994629</td> <td>0      </td> <td>0     </td> <td>0   </td> <td>0      </td> <td>0    </td> <td>0   </td> <td>0      </td> <td>0       </td> <td>0.000596777</td> <td>0.000198926</td> <td>0     </td> <td>0.000198926</td> <td>0.00179033</td> <td>0   </td> <td>0    </td> <td>0    </td> <td>0     </td> <td>0.000198926</td> <td>0    </td> <td>0    </td> <td>0    </td> <td>0.000198926</td> <td>0   </td> <td>0   </td> <td>0    </td> <td>0      </td> <td>0      </td> <td>0   </td> <td>0.000397852</td> <td>0   </td> <td>0.000198926</td> <td>0     </td> <td>0      </td> <td>0.000198926</td> <td>0    </td> <td>0.00198926</td> <td>0   </td> <td>0.000397852</td> <td>0    </td> <td>0     </td> <td>0   </td> <td>0    </td> <td>0.000397852</td> <td>0     </td> <td>0     </td> <td>0    </td> <td>0      </td> <td>0     </td> <td>0   </td> <td>0    </td> <td>0    </td> <td>0   </td> <td>0   </td> <td>0    </td> <td>0    </td> <td>0.000795703</td> <td>0   </td> <td>0   </td> <td>0      </td> <td>0       </td> <td>0      </td> <td>0    </td> <td>0.000198926</td> <td>0   </td> <td>0     </td> <td>0    </td> <td>0.000198926</td> <td>0    </td> <td>0    </td> <td>0      </td> <td>0.0101452</td> <td>0      </td> <td>0    </td> <td>0    </td> <td>0    </td> <td>0      </td> <td>0    </td> <td>0     </td> <td>0      </td> <td>0   </td> <td>0   </td> <td>0   </td> <td>0    </td> <td>0.000198926</td> <td>0   </td> <td>0    </td> <td>0       </td> <td>0   </td> <td>0.000198926</td> <td>0     </td> <td>0         </td> <td>0   </td> <td>0       </td> <td>0   </td> <td>0     </td> <td>0        </td> <td>0   </td> <td>0   </td> <td>0    </td> <td>0   </td> <td>0    </td> <td>0.000198926</td> <td>0           </td> <td>0      </td> <td>0    </td> <td>0      </td> <td>0.000397852</td> <td>0     </td> <td>0.00119355</td> <td>0   </td> <td>0    </td> <td>0.000198926</td> <td>0     </td> <td>0    </td> <td>0   </td> <td>0.000397852</td> <td>0     </td> <td>0      </td> <td>0      </td> <td>0      </td> <td>0   </td> <td>0   </td> <td>0     </td> <td>0   </td> <td>0   </td> <td>0.000397852</td> <td>0    </td> <td>0   </td> <td>0   </td> <td>0.000198926</td> <td>0.000198926</td> <td>0   </td> <td>0   </td> <td>0   </td> <td>0     </td> <td>0    </td> <td>0     </td> <td>0      </td> <td>0.000198926</td> <td>0   </td> <td>0   </td> <td>0   </td> <td>0    </td> <td>0      </td> <td>0.000198926</td> <td>0.000198926</td> <td>0.000198926</td> <td>0.000397852</td> <td>0     </td> <td>0      </td> <td>0    </td> <td>0    </td> <td>0.000198926</td> <td>0    </td> <td>0   </td> <td>0       </td> <td>0   </td> <td>0      </td> <td>0       </td> <td>0   </td> <td>0    </td> <td>0   </td> <td>0.000198926</td> <td>0    </td> <td>0    </td> <td>0   </td> <td>0    </td> <td>0        </td> <td>0     </td> <td>0   </td> <td>0   </td> <td>0   </td> <td>0     </td> <td>0         </td> <td>0    </td> <td>0     </td> <td>0     </td> <td>0       </td> <td>0   </td> <td>0      </td> <td>0.0127313</td> <td>0.000198926</td> <td>0   </td> <td>0     </td> <td>0       </td> <td>0    </td> <td>0   </td> <td>0.000198926</td> <td>0.000198926</td> <td>0   </td> <td>0      </td> <td>0      </td> <td>0   </td> <td>0   </td> <td>0    </td> <td>0      </td> <td>0   </td> <td>0       </td> <td>0     </td> <td>0.000198926</td> <td>0     </td> <td>0       </td> <td>0    </td> <td>0   </td> <td>0       </td> <td>0   </td> <td>0     </td> <td>0     </td> <td>0    </td> <td>0      </td> <td>0   </td> <td>0      </td> <td>0    </td> <td>0.00517207</td> <td>0    </td> <td>0.000198926</td> <td>0   </td> <td>0     </td> <td>0        </td> <td>0   </td> <td>0.000198926</td> <td>0      </td> <td>0     </td> <td>0   </td> <td>0    </td> <td>0     </td> <td>0   </td> <td>0        </td> <td>0     </td> <td>0    </td> <td>0   </td> <td>0      </td> <td>0.00517207</td> <td>0     </td> <td>0   </td> <td>0         </td> <td>0   </td> <td>0    </td> <td>0   </td> <td>0     </td> <td>0.000596777</td> <td>0   </td> <td>0   </td> <td>0.000198926</td> <td>0.000596777</td> <td>0    </td> <td>0   </td> <td>0    </td> <td>0.00258604</td> <td>0   </td> <td>0        </td> <td>0      </td> <td>0    </td> <td>0     </td> <td>0       </td> <td>0     </td> <td>0     </td> <td>0   </td> <td>0   </td> <td>0   </td> <td>0      </td> <td>0   </td> <td>0   </td> <td>0      </td> <td>0     </td> <td>0       </td> <td>0        </td> <td>0    </td> <td>0.00278496</td> <td>0   </td> <td>0.000198926</td> <td>0    </td> <td>0   </td> <td>0   </td> <td>0    </td> <td>0    </td> <td>0    </td> <td>0      </td> <td>0     </td> <td>0    </td> <td>0   </td> <td>0   </td> <td>0.000198926</td> <td>0       </td> <td>0       </td> <td>0.00298389</td> <td>0   </td> <td>0.000198926</td> <td>0.00875274</td> <td>0   </td> <td>0        </td> <td>0    </td> <td>0   </td> <td>0   </td> <td>0.000198926</td> <td>0     </td> <td>0     </td> <td>0    </td> <td>0      </td> <td>0     </td> <td>0.000198926</td> <td>0.000596777</td> <td>0.000198926</td> <td>0    </td> <td>0       </td> <td>0    </td> <td>0.000198926</td> <td>0   </td> <td>0   </td> <td>0     </td> <td>0     </td> <td>0     </td> <td>0    </td> <td>0    </td> <td>0   </td> <td>0      </td> <td>0   </td> <td>0        </td> <td>0   </td> <td>0   </td> <td>0    </td> <td>0    </td> <td>0     </td> <td>0   </td> <td>0   </td> <td>0   </td> <td>0       </td> <td>0    </td> <td>0   </td> <td>0    </td> <td>0     </td> <td>0   </td> <td>0    </td> <td>0    </td> <td>0      </td> <td>0     </td> <td>0       </td> <td>0   </td> <td>0     </td> <td>0   </td> <td>0.000198926</td> <td>0   </td> <td>0    </td> <td>0   </td> <td>0    </td> <td>0   </td> <td>0   </td> <td>0.000596777</td> <td>0    </td> <td>0   </td> <td>0   </td> <td>0       </td> <td>0   </td> <td>0    </td> <td>0     </td> <td>0   </td> <td>0   </td> <td>0     </td> <td>0     </td> <td>0      </td> <td>0     </td> <td>0      </td> <td>0    </td> <td>0   </td> <td>0.000198926</td> <td>0.000198926</td> <td>0.000795703</td> <td>0     </td> <td>0.000596777</td> <td>0    </td> <td>0      </td> <td>0   </td> <td>0      </td> <td>0    </td> <td>0    </td> <td>0   </td> <td>0    </td> <td>0.000198926</td> <td>0     </td> <td>0.000397852</td> <td>0   </td> <td>0   </td> <td>0        </td> <td>0.000198926</td> <td>0   </td> <td>0.000198926</td> <td>0    </td> <td>0    </td> <td>0    </td> <td>0    </td> <td>0.000198926</td> <td>0        </td> <td>0   </td> <td>0.00736025</td> <td>0.000596777</td> <td>0   </td> <td>0      </td> <td>0     </td> <td>0      </td> <td>0       </td> <td>0     </td> <td>0.000198926</td> <td>0      </td> <td>0    </td> <td>0   </td> <td>0     </td> <td>0      </td> <td>0     </td> <td>0   </td> <td>0     </td> <td>0    </td> <td>0        </td> <td>0       </td> <td>0     </td> <td>0     </td> <td>0     </td> <td>0.00238711</td> <td>0    </td> <td>0.000198926</td> <td>0     </td> <td>0     </td> <td>0.000795703</td> <td>0    </td> <td>0   </td> <td>0     </td> <td>0     </td> <td>0       </td> <td>0      </td> <td>0     </td> <td>0.00517207</td> <td>0    </td> <td>0    </td> <td>0   </td> <td>0   </td> <td>0       </td> <td>0     </td> <td>0      </td> <td>0        </td> <td>0       </td> <td>0.000198926</td> <td>0   </td> <td>0   </td> <td>0   </td> <td>0    </td> <td>0.000397852</td> <td>0    </td> <td>0    </td> <td>0     </td> <td>0.000198926</td> <td>0   </td> <td>0     </td> <td>0   </td> <td>0   </td> <td>0   </td> <td>0.000198926</td> <td>0     </td> <td>0         </td> <td>0        </td> <td>0    </td> <td>0    </td> <td>0            </td> <td>0    </td> <td>0       </td> <td>0.000198926</td> <td>0    </td> <td>0   </td> <td>0    </td> <td>0.00218818</td> <td>0     </td> <td>0         </td> <td>0   </td> <td>0   </td> <td>0       </td> <td>0    </td> <td>0    </td> <td>0.00139248</td> <td>0    </td> <td>0     </td> <td>0   </td> <td>0       </td> <td>0    </td> <td>0      </td> <td>0   </td> <td>0     </td> <td>0.000596777</td> <td>0     </td> <td>0     </td> <td>0     </td> <td>0.000795703</td> <td>0      </td> <td>0       </td> <td>0     </td> <td>0    </td> <td>0   </td> <td>0    </td> <td>0   </td> <td>0        </td> <td>0        </td> <td>0      </td> <td>0      </td> <td>0      </td> <td>0         </td> <td>0.000397852</td> <td>0     </td> <td>0.000994629</td> <td>0   </td> <td>0.00795703</td> <td>0    </td> <td>0          </td> <td>0      </td> <td>0       </td> <td>0.000397852</td> <td>0    </td> <td>0    </td> <td>0      </td> <td>0      </td> <td>0      </td> <td>0.000198926</td> <td>0   </td> <td>0    </td> <td>0.000198926</td> <td>0    </td> <td>0   </td> <td>0   </td> <td>0     </td> <td>0.000198926</td> <td>0.00198926</td> <td>0    </td> <td>0.000596777</td> <td>0       </td> <td>0     </td> <td>0    </td> <td>0     </td> <td>0    </td> <td>0      </td> <td>0       </td> <td>0.000198926</td> <td>0       </td> <td>0      </td> <td>0     </td> <td>0.000397852</td> <td>0    </td> <td>0      </td> <td>0   </td> <td>0    </td> <td>0.000795703</td> <td>0.000397852</td> <td>0.000397852</td> <td>0   </td> <td>0   </td> <td>0.000198926</td> <td>0     </td> <td>0.000596777</td> <td>0    </td> <td>0      </td> <td>0   </td> <td>0   </td> <td>0.000596777</td> <td>0     </td> <td>0.000994629</td> <td>0       </td> <td>0       </td> <td>0    </td> <td>0   </td> <td>0   </td> <td>0      </td> <td>0      </td> <td>0     </td> <td>0      </td> <td>0    </td> <td>0      </td> <td>0    </td> <td>0.000795703</td> <td>0      </td> <td>0   </td> <td>0    </td> <td>0        </td> <td>0       </td> <td>0     </td> <td>0    </td> <td>0       </td> <td>0   </td> <td>0.000397852</td> <td>0      </td> <td>0    </td> <td>0      </td> <td>0.000198926</td> <td>0    </td> <td>0      </td> <td>0.000198926</td> <td>0.000397852</td> <td>0    </td> <td>0      </td> <td>0    </td> <td>0.000198926</td> <td>0    </td> <td>0   </td> <td>0   </td> <td>0.000198926</td> <td>0    </td> <td>0      </td> <td>0    </td> <td>0    </td> <td>0    </td> <td>0.000596777</td> <td>0    </td> <td>0.000198926</td> <td>0    </td> <td>0    </td> <td>0.000198926</td> <td>0       </td> <td>0     </td> <td>0.000198926</td> <td>0.000198926</td> <td>0    </td> <td>0    </td> <td>0        </td> <td>0     </td> <td>0    </td> <td>0     </td> <td>0.000198926</td> <td>0.000198926</td> <td>0.00437637</td> <td>0     </td> <td>0.00159141</td> <td>0   </td> <td>0     </td> <td>0      </td> <td>0   </td> <td>0      </td> <td>0     </td> <td>0     </td> <td>0     </td> <td>0     </td> <td>0    </td> <td>0.000198926</td> <td>0      </td> <td>0   </td> <td>0   </td> <td>0      </td> <td>0.000198926</td> <td>0   </td> <td>0.00159141</td> <td>0        </td> <td>0      </td> <td>0.000397852</td> <td>0.000198926</td> <td>0   </td> <td>0   </td> <td>0   </td> <td>0      </td> <td>0    </td> <td>0    </td> <td>0      </td> <td>0     </td> <td>0     </td> <td>0.00258604</td> <td>0    </td> <td>0   </td> <td>0     </td> <td>0    </td> <td>0     </td> <td>0    </td> <td>0    </td> <td>0       </td> <td>0    </td> <td>0       </td> <td>0   </td> <td>0.000198926</td> <td>0   </td> <td>0.0115377</td> <td>0    </td> <td>0   </td> <td>0    </td> <td>0      </td> <td>0     </td> <td>0       </td> <td>0   </td> <td>0    </td> <td>0.000198926</td> <td>0.000198926</td> <td>0      </td> <td>0     </td> <td>0     </td> <td>0     </td> <td>0     </td> <td>0     </td> <td>0.000198926</td> <td>0      </td> <td>0     </td> <td>0.000198926</td> <td>0     </td> <td>0        </td> <td>0   </td> <td>0        </td> <td>0     </td> <td>0.000994629</td> <td>0.000397852</td> <td>0     </td> <td>0       </td> <td>0.000397852</td> <td>0   </td> <td>0    </td> <td>0      </td> <td>0      </td> <td>0   </td> <td>0     </td> <td>0.000994629</td> <td>0.00179033</td> <td>0   </td> <td>0   </td> <td>0   </td> <td>0     </td> <td>0    </td> <td>0   </td> <td>0.000198926</td> <td>0      </td> <td>0     </td> <td>0    </td> <td>0   </td> <td>0       </td> <td>0   </td> <td>0   </td> <td>0       </td> <td>0     </td> <td>0     </td> <td>0   </td> <td>0     </td> <td>0      </td> <td>0   </td> <td>0    </td> <td>0     </td> <td>0   </td> <td>0.00358066</td> <td>0   </td> <td>0    </td> <td>0.000795703</td> <td>0    </td> <td>0   </td> <td>0     </td> <td>0    </td> <td>0   </td> <td>0   </td> <td>0    </td> <td>0    </td> <td>0   </td> <td>0.000198926</td> <td>0       </td> <td>0   </td> <td>0.000198926</td> <td>0       </td> <td>0       </td> <td>0       </td> <td>0      </td> <td>0      </td> <td>0.00238711</td> <td>0.000397852</td> <td>0   </td> <td>0   </td> <td>0    </td> <td>0      </td> <td>0    </td> <td>0   </td> <td>0   </td> <td>0       </td> <td>0      </td> <td>0     </td> <td>0   </td> <td>0     </td> <td>0    </td> <td>0    </td> <td>0   </td> <td>0.000397852</td> <td>0      </td> <td>0    </td> <td>0   </td> <td>0   </td> <td>0   </td> <td>0     </td> <td>0     </td> <td>0     </td> <td>0      </td> <td>0   </td> <td>0        </td> <td>0      </td> <td>0      </td> <td>0   </td> <td>0    </td> <td>0    </td> <td>0    </td> <td>0.000198926</td> <td>0     </td> <td>0      </td> <td>0    </td> <td>0      </td> <td>0     </td> <td>0    </td> <td>0   </td> <td>0   </td> <td>0.000198926</td> <td>0       </td> <td>0         </td> <td>0      </td> <td>0.000198926</td> <td>0    </td> <td>0    </td> <td>0   </td> <td>0   </td> <td>0   </td> <td>0    </td> <td>0.00159141</td> <td>0.000198926</td> <td>0     </td> <td>0      </td> <td>0     </td> <td>0   </td> <td>0.000198926</td> <td>0    </td> <td>0     </td> <td>0      </td> <td>0     </td> <td>0    </td> <td>0      </td> <td>0     </td> <td>0     </td> <td>0       </td> <td>0   </td> <td>0       </td> <td>0   </td> <td>0.000397852</td> <td>0      </td> <td>0.000198926</td> <td>0   </td> <td>0   </td> <td>0      </td> <td>0     </td> <td>0    </td> <td>0   </td> <td>0       </td> <td>0.000795703</td> <td>0.000596777</td> <td>0     </td> <td>0    </td> <td>0    </td> <td>0   </td> <td>0    </td> <td>0      </td> <td>0     </td> <td>0     </td> <td>0    </td> <td>0   </td> <td>0.00198926</td> <td>0       </td> <td>0.000198926</td> <td>0   </td> <td>0.000198926</td> <td>0   </td> <td>0   </td> <td>0      </td> <td>0      </td> <td>0    </td> <td>0       </td> <td>0.000198926</td> <td>0   </td> <td>0        </td> <td>0    </td> <td>0.000198926</td> <td>0        </td> <td>0    </td> <td>0   </td> <td>0    </td> <td>0     </td> <td>0   </td> <td>0.000198926</td> <td>0      </td> <td>0.000198926</td> <td>0    </td> <td>0    </td> <td>0   </td> <td>0    </td> <td>0.000596777</td> <td>0.00159141</td> <td>0      </td> <td>0   </td> <td>0.000198926</td> <td>0    </td> <td>0    </td> <td>0.000198926</td> <td>0   </td> <td>0    </td> <td>0     </td> <td>0     </td> <td>0    </td> <td>0   </td> <td>0    </td> <td>0      </td> <td>0   </td> <td>0    </td> <td>0        </td> <td>0.000397852</td> <td>0    </td> <td>0    </td> <td>0    </td> <td>0   </td> <td>0.000198926</td> <td>0    </td> <td>0   </td> <td>0    </td> <td>0   </td> <td>0   </td> <td>0.000397852</td> <td>0         </td> <td>0      </td> <td>0   </td> <td>0     </td> <td>0      </td> <td>0    </td> <td>0       </td> <td>0    </td> <td>0   </td> <td>0      </td> <td>0.000596777</td> <td>0   </td> <td>0     </td> <td>0   </td> <td>0     </td> <td>0   </td> <td>0     </td> <td>0     </td> <td>0    </td> <td>0   </td> <td>0       </td> <td>0.000198926</td> <td>0.000198926</td> <td>0     </td> <td>0    </td> <td>0         </td> <td>0    </td> <td>0         </td> <td>0    </td> <td>0     </td> <td>0   </td> <td>0   </td> <td>0.000198926</td> <td>0       </td> <td>0    </td> <td>0   </td> <td>0   </td> <td>0   </td> <td>0     </td> <td>0.00318281</td> <td>0   </td> <td>0      </td> <td>0      </td> <td>0      </td> <td>0     </td> <td>0      </td> <td>0.000198926</td> <td>0      </td> <td>0    </td> <td>0        </td> <td>0      </td> <td>0   </td> <td>0     </td> <td>0         </td> <td>0   </td> <td>0     </td> <td>0.000397852</td> <td>0     </td> <td>0     </td> <td>0    </td> <td>0   </td> <td>0   </td> <td>0.000795703</td> <td>0   </td> <td>0     </td> <td>0   </td> <td>0   </td> <td>0    </td> <td>0       </td> <td>0      </td> <td>0     </td> <td>0.000198926</td> <td>0     </td> <td>0     </td> <td>0    </td> <td>0     </td> <td>0.000397852</td> <td>0   </td> <td>0     </td> <td>0       </td> <td>0   </td> <td>0   </td> <td>0    </td> <td>0.000198926</td> <td>0.000198926</td> <td>0.000198926</td> <td>0   </td> <td>0    </td> <td>0.000397852</td> <td>0      </td> <td>0         </td> <td>0.000198926</td> <td>0     </td> <td>0   </td> <td>0    </td> <td>0      </td> <td>0        </td> <td>0     </td> <td>0     </td> <td>0    </td> <td>0    </td> <td>0   </td> <td>0         </td> <td>0   </td> <td>0.000198926</td> <td>0     </td> <td>0    </td> <td>0   </td> <td>0.000198926</td> <td>0        </td> <td>0   </td> <td>0   </td> <td>0       </td> <td>0    </td> <td>0     </td> <td>0    </td> <td>0.000198926</td> <td>0      </td> <td>0    </td> <td>0   </td> <td>0     </td> <td>0    </td> <td>0      </td> <td>0     </td> <td>0.000994629</td> <td>0     </td> <td>0   </td> <td>0.00159141</td> <td>0   </td> <td>0.000198926</td> <td>0      </td> <td>0   </td> <td>0   </td> <td>0    </td> <td>0   </td> <td>0   </td> <td>0   </td> <td>0     </td> <td>0    </td> <td>0     </td> <td>0      </td> <td>0   </td> <td>0.000198926</td> <td>0   </td> <td>0    </td> <td>0      </td> <td>0      </td> <td>0     </td> <td>0   </td> <td>0    </td> <td>0    </td> <td>0   </td> <td>0    </td> <td>0      </td> <td>0.000795703</td> <td>0        </td> <td>0   </td> <td>0      </td> <td>0.00198926</td> <td>0    </td> <td>0    </td> <td>0.000198926</td> <td>0   </td> <td>0   </td> <td>0   </td> <td>0.000198926</td> <td>0   </td> <td>0.000397852</td> <td>0      </td> <td>0     </td> <td>0    </td> <td>0    </td> <td>0.000596777</td> <td>0   </td> <td>0   </td> <td>0.00656455</td> <td>0     </td> <td>0   </td> <td>0          </td> <td>0    </td> <td>0    </td> <td>0    </td> <td>0   </td> <td>0    </td> <td>0    </td> <td>0     </td> <td>0   </td> <td>0    </td> <td>0.000198926</td> <td>0   </td> <td>0      </td> <td>0      </td> <td>0.000397852</td> <td>0.000198926 </td> <td>0     </td> <td>0     </td> <td>0   </td> <td>0.000795703</td> <td>0      </td> <td>0      </td> <td>0    </td> <td>0   </td> <td>0   </td> <td>0   </td> <td>0    </td> <td>0      </td> <td>0   </td> <td>0      </td> <td>0   </td> <td>0   </td> <td>0.000198926</td> <td>0       </td> <td>0   </td> <td>0    </td> <td>0        </td> <td>0       </td> <td>0    </td> <td>0      </td> <td>0   </td> <td>0   </td> <td>0   </td> <td>0    </td> <td>0     </td> <td>0    </td> <td>0    </td> <td>0     </td> <td>0.000198926</td> <td>0     </td> <td>0     </td> <td>0    </td> <td>0    </td> <td>0    </td> <td>0     </td> <td>0       </td> <td>0.000198926</td> <td>0    </td> <td>0      </td> <td>0      </td> <td>0   </td> <td>0   </td> <td>0   </td> <td>0.000397852</td> <td>0    </td> <td>0     </td> <td>0    </td> <td>0    </td> <td>0     </td> <td>0     </td> <td>0       </td> <td>0   </td> <td>0   </td> <td>0   </td> <td>0.000596777</td> <td>0    </td> <td>0    </td> <td>0.00895166</td> <td>0    </td> <td>0     </td> <td>0      </td> <td>0     </td> <td>0    </td> <td>0   </td> <td>0   </td> <td>0.000198926</td> <td>0     </td> <td>0   </td> <td>0         </td> <td>0   </td> <td>0     </td> <td>0    </td> <td>0.000397852</td> <td>0       </td> <td>0   </td> <td>0   </td> <td>0        </td> <td>0   </td> <td>0   </td> <td>0        </td> <td>0   </td> <td>0       </td> <td>0      </td> <td>0   </td> <td>0    </td> <td>0.000397852</td> <td>0.000994629</td> <td>0   </td> <td>0.000198926</td> <td>0.000596777</td> <td>0.000198926</td> <td>0     </td> <td>0     </td> <td>0     </td> <td>0     </td> <td>0     </td> <td>0.00179033</td> <td>0   </td> <td>0   </td> <td>0    </td> <td>0    </td> <td>0        </td> <td>0   </td> <td>0    </td> <td>0   </td> <td>0        </td> <td>0       </td> <td>0     </td> <td>0.000198926</td> <td>0    </td> <td>0.000994629</td> <td>0.000198926</td> <td>0         </td> <td>0   </td> <td>0     </td> <td>0   </td> <td>0   </td> <td>0   </td> <td>0      </td> <td>0.000198926</td> <td>0.000198926</td> <td>0      </td> <td>0    </td> <td>0      </td> <td>0    </td> <td>0       </td> <td>0     </td> <td>0       </td> <td>0.000397852</td> <td>0    </td> <td>0   </td> <td>0.000198926</td> <td>0.000198926</td> <td>0     </td> <td>0   </td> <td>0   </td> <td>0    </td> <td>0.000397852</td> <td>0     </td> <td>0   </td> <td>0     </td> <td>0     </td> <td>0    </td> <td>0.000198926</td> <td>0    </td> <td>0        </td> <td>0   </td> <td>0          </td> <td>0     </td> <td>0       </td> <td>0   </td> <td>0   </td> <td>0    </td> <td>0      </td> <td>0    </td> <td>0     </td> <td>0       </td> <td>0    </td> <td>0    </td> <td>0      </td> <td>0   </td> <td>0     </td> <td>0     </td> <td>0   </td> <td>0   </td> <td>0   </td> <td>0.000198926</td> <td>0.00934951</td> <td>0    </td> <td>0      </td> <td>0    </td> <td>0    </td> <td>0     </td> <td>0.000198926</td> <td>0     </td> <td>0     </td> <td>0.00198926</td> <td>0     </td> <td>0   </td> <td>0     </td> <td>0     </td> <td>0      </td> <td>0    </td> <td>0   </td> <td>0    </td> <td>0    </td> <td>0      </td> <td>0       </td> <td>0    </td> <td>0   </td> <td>0     </td> <td>0     </td> <td>0      </td> <td>0   </td> <td>0     </td> <td>0    </td> <td>0     </td> <td>0.000198926</td> <td>0.000596777</td> <td>0.000994629</td> <td>0   </td> <td>0        </td> <td>0          </td> <td>0      </td> <td>0   </td> <td>0    </td> <td>0   </td> <td>0   </td> <td>0      </td> <td>0.000397852</td> <td>0.000198926</td> <td>0    </td> <td>0    </td> <td>0.000198926</td> <td>0    </td> <td>0.000397852</td> <td>0      </td> <td>0   </td> <td>0    </td> <td>0     </td> <td>0      </td> <td>0     </td> <td>0   </td> <td>0    </td> <td>0     </td> <td>0    </td> <td>0     </td> <td>0.000994629</td> <td>0      </td> <td>0     </td> <td>0   </td> <td>0    </td> <td>0   </td> <td>0      </td> <td>0    </td> <td>0      </td> <td>0     </td> <td>0   </td> <td>0         </td> <td>0      </td> <td>0.000397852</td> <td>0      </td> <td>0      </td> <td>0     </td> <td>0    </td> <td>0.000397852</td> <td>0      </td> <td>0       </td> <td>0     </td> <td>0    </td> <td>0      </td> <td>0       </td> <td>0         </td> <td>0     </td> <td>0     </td> <td>0      </td> <td>0.000596777</td> <td>0.000198926</td> <td>0     </td> <td>0    </td> <td>0    </td> <td>0    </td> <td>0       </td> <td>0    </td> <td>0.00139248</td> <td>0     </td> <td>0      </td> <td>0    </td> <td>0    </td> <td>0   </td> <td>0       </td> <td>0.000596777</td> <td>0        </td> <td>0     </td> <td>0        </td> <td>0    </td> <td>0      </td> <td>0    </td> <td>0    </td> <td>0   </td> <td>0     </td> <td>0   </td> <td>0    </td> <td>0   </td> <td>0      </td> <td>0     </td> <td>0   </td> <td>0     </td> <td>0    </td> <td>0   </td> <td>0   </td> <td>0     </td> <td>0.000198926</td> <td>0   </td> <td>0      </td> <td>0     </td> <td>0   </td> <td>0    </td> <td>0   </td> <td>0      </td> <td>0       </td> <td>0      </td> <td>0      </td> <td>0    </td> <td>0    </td> <td>0      </td> <td>0    </td> <td>0   </td> <td>0.000198926</td> <td>0    </td> <td>0      </td> <td>0   </td> <td>0    </td> <td>0    </td> <td>0.000397852</td> <td>0    </td> <td>0       </td> <td>0   </td> <td>0      </td> <td>0      </td> <td>0   </td> <td>0      </td> <td>0     </td> <td>0   </td> <td>0     </td> <td>0.000198926</td> <td>0.000397852</td> <td>0   </td> <td>0.00179033</td> <td>0     </td> <td>0      </td> <td>0       </td> <td>0   </td> <td>0     </td> <td>0      </td> <td>0.000795703</td> <td>0        </td> <td>0      </td> <td>0   </td> <td>0.000198926</td> <td>0.000596777</td> <td>0    </td> <td>0      </td> <td>0   </td> <td>0   </td> <td>0        </td> <td>0     </td> <td>0   </td> <td>0   </td> <td>0   </td> <td>0     </td> <td>0    </td> <td>0        </td> <td>0          </td> <td>0   </td> <td>0      </td> <td>0   </td> <td>0    </td> <td>0    </td> <td>0     </td> <td>0     </td> <td>0.000397852</td> <td>0.000198926</td> <td>0    </td> <td>0   </td> <td>0     </td> <td>0.000198926</td> <td>0    </td> <td>0   </td> <td>0   </td> <td>0     </td> <td>0    </td> <td>0.000198926</td> <td>0   </td> <td>0     </td> <td>0    </td> <td>0       </td> <td>0     </td> <td>0.000198926</td> <td>0   </td> <td>0     </td> <td>0      </td> <td>0    </td> <td>0   </td> <td>0     </td> <td>0    </td> <td>0        </td> <td>0    </td> <td>0    </td> <td>0     </td> <td>0   </td> <td>0   </td> <td>0    </td> <td>0   </td> <td>0.00159141</td> <td>0    </td> <td>0.0280485</td> <td>0     </td> <td>0.000198926</td> <td>0.000795703</td> <td>0      </td> <td>0    </td> <td>0       </td> <td>0      </td> <td>0   </td> <td>0    </td> <td>0   </td> <td>0   </td> <td>0.000198926</td> <td>0     </td> <td>0   </td> <td>0     </td> <td>0      </td> <td>0   </td> <td>0     </td> <td>0    </td> <td>0      </td> <td>0     </td> <td>0      </td> <td>0.000198926</td> <td>0    </td> <td>0    </td> <td>0.000198926</td> <td>0     </td> <td>0     </td> <td>0   </td> <td>0    </td> <td>0      </td> <td>0.000198926</td> <td>0.000397852</td> <td>0   </td> <td>0   </td> <td>0   </td> <td>0.000198926</td> <td>0     </td> <td>0   </td> <td>0        </td> <td>0      </td> <td>0    </td> <td>0.000198926</td> <td>0.000994629</td> <td>0      </td> <td>0.000198926</td> <td>0   </td> <td>0       </td> <td>0.00417744</td> <td>0   </td> <td>0    </td> <td>0     </td> <td>0.000596777</td> <td>0      </td> <td>0    </td> <td>0.000198926</td> <td>0     </td> <td>0       </td> <td>0    </td> <td>0    </td> <td>0     </td> <td>0   </td> <td>0.0173065</td> <td>0       </td> <td>0    </td> <td>0   </td> <td>0      </td> <td>0       </td> <td>0      </td> <td>0    </td> <td>0     </td> <td>0     </td> <td>0      </td> <td>0.000198926</td> <td>0.000994629</td> <td>0     </td> <td>0   </td> <td>0   </td> <td>0   </td> <td>0.000397852</td> <td>0      </td> <td>0      </td> <td>0     </td> <td>0   </td> <td>0.000198926</td> <td>0     </td> <td>0   </td> <td>0   </td> <td>0   </td> <td>0.000198926</td> <td>0    </td> <td>0       </td> <td>0.00139248</td> <td>0   </td> <td>0.000198926</td> <td>0     </td> <td>0      </td> <td>0.00139248</td> <td>0   </td> <td>0     </td> <td>0    </td> <td>0        </td> <td>0     </td> <td>0     </td> <td>0     </td> <td>0      </td> <td>0     </td> <td>0     </td> <td>0        </td> <td>0     </td> <td>0      </td> <td>0     </td> <td>0      </td> <td>0     </td> <td>0     </td> <td>0.000198926</td> <td>0   </td> <td>0     </td> <td>0   </td> <td>0    </td> <td>0     </td> <td>0   </td> <td>0   </td> <td>0    </td> <td>0    </td> <td>0.000994629</td> <td>0    </td> <td>0    </td> <td>0   </td> <td>0   </td> <td>0   </td> <td>0.000198926</td> <td>0    </td> <td>0   </td> <td>0      </td> <td>0.000397852</td> <td>0.000397852</td> <td>0.000198926</td> <td>0.000198926</td> <td>0      </td> <td>0   </td> <td>0    </td> <td>0       </td> <td>0    </td> <td>0    </td> <td>0      </td> <td>0    </td> <td>0   </td> <td>0     </td> <td>0     </td> <td>0   </td> <td>0.000198926</td> <td>0    </td> <td>0       </td> <td>0     </td> <td>0      </td> <td>0    </td> <td>0.000397852</td> <td>0   </td> <td>0.000198926</td> <td>0.000198926</td> <td>0        </td> <td>0   </td> <td>0   </td> <td>0   </td> <td>0      </td> <td>0    </td> <td>0        </td> <td>0      </td> <td>0      </td> <td>0.00974736</td> <td>0     </td> <td>0   </td> <td>0      </td> <td>0.000795703</td> <td>0     </td> <td>0.000198926</td> <td>0     </td> <td>0    </td> <td>0    </td> <td>0   </td> <td>0    </td> <td>0      </td> <td>0   </td> <td>0      </td> <td>0   </td> <td>0     </td> <td>0    </td> <td>0      </td> <td>0.000198926</td> <td>0      </td> <td>0    </td> <td>0   </td> <td>0       </td> <td>0     </td> <td>0.000198926</td> <td>0    </td> <td>0    </td> <td>0.000198926</td> <td>0.000397852</td> <td>0.000596777</td> <td>0      </td> <td>0.000198926</td> <td>0     </td> <td>0   </td> <td>0   </td> <td>0    </td> <td>0     </td> <td>0.00159141</td> <td>0   </td> <td>0.00318281</td> <td>0.00915059</td> <td>0    </td> <td>0    </td> <td>0     </td> <td>0    </td> <td>0   </td> <td>0    </td> <td>0      </td> <td>0      </td> <td>0     </td> <td>0      </td> <td>0    </td> <td>0   </td> <td>0    </td> <td>0   </td> <td>0       </td> <td>0      </td> <td>0     </td> <td>0   </td> <td>0   </td> <td>0.000198926</td> <td>0   </td> <td>0.000198926</td> <td>0       </td> <td>0   </td> <td>0   </td> <td>0     </td> <td>0    </td> <td>0      </td> <td>0     </td> <td>0.000198926</td> <td>0    </td> <td>0        </td> <td>0   </td> <td>0      </td> <td>0     </td> <td>0     </td> <td>0    </td> <td>0    </td> <td>0.000397852</td> <td>0       </td> <td>0    </td> <td>0.000397852</td> <td>0     </td> <td>0     </td> <td>0.000198926</td> <td>0      </td> <td>0     </td> <td>0   </td> <td>0    </td> <td>0.000198926</td> <td>0   </td> <td>0   </td> <td>0   </td> <td>0   </td> <td>0     </td> <td>0    </td> <td>0    </td> <td>0      </td> <td>0     </td> <td>0.000198926</td> <td>0   </td> <td>0    </td> <td>0    </td> <td>0      </td> <td>0         </td> <td>0.000397852</td> <td>0   </td> <td>0   </td> <td>0        </td> <td>0   </td> <td>0    </td> <td>0   </td> <td>0    </td> <td>0.000198926</td> <td>0.00358066</td> <td>0    </td> <td>0   </td> <td>0    </td> <td>0.00298389</td> <td>0   </td> <td>0      </td> <td>0   </td> <td>0   </td> <td>0   </td> <td>0.000198926</td> <td>0   </td> <td>0   </td> <td>0       </td> <td>0    </td> <td>0     </td> <td>0     </td> <td>0   </td> <td>0     </td> <td>0.000198926</td> <td>0     </td> <td>0    </td> <td>0     </td> <td>0    </td> <td>0.000198926</td> <td>0      </td> <td>0     </td> <td>0   </td> <td>0     </td> <td>0    </td> <td>0   </td> <td>0    </td> <td>0    </td> <td>0.000198926</td> <td>0     </td> <td>0      </td> <td>0     </td> <td>0     </td> <td>0     </td> <td>0.000397852</td> <td>0.00139248</td> <td>0.000198926</td> <td>0    </td> <td>0   </td> <td>0.000994629</td> <td>0   </td> <td>0     </td> <td>0       </td> <td>0     </td> <td>0   </td> <td>0   </td> <td>0     </td> <td>0   </td> <td>0     </td> <td>0    </td> <td>0      </td> <td>0    </td> <td>0.000198926</td> <td>0     </td> <td>0   </td> <td>0   </td> <td>0    </td> <td>0    </td> <td>0       </td> <td>0    </td> <td>0      </td> <td>0    </td> <td>0      </td> <td>0.000596777</td> <td>0    </td> <td>0.000198926</td> <td>0   </td> <td>0   </td> <td>0   </td> <td>0    </td> <td>0   </td> <td>0      </td> <td>0.000397852</td> <td>0     </td> <td>0     </td> <td>0    </td> <td>0.000795703</td> <td>0   </td> <td>0.000397852</td> <td>0       </td> <td>0    </td> <td>0.000198926</td> <td>0   </td> <td>0    </td> <td>0   </td> <td>0     </td> <td>0     </td> <td>0   </td> <td>0   </td> <td>0       </td> <td>0    </td> <td>0.000198926</td> <td>0     </td> <td>0    </td> <td>0    </td> <td>0       </td> <td>0   </td> <td>0    </td> <td>0    </td> <td>0   </td> <td>0    </td> <td>0         </td> <td>0   </td> <td>0    </td> <td>0.000198926</td> <td>0     </td> <td>0   </td> <td>0     </td> <td>0.000198926</td> <td>0    </td> <td>0    </td> <td>0    </td> <td>0     </td> <td>0      </td> <td>0.00278496</td> <td>0.000397852</td> <td>0   </td> <td>0    </td> <td>0.00238711</td> <td>0.000397852</td> <td>0      </td> <td>0    </td> <td>0      </td> <td>0    </td> <td>0    </td> <td>0   </td> <td>0     </td> <td>0       </td> <td>0.000198926</td> <td>0      </td> <td>0.000596777</td> <td>0   </td> <td>0      </td> <td>0    </td> <td>0   </td> <td>0   </td> <td>0       </td> <td>0    </td> <td>0   </td> <td>0.00278496</td> <td>0    </td> <td>0.000596777</td> <td>0      </td> <td>0.000198926</td> <td>0     </td> <td>0      </td> <td>0.000795703</td> <td>0    </td> <td>0    </td> <td>0    </td> <td>0   </td> <td>0      </td> <td>0     </td> <td>0       </td> <td>0.000994629</td> <td>0   </td> <td>0   </td> <td>0    </td> <td>0   </td> <td>0   </td> <td>0      </td> <td>0   </td> <td>0     </td> <td>0    </td> <td>0   </td> <td>0    </td> <td>0    </td> <td>0      </td> <td>0.00238711</td> <td>0   </td> <td>0       </td> <td>0   </td> <td>0     </td> <td>0   </td> <td>0        </td> <td>0   </td> <td>0     </td> <td>0    </td> <td>0.000198926</td> <td>0.000596777</td> <td>0     </td> <td>0.000198926</td> <td>0       </td> <td>0        </td> <td>0    </td> <td>0    </td> <td>0   </td> <td>0.000994629</td> <td>0.000397852</td> <td>0   </td> <td>0    </td> <td>0           </td> <td>0       </td> <td>0.00198926</td> <td>0    </td> <td>0    </td> <td>0.000198926</td> <td>0     </td> <td>0      </td> <td>0   </td> <td>0       </td> <td>0      </td> <td>0   </td> <td>0       </td> <td>0        </td> <td>0     </td> <td>0      </td> <td>0     </td> <td>0   </td> <td>0.000596777</td> <td>0     </td> <td>0    </td> <td>0   </td> <td>0.000198926</td> <td>0   </td> <td>0.000397852</td> <td>0   </td> <td>0      </td> <td>0   </td> <td>0     </td> <td>0     </td> <td>0     </td> <td>0.000198926</td> <td>0     </td> <td>0    </td> <td>0         </td> <td>0.000198926</td> <td>0    </td> <td>0     </td> <td>0      </td> <td>0      </td> <td>0       </td> <td>0   </td> <td>0   </td> <td>0     </td> <td>0       </td> <td>0.000198926</td> <td>0      </td> <td>0     </td> <td>0     </td> <td>0    </td> <td>0   </td> <td>0   </td> <td>0.000994629</td> <td>0   </td> <td>0      </td> <td>0.000397852</td> <td>0        </td> <td>0   </td> <td>0.000198926</td> <td>0.000198926</td> <td>0   </td> <td>0      </td> <td>0   </td> <td>0     </td> <td>0    </td> <td>0       </td> <td>0.000198926</td> <td>0    </td> <td>0      </td> <td>0.000994629</td> <td>0   </td> <td>0   </td> <td>0     </td> <td>0   </td> <td>0     </td> <td>0     </td> <td>0.000198926</td> <td>0      </td> <td>0    </td> <td>0    </td> <td>0     </td> <td>0     </td> <td>0   </td> <td>0    </td> <td>0      </td> <td>0   </td> <td>0   </td> <td>0.00159141</td> <td>0      </td> <td>0     </td> <td>0   </td> <td>0.000795703</td> <td>0    </td> <td>0     </td> <td>0       </td> <td>0.000198926</td> <td>0.000198926</td> <td>0     </td> <td>0     </td> <td>0      </td> <td>0.000397852</td> <td>0    </td> <td>0     </td> <td>0   </td> <td>0.00437637</td> <td>0   </td> <td>0    </td> <td>0     </td> <td>0.000198926</td> <td>0    </td> <td>0     </td> <td>0       </td> <td>0     </td> <td>0    </td> <td>0    </td> <td>0    </td> <td>0   </td> <td>0     </td> <td>0.000198926</td> <td>0      </td> <td>0     </td> <td>0   </td> <td>0       </td> <td>0   </td> <td>0   </td> <td>0.000596777</td> <td>0.000397852</td> <td>0    </td> <td>0    </td> <td>0    </td> <td>0    </td> <td>0    </td> <td>0.00119355</td> <td>0   </td> <td>0    </td> <td>0    </td> <td>0     </td> <td>0.000397852</td> <td>0   </td> <td>0      </td> <td>0    </td> <td>0      </td> <td>0     </td> <td>0      </td> <td>0   </td> <td>0   </td> <td>0   </td> <td>0    </td> <td>0   </td> <td>0   </td> <td>0    </td> <td>0.000198926</td> <td>0       </td> <td>0.000397852</td> <td>0   </td> <td>0.000397852</td> <td>0.000994629</td> <td>0     </td> <td>0     </td> <td>0   </td> <td>0   </td> <td>0       </td> <td>0    </td> <td>0    </td> <td>0       </td> <td>0     </td> <td>0.000596777</td> <td>0   </td> <td>0   </td> <td>0      </td> <td>0    </td> <td>0   </td> <td>0.000198926</td> <td>0    </td> <td>0.000198926</td> <td>0     </td> <td>0   </td> <td>0.000198926</td> <td>0   </td> <td>0   </td> <td>0    </td> <td>0   </td> <td>0.000198926</td> <td>0       </td> <td>0    </td> <td>0.00179033</td> <td>0      </td> <td>0.000198926</td> <td>0    </td> <td>0    </td> <td>0    </td> <td>0      </td> <td>0   </td> <td>0.000198926</td> <td>0    </td> <td>0    </td> <td>0   </td> <td>0.000198926</td> <td>0.000994629</td> <td>0.000198926</td> <td>0       </td> <td>0    </td> <td>0.00377959</td> <td>0   </td> <td>0           </td> <td>0     </td> <td>0.000198926</td> <td>0.00119355</td> <td>0     </td> <td>0    </td> <td>0.000397852</td> <td>0    </td> <td>0.000397852</td> <td>0      </td> <td>0      </td> <td>0      </td> <td>0   </td> <td>0.029441</td> <td>0    </td> <td>0    </td> <td>0.00139248</td> <td>0      </td> <td>0   </td> <td>0.000397852</td> <td>0        </td> <td>0    </td> <td>0      </td> <td>0     </td> <td>0.00238711</td> <td>0      </td> <td>0     </td> <td>0   </td> <td>0    </td> <td>0    </td> <td>0   </td> <td>0.000596777</td> <td>0   </td> <td>0.000198926</td> <td>0    </td> <td>0    </td> <td>0.000198926</td> <td>0   </td> <td>0.00159141</td> <td>0   </td> <td>0      </td> <td>0     </td> <td>0      </td> <td>0.000795703</td> <td>0    </td> <td>0.000397852</td> <td>0   </td> <td>0.000198926</td> <td>0   </td> <td>0.000596777</td> <td>0    </td> <td>0     </td> <td>0       </td> <td>0      </td> <td>0    </td> <td>0   </td> <td>0    </td> <td>0      </td> <td>0    </td> <td>0     </td> <td>0       </td> <td>0    </td> <td>0   </td> <td>0    </td> <td>0    </td> <td>0     </td> <td>0   </td> <td>0           </td> <td>0.000198926</td> <td>0    </td> <td>0    </td> <td>0.000994629</td> <td>0.000198926</td> <td>0   </td> <td>0       </td> <td>0     </td> <td>0     </td> <td>0    </td> <td>0.000198926</td> <td>0    </td> <td>0.000397852</td> <td>0    </td> <td>0      </td> <td>0   </td> <td>0      </td> <td>0.000994629</td> <td>0     </td> <td>0    </td> <td>0      </td> <td>0    </td> <td>0.000198926</td> <td>0.000198926</td> <td>0    </td> <td>0    </td> <td>0        </td> <td>0   </td> <td>0    </td> <td>0   </td> <td>0    </td> <td>0    </td> <td>0       </td> <td>0        </td> <td>0.00397852</td> <td>0     </td> <td>0    </td> <td>0.000397852</td> <td>0    </td> <td>0     </td> <td>0    </td> <td>0       </td> <td>0      </td> <td>0     </td> <td>0      </td> <td>0   </td> <td>0.000198926</td> <td>0      </td> <td>0    </td> <td>0    </td> <td>0      </td> <td>0   </td> <td>0    </td> <td>0   </td> <td>0   </td> <td>0.000198926</td> <td>0        </td> <td>0   </td> <td>0     </td> <td>0   </td> <td>0    </td> <td>0   </td> <td>0     </td> <td>0.000198926</td> <td>0      </td> <td>0     </td> <td>0         </td> <td>0   </td> <td>0      </td> <td>0       </td> <td>0    </td> <td>0   </td> <td>0      </td> <td>0   </td> <td>0.000795703</td> <td>0   </td> <td>0   </td> <td>0       </td> <td>0     </td> <td>0     </td> <td>0   </td> <td>0.000795703</td> <td>0   </td> <td>0    </td> <td>0   </td> <td>0     </td> <td>0    </td> <td>0   </td> <td>0    </td> <td>0    </td> <td>0   </td> <td>0.000596777</td> <td>0.000397852</td> <td>0    </td> <td>0     </td> <td>0    </td> <td>0     </td> <td>0   </td> <td>0    </td> <td>0    </td> <td>0    </td> <td>0     </td> <td>0   </td> <td>0   </td> <td>0    </td> <td>0     </td> <td>0   </td> <td>0.000397852</td> <td>0   </td> <td>0    </td> <td>0.000198926</td> <td>0    </td> <td>0       </td> <td>0     </td> <td>0   </td> <td>0   </td> <td>0      </td> <td>0    </td> <td>0.000198926</td> <td>0      </td> <td>0     </td> <td>0   </td> <td>0       </td> <td>0.000198926</td> <td>0   </td> <td>0   </td> <td>0.000198926</td> <td>0.000198926</td> <td>0        </td> <td>0   </td> <td>0    </td> <td>0       </td> <td>0   </td> <td>0   </td> <td>0      </td> <td>0.000198926</td> <td>0      </td> <td>0        </td> <td>0     </td> <td>0.000198926</td> <td>0     </td> <td>0     </td> <td>0    </td> <td>0      </td> <td>0      </td> <td>0    </td> <td>0   </td> <td>0.000198926</td> <td>0    </td> <td>0   </td> <td>0.00198926</td> <td>0       </td> <td>0    </td> <td>0     </td> <td>0   </td> <td>0   </td> <td>0   </td> <td>0     </td> <td>0   </td> <td>0    </td> <td>0.000397852</td> <td>0   </td> <td>0.000198926</td> <td>0.000198926</td> <td>0      </td> <td>0    </td> <td>0.000198926</td> <td>0     </td> <td>0     </td> <td>0     </td> <td>0   </td> <td>0   </td> <td>0   </td> <td>0   </td> <td>0.000198926</td> <td>0     </td> <td>0     </td> <td>0   </td> <td>0.000198926</td> <td>0    </td> <td>0     </td> <td>0    </td> <td>0       </td> <td>0      </td> <td>0     </td> <td>0           </td> <td>0.00716133</td> <td>0   </td> <td>0        </td> <td>0   </td> <td>0    </td> <td>0    </td> <td>0.000397852</td> <td>0   </td> <td>0     </td> <td>0      </td> <td>0      </td> <td>0.000198926</td> <td>0     </td> <td>0.000198926</td> <td>0    </td> <td>0      </td> <td>0   </td> <td>0    </td> <td>0      </td> <td>0        </td> <td>0   </td> <td>0.000198926</td> <td>0    </td> <td>0.000397852</td> <td>0    </td> <td>0.000198926</td> <td>0     </td> <td>0     </td> <td>0       </td> <td>0.000198926</td> <td>0.000596777</td> <td>0.000198926</td> <td>0    </td> <td>0   </td> <td>0     </td> <td>0.00218818</td> <td>0   </td> <td>0   </td> <td>0        </td> <td>0      </td> <td>0    </td> <td>0.000198926</td> <td>0     </td> <td>0.000397852</td> <td>0   </td> <td>0       </td> <td>0     </td> <td>0   </td> <td>0    </td> <td>0       </td> <td>0     </td> <td>0    </td> <td>0       </td> <td>0    </td> <td>0    </td> <td>0   </td> <td>0.000198926</td> <td>0    </td> <td>0      </td> <td>0    </td> <td>0     </td> <td>0     </td> <td>0    </td> <td>0    </td> <td>0   </td> <td>0       </td> <td>0   </td> <td>0   </td> <td>0    </td> <td>0   </td> <td>0     </td> <td>0     </td> <td>0    </td> <td>0       </td> <td>0     </td> <td>0    </td> <td>0     </td> <td>0.000198926</td> <td>0.000198926</td> <td>0     </td> <td>0        </td> <td>0    </td> <td>0      </td> <td>0.000198926</td> <td>0    </td> <td>0    </td> <td>0    </td> <td>0    </td> <td>0.000198926</td> <td>0    </td> <td>0    </td> <td>0   </td> <td>0    </td> <td>0       </td> <td>0    </td> <td>0     </td> <td>0.000198926</td> <td>0.000198926</td> <td>0      </td> <td>0       </td> <td>0    </td> <td>0   </td> <td>0    </td> <td>0      </td> <td>0      </td> <td>0.000198926</td> <td>0.0397852</td> <td>0.000198926</td> <td>0    </td> <td>0.000397852</td> <td>0      </td> <td>0     </td> <td>0   </td> <td>0   </td> <td>0   </td> <td>0    </td> <td>0.000795703</td> <td>0      </td> <td>0.000795703</td> <td>0    </td> <td>0.000198926</td> <td>0.000198926</td> <td>0      </td> <td>0     </td> <td>0      </td> <td>0     </td> <td>0     </td> <td>0        </td> <td>0     </td> <td>0     </td> <td>0   </td> <td>0    </td> <td>0     </td> <td>0.000198926</td> <td>0   </td> <td>0    </td> <td>0    </td> <td>0   </td> <td>0     </td> <td>0     </td> <td>0   </td> <td>0.00875274</td> <td>0.000596777</td> <td>0    </td> <td>0       </td> <td>0   </td> <td>0     </td> <td>0    </td> <td>0.000397852</td> <td>0     </td> <td>0         </td> <td>0     </td> <td>0      </td> <td>0      </td> <td>0      </td> <td>0.000397852</td> <td>0       </td> <td>0.000596777</td> <td>0.000198926</td> <td>0     </td> <td>0.0489357</td> <td>0.000198926</td> <td>0      </td> <td>0.00119355</td> <td>0     </td> <td>0    </td> <td>0.000198926</td> <td>0.000198926</td> <td>0   </td> <td>0       </td> <td>0   </td> <td>0      </td> <td>0   </td> <td>0        </td> <td>0.000198926</td> <td>0    </td> <td>0   </td> <td>0   </td> <td>0    </td> <td>0     </td> <td>0    </td> <td>0     </td> <td>0     </td> <td>0    </td> <td>0   </td> <td>0.000198926</td> <td>0    </td> <td>0.000198926</td> <td>0   </td> <td>0     </td> <td>0      </td> <td>0    </td> <td>0      </td> <td>0        </td> <td>0       </td> <td>0    </td> <td>0         </td> <td>0   </td> <td>0     </td> <td>0    </td> <td>0   </td> <td>0      </td> <td>0     </td> <td>0.00119355</td> <td>0     </td> <td>0       </td> <td>0     </td> <td>0   </td> <td>0   </td> <td>0       </td> <td>0       </td> <td>0   </td> <td>0   </td> <td>0    </td> <td>0   </td> <td>0    </td> <td>0.000198926</td> <td>0   </td> <td>0   </td> <td>0    </td> <td>0.000397852</td> <td>0        </td> <td>0   </td> <td>0.000994629</td> <td>0   </td> <td>0     </td> <td>0.000596777</td> <td>0   </td> <td>0    </td> <td>0.000198926</td> <td>0   </td> <td>0   </td> <td>0    </td> <td>0     </td> <td>0   </td> <td>0      </td> <td>0     </td> <td>0    </td> <td>0    </td> <td>0    </td> <td>0   </td> <td>0     </td> <td>0    </td> <td>0   </td> <td>0   </td> <td>0.000397852</td> <td>0     </td> <td>0.00139248</td> <td>0   </td> <td>0    </td> <td>0      </td> <td>0   </td> <td>0.00198926</td> <td>0     </td> <td>0      </td> <td>0    </td> <td>0   </td> <td>0   </td> <td>0.00179033</td> <td>0   </td> <td>0     </td> <td>0.000198926</td> <td>0.000397852</td> <td>0   </td> <td>0.00338174</td> <td>0     </td> <td>0     </td> <td>0   </td> <td>0   </td> <td>0        </td> <td>0    </td> <td>0   </td> <td>0   </td> <td>0.000198926</td> <td>0     </td> <td>0   </td> <td>0     </td> <td>0    </td> <td>0       </td> <td>0     </td> <td>0   </td> <td>0.000198926</td> <td>0    </td> <td>0     </td> <td>0    </td> <td>0    </td> <td>0    </td> <td>0.000198926</td> <td>0    </td> <td>0    </td> <td>0    </td> <td>0   </td> <td>0.000198926</td> <td>0    </td> <td>0       </td> <td>0    </td> <td>0    </td> <td>0.000994629</td> <td>0   </td> <td>0      </td> <td>0   </td> <td>0.000795703</td> <td>0   </td> <td>0   </td> <td>0.000596777</td> <td>0     </td> <td>0      </td> <td>0   </td> <td>0    </td> <td>0   </td> <td>0      </td> <td>0     </td> <td>0     </td> <td>0.000198926</td> <td>0         </td> <td>0.000198926</td> <td>0        </td> <td>0     </td> <td>0    </td> <td>0     </td> <td>0    </td> <td>0    </td> <td>0   </td> <td>0.000198926</td> <td>0.000198926</td> <td>0       </td> <td>0     </td> <td>0     </td> <td>0     </td> <td>0      </td> <td>0   </td> <td>0     </td> <td>0.000198926</td> <td>0   </td> <td>0     </td> <td>0   </td> <td>0.000198926</td> <td>0   </td> <td>0   </td> <td>0      </td> <td>0       </td> <td>0    </td> <td>0   </td> <td>0.000397852</td> <td>0    </td> <td>0       </td> <td>0    </td> <td>0.00278496</td> <td>0    </td> <td>0    </td> <td>0      </td> <td>0   </td> <td>0    </td> <td>0   </td> <td>0     </td> <td>0   </td> <td>0     </td> <td>0      </td> <td>0.000397852</td> <td>0   </td> <td>0   </td> <td>0      </td> <td>0      </td> <td>0     </td> <td>0     </td> <td>0   </td> <td>0       </td> <td>0     </td> <td>0      </td> <td>0.000198926</td> <td>0   </td> <td>0    </td> <td>0       </td> <td>0     </td> <td>0     </td> <td>0     </td> <td>0   </td> <td>0   </td> <td>0     </td> <td>0     </td> <td>0    </td> <td>0.000198926</td> <td>0   </td> <td>0     </td> <td>0     </td> <td>0     </td> <td>0    </td> <td>0    </td> <td>0     </td> <td>0   </td> <td>0       </td> <td>0.000397852</td> <td>0     </td> <td>0.000198926</td> <td>0     </td> <td>0     </td> <td>0    </td> <td>0.000198926</td> <td>0.000198926</td> <td>0       </td> <td>0     </td> <td>0   </td> <td>0     </td> <td>0.000596777</td> <td>0          </td> <td>0      </td> <td>0      </td> <td>0    </td> <td>0    </td> <td>0.000397852</td> <td>0   </td> <td>0    </td> <td>0   </td> <td>0      </td> <td>0   </td> <td>0    </td> <td>0.000198926</td> <td>0       </td> <td>0     </td> <td>0     </td> <td>0.000198926</td> <td>0     </td> <td>0     </td> <td>0       </td> <td>0.000198926</td> <td>0.000397852</td> <td>0    </td> <td>0     </td> <td>0.000198926</td> <td>0        </td> <td>0      </td> <td>0   </td> <td>0      </td> <td>0       </td> <td>0   </td> <td>0.000198926</td> <td>0   </td> <td>0     </td> <td>0     </td> <td>0.000198926</td> <td>0    </td> <td>0     </td> <td>0      </td> <td>0     </td> <td>0   </td> <td>0     </td> <td>0       </td> <td>0.000397852</td> <td>0    </td> <td>0.000198926</td> <td>0   </td> <td>0       </td> <td>0       </td> <td>0     </td> <td>0.000198926</td> <td>0      </td> <td>0.000994629</td> <td>0   </td> <td>0    </td> <td>0   </td> <td>0   </td> <td>0   </td> <td>0    </td> <td>0    </td> <td>0     </td> <td>0      </td> <td>0     </td> <td>0.0069624</td> <td>0.000994629</td> <td>0     </td> <td>0     </td> <td>0   </td> <td>0      </td> <td>0   </td> <td>0    </td> <td>0     </td> <td>0     </td> <td>0      </td> <td>0   </td> <td>0   </td> <td>0    </td> <td>0   </td> <td>0.000198926</td> <td>0   </td> <td>0.000198926</td> <td>0.000198926</td> <td>0   </td> <td>0    </td> <td>0      </td> <td>0     </td> <td>0    </td> <td>0    </td> <td>0       </td> <td>0    </td> <td>0       </td> <td>0    </td> <td>0   </td> <td>0     </td> <td>0   </td> <td>0    </td> <td>0        </td> <td>0   </td> <td>0       </td> <td>0.000198926</td> <td>0     </td> <td>0     </td> <td>0     </td> <td>0    </td> <td>0   </td> <td>0     </td> <td>0   </td> <td>0.000198926</td> <td>0   </td> <td>0     </td> <td>0    </td> <td>0      </td> <td>0     </td> <td>0     </td> <td>0     </td> <td>0      </td> <td>0   </td> <td>0   </td> <td>0.000198926</td> <td>0    </td> <td>0    </td> <td>0   </td> <td>0    </td> <td>0    </td> <td>0   </td> <td>0       </td> <td>0    </td> <td>0.000198926</td> <td>0     </td> <td>0   </td> <td>0.000994629</td> <td>0    </td> <td>0.000397852</td> <td>0   </td> <td>0    </td> <td>0      </td> <td>0.000397852</td> <td>0.000795703</td> <td>0     </td> <td>0   </td> <td>0       </td> <td>0         </td> <td>0      </td> <td>0.000198926</td> <td>0.000198926</td> <td>0     </td> <td>0.000198926</td> <td>0         </td> <td>0   </td> <td>0.00119355</td> <td>0   </td> <td>0   </td> <td>0   </td> <td>0.000596777</td> <td>0     </td> <td>0      </td> <td>0    </td> <td>0         </td> <td>0    </td> <td>0         </td> <td>0   </td> <td>0       </td> <td>0.000198926</td> <td>0     </td> <td>0        </td> <td>0     </td> <td>0    </td> <td>0   </td> <td>0     </td> <td>0   </td> <td>0.00556992</td> <td>0    </td> <td>0   </td> <td>0     </td> <td>0   </td> <td>0     </td> <td>0    </td> <td>0.000795703</td> <td>0.000198926</td> <td>0   </td> <td>0     </td> <td>0   </td> <td>0.000198926</td> <td>0     </td> <td>0    </td> <td>0    </td> <td>0       </td> <td>0.000397852</td> <td>0   </td> <td>0.000596777</td> <td>0   </td> <td>0   </td> <td>0.000397852</td> <td>0    </td> <td>0      </td> <td>0      </td> <td>0   </td> <td>0        </td> <td>0    </td> <td>0    </td> <td>0    </td> <td>0   </td> <td>0       </td> <td>0.000795703</td> <td>0   </td> <td>0     </td> <td>0   </td> <td>0.000795703</td> <td>0      </td> <td>0     </td> <td>0.000198926</td> <td>0.00397852</td> <td>0     </td> <td>0   </td> <td>0      </td> <td>0   </td> <td>0.00218818</td> <td>0   </td> <td>0   </td> <td>0      </td> <td>0   </td> <td>0    </td> <td>0     </td> <td>0.000198926</td> <td>0    </td> <td>0    </td> <td>0    </td> <td>0   </td> <td>0.000198926</td> <td>0    </td> <td>0      </td> <td>0       </td> <td>0        </td> <td>0   </td> <td>0   </td> <td>0      </td> <td>0   </td> <td>0.00198926</td> <td>0    </td> <td>0      </td> <td>0    </td> <td>0   </td> <td>0   </td> <td>0    </td> <td>0    </td> <td>0        </td> <td>0    </td> <td>0   </td> <td>0     </td> <td>0.000198926</td> <td>0       </td> <td>0    </td> <td>0    </td> <td>0     </td> <td>0.000397852</td> <td>0.000198926</td> <td>0    </td> <td>0.000198926</td> <td>0    </td> <td>0.000994629</td> <td>0    </td> <td>0.000198926</td> <td>0   </td> <td>0    </td> <td>0     </td> <td>0   </td> <td>0         </td> <td>0    </td> <td>0      </td> <td>0    </td> <td>0    </td> <td>0    </td> <td>0      </td> <td>0   </td> <td>0   </td> <td>0      </td> <td>0      </td> <td>0     </td> <td>0     </td> <td>0     </td> <td>0   </td> <td>0.00338174</td> <td>0    </td> <td>0.000397852</td> <td>0.000397852</td> <td>0   </td> <td>0     </td> <td>0     </td> <td>0      </td> <td>0.000198926</td> <td>0      </td> <td>0    </td> <td>0     </td> <td>0    </td> <td>0        </td> <td>0.000198926</td> <td>0   </td> <td>0.000198926</td> <td>0    </td> <td>0   </td> <td>0.000397852</td> <td>0   </td> <td>0     </td> <td>0   </td> <td>0    </td> <td>0    </td> <td>0   </td> <td>0       </td> <td>0   </td> <td>0     </td> <td>0      </td> <td>0.00258604</td> <td>0      </td> <td>0     </td> <td>0        </td> <td>0      </td> <td>0        </td> <td>0    </td> <td>0   </td> <td>0     </td> <td>0     </td> <td>0   </td> <td>0      </td> <td>0      </td> <td>0      </td> <td>0   </td> <td>0        </td> <td>0     </td> <td>0   </td> <td>0   </td> <td>0   </td> <td>0     </td> <td>0   </td> <td>0    </td> <td>0   </td> <td>0   </td> <td>0     </td> <td>0.000198926</td> <td>0.000397852</td> <td>0   </td> <td>0          </td> <td>0   </td> <td>0     </td> <td>0      </td> <td>0       </td> <td>0   </td> <td>0     </td> <td>0   </td> <td>0      </td> <td>0        </td> <td>0     </td> <td>0.000397852</td> <td>0      </td> <td>0       </td> <td>0    </td> <td>0     </td> <td>0    </td> <td>0       </td> <td>0    </td> <td>0     </td> <td>0     </td> <td>0.000397852</td> <td>0.000198926</td> <td>0    </td> <td>0   </td> <td>0.000198926</td> <td>0    </td> <td>0     </td> <td>0     </td> <td>0   </td> <td>0        </td> <td>0   </td> <td>0     </td> <td>0.000198926</td> <td>0   </td> <td>0         </td> <td>0.000198926</td> <td>0    </td> <td>0.000198926</td> <td>0     </td> <td>0   </td> <td>0   </td> <td>0.000795703</td> <td>0      </td> <td>0     </td> <td>0       </td> <td>0   </td> <td>0.000198926</td> <td>0      </td> <td>0       </td> <td>0.000198926</td> <td>0    </td> <td>0    </td> <td>0   </td> <td>0      </td> <td>0     </td> <td>0     </td> <td>0     </td> <td>0     </td> <td>0.0061667</td> <td>0.000397852</td> <td>0     </td> <td>0    </td> <td>0.000198926</td> <td>0   </td> <td>0       </td> <td>0    </td> <td>0    </td> <td>0     </td> <td>0     </td> <td>0    </td> <td>0      </td> <td>0   </td> <td>0     </td> <td>0.000198926</td> <td>0   </td> <td>0   </td> <td>0   </td> <td>0.000795703</td> <td>0       </td> <td>0     </td> <td>0      </td> <td>0    </td> <td>0   </td> <td>0    </td> <td>0   </td> <td>0      </td> <td>0     </td> <td>0   </td> <td>0       </td> <td>0.000198926</td> <td>0   </td> <td>0      </td> <td>0.000795703</td> <td>0      </td> <td>0   </td> <td>0    </td> <td>0    </td> <td>0.00338174</td> <td>0     </td> <td>0     </td> <td>0.000397852</td> <td>0    </td> <td>0.000198926</td> <td>0     </td> <td>0    </td> <td>0    </td> <td>0     </td> <td>0     </td> <td>0         </td> <td>0   </td> <td>0    </td> <td>0     </td> <td>0     </td> <td>0.000198926</td> <td>0     </td> <td>0    </td> <td>0   </td> <td>0   </td> <td>0   </td> <td>0     </td> <td>0   </td> <td>0    </td> <td>0    </td> <td>0    </td> <td>0    </td> <td>0.000198926</td> <td>0.00915059</td> <td>0.00119355</td> <td>0   </td> <td>0   </td> <td>0      </td> <td>0     </td> <td>0      </td> <td>0    </td> <td>0     </td> <td>0   </td> <td>0     </td> <td>0    </td> <td>0     </td> <td>0    </td> <td>0   </td> <td>0     </td> <td>0     </td> <td>0      </td> <td>0      </td> <td>0        </td> <td>0     </td> <td>0   </td> <td>0    </td> <td>0.000198926</td> <td>0    </td> <td>0     </td> <td>0    </td> <td>0   </td> <td>0    </td> <td>0      </td> <td>0   </td> <td>0   </td> <td>0   </td> <td>0.000198926</td> <td>0      </td> <td>0.000198926</td> <td>0    </td> <td>0.000198926</td> <td>0   </td> <td>0   </td> <td>0     </td> <td>0   </td> <td>0     </td> <td>0.000397852</td> <td>0     </td> <td>0     </td> <td>0     </td> <td>0   </td> <td>0      </td> <td>0     </td> <td>0      </td> <td>0   </td> <td>0     </td> <td>0   </td> <td>0.000397852</td> <td>0.000198926</td> <td>0.00258604</td> <td>0      </td> <td>0    </td> <td>0   </td> <td>0    </td> <td>0.000198926</td> <td>0.000198926</td> <td>0    </td> <td>0     </td> <td>0       </td> <td>0      </td> <td>0.000198926</td> <td>0.00238711</td> <td>0      </td> <td>0   </td> <td>0.000198926</td> <td>0   </td> <td>0   </td> <td>0      </td> <td>0    </td> <td>0   </td> <td>0      </td> <td>0     </td> <td>0     </td> <td>0.00278496</td> <td>0.000397852</td> <td>0     </td> <td>0     </td> <td>0   </td> <td>0    </td> <td>0      </td> <td>0      </td> <td>0   </td> <td>0     </td> <td>0    </td> <td>0    </td> <td>0   </td> <td>0     </td> <td>0      </td> <td>0    </td> <td>0      </td> <td>0.000198926</td> <td>0.000198926</td> <td>0   </td> <td>0       </td> <td>0      </td> <td>0    </td> <td>0        </td> <td>0        </td> <td>0.000198926</td> <td>0        </td> <td>0   </td> <td>0   </td> <td>0    </td> <td>0   </td> <td>0     </td> <td>0   </td> <td>0      </td> <td>0    </td> <td>0      </td> <td>0    </td> <td>0   </td> <td>0    </td> <td>0      </td> <td>0.00258604</td> <td>0.000198926</td> <td>0   </td> <td>0   </td> <td>0    </td> <td>0   </td> <td>0.00159141</td> <td>0    </td> <td>0   </td> <td>0    </td> <td>0     </td> <td>0   </td> <td>0   </td> <td>0    </td> <td>0       </td> <td>0   </td> <td>0     </td> <td>0      </td> <td>0        </td> <td>0   </td> <td>0     </td> <td>0       </td> <td>0     </td> <td>0    </td> <td>0.00119355</td> <td>0      </td> <td>0    </td> <td>0     </td> <td>0   </td> <td>0     </td> <td>0       </td> <td>0       </td> <td>0    </td> <td>0   </td> <td>0      </td> <td>0     </td> <td>0    </td> <td>0     </td> <td>0.000198926</td> <td>0   </td> <td>0      </td> <td>0    </td> <td>0      </td> <td>0      </td> <td>0    </td> <td>0   </td> <td>0   </td> <td>0     </td> <td>0   </td> <td>0   </td> <td>0   </td> <td>0       </td> <td>0   </td> <td>0   </td> <td>0.000198926</td> <td>0   </td> <td>0.000397852</td> <td>0.000596777</td> <td>0   </td> <td>0     </td> <td>0    </td> <td>0.000198926</td> <td>0     </td> <td>0      </td> <td>0      </td> <td>0      </td> <td>0      </td> <td>0     </td> <td>0       </td> <td>0     </td> <td>0       </td> <td>0        </td> <td>0   </td> <td>0      </td> <td>0.000596777</td> <td>0     </td> <td>0       </td> <td>0      </td> <td>0.000198926</td> <td>0      </td> <td>0         </td> <td>0.000795703</td> <td>0   </td> <td>0    </td> <td>0   </td> <td>0   </td> <td>0     </td> <td>0    </td> <td>0        </td> <td>0     </td> <td>0      </td> <td>0    </td> <td>0       </td> <td>0   </td> <td>0      </td> <td>0       </td> <td>0       </td> <td>0     </td> <td>0   </td> <td>0.000198926</td> <td>0   </td> <td>0   </td> <td>0   </td> <td>0.000397852</td> <td>0   </td> <td>0   </td> <td>0      </td> <td>0   </td> <td>0   </td> <td>0      </td> <td>0      </td> <td>0     </td> <td>0     </td> <td>0   </td> <td>0      </td> <td>0     </td> <td>0     </td> <td>0   </td> <td>0   </td> <td>0   </td> <td>0   </td> <td>0    </td> <td>0   </td> <td>0      </td> <td>0.000198926</td> <td>0     </td> <td>0   </td> <td>0   </td> <td>0   </td> <td>0.00159141</td> <td>0      </td> <td>0       </td> <td>0     </td> <td>0     </td> <td>0     </td> <td>0    </td> <td>0     </td> <td>0    </td> <td>0.000198926</td> <td>0.000198926</td> <td>0     </td> <td>0      </td> <td>0   </td> <td>0     </td> <td>0       </td> <td>0.0141237</td> <td>0.00198926</td> <td>0       </td> <td>0     </td> <td>0      </td> <td>0   </td> <td>0.000198926</td> <td>0   </td> <td>0     </td> <td>0     </td> <td>0        </td> <td>0   </td> <td>0      </td> <td>0      </td> <td>0   </td> <td>0    </td> <td>0   </td> <td>0.000198926</td> <td>0    </td> <td>0      </td> <td>0      </td> <td>0   </td> <td>0   </td> <td>0   </td> <td>0    </td> <td>0   </td> <td>0     </td> <td>0    </td> <td>0     </td> <td>0     </td> <td>0.000198926</td> <td>0.00179033</td> <td>0      </td> <td>0.000198926</td> <td>0.00815596</td> <td>0     </td> <td>0     </td> <td>0        </td> <td>0    </td> <td>0.000198926</td> <td>0   </td> <td>0.000198926</td> <td>0      </td> <td>0.000795703</td> <td>0   </td> <td>0     </td> <td>0.000198926</td> <td>0    </td> <td>0   </td> <td>0    </td> <td>0   </td> <td>0    </td> <td>0       </td> <td>0.000198926</td> <td>0   </td> <td>0     </td> <td>0.000198926</td> <td>0     </td> <td>0   </td> <td>0   </td> <td>0     </td> <td>0   </td> <td>0      </td> <td>0    </td> <td>0    </td> <td>0    </td> <td>0     </td> <td>0   </td> <td>0      </td> <td>0    </td> <td>0   </td> <td>0.000198926</td> <td>0   </td> <td>0    </td> <td>0    </td> <td>0     </td> <td>0      </td> <td>0    </td> <td>0         </td> <td>0       </td> <td>0    </td> <td>0    </td> <td>0.000795703</td> <td>0      </td> <td>0     </td> <td>0   </td> <td>0   </td> <td>0    </td> <td>0   </td> <td>0    </td> <td>0       </td> <td>0      </td> <td>0.000397852</td> <td>0   </td> <td>0    </td> <td>0   </td> <td>0    </td> <td>0    </td> <td>0   </td> <td>0.000198926</td> <td>0    </td> <td>0        </td> <td>0    </td> <td>0    </td> <td>0    </td> <td>0     </td> <td>0.000397852</td> <td>0   </td> <td>0      </td> <td>0.000397852</td> <td>0     </td> <td>0      </td> <td>0.000198926</td> <td>0     </td> <td>0     </td> <td>0.000795703</td> <td>0      </td> <td>0     </td> <td>0    </td> <td>0   </td> <td>0.000198926</td> <td>0.000198926</td> <td>0   </td> <td>0       </td> <td>0.000198926</td> <td>0    </td> <td>0      </td> <td>0      </td> <td>0.0169087</td> <td>0.000198926</td> <td>0     </td> <td>0     </td> <td>0    </td> <td>0    </td> <td>0   </td> <td>0      </td> <td>0.000198926</td> <td>0.000397852</td> <td>0     </td> <td>0       </td> <td>0     </td> <td>0    </td> <td>0.000198926</td> <td>0   </td> <td>0   </td> <td>0    </td> <td>0     </td> <td>0   </td> <td>0   </td> <td>0   </td> <td>0.00139248</td> <td>0      </td> <td>0   </td> <td>0      </td> <td>0      </td> <td>0     </td> <td>0    </td> <td>0.000397852</td> <td>0   </td> <td>0.000596777</td> <td>0   </td> <td>0   </td> <td>0.000198926</td> <td>0       </td> <td>0.000198926</td> <td>0        </td> <td>0         </td> <td>0      </td> <td>0    </td> <td>0   </td> <td>0       </td> <td>0.000397852</td> <td>0   </td> <td>0.000198926</td> <td>0   </td> <td>0    </td> <td>0        </td> <td>0     </td> <td>0     </td> <td>0         </td> <td>0     </td> <td>0    </td> <td>0      </td> <td>0.000596777</td> <td>0   </td> <td>0    </td> <td>0.000198926</td> <td>0      </td> <td>0      </td> <td>0     </td> <td>0   </td> <td>0.000795703</td> <td>0         </td> <td>0   </td> <td>0.000198926</td> <td>0      </td> <td>0    </td> <td>0   </td> <td>0   </td> <td>0    </td> <td>0     </td> <td>0    </td> <td>0    </td> <td>0     </td> <td>0     </td> <td>0   </td> <td>0       </td> <td>0     </td> <td>0    </td> <td>0     </td> <td>0     </td> <td>0    </td> <td>0   </td> <td>0.000596777</td> <td>0   </td> <td>0    </td> <td>0.000596777</td> <td>0       </td> <td>0.000596777</td> <td>0.000198926</td> <td>0.000397852</td> <td>0    </td> <td>0   </td> <td>0   </td> <td>0   </td> <td>0     </td> <td>0    </td> <td>0   </td> <td>0   </td> <td>0        </td> <td>0     </td> <td>0   </td> <td>0    </td> <td>0       </td> <td>0       </td> <td>0.000397852</td> <td>0.000198926</td> <td>0      </td> <td>0.000198926</td> <td>0       </td> <td>0.000198926</td> <td>0       </td> <td>0   </td> <td>0    </td> <td>0    </td> <td>0     </td> <td>0.000397852</td> <td>0    </td> <td>0.000198926</td> <td>0       </td> <td>0   </td> <td>0      </td> <td>0.000198926</td> <td>0     </td> <td>0.000198926</td> <td>0    </td> <td>0    </td> <td>0   </td> <td>0     </td> <td>0      </td> <td>0.000198926</td> <td>0    </td> <td>0   </td> <td>0     </td> <td>0   </td> <td>0        </td> <td>0      </td> <td>0   </td> <td>0    </td> <td>0.000198926</td> <td>0    </td> <td>0    </td> <td>0    </td> <td>0    </td> <td>0    </td> <td>0.000596777</td> <td>0   </td> <td>0   </td> <td>0   </td> <td>0     </td>\n",
       "        </tr>\n",
       "    </tbody>\n",
       "</table>\n",
       "<p>... (369 rows omitted)</p>"
      ],
      "text/plain": [
       "<IPython.core.display.HTML object>"
      ]
     },
     "metadata": {},
     "output_type": "display_data"
    },
    {
     "data": {
      "image/png": "[encoded data removed]",
      "text/plain": [
       "<Figure size 360x360 with 1 Axes>"
      ]
     },
     "metadata": {},
     "output_type": "display_data"
    }
   ],
   "source": [
    "# Just run this cell!\n",
    "outer_space = movies.select(\"outer\", \"space\")\n",
    "outer_space.scatter(\"outer\", \"space\")\n",
    "plots.axis([-0.001, 0.0025, -0.001, 0.005]);\n",
    "plots.xticks(rotation=45);\n",
    "movies.show(1)"
   ]
  },
  {
   "cell_type": "markdown",
   "metadata": {
    "deletable": false,
    "editable": false
   },
   "source": [
    "#### Question 1.2.1\n",
    "Looking at that chart it is difficult to see if there is an association. Calculate the correlation coefficient for the association between proportion of words that are \"outer\" and the proportion of words that are \"space\" for every movie in the dataset, and assign it to `outer_space_r`.\n",
    "\n",
    "<!--\n",
    "BEGIN QUESTION\n",
    "name: q1_2_1\n",
    "-->"
   ]
  },
  {
   "cell_type": "code",
   "execution_count": 19,
   "metadata": {},
   "outputs": [
    {
     "data": {
      "text/plain": [
       "0.2829527833012742"
      ]
     },
     "execution_count": 19,
     "metadata": {},
     "output_type": "execute_result"
    }
   ],
   "source": [
    "# Our solution took multiple lines\n",
    "# these two arrays should make your code cleaner!\n",
    "outer = movies.column(\"outer\")\n",
    "space = movies.column(\"space\")\n",
    "outer_su = (outer - np.mean(outer))/np.std(outer)\n",
    "space_su = (space - np.mean(space))/np.std(space)\n",
    "\n",
    "outer_space_r = np.mean(outer_su * space_su)\n",
    "outer_space_r"
   ]
  },
  {
   "cell_type": "code",
   "execution_count": 20,
   "metadata": {
    "deletable": false,
    "editable": false
   },
   "outputs": [
    {
     "name": "stdout",
     "output_type": "stream",
     "text": [
      "~~~~~~~~~~~~~~~~~~~~~~~~~~~~~~~~~~~~~~~~~~~~~~~~~~~~~~~~~~~~~~~~~~~~~\n",
      "Running tests\n",
      "\n",
      "---------------------------------------------------------------------\n",
      "Test summary\n",
      "    Passed: 1\n",
      "    Failed: 0\n",
      "[ooooooooook] 100.0% passed\n",
      "\n"
     ]
    }
   ],
   "source": [
    "ok.grade(\"q1_2_1\");"
   ]
  },
  {
   "cell_type": "markdown",
   "metadata": {
    "deletable": false,
    "editable": false
   },
   "source": [
    "#### Question 1.2.2\n",
    "Choose two *different* words in the dataset with a correlation higher than 0.2 or smaller than -0.2 that are not *outer* and *space* and plot a scatter plot with a line of best fit for them. The code to plot the scatter plot and line of best fit is given for you, you just need to calculate the correct values to `r`, `slope` and `intercept`.\n",
    "\n",
    "*Hint: It's easier to think of words with a positive correlation, i.e. words that are often mentioned together*.\n",
    "\n",
    "*Hint 2: Try to think of common phrases or idioms*.\n",
    "\n",
    "<!--\n",
    "BEGIN QUESTION\n",
    "name: q1_2_2\n",
    "manual: true\n",
    "image: true\n",
    "-->\n",
    "<!-- EXPORT TO PDF -->"
   ]
  },
  {
   "cell_type": "code",
   "execution_count": 21,
   "metadata": {
    "export_pdf": true
   },
   "outputs": [
    {
     "data": {
      "image/png": "[encoded data removed]",
      "text/plain": [
       "<Figure size 360x360 with 1 Axes>"
      ]
     },
     "metadata": {},
     "output_type": "display_data"
    }
   ],
   "source": [
    "word_x = \"you\"\n",
    "word_y = \"me\"\n",
    "\n",
    "# These arrays should make your code cleaner!\n",
    "arr_x = movies.column(word_x)\n",
    "arr_y = movies.column(word_y)\n",
    "\n",
    "x_su = (arr_x - np.mean(arr_x))/np.std(arr_x)\n",
    "y_su = (arr_y - np.mean(arr_y))/np.std(arr_y)\n",
    "\n",
    "r = np.mean(x_su * y_su)\n",
    "\n",
    "slope = (np.std(arr_y))/(np.std(arr_x)) * r\n",
    "intercept = np.mean(arr_y) - (slope * np.mean(arr_x))\n",
    "\n",
    "# DON'T CHANGE THESE LINES OF CODE\n",
    "movies.scatter(word_x, word_y)\n",
    "max_x = max(movies.column(word_x))\n",
    "plots.title(f\"Correlation: {r}, magnitude greater than .2: {abs(r) >= 0.2}\")\n",
    "plots.plot([0, max_x * 1.3], [intercept, intercept + slope * (max_x*1.3)], color='gold');"
   ]
  },
  {
   "cell_type": "markdown",
   "metadata": {},
   "source": [
    "## 1.3. Splitting the dataset\n",
    "We're going to use our `movies` dataset for two purposes.\n",
    "\n",
    "1. First, we want to *train* movie genre classifiers.\n",
    "2. Second, we want to *test* the performance of our classifiers.\n",
    "\n",
    "Hence, we need two different datasets: *training* and *test*.\n",
    "\n",
    "The purpose of a classifier is to classify unseen data that is similar to the training data. Therefore, we must ensure that there are no movies that appear in both sets. We do so by splitting the dataset randomly. The dataset has already been permuted randomly, so it's easy to split.  We just take the top for training and the rest for test. \n",
    "\n",
    "Run the code below (without changing it) to separate the datasets into two tables."
   ]
  },
  {
   "cell_type": "code",
   "execution_count": 22,
   "metadata": {},
   "outputs": [
    {
     "name": "stdout",
     "output_type": "stream",
     "text": [
      "Training:  314 ; Test:  56\n"
     ]
    }
   ],
   "source": [
    "# Here we have defined the proportion of our data\n",
    "# that we want to designate for training as 17/20ths\n",
    "# of our total dataset.  3/20ths of the data is\n",
    "# reserved for testing.\n",
    "\n",
    "training_proportion = 17/20\n",
    "\n",
    "num_movies = movies.num_rows\n",
    "num_train = int(num_movies * training_proportion)\n",
    "num_test = num_movies - num_train\n",
    "\n",
    "train_movies = movies.take(np.arange(num_train))\n",
    "test_movies = movies.take(np.arange(num_train, num_movies))\n",
    "\n",
    "print(\"Training: \",   train_movies.num_rows, \";\",\n",
    "      \"Test: \",       test_movies.num_rows)"
   ]
  },
  {
   "cell_type": "markdown",
   "metadata": {
    "deletable": false,
    "editable": false
   },
   "source": [
    "#### Question 1.3.1\n",
    "Draw a horizontal bar chart with two bars that show the proportion of Comedy movies in each dataset. Complete the function `comedy_proportion` first; it should help you create the bar chart.\n",
    "\n",
    "<!--\n",
    "BEGIN QUESTION\n",
    "name: q1_3_1\n",
    "manual: true\n",
    "image: true\n",
    "-->\n",
    "<!-- EXPORT TO PDF -->"
   ]
  },
  {
   "cell_type": "code",
   "execution_count": 23,
   "metadata": {
    "export_pdf": true,
    "for_assignment_type": "solution"
   },
   "outputs": [
    {
     "data": {
      "image/png": "[encoded data removed]",
      "text/plain": [
       "<Figure size 432x288 with 1 Axes>"
      ]
     },
     "metadata": {},
     "output_type": "display_data"
    }
   ],
   "source": [
    "def comedy_proportion(table):\n",
    "    rows = table.num_rows\n",
    "    com = table.where(\"Genre\", \"comedy\").num_rows\n",
    "    return com/rows\n",
    "trc = comedy_proportion(train_movies)\n",
    "tc = comedy_proportion(test_movies)\n",
    "propc = Table().with_columns(\"Type\", make_array(\"Test\", \"Training\"),\n",
    "                            \"Proportion\", make_array(trc, tc))\n",
    "propc.barh(\"Type\")\n",
    "\n",
    "# The staff solution took multiple lines.  Start by creating a table.\n",
    "# If you get stuck, think about what sort of table you need for barh to work"
   ]
  },
  {
   "cell_type": "markdown",
   "metadata": {},
   "source": [
    "# 2. K-Nearest Neighbors - A Guided Example\n",
    "\n",
    "K-Nearest Neighbors (k-NN) is a classification algorithm.  Given some numerical *attributes* (also called *features*) of an unseen example, it decides whether that example belongs to one or the other of two categories based on its similarity to previously seen examples. Predicting the category of an example is called *labeling*, and the predicted category is also called a *label*.\n",
    "\n",
    "An attribute (feature) we have about each movie is *the proportion of times a particular word appears in the movies*, and the labels are two movie genres: comedy and thriller.  The algorithm requires many previously seen examples for which both the attributes and labels are known: that's the `train_movies` table.\n",
    "\n",
    "To build understanding, we're going to visualize the algorithm instead of just describing it."
   ]
  },
  {
   "cell_type": "markdown",
   "metadata": {},
   "source": [
    "## 2.1. Classifying a movie\n",
    "\n",
    "In k-NN, we classify a movie by finding the `k` movies in the *training set* that are most similar according to the features we choose. We call those movies with similar features the *nearest neighbors*.  The k-NN algorithm assigns the movie to the most common category among its `k` nearest neighbors.\n",
    "\n",
    "Let's limit ourselves to just 2 features for now, so we can plot each movie.  The features we will use are the proportions of the words \"water\" and \"feel\" in the movie.  Taking the movie *Monty Python and the Holy Grail* (in the test set), 0.000804074 of its words are \"water\" and 0.0010721 are \"feel\". This movie appears in the test set, so let's imagine that we don't yet know its genre.\n",
    "\n",
    "First, we need to make our notion of similarity more precise.  We will say that the *distance* between two movies is the straight-line distance between them when we plot their features in a scatter diagram. \n",
    "\n",
    "**This distance is called the Euclidean (\"yoo-KLID-ee-un\") distance, whose formula is $\\sqrt{(x_1 - x_2)^2 + (y_1 - y_2)^2}$.**\n",
    "\n",
    "For example, in the movie *Clerks.* (in the training set), 0.00016293 of all the words in the movie are \"water\" and 0.00154786 are \"feel\".  Its distance from *Monty Python and the Holy Grail* on this 2-word feature set is $\\sqrt{(0.000804074 - 0.000162933)^2 + (0.0010721 - 0.00154786)^2} \\approx 0.000798379$.  (If we included more or different features, the distance could be different.)\n",
    "\n",
    "A third movie, *The Avengers* (in the training set), is 0 \"water\" and 0.00103173 \"feel\".\n",
    "\n",
    "The function below creates a plot to display the \"water\" and \"feel\" features of a test movie and some training movies. As you can see in the result, *Monty Python and the Holy Grail* is more similar to \"Clerks.\" than to the *The Avengers* based on these features, which is makes sense as both movies are comedy movies, while *The Avengers* is a thriller.\n"
   ]
  },
  {
   "cell_type": "code",
   "execution_count": 24,
   "metadata": {},
   "outputs": [
    {
     "data": {
      "image/png": "[encoded data removed]",
      "text/plain": [
       "<Figure size 360x360 with 1 Axes>"
      ]
     },
     "metadata": {},
     "output_type": "display_data"
    }
   ],
   "source": [
    "# Just run this cell.\n",
    "def plot_with_two_features(test_movie, training_movies, x_feature, y_feature):\n",
    "    \"\"\"Plot a test movie and training movies using two features.\"\"\"\n",
    "    test_row = row_for_title(test_movie)\n",
    "    distances = Table().with_columns(\n",
    "            x_feature, [test_row.item(x_feature)],\n",
    "            y_feature, [test_row.item(y_feature)],\n",
    "            'Color',   ['unknown'],\n",
    "            'Title',   [test_movie]\n",
    "        )\n",
    "    for movie in training_movies:\n",
    "        row = row_for_title(movie)\n",
    "        distances.append([row.item(x_feature), row.item(y_feature), row.item('Genre'), movie])\n",
    "    distances.scatter(x_feature, y_feature, group='Color', labels='Title', s=30)\n",
    "    \n",
    "training = [\"clerks.\", \"the avengers\"] \n",
    "plot_with_two_features(\"monty python and the holy grail\", training, \"water\", \"feel\")\n",
    "plots.axis([-0.001, 0.0011, -0.004, 0.008]);"
   ]
  },
  {
   "cell_type": "markdown",
   "metadata": {
    "deletable": false,
    "editable": false
   },
   "source": [
    "#### Question 2.1.1\n",
    "\n",
    "Compute the Euclidean distance (defined in the section above) between the two movies, *Monty Python and the Holy Grail* and *The Avengers*, using the `water` and `feel` features only.  Assign it the name `one_distance`.\n",
    "\n",
    "**Note:** If you have a row, you can use `item` to get a value from a column by its name.  For example, if `r` is a row, then `r.item(\"Genre\")` is the value in column `\"Genre\"` in row `r`.\n",
    "\n",
    "*Hint*: Remember the function `row_for_title`, redefined for you below.\n",
    "\n",
    "<!--\n",
    "BEGIN QUESTION\n",
    "name: q2_1_1\n",
    "-->"
   ]
  },
  {
   "cell_type": "code",
   "execution_count": 25,
   "metadata": {
    "deletable": false
   },
   "outputs": [
    {
     "data": {
      "text/plain": [
       "0.0008050869157478908"
      ]
     },
     "execution_count": 25,
     "metadata": {},
     "output_type": "execute_result"
    }
   ],
   "source": [
    "title_index = movies.index_by('Title')\n",
    "python = row_for_title(\"monty python and the holy grail\") \n",
    "avengers = row_for_title(\"the avengers\") \n",
    "\n",
    "one_distance = (((python.item(\"water\") - avengers.item(\"water\")) ** 2) + ((python.item(\"feel\") - avengers.item(\"feel\"))**2))**(1/2)\n",
    "one_distance"
   ]
  },
  {
   "cell_type": "code",
   "execution_count": 26,
   "metadata": {
    "deletable": false,
    "editable": false
   },
   "outputs": [
    {
     "name": "stdout",
     "output_type": "stream",
     "text": [
      "~~~~~~~~~~~~~~~~~~~~~~~~~~~~~~~~~~~~~~~~~~~~~~~~~~~~~~~~~~~~~~~~~~~~~\n",
      "Running tests\n",
      "\n",
      "---------------------------------------------------------------------\n",
      "Test summary\n",
      "    Passed: 1\n",
      "    Failed: 0\n",
      "[ooooooooook] 100.0% passed\n",
      "\n"
     ]
    }
   ],
   "source": [
    "ok.grade(\"q2_1_1\");"
   ]
  },
  {
   "cell_type": "markdown",
   "metadata": {},
   "source": [
    "Below, we've added a third training movie, *The Silence of the Lambs*. Before, the point closest to *Monty Python and the Holy Grail* was *Clerks.*, a comedy movie. However, now the closest point is *The Silence of the Lambs*, a thriller movie."
   ]
  },
  {
   "cell_type": "code",
   "execution_count": 27,
   "metadata": {},
   "outputs": [
    {
     "data": {
      "image/png": "[encoded data removed]",
      "text/plain": [
       "<Figure size 360x360 with 1 Axes>"
      ]
     },
     "metadata": {},
     "output_type": "display_data"
    }
   ],
   "source": [
    "training = [\"clerks.\", \"the avengers\", \"the silence of the lambs\"] \n",
    "plot_with_two_features(\"monty python and the holy grail\", training, \"water\", \"feel\") \n",
    "plots.axis([-0.001, 0.0011, -0.004, 0.008]);"
   ]
  },
  {
   "cell_type": "markdown",
   "metadata": {
    "deletable": false,
    "editable": false
   },
   "source": [
    "#### Question 2.1.2\n",
    "Complete the function `distance_two_features` that computes the Euclidean distance between any two movies, using two features. The last two lines call your function to show that *Monty Python and the Holy Grail* is closer to *The Silence of the Lambs* than it is to *Clerks*. \n",
    "\n",
    "<!--\n",
    "BEGIN QUESTION\n",
    "name: q2_1_2\n",
    "-->"
   ]
  },
  {
   "cell_type": "code",
   "execution_count": 28,
   "metadata": {
    "deletable": false
   },
   "outputs": [
    {
     "name": "stdout",
     "output_type": "stream",
     "text": [
      "clerks. distance:\t 0.0007983810687227951\n",
      "the silence of the lambs distance:\t 0.00022256314855568916\n"
     ]
    }
   ],
   "source": [
    "def distance_two_features(title0, title1, x_feature, y_feature):\n",
    "    \"\"\"Compute the distance between two movies with titles title0 and title1\n",
    "    \n",
    "    Only the features named x_feature and y_feature are used when computing the distance.\n",
    "    \"\"\"\n",
    "    row0 = row_for_title(title0)\n",
    "    row1 = row_for_title(title1)\n",
    "    a = (row0.item(x_feature)-row1.item(x_feature))**2\n",
    "    b = (row0.item(y_feature)-row1.item(y_feature))**2\n",
    "    return (a+b)**(1/2)\n",
    "\n",
    "for movie in make_array(\"clerks.\", \"the silence of the lambs\"):\n",
    "    movie_distance = distance_two_features(movie, \"monty python and the holy grail\", \"water\", \"feel\")\n",
    "    print(movie, 'distance:\\t', movie_distance)"
   ]
  },
  {
   "cell_type": "code",
   "execution_count": 29,
   "metadata": {
    "deletable": false,
    "editable": false
   },
   "outputs": [
    {
     "name": "stdout",
     "output_type": "stream",
     "text": [
      "~~~~~~~~~~~~~~~~~~~~~~~~~~~~~~~~~~~~~~~~~~~~~~~~~~~~~~~~~~~~~~~~~~~~~\n",
      "Running tests\n",
      "\n",
      "---------------------------------------------------------------------\n",
      "Test summary\n",
      "    Passed: 2\n",
      "    Failed: 0\n",
      "[ooooooooook] 100.0% passed\n",
      "\n"
     ]
    }
   ],
   "source": [
    "ok.grade(\"q2_1_2\");"
   ]
  },
  {
   "cell_type": "markdown",
   "metadata": {
    "deletable": false,
    "editable": false
   },
   "source": [
    "#### Question 2.1.3\n",
    "Define the function `distance_from_python` so that it works as described in its documentation.\n",
    "\n",
    "**Note:** Your solution should not use arithmetic operations directly. Instead, it should make use of existing functionality above!\n",
    "\n",
    "<!--\n",
    "BEGIN QUESTION\n",
    "name: q2_1_3\n",
    "-->"
   ]
  },
  {
   "cell_type": "code",
   "execution_count": 30,
   "metadata": {
    "deletable": false
   },
   "outputs": [],
   "source": [
    "def distance_from_python(title):\n",
    "    \"\"\"The distance between the given movie and \"monty python and the holy grail\", \n",
    "    based on the features \"water\" and \"feel\".\n",
    "    \n",
    "    This function takes a single argument:\n",
    "      title: A string, the name of a movie.\n",
    "    \"\"\"\n",
    "    return distance_two_features(\"monty python and the holy grail\", title, \"water\", \"feel\")\n",
    "    "
   ]
  },
  {
   "cell_type": "code",
   "execution_count": 31,
   "metadata": {
    "deletable": false,
    "editable": false
   },
   "outputs": [
    {
     "name": "stdout",
     "output_type": "stream",
     "text": [
      "~~~~~~~~~~~~~~~~~~~~~~~~~~~~~~~~~~~~~~~~~~~~~~~~~~~~~~~~~~~~~~~~~~~~~\n",
      "Running tests\n",
      "\n",
      "---------------------------------------------------------------------\n",
      "Test summary\n",
      "    Passed: 1\n",
      "    Failed: 0\n",
      "[ooooooooook] 100.0% passed\n",
      "\n"
     ]
    }
   ],
   "source": [
    "ok.grade(\"q2_1_3\");"
   ]
  },
  {
   "cell_type": "markdown",
   "metadata": {
    "deletable": false,
    "editable": false
   },
   "source": [
    "#### Question 2.1.4\n",
    "\n",
    "Using the features `\"water\"` and `\"feel\"`, what are the names and genres of the 5 movies in the **training set** closest to *Monty Python and the Holy Grail*?  To answer this question, make a table named `close_movies` containing those 5 movies with columns `\"Title\"`, `\"Genre\"`, `\"water\"`, and `\"feel\"`, as well as a column called `\"distance from python\"` that contains the distance from *Monty Python and the Holy Grail*.  The table should be **sorted in ascending order by `distance from python`**.\n",
    "\n",
    "<!--\n",
    "BEGIN QUESTION\n",
    "name: q2_1_4\n",
    "-->"
   ]
  },
  {
   "cell_type": "code",
   "execution_count": 32,
   "metadata": {
    "for_assignment_type": "solution"
   },
   "outputs": [
    {
     "data": {
      "text/html": [
       "<table border=\"1\" class=\"dataframe\">\n",
       "    <thead>\n",
       "        <tr>\n",
       "            <th>Title</th> <th>Genre</th> <th>water</th> <th>feel</th> <th>distance from python</th>\n",
       "        </tr>\n",
       "    </thead>\n",
       "    <tbody>\n",
       "        <tr>\n",
       "            <td>alien                   </td> <td>thriller</td> <td>0.00070922 </td> <td>0.00124113 </td> <td>0.000193831         </td>\n",
       "        </tr>\n",
       "        <tr>\n",
       "            <td>tomorrow never dies     </td> <td>thriller</td> <td>0.000888889</td> <td>0.000888889</td> <td>0.00020189          </td>\n",
       "        </tr>\n",
       "        <tr>\n",
       "            <td>the silence of the lambs</td> <td>thriller</td> <td>0.000595948</td> <td>0.000993246</td> <td>0.000222563         </td>\n",
       "        </tr>\n",
       "        <tr>\n",
       "            <td>innerspace              </td> <td>comedy  </td> <td>0.000522193</td> <td>0.00104439 </td> <td>0.00028324          </td>\n",
       "        </tr>\n",
       "        <tr>\n",
       "            <td>some like it hot        </td> <td>comedy  </td> <td>0.000528541</td> <td>0.000951374</td> <td>0.00030082          </td>\n",
       "        </tr>\n",
       "    </tbody>\n",
       "</table>"
      ],
      "text/plain": [
       "Title                    | Genre    | water       | feel        | distance from python\n",
       "alien                    | thriller | 0.00070922  | 0.00124113  | 0.000193831\n",
       "tomorrow never dies      | thriller | 0.000888889 | 0.000888889 | 0.00020189\n",
       "the silence of the lambs | thriller | 0.000595948 | 0.000993246 | 0.000222563\n",
       "innerspace               | comedy   | 0.000522193 | 0.00104439  | 0.00028324\n",
       "some like it hot         | comedy   | 0.000528541 | 0.000951374 | 0.00030082"
      ]
     },
     "execution_count": 32,
     "metadata": {},
     "output_type": "execute_result"
    }
   ],
   "source": [
    "\n",
    "# The staff solution took multiple lines.\n",
    "distances = make_array()\n",
    "for m in train_movies.column(\"Title\"):\n",
    "    d = distance_from_python(m)\n",
    "    distances = np.append(distances, d)\n",
    "close_movies = train_movies.with_column(\"distance from python\", distances).select(\"Title\", \"Genre\", \"water\", \"feel\", \"distance from python\").sort(\"distance from python\").take(np.arange(5))\n",
    "close_movies"
   ]
  },
  {
   "cell_type": "code",
   "execution_count": 33,
   "metadata": {
    "deletable": false,
    "editable": false
   },
   "outputs": [
    {
     "name": "stdout",
     "output_type": "stream",
     "text": [
      "~~~~~~~~~~~~~~~~~~~~~~~~~~~~~~~~~~~~~~~~~~~~~~~~~~~~~~~~~~~~~~~~~~~~~\n",
      "Running tests\n",
      "\n",
      "---------------------------------------------------------------------\n",
      "Test summary\n",
      "    Passed: 3\n",
      "    Failed: 0\n",
      "[ooooooooook] 100.0% passed\n",
      "\n"
     ]
    }
   ],
   "source": [
    "ok.grade(\"q2_1_4\");"
   ]
  },
  {
   "cell_type": "markdown",
   "metadata": {
    "deletable": false,
    "editable": false
   },
   "source": [
    "#### Question 2.1.5\n",
    "Next, we'll clasify *Monty Python and the Holy Grail* based on the genres of the closest movies. \n",
    "\n",
    "To do so, define the function `most_common` so that it works as described in its documentation below.\n",
    "\n",
    "<!--\n",
    "BEGIN QUESTION\n",
    "name: q2_1_5\n",
    "-->"
   ]
  },
  {
   "cell_type": "code",
   "execution_count": 34,
   "metadata": {
    "deletable": false,
    "scrolled": true
   },
   "outputs": [
    {
     "data": {
      "text/plain": [
       "'thriller'"
      ]
     },
     "execution_count": 34,
     "metadata": {},
     "output_type": "execute_result"
    }
   ],
   "source": [
    "def most_common(label, table):\n",
    "    \"\"\"The most common element in a column of a table.\n",
    "    \n",
    "    This function takes two arguments:\n",
    "      label: The label of a column, a string.\n",
    "      table: A table.\n",
    "     \n",
    "    It returns the most common value in that column of that table.\n",
    "    In case of a tie, it returns any one of the most common values\n",
    "    \"\"\"\n",
    "    tbl = table.group(label)\n",
    "    return tbl.sort(\"count\", descending = True).column(0).item(0)\n",
    "\n",
    "# Calling most_common on your table of 5 nearest neighbors classifies\n",
    "# \"monty python and the holy grail\" as a thriller movie, 3 votes to 2. \n",
    "most_common('Genre', close_movies)"
   ]
  },
  {
   "cell_type": "code",
   "execution_count": 35,
   "metadata": {
    "deletable": false,
    "editable": false
   },
   "outputs": [
    {
     "name": "stdout",
     "output_type": "stream",
     "text": [
      "~~~~~~~~~~~~~~~~~~~~~~~~~~~~~~~~~~~~~~~~~~~~~~~~~~~~~~~~~~~~~~~~~~~~~\n",
      "Running tests\n",
      "\n",
      "---------------------------------------------------------------------\n",
      "Test summary\n",
      "    Passed: 2\n",
      "    Failed: 0\n",
      "[ooooooooook] 100.0% passed\n",
      "\n"
     ]
    }
   ],
   "source": [
    "ok.grade(\"q2_1_5\");"
   ]
  },
  {
   "cell_type": "markdown",
   "metadata": {},
   "source": [
    "Congratulations are in order -- you've classified your first movie! However, we can see that the classifier doesn't work too well since it categorized *Monty Python and the Holy Grail* as a thriller movie (unless you count the thrilling holy hand grenade scene). Let's see if we can do better!"
   ]
  },
  {
   "cell_type": "markdown",
   "metadata": {},
   "source": [
    "## Checkpoint (Due 11/22)\n",
    "#### Congratulations, you have reached the first checkpoint! Run the submit cell below to generate the checkpoint submission.\n",
    "To get full credit for this checkpoint, you must pass all the public autograder tests above this cell."
   ]
  },
  {
   "cell_type": "code",
   "execution_count": 36,
   "metadata": {},
   "outputs": [
    {
     "data": {
      "application/javascript": [
       "IPython.notebook.save_checkpoint();"
      ],
      "text/plain": [
       "<IPython.core.display.Javascript object>"
      ]
     },
     "metadata": {},
     "output_type": "display_data"
    },
    {
     "data": {
      "application/javascript": [
       "IPython.notebook.save_notebook();"
      ],
      "text/plain": [
       "<IPython.core.display.Javascript object>"
      ]
     },
     "metadata": {},
     "output_type": "display_data"
    },
    {
     "name": "stdout",
     "output_type": "stream",
     "text": [
      "Saving notebook... Saved 'project3.ipynb'.\n",
      "Submit... 100% complete\n",
      "Submission successful for user: lillyliu@berkeley.edu\n",
      "URL: https://okpy.org/cal/data8/sp20/project3/submissions/rmYDXK\n",
      "\n"
     ]
    }
   ],
   "source": [
    "_ = ok.submit()"
   ]
  },
  {
   "cell_type": "markdown",
   "metadata": {},
   "source": [
    "# 3. Features"
   ]
  },
  {
   "cell_type": "markdown",
   "metadata": {},
   "source": [
    "Now, we're going to extend our classifier to consider more than two features at a time.\n",
    "\n",
    "Euclidean distance still makes sense with more than two features. For `n` different features, we compute the difference between corresponding feature values for two movies, square each of the `n`  differences, sum up the resulting numbers, and take the square root of the sum."
   ]
  },
  {
   "cell_type": "markdown",
   "metadata": {
    "deletable": false,
    "editable": false
   },
   "source": [
    "#### Question 3.0\n",
    "Write a function called `distance` to compute the Euclidean distance between two **arrays** of **numerical** features (e.g. arrays of the proportions of times that different words appear). The function should be able to calculate the Euclidean distance between two arrays of arbitrary (but equal) length. \n",
    "\n",
    "Next, use the function you just defined to compute the distance between the first and second movie in the training set *using all of the features*.  (Remember that the first six columns of your tables are not features.)\n",
    "\n",
    "**Note:** To convert rows to arrays, use `np.array`. For example, if `t` was a table, `np.array(t.row(0))` converts row 0 of `t` into an array.\n",
    "\n",
    "**Note:** If you're working offline: Depending on the versions of your packages, you may need to convert rows to arrays using the following instead: `np.array(list(t.row(0))`\n",
    "\n",
    "<!--\n",
    "BEGIN QUESTION\n",
    "name: q3_0\n",
    "-->"
   ]
  },
  {
   "cell_type": "code",
   "execution_count": 37,
   "metadata": {
    "deletable": false
   },
   "outputs": [
    {
     "data": {
      "text/plain": [
       "0.03335446890881372"
      ]
     },
     "execution_count": 37,
     "metadata": {},
     "output_type": "execute_result"
    }
   ],
   "source": [
    "def distance(features_array1, features_array2):\n",
    "    \"\"\"The Euclidean distance between two arrays of feature values.\"\"\"\n",
    "    return np.sqrt(sum((features_array1 - features_array2)**2))\n",
    "reduced = train_movies.drop(np.arange(5))\n",
    "distance_first_to_second = distance(np.array(reduced.row(0)), np.array(reduced.row(1)))\n",
    "distance_first_to_second"
   ]
  },
  {
   "cell_type": "code",
   "execution_count": 38,
   "metadata": {
    "deletable": false,
    "editable": false
   },
   "outputs": [
    {
     "name": "stdout",
     "output_type": "stream",
     "text": [
      "~~~~~~~~~~~~~~~~~~~~~~~~~~~~~~~~~~~~~~~~~~~~~~~~~~~~~~~~~~~~~~~~~~~~~\n",
      "Running tests\n",
      "\n",
      "---------------------------------------------------------------------\n",
      "Test summary\n",
      "    Passed: 3\n",
      "    Failed: 0\n",
      "[ooooooooook] 100.0% passed\n",
      "\n"
     ]
    }
   ],
   "source": [
    "ok.grade(\"q3_0\");"
   ]
  },
  {
   "cell_type": "markdown",
   "metadata": {},
   "source": [
    "## 3.1. Creating your own feature set\n",
    "\n",
    "Unfortunately, using all of the features has some downsides.  One clear downside is *computational* -- computing Euclidean distances just takes a long time when we have lots of features.  You might have noticed that in the last question!\n",
    "\n",
    "So we're going to select just 20.  We'd like to choose features that are very *discriminative*. That is, features which lead us to correctly classify as much of the test set as possible.  This process of choosing features that will make a classifier work well is sometimes called *feature selection*, or, more broadly, *feature engineering*."
   ]
  },
  {
   "cell_type": "markdown",
   "metadata": {},
   "source": [
    "#### Question 3.1.1\n",
    "In this question, we will help you get started on selecting more effective features for distinguishing comedy from thriller movies. The plot below (generated for you) shows the average number of times each word occurs in a comedy movie on the horizontal axis and the average number of times it occurs in an thriller movie on the vertical axis.\n",
    "\n",
    "\n",
    "*Note: The line graphed is the line of best fit, NOT a y=x*"
   ]
  },
  {
   "cell_type": "markdown",
   "metadata": {},
   "source": [
    "![alt text](word_plot.png \"Title\")"
   ]
  },
  {
   "cell_type": "markdown",
   "metadata": {
    "deletable": false,
    "editable": false
   },
   "source": [
    "The following questions ask you to interpret the plot above. For each question, select one of the following choices and assign its number to the provided name.\n",
    "    1. The word is common in both comedy and thriller movies \n",
    "    2. The word is uncommon in comedy movies and common in thriller movies\n",
    "    3. The word is common in comedy movies and uncommon in thriller movies\n",
    "    4. The word is uncommon in both comedy and thriller movies\n",
    "    5. It is not possible to say from the plot \n",
    "    \n",
    "What properties does a word in the bottom left corner of the plot have? Your answer should be a single integer from 1 to 5, corresponding to the correct statement from the choices above.\n",
    "\n",
    "<!--\n",
    "BEGIN QUESTION\n",
    "name: q3_1_1\n",
    "-->"
   ]
  },
  {
   "cell_type": "code",
   "execution_count": 39,
   "metadata": {
    "deletable": false
   },
   "outputs": [],
   "source": [
    "bottom_left = 4"
   ]
  },
  {
   "cell_type": "code",
   "execution_count": 40,
   "metadata": {
    "deletable": false,
    "editable": false
   },
   "outputs": [
    {
     "name": "stdout",
     "output_type": "stream",
     "text": [
      "~~~~~~~~~~~~~~~~~~~~~~~~~~~~~~~~~~~~~~~~~~~~~~~~~~~~~~~~~~~~~~~~~~~~~\n",
      "Running tests\n",
      "\n",
      "---------------------------------------------------------------------\n",
      "Test summary\n",
      "    Passed: 1\n",
      "    Failed: 0\n",
      "[ooooooooook] 100.0% passed\n",
      "\n"
     ]
    }
   ],
   "source": [
    "ok.grade(\"q3_1_1\");"
   ]
  },
  {
   "cell_type": "markdown",
   "metadata": {
    "deletable": false,
    "editable": false
   },
   "source": [
    "**Question 3.1.2**\n",
    "\n",
    "What properties does a word in the bottom right corner have?\n",
    "\n",
    "<!--\n",
    "BEGIN QUESTION\n",
    "name: q3_1_2\n",
    "-->"
   ]
  },
  {
   "cell_type": "code",
   "execution_count": 41,
   "metadata": {
    "deletable": false
   },
   "outputs": [],
   "source": [
    "bottom_right = 3"
   ]
  },
  {
   "cell_type": "code",
   "execution_count": 42,
   "metadata": {
    "deletable": false,
    "editable": false
   },
   "outputs": [
    {
     "name": "stdout",
     "output_type": "stream",
     "text": [
      "~~~~~~~~~~~~~~~~~~~~~~~~~~~~~~~~~~~~~~~~~~~~~~~~~~~~~~~~~~~~~~~~~~~~~\n",
      "Running tests\n",
      "\n",
      "---------------------------------------------------------------------\n",
      "Test summary\n",
      "    Passed: 1\n",
      "    Failed: 0\n",
      "[ooooooooook] 100.0% passed\n",
      "\n"
     ]
    }
   ],
   "source": [
    "ok.grade(\"q3_1_2\");"
   ]
  },
  {
   "cell_type": "markdown",
   "metadata": {
    "deletable": false,
    "editable": false
   },
   "source": [
    "**Question 3.1.3**\n",
    "\n",
    "What properties does a word in the top right corner have?\n",
    "\n",
    "<!--\n",
    "BEGIN QUESTION\n",
    "name: q3_1_3\n",
    "-->"
   ]
  },
  {
   "cell_type": "code",
   "execution_count": 43,
   "metadata": {
    "deletable": false
   },
   "outputs": [],
   "source": [
    "top_right = 1"
   ]
  },
  {
   "cell_type": "code",
   "execution_count": 44,
   "metadata": {
    "deletable": false,
    "editable": false
   },
   "outputs": [
    {
     "name": "stdout",
     "output_type": "stream",
     "text": [
      "~~~~~~~~~~~~~~~~~~~~~~~~~~~~~~~~~~~~~~~~~~~~~~~~~~~~~~~~~~~~~~~~~~~~~\n",
      "Running tests\n",
      "\n",
      "---------------------------------------------------------------------\n",
      "Test summary\n",
      "    Passed: 1\n",
      "    Failed: 0\n",
      "[ooooooooook] 100.0% passed\n",
      "\n"
     ]
    }
   ],
   "source": [
    "ok.grade(\"q3_1_3\");"
   ]
  },
  {
   "cell_type": "markdown",
   "metadata": {
    "deletable": false,
    "editable": false
   },
   "source": [
    "**Question 3.1.4**\n",
    "\n",
    "What properties does a word in the top left corner have?\n",
    "\n",
    "<!--\n",
    "BEGIN QUESTION\n",
    "name: q3_1_4\n",
    "-->"
   ]
  },
  {
   "cell_type": "code",
   "execution_count": 45,
   "metadata": {
    "deletable": false
   },
   "outputs": [],
   "source": [
    "top_left = 2"
   ]
  },
  {
   "cell_type": "code",
   "execution_count": 46,
   "metadata": {
    "deletable": false,
    "editable": false
   },
   "outputs": [
    {
     "name": "stdout",
     "output_type": "stream",
     "text": [
      "~~~~~~~~~~~~~~~~~~~~~~~~~~~~~~~~~~~~~~~~~~~~~~~~~~~~~~~~~~~~~~~~~~~~~\n",
      "Running tests\n",
      "\n",
      "---------------------------------------------------------------------\n",
      "Test summary\n",
      "    Passed: 1\n",
      "    Failed: 0\n",
      "[ooooooooook] 100.0% passed\n",
      "\n"
     ]
    }
   ],
   "source": [
    "ok.grade(\"q3_1_4\");"
   ]
  },
  {
   "cell_type": "markdown",
   "metadata": {
    "deletable": false,
    "editable": false
   },
   "source": [
    "**Question 3.1.5**\n",
    "\n",
    "If we see a movie with a lot of words that are common for comedy movies but uncommon for thriller movies, what would be a reasonable guess about the genre of the movie? Assign `movie_genre` to the number corresponding to your answer:\n",
    "    1. It is a thriller movie.\n",
    "    2. It is a comedy movie.\n",
    "    \n",
    "<!--\n",
    "BEGIN QUESTION\n",
    "name: q3_1_5\n",
    "-->"
   ]
  },
  {
   "cell_type": "code",
   "execution_count": 47,
   "metadata": {
    "deletable": false
   },
   "outputs": [],
   "source": [
    "movie_genre_guess = 2"
   ]
  },
  {
   "cell_type": "code",
   "execution_count": 48,
   "metadata": {
    "deletable": false,
    "editable": false
   },
   "outputs": [
    {
     "name": "stdout",
     "output_type": "stream",
     "text": [
      "~~~~~~~~~~~~~~~~~~~~~~~~~~~~~~~~~~~~~~~~~~~~~~~~~~~~~~~~~~~~~~~~~~~~~\n",
      "Running tests\n",
      "\n",
      "---------------------------------------------------------------------\n",
      "Test summary\n",
      "    Passed: 1\n",
      "    Failed: 0\n",
      "[ooooooooook] 100.0% passed\n",
      "\n"
     ]
    }
   ],
   "source": [
    "ok.grade(\"q3_1_5\");"
   ]
  },
  {
   "cell_type": "markdown",
   "metadata": {
    "deletable": false,
    "editable": false
   },
   "source": [
    "#### Question 3.1.6\n",
    "Using the plot above, make an array of at least 10 common words that you think might let you distinguish between comedy and thriller movies. Make sure to choose words that are frequent enough that every movie contains at least one of them. Don't just choose the most frequent words, though--you can do much better.\n",
    "\n",
    "You might want to come back to this question later to improve your list, once you've seen how to evaluate your classifier.  \n",
    "\n",
    "<!--\n",
    "BEGIN QUESTION\n",
    "name: q3_1_6\n",
    "-->"
   ]
  },
  {
   "cell_type": "code",
   "execution_count": 49,
   "metadata": {
    "deletable": false
   },
   "outputs": [],
   "source": [
    "# Set my_20_features to an array of 20 features (strings that are column labels)\n",
    "\n",
    "my_features = make_array(\"kill\", \"dead\", \"walter\", \"ship\", \"cop\", \"gun\", \"found\", \"question\", \"murder\", \"case\")\n",
    "\n",
    "# Select the 20 features of interest from both the train and test sets\n",
    "train_my_features = train_movies.select(my_features)\n",
    "test_my_features = test_movies.select(my_features)"
   ]
  },
  {
   "cell_type": "code",
   "execution_count": 50,
   "metadata": {
    "deletable": false,
    "editable": false
   },
   "outputs": [
    {
     "name": "stdout",
     "output_type": "stream",
     "text": [
      "~~~~~~~~~~~~~~~~~~~~~~~~~~~~~~~~~~~~~~~~~~~~~~~~~~~~~~~~~~~~~~~~~~~~~\n",
      "Running tests\n",
      "\n",
      "---------------------------------------------------------------------\n",
      "Test summary\n",
      "    Passed: 5\n",
      "    Failed: 0\n",
      "[ooooooooook] 100.0% passed\n",
      "\n"
     ]
    }
   ],
   "source": [
    "ok.grade(\"q3_1_6\");"
   ]
  },
  {
   "cell_type": "markdown",
   "metadata": {},
   "source": [
    "This test makes sure that you have chosen words such that at least one appears in each movie. If you can't find words that satisfy this test just through intuition, try writing code to print out the titles of movies that do not contain any words from your list, then look at the words they do contain."
   ]
  },
  {
   "cell_type": "markdown",
   "metadata": {
    "deletable": false,
    "editable": false
   },
   "source": [
    "#### Question 3.1.7\n",
    "In two sentences or less, describe how you selected your features.\n",
    "\n",
    "<!--\n",
    "BEGIN QUESTION\n",
    "name: q3_1_7\n",
    "manual: True\n",
    "-->\n",
    "<!-- EXPORT TO PDF -->"
   ]
  },
  {
   "cell_type": "markdown",
   "metadata": {
    "deletable": false,
    "export_pdf": true,
    "manual_problem_id": "music_3_1_2"
   },
   "source": [
    "I selected my features if they occured more commonly in thriller movies than comedy movies. I noticed that if they occur in equal proportions in both genres that they would follow a line with a slope of 1 on the plot. I chose words like \"gun\" and \"cop\" that were slightly above the line (meaning they occur more commonly in thriller movies). Also, intuitively it was easy to see that thriller movies would have more words related to crime/death."
   ]
  },
  {
   "cell_type": "markdown",
   "metadata": {},
   "source": [
    "Next, let's classify the first movie from our test set using these features.  You can examine the movie by running the cells below. Do you think it will be classified correctly?"
   ]
  },
  {
   "cell_type": "code",
   "execution_count": 51,
   "metadata": {},
   "outputs": [
    {
     "name": "stdout",
     "output_type": "stream",
     "text": [
      "Movie:\n"
     ]
    },
    {
     "data": {
      "text/html": [
       "<table border=\"1\" class=\"dataframe\">\n",
       "    <thead>\n",
       "        <tr>\n",
       "            <th>Title</th> <th>Genre</th>\n",
       "        </tr>\n",
       "    </thead>\n",
       "    <tbody>\n",
       "        <tr>\n",
       "            <td>new nightmare</td> <td>thriller</td>\n",
       "        </tr>\n",
       "    </tbody>\n",
       "</table>"
      ],
      "text/plain": [
       "<IPython.core.display.HTML object>"
      ]
     },
     "metadata": {},
     "output_type": "display_data"
    },
    {
     "name": "stdout",
     "output_type": "stream",
     "text": [
      "Features:\n"
     ]
    },
    {
     "data": {
      "text/html": [
       "<table border=\"1\" class=\"dataframe\">\n",
       "    <thead>\n",
       "        <tr>\n",
       "            <th>kill</th> <th>dead</th> <th>walter</th> <th>ship</th> <th>cop</th> <th>gun</th> <th>found</th> <th>question</th> <th>murder</th> <th>case</th>\n",
       "        </tr>\n",
       "    </thead>\n",
       "    <tbody>\n",
       "        <tr>\n",
       "            <td>0.000729129</td> <td>0.000364564</td> <td>0     </td> <td>0   </td> <td>0.000729129</td> <td>0   </td> <td>0    </td> <td>0       </td> <td>0     </td> <td>0.000729129</td>\n",
       "        </tr>\n",
       "    </tbody>\n",
       "</table>"
      ],
      "text/plain": [
       "<IPython.core.display.HTML object>"
      ]
     },
     "metadata": {},
     "output_type": "display_data"
    }
   ],
   "source": [
    "print(\"Movie:\")\n",
    "test_movies.take(0).select('Title', 'Genre').show()\n",
    "print(\"Features:\")\n",
    "test_my_features.take(0).show()"
   ]
  },
  {
   "cell_type": "markdown",
   "metadata": {},
   "source": [
    "As before, we want to look for the movies in the training set that are most like our test movie.  We will calculate the Euclidean distances from the test movie (using `my_features`) to all movies in the training set.  You could do this with a `for` loop, but to make it computationally faster, we have provided a function, `fast_distances`, to do this for you.  Read its documentation to make sure you understand what it does.  (You don't need to understand the code in its body unless you want to.)"
   ]
  },
  {
   "cell_type": "code",
   "execution_count": 52,
   "metadata": {},
   "outputs": [],
   "source": [
    "# Just run this cell to define fast_distances.\n",
    "\n",
    "def fast_distances(test_row, train_table):\n",
    "    \"\"\"Return an array of the distances between test_row and each row in train_rows.\n",
    "\n",
    "    Takes 2 arguments:\n",
    "      test_row: A row of a table containing features of one\n",
    "        test movie (e.g., test_my_features.row(0)).\n",
    "      train_table: A table of features (for example, the whole\n",
    "        table train_my_features).\"\"\"\n",
    "    assert train_table.num_columns < 50, \"Make sure you're not using all the features of the movies table.\"\n",
    "    counts_matrix = np.asmatrix(train_table.columns).transpose()\n",
    "    diff = np.tile(np.array(list(test_row)), [counts_matrix.shape[0], 1]) - counts_matrix\n",
    "    np.random.seed(0) # For tie breaking purposes\n",
    "    distances = np.squeeze(np.asarray(np.sqrt(np.square(diff).sum(1))))\n",
    "    eps = np.random.uniform(size=distances.shape)*1e-10 #Noise for tie break\n",
    "    distances = distances + eps\n",
    "    return distances"
   ]
  },
  {
   "cell_type": "markdown",
   "metadata": {
    "deletable": false,
    "editable": false
   },
   "source": [
    "#### Question 3.1.8\n",
    "Use the `fast_distances` function provided above to compute the distance from the first movie in the test set to all the movies in the training set, **using your set of features**.  Make a new table called `genre_and_distances` with one row for each movie in the training set and two columns:\n",
    "* The `\"Genre\"` of the training movie\n",
    "* The `\"Distance\"` from the first movie in the test set \n",
    "\n",
    "Ensure that `genre_and_distances` is **sorted in ascending order by distance to the first test movie**.\n",
    "\n",
    "<!--\n",
    "BEGIN QUESTION\n",
    "name: q3_1_8\n",
    "-->"
   ]
  },
  {
   "cell_type": "code",
   "execution_count": 53,
   "metadata": {
    "for_assignment_type": "solution"
   },
   "outputs": [
    {
     "data": {
      "text/html": [
       "<table border=\"1\" class=\"dataframe\">\n",
       "    <thead>\n",
       "        <tr>\n",
       "            <th>Genre</th> <th>Distance</th>\n",
       "        </tr>\n",
       "    </thead>\n",
       "    <tbody>\n",
       "        <tr>\n",
       "            <td>thriller</td> <td>0.000666579</td>\n",
       "        </tr>\n",
       "        <tr>\n",
       "            <td>comedy  </td> <td>0.00081162 </td>\n",
       "        </tr>\n",
       "        <tr>\n",
       "            <td>thriller</td> <td>0.000816132</td>\n",
       "        </tr>\n",
       "        <tr>\n",
       "            <td>thriller</td> <td>0.000838552</td>\n",
       "        </tr>\n",
       "        <tr>\n",
       "            <td>comedy  </td> <td>0.000879989</td>\n",
       "        </tr>\n",
       "        <tr>\n",
       "            <td>comedy  </td> <td>0.0008931  </td>\n",
       "        </tr>\n",
       "        <tr>\n",
       "            <td>comedy  </td> <td>0.000928711</td>\n",
       "        </tr>\n",
       "        <tr>\n",
       "            <td>comedy  </td> <td>0.000931703</td>\n",
       "        </tr>\n",
       "        <tr>\n",
       "            <td>thriller</td> <td>0.000936655</td>\n",
       "        </tr>\n",
       "        <tr>\n",
       "            <td>comedy  </td> <td>0.000941833</td>\n",
       "        </tr>\n",
       "    </tbody>\n",
       "</table>\n",
       "<p>... (304 rows omitted)</p>"
      ],
      "text/plain": [
       "Genre    | Distance\n",
       "thriller | 0.000666579\n",
       "comedy   | 0.00081162\n",
       "thriller | 0.000816132\n",
       "thriller | 0.000838552\n",
       "comedy   | 0.000879989\n",
       "comedy   | 0.0008931\n",
       "comedy   | 0.000928711\n",
       "comedy   | 0.000931703\n",
       "thriller | 0.000936655\n",
       "comedy   | 0.000941833\n",
       "... (304 rows omitted)"
      ]
     },
     "execution_count": 53,
     "metadata": {},
     "output_type": "execute_result"
    }
   ],
   "source": [
    "# The staff solution took multiple lines of code.\n",
    "train = train_movies.select(my_features)\n",
    "test = test_movies.select(my_features)\n",
    "genre_and_distances = train_movies.with_columns(\"Distance\", fast_distances(test.row(0), train)).select(\"Genre\", \"Distance\").sort(\"Distance\")\n",
    "genre_and_distances"
   ]
  },
  {
   "cell_type": "code",
   "execution_count": 54,
   "metadata": {
    "deletable": false,
    "editable": false
   },
   "outputs": [
    {
     "name": "stdout",
     "output_type": "stream",
     "text": [
      "~~~~~~~~~~~~~~~~~~~~~~~~~~~~~~~~~~~~~~~~~~~~~~~~~~~~~~~~~~~~~~~~~~~~~\n",
      "Running tests\n",
      "\n",
      "---------------------------------------------------------------------\n",
      "Test summary\n",
      "    Passed: 4\n",
      "    Failed: 0\n",
      "[ooooooooook] 100.0% passed\n",
      "\n"
     ]
    }
   ],
   "source": [
    "ok.grade(\"q3_1_8\");"
   ]
  },
  {
   "cell_type": "markdown",
   "metadata": {
    "deletable": false,
    "editable": false
   },
   "source": [
    "#### Question 3.1.9\n",
    "Now compute the 7-nearest neighbors classification of the first movie in the test set.  That is, decide on its genre by finding the most common genre among its 7 nearest neighbors in the training set, according to the distances you've calculated.  Then check whether your classifier chose the right genre.  (Depending on the features you chose, your classifier might not get this movie right, and that's okay.)\n",
    "\n",
    "<!--\n",
    "BEGIN QUESTION\n",
    "name: q3_1_9\n",
    "-->"
   ]
  },
  {
   "cell_type": "code",
   "execution_count": 55,
   "metadata": {
    "deletable": false
   },
   "outputs": [
    {
     "name": "stdout",
     "output_type": "stream",
     "text": [
      "The assigned genre, comedy, was not correct.\n"
     ]
    }
   ],
   "source": [
    "# Set my_assigned_genre to the most common genre among these.\n",
    "my_assigned_genre = most_common(\"Genre\", genre_and_distances.take(np.arange(7)))\n",
    "\n",
    "# Set my_assigned_genre_was_correct to True if my_assigned_genre\n",
    "# matches the actual genre of the first movie in the test set.\n",
    "my_assigned_genre_was_correct = False\n",
    "\n",
    "print(\"The assigned genre, {}, was{}correct.\".format(my_assigned_genre, \" \" if my_assigned_genre_was_correct else \" not \"))"
   ]
  },
  {
   "cell_type": "code",
   "execution_count": 56,
   "metadata": {
    "deletable": false,
    "editable": false
   },
   "outputs": [
    {
     "name": "stdout",
     "output_type": "stream",
     "text": [
      "~~~~~~~~~~~~~~~~~~~~~~~~~~~~~~~~~~~~~~~~~~~~~~~~~~~~~~~~~~~~~~~~~~~~~\n",
      "Running tests\n",
      "\n",
      "---------------------------------------------------------------------\n",
      "Test summary\n",
      "    Passed: 2\n",
      "    Failed: 0\n",
      "[ooooooooook] 100.0% passed\n",
      "\n"
     ]
    }
   ],
   "source": [
    "ok.grade(\"q3_1_9\");"
   ]
  },
  {
   "cell_type": "markdown",
   "metadata": {},
   "source": [
    "## 3.2. A classifier function\n",
    "\n",
    "Now we can write a single function that encapsulates the whole process of classification."
   ]
  },
  {
   "cell_type": "markdown",
   "metadata": {
    "deletable": false,
    "editable": false
   },
   "source": [
    "#### Question 3.2.1\n",
    "Write a function called `classify`.  It should take the following four arguments:\n",
    "* A row of features for a movie to classify (e.g., `test_my_features.row(0)`).\n",
    "* A table with a column for each feature (e.g., `train_my_features`).\n",
    "* An array of classes (e.g. the labels \"comedy\" or \"thriller\") that has as many items as the previous table has rows, and in the same order.\n",
    "* `k`, the number of neighbors to use in classification.\n",
    "\n",
    "It should return the class a `k`-nearest neighbor classifier picks for the given row of features (the string `'comedy'` or the string `'thriller'`).\n",
    "\n",
    "<!--\n",
    "BEGIN QUESTION\n",
    "name: q3_2_1\n",
    "-->"
   ]
  },
  {
   "cell_type": "code",
   "execution_count": 57,
   "metadata": {
    "deletable": false
   },
   "outputs": [],
   "source": [
    "def classify(test_row, train_rows, train_labels, k):\n",
    "    \"\"\"Return the most common class among k nearest neigbors to test_row.\"\"\"\n",
    "    distances = fast_distances(test_row, train_rows)\n",
    "    genre_and_distances = Table().with_columns(\"Distance\", distances, \"Genre\", train_labels).sort(\"Distance\").take(np.arange(k))\n",
    "    return most_common(\"Genre\", genre_and_distances)"
   ]
  },
  {
   "cell_type": "code",
   "execution_count": 58,
   "metadata": {
    "deletable": false,
    "editable": false
   },
   "outputs": [
    {
     "name": "stdout",
     "output_type": "stream",
     "text": [
      "~~~~~~~~~~~~~~~~~~~~~~~~~~~~~~~~~~~~~~~~~~~~~~~~~~~~~~~~~~~~~~~~~~~~~\n",
      "Running tests\n",
      "\n",
      "---------------------------------------------------------------------\n",
      "Test summary\n",
      "    Passed: 2\n",
      "    Failed: 0\n",
      "[ooooooooook] 100.0% passed\n",
      "\n"
     ]
    }
   ],
   "source": [
    "ok.grade(\"q3_2_1\");"
   ]
  },
  {
   "cell_type": "markdown",
   "metadata": {
    "deletable": false,
    "editable": false
   },
   "source": [
    "#### Question 3.2.2\n",
    "\n",
    "Assign `tron_genre` to the genre predicted by your classifier for the movie \"tron\" in the test set, using **13 neighbors** and using your 20 features.\n",
    "\n",
    "<!--\n",
    "BEGIN QUESTION\n",
    "name: q3_2_2\n",
    "-->"
   ]
  },
  {
   "cell_type": "code",
   "execution_count": 59,
   "metadata": {
    "deletable": false
   },
   "outputs": [
    {
     "data": {
      "text/plain": [
       "'comedy'"
      ]
     },
     "execution_count": 59,
     "metadata": {},
     "output_type": "execute_result"
    }
   ],
   "source": [
    "# The staff solution first defined a row called king_kong_features.\n",
    "tron_features = test_movies.where(\"Title\", \"tron\").select(my_features)\n",
    "tron_genre = classify(tron_features.row(0), train_movies.select(my_features), train_movies.column(\"Genre\"), 13)\n",
    "tron_genre"
   ]
  },
  {
   "cell_type": "code",
   "execution_count": 60,
   "metadata": {
    "deletable": false,
    "editable": false
   },
   "outputs": [
    {
     "name": "stdout",
     "output_type": "stream",
     "text": [
      "~~~~~~~~~~~~~~~~~~~~~~~~~~~~~~~~~~~~~~~~~~~~~~~~~~~~~~~~~~~~~~~~~~~~~\n",
      "Running tests\n",
      "\n",
      "---------------------------------------------------------------------\n",
      "Test summary\n",
      "    Passed: 1\n",
      "    Failed: 0\n",
      "[ooooooooook] 100.0% passed\n",
      "\n"
     ]
    }
   ],
   "source": [
    "ok.grade(\"q3_2_2\");"
   ]
  },
  {
   "cell_type": "markdown",
   "metadata": {},
   "source": [
    "Finally, when we evaluate our classifier, it will be useful to have a classification function that is specialized to use a fixed training set and a fixed value of `k`."
   ]
  },
  {
   "cell_type": "markdown",
   "metadata": {
    "deletable": false,
    "editable": false
   },
   "source": [
    "#### Question 3.2.3\n",
    "Create a classification function that takes as its argument a row containing your 20 features and classifies that row using the 13-nearest neighbors algorithm with `train_20` as its training set.\n",
    "\n",
    "<!--\n",
    "BEGIN QUESTION\n",
    "name: q3_2_3\n",
    "-->"
   ]
  },
  {
   "cell_type": "code",
   "execution_count": 61,
   "metadata": {
    "deletable": false
   },
   "outputs": [
    {
     "data": {
      "text/plain": [
       "'comedy'"
      ]
     },
     "execution_count": 61,
     "metadata": {},
     "output_type": "execute_result"
    }
   ],
   "source": [
    "def classify_feature_row(row):\n",
    "    return classify(row, train_movies.select(my_features), train_movies.column(\"Genre\"), 13)\n",
    "\n",
    "# When you're done, this should produce 'Thriller' or 'Comedy'.\n",
    "classify_feature_row(test_my_features.row(0))"
   ]
  },
  {
   "cell_type": "code",
   "execution_count": 62,
   "metadata": {
    "deletable": false,
    "editable": false
   },
   "outputs": [
    {
     "name": "stdout",
     "output_type": "stream",
     "text": [
      "~~~~~~~~~~~~~~~~~~~~~~~~~~~~~~~~~~~~~~~~~~~~~~~~~~~~~~~~~~~~~~~~~~~~~\n",
      "Running tests\n",
      "\n",
      "---------------------------------------------------------------------\n",
      "Test summary\n",
      "    Passed: 1\n",
      "    Failed: 0\n",
      "[ooooooooook] 100.0% passed\n",
      "\n"
     ]
    }
   ],
   "source": [
    "ok.grade(\"q3_2_3\");"
   ]
  },
  {
   "cell_type": "markdown",
   "metadata": {},
   "source": [
    "## 3.3. Evaluating your classifier"
   ]
  },
  {
   "cell_type": "markdown",
   "metadata": {
    "deletable": false,
    "editable": false
   },
   "source": [
    "Now that it's easy to use the classifier, let's see how accurate it is on the whole test set.\n",
    "\n",
    "**Question 3.3.1.** Use `classify_feature_row` and `apply` to classify every movie in the test set.  Assign these guesses as an array to `test_guesses`.  **Then**, compute the proportion of correct classifications. \n",
    "\n",
    "<!--\n",
    "BEGIN QUESTION\n",
    "name: q3_3_1\n",
    "-->"
   ]
  },
  {
   "cell_type": "code",
   "execution_count": 63,
   "metadata": {
    "deletable": false
   },
   "outputs": [
    {
     "data": {
      "text/plain": [
       "0.6607142857142857"
      ]
     },
     "execution_count": 63,
     "metadata": {},
     "output_type": "execute_result"
    }
   ],
   "source": [
    "test_guesses = test_my_features.apply(classify_feature_row)\n",
    "correct = 0\n",
    "for r in np.arange(test_my_features.num_rows):\n",
    "    if test_movies.column(\"Genre\").item(r) == test_guesses.item(r):\n",
    "        correct += 1\n",
    "proportion_correct = correct/test_my_features.num_rows\n",
    "proportion_correct"
   ]
  },
  {
   "cell_type": "code",
   "execution_count": 64,
   "metadata": {
    "deletable": false,
    "editable": false
   },
   "outputs": [
    {
     "name": "stdout",
     "output_type": "stream",
     "text": [
      "~~~~~~~~~~~~~~~~~~~~~~~~~~~~~~~~~~~~~~~~~~~~~~~~~~~~~~~~~~~~~~~~~~~~~\n",
      "Running tests\n",
      "\n",
      "---------------------------------------------------------------------\n",
      "Test summary\n",
      "    Passed: 1\n",
      "    Failed: 0\n",
      "[ooooooooook] 100.0% passed\n",
      "\n"
     ]
    }
   ],
   "source": [
    "ok.grade(\"q3_3_1\");"
   ]
  },
  {
   "cell_type": "markdown",
   "metadata": {
    "deletable": false,
    "editable": false
   },
   "source": [
    "**Question 3.3.2.** An important part of evaluating your classifiers is figuring out where they make mistakes. Assign the name `test_movie_correctness` to a table with three columns, `'Title'`, `'Genre'`, and `'Was correct'`. The last column should contain `True` or `False` depending on whether or not the movie was classified correctly.\n",
    "\n",
    "<!--\n",
    "BEGIN QUESTION\n",
    "name: q3_3_2\n",
    "-->"
   ]
  },
  {
   "cell_type": "code",
   "execution_count": 65,
   "metadata": {
    "deletable": false,
    "for_assignment_type": "student",
    "manual_problem_id": "test_movie_correctness"
   },
   "outputs": [
    {
     "data": {
      "text/html": [
       "<table border=\"1\" class=\"dataframe\">\n",
       "    <thead>\n",
       "        <tr>\n",
       "            <th>Title</th> <th>Genre</th> <th>Was correct</th>\n",
       "        </tr>\n",
       "    </thead>\n",
       "    <tbody>\n",
       "        <tr>\n",
       "            <td>what women want          </td> <td>comedy  </td> <td>True       </td>\n",
       "        </tr>\n",
       "        <tr>\n",
       "            <td>wonder boys              </td> <td>comedy  </td> <td>True       </td>\n",
       "        </tr>\n",
       "        <tr>\n",
       "            <td>what lies beneath        </td> <td>thriller</td> <td>True       </td>\n",
       "        </tr>\n",
       "        <tr>\n",
       "            <td>o brother where art thou?</td> <td>comedy  </td> <td>True       </td>\n",
       "        </tr>\n",
       "        <tr>\n",
       "            <td>sphere                   </td> <td>thriller</td> <td>True       </td>\n",
       "        </tr>\n",
       "    </tbody>\n",
       "</table>\n",
       "<p>... (51 rows omitted)</p>"
      ],
      "text/plain": [
       "<IPython.core.display.HTML object>"
      ]
     },
     "metadata": {},
     "output_type": "display_data"
    }
   ],
   "source": [
    "# Feel free to use multiple lines of code\n",
    "# but make sure to assign test_movie_correctness to the proper table!\n",
    "def check(apply, feat):\n",
    "    wc = make_array()\n",
    "    for r in np.arange(feat.num_rows):\n",
    "        if test_movies.column(\"Genre\").item(r) == apply.item(r):\n",
    "            wc = np.append(wc, \"True\")\n",
    "        else:\n",
    "            wc = np.append(wc, \"False\")\n",
    "    return wc\n",
    "    \n",
    "col = check(test_guesses, test_my_features)\n",
    "test_movie_correctness = test_movies.select(\"Title\", \"Genre\").with_columns(\"Was correct\", col)\n",
    "test_movie_correctness.sort('Was correct', descending = True).show(5)"
   ]
  },
  {
   "cell_type": "code",
   "execution_count": 66,
   "metadata": {
    "deletable": false,
    "editable": false
   },
   "outputs": [
    {
     "name": "stdout",
     "output_type": "stream",
     "text": [
      "~~~~~~~~~~~~~~~~~~~~~~~~~~~~~~~~~~~~~~~~~~~~~~~~~~~~~~~~~~~~~~~~~~~~~\n",
      "Running tests\n",
      "\n",
      "---------------------------------------------------------------------\n",
      "Test summary\n",
      "    Passed: 3\n",
      "    Failed: 0\n",
      "[ooooooooook] 100.0% passed\n",
      "\n"
     ]
    }
   ],
   "source": [
    "ok.grade(\"q3_3_2\");"
   ]
  },
  {
   "cell_type": "markdown",
   "metadata": {
    "deletable": false,
    "editable": false
   },
   "source": [
    "**Question 3.3.3.** Do you see a pattern in the types of movies your classifier misclassifies? In two sentences or less, describe any patterns you see in the results or any other interesting findings from the table above. If you need some help, try looking up the movies that your classifier got wrong on Wikipedia.\n",
    "\n",
    "<!--\n",
    "BEGIN QUESTION\n",
    "name: q3_3_3\n",
    "manual: true\n",
    "-->\n",
    "<!-- EXPORT TO PDF -->"
   ]
  },
  {
   "cell_type": "markdown",
   "metadata": {
    "deletable": false,
    "export_pdf": true,
    "manual_problem_id": "old_classifier_pattern"
   },
   "source": [
    "The movies my classifier got wrong seemed to be mostly untraditional thriller movies; most of them were not based around crime but rather supernatural events. My features checked for words like \"cop\" and \"murder\", using human crime terms to classify these movies."
   ]
  },
  {
   "cell_type": "markdown",
   "metadata": {},
   "source": [
    "At this point, you've gone through one cycle of classifier design.  Let's summarize the steps:\n",
    "1. From available data, select test and training sets.\n",
    "2. Choose an algorithm you're going to use for classification.\n",
    "3. Identify some features.\n",
    "4. Define a classifier function using your features and the training set.\n",
    "5. Evaluate its performance (the proportion of correct classifications) on the test set."
   ]
  },
  {
   "cell_type": "markdown",
   "metadata": {},
   "source": [
    "## 4. Explorations\n",
    "Now that you know how to evaluate a classifier, it's time to build a better one."
   ]
  },
  {
   "cell_type": "markdown",
   "metadata": {},
   "source": [
    "#### Question 4.1\n",
    "Develop a classifier with better test-set accuracy than `classify_feature_row`.  Your new function should have the same arguments as `classify_feature_row` and return a classification.  Name it `another_classifier`. Then, check your accuracy using code from earlier.\n",
    "\n",
    "You can use more or different features, or you can try different values of `k`. (Of course, you still have to use `train_movies` as your training set!) \n",
    "\n",
    "**Make sure you don't reassign any previously used variables here**, such as `proportion_correct` from the previous question."
   ]
  },
  {
   "cell_type": "code",
   "execution_count": 72,
   "metadata": {
    "deletable": false
   },
   "outputs": [
    {
     "name": "stdout",
     "output_type": "stream",
     "text": [
      "0.7678571428571429\n"
     ]
    }
   ],
   "source": [
    "# To start you off, here's a list of possibly-useful features\n",
    "# Feel free to add or change this array to improve your classifier\n",
    "new_features = make_array(\"laugh\", \"marri\", \"dead\", \"heart\", \"cop\", \"walter\", \"jake\", \"murder\", \"gun\",\n",
    "                         \"question\", \"case\", \"uh\", \"oh\", \"burglar\", \"booz\", \"cigar\")\n",
    "\n",
    "train_new = train_movies.select(new_features)\n",
    "test_new = test_movies.select(new_features)\n",
    "\n",
    "def another_classifier(row):\n",
    "    return  classify(row, train_movies.select(new_features), train_movies.column(\"Genre\"), 100)\n",
    "apply = test_new.apply(another_classifier)\n",
    "column = check(apply, test_new)\n",
    "test_mc = test_movies.select(\"Title\", \"Genre\").with_columns(\"Was correct\", column)\n",
    "print(test_mc.where(\"Was correct\", \"True\").num_rows/test_mc.num_rows)"
   ]
  },
  {
   "cell_type": "markdown",
   "metadata": {
    "deletable": false,
    "editable": false
   },
   "source": [
    "**Question 4.2** \n",
    "\n",
    "Do you see a pattern in the mistakes your new classifier makes? What about in the improvement from your first classifier to the second one? Describe in two sentences or less.\n",
    "\n",
    "**Hint:** You may not be able to see a pattern.\n",
    "\n",
    "<!--\n",
    "BEGIN QUESTION\n",
    "name: q4_2\n",
    "manual: true\n",
    "-->\n",
    "<!-- EXPORT TO PDF -->"
   ]
  },
  {
   "cell_type": "markdown",
   "metadata": {
    "deletable": false,
    "export_pdf": true,
    "manual_problem_id": "new_classifier_pattern"
   },
   "source": [
    "I used many more features for this classifier, which was able to differentiate between genres more effectively; I also changed the k-nearest neighbors to a larger number. I cannot see a pattern in the mistakes my classifier made."
   ]
  },
  {
   "cell_type": "markdown",
   "metadata": {
    "deletable": false,
    "editable": false
   },
   "source": [
    "**Question 4.3**\n",
    "\n",
    "Briefly describe what you tried to improve your classifier. \n",
    "\n",
    "<!--\n",
    "BEGIN QUESTION\n",
    "name: q4_3\n",
    "manual: true\n",
    "-->\n",
    "<!-- EXPORT TO PDF -->"
   ]
  },
  {
   "cell_type": "markdown",
   "metadata": {
    "deletable": false,
    "export_pdf": true,
    "manual_problem_id": "music_4_1"
   },
   "source": [
    "I adjusted my k-value several times to see which would yield the highest accuracy. Then, I added more words to my features list based on the given staff words and other words that I thought could be relevant and differentiating."
   ]
  },
  {
   "cell_type": "markdown",
   "metadata": {},
   "source": [
    "Congratulations: you're done with the required portion of the project! Time to submit."
   ]
  },
  {
   "cell_type": "code",
   "execution_count": 68,
   "metadata": {
    "deletable": false
   },
   "outputs": [
    {
     "data": {
      "application/javascript": [
       "IPython.notebook.save_checkpoint();"
      ],
      "text/plain": [
       "<IPython.core.display.Javascript object>"
      ]
     },
     "metadata": {},
     "output_type": "display_data"
    },
    {
     "data": {
      "application/javascript": [
       "IPython.notebook.save_notebook();"
      ],
      "text/plain": [
       "<IPython.core.display.Javascript object>"
      ]
     },
     "metadata": {},
     "output_type": "display_data"
    },
    {
     "name": "stdout",
     "output_type": "stream",
     "text": [
      "Saving notebook... Saved 'project3.ipynb'.\n",
      "Submit... 100% complete\n",
      "Submission successful for user: lillyliu@berkeley.edu\n",
      "URL: https://okpy.org/cal/data8/sp20/project3/submissions/wKkLZM\n",
      "\n"
     ]
    }
   ],
   "source": [
    "_ = ok.submit()"
   ]
  },
  {
   "cell_type": "markdown",
   "metadata": {},
   "source": [
    "## 5. Other Classification Methods (OPTIONAL)"
   ]
  },
  {
   "cell_type": "markdown",
   "metadata": {},
   "source": [
    "**Note**: Everything below is **OPTIONAL**. Please only work on this part after you have finished and submitted the project. If you create new cells below, do NOT reassign variables defined in previous parts of the project.\n",
    "\n",
    "Now that you've finished your k-NN classifier, you might be wondering what else you could do to improve your accuracy on the test set. Classification is one of many machine learning tasks, and there are plenty of other classification algorithms! If you feel so inclined, we encourage you to try any methods you feel might help improve your classifier. \n",
    "\n",
    "We've compiled a list of blog posts with some more information about classification and machine learning. Create as many cells as you'd like below--you can use them to import new modules or implement new algorithms. \n",
    "\n",
    "Blog posts: \n",
    "\n",
    "* [Classification algorithms/methods](https://medium.com/@sifium/machine-learning-types-of-classification-9497bd4f2e14)\n",
    "* [Train/test split and cross-validation](https://towardsdatascience.com/train-test-split-and-cross-validation-in-python-80b61beca4b6)\n",
    "* [More information about k-nearest neighbors](https://medium.com/@adi.bronshtein/a-quick-introduction-to-k-nearest-neighbors-algorithm-62214cea29c7)\n",
    "* [Overfitting](https://elitedatascience.com/overfitting-in-machine-learning)\n",
    "\n",
    "In future data science classes, such as Data Science 100, you'll learn about some about some of the algorithms in the blog posts above, including logistic regression. You'll also learn more about overfitting, cross-validation, and approaches to different kinds of machine learning problems.\n",
    "\n",
    "There's a lot to think about, so we encourage you to find more information on your own!\n",
    "\n",
    "Modules to think about using:\n",
    "\n",
    "* [Scikit-learn tutorial](http://scikit-learn.org/stable/tutorial/basic/tutorial.html)\n",
    "* [TensorFlow information](https://www.tensorflow.org/tutorials/)\n",
    "\n",
    "...and many more!"
   ]
  },
  {
   "cell_type": "code",
   "execution_count": 69,
   "metadata": {},
   "outputs": [
    {
     "data": {
      "text/plain": [
       "Ellipsis"
      ]
     },
     "execution_count": 69,
     "metadata": {},
     "output_type": "execute_result"
    }
   ],
   "source": [
    "..."
   ]
  },
  {
   "cell_type": "code",
   "execution_count": 73,
   "metadata": {},
   "outputs": [
    {
     "data": {
      "application/javascript": [
       "IPython.notebook.save_checkpoint();"
      ],
      "text/plain": [
       "<IPython.core.display.Javascript object>"
      ]
     },
     "metadata": {},
     "output_type": "display_data"
    },
    {
     "data": {
      "application/javascript": [
       "IPython.notebook.save_notebook();"
      ],
      "text/plain": [
       "<IPython.core.display.Javascript object>"
      ]
     },
     "metadata": {},
     "output_type": "display_data"
    },
    {
     "name": "stdout",
     "output_type": "stream",
     "text": [
      "Saving notebook... Saved 'project3.ipynb'.\n",
      "Submit... 100% complete\n",
      "Submission successful for user: lillyliu@berkeley.edu\n",
      "URL: https://okpy.org/cal/data8/sp20/project3/submissions/V7NGoM\n",
      "\n"
     ]
    }
   ],
   "source": [
    "_ = ok.submit()"
   ]
  },
  {
   "cell_type": "code",
   "execution_count": 71,
   "metadata": {},
   "outputs": [
    {
     "name": "stdout",
     "output_type": "stream",
     "text": [
      "Running all tests...\n",
      "~~~~~~~~~~~~~~~~~~~~~~~~~~~~~~~~~~~~~~~~~~~~~~~~~~~~~~~~~~~~~~~~~~~~~\n",
      "Running tests\n",
      "\n",
      "---------------------------------------------------------------------\n",
      "Test summary\n",
      "    Passed: 1\n",
      "    Failed: 0\n",
      "[ooooooooook] 100.0% passed\n",
      "\n",
      "~~~~~~~~~~~~~~~~~~~~~~~~~~~~~~~~~~~~~~~~~~~~~~~~~~~~~~~~~~~~~~~~~~~~~\n",
      "Running tests\n",
      "\n",
      "---------------------------------------------------------------------\n",
      "Test summary\n",
      "    Passed: 1\n",
      "    Failed: 0\n",
      "[ooooooooook] 100.0% passed\n",
      "\n",
      "~~~~~~~~~~~~~~~~~~~~~~~~~~~~~~~~~~~~~~~~~~~~~~~~~~~~~~~~~~~~~~~~~~~~~\n",
      "Running tests\n",
      "\n",
      "---------------------------------------------------------------------\n",
      "Test summary\n",
      "    Passed: 4\n",
      "    Failed: 0\n",
      "[ooooooooook] 100.0% passed\n",
      "\n",
      "~~~~~~~~~~~~~~~~~~~~~~~~~~~~~~~~~~~~~~~~~~~~~~~~~~~~~~~~~~~~~~~~~~~~~\n",
      "Running tests\n",
      "\n",
      "---------------------------------------------------------------------\n",
      "Test summary\n",
      "    Passed: 2\n",
      "    Failed: 0\n",
      "[ooooooooook] 100.0% passed\n",
      "\n",
      "~~~~~~~~~~~~~~~~~~~~~~~~~~~~~~~~~~~~~~~~~~~~~~~~~~~~~~~~~~~~~~~~~~~~~\n",
      "Running tests\n",
      "\n",
      "---------------------------------------------------------------------\n",
      "Test summary\n",
      "    Passed: 3\n",
      "    Failed: 0\n",
      "[ooooooooook] 100.0% passed\n",
      "\n",
      "~~~~~~~~~~~~~~~~~~~~~~~~~~~~~~~~~~~~~~~~~~~~~~~~~~~~~~~~~~~~~~~~~~~~~\n",
      "Running tests\n",
      "\n",
      "---------------------------------------------------------------------\n",
      "Test summary\n",
      "    Passed: 1\n",
      "    Failed: 0\n",
      "[ooooooooook] 100.0% passed\n",
      "\n",
      "~~~~~~~~~~~~~~~~~~~~~~~~~~~~~~~~~~~~~~~~~~~~~~~~~~~~~~~~~~~~~~~~~~~~~\n",
      "Running tests\n",
      "\n",
      "---------------------------------------------------------------------\n",
      "Test summary\n",
      "    Passed: 2\n",
      "    Failed: 0\n",
      "[ooooooooook] 100.0% passed\n",
      "\n",
      "~~~~~~~~~~~~~~~~~~~~~~~~~~~~~~~~~~~~~~~~~~~~~~~~~~~~~~~~~~~~~~~~~~~~~\n",
      "Running tests\n",
      "\n",
      "---------------------------------------------------------------------\n",
      "Test summary\n",
      "    Passed: 3\n",
      "    Failed: 0\n",
      "[ooooooooook] 100.0% passed\n",
      "\n",
      "~~~~~~~~~~~~~~~~~~~~~~~~~~~~~~~~~~~~~~~~~~~~~~~~~~~~~~~~~~~~~~~~~~~~~\n",
      "Running tests\n",
      "\n",
      "---------------------------------------------------------------------\n",
      "Test summary\n",
      "    Passed: 1\n",
      "    Failed: 0\n",
      "[ooooooooook] 100.0% passed\n",
      "\n",
      "~~~~~~~~~~~~~~~~~~~~~~~~~~~~~~~~~~~~~~~~~~~~~~~~~~~~~~~~~~~~~~~~~~~~~\n",
      "Running tests\n",
      "\n",
      "---------------------------------------------------------------------\n",
      "Test summary\n",
      "    Passed: 1\n",
      "    Failed: 0\n",
      "[ooooooooook] 100.0% passed\n",
      "\n",
      "~~~~~~~~~~~~~~~~~~~~~~~~~~~~~~~~~~~~~~~~~~~~~~~~~~~~~~~~~~~~~~~~~~~~~\n",
      "Running tests\n",
      "\n",
      "---------------------------------------------------------------------\n",
      "Test summary\n",
      "    Passed: 1\n",
      "    Failed: 0\n",
      "[ooooooooook] 100.0% passed\n",
      "\n",
      "~~~~~~~~~~~~~~~~~~~~~~~~~~~~~~~~~~~~~~~~~~~~~~~~~~~~~~~~~~~~~~~~~~~~~\n",
      "Running tests\n",
      "\n",
      "---------------------------------------------------------------------\n",
      "Test summary\n",
      "    Passed: 3\n",
      "    Failed: 0\n",
      "[ooooooooook] 100.0% passed\n",
      "\n",
      "~~~~~~~~~~~~~~~~~~~~~~~~~~~~~~~~~~~~~~~~~~~~~~~~~~~~~~~~~~~~~~~~~~~~~\n",
      "Running tests\n",
      "\n",
      "---------------------------------------------------------------------\n",
      "Test summary\n",
      "    Passed: 2\n",
      "    Failed: 0\n",
      "[ooooooooook] 100.0% passed\n",
      "\n",
      "~~~~~~~~~~~~~~~~~~~~~~~~~~~~~~~~~~~~~~~~~~~~~~~~~~~~~~~~~~~~~~~~~~~~~\n",
      "Running tests\n",
      "\n",
      "---------------------------------------------------------------------\n",
      "Test summary\n",
      "    Passed: 2\n",
      "    Failed: 0\n",
      "[ooooooooook] 100.0% passed\n",
      "\n",
      "~~~~~~~~~~~~~~~~~~~~~~~~~~~~~~~~~~~~~~~~~~~~~~~~~~~~~~~~~~~~~~~~~~~~~\n",
      "Running tests\n",
      "\n",
      "---------------------------------------------------------------------\n",
      "Test summary\n",
      "    Passed: 1\n",
      "    Failed: 0\n",
      "[ooooooooook] 100.0% passed\n",
      "\n",
      "~~~~~~~~~~~~~~~~~~~~~~~~~~~~~~~~~~~~~~~~~~~~~~~~~~~~~~~~~~~~~~~~~~~~~\n",
      "Running tests\n",
      "\n",
      "---------------------------------------------------------------------\n",
      "Test summary\n",
      "    Passed: 5\n",
      "    Failed: 0\n",
      "[ooooooooook] 100.0% passed\n",
      "\n",
      "~~~~~~~~~~~~~~~~~~~~~~~~~~~~~~~~~~~~~~~~~~~~~~~~~~~~~~~~~~~~~~~~~~~~~\n",
      "Running tests\n",
      "\n",
      "---------------------------------------------------------------------\n",
      "Test summary\n",
      "    Passed: 1\n",
      "    Failed: 0\n",
      "[ooooooooook] 100.0% passed\n",
      "\n",
      "~~~~~~~~~~~~~~~~~~~~~~~~~~~~~~~~~~~~~~~~~~~~~~~~~~~~~~~~~~~~~~~~~~~~~\n",
      "Running tests\n",
      "\n",
      "---------------------------------------------------------------------\n",
      "Test summary\n",
      "    Passed: 1\n",
      "    Failed: 0\n",
      "[ooooooooook] 100.0% passed\n",
      "\n",
      "~~~~~~~~~~~~~~~~~~~~~~~~~~~~~~~~~~~~~~~~~~~~~~~~~~~~~~~~~~~~~~~~~~~~~\n",
      "Running tests\n",
      "\n",
      "---------------------------------------------------------------------\n",
      "Test summary\n",
      "    Passed: 1\n",
      "    Failed: 0\n",
      "[ooooooooook] 100.0% passed\n",
      "\n",
      "~~~~~~~~~~~~~~~~~~~~~~~~~~~~~~~~~~~~~~~~~~~~~~~~~~~~~~~~~~~~~~~~~~~~~\n",
      "Running tests\n",
      "\n",
      "---------------------------------------------------------------------\n",
      "Test summary\n",
      "    Passed: 1\n",
      "    Failed: 0\n",
      "[ooooooooook] 100.0% passed\n",
      "\n",
      "~~~~~~~~~~~~~~~~~~~~~~~~~~~~~~~~~~~~~~~~~~~~~~~~~~~~~~~~~~~~~~~~~~~~~\n",
      "Running tests\n",
      "\n",
      "---------------------------------------------------------------------\n",
      "Test summary\n",
      "    Passed: 1\n",
      "    Failed: 0\n",
      "[ooooooooook] 100.0% passed\n",
      "\n",
      "~~~~~~~~~~~~~~~~~~~~~~~~~~~~~~~~~~~~~~~~~~~~~~~~~~~~~~~~~~~~~~~~~~~~~\n",
      "Running tests\n",
      "\n",
      "---------------------------------------------------------------------\n",
      "Test summary\n",
      "    Passed: 1\n",
      "    Failed: 0\n",
      "[ooooooooook] 100.0% passed\n",
      "\n",
      "~~~~~~~~~~~~~~~~~~~~~~~~~~~~~~~~~~~~~~~~~~~~~~~~~~~~~~~~~~~~~~~~~~~~~\n",
      "Running tests\n",
      "\n",
      "---------------------------------------------------------------------\n",
      "Test summary\n",
      "    Passed: 1\n",
      "    Failed: 0\n",
      "[ooooooooook] 100.0% passed\n",
      "\n",
      "~~~~~~~~~~~~~~~~~~~~~~~~~~~~~~~~~~~~~~~~~~~~~~~~~~~~~~~~~~~~~~~~~~~~~\n",
      "Running tests\n",
      "\n",
      "---------------------------------------------------------------------\n",
      "Test summary\n",
      "    Passed: 1\n",
      "    Failed: 0\n",
      "[ooooooooook] 100.0% passed\n",
      "\n",
      "~~~~~~~~~~~~~~~~~~~~~~~~~~~~~~~~~~~~~~~~~~~~~~~~~~~~~~~~~~~~~~~~~~~~~\n",
      "Running tests\n",
      "\n",
      "---------------------------------------------------------------------\n",
      "Test summary\n",
      "    Passed: 1\n",
      "    Failed: 0\n",
      "[ooooooooook] 100.0% passed\n",
      "\n",
      "Finished running all tests.\n"
     ]
    }
   ],
   "source": [
    "# For your convenience, you can run this cell to run all the tests at once!\n",
    "import os\n",
    "print(\"Running all tests...\")\n",
    "_ = [ok.grade(q[:-3]) for q in os.listdir(\"tests\") if q.startswith('q') and len(q) <= 10]\n",
    "print(\"Finished running all tests.\")"
   ]
  },
  {
   "cell_type": "code",
   "execution_count": null,
   "metadata": {},
   "outputs": [],
   "source": []
  }
 ],
 "metadata": {
  "kernelspec": {
   "display_name": "Python 3",
   "language": "python",
   "name": "python3"
  },
  "language_info": {
   "codemirror_mode": {
    "name": "ipython",
    "version": 3
   },
   "file_extension": ".py",
   "mimetype": "text/x-python",
   "name": "python",
   "nbconvert_exporter": "python",
   "pygments_lexer": "ipython3",
   "version": "3.6.9"
  }
 },
 "nbformat": 4,
 "nbformat_minor": 1
}
