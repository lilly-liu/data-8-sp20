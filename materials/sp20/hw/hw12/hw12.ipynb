{
 "cells": [
  {
   "cell_type": "code",
   "execution_count": 2,
   "metadata": {
    "deletable": false,
    "editable": false
   },
   "outputs": [
    {
     "name": "stdout",
     "output_type": "stream",
     "text": [
      "=====================================================================\n",
      "Assignment: Homework 12: Classification\n",
      "OK, version v1.12.5\n",
      "=====================================================================\n",
      "\n"
     ]
    }
   ],
   "source": [
    "# Initialize OK\n",
    "from client.api.notebook import Notebook\n",
    "ok = Notebook('hw12.ok')"
   ]
  },
  {
   "cell_type": "markdown",
   "metadata": {},
   "source": [
    "# Homework 12: Classification"
   ]
  },
  {
   "cell_type": "markdown",
   "metadata": {},
   "source": [
    "**Reading**: \n",
    "\n",
    "* [Classification](https://www.inferentialthinking.com/chapters/17/classification.html)\n"
   ]
  },
  {
   "cell_type": "markdown",
   "metadata": {},
   "source": [
    "Please complete this notebook by filling in the cells provided. Before you begin, execute the following cell to load the provided tests. Each time you start your server, you will need to execute this cell again to load the tests.\n",
    "\n",
    "Homework 12 is due **Thursday, 4/30 at 11:59pm**. You will receive an early submission bonus point if you turn in your final submission by Wednesday, 4/29 at 11:59pm. Start early so that you can come to office hours if you're stuck. Check the website for the office hours schedule. Late work will not be accepted as per the [policies](http://data8.org/sp20/policies.html) of this course. \n",
    "\n",
    "Directly sharing answers is not okay, but discussing problems with the course staff or with other students is encouraged. Refer to the policies page to learn more about how to learn cooperatively.\n",
    "\n",
    "For all problems that you must write out explanations and sentences for, you **must** provide your answer in the designated space. Moreover, throughout this homework and all future ones, please be sure to not re-assign variables throughout the notebook! For example, if you use `max_temperature` in your answer to one question, do not reassign it later on."
   ]
  },
  {
   "cell_type": "code",
   "execution_count": 1,
   "metadata": {
    "ExecuteTime": {
     "end_time": "2018-04-04T09:34:44.498842Z",
     "start_time": "2018-04-04T09:34:42.821921Z"
    }
   },
   "outputs": [
    {
     "name": "stdout",
     "output_type": "stream",
     "text": [
      "=====================================================================\n",
      "Assignment: Homework 12: Classification\n",
      "OK, version v1.12.5\n",
      "=====================================================================\n",
      "\n"
     ]
    }
   ],
   "source": [
    "# Don't change this cell; just run it. \n",
    "\n",
    "import numpy as np\n",
    "from datascience import *\n",
    "\n",
    "# These lines do some fancy plotting magic.\n",
    "import matplotlib\n",
    "%matplotlib inline\n",
    "import matplotlib.pyplot as plt\n",
    "plt.style.use('fivethirtyeight')\n",
    "import warnings\n",
    "warnings.simplefilter('ignore', FutureWarning)\n",
    "\n",
    "from client.api.notebook import Notebook\n",
    "ok = Notebook('hw12.ok')"
   ]
  },
  {
   "cell_type": "markdown",
   "metadata": {},
   "source": [
    "## 1. Bay Area School Coordinates with Classification\n"
   ]
  },
  {
   "cell_type": "markdown",
   "metadata": {},
   "source": [
    "Welcome to Homework 12! This homework is about k-Nearest Neighbors classification (kNN). Since this topic is covered in depth in Project 3, the purpose of this homework is to reinforce the basics of this method. You can and should reuse a lot of code that you wrote for Project 3 for this homework, or use code from this homework on Project 3!"
   ]
  },
  {
   "cell_type": "markdown",
   "metadata": {},
   "source": [
    "## Our Dearest Neighbors"
   ]
  },
  {
   "cell_type": "markdown",
   "metadata": {},
   "source": [
    "Carol is trying classify students as either attendees of UC Berkeley or as attendees of Leland Stanford Junior College. To classify the students, Carol has access to the coordinates of the location they live during the school year. First, load in the `coordinates` table."
   ]
  },
  {
   "cell_type": "code",
   "execution_count": 3,
   "metadata": {
    "deletable": false,
    "editable": false
   },
   "outputs": [
    {
     "data": {
      "text/html": [
       "<table border=\"1\" class=\"dataframe\">\n",
       "    <thead>\n",
       "        <tr>\n",
       "            <th>latitude</th> <th>longitude</th> <th>school</th>\n",
       "        </tr>\n",
       "    </thead>\n",
       "    <tbody>\n",
       "        <tr>\n",
       "            <td>37.8693 </td> <td>-122.255 </td> <td>Berkeley</td>\n",
       "        </tr>\n",
       "        <tr>\n",
       "            <td>37.8651 </td> <td>-122.256 </td> <td>Berkeley</td>\n",
       "        </tr>\n",
       "        <tr>\n",
       "            <td>37.8661 </td> <td>-122.254 </td> <td>Berkeley</td>\n",
       "        </tr>\n",
       "        <tr>\n",
       "            <td>37.868  </td> <td>-122.26  </td> <td>Berkeley</td>\n",
       "        </tr>\n",
       "        <tr>\n",
       "            <td>37.8683 </td> <td>-122.257 </td> <td>Berkeley</td>\n",
       "        </tr>\n",
       "    </tbody>\n",
       "</table>\n",
       "<p>... (95 rows omitted)</p>"
      ],
      "text/plain": [
       "<IPython.core.display.HTML object>"
      ]
     },
     "metadata": {},
     "output_type": "display_data"
    }
   ],
   "source": [
    "# Just run this cell!\n",
    "coordinates = Table.read_table('coordinates.csv')\n",
    "coordinates.show(5)"
   ]
  },
  {
   "cell_type": "markdown",
   "metadata": {},
   "source": [
    "As usual, let's investigate our data visually before performing any kind of numerical analysis."
   ]
  },
  {
   "cell_type": "code",
   "execution_count": 4,
   "metadata": {
    "deletable": false,
    "editable": false
   },
   "outputs": [
    {
     "data": {
      "image/png": "[encoded data removed]",
      "text/plain": [
       "<Figure size 360x360 with 1 Axes>"
      ]
     },
     "metadata": {},
     "output_type": "display_data"
    }
   ],
   "source": [
    "# Just run this cell!\n",
    "coordinates.scatter(\"longitude\", \"latitude\", group=\"school\")"
   ]
  },
  {
   "cell_type": "markdown",
   "metadata": {},
   "source": [
    "The locations of the points on this scatter plot might be familiar - run the following cell to see what they correspond to."
   ]
  },
  {
   "cell_type": "code",
   "execution_count": 5,
   "metadata": {
    "deletable": false,
    "editable": false
   },
   "outputs": [
    {
     "data": {
      "text/html": [
       "<div style=\"width:100%;\"><div style=\"position:relative;width:100%;height:0;padding-bottom:60%;\"><iframe src=\"about:blank\" style=\"position:absolute;width:100%;height:100%;left:0;top:0;border:none !important;\" data-html=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 onload=\"this.contentDocument.open();this.contentDocument.write(atob(this.getAttribute('data-html')));this.contentDocument.close();\" allowfullscreen webkitallowfullscreen mozallowfullscreen></iframe></div></div>"
      ],
      "text/plain": [
       "<datascience.maps.Map at 0x7f20274fa278>"
      ]
     },
     "execution_count": 5,
     "metadata": {},
     "output_type": "execute_result"
    }
   ],
   "source": [
    "# Just run this cell!\n",
    "colors = {\"Berkeley\":\"blue\", \"Stanford\":\"red\"}\n",
    "t = Table().with_columns(\"lat\", coordinates.column(0), \n",
    "                                      \"lon\", coordinates.column(1), \n",
    "                                      \"color\", coordinates.apply(colors.get, 2)\n",
    "                        )\n",
    "Circle.map_table(t, radius=5, fill_opacity=1)"
   ]
  },
  {
   "cell_type": "markdown",
   "metadata": {
    "deletable": false,
    "editable": false
   },
   "source": [
    "#### Question 1\n",
    "\n",
    "Let's begin implementing the k-Nearest Neighbors algorithm. Define the `distance` function, which takes in two arguments: an array of numerical features, and a different array of numerical features. The function should return the [Euclidean distance](https://en.wikipedia.org/wiki/Euclidean_distance) between the two arrays. Euclidean distance is often referred to as the straight-line distance formula that you may have learned previously.\n",
    "\n",
    "\n",
    "<!--\n",
    "BEGIN QUESTION\n",
    "name: q1_1\n",
    "manual: false\n",
    "-->"
   ]
  },
  {
   "cell_type": "code",
   "execution_count": 6,
   "metadata": {
    "deletable": false
   },
   "outputs": [
    {
     "data": {
      "text/plain": [
       "5.196152422706632"
      ]
     },
     "execution_count": 6,
     "metadata": {},
     "output_type": "execute_result"
    }
   ],
   "source": [
    "def distance(arr1, arr2):\n",
    "    return np.sqrt(sum((arr1 - arr2)**2))\n",
    "\n",
    "# Don't change/delete the code below in this cell\n",
    "distance_example = distance(make_array(1, 2, 3), make_array(4, 5, 6))\n",
    "distance_example"
   ]
  },
  {
   "cell_type": "code",
   "execution_count": 7,
   "metadata": {
    "deletable": false,
    "editable": false
   },
   "outputs": [
    {
     "name": "stdout",
     "output_type": "stream",
     "text": [
      "~~~~~~~~~~~~~~~~~~~~~~~~~~~~~~~~~~~~~~~~~~~~~~~~~~~~~~~~~~~~~~~~~~~~~\n",
      "Running tests\n",
      "\n",
      "---------------------------------------------------------------------\n",
      "Test summary\n",
      "    Passed: 2\n",
      "    Failed: 0\n",
      "[ooooooooook] 100.0% passed\n",
      "\n"
     ]
    }
   ],
   "source": [
    "ok.grade(\"q1_1\");"
   ]
  },
  {
   "cell_type": "markdown",
   "metadata": {},
   "source": [
    "### Splitting the dataset\n",
    "We'll do 2 different kinds of things with the `coordinates` dataset:\n",
    "1. We'll build a classifier using coordinates for which we know the associated label; this will teach it to recognize labels of similar coordinate values. This process is known as *training*.\n",
    "2. We'll evaluate or *test* the accuracy of the classifier we build on data we haven't seen before.\n",
    "\n",
    "For reasons discussed in lecture and the textbook, we want to use separate datasets for these two purposes.  So we split up our one dataset into two."
   ]
  },
  {
   "cell_type": "markdown",
   "metadata": {
    "deletable": false,
    "editable": false
   },
   "source": [
    "#### Question 2\n",
    "\n",
    "Next, let's split our dataset into a training set and a test set. Since `coordinates` has $100$ rows, let's create a training set with the first 75 rows and a test set with the remaining 25 rows. Remember that assignment to each group should be random, so we should shuffle the table first.\n",
    "\n",
    "*Hint: as a first step we can shuffle all the rows, then use the* `tbl.take` *function to split up the rows for each table*\n",
    "\n",
    "\n",
    "<!--\n",
    "BEGIN QUESTION\n",
    "name: q1_2\n",
    "manual: false\n",
    "-->"
   ]
  },
  {
   "cell_type": "code",
   "execution_count": 8,
   "metadata": {
    "for_assignment_type": "solution"
   },
   "outputs": [
    {
     "name": "stdout",
     "output_type": "stream",
     "text": [
      "Training set:\t 75 examples\n",
      "Test set:\t 25 examples\n"
     ]
    },
    {
     "data": {
      "text/html": [
       "<table border=\"1\" class=\"dataframe\">\n",
       "    <thead>\n",
       "        <tr>\n",
       "            <th>latitude</th> <th>longitude</th> <th>school</th>\n",
       "        </tr>\n",
       "    </thead>\n",
       "    <tbody>\n",
       "        <tr>\n",
       "            <td>37.8672 </td> <td>-122.26  </td> <td>Berkeley</td>\n",
       "        </tr>\n",
       "        <tr>\n",
       "            <td>37.8734 </td> <td>-122.244 </td> <td>Berkeley</td>\n",
       "        </tr>\n",
       "        <tr>\n",
       "            <td>37.8619 </td> <td>-122.274 </td> <td>Berkeley</td>\n",
       "        </tr>\n",
       "        <tr>\n",
       "            <td>37.4331 </td> <td>-122.151 </td> <td>Stanford</td>\n",
       "        </tr>\n",
       "        <tr>\n",
       "            <td>37.4228 </td> <td>-122.156 </td> <td>Stanford</td>\n",
       "        </tr>\n",
       "    </tbody>\n",
       "</table>\n",
       "<p>... (70 rows omitted)</p>"
      ],
      "text/plain": [
       "<IPython.core.display.HTML object>"
      ]
     },
     "metadata": {},
     "output_type": "display_data"
    },
    {
     "data": {
      "text/html": [
       "<table border=\"1\" class=\"dataframe\">\n",
       "    <thead>\n",
       "        <tr>\n",
       "            <th>latitude</th> <th>longitude</th> <th>school</th>\n",
       "        </tr>\n",
       "    </thead>\n",
       "    <tbody>\n",
       "        <tr>\n",
       "            <td>37.8672 </td> <td>-122.26  </td> <td>Berkeley</td>\n",
       "        </tr>\n",
       "        <tr>\n",
       "            <td>37.8734 </td> <td>-122.244 </td> <td>Berkeley</td>\n",
       "        </tr>\n",
       "        <tr>\n",
       "            <td>37.8619 </td> <td>-122.274 </td> <td>Berkeley</td>\n",
       "        </tr>\n",
       "        <tr>\n",
       "            <td>37.4331 </td> <td>-122.151 </td> <td>Stanford</td>\n",
       "        </tr>\n",
       "        <tr>\n",
       "            <td>37.4228 </td> <td>-122.156 </td> <td>Stanford</td>\n",
       "        </tr>\n",
       "    </tbody>\n",
       "</table>\n",
       "<p>... (20 rows omitted)</p>"
      ],
      "text/plain": [
       "<IPython.core.display.HTML object>"
      ]
     },
     "metadata": {},
     "output_type": "display_data"
    }
   ],
   "source": [
    "shuffled_table = coordinates.sample(with_replacement=False)\n",
    "train = shuffled_table.take(np.arange(75))\n",
    "test = shuffled_table.take(np.arange(25))\n",
    "\n",
    "print(\"Training set:\\t\",   train.num_rows, \"examples\")\n",
    "print(\"Test set:\\t\",       test.num_rows, \"examples\")\n",
    "train.show(5), test.show(5);"
   ]
  },
  {
   "cell_type": "code",
   "execution_count": 9,
   "metadata": {
    "deletable": false,
    "editable": false
   },
   "outputs": [
    {
     "name": "stdout",
     "output_type": "stream",
     "text": [
      "~~~~~~~~~~~~~~~~~~~~~~~~~~~~~~~~~~~~~~~~~~~~~~~~~~~~~~~~~~~~~~~~~~~~~\n",
      "Running tests\n",
      "\n",
      "---------------------------------------------------------------------\n",
      "Test summary\n",
      "    Passed: 3\n",
      "    Failed: 0\n",
      "[ooooooooook] 100.0% passed\n",
      "\n"
     ]
    }
   ],
   "source": [
    "ok.grade(\"q1_2\");"
   ]
  },
  {
   "cell_type": "markdown",
   "metadata": {
    "deletable": false,
    "editable": false
   },
   "source": [
    "#### Question 3\n",
    "\n",
    "Assign `features` to an array of the labels of the features from the `coordinates` table.\n",
    "\n",
    "*Hint: which of the column labels in the `coordinates` table are the features, and which of the column labels correspond to the class we're trying to predict?*\n",
    "\n",
    "<!--\n",
    "BEGIN QUESTION\n",
    "name: q1_3\n",
    "manual: false\n",
    "-->"
   ]
  },
  {
   "cell_type": "code",
   "execution_count": 12,
   "metadata": {
    "deletable": false
   },
   "outputs": [
    {
     "data": {
      "text/plain": [
       "['latitude', 'longitude']"
      ]
     },
     "execution_count": 12,
     "metadata": {},
     "output_type": "execute_result"
    }
   ],
   "source": [
    "features = [\"latitude\", \"longitude\"]\n",
    "features"
   ]
  },
  {
   "cell_type": "code",
   "execution_count": 13,
   "metadata": {
    "deletable": false,
    "editable": false
   },
   "outputs": [
    {
     "name": "stdout",
     "output_type": "stream",
     "text": [
      "~~~~~~~~~~~~~~~~~~~~~~~~~~~~~~~~~~~~~~~~~~~~~~~~~~~~~~~~~~~~~~~~~~~~~\n",
      "Running tests\n",
      "\n",
      "---------------------------------------------------------------------\n",
      "Test summary\n",
      "    Passed: 1\n",
      "    Failed: 0\n",
      "[ooooooooook] 100.0% passed\n",
      "\n"
     ]
    }
   ],
   "source": [
    "ok.grade(\"q1_3\");"
   ]
  },
  {
   "cell_type": "markdown",
   "metadata": {
    "deletable": false,
    "editable": false
   },
   "source": [
    "<div class=\"hide\">\\pagebreak</div>\n",
    "\n",
    "#### Question 4\n",
    "\n",
    "Now define the `classify` function. This function should take in a `row` from a table like `test` and classify it based on the data in `train` using the `k`-Nearest Neighbors based on the correct `features`.\n",
    "\n",
    "*Hint: use the `row_to_array` function we defined for you to convert rows to arrays of features so that you can use the `distance` function you defined earlier.*\n",
    "\n",
    "*Hint 2: the skeleton code we provided iterates through each row in the training set*\n",
    "\n",
    "<!--\n",
    "BEGIN QUESTION\n",
    "name: q1_4\n",
    "manual: false\n",
    "-->"
   ]
  },
  {
   "cell_type": "code",
   "execution_count": 14,
   "metadata": {
    "deletable": false,
    "manual_grade": true,
    "manual_problem_id": "sign_lang_2"
   },
   "outputs": [],
   "source": [
    "def row_to_array(row, features):\n",
    "    arr = make_array()\n",
    "    for feature in features:\n",
    "        arr = np.append(arr, row.item(feature))\n",
    "    return arr\n",
    "\n",
    "def classify(row, k, train):\n",
    "    test_row_features_array = row_to_array(row, features)\n",
    "    distances = make_array()\n",
    "    for train_row in train.rows:\n",
    "        train_row_features_array = ...\n",
    "        row_distance = ...\n",
    "        distances = ...\n",
    "    train_with_distances = ...\n",
    "    nearest_neighbors = ...\n",
    "    most_common_label = ...\n",
    "    ...\n",
    "\n",
    "# Don't modify/delete the code below\n",
    "first_test = classify(test.row(0), 5, train)\n",
    "first_test"
   ]
  },
  {
   "cell_type": "code",
   "execution_count": null,
   "metadata": {
    "deletable": false,
    "editable": false
   },
   "outputs": [],
   "source": [
    "ok.grade(\"q1_4\");"
   ]
  },
  {
   "cell_type": "markdown",
   "metadata": {
    "deletable": false,
    "editable": false
   },
   "source": [
    "<div class=\"hide\">\\pagebreak</div>\n",
    "\n",
    "#### Question 5\n",
    "\n",
    "Define the function `three_classify` that takes a `row` from `test` as an argument and classifies the row based on using 3-Nearest Neighbors. Use this function to find the `accuracy` of a 3-NN classifier on the `test` set. `accuracy` should be a proportion (not a percentage) of the schools that were correctly predicted.\n",
    "\n",
    "*Hint: you should be using a function you just created!*\n",
    "\n",
    "*Note: Usually before using a classifier on a test set, we'd classify first on a \"validation\" set, which we then can modify our training set again if need be, before actually testing on the test set. You don’t need to do that for this question, but you will learn about this more in Data 100.*\n",
    "\n",
    "<!--\n",
    "BEGIN QUESTION\n",
    "name: q1_5\n",
    "manual: false\n",
    "-->"
   ]
  },
  {
   "cell_type": "code",
   "execution_count": 17,
   "metadata": {
    "deletable": false,
    "manual_grade": true,
    "manual_problem_id": "sign_lang_3"
   },
   "outputs": [],
   "source": [
    "def three_classify(row):\n",
    "    ...\n",
    "\n",
    "test_with_prediction = test.with_column(\"prediction\", test.apply(three_classify))\n",
    "labels_correct = ...\n",
    "accuracy = ...\n",
    "accuracy"
   ]
  },
  {
   "cell_type": "code",
   "execution_count": null,
   "metadata": {
    "deletable": false,
    "editable": false
   },
   "outputs": [],
   "source": [
    "ok.grade(\"q1_5\");"
   ]
  },
  {
   "cell_type": "markdown",
   "metadata": {
    "deletable": false,
    "editable": false
   },
   "source": [
    "#### Question 6\n",
    "\n",
    "There are 77 rows of Berkeley students and 23 rows of Stanford students in the `coordinates` table. If we used the entire `coordinates` table as the train set, what is the smallest value of $k$ would ensure that a $k$-Nearest Neighbor classifier would always predict Berkeley as the class? Assign the value to `k`.\n",
    "\n",
    "<!--\n",
    "BEGIN QUESTION\n",
    "name: q1_6\n",
    "manual: false\n",
    "-->"
   ]
  },
  {
   "cell_type": "code",
   "execution_count": 20,
   "metadata": {},
   "outputs": [],
   "source": [
    "k = ...\n",
    "k"
   ]
  },
  {
   "cell_type": "code",
   "execution_count": null,
   "metadata": {
    "deletable": false,
    "editable": false
   },
   "outputs": [],
   "source": [
    "ok.grade(\"q1_6\");"
   ]
  },
  {
   "cell_type": "markdown",
   "metadata": {
    "deletable": false,
    "editable": false
   },
   "source": [
    "#### Question 7\n",
    "\n",
    "Why do we divide our data into a training and test set? Should we use our test set to find the best possible number of neighbors for a k-NN classifer? What is the point of a test set, and why do we only want to use the test set once? Explain. \n",
    "\n",
    "\n",
    "<!--\n",
    "BEGIN QUESTION\n",
    "name: q1_7\n",
    "manual: true\n",
    "-->\n",
    "<!-- EXPORT TO PDF -->"
   ]
  },
  {
   "cell_type": "markdown",
   "metadata": {
    "export_pdf": true
   },
   "source": [
    "*Write your answer here, replacing this text.*"
   ]
  },
  {
   "cell_type": "markdown",
   "metadata": {
    "deletable": false,
    "editable": false
   },
   "source": [
    "#### Question 8\n",
    "\n",
    "Why do we use an odd-numbered `k` in k-NN? Explain.\n",
    "\n",
    "\n",
    "<!--\n",
    "BEGIN QUESTION\n",
    "name: q1_8\n",
    "manual: true\n",
    "-->\n",
    "<!-- EXPORT TO PDF -->"
   ]
  },
  {
   "cell_type": "markdown",
   "metadata": {
    "export_pdf": true
   },
   "source": [
    "*Write your answer here, replacing this text.*"
   ]
  },
  {
   "cell_type": "markdown",
   "metadata": {
    "deletable": false,
    "editable": false
   },
   "source": [
    "#### Question 9\n",
    "\n",
    "Thomas has devised a scheme for splitting up the test and training set. For each row from `coordinates`:\n",
    "\n",
    "- Rows for Stanford students have a 50% chance of being placed in the train set and 50% chance of placed in the test set.\n",
    "\n",
    "- Rows for Berkeley students have a 80% chance of being placed in the train set and 20% chance of placed in the test set.\n",
    "\n",
    "\n",
    "Given that a row is in the test set, what is the probability that it corresponds to a Stanford student? Assign that probability to `prob_furd`.\n",
    "\n",
    "*Hint: Remember that there are 77 Berkeley students and 23 Stanford students in `coordinates`*\n",
    "\n",
    "*Hint 2: Thomas' last name is Bayes*\n",
    "\n",
    "\n",
    "<!--\n",
    "BEGIN QUESTION\n",
    "name: q1_9\n",
    "manual: false\n",
    "-->"
   ]
  },
  {
   "cell_type": "code",
   "execution_count": 23,
   "metadata": {},
   "outputs": [],
   "source": [
    "prob_furd = ...\n",
    "prob_furd"
   ]
  },
  {
   "cell_type": "code",
   "execution_count": null,
   "metadata": {
    "deletable": false,
    "editable": false
   },
   "outputs": [],
   "source": [
    "ok.grade(\"q1_9\");"
   ]
  },
  {
   "cell_type": "markdown",
   "metadata": {},
   "source": [
    "## (OPTIONAL, NOT IN SCOPE): k-NN for Non-Binary Classification"
   ]
  },
  {
   "cell_type": "markdown",
   "metadata": {
    "deletable": false,
    "editable": false
   },
   "source": [
    "**THIS IS NOT IN SCOPE/IS OPTIONAL**. There are no autograder tests for this/code for you to write. It just relies on the function `classify` in Question 4.\n",
    "\n",
    "In this class, we have taught you how to use the kNN algorithm to classify data as one of two classes. However, much of the data you will encounter in the real world will not fall nicely into one of two categories. \n",
    "\n",
    "How can we classify data with non-binary classes? It turns out we can still use kNN! That is, we find the distance between a point and all its neighbors, find the nearest neighbors, and take a majority vote among the neighbors to determine this point's class. \n",
    "\n",
    "The only difference is that now the neighboring points have more than two possible classes. This does introduce difficulty because now we have no way of guaranteeing that we will not encounter ties between classes. In the case that we do encounter a tie, we can just arbitrarily choose one of the classes.\n",
    "\n",
    "In fact, you don't even have to modify the code you wrote before at all to enable multi-class classification!"
   ]
  },
  {
   "cell_type": "markdown",
   "metadata": {
    "deletable": false,
    "editable": false
   },
   "source": [
    "Let's add some more data to our train table, this time for another class of students, students at San Jose Community College (SJCC)."
   ]
  },
  {
   "cell_type": "code",
   "execution_count": 27,
   "metadata": {
    "deletable": false,
    "editable": false
   },
   "outputs": [],
   "source": [
    "coordinates_multi = coordinates.with_rows([\n",
    "                              [37.304346, -121.915401, \"SJCC\"],\n",
    "                              [37.316275, -121.913879, \"SJCC\"],\n",
    "                              [37.409435, -121.951379, \"SJCC\"],\n",
    "                              [37.349387, -121.960771, \"SJCC\"],\n",
    "                              [37.329083, -121.928479, \"SJCC\"],\n",
    "                              [37.313017, -121.866730, \"SJCC\"],\n",
    "                              [37.346525, -121.894767, \"SJCC\"],\n",
    "                              [37.364157, -121.955717, \"SJCC\"],\n",
    "                              [37.383362, -121.925776, \"SJCC\"],\n",
    "                              [37.329545, -121.880639, \"SJCC\"]                             \n",
    "])"
   ]
  },
  {
   "cell_type": "code",
   "execution_count": 28,
   "metadata": {
    "deletable": false,
    "editable": false
   },
   "outputs": [],
   "source": [
    "classify(coordinates_multi.row(0), 5, coordinates_multi)"
   ]
  },
  {
   "cell_type": "code",
   "execution_count": 29,
   "metadata": {
    "deletable": false,
    "editable": false
   },
   "outputs": [],
   "source": [
    "classify(coordinates_multi.row(91), 5, coordinates_multi)"
   ]
  },
  {
   "cell_type": "code",
   "execution_count": 30,
   "metadata": {
    "deletable": false,
    "editable": false
   },
   "outputs": [],
   "source": [
    "classify(coordinates_multi.row(105), 5, coordinates_multi)"
   ]
  },
  {
   "cell_type": "markdown",
   "metadata": {},
   "source": [
    "Our classifier can classify rows as belonging to one of three classes!\n",
    "\n",
    "Classification is one of the most important fields in statistics, data science, and machine learning. There are thousands of different classification algorithms and modifications of algorithms! There are many that you'll learn if you continue down the path of becoming a data scientist!"
   ]
  },
  {
   "cell_type": "markdown",
   "metadata": {},
   "source": [
    "## 2. Final-Semester Survey\n"
   ]
  },
  {
   "cell_type": "markdown",
   "metadata": {},
   "source": [
    "You can find the end of semester feedback form [here](https://docs.google.com/forms/d/e/1FAIpQLSeVRzkHTsNIrnbIaYCopJViaFDro1HfemS4y79Q_oZPxUcEvg/viewform?usp=sf_link). Please take some time to fill the survey out! Data 8 is still a relatively new class, and your feedback helps the class get better every semester!\n",
    "\n",
    "As incentive, if 80% of the course fills out this feedback form **and** the official Berkeley Course Evaluations (which will be released sometime in the next couple of weeks) for Data 8, everyone will receive two points of extra credit!"
   ]
  },
  {
   "cell_type": "markdown",
   "metadata": {
    "deletable": false,
    "editable": false
   },
   "source": [
    "**Question 1.** Fill out the end of semester feedback form linked above. Once you have submitted, a secret word will be displayed. Set `secret_word` to the secret string at the end of the form.\n",
    "\n",
    "<!--\n",
    "BEGIN QUESTION\n",
    "name: q2_1\n",
    "manual: false\n",
    "-->"
   ]
  },
  {
   "cell_type": "code",
   "execution_count": 31,
   "metadata": {},
   "outputs": [],
   "source": [
    "secret_word = ..."
   ]
  },
  {
   "cell_type": "code",
   "execution_count": null,
   "metadata": {
    "deletable": false,
    "editable": false
   },
   "outputs": [],
   "source": [
    "ok.grade(\"q2_1\");"
   ]
  },
  {
   "cell_type": "markdown",
   "metadata": {},
   "source": [
    "## 3. Submission\n"
   ]
  },
  {
   "cell_type": "markdown",
   "metadata": {
    "collapsed": true
   },
   "source": [
    "Once you're finished, select \"Save and Checkpoint\" in the File menu and then execute the `submit` cell below. The result will contain a link that you can use to check that your assignment has been submitted successfully. If you submit more than once before the deadline, we will only grade your final submission. If you mistakenly submit the wrong one, you can head to [okpy.org](https://okpy.org/) and flag the correct version. To do so, go to the website, click on this assignment, and find the version you would like to have graded. There should be an option to flag that submission for grading!"
   ]
  },
  {
   "cell_type": "code",
   "execution_count": 34,
   "metadata": {
    "collapsed": true
   },
   "outputs": [],
   "source": [
    "_ = ok.submit()"
   ]
  },
  {
   "cell_type": "code",
   "execution_count": 35,
   "metadata": {
    "collapsed": true
   },
   "outputs": [],
   "source": [
    "# For your convenience, you can run this cell to run all the tests at once!\n",
    "import os\n",
    "print(\"Running all tests...\")\n",
    "_ = [ok.grade(q[:-3]) for q in os.listdir(\"tests\") if q.startswith('q') and len(q) <= 10]\n",
    "print(\"Finished running all tests.\")"
   ]
  }
 ],
 "metadata": {
  "kernelspec": {
   "display_name": "Python 3",
   "language": "python",
   "name": "python3"
  },
  "language_info": {
   "codemirror_mode": {
    "name": "ipython",
    "version": 3
   },
   "file_extension": ".py",
   "mimetype": "text/x-python",
   "name": "python",
   "nbconvert_exporter": "python",
   "pygments_lexer": "ipython3",
   "version": "3.6.9"
  }
 },
 "nbformat": 4,
 "nbformat_minor": 1
}
