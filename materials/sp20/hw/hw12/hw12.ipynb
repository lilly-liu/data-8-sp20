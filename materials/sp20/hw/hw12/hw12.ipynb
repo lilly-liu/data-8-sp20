{
 "cells": [
  {
   "cell_type": "code",
   "execution_count": 1,
   "metadata": {
    "deletable": false,
    "editable": false
   },
   "outputs": [
    {
     "name": "stdout",
     "output_type": "stream",
     "text": [
      "=====================================================================\n",
      "Assignment: Homework 12: Classification\n",
      "OK, version v1.12.5\n",
      "=====================================================================\n",
      "\n"
     ]
    }
   ],
   "source": [
    "# Initialize OK\n",
    "from client.api.notebook import Notebook\n",
    "ok = Notebook('hw12.ok')"
   ]
  },
  {
   "cell_type": "markdown",
   "metadata": {},
   "source": [
    "# Homework 12: Classification"
   ]
  },
  {
   "cell_type": "markdown",
   "metadata": {},
   "source": [
    "**Reading**: \n",
    "\n",
    "* [Classification](https://www.inferentialthinking.com/chapters/17/classification.html)\n"
   ]
  },
  {
   "cell_type": "markdown",
   "metadata": {},
   "source": [
    "Please complete this notebook by filling in the cells provided. Before you begin, execute the following cell to load the provided tests. Each time you start your server, you will need to execute this cell again to load the tests.\n",
    "\n",
    "Homework 12 is due **Thursday, 4/30 at 11:59pm**. You will receive an early submission bonus point if you turn in your final submission by Wednesday, 4/29 at 11:59pm. Start early so that you can come to office hours if you're stuck. Check the website for the office hours schedule. Late work will not be accepted as per the [policies](http://data8.org/sp20/policies.html) of this course. \n",
    "\n",
    "Directly sharing answers is not okay, but discussing problems with the course staff or with other students is encouraged. Refer to the policies page to learn more about how to learn cooperatively.\n",
    "\n",
    "For all problems that you must write out explanations and sentences for, you **must** provide your answer in the designated space. Moreover, throughout this homework and all future ones, please be sure to not re-assign variables throughout the notebook! For example, if you use `max_temperature` in your answer to one question, do not reassign it later on."
   ]
  },
  {
   "cell_type": "code",
   "execution_count": 2,
   "metadata": {
    "ExecuteTime": {
     "end_time": "2018-04-04T09:34:44.498842Z",
     "start_time": "2018-04-04T09:34:42.821921Z"
    }
   },
   "outputs": [
    {
     "name": "stdout",
     "output_type": "stream",
     "text": [
      "=====================================================================\n",
      "Assignment: Homework 12: Classification\n",
      "OK, version v1.12.5\n",
      "=====================================================================\n",
      "\n"
     ]
    }
   ],
   "source": [
    "# Don't change this cell; just run it. \n",
    "\n",
    "import numpy as np\n",
    "from datascience import *\n",
    "\n",
    "# These lines do some fancy plotting magic.\n",
    "import matplotlib\n",
    "%matplotlib inline\n",
    "import matplotlib.pyplot as plt\n",
    "plt.style.use('fivethirtyeight')\n",
    "import warnings\n",
    "warnings.simplefilter('ignore', FutureWarning)\n",
    "\n",
    "from client.api.notebook import Notebook\n",
    "ok = Notebook('hw12.ok')"
   ]
  },
  {
   "cell_type": "markdown",
   "metadata": {},
   "source": [
    "## 1. Bay Area School Coordinates with Classification\n"
   ]
  },
  {
   "cell_type": "markdown",
   "metadata": {},
   "source": [
    "Welcome to Homework 12! This homework is about k-Nearest Neighbors classification (kNN). Since this topic is covered in depth in Project 3, the purpose of this homework is to reinforce the basics of this method. You can and should reuse a lot of code that you wrote for Project 3 for this homework, or use code from this homework on Project 3!"
   ]
  },
  {
   "cell_type": "markdown",
   "metadata": {},
   "source": [
    "## Our Dearest Neighbors"
   ]
  },
  {
   "cell_type": "markdown",
   "metadata": {},
   "source": [
    "Carol is trying classify students as either attendees of UC Berkeley or as attendees of Leland Stanford Junior College. To classify the students, Carol has access to the coordinates of the location they live during the school year. First, load in the `coordinates` table."
   ]
  },
  {
   "cell_type": "code",
   "execution_count": 3,
   "metadata": {
    "deletable": false,
    "editable": false
   },
   "outputs": [
    {
     "data": {
      "text/html": [
       "<table border=\"1\" class=\"dataframe\">\n",
       "    <thead>\n",
       "        <tr>\n",
       "            <th>latitude</th> <th>longitude</th> <th>school</th>\n",
       "        </tr>\n",
       "    </thead>\n",
       "    <tbody>\n",
       "        <tr>\n",
       "            <td>37.8693 </td> <td>-122.255 </td> <td>Berkeley</td>\n",
       "        </tr>\n",
       "        <tr>\n",
       "            <td>37.8651 </td> <td>-122.256 </td> <td>Berkeley</td>\n",
       "        </tr>\n",
       "        <tr>\n",
       "            <td>37.8661 </td> <td>-122.254 </td> <td>Berkeley</td>\n",
       "        </tr>\n",
       "        <tr>\n",
       "            <td>37.868  </td> <td>-122.26  </td> <td>Berkeley</td>\n",
       "        </tr>\n",
       "        <tr>\n",
       "            <td>37.8683 </td> <td>-122.257 </td> <td>Berkeley</td>\n",
       "        </tr>\n",
       "    </tbody>\n",
       "</table>\n",
       "<p>... (95 rows omitted)</p>"
      ],
      "text/plain": [
       "<IPython.core.display.HTML object>"
      ]
     },
     "metadata": {},
     "output_type": "display_data"
    }
   ],
   "source": [
    "# Just run this cell!\n",
    "coordinates = Table.read_table('coordinates.csv')\n",
    "coordinates.show(5)"
   ]
  },
  {
   "cell_type": "markdown",
   "metadata": {},
   "source": [
    "As usual, let's investigate our data visually before performing any kind of numerical analysis."
   ]
  },
  {
   "cell_type": "code",
   "execution_count": 4,
   "metadata": {
    "deletable": false,
    "editable": false
   },
   "outputs": [
    {
     "data": {
      "image/png": "[encoded data removed]",
      "text/plain": [
       "<Figure size 360x360 with 1 Axes>"
      ]
     },
     "metadata": {},
     "output_type": "display_data"
    }
   ],
   "source": [
    "# Just run this cell!\n",
    "coordinates.scatter(\"longitude\", \"latitude\", group=\"school\")"
   ]
  },
  {
   "cell_type": "markdown",
   "metadata": {},
   "source": [
    "The locations of the points on this scatter plot might be familiar - run the following cell to see what they correspond to."
   ]
  },
  {
   "cell_type": "code",
   "execution_count": 5,
   "metadata": {
    "deletable": false,
    "editable": false
   },
   "outputs": [
    {
     "data": {
      "text/html": [
       "<div style=\"width:100%;\"><div style=\"position:relative;width:100%;height:0;padding-bottom:60%;\"><iframe src=\"about:blank\" style=\"position:absolute;width:100%;height:100%;left:0;top:0;border:none !important;\" data-html=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 onload=\"this.contentDocument.open();this.contentDocument.write(atob(this.getAttribute('data-html')));this.contentDocument.close();\" allowfullscreen webkitallowfullscreen mozallowfullscreen></iframe></div></div>"
      ],
      "text/plain": [
       "<datascience.maps.Map at 0x7fde5da3e4a8>"
      ]
     },
     "execution_count": 5,
     "metadata": {},
     "output_type": "execute_result"
    }
   ],
   "source": [
    "# Just run this cell!\n",
    "colors = {\"Berkeley\":\"blue\", \"Stanford\":\"red\"}\n",
    "t = Table().with_columns(\"lat\", coordinates.column(0), \n",
    "                                      \"lon\", coordinates.column(1), \n",
    "                                      \"color\", coordinates.apply(colors.get, 2)\n",
    "                        )\n",
    "Circle.map_table(t, radius=5, fill_opacity=1)"
   ]
  },
  {
   "cell_type": "markdown",
   "metadata": {
    "deletable": false,
    "editable": false
   },
   "source": [
    "#### Question 1\n",
    "\n",
    "Let's begin implementing the k-Nearest Neighbors algorithm. Define the `distance` function, which takes in two arguments: an array of numerical features, and a different array of numerical features. The function should return the [Euclidean distance](https://en.wikipedia.org/wiki/Euclidean_distance) between the two arrays. Euclidean distance is often referred to as the straight-line distance formula that you may have learned previously.\n",
    "\n",
    "\n",
    "<!--\n",
    "BEGIN QUESTION\n",
    "name: q1_1\n",
    "manual: false\n",
    "-->"
   ]
  },
  {
   "cell_type": "code",
   "execution_count": 6,
   "metadata": {
    "deletable": false
   },
   "outputs": [
    {
     "data": {
      "text/plain": [
       "5.196152422706632"
      ]
     },
     "execution_count": 6,
     "metadata": {},
     "output_type": "execute_result"
    }
   ],
   "source": [
    "def distance(arr1, arr2):\n",
    "    return np.sqrt(sum((arr1 - arr2)**2))\n",
    "\n",
    "# Don't change/delete the code below in this cell\n",
    "distance_example = distance(make_array(1, 2, 3), make_array(4, 5, 6))\n",
    "distance_example"
   ]
  },
  {
   "cell_type": "code",
   "execution_count": 7,
   "metadata": {
    "deletable": false,
    "editable": false
   },
   "outputs": [
    {
     "name": "stdout",
     "output_type": "stream",
     "text": [
      "~~~~~~~~~~~~~~~~~~~~~~~~~~~~~~~~~~~~~~~~~~~~~~~~~~~~~~~~~~~~~~~~~~~~~\n",
      "Running tests\n",
      "\n",
      "---------------------------------------------------------------------\n",
      "Test summary\n",
      "    Passed: 2\n",
      "    Failed: 0\n",
      "[ooooooooook] 100.0% passed\n",
      "\n"
     ]
    }
   ],
   "source": [
    "ok.grade(\"q1_1\");"
   ]
  },
  {
   "cell_type": "markdown",
   "metadata": {},
   "source": [
    "### Splitting the dataset\n",
    "We'll do 2 different kinds of things with the `coordinates` dataset:\n",
    "1. We'll build a classifier using coordinates for which we know the associated label; this will teach it to recognize labels of similar coordinate values. This process is known as *training*.\n",
    "2. We'll evaluate or *test* the accuracy of the classifier we build on data we haven't seen before.\n",
    "\n",
    "For reasons discussed in lecture and the textbook, we want to use separate datasets for these two purposes.  So we split up our one dataset into two."
   ]
  },
  {
   "cell_type": "markdown",
   "metadata": {
    "deletable": false,
    "editable": false
   },
   "source": [
    "#### Question 2\n",
    "\n",
    "Next, let's split our dataset into a training set and a test set. Since `coordinates` has $100$ rows, let's create a training set with the first 75 rows and a test set with the remaining 25 rows. Remember that assignment to each group should be random, so we should shuffle the table first.\n",
    "\n",
    "*Hint: as a first step we can shuffle all the rows, then use the* `tbl.take` *function to split up the rows for each table*\n",
    "\n",
    "\n",
    "<!--\n",
    "BEGIN QUESTION\n",
    "name: q1_2\n",
    "manual: false\n",
    "-->"
   ]
  },
  {
   "cell_type": "code",
   "execution_count": 8,
   "metadata": {
    "for_assignment_type": "solution"
   },
   "outputs": [
    {
     "name": "stdout",
     "output_type": "stream",
     "text": [
      "Training set:\t 75 examples\n",
      "Test set:\t 25 examples\n"
     ]
    },
    {
     "data": {
      "text/html": [
       "<table border=\"1\" class=\"dataframe\">\n",
       "    <thead>\n",
       "        <tr>\n",
       "            <th>latitude</th> <th>longitude</th> <th>school</th>\n",
       "        </tr>\n",
       "    </thead>\n",
       "    <tbody>\n",
       "        <tr>\n",
       "            <td>37.4211 </td> <td>-122.168 </td> <td>Stanford</td>\n",
       "        </tr>\n",
       "        <tr>\n",
       "            <td>37.8779 </td> <td>-122.262 </td> <td>Berkeley</td>\n",
       "        </tr>\n",
       "        <tr>\n",
       "            <td>37.4216 </td> <td>-122.157 </td> <td>Stanford</td>\n",
       "        </tr>\n",
       "        <tr>\n",
       "            <td>37.872  </td> <td>-122.268 </td> <td>Berkeley</td>\n",
       "        </tr>\n",
       "        <tr>\n",
       "            <td>37.4654 </td> <td>-122.197 </td> <td>Stanford</td>\n",
       "        </tr>\n",
       "    </tbody>\n",
       "</table>\n",
       "<p>... (70 rows omitted)</p>"
      ],
      "text/plain": [
       "<IPython.core.display.HTML object>"
      ]
     },
     "metadata": {},
     "output_type": "display_data"
    },
    {
     "data": {
      "text/html": [
       "<table border=\"1\" class=\"dataframe\">\n",
       "    <thead>\n",
       "        <tr>\n",
       "            <th>latitude</th> <th>longitude</th> <th>school</th>\n",
       "        </tr>\n",
       "    </thead>\n",
       "    <tbody>\n",
       "        <tr>\n",
       "            <td>37.4228 </td> <td>-122.156 </td> <td>Stanford</td>\n",
       "        </tr>\n",
       "        <tr>\n",
       "            <td>37.8734 </td> <td>-122.244 </td> <td>Berkeley</td>\n",
       "        </tr>\n",
       "        <tr>\n",
       "            <td>37.4429 </td> <td>-122.158 </td> <td>Stanford</td>\n",
       "        </tr>\n",
       "        <tr>\n",
       "            <td>37.868  </td> <td>-122.256 </td> <td>Berkeley</td>\n",
       "        </tr>\n",
       "        <tr>\n",
       "            <td>37.8661 </td> <td>-122.254 </td> <td>Berkeley</td>\n",
       "        </tr>\n",
       "    </tbody>\n",
       "</table>\n",
       "<p>... (20 rows omitted)</p>"
      ],
      "text/plain": [
       "<IPython.core.display.HTML object>"
      ]
     },
     "metadata": {},
     "output_type": "display_data"
    }
   ],
   "source": [
    "shuffled_table = coordinates.sample(with_replacement=False)\n",
    "train = shuffled_table.take(np.arange(75))\n",
    "test = shuffled_table.exclude(np.arange(75))\n",
    "print(\"Training set:\\t\",   train.num_rows, \"examples\")\n",
    "print(\"Test set:\\t\",       test.num_rows, \"examples\")\n",
    "train.show(5), test.show(5);"
   ]
  },
  {
   "cell_type": "code",
   "execution_count": 9,
   "metadata": {
    "deletable": false,
    "editable": false
   },
   "outputs": [
    {
     "name": "stdout",
     "output_type": "stream",
     "text": [
      "~~~~~~~~~~~~~~~~~~~~~~~~~~~~~~~~~~~~~~~~~~~~~~~~~~~~~~~~~~~~~~~~~~~~~\n",
      "Running tests\n",
      "\n",
      "---------------------------------------------------------------------\n",
      "Test summary\n",
      "    Passed: 3\n",
      "    Failed: 0\n",
      "[ooooooooook] 100.0% passed\n",
      "\n"
     ]
    }
   ],
   "source": [
    "ok.grade(\"q1_2\");"
   ]
  },
  {
   "cell_type": "markdown",
   "metadata": {
    "deletable": false,
    "editable": false
   },
   "source": [
    "#### Question 3\n",
    "\n",
    "Assign `features` to an array of the labels of the features from the `coordinates` table.\n",
    "\n",
    "*Hint: which of the column labels in the `coordinates` table are the features, and which of the column labels correspond to the class we're trying to predict?*\n",
    "\n",
    "<!--\n",
    "BEGIN QUESTION\n",
    "name: q1_3\n",
    "manual: false\n",
    "-->"
   ]
  },
  {
   "cell_type": "code",
   "execution_count": 10,
   "metadata": {
    "deletable": false
   },
   "outputs": [
    {
     "data": {
      "text/plain": [
       "['latitude', 'longitude']"
      ]
     },
     "execution_count": 10,
     "metadata": {},
     "output_type": "execute_result"
    }
   ],
   "source": [
    "features = [\"latitude\", \"longitude\"]\n",
    "features"
   ]
  },
  {
   "cell_type": "code",
   "execution_count": 11,
   "metadata": {
    "deletable": false,
    "editable": false
   },
   "outputs": [
    {
     "name": "stdout",
     "output_type": "stream",
     "text": [
      "~~~~~~~~~~~~~~~~~~~~~~~~~~~~~~~~~~~~~~~~~~~~~~~~~~~~~~~~~~~~~~~~~~~~~\n",
      "Running tests\n",
      "\n",
      "---------------------------------------------------------------------\n",
      "Test summary\n",
      "    Passed: 1\n",
      "    Failed: 0\n",
      "[ooooooooook] 100.0% passed\n",
      "\n"
     ]
    }
   ],
   "source": [
    "ok.grade(\"q1_3\");"
   ]
  },
  {
   "cell_type": "markdown",
   "metadata": {
    "deletable": false,
    "editable": false
   },
   "source": [
    "<div class=\"hide\">\\pagebreak</div>\n",
    "\n",
    "#### Question 4\n",
    "\n",
    "Now define the `classify` function. This function should take in a `row` from a table like `test` and classify it based on the data in `train` using the `k`-Nearest Neighbors based on the correct `features`.\n",
    "\n",
    "*Hint: use the `row_to_array` function we defined for you to convert rows to arrays of features so that you can use the `distance` function you defined earlier.*\n",
    "\n",
    "*Hint 2: the skeleton code we provided iterates through each row in the training set*\n",
    "\n",
    "<!--\n",
    "BEGIN QUESTION\n",
    "name: q1_4\n",
    "manual: false\n",
    "-->"
   ]
  },
  {
   "cell_type": "code",
   "execution_count": 12,
   "metadata": {
    "deletable": false,
    "manual_grade": true,
    "manual_problem_id": "sign_lang_2"
   },
   "outputs": [
    {
     "data": {
      "text/plain": [
       "'Stanford'"
      ]
     },
     "execution_count": 12,
     "metadata": {},
     "output_type": "execute_result"
    }
   ],
   "source": [
    "def row_to_array(row, features):\n",
    "    arr = make_array()\n",
    "    for feature in features:\n",
    "        arr = np.append(arr, row.item(feature))\n",
    "    return arr\n",
    "\n",
    "def classify(row, k, train):\n",
    "    test_row_features_array = row_to_array(row, features)\n",
    "    distances = make_array()\n",
    "    for train_row in train.rows:\n",
    "        train_row_features_array = row_to_array(train_row, features)\n",
    "        row_distance = distance(train_row_features_array, test_row_features_array)\n",
    "        distances = np.append(distances, row_distance)\n",
    "    train_with_distances = train.with_column(\"distances\", distances)\n",
    "    nearest_neighbors = train_with_distances.sort('distances').take(np.arange(k))\n",
    "    most_common_label = nearest_neighbors.group('school').column(0).item(0)\n",
    "    return most_common_label\n",
    "\n",
    "\n",
    "# Don't modify/delete the code below\n",
    "first_test = classify(test.row(0), 5, train)\n",
    "first_test"
   ]
  },
  {
   "cell_type": "code",
   "execution_count": 17,
   "metadata": {
    "deletable": false,
    "editable": false
   },
   "outputs": [
    {
     "name": "stdout",
     "output_type": "stream",
     "text": [
      "~~~~~~~~~~~~~~~~~~~~~~~~~~~~~~~~~~~~~~~~~~~~~~~~~~~~~~~~~~~~~~~~~~~~~\n",
      "Running tests\n",
      "\n",
      "---------------------------------------------------------------------\n",
      "Test summary\n",
      "    Passed: 2\n",
      "    Failed: 0\n",
      "[ooooooooook] 100.0% passed\n",
      "\n"
     ]
    }
   ],
   "source": [
    "ok.grade(\"q1_4\");"
   ]
  },
  {
   "cell_type": "markdown",
   "metadata": {
    "deletable": false,
    "editable": false
   },
   "source": [
    "<div class=\"hide\">\\pagebreak</div>\n",
    "\n",
    "#### Question 5\n",
    "\n",
    "Define the function `three_classify` that takes a `row` from `test` as an argument and classifies the row based on using 3-Nearest Neighbors. Use this function to find the `accuracy` of a 3-NN classifier on the `test` set. `accuracy` should be a proportion (not a percentage) of the schools that were correctly predicted.\n",
    "\n",
    "*Hint: you should be using a function you just created!*\n",
    "\n",
    "*Note: Usually before using a classifier on a test set, we'd classify first on a \"validation\" set, which we then can modify our training set again if need be, before actually testing on the test set. You don’t need to do that for this question, but you will learn about this more in Data 100.*\n",
    "\n",
    "<!--\n",
    "BEGIN QUESTION\n",
    "name: q1_5\n",
    "manual: false\n",
    "-->"
   ]
  },
  {
   "cell_type": "code",
   "execution_count": 18,
   "metadata": {
    "deletable": false,
    "manual_grade": true,
    "manual_problem_id": "sign_lang_3"
   },
   "outputs": [
    {
     "data": {
      "text/plain": [
       "0.92"
      ]
     },
     "execution_count": 18,
     "metadata": {},
     "output_type": "execute_result"
    }
   ],
   "source": [
    "def three_classify(row):\n",
    "    return classify(row, 3, train)\n",
    "test_with_prediction = test.with_column(\"prediction\", test.apply(three_classify))\n",
    "labels_correct = np.count_nonzero(test_with_prediction.column('school') == test_with_prediction.column('prediction'))\n",
    "accuracy = labels_correct / test_with_prediction.num_rows\n",
    "accuracy"
   ]
  },
  {
   "cell_type": "code",
   "execution_count": 19,
   "metadata": {
    "deletable": false,
    "editable": false
   },
   "outputs": [
    {
     "name": "stdout",
     "output_type": "stream",
     "text": [
      "~~~~~~~~~~~~~~~~~~~~~~~~~~~~~~~~~~~~~~~~~~~~~~~~~~~~~~~~~~~~~~~~~~~~~\n",
      "Running tests\n",
      "\n",
      "---------------------------------------------------------------------\n",
      "Test summary\n",
      "    Passed: 2\n",
      "    Failed: 0\n",
      "[ooooooooook] 100.0% passed\n",
      "\n"
     ]
    }
   ],
   "source": [
    "ok.grade(\"q1_5\");"
   ]
  },
  {
   "cell_type": "markdown",
   "metadata": {
    "deletable": false,
    "editable": false
   },
   "source": [
    "#### Question 6\n",
    "\n",
    "There are 77 rows of Berkeley students and 23 rows of Stanford students in the `coordinates` table. If we used the entire `coordinates` table as the train set, what is the smallest value of k that would ensure that a k-Nearest Neighbor classifier would always predict Berkeley as the class? Assign the value to `k`.\n",
    "\n",
    "<!--\n",
    "BEGIN QUESTION\n",
    "name: q1_6\n",
    "manual: false\n",
    "-->"
   ]
  },
  {
   "cell_type": "code",
   "execution_count": 20,
   "metadata": {},
   "outputs": [
    {
     "data": {
      "text/plain": [
       "47"
      ]
     },
     "execution_count": 20,
     "metadata": {},
     "output_type": "execute_result"
    }
   ],
   "source": [
    "k = 47\n",
    "k"
   ]
  },
  {
   "cell_type": "code",
   "execution_count": 21,
   "metadata": {
    "deletable": false,
    "editable": false
   },
   "outputs": [
    {
     "name": "stdout",
     "output_type": "stream",
     "text": [
      "~~~~~~~~~~~~~~~~~~~~~~~~~~~~~~~~~~~~~~~~~~~~~~~~~~~~~~~~~~~~~~~~~~~~~\n",
      "Running tests\n",
      "\n",
      "---------------------------------------------------------------------\n",
      "Test summary\n",
      "    Passed: 1\n",
      "    Failed: 0\n",
      "[ooooooooook] 100.0% passed\n",
      "\n"
     ]
    }
   ],
   "source": [
    "ok.grade(\"q1_6\");"
   ]
  },
  {
   "cell_type": "markdown",
   "metadata": {
    "deletable": false,
    "editable": false
   },
   "source": [
    "#### Question 7\n",
    "\n",
    "Why do we divide our data into a training and test set? Should we use our test set to find the best possible number of neighbors for a k-NN classifer? What is the point of a test set, and why do we only want to use the test set once? Explain. \n",
    "\n",
    "\n",
    "<!--\n",
    "BEGIN QUESTION\n",
    "name: q1_7\n",
    "manual: true\n",
    "-->\n",
    "<!-- EXPORT TO PDF -->"
   ]
  },
  {
   "cell_type": "markdown",
   "metadata": {
    "export_pdf": true
   },
   "source": [
    "We divide the data into two sets (training and test) becuase we can compare the predicted and test data to get the number of accurately predicted results. We should use the test set to find the best possible number of neighbors. "
   ]
  },
  {
   "cell_type": "markdown",
   "metadata": {
    "deletable": false,
    "editable": false
   },
   "source": [
    "#### Question 8\n",
    "\n",
    "Why do we use an odd-numbered `k` in k-NN? Explain.\n",
    "\n",
    "\n",
    "<!--\n",
    "BEGIN QUESTION\n",
    "name: q1_8\n",
    "manual: true\n",
    "-->\n",
    "<!-- EXPORT TO PDF -->"
   ]
  },
  {
   "cell_type": "markdown",
   "metadata": {
    "export_pdf": true
   },
   "source": [
    "We use an odd k to avoid any ties. With an odd number, one feature will always be majority."
   ]
  },
  {
   "cell_type": "markdown",
   "metadata": {
    "deletable": false,
    "editable": false
   },
   "source": [
    "#### Question 9\n",
    "\n",
    "Thomas has devised a scheme for splitting up the test and training set. For each row from `coordinates`:\n",
    "\n",
    "- Rows for Stanford students have a 50% chance of being placed in the train set and 50% chance of placed in the test set.\n",
    "\n",
    "- Rows for Berkeley students have a 80% chance of being placed in the train set and 20% chance of placed in the test set.\n",
    "\n",
    "\n",
    "Given that a row is in the test set, what is the probability that it corresponds to a Stanford student? Assign that probability to `prob_furd`.\n",
    "\n",
    "*Hint: Remember that there are 77 Berkeley students and 23 Stanford students in `coordinates`*\n",
    "\n",
    "*Hint 2: Thomas' last name is Bayes*\n",
    "\n",
    "\n",
    "<!--\n",
    "BEGIN QUESTION\n",
    "name: q1_9\n",
    "manual: false\n",
    "-->"
   ]
  },
  {
   "cell_type": "code",
   "execution_count": 22,
   "metadata": {},
   "outputs": [
    {
     "data": {
      "text/plain": [
       "0.4275092936802974"
      ]
     },
     "execution_count": 22,
     "metadata": {},
     "output_type": "execute_result"
    }
   ],
   "source": [
    "prob_furd = (0.23 * 0.5) / ((0.77*0.2) + (0.23*0.5))\n",
    "prob_furd"
   ]
  },
  {
   "cell_type": "code",
   "execution_count": 23,
   "metadata": {
    "deletable": false,
    "editable": false
   },
   "outputs": [
    {
     "name": "stdout",
     "output_type": "stream",
     "text": [
      "~~~~~~~~~~~~~~~~~~~~~~~~~~~~~~~~~~~~~~~~~~~~~~~~~~~~~~~~~~~~~~~~~~~~~\n",
      "Running tests\n",
      "\n",
      "---------------------------------------------------------------------\n",
      "Test summary\n",
      "    Passed: 2\n",
      "    Failed: 0\n",
      "[ooooooooook] 100.0% passed\n",
      "\n"
     ]
    }
   ],
   "source": [
    "ok.grade(\"q1_9\");"
   ]
  },
  {
   "cell_type": "markdown",
   "metadata": {},
   "source": [
    "## (OPTIONAL, NOT IN SCOPE): k-NN for Non-Binary Classification"
   ]
  },
  {
   "cell_type": "markdown",
   "metadata": {
    "deletable": false,
    "editable": false
   },
   "source": [
    "**THIS IS NOT IN SCOPE/IS OPTIONAL**. There are no autograder tests for this/code for you to write. It just relies on the function `classify` in Question 4.\n",
    "\n",
    "In this class, we have taught you how to use the kNN algorithm to classify data as one of two classes. However, much of the data you will encounter in the real world will not fall nicely into one of two categories. \n",
    "\n",
    "How can we classify data with non-binary classes? It turns out we can still use kNN! That is, we find the distance between a point and all its neighbors, find the nearest neighbors, and take a majority vote among the neighbors to determine this point's class. \n",
    "\n",
    "The only difference is that now the neighboring points have more than two possible classes. This does introduce difficulty because now we have no way of guaranteeing that we will not encounter ties between classes. In the case that we do encounter a tie, we can just arbitrarily choose one of the classes.\n",
    "\n",
    "In fact, you don't even have to modify the code you wrote before at all to enable multi-class classification!"
   ]
  },
  {
   "cell_type": "markdown",
   "metadata": {
    "deletable": false,
    "editable": false
   },
   "source": [
    "Let's add some more data to our train table, this time for another class of students, students at San Jose Community College (SJCC)."
   ]
  },
  {
   "cell_type": "code",
   "execution_count": null,
   "metadata": {
    "deletable": false,
    "editable": false
   },
   "outputs": [],
   "source": [
    "coordinates_multi = coordinates.with_rows([\n",
    "                              [37.304346, -121.915401, \"SJCC\"],\n",
    "                              [37.316275, -121.913879, \"SJCC\"],\n",
    "                              [37.409435, -121.951379, \"SJCC\"],\n",
    "                              [37.349387, -121.960771, \"SJCC\"],\n",
    "                              [37.329083, -121.928479, \"SJCC\"],\n",
    "                              [37.313017, -121.866730, \"SJCC\"],\n",
    "                              [37.346525, -121.894767, \"SJCC\"],\n",
    "                              [37.364157, -121.955717, \"SJCC\"],\n",
    "                              [37.383362, -121.925776, \"SJCC\"],\n",
    "                              [37.329545, -121.880639, \"SJCC\"]                             \n",
    "])"
   ]
  },
  {
   "cell_type": "code",
   "execution_count": null,
   "metadata": {
    "deletable": false,
    "editable": false
   },
   "outputs": [],
   "source": [
    "classify(coordinates_multi.row(0), 5, coordinates_multi)"
   ]
  },
  {
   "cell_type": "code",
   "execution_count": null,
   "metadata": {
    "deletable": false,
    "editable": false
   },
   "outputs": [],
   "source": [
    "classify(coordinates_multi.row(91), 5, coordinates_multi)"
   ]
  },
  {
   "cell_type": "code",
   "execution_count": null,
   "metadata": {
    "deletable": false,
    "editable": false
   },
   "outputs": [],
   "source": [
    "classify(coordinates_multi.row(105), 5, coordinates_multi)"
   ]
  },
  {
   "cell_type": "markdown",
   "metadata": {},
   "source": [
    "Our classifier can classify rows as belonging to one of three classes!\n",
    "\n",
    "Classification is one of the most important fields in statistics, data science, and machine learning. There are thousands of different classification algorithms and modifications of algorithms! There are many that you'll learn if you continue down the path of becoming a data scientist!"
   ]
  },
  {
   "cell_type": "markdown",
   "metadata": {},
   "source": [
    "## 2. Final-Semester Survey\n"
   ]
  },
  {
   "cell_type": "markdown",
   "metadata": {},
   "source": [
    "You can find the end of semester feedback form [here](https://docs.google.com/forms/d/e/1FAIpQLSeVRzkHTsNIrnbIaYCopJViaFDro1HfemS4y79Q_oZPxUcEvg/viewform?usp=sf_link). Please take some time to fill the survey out! Data 8 is still a relatively new class, and your feedback helps the class get better every semester!\n",
    "\n",
    "As incentive, if 80% of the course fills out this feedback form **and** the official Berkeley Course Evaluations (which will be released sometime in the next couple of weeks) for Data 8, everyone will receive two points of extra credit!"
   ]
  },
  {
   "cell_type": "markdown",
   "metadata": {
    "deletable": false,
    "editable": false
   },
   "source": [
    "**Question 1.** Fill out the end of semester feedback form linked above. Once you have submitted, a secret word will be displayed. Set `secret_word` to the secret string at the end of the form.\n",
    "\n",
    "<!--\n",
    "BEGIN QUESTION\n",
    "name: q2_1\n",
    "manual: false\n",
    "-->"
   ]
  },
  {
   "cell_type": "code",
   "execution_count": 24,
   "metadata": {},
   "outputs": [],
   "source": [
    "secret_word = \"bayes\""
   ]
  },
  {
   "cell_type": "code",
   "execution_count": 25,
   "metadata": {
    "deletable": false,
    "editable": false
   },
   "outputs": [
    {
     "name": "stdout",
     "output_type": "stream",
     "text": [
      "~~~~~~~~~~~~~~~~~~~~~~~~~~~~~~~~~~~~~~~~~~~~~~~~~~~~~~~~~~~~~~~~~~~~~\n",
      "Running tests\n",
      "\n",
      "---------------------------------------------------------------------\n",
      "Test summary\n",
      "    Passed: 1\n",
      "    Failed: 0\n",
      "[ooooooooook] 100.0% passed\n",
      "\n"
     ]
    }
   ],
   "source": [
    "ok.grade(\"q2_1\");"
   ]
  },
  {
   "cell_type": "markdown",
   "metadata": {},
   "source": [
    "## 3. Submission\n"
   ]
  },
  {
   "cell_type": "markdown",
   "metadata": {
    "collapsed": true
   },
   "source": [
    "Once you're finished, select \"Save and Checkpoint\" in the File menu and then execute the `submit` cell below. The result will contain a link that you can use to check that your assignment has been submitted successfully. If you submit more than once before the deadline, we will only grade your final submission. If you mistakenly submit the wrong one, you can head to [okpy.org](https://okpy.org/) and flag the correct version. To do so, go to the website, click on this assignment, and find the version you would like to have graded. There should be an option to flag that submission for grading!"
   ]
  },
  {
   "cell_type": "code",
   "execution_count": 26,
   "metadata": {},
   "outputs": [
    {
     "data": {
      "application/javascript": [
       "IPython.notebook.save_checkpoint();"
      ],
      "text/plain": [
       "<IPython.core.display.Javascript object>"
      ]
     },
     "metadata": {},
     "output_type": "display_data"
    },
    {
     "data": {
      "application/javascript": [
       "IPython.notebook.save_notebook();"
      ],
      "text/plain": [
       "<IPython.core.display.Javascript object>"
      ]
     },
     "metadata": {},
     "output_type": "display_data"
    },
    {
     "name": "stdout",
     "output_type": "stream",
     "text": [
      "Saving notebook... Saved 'hw12.ipynb'.\n",
      "Submit... 100% complete\n",
      "Submission successful for user: lillyliu@berkeley.edu\n",
      "URL: https://okpy.org/cal/data8/sp20/hw12/submissions/8M9yWL\n",
      "\n"
     ]
    }
   ],
   "source": [
    "_ = ok.submit()"
   ]
  },
  {
   "cell_type": "code",
   "execution_count": 27,
   "metadata": {},
   "outputs": [
    {
     "name": "stdout",
     "output_type": "stream",
     "text": [
      "Running all tests...\n",
      "~~~~~~~~~~~~~~~~~~~~~~~~~~~~~~~~~~~~~~~~~~~~~~~~~~~~~~~~~~~~~~~~~~~~~\n",
      "Running tests\n",
      "\n",
      "---------------------------------------------------------------------\n",
      "Test summary\n",
      "    Passed: 2\n",
      "    Failed: 0\n",
      "[ooooooooook] 100.0% passed\n",
      "\n",
      "~~~~~~~~~~~~~~~~~~~~~~~~~~~~~~~~~~~~~~~~~~~~~~~~~~~~~~~~~~~~~~~~~~~~~\n",
      "Running tests\n",
      "\n",
      "---------------------------------------------------------------------\n",
      "Test summary\n",
      "    Passed: 1\n",
      "    Failed: 0\n",
      "[ooooooooook] 100.0% passed\n",
      "\n",
      "~~~~~~~~~~~~~~~~~~~~~~~~~~~~~~~~~~~~~~~~~~~~~~~~~~~~~~~~~~~~~~~~~~~~~\n",
      "Running tests\n",
      "\n",
      "---------------------------------------------------------------------\n",
      "Test summary\n",
      "    Passed: 3\n",
      "    Failed: 0\n",
      "[ooooooooook] 100.0% passed\n",
      "\n",
      "~~~~~~~~~~~~~~~~~~~~~~~~~~~~~~~~~~~~~~~~~~~~~~~~~~~~~~~~~~~~~~~~~~~~~\n",
      "Running tests\n",
      "\n",
      "---------------------------------------------------------------------\n",
      "Test summary\n",
      "    Passed: 1\n",
      "    Failed: 0\n",
      "[ooooooooook] 100.0% passed\n",
      "\n",
      "~~~~~~~~~~~~~~~~~~~~~~~~~~~~~~~~~~~~~~~~~~~~~~~~~~~~~~~~~~~~~~~~~~~~~\n",
      "Running tests\n",
      "\n",
      "---------------------------------------------------------------------\n",
      "Test summary\n",
      "    Passed: 2\n",
      "    Failed: 0\n",
      "[ooooooooook] 100.0% passed\n",
      "\n",
      "~~~~~~~~~~~~~~~~~~~~~~~~~~~~~~~~~~~~~~~~~~~~~~~~~~~~~~~~~~~~~~~~~~~~~\n",
      "Running tests\n",
      "\n",
      "---------------------------------------------------------------------\n",
      "Test summary\n",
      "    Passed: 2\n",
      "    Failed: 0\n",
      "[ooooooooook] 100.0% passed\n",
      "\n",
      "~~~~~~~~~~~~~~~~~~~~~~~~~~~~~~~~~~~~~~~~~~~~~~~~~~~~~~~~~~~~~~~~~~~~~\n",
      "Running tests\n",
      "\n",
      "---------------------------------------------------------------------\n",
      "Test summary\n",
      "    Passed: 1\n",
      "    Failed: 0\n",
      "[ooooooooook] 100.0% passed\n",
      "\n",
      "~~~~~~~~~~~~~~~~~~~~~~~~~~~~~~~~~~~~~~~~~~~~~~~~~~~~~~~~~~~~~~~~~~~~~\n",
      "Running tests\n",
      "\n",
      "---------------------------------------------------------------------\n",
      "Test summary\n",
      "    Passed: 2\n",
      "    Failed: 0\n",
      "[ooooooooook] 100.0% passed\n",
      "\n",
      "Finished running all tests.\n"
     ]
    }
   ],
   "source": [
    "# For your convenience, you can run this cell to run all the tests at once!\n",
    "import os\n",
    "print(\"Running all tests...\")\n",
    "_ = [ok.grade(q[:-3]) for q in os.listdir(\"tests\") if q.startswith('q') and len(q) <= 10]\n",
    "print(\"Finished running all tests.\")"
   ]
  },
  {
   "cell_type": "code",
   "execution_count": null,
   "metadata": {},
   "outputs": [],
   "source": []
  }
 ],
 "metadata": {
  "kernelspec": {
   "display_name": "Python 3",
   "language": "python",
   "name": "python3"
  },
  "language_info": {
   "codemirror_mode": {
    "name": "ipython",
    "version": 3
   },
   "file_extension": ".py",
   "mimetype": "text/x-python",
   "name": "python",
   "nbconvert_exporter": "python",
   "pygments_lexer": "ipython3",
   "version": "3.6.9"
  }
 },
 "nbformat": 4,
 "nbformat_minor": 1
}
