{
 "cells": [
  {
   "cell_type": "code",
   "execution_count": 1,
   "metadata": {
    "deletable": false,
    "editable": false
   },
   "outputs": [
    {
     "name": "stdout",
     "output_type": "stream",
     "text": [
      "=====================================================================\n",
      "Assignment: Homework 6: Probability, Simulation, Estimation, and Assessing Models\n",
      "OK, version v1.12.5\n",
      "=====================================================================\n",
      "\n"
     ]
    }
   ],
   "source": [
    "# Initialize OK\n",
    "from client.api.notebook import Notebook\n",
    "ok = Notebook('hw06.ok')"
   ]
  },
  {
   "cell_type": "markdown",
   "metadata": {},
   "source": [
    "# Homework 6: Probability, Simulation, Estimation, and Assessing Models"
   ]
  },
  {
   "cell_type": "markdown",
   "metadata": {},
   "source": [
    "**Reading**: \n",
    "* [Randomness](https://www.inferentialthinking.com/chapters/09/randomness.html) \n",
    "* [Sampling and Empirical Distributions](https://www.inferentialthinking.com/chapters/10/sampling-and-empirical-distributions.html)\n",
    "* [Testing Hypotheses](https://www.inferentialthinking.com/chapters/11/testing-hypotheses.html)"
   ]
  },
  {
   "cell_type": "markdown",
   "metadata": {},
   "source": [
    "Please complete this notebook by filling in the cells provided. Before you begin, execute the following cell to load the provided tests. Each time you start your server, you will need to execute this cell again to load the tests.\n",
    "\n",
    "Homework 6 is due Thursday, 3/5 at 11:59pm. You will receive an early submission bonus point if you turn in your final submission by Wednesday, 3/4 at 11:59pm. Start early so that you can come to office hours if you're stuck. Check the website for the office hours schedule. Late work will not be accepted as per the [policies](http://data8.org/sp20/policies.html) of this course. \n",
    "\n",
    "Directly sharing answers is not okay, but discussing problems with the course staff or with other students is encouraged. Refer to the policies page to learn more about how to learn cooperatively.\n",
    "\n",
    "For all problems that you must write our explanations and sentences for, you **must** provide your answer in the designated space. Moreover, throughout this homework and all future ones, please be sure to not re-assign variables throughout the notebook! For example, if you use `max_temperature` in your answer to one question, do not reassign it later on."
   ]
  },
  {
   "cell_type": "code",
   "execution_count": 2,
   "metadata": {},
   "outputs": [
    {
     "name": "stdout",
     "output_type": "stream",
     "text": [
      "=====================================================================\n",
      "Assignment: Homework 6: Probability, Simulation, Estimation, and Assessing Models\n",
      "OK, version v1.12.5\n",
      "=====================================================================\n",
      "\n",
      "Successfully logged in as lillyliu@berkeley.edu\n"
     ]
    }
   ],
   "source": [
    "# Don't change this cell; just run it. \n",
    "\n",
    "import numpy as np\n",
    "from datascience import *\n",
    "\n",
    "# These lines do some fancy plotting magic.\n",
    "import matplotlib\n",
    "%matplotlib inline\n",
    "import matplotlib.pyplot as plt\n",
    "plt.style.use('fivethirtyeight')\n",
    "import warnings\n",
    "warnings.simplefilter('ignore', FutureWarning)\n",
    "\n",
    "from client.api.notebook import Notebook\n",
    "ok = Notebook('hw06.ok')\n",
    "_ = ok.auth(inline=True)"
   ]
  },
  {
   "cell_type": "markdown",
   "metadata": {},
   "source": [
    "## 1. Probability\n"
   ]
  },
  {
   "cell_type": "markdown",
   "metadata": {
    "deletable": false,
    "editable": false
   },
   "source": [
    "We will be testing some probability concepts that were introduced in lecture. For all of the following problems, we will introduce a problem statement and give you a proposed answer. You must assign the provided variable to one of the following three integers, depending on whether the proposed answer is too low, too high, or correct. \n",
    "\n",
    "1. Assign the variable to 1 if you believe our proposed answer is too high.\n",
    "2. Assign the variable to 2 if you believe our proposed answer is too low.\n",
    "3. Assign the variable to 3 if you believe our proposed answer is correct.\n",
    "\n",
    "\n",
    "You are more than welcome to create more cells across this notebook to use for arithmetic operations \n",
    "\n",
    "**Question 1.** You roll a 6-sided die 10 times. What is the chance of getting 10 sixes?\n",
    "\n",
    "Our proposed answer: $$\\left(\\frac{1}{6}\\right)^{10}$$\n",
    "\n",
    "Assign `ten_sixes` to either 1, 2, or 3 depending on if you think our answer is too high, too low, or correct. \n",
    "\n",
    "<!--\n",
    "BEGIN QUESTION\n",
    "name: q1_1\n",
    "manual: false\n",
    "-->"
   ]
  },
  {
   "cell_type": "code",
   "execution_count": 3,
   "metadata": {
    "deletable": false
   },
   "outputs": [
    {
     "data": {
      "text/plain": [
       "3"
      ]
     },
     "execution_count": 3,
     "metadata": {},
     "output_type": "execute_result"
    }
   ],
   "source": [
    "ten_sixes = 3\n",
    "ten_sixes"
   ]
  },
  {
   "cell_type": "code",
   "execution_count": 4,
   "metadata": {
    "deletable": false,
    "editable": false
   },
   "outputs": [
    {
     "name": "stdout",
     "output_type": "stream",
     "text": [
      "~~~~~~~~~~~~~~~~~~~~~~~~~~~~~~~~~~~~~~~~~~~~~~~~~~~~~~~~~~~~~~~~~~~~~\n",
      "Running tests\n",
      "\n",
      "---------------------------------------------------------------------\n",
      "Test summary\n",
      "    Passed: 1\n",
      "    Failed: 0\n",
      "[ooooooooook] 100.0% passed\n",
      "\n"
     ]
    }
   ],
   "source": [
    "ok.grade(\"q1_1\");"
   ]
  },
  {
   "cell_type": "markdown",
   "metadata": {
    "deletable": false,
    "editable": false
   },
   "source": [
    "**Question 2.** Take the same problem set-up as before, rolling a fair dice 10 times. What is the chance that every roll is less than or equal to 5?\n",
    "\n",
    "Our proposed answer: $$1 - \\left(\\frac{1}{6}\\right)^{10}$$\n",
    "\n",
    "Assign `five_or_less` to either 1, 2, or 3. \n",
    "\n",
    "<!--\n",
    "BEGIN QUESTION\n",
    "name: q1_2\n",
    "manual: false\n",
    "-->"
   ]
  },
  {
   "cell_type": "code",
   "execution_count": 5,
   "metadata": {
    "deletable": false
   },
   "outputs": [
    {
     "data": {
      "text/plain": [
       "1"
      ]
     },
     "execution_count": 5,
     "metadata": {},
     "output_type": "execute_result"
    }
   ],
   "source": [
    "five_or_less = 1\n",
    "five_or_less"
   ]
  },
  {
   "cell_type": "code",
   "execution_count": 6,
   "metadata": {
    "deletable": false,
    "editable": false
   },
   "outputs": [
    {
     "name": "stdout",
     "output_type": "stream",
     "text": [
      "~~~~~~~~~~~~~~~~~~~~~~~~~~~~~~~~~~~~~~~~~~~~~~~~~~~~~~~~~~~~~~~~~~~~~\n",
      "Running tests\n",
      "\n",
      "---------------------------------------------------------------------\n",
      "Test summary\n",
      "    Passed: 1\n",
      "    Failed: 0\n",
      "[ooooooooook] 100.0% passed\n",
      "\n"
     ]
    }
   ],
   "source": [
    "ok.grade(\"q1_2\");"
   ]
  },
  {
   "cell_type": "markdown",
   "metadata": {
    "deletable": false,
    "editable": false
   },
   "source": [
    "**Question 3.** Assume we are picking a lottery ticket. We must choose three distinct numbers from 1 to 1000 and write them on a ticket. Next, someone picks three numbers one by one from a bowl with numbers from 1 to 1000 each time without putting the previous number back in. We win if our numbers are all called in order. \n",
    "\n",
    "If we decide to play the game and pick our numbers as 12, 140, and 890, what is the chance that we win? \n",
    "\n",
    "Our proposed answer: $$\\left(\\frac{3}{1000}\\right)^3$$\n",
    "\n",
    "Assign `lottery` to either 1, 2, or 3. \n",
    "\n",
    "<!--\n",
    "BEGIN QUESTION\n",
    "name: q1_3\n",
    "manual: false\n",
    "-->"
   ]
  },
  {
   "cell_type": "code",
   "execution_count": 8,
   "metadata": {
    "deletable": false
   },
   "outputs": [],
   "source": [
    "lottery = 1"
   ]
  },
  {
   "cell_type": "code",
   "execution_count": 9,
   "metadata": {
    "deletable": false,
    "editable": false
   },
   "outputs": [
    {
     "name": "stdout",
     "output_type": "stream",
     "text": [
      "~~~~~~~~~~~~~~~~~~~~~~~~~~~~~~~~~~~~~~~~~~~~~~~~~~~~~~~~~~~~~~~~~~~~~\n",
      "Running tests\n",
      "\n",
      "---------------------------------------------------------------------\n",
      "Test summary\n",
      "    Passed: 1\n",
      "    Failed: 0\n",
      "[ooooooooook] 100.0% passed\n",
      "\n"
     ]
    }
   ],
   "source": [
    "ok.grade(\"q1_3\");"
   ]
  },
  {
   "cell_type": "markdown",
   "metadata": {
    "deletable": false,
    "editable": false
   },
   "source": [
    "**Question 4.** Assume we have two lists, list A and list B. List A contains the numbers [20,10,30], while list B contains the numbers [10,30,20,40,30]. We choose one number from list A randomly and one number from list B randomly. What is the chance that the number we drew from list A is larger than or equal to the number we drew from list B?\n",
    "\n",
    "Our proposed solution: $$1/5$$\n",
    "\n",
    "Assign `list_chances` to either 1, 2, or 3. \n",
    "\n",
    "*Hint: Consider the different possible ways that the items in List A can be greater than or equal to items in List B. Try working out your thoughts with a pencil and paper, what do you think the correct solutions will be close to?*\n",
    "\n",
    "<!--\n",
    "BEGIN QUESTION\n",
    "name: q1_4\n",
    "manual: false\n",
    "-->"
   ]
  },
  {
   "cell_type": "code",
   "execution_count": 10,
   "metadata": {
    "deletable": false
   },
   "outputs": [],
   "source": [
    "list_chances = 2"
   ]
  },
  {
   "cell_type": "code",
   "execution_count": 11,
   "metadata": {
    "deletable": false,
    "editable": false
   },
   "outputs": [
    {
     "name": "stdout",
     "output_type": "stream",
     "text": [
      "~~~~~~~~~~~~~~~~~~~~~~~~~~~~~~~~~~~~~~~~~~~~~~~~~~~~~~~~~~~~~~~~~~~~~\n",
      "Running tests\n",
      "\n",
      "---------------------------------------------------------------------\n",
      "Test summary\n",
      "    Passed: 1\n",
      "    Failed: 0\n",
      "[ooooooooook] 100.0% passed\n",
      "\n"
     ]
    }
   ],
   "source": [
    "ok.grade(\"q1_4\");"
   ]
  },
  {
   "cell_type": "markdown",
   "metadata": {},
   "source": [
    "## 2. Monkeys Typing Shakespeare\n",
    "##### (...or at least the string \"datascience\")"
   ]
  },
  {
   "cell_type": "markdown",
   "metadata": {
    "deletable": false,
    "editable": false
   },
   "source": [
    "A monkey is banging repeatedly on the keys of a typewriter. Each time, the monkey is equally likely to hit any of the 26 lowercase letters of the English alphabet, 26 uppercase letters of the English alphabet, and any number between 0-9 (inclusive), regardless of what it has hit before. There are no other keys on the keyboard.  \n",
    "\n",
    "This question is inspired by a mathematical theorem called the Infinite monkey theorem (<https://en.wikipedia.org/wiki/Infinite_monkey_theorem>), which postulates that if you put a monkey in the situation described above for an infinite time, they will eventually type out all of Shakespeare’s works.\n",
    "\n",
    "**Question 1.** Suppose the monkey hits the keyboard 5 times.  Compute the chance that the monkey types the sequence `Data8`.  (Call this `data_chance`.) Use algebra and type in an arithmetic equation that Python can evalute.\n",
    "\n",
    "<!--\n",
    "BEGIN QUESTION\n",
    "name: q2_1\n",
    "manual: false\n",
    "-->"
   ]
  },
  {
   "cell_type": "code",
   "execution_count": 18,
   "metadata": {},
   "outputs": [
    {
     "data": {
      "text/plain": [
       "1.0915447684774164e-09"
      ]
     },
     "execution_count": 18,
     "metadata": {},
     "output_type": "execute_result"
    }
   ],
   "source": [
    "data_chance = (1/62)**5\n",
    "data_chance"
   ]
  },
  {
   "cell_type": "code",
   "execution_count": 19,
   "metadata": {
    "deletable": false,
    "editable": false
   },
   "outputs": [
    {
     "name": "stdout",
     "output_type": "stream",
     "text": [
      "~~~~~~~~~~~~~~~~~~~~~~~~~~~~~~~~~~~~~~~~~~~~~~~~~~~~~~~~~~~~~~~~~~~~~\n",
      "Running tests\n",
      "\n",
      "---------------------------------------------------------------------\n",
      "Test summary\n",
      "    Passed: 1\n",
      "    Failed: 0\n",
      "[ooooooooook] 100.0% passed\n",
      "\n"
     ]
    }
   ],
   "source": [
    "ok.grade(\"q2_1\");"
   ]
  },
  {
   "cell_type": "markdown",
   "metadata": {
    "deletable": false,
    "editable": false
   },
   "source": [
    "**Question 2.** Write a function called `simulate_key_strike`.  It should take **no arguments**, and it should return a random one-character string that is equally likely to be any of the 26 lower-case English letters, 26 upper-case English letters, or any number between 0-9 (inclusive). \n",
    "\n",
    "<!--\n",
    "BEGIN QUESTION\n",
    "name: q2_2\n",
    "manual: false\n",
    "-->"
   ]
  },
  {
   "cell_type": "code",
   "execution_count": 22,
   "metadata": {
    "deletable": false
   },
   "outputs": [
    {
     "data": {
      "text/plain": [
       "'A'"
      ]
     },
     "execution_count": 22,
     "metadata": {},
     "output_type": "execute_result"
    }
   ],
   "source": [
    "# We have provided the code below to compute a list called keys,\n",
    "# containing all the lower-case English letters, upper-case English letters, and the digits 0-9 (inclusive).  Print it if you\n",
    "# want to verify what it contains.\n",
    "import string\n",
    "keys = list(string.ascii_lowercase + string.ascii_uppercase + string.digits)\n",
    "\n",
    "def simulate_key_strike():\n",
    "    \"\"\"Simulates one random key strike.\"\"\"\n",
    "    return np.random.choice(keys)\n",
    "\n",
    "# An example call to your function:\n",
    "simulate_key_strike()"
   ]
  },
  {
   "cell_type": "code",
   "execution_count": 23,
   "metadata": {
    "deletable": false,
    "editable": false
   },
   "outputs": [
    {
     "name": "stdout",
     "output_type": "stream",
     "text": [
      "~~~~~~~~~~~~~~~~~~~~~~~~~~~~~~~~~~~~~~~~~~~~~~~~~~~~~~~~~~~~~~~~~~~~~\n",
      "Running tests\n",
      "\n",
      "---------------------------------------------------------------------\n",
      "Test summary\n",
      "    Passed: 3\n",
      "    Failed: 0\n",
      "[ooooooooook] 100.0% passed\n",
      "\n"
     ]
    }
   ],
   "source": [
    "ok.grade(\"q2_2\");"
   ]
  },
  {
   "cell_type": "markdown",
   "metadata": {
    "deletable": false,
    "editable": false
   },
   "source": [
    "**Question 3.** Write a function called `simulate_several_key_strikes`.  It should take one argument: an integer specifying the number of key strikes to simulate. It should return a string containing that many characters, each one obtained from simulating a key strike by the monkey.\n",
    "\n",
    "*Hint:* If you make a list or array of the simulated key strikes called `key_strikes_array`, you can convert that to a string by calling `\"\".join(key_strikes_array)`\n",
    "\n",
    "<!--\n",
    "BEGIN QUESTION\n",
    "name: q2_3\n",
    "manual: false\n",
    "-->"
   ]
  },
  {
   "cell_type": "code",
   "execution_count": 28,
   "metadata": {},
   "outputs": [
    {
     "data": {
      "text/plain": [
       "'Hxy2BfBcDAG'"
      ]
     },
     "execution_count": 28,
     "metadata": {},
     "output_type": "execute_result"
    }
   ],
   "source": [
    "def simulate_several_key_strikes(num_strikes):\n",
    "    list = []\n",
    "    for i in np.arange(num_strikes):\n",
    "        list.append(simulate_key_strike())\n",
    "    return \"\".join(list)\n",
    "\n",
    "# An example call to your function:\n",
    "simulate_several_key_strikes(11)"
   ]
  },
  {
   "cell_type": "code",
   "execution_count": 29,
   "metadata": {
    "deletable": false,
    "editable": false
   },
   "outputs": [
    {
     "name": "stdout",
     "output_type": "stream",
     "text": [
      "~~~~~~~~~~~~~~~~~~~~~~~~~~~~~~~~~~~~~~~~~~~~~~~~~~~~~~~~~~~~~~~~~~~~~\n",
      "Running tests\n",
      "\n",
      "---------------------------------------------------------------------\n",
      "Test summary\n",
      "    Passed: 3\n",
      "    Failed: 0\n",
      "[ooooooooook] 100.0% passed\n",
      "\n"
     ]
    }
   ],
   "source": [
    "ok.grade(\"q2_3\");"
   ]
  },
  {
   "cell_type": "markdown",
   "metadata": {
    "deletable": false,
    "editable": false
   },
   "source": [
    "**Question 4.** Call `simulate_several_key_strikes` 5000 times, each time simulating the monkey striking 5 keys.  Compute the proportion of times the monkey types `\"Data8\"`, calling that proportion `data_proportion`.\n",
    "\n",
    "<!--\n",
    "BEGIN QUESTION\n",
    "name: q2_4\n",
    "manual: false\n",
    "-->"
   ]
  },
  {
   "cell_type": "code",
   "execution_count": 31,
   "metadata": {},
   "outputs": [
    {
     "data": {
      "text/plain": [
       "0.0"
      ]
     },
     "execution_count": 31,
     "metadata": {},
     "output_type": "execute_result"
    }
   ],
   "source": [
    "count = 0\n",
    "for i in np.arange(5000):\n",
    "    if simulate_several_key_strikes(5) == \"Data8\":\n",
    "        count += 1\n",
    "data_proportion = count/5000\n",
    "data_proportion"
   ]
  },
  {
   "cell_type": "code",
   "execution_count": 32,
   "metadata": {
    "deletable": false,
    "editable": false
   },
   "outputs": [
    {
     "name": "stdout",
     "output_type": "stream",
     "text": [
      "~~~~~~~~~~~~~~~~~~~~~~~~~~~~~~~~~~~~~~~~~~~~~~~~~~~~~~~~~~~~~~~~~~~~~\n",
      "Running tests\n",
      "\n",
      "---------------------------------------------------------------------\n",
      "Test summary\n",
      "    Passed: 1\n",
      "    Failed: 0\n",
      "[ooooooooook] 100.0% passed\n",
      "\n"
     ]
    }
   ],
   "source": [
    "ok.grade(\"q2_4\");"
   ]
  },
  {
   "cell_type": "markdown",
   "metadata": {
    "deletable": false,
    "editable": false
   },
   "source": [
    "**Question 5.** Check the value your simulation computed for `data_proportion`.  Is your simulation a good way to estimate the chance that the monkey types `\"Data8\"` in 5 strikes (the answer to question 1)?  Why or why not?\n",
    "\n",
    "<!--\n",
    "BEGIN QUESTION\n",
    "name: q2_5\n",
    "manual: true\n",
    "-->\n",
    "<!-- EXPORT TO PDF -->"
   ]
  },
  {
   "cell_type": "markdown",
   "metadata": {
    "export_pdf": true,
    "manual_grade": true,
    "manual_problem_id": "monkeys_5"
   },
   "source": [
    "No; the fact that the monkey typed Data8 0 times indicates that there were not enough trials to actually have the monkey type Data8 even once. The simulation would be more effective with more trials and thus yielding a number of times the monkey would type Data8 out of the total number of trials."
   ]
  },
  {
   "cell_type": "markdown",
   "metadata": {
    "deletable": false,
    "editable": false
   },
   "source": [
    "**Question 6.** Compute the chance that the monkey types the letter `\"t\"` at least once in the 5 strikes.  Call it `t_chance`. Use algebra and type in an arithmetic equation that Python can evalute. \n",
    "\n",
    "<!--\n",
    "BEGIN QUESTION\n",
    "name: q2_6\n",
    "manual: false\n",
    "-->"
   ]
  },
  {
   "cell_type": "code",
   "execution_count": 35,
   "metadata": {},
   "outputs": [
    {
     "data": {
      "text/plain": [
       "0.07808532616807251"
      ]
     },
     "execution_count": 35,
     "metadata": {},
     "output_type": "execute_result"
    }
   ],
   "source": [
    "t_chance = 1-(61/62)**5\n",
    "t_chance"
   ]
  },
  {
   "cell_type": "code",
   "execution_count": 36,
   "metadata": {
    "deletable": false,
    "editable": false
   },
   "outputs": [
    {
     "name": "stdout",
     "output_type": "stream",
     "text": [
      "~~~~~~~~~~~~~~~~~~~~~~~~~~~~~~~~~~~~~~~~~~~~~~~~~~~~~~~~~~~~~~~~~~~~~\n",
      "Running tests\n",
      "\n",
      "---------------------------------------------------------------------\n",
      "Test summary\n",
      "    Passed: 1\n",
      "    Failed: 0\n",
      "[ooooooooook] 100.0% passed\n",
      "\n"
     ]
    }
   ],
   "source": [
    "ok.grade(\"q2_6\");"
   ]
  },
  {
   "cell_type": "markdown",
   "metadata": {
    "deletable": false,
    "editable": false
   },
   "source": [
    "**Question 7.** Do you think that a computer simulation is more or less effective to estimate `t_chance` compared to when we tried to estimate `data_chance` this way? Why or why not? (You don't need to write a simulation, but it is an interesting exercise.)\n",
    "\n",
    "<!--\n",
    "BEGIN QUESTION\n",
    "name: q2_7\n",
    "manual: true\n",
    "-->\n",
    "<!-- EXPORT TO PDF -->"
   ]
  },
  {
   "cell_type": "markdown",
   "metadata": {
    "export_pdf": true,
    "manual_grade": true,
    "manual_problem_id": "monkeys_7"
   },
   "source": [
    "The computer simulation is more effective in estimating t_chance because the monkey has a higher chance of hitting t than Data8, so the number of trials doesnt have to be as high in order to accurately estimate the chance of the monkey hitting t. "
   ]
  },
  {
   "cell_type": "markdown",
   "metadata": {},
   "source": [
    "## 3. Sampling Basketball Players\n"
   ]
  },
  {
   "cell_type": "markdown",
   "metadata": {},
   "source": [
    "This exercise uses salary data and game statistics for basketball players from the 2019-2020 NBA season. The data was collected from [Basketball-Reference](http://www.basketball-reference.com).\n",
    "\n",
    "Run the next cell to load the two datasets."
   ]
  },
  {
   "cell_type": "code",
   "execution_count": 37,
   "metadata": {
    "deletable": false,
    "editable": false
   },
   "outputs": [
    {
     "data": {
      "text/html": [
       "<table border=\"1\" class=\"dataframe\">\n",
       "    <thead>\n",
       "        <tr>\n",
       "            <th>Player</th> <th>3P</th> <th>2P</th> <th>PTS</th>\n",
       "        </tr>\n",
       "    </thead>\n",
       "    <tbody>\n",
       "        <tr>\n",
       "            <td>Steven Adams     </td> <td>0   </td> <td>4.4 </td> <td>10.7</td>\n",
       "        </tr>\n",
       "        <tr>\n",
       "            <td>Bam Adebayo      </td> <td>0   </td> <td>6.2 </td> <td>15.8</td>\n",
       "        </tr>\n",
       "        <tr>\n",
       "            <td>LaMarcus Aldridge</td> <td>1.2 </td> <td>6.3 </td> <td>19.1</td>\n",
       "        </tr>\n",
       "    </tbody>\n",
       "</table>\n",
       "<p>... (585 rows omitted)</p>"
      ],
      "text/plain": [
       "<IPython.core.display.HTML object>"
      ]
     },
     "metadata": {},
     "output_type": "display_data"
    },
    {
     "data": {
      "text/html": [
       "<table border=\"1\" class=\"dataframe\">\n",
       "    <thead>\n",
       "        <tr>\n",
       "            <th>Name</th> <th>Salary</th>\n",
       "        </tr>\n",
       "    </thead>\n",
       "    <tbody>\n",
       "        <tr>\n",
       "            <td>Stephen Curry    </td> <td>40231758</td>\n",
       "        </tr>\n",
       "        <tr>\n",
       "            <td>Chris Paul       </td> <td>38506482</td>\n",
       "        </tr>\n",
       "        <tr>\n",
       "            <td>Russell Westbrook</td> <td>38178000</td>\n",
       "        </tr>\n",
       "    </tbody>\n",
       "</table>\n",
       "<p>... (522 rows omitted)</p>"
      ],
      "text/plain": [
       "<IPython.core.display.HTML object>"
      ]
     },
     "metadata": {},
     "output_type": "display_data"
    }
   ],
   "source": [
    "player_data = Table.read_table('player_data.csv')\n",
    "salary_data = Table.read_table('salary_data.csv')\n",
    "player_data.show(3)\n",
    "salary_data.show(3)"
   ]
  },
  {
   "cell_type": "markdown",
   "metadata": {
    "deletable": false,
    "editable": false
   },
   "source": [
    "**Question 1.** We would like to relate players' game statistics to their salaries.  Compute a table called `full_data` that includes one row for each player who is listed in both `player_data` and `salary_data`.  It should include all the columns from `player_data` and `salary_data`, except the `\"Name\"` column.\n",
    "\n",
    "<!--\n",
    "BEGIN QUESTION\n",
    "name: q3_1\n",
    "manual: false\n",
    "-->"
   ]
  },
  {
   "cell_type": "code",
   "execution_count": 51,
   "metadata": {
    "scrolled": true
   },
   "outputs": [
    {
     "data": {
      "text/html": [
       "<table border=\"1\" class=\"dataframe\">\n",
       "    <thead>\n",
       "        <tr>\n",
       "            <th>Player</th> <th>3P</th> <th>2P</th> <th>PTS</th> <th>Salary</th>\n",
       "        </tr>\n",
       "    </thead>\n",
       "    <tbody>\n",
       "        <tr>\n",
       "            <td>Aaron Gordon     </td> <td>1.2 </td> <td>4.1 </td> <td>14.2</td> <td>19863636</td>\n",
       "        </tr>\n",
       "        <tr>\n",
       "            <td>Aaron Holiday    </td> <td>1.5 </td> <td>2.2 </td> <td>9.9 </td> <td>2239200 </td>\n",
       "        </tr>\n",
       "        <tr>\n",
       "            <td>Abdel Nader      </td> <td>0.7 </td> <td>1.3 </td> <td>5.7 </td> <td>1618520 </td>\n",
       "        </tr>\n",
       "        <tr>\n",
       "            <td>Admiral Schofield</td> <td>0.5 </td> <td>0.6 </td> <td>3.2 </td> <td>898310  </td>\n",
       "        </tr>\n",
       "        <tr>\n",
       "            <td>Al Horford       </td> <td>1.4 </td> <td>3.4 </td> <td>12  </td> <td>28000000</td>\n",
       "        </tr>\n",
       "        <tr>\n",
       "            <td>Al-Farouq Aminu  </td> <td>0.5 </td> <td>0.9 </td> <td>4.3 </td> <td>9258000 </td>\n",
       "        </tr>\n",
       "        <tr>\n",
       "            <td>Alec Burks       </td> <td>1.7 </td> <td>3.3 </td> <td>15.8</td> <td>2320044 </td>\n",
       "        </tr>\n",
       "        <tr>\n",
       "            <td>Alec Burks       </td> <td>1.8 </td> <td>3.3 </td> <td>16.1</td> <td>2320044 </td>\n",
       "        </tr>\n",
       "        <tr>\n",
       "            <td>Alec Burks       </td> <td>0   </td> <td>1   </td> <td>2   </td> <td>2320044 </td>\n",
       "        </tr>\n",
       "        <tr>\n",
       "            <td>Alen Smailagić   </td> <td>0.3 </td> <td>1.3 </td> <td>4.7 </td> <td>898310  </td>\n",
       "        </tr>\n",
       "    </tbody>\n",
       "</table>\n",
       "<p>... (552 rows omitted)</p>"
      ],
      "text/plain": [
       "Player            | 3P   | 2P   | PTS  | Salary\n",
       "Aaron Gordon      | 1.2  | 4.1  | 14.2 | 19863636\n",
       "Aaron Holiday     | 1.5  | 2.2  | 9.9  | 2239200\n",
       "Abdel Nader       | 0.7  | 1.3  | 5.7  | 1618520\n",
       "Admiral Schofield | 0.5  | 0.6  | 3.2  | 898310\n",
       "Al Horford        | 1.4  | 3.4  | 12   | 28000000\n",
       "Al-Farouq Aminu   | 0.5  | 0.9  | 4.3  | 9258000\n",
       "Alec Burks        | 1.7  | 3.3  | 15.8 | 2320044\n",
       "Alec Burks        | 1.8  | 3.3  | 16.1 | 2320044\n",
       "Alec Burks        | 0    | 1    | 2    | 2320044\n",
       "Alen Smailagić    | 0.3  | 1.3  | 4.7  | 898310\n",
       "... (552 rows omitted)"
      ]
     },
     "execution_count": 51,
     "metadata": {},
     "output_type": "execute_result"
    }
   ],
   "source": [
    "full_data = player_data.join(\"Player\", salary_data, \"Name\")\n",
    "full_data"
   ]
  },
  {
   "cell_type": "code",
   "execution_count": 39,
   "metadata": {
    "deletable": false,
    "editable": false
   },
   "outputs": [
    {
     "name": "stdout",
     "output_type": "stream",
     "text": [
      "~~~~~~~~~~~~~~~~~~~~~~~~~~~~~~~~~~~~~~~~~~~~~~~~~~~~~~~~~~~~~~~~~~~~~\n",
      "Running tests\n",
      "\n",
      "---------------------------------------------------------------------\n",
      "Test summary\n",
      "    Passed: 3\n",
      "    Failed: 0\n",
      "[ooooooooook] 100.0% passed\n",
      "\n"
     ]
    }
   ],
   "source": [
    "ok.grade(\"q3_1\");"
   ]
  },
  {
   "cell_type": "markdown",
   "metadata": {
    "deletable": false,
    "editable": false
   },
   "source": [
    "Basketball team managers would like to hire players who perform well but don't command high salaries.  From this perspective, a very crude measure of a player's *value* to their team is the number of 3 pointers and free throws the player scored in a season for every **\\$100000 of salary** (*Note*: the `Salary` column is in dollars, not hundreds of thousands of dollars). For example, Al Horford scored an average of 5.2 points for 3 pointers and free throws combined, and has a salary of **\\$28 million.** This is equivalent to 280 thousands of dollars, so his value is $\\frac{5.2}{280}$. The formula is:\n",
    "\n",
    "$$\\frac{\\text{\"PTS\"} - 2 * \\text{\"2P\"}}{\\text{\"Salary\"}\\ / \\ 100000}$$\n",
    "\n",
    "**Question 2.** Create a table called `full_data_with_value` that's a copy of `full_data`, with an extra column called `\"Value\"` containing each player's value (according to our crude measure).  Then make a histogram of players' values.  **Specify bins that make the histogram informative and don't forget your units!** Remember that `hist()` takes in an optional third argument that allows you to specify the units! Refer to the python reference to look at `tbl.hist(...)` if necessary.\n",
    "\n",
    "*Just so you know:* Informative histograms contain a majority of the data and **exclude outliers**\n",
    "\n",
    "<!--\n",
    "BEGIN QUESTION\n",
    "name: q3_2\n",
    "manual: true\n",
    "-->\n",
    "<!-- EXPORT TO PDF -->"
   ]
  },
  {
   "cell_type": "code",
   "execution_count": 47,
   "metadata": {
    "deletable": false,
    "export_pdf": true,
    "manual_grade": true,
    "manual_problem_id": "sampling_players_2"
   },
   "outputs": [
    {
     "data": {
      "image/png": "[encoded data removed]",
      "text/plain": [
       "<Figure size 432x288 with 1 Axes>"
      ]
     },
     "metadata": {},
     "output_type": "display_data"
    }
   ],
   "source": [
    "bins = np.arange(0, 0.7, .1) # Use this provided bins when you make your histogram\n",
    "col = (full_data.column(\"PTS\") - 2 * full_data.column(\"2P\"))/(full_data.column(\"Salary\")/100000)\n",
    "full_data_with_value = full_data.with_column(\"Value\", col)\n",
    "full_data_with_value.hist('Value', bins = bins,unit=\"Points per 100000 Dollars\")"
   ]
  },
  {
   "cell_type": "markdown",
   "metadata": {},
   "source": [
    "Now suppose we weren't able to find out every player's salary (perhaps it was too costly to interview each player).  Instead, we have gathered a *simple random sample* of 50 players' salaries.  The cell below loads those data."
   ]
  },
  {
   "cell_type": "code",
   "execution_count": 48,
   "metadata": {
    "scrolled": true
   },
   "outputs": [
    {
     "data": {
      "text/html": [
       "<table border=\"1\" class=\"dataframe\">\n",
       "    <thead>\n",
       "        <tr>\n",
       "            <th>Name</th> <th>Salary</th>\n",
       "        </tr>\n",
       "    </thead>\n",
       "    <tbody>\n",
       "        <tr>\n",
       "            <td>D.J. Wilson</td> <td>2961120</td>\n",
       "        </tr>\n",
       "        <tr>\n",
       "            <td>Yante Maten</td> <td>100000 </td>\n",
       "        </tr>\n",
       "        <tr>\n",
       "            <td>Abdel Nader</td> <td>1618520</td>\n",
       "        </tr>\n",
       "    </tbody>\n",
       "</table>\n",
       "<p>... (47 rows omitted)</p>"
      ],
      "text/plain": [
       "<IPython.core.display.HTML object>"
      ]
     },
     "metadata": {},
     "output_type": "display_data"
    }
   ],
   "source": [
    "sample_salary_data = Table.read_table(\"sample_salary_data.csv\")\n",
    "sample_salary_data.show(3)"
   ]
  },
  {
   "cell_type": "markdown",
   "metadata": {
    "deletable": false,
    "editable": false
   },
   "source": [
    "**Question 3.** Make a histogram of the values of the players in `sample_salary_data`, using the same method for measuring value we used in question 2. Make sure to specify the units again in the histogram as stated in the previous problem. **Use the same bins, too.**  \n",
    "\n",
    "*Hint:* This will take several steps.\n",
    "\n",
    "<!--\n",
    "BEGIN QUESTION\n",
    "name: q3_3\n",
    "manual: true\n",
    "-->\n",
    "<!-- EXPORT TO PDF -->"
   ]
  },
  {
   "cell_type": "code",
   "execution_count": 49,
   "metadata": {
    "export_pdf": true
   },
   "outputs": [
    {
     "data": {
      "image/png": "[encoded data removed]",
      "text/plain": [
       "<Figure size 432x288 with 1 Axes>"
      ]
     },
     "metadata": {},
     "output_type": "display_data"
    }
   ],
   "source": [
    "sample_data = player_data.join('Player', sample_salary_data, 'Name')\n",
    "col2 = (sample_data.column(\"PTS\") - 2 * sample_data.column(\"2P\"))/(sample_data.column(\"Salary\")/100000)\n",
    "sample_data_with_value = sample_data.with_column(\"Value\", col2)\n",
    "sample_data_with_value.hist('Value', bins = bins,unit=\"Points per 100000 Dollars\")"
   ]
  },
  {
   "cell_type": "markdown",
   "metadata": {
    "deletable": false,
    "editable": false
   },
   "source": [
    "Now let us summarize what we have seen.  To guide you, we have written most of the summary already.\n",
    "\n",
    "**Question 4.** Complete the statements below by setting each relevant variable name to the value that correctly fills the blank.\n",
    "\n",
    "* The plot in question 2 displayed a(n) [`distribution_1`] distribution of the population of [`player_count_1`] players.  The areas of the bars in the plot sum to [`area_total_1`].\n",
    "\n",
    "* The plot in question 3 displayed a(n) [`distribution_2`] distribution of the sample of [`player_count_2`] players.  The areas of the bars in the plot sum to [`area_total_2`].\n",
    "\n",
    "`distribution_1` and `distribution_2` should be set to one of the following strings: `\"empirical\"` or `\"probability\"`. \n",
    "\n",
    "`player_count_1`, `area_total_1`, `player_count_2`, and `area_total_2` should be set to integers.\n",
    "\n",
    "Remember that areas are represented in terms of percentages.\n",
    "\n",
    "*Hint 1:* For a refresher on distribution types, check out [Section 10.1](https://www.inferentialthinking.com/chapters/10/1/empirical-distributions.html)\n",
    "\n",
    "*Hint 2:* The `hist()` table method ignores data points outside the range of its bins, but you may ignore this fact and calculate the areas of the bars using what you know about histograms from lecture.\n",
    "\n",
    "<!--\n",
    "BEGIN QUESTION\n",
    "name: q3_4\n",
    "-->"
   ]
  },
  {
   "cell_type": "code",
   "execution_count": 56,
   "metadata": {},
   "outputs": [],
   "source": [
    "distribution_1 = \"empirical\"\n",
    "player_count_1 = 562\n",
    "area_total_1 = 1000\n",
    "\n",
    "distribution_2 = \"probability\"\n",
    "player_count_2 = 50\n",
    "area_total_2 = 1000"
   ]
  },
  {
   "cell_type": "code",
   "execution_count": 57,
   "metadata": {
    "deletable": false,
    "editable": false
   },
   "outputs": [
    {
     "name": "stdout",
     "output_type": "stream",
     "text": [
      "~~~~~~~~~~~~~~~~~~~~~~~~~~~~~~~~~~~~~~~~~~~~~~~~~~~~~~~~~~~~~~~~~~~~~\n",
      "Running tests\n",
      "\n",
      "---------------------------------------------------------------------\n",
      "Test summary\n",
      "    Passed: 4\n",
      "    Failed: 0\n",
      "[ooooooooook] 100.0% passed\n",
      "\n"
     ]
    }
   ],
   "source": [
    "ok.grade(\"q3_4\");"
   ]
  },
  {
   "cell_type": "markdown",
   "metadata": {
    "deletable": false,
    "editable": false
   },
   "source": [
    "**Question 5.** For which range of values does the plot in question 3 better depict the distribution of the **population's player values**: 0 to 0.3, or above 0.3? Explain your answer. \n",
    "\n",
    "<!--\n",
    "BEGIN QUESTION\n",
    "name: q3_5\n",
    "manual: true\n",
    "-->\n",
    "<!-- EXPORT TO PDF -->"
   ]
  },
  {
   "cell_type": "markdown",
   "metadata": {
    "deletable": false,
    "export_pdf": true,
    "manual_grade": true,
    "manual_problem_id": "sampling_players_5"
   },
   "source": [
    "The sample plot depicts player value distributions more accurately for values from 0 to 0.3. As seen when comparing the histograms in Q2 and Q3, the shape of the sample histogram mirrors the shape of the full data histogram for values of players between 0 to 0.3. "
   ]
  },
  {
   "cell_type": "markdown",
   "metadata": {},
   "source": [
    "## 4. Earthquakes\n"
   ]
  },
  {
   "cell_type": "markdown",
   "metadata": {},
   "source": [
    "The next cell loads a table containing information about **every earthquake with a magnitude above 5** in 2019 (smaller earthquakes are generally not felt, only recorded by very sensitive equipment), compiled by the US Geological Survey. (source: https://earthquake.usgs.gov/earthquakes/search/)"
   ]
  },
  {
   "cell_type": "code",
   "execution_count": 61,
   "metadata": {
    "ExecuteTime": {
     "end_time": "2018-02-17T03:01:37.654915Z",
     "start_time": "2018-02-17T03:01:37.599746Z"
    }
   },
   "outputs": [
    {
     "data": {
      "text/html": [
       "<table border=\"1\" class=\"dataframe\">\n",
       "    <thead>\n",
       "        <tr>\n",
       "            <th>time</th> <th>mag</th> <th>place</th>\n",
       "        </tr>\n",
       "    </thead>\n",
       "    <tbody>\n",
       "        <tr>\n",
       "            <td>2019-12-31T11:22:49.734Z</td> <td>5   </td> <td>245km S of L'Esperance Rock, New Zealand</td>\n",
       "        </tr>\n",
       "        <tr>\n",
       "            <td>2019-12-30T17:49:59.468Z</td> <td>5   </td> <td>37km NNW of Idgah, Pakistan             </td>\n",
       "        </tr>\n",
       "        <tr>\n",
       "            <td>2019-12-30T17:18:57.350Z</td> <td>5.5 </td> <td>34km NW of Idgah, Pakistan              </td>\n",
       "        </tr>\n",
       "        <tr>\n",
       "            <td>2019-12-30T13:49:45.227Z</td> <td>5.4 </td> <td>33km NE of Bandar 'Abbas, Iran          </td>\n",
       "        </tr>\n",
       "        <tr>\n",
       "            <td>2019-12-30T04:11:09.987Z</td> <td>5.2 </td> <td>103km NE of Chichi-shima, Japan         </td>\n",
       "        </tr>\n",
       "        <tr>\n",
       "            <td>2019-12-29T18:24:41.656Z</td> <td>5.2 </td> <td>Southwest of Africa                     </td>\n",
       "        </tr>\n",
       "        <tr>\n",
       "            <td>2019-12-29T13:59:02.410Z</td> <td>5.1 </td> <td>138km SSW of Kokopo, Papua New Guinea   </td>\n",
       "        </tr>\n",
       "        <tr>\n",
       "            <td>2019-12-29T09:12:15.010Z</td> <td>5.2 </td> <td>79km S of Sarangani, Philippines        </td>\n",
       "        </tr>\n",
       "        <tr>\n",
       "            <td>2019-12-29T01:06:00.130Z</td> <td>5   </td> <td>9km S of Indios, Puerto Rico            </td>\n",
       "        </tr>\n",
       "        <tr>\n",
       "            <td>2019-12-28T22:49:15.959Z</td> <td>5.2 </td> <td>128km SSE of Raoul Island, New Zealand  </td>\n",
       "        </tr>\n",
       "    </tbody>\n",
       "</table>\n",
       "<p>... (1626 rows omitted)</p>"
      ],
      "text/plain": [
       "time                     | mag  | place\n",
       "2019-12-31T11:22:49.734Z | 5    | 245km S of L'Esperance Rock, New Zealand\n",
       "2019-12-30T17:49:59.468Z | 5    | 37km NNW of Idgah, Pakistan\n",
       "2019-12-30T17:18:57.350Z | 5.5  | 34km NW of Idgah, Pakistan\n",
       "2019-12-30T13:49:45.227Z | 5.4  | 33km NE of Bandar 'Abbas, Iran\n",
       "2019-12-30T04:11:09.987Z | 5.2  | 103km NE of Chichi-shima, Japan\n",
       "2019-12-29T18:24:41.656Z | 5.2  | Southwest of Africa\n",
       "2019-12-29T13:59:02.410Z | 5.1  | 138km SSW of Kokopo, Papua New Guinea\n",
       "2019-12-29T09:12:15.010Z | 5.2  | 79km S of Sarangani, Philippines\n",
       "2019-12-29T01:06:00.130Z | 5    | 9km S of Indios, Puerto Rico\n",
       "2019-12-28T22:49:15.959Z | 5.2  | 128km SSE of Raoul Island, New Zealand\n",
       "... (1626 rows omitted)"
      ]
     },
     "execution_count": 61,
     "metadata": {},
     "output_type": "execute_result"
    }
   ],
   "source": [
    "earthquakes = Table().read_table('earthquakes_2019.csv').select(['time', 'mag', 'place'])\n",
    "earthquakes"
   ]
  },
  {
   "cell_type": "markdown",
   "metadata": {},
   "source": [
    "If we were studying all human-detectable 2019 earthquakes and had access to the above data, we’d be in good shape - however, if the USGS didn’t publish the full data, we could still learn something about earthquakes from just a smaller subsample. If we gathered our sample correctly, we could use that subsample to get an idea about the distribution of magnitudes (above 5, of course) throughout the year!\n",
    "\n",
    "In the following lines of code, we take two different samples from the earthquake table, and calculate the mean of the magnitudes of these earthquakes."
   ]
  },
  {
   "cell_type": "code",
   "execution_count": 59,
   "metadata": {
    "deletable": false,
    "editable": false
   },
   "outputs": [
    {
     "data": {
      "text/plain": [
       "[6.458999999999999, 5.279000000000001]"
      ]
     },
     "execution_count": 59,
     "metadata": {},
     "output_type": "execute_result"
    }
   ],
   "source": [
    "sample1 = earthquakes.sort('mag', descending = True).take(np.arange(100))\n",
    "sample1_magnitude_mean = np.mean(sample1.column('mag'))\n",
    "sample2 = earthquakes.take(np.arange(100))\n",
    "sample2_magnitude_mean = np.mean(sample2.column('mag'))\n",
    "[sample1_magnitude_mean, sample2_magnitude_mean]"
   ]
  },
  {
   "cell_type": "markdown",
   "metadata": {
    "deletable": false,
    "editable": false
   },
   "source": [
    "**Question 1.**  Are these samples representative of the population of earthquakes in the original table (that is, the should we expect the mean to be close to the population mean)? \n",
    "\n",
    "*Hint:* Consider the ordering of the `earthquakes` table. \n",
    "\n",
    "<!--\n",
    "BEGIN QUESTION\n",
    "name: q4_1\n",
    "manual: true\n",
    "-->\n",
    "<!-- EXPORT TO PDF -->"
   ]
  },
  {
   "cell_type": "markdown",
   "metadata": {
    "export_pdf": true,
    "manual_problem_id": "earthquakes_1"
   },
   "source": [
    "No, these samples are not representative of the population of earthquakes. This is because sample1 takes the 100 largest magnitude earthquakes while sample2 takes the 100 smallest earthquakes. These are two extremes and the means of these samples would not reflect the mean of the actual population."
   ]
  },
  {
   "cell_type": "markdown",
   "metadata": {
    "deletable": false,
    "editable": false
   },
   "source": [
    "**Question 2.** Write code to produce a sample of size 200 that is representative of the population. Then, take the mean of the magnitudes of the earthquakes in this sample. Assign these to `representative_sample` and `representative_mean` respectively. \n",
    "\n",
    "*Hint:* In class, we learned what kind of samples should be used to properly represent the population.\n",
    "\n",
    "\n",
    "<!--\n",
    "BEGIN QUESTION\n",
    "name: q4_2\n",
    "manual: false\n",
    "-->"
   ]
  },
  {
   "cell_type": "code",
   "execution_count": 64,
   "metadata": {
    "ExecuteTime": {
     "end_time": "2018-02-17T03:01:37.677950Z",
     "start_time": "2018-02-17T03:01:37.667925Z"
    }
   },
   "outputs": [
    {
     "data": {
      "text/html": [
       "<table border=\"1\" class=\"dataframe\">\n",
       "    <thead>\n",
       "        <tr>\n",
       "            <th>time</th> <th>mag</th> <th>place</th>\n",
       "        </tr>\n",
       "    </thead>\n",
       "    <tbody>\n",
       "        <tr>\n",
       "            <td>2019-11-14T10:21:39.375Z</td> <td>5   </td> <td>6km N of Dajanrurung, Indonesia           </td>\n",
       "        </tr>\n",
       "        <tr>\n",
       "            <td>2019-07-31T09:45:28.736Z</td> <td>5.1 </td> <td>112km E of Ust'-Kamchatsk Staryy, Russia  </td>\n",
       "        </tr>\n",
       "        <tr>\n",
       "            <td>2019-06-24T11:34:08.913Z</td> <td>5.9 </td> <td>165km ENE of L'Esperance Rock, New Zealand</td>\n",
       "        </tr>\n",
       "    </tbody>\n",
       "</table>\n",
       "<p>... (197 rows omitted)</p>"
      ],
      "text/plain": [
       "<IPython.core.display.HTML object>"
      ]
     },
     "metadata": {},
     "output_type": "display_data"
    },
    {
     "data": {
      "text/plain": [
       "5.3276"
      ]
     },
     "execution_count": 64,
     "metadata": {},
     "output_type": "execute_result"
    }
   ],
   "source": [
    "representative_sample = earthquakes.take([np.random.choice(1636) for x in np.arange(200)])\n",
    "representative_mean = np.mean(representative_sample.column('mag'))\n",
    "representative_mean"
   ]
  },
  {
   "cell_type": "code",
   "execution_count": 63,
   "metadata": {
    "deletable": false,
    "editable": false
   },
   "outputs": [
    {
     "name": "stdout",
     "output_type": "stream",
     "text": [
      "~~~~~~~~~~~~~~~~~~~~~~~~~~~~~~~~~~~~~~~~~~~~~~~~~~~~~~~~~~~~~~~~~~~~~\n",
      "Running tests\n",
      "\n",
      "---------------------------------------------------------------------\n",
      "Test summary\n",
      "    Passed: 3\n",
      "    Failed: 0\n",
      "[ooooooooook] 100.0% passed\n",
      "\n"
     ]
    }
   ],
   "source": [
    "ok.grade(\"q4_2\");"
   ]
  },
  {
   "cell_type": "markdown",
   "metadata": {
    "deletable": false,
    "editable": false
   },
   "source": [
    "**Question 3.** Suppose we want to figure out what the biggest magnitude earthquake was in 2019, but we only have our representative sample of 200. Let’s see if trying to find the biggest magnitude in the population from a random sample of 200 is a reasonable idea!\n",
    "\n",
    "Write code that takes many random samples from the `earthquakes` table and finds the maximum of each sample. You should take a random sample of size 200 and do this 5000 times. Assign the array of maximum magnitudes you find to `maximums`.\n",
    "\n",
    "<!--\n",
    "BEGIN QUESTION\n",
    "name: q4_3\n",
    "manual: false\n",
    "-->"
   ]
  },
  {
   "cell_type": "code",
   "execution_count": 70,
   "metadata": {
    "ExecuteTime": {
     "end_time": "2018-02-17T03:01:44.666538Z",
     "start_time": "2018-02-17T03:01:37.708032Z"
    }
   },
   "outputs": [],
   "source": [
    "maximums = []\n",
    "for i in np.arange(5000): \n",
    "    representative_sample = earthquakes.take([np.random.choice(1636) for x in np.arange(200)])\n",
    "    macks = max(representative_sample.column('mag'))\n",
    "    maximums.append(macks)"
   ]
  },
  {
   "cell_type": "code",
   "execution_count": 71,
   "metadata": {
    "deletable": false,
    "editable": false
   },
   "outputs": [
    {
     "name": "stdout",
     "output_type": "stream",
     "text": [
      "~~~~~~~~~~~~~~~~~~~~~~~~~~~~~~~~~~~~~~~~~~~~~~~~~~~~~~~~~~~~~~~~~~~~~\n",
      "Running tests\n",
      "\n",
      "---------------------------------------------------------------------\n",
      "Test summary\n",
      "    Passed: 3\n",
      "    Failed: 0\n",
      "[ooooooooook] 100.0% passed\n",
      "\n"
     ]
    }
   ],
   "source": [
    "ok.grade(\"q4_3\");"
   ]
  },
  {
   "cell_type": "code",
   "execution_count": 72,
   "metadata": {},
   "outputs": [
    {
     "data": {
      "image/png": "[encoded data removed]",
      "text/plain": [
       "<Figure size 432x288 with 1 Axes>"
      ]
     },
     "metadata": {},
     "output_type": "display_data"
    }
   ],
   "source": [
    "#Histogram of your maximums\n",
    "Table().with_column('Largest magnitude in sample', maximums).hist('Largest magnitude in sample') "
   ]
  },
  {
   "cell_type": "markdown",
   "metadata": {
    "deletable": false,
    "editable": false
   },
   "source": [
    "**Question 4.** Now find the magnitude of the actual strongest earthquake in 2019 (not the maximum of a sample). This will help us determine whether a random sample of size 200 is likely to help you determine the largest magnitude earthquake in the population.\n",
    "\n",
    "<!--\n",
    "BEGIN QUESTION\n",
    "name: q4_4\n",
    "manual: false\n",
    "-->"
   ]
  },
  {
   "cell_type": "code",
   "execution_count": 73,
   "metadata": {
    "ExecuteTime": {
     "end_time": "2018-02-17T03:01:44.696619Z",
     "start_time": "2018-02-17T03:01:44.689602Z"
    },
    "deletable": false
   },
   "outputs": [
    {
     "data": {
      "text/plain": [
       "8.0"
      ]
     },
     "execution_count": 73,
     "metadata": {},
     "output_type": "execute_result"
    }
   ],
   "source": [
    "strongest_earthquake_magnitude = np.max(earthquakes.column(\"mag\"))\n",
    "strongest_earthquake_magnitude"
   ]
  },
  {
   "cell_type": "code",
   "execution_count": 74,
   "metadata": {
    "deletable": false,
    "editable": false
   },
   "outputs": [
    {
     "name": "stdout",
     "output_type": "stream",
     "text": [
      "~~~~~~~~~~~~~~~~~~~~~~~~~~~~~~~~~~~~~~~~~~~~~~~~~~~~~~~~~~~~~~~~~~~~~\n",
      "Running tests\n",
      "\n",
      "---------------------------------------------------------------------\n",
      "Test summary\n",
      "    Passed: 1\n",
      "    Failed: 0\n",
      "[ooooooooook] 100.0% passed\n",
      "\n"
     ]
    }
   ],
   "source": [
    "ok.grade(\"q4_4\");"
   ]
  },
  {
   "cell_type": "markdown",
   "metadata": {
    "deletable": false,
    "editable": false
   },
   "source": [
    "**Question 5.** \n",
    "Explain whether you believe you can accurately use a sample size of 200 to determine the maximum. What is one problem with using the maximum as your estimator? Use the histogram above to help answer. \n",
    "\n",
    "<!--\n",
    "BEGIN QUESTION\n",
    "name: q4_5\n",
    "manual: true\n",
    "-->\n",
    "<!-- EXPORT TO PDF -->"
   ]
  },
  {
   "cell_type": "markdown",
   "metadata": {
    "deletable": false,
    "export_pdf": true,
    "manual_problem_id": "earthquakes_4"
   },
   "source": [
    "I do not think using a sample size of 200 to determine the maximum is accurate. Using the maximum, which is 8.0, as our estimator does not accurately describe most of our samples; most earthquakes have a magnitude between 7.00 and 7.50. Using a sample size of 200 will rarely yield 8.0 as the maximum, so it is inaccurate to use 200 as the sample size."
   ]
  },
  {
   "cell_type": "markdown",
   "metadata": {},
   "source": [
    "## 5. Assessing Jade's Models\n",
    "#### Games with Jade"
   ]
  },
  {
   "cell_type": "markdown",
   "metadata": {},
   "source": [
    "Our friend Jade comes over and asks us to play a game with her. The game works like this: \n",
    "\n",
    "> We will draw randomly with replacement from a simplified 13 card deck with 4 face cards (A, J, Q, K), and 9 numbered cards (2, 3, 4, 5, 6, 7, 8, 9, 10). If we draw cards with replacement 13 times, and if the number of face cards is greater than or equal to 4, we lose.\n",
    "> \n",
    "> Otherwise, Jade wins.\n",
    "\n",
    "We play the game once and we lose, observing 8 total face cards. We are angry and accuse Jade of cheating! Jade is adamant, however, that the deck is fair.\n",
    "\n",
    "Jade's model claims that there is an equal chance of getting any of the cards (A, 2, 3, 4, 5, 6, 7, 8, 9, 10, J, Q, K), but we do not believe her. We believe that the deck is clearly rigged, with face cards (A, J, Q, K) being more likely than the numbered cards (2, 3, 4, 5, 6, 7, 8, 9, 10)."
   ]
  },
  {
   "cell_type": "markdown",
   "metadata": {
    "deletable": false,
    "editable": false
   },
   "source": [
    "#### Question 1\n",
    "Assign `deck_model_probabilities` to a two-item array containing the chance of drawing a face card as the first element, and the chance of drawing a numbered card as the second element under Jade's model. Since we're working with probabilities, make sure your values are between 0 and 1. \n",
    "\n",
    "<!--\n",
    "BEGIN QUESTION\n",
    "name: q5_1\n",
    "manual: false\n",
    "-->"
   ]
  },
  {
   "cell_type": "code",
   "execution_count": 76,
   "metadata": {},
   "outputs": [
    {
     "data": {
      "text/plain": [
       "array([0.30769231, 0.69230769])"
      ]
     },
     "execution_count": 76,
     "metadata": {},
     "output_type": "execute_result"
    }
   ],
   "source": [
    "deck_model_probabilities = make_array(4/13, 9/13)\n",
    "deck_model_probabilities"
   ]
  },
  {
   "cell_type": "code",
   "execution_count": 77,
   "metadata": {
    "deletable": false,
    "editable": false
   },
   "outputs": [
    {
     "name": "stdout",
     "output_type": "stream",
     "text": [
      "~~~~~~~~~~~~~~~~~~~~~~~~~~~~~~~~~~~~~~~~~~~~~~~~~~~~~~~~~~~~~~~~~~~~~\n",
      "Running tests\n",
      "\n",
      "---------------------------------------------------------------------\n",
      "Test summary\n",
      "    Passed: 2\n",
      "    Failed: 0\n",
      "[ooooooooook] 100.0% passed\n",
      "\n"
     ]
    }
   ],
   "source": [
    "ok.grade(\"q5_1\");"
   ]
  },
  {
   "cell_type": "markdown",
   "metadata": {
    "deletable": false,
    "editable": false
   },
   "source": [
    "**Question 2**\n",
    "\n",
    "We believe Jade's model is incorrect. In particular, we believe there to be a  larger chance of getting a face card. Which of the following statistics can we use during our simulation to test between the model and our alternative? Assign `statistic_choice` to the correct answer. \n",
    "\n",
    "1. The actual number of face cards we get in 13 draws\n",
    "2. The distance (absolute value) between the actual number of face cards in 13 draws and the expected number of face cards in 13 draws (4)\n",
    "3. The expected number of face cards in 13 draws (4)\n",
    "\n",
    "\n",
    "<!--\n",
    "BEGIN QUESTION\n",
    "name: q5_2\n",
    "manual: false\n",
    "-->"
   ]
  },
  {
   "cell_type": "code",
   "execution_count": 78,
   "metadata": {},
   "outputs": [
    {
     "data": {
      "text/plain": [
       "1"
      ]
     },
     "execution_count": 78,
     "metadata": {},
     "output_type": "execute_result"
    }
   ],
   "source": [
    "statistic_choice = 1\n",
    "statistic_choice"
   ]
  },
  {
   "cell_type": "code",
   "execution_count": 79,
   "metadata": {
    "deletable": false,
    "editable": false
   },
   "outputs": [
    {
     "name": "stdout",
     "output_type": "stream",
     "text": [
      "~~~~~~~~~~~~~~~~~~~~~~~~~~~~~~~~~~~~~~~~~~~~~~~~~~~~~~~~~~~~~~~~~~~~~\n",
      "Running tests\n",
      "\n",
      "---------------------------------------------------------------------\n",
      "Test summary\n",
      "    Passed: 1\n",
      "    Failed: 0\n",
      "[ooooooooook] 100.0% passed\n",
      "\n"
     ]
    }
   ],
   "source": [
    "ok.grade(\"q5_2\");"
   ]
  },
  {
   "cell_type": "markdown",
   "metadata": {
    "deletable": false,
    "editable": false
   },
   "source": [
    "#### Question 3\n",
    "\n",
    "Define the function `deck_simulation_and_statistic`, which, given a sample size and an array of model proportions (like the one you created in Question 1), returns the number of face cards in one simulation of drawing a card under the model specified in `model_proportions`. \n",
    "\n",
    "*Hint:* Think about how you can use the function `sample_proportions`. \n",
    "\n",
    "<!--\n",
    "BEGIN QUESTION\n",
    "name: q5_3\n",
    "manual: false\n",
    "-->"
   ]
  },
  {
   "cell_type": "code",
   "execution_count": 84,
   "metadata": {},
   "outputs": [
    {
     "data": {
      "text/plain": [
       "5.0"
      ]
     },
     "execution_count": 84,
     "metadata": {},
     "output_type": "execute_result"
    }
   ],
   "source": [
    "def deck_simulation_and_statistic(sample_size, model_proportions):\n",
    "    return (sample_size * sample_proportions(sample_size, model_proportions).item(0))\n",
    "deck_simulation_and_statistic(13, deck_model_probabilities)"
   ]
  },
  {
   "cell_type": "code",
   "execution_count": 85,
   "metadata": {
    "deletable": false,
    "editable": false
   },
   "outputs": [
    {
     "name": "stdout",
     "output_type": "stream",
     "text": [
      "~~~~~~~~~~~~~~~~~~~~~~~~~~~~~~~~~~~~~~~~~~~~~~~~~~~~~~~~~~~~~~~~~~~~~\n",
      "Running tests\n",
      "\n",
      "---------------------------------------------------------------------\n",
      "Test summary\n",
      "    Passed: 1\n",
      "    Failed: 0\n",
      "[ooooooooook] 100.0% passed\n",
      "\n"
     ]
    }
   ],
   "source": [
    "ok.grade(\"q5_3\");"
   ]
  },
  {
   "cell_type": "markdown",
   "metadata": {
    "deletable": false,
    "editable": false
   },
   "source": [
    "**Question 4** \n",
    "\n",
    "Use your function from above to simulate the drawing of 13 cards 5000 times under the proportions that you specified in Question 1. Keep track of all of your statistics in `deck_statistics`. \n",
    "\n",
    "<!--\n",
    "BEGIN QUESTION\n",
    "name: q5_4\n",
    "manual: false\n",
    "-->"
   ]
  },
  {
   "cell_type": "code",
   "execution_count": 86,
   "metadata": {},
   "outputs": [
    {
     "data": {
      "text/plain": [
       "[1.0,\n",
       " 4.0,\n",
       " 6.0,\n",
       " 3.0,\n",
       " 4.0,\n",
       " 4.0,\n",
       " 4.0,\n",
       " 3.0,\n",
       " 3.0,\n",
       " 5.0,\n",
       " 4.0,\n",
       " 5.0,\n",
       " 2.0,\n",
       " 4.0,\n",
       " 3.0,\n",
       " 3.0,\n",
       " 6.0,\n",
       " 4.0,\n",
       " 5.0,\n",
       " 3.0,\n",
       " 5.0,\n",
       " 7.0,\n",
       " 3.0,\n",
       " 1.0,\n",
       " 6.0,\n",
       " 3.0,\n",
       " 4.0,\n",
       " 5.0,\n",
       " 3.0,\n",
       " 6.0,\n",
       " 5.0,\n",
       " 1.0,\n",
       " 0.0,\n",
       " 1.0,\n",
       " 3.0,\n",
       " 5.0,\n",
       " 3.0,\n",
       " 5.0,\n",
       " 4.0,\n",
       " 6.0,\n",
       " 4.0,\n",
       " 2.0,\n",
       " 5.0,\n",
       " 1.0,\n",
       " 2.0,\n",
       " 8.0,\n",
       " 4.0,\n",
       " 3.0,\n",
       " 5.0,\n",
       " 5.0,\n",
       " 6.0,\n",
       " 5.0,\n",
       " 3.0,\n",
       " 3.0,\n",
       " 4.0,\n",
       " 5.0,\n",
       " 1.0,\n",
       " 3.0,\n",
       " 5.0,\n",
       " 5.0,\n",
       " 4.0,\n",
       " 4.0,\n",
       " 3.0,\n",
       " 5.0,\n",
       " 3.0,\n",
       " 5.0,\n",
       " 3.0,\n",
       " 6.0,\n",
       " 5.0,\n",
       " 2.0,\n",
       " 2.0,\n",
       " 2.0,\n",
       " 3.0,\n",
       " 6.0,\n",
       " 4.0,\n",
       " 4.0,\n",
       " 3.0,\n",
       " 4.0,\n",
       " 4.0,\n",
       " 5.0,\n",
       " 3.0,\n",
       " 7.0,\n",
       " 5.0,\n",
       " 5.0,\n",
       " 2.0,\n",
       " 7.0,\n",
       " 4.0,\n",
       " 2.0,\n",
       " 5.0,\n",
       " 3.0,\n",
       " 4.0,\n",
       " 5.0,\n",
       " 4.0,\n",
       " 5.0,\n",
       " 1.0,\n",
       " 6.0,\n",
       " 5.0,\n",
       " 4.0,\n",
       " 8.0,\n",
       " 6.0,\n",
       " 3.0,\n",
       " 1.0,\n",
       " 6.0,\n",
       " 3.0,\n",
       " 5.0,\n",
       " 4.0,\n",
       " 2.0,\n",
       " 3.0,\n",
       " 4.0,\n",
       " 0.0,\n",
       " 5.0,\n",
       " 5.0,\n",
       " 6.0,\n",
       " 2.0,\n",
       " 2.0,\n",
       " 2.0,\n",
       " 3.0,\n",
       " 4.0,\n",
       " 6.0,\n",
       " 3.0,\n",
       " 4.0,\n",
       " 4.0,\n",
       " 2.0,\n",
       " 2.0,\n",
       " 2.0,\n",
       " 3.0,\n",
       " 6.0,\n",
       " 2.0,\n",
       " 6.0,\n",
       " 2.0,\n",
       " 0.0,\n",
       " 4.0,\n",
       " 7.0,\n",
       " 5.0,\n",
       " 3.0,\n",
       " 5.0,\n",
       " 1.0,\n",
       " 3.0,\n",
       " 5.0,\n",
       " 5.0,\n",
       " 2.0,\n",
       " 4.0,\n",
       " 5.0,\n",
       " 4.0,\n",
       " 4.0,\n",
       " 5.0,\n",
       " 4.0,\n",
       " 3.0,\n",
       " 3.0,\n",
       " 5.0,\n",
       " 6.0,\n",
       " 5.0,\n",
       " 4.0,\n",
       " 1.0,\n",
       " 4.0,\n",
       " 3.0,\n",
       " 2.0,\n",
       " 3.0,\n",
       " 2.0,\n",
       " 7.0,\n",
       " 5.0,\n",
       " 3.0,\n",
       " 5.0,\n",
       " 3.0,\n",
       " 5.0,\n",
       " 4.0,\n",
       " 2.0,\n",
       " 4.0,\n",
       " 6.0,\n",
       " 5.0,\n",
       " 4.0,\n",
       " 5.0,\n",
       " 6.0,\n",
       " 1.0,\n",
       " 2.0,\n",
       " 3.0,\n",
       " 4.0,\n",
       " 4.0,\n",
       " 4.0,\n",
       " 6.0,\n",
       " 3.0,\n",
       " 5.0,\n",
       " 7.0,\n",
       " 3.0,\n",
       " 4.0,\n",
       " 1.0,\n",
       " 7.0,\n",
       " 7.0,\n",
       " 4.0,\n",
       " 4.0,\n",
       " 6.0,\n",
       " 5.0,\n",
       " 4.0,\n",
       " 6.0,\n",
       " 4.0,\n",
       " 2.0,\n",
       " 5.0,\n",
       " 3.0,\n",
       " 4.0,\n",
       " 1.0,\n",
       " 6.0,\n",
       " 3.0,\n",
       " 1.0,\n",
       " 7.0,\n",
       " 5.0,\n",
       " 3.0,\n",
       " 4.0,\n",
       " 7.0,\n",
       " 3.0,\n",
       " 6.0,\n",
       " 5.0,\n",
       " 1.0,\n",
       " 1.0,\n",
       " 3.0,\n",
       " 5.0,\n",
       " 5.0,\n",
       " 5.0,\n",
       " 5.0,\n",
       " 4.0,\n",
       " 3.0,\n",
       " 6.0,\n",
       " 4.0,\n",
       " 3.0,\n",
       " 3.0,\n",
       " 1.0,\n",
       " 3.0,\n",
       " 4.0,\n",
       " 4.0,\n",
       " 1.0,\n",
       " 3.0,\n",
       " 3.0,\n",
       " 3.0,\n",
       " 2.0,\n",
       " 6.0,\n",
       " 6.0,\n",
       " 5.0,\n",
       " 8.0,\n",
       " 4.0,\n",
       " 5.0,\n",
       " 8.0,\n",
       " 5.0,\n",
       " 3.0,\n",
       " 6.0,\n",
       " 5.0,\n",
       " 5.0,\n",
       " 4.0,\n",
       " 2.0,\n",
       " 5.0,\n",
       " 3.0,\n",
       " 7.0,\n",
       " 3.0,\n",
       " 6.0,\n",
       " 1.0,\n",
       " 3.0,\n",
       " 3.0,\n",
       " 2.0,\n",
       " 6.0,\n",
       " 4.0,\n",
       " 4.0,\n",
       " 4.0,\n",
       " 2.0,\n",
       " 3.0,\n",
       " 7.0,\n",
       " 1.0,\n",
       " 5.0,\n",
       " 2.0,\n",
       " 2.0,\n",
       " 4.0,\n",
       " 3.0,\n",
       " 7.0,\n",
       " 3.0,\n",
       " 0.0,\n",
       " 4.0,\n",
       " 1.0,\n",
       " 2.0,\n",
       " 5.0,\n",
       " 3.0,\n",
       " 7.0,\n",
       " 4.0,\n",
       " 4.0,\n",
       " 2.0,\n",
       " 0.0,\n",
       " 7.0,\n",
       " 2.0,\n",
       " 4.0,\n",
       " 2.0,\n",
       " 4.0,\n",
       " 1.0,\n",
       " 2.0,\n",
       " 3.0,\n",
       " 3.0,\n",
       " 3.0,\n",
       " 6.0,\n",
       " 6.0,\n",
       " 6.0,\n",
       " 7.0,\n",
       " 3.0,\n",
       " 3.0,\n",
       " 4.0,\n",
       " 3.0,\n",
       " 4.0,\n",
       " 3.0,\n",
       " 3.0,\n",
       " 2.0,\n",
       " 4.0,\n",
       " 5.0,\n",
       " 3.0,\n",
       " 4.0,\n",
       " 2.0,\n",
       " 2.0,\n",
       " 4.0,\n",
       " 1.0,\n",
       " 2.0,\n",
       " 4.0,\n",
       " 4.0,\n",
       " 3.0,\n",
       " 4.0,\n",
       " 6.0,\n",
       " 4.0,\n",
       " 3.0,\n",
       " 5.0,\n",
       " 5.0,\n",
       " 1.0,\n",
       " 4.0,\n",
       " 2.0,\n",
       " 4.0,\n",
       " 3.0,\n",
       " 3.0,\n",
       " 4.0,\n",
       " 4.0,\n",
       " 4.0,\n",
       " 2.0,\n",
       " 4.0,\n",
       " 0.0,\n",
       " 7.0,\n",
       " 2.0,\n",
       " 4.0,\n",
       " 5.0,\n",
       " 4.0,\n",
       " 5.0,\n",
       " 3.0,\n",
       " 4.0,\n",
       " 4.0,\n",
       " 6.0,\n",
       " 4.0,\n",
       " 3.0,\n",
       " 5.0,\n",
       " 7.0,\n",
       " 6.0,\n",
       " 3.0,\n",
       " 4.0,\n",
       " 4.0,\n",
       " 5.0,\n",
       " 1.0,\n",
       " 6.0,\n",
       " 4.0,\n",
       " 4.0,\n",
       " 7.0,\n",
       " 2.0,\n",
       " 3.0,\n",
       " 5.0,\n",
       " 2.0,\n",
       " 4.0,\n",
       " 9.0,\n",
       " 4.0,\n",
       " 5.0,\n",
       " 5.0,\n",
       " 5.0,\n",
       " 5.0,\n",
       " 4.0,\n",
       " 6.0,\n",
       " 1.0,\n",
       " 5.0,\n",
       " 5.0,\n",
       " 4.0,\n",
       " 4.0,\n",
       " 4.0,\n",
       " 2.0,\n",
       " 2.0,\n",
       " 6.0,\n",
       " 2.0,\n",
       " 3.0,\n",
       " 3.0,\n",
       " 5.0,\n",
       " 4.0,\n",
       " 4.0,\n",
       " 6.0,\n",
       " 6.0,\n",
       " 4.0,\n",
       " 3.0,\n",
       " 3.0,\n",
       " 3.0,\n",
       " 2.0,\n",
       " 1.0,\n",
       " 8.0,\n",
       " 6.0,\n",
       " 5.0,\n",
       " 3.0,\n",
       " 2.0,\n",
       " 4.0,\n",
       " 2.0,\n",
       " 3.0,\n",
       " 5.0,\n",
       " 4.0,\n",
       " 4.0,\n",
       " 5.0,\n",
       " 3.0,\n",
       " 7.0,\n",
       " 4.0,\n",
       " 4.0,\n",
       " 5.0,\n",
       " 5.0,\n",
       " 5.0,\n",
       " 3.0,\n",
       " 5.0,\n",
       " 3.0,\n",
       " 3.0,\n",
       " 6.0,\n",
       " 2.0,\n",
       " 4.0,\n",
       " 4.0,\n",
       " 0.0,\n",
       " 2.0,\n",
       " 5.0,\n",
       " 4.0,\n",
       " 5.0,\n",
       " 4.0,\n",
       " 4.0,\n",
       " 5.0,\n",
       " 5.0,\n",
       " 6.0,\n",
       " 3.0,\n",
       " 2.0,\n",
       " 4.0,\n",
       " 1.0,\n",
       " 2.0,\n",
       " 3.0,\n",
       " 2.0,\n",
       " 6.0,\n",
       " 7.0,\n",
       " 1.0,\n",
       " 5.0,\n",
       " 3.0,\n",
       " 4.0,\n",
       " 3.0,\n",
       " 5.0,\n",
       " 4.0,\n",
       " 4.0,\n",
       " 3.0,\n",
       " 3.0,\n",
       " 3.0,\n",
       " 7.0,\n",
       " 7.0,\n",
       " 4.0,\n",
       " 2.0,\n",
       " 2.0,\n",
       " 3.0,\n",
       " 5.0,\n",
       " 3.0,\n",
       " 5.0,\n",
       " 5.0,\n",
       " 4.0,\n",
       " 3.0,\n",
       " 4.0,\n",
       " 4.0,\n",
       " 2.0,\n",
       " 4.0,\n",
       " 2.0,\n",
       " 2.0,\n",
       " 6.0,\n",
       " 4.0,\n",
       " 4.0,\n",
       " 4.0,\n",
       " 4.0,\n",
       " 2.0,\n",
       " 3.0,\n",
       " 4.0,\n",
       " 4.0,\n",
       " 7.0,\n",
       " 2.0,\n",
       " 7.0,\n",
       " 4.0,\n",
       " 2.0,\n",
       " 5.0,\n",
       " 7.0,\n",
       " 2.0,\n",
       " 7.0,\n",
       " 6.0,\n",
       " 6.0,\n",
       " 3.0,\n",
       " 5.0,\n",
       " 2.0,\n",
       " 6.0,\n",
       " 3.0,\n",
       " 5.0,\n",
       " 5.0,\n",
       " 6.0,\n",
       " 5.0,\n",
       " 2.0,\n",
       " 2.0,\n",
       " 2.0,\n",
       " 7.0,\n",
       " 5.0,\n",
       " 4.0,\n",
       " 7.0,\n",
       " 4.0,\n",
       " 2.0,\n",
       " 3.0,\n",
       " 8.0,\n",
       " 3.0,\n",
       " 3.0,\n",
       " 6.0,\n",
       " 4.0,\n",
       " 3.0,\n",
       " 5.0,\n",
       " 4.0,\n",
       " 5.0,\n",
       " 8.0,\n",
       " 3.0,\n",
       " 4.0,\n",
       " 5.0,\n",
       " 4.0,\n",
       " 5.0,\n",
       " 2.0,\n",
       " 4.0,\n",
       " 5.0,\n",
       " 8.0,\n",
       " 4.0,\n",
       " 5.0,\n",
       " 3.0,\n",
       " 6.0,\n",
       " 8.0,\n",
       " 7.0,\n",
       " 4.0,\n",
       " 8.0,\n",
       " 3.0,\n",
       " 1.0,\n",
       " 1.0,\n",
       " 5.0,\n",
       " 4.0,\n",
       " 5.0,\n",
       " 4.0,\n",
       " 4.0,\n",
       " 4.0,\n",
       " 2.0,\n",
       " 4.0,\n",
       " 7.0,\n",
       " 8.0,\n",
       " 7.0,\n",
       " 4.0,\n",
       " 6.0,\n",
       " 2.0,\n",
       " 4.0,\n",
       " 6.0,\n",
       " 4.0,\n",
       " 6.0,\n",
       " 4.0,\n",
       " 5.0,\n",
       " 3.0,\n",
       " 1.0,\n",
       " 7.0,\n",
       " 5.0,\n",
       " 7.0,\n",
       " 3.0,\n",
       " 6.0,\n",
       " 4.0,\n",
       " 4.0,\n",
       " 5.0,\n",
       " 5.0,\n",
       " 3.0,\n",
       " 2.0,\n",
       " 3.0,\n",
       " 7.0,\n",
       " 4.0,\n",
       " 2.0,\n",
       " 6.0,\n",
       " 2.0,\n",
       " 2.0,\n",
       " 7.0,\n",
       " 4.0,\n",
       " 7.0,\n",
       " 4.0,\n",
       " 4.0,\n",
       " 3.0,\n",
       " 3.0,\n",
       " 4.0,\n",
       " 4.0,\n",
       " 6.0,\n",
       " 3.0,\n",
       " 4.0,\n",
       " 4.0,\n",
       " 3.0,\n",
       " 3.0,\n",
       " 2.0,\n",
       " 4.0,\n",
       " 0.0,\n",
       " 6.0,\n",
       " 5.0,\n",
       " 4.0,\n",
       " 5.0,\n",
       " 3.0,\n",
       " 5.0,\n",
       " 4.0,\n",
       " 4.0,\n",
       " 4.0,\n",
       " 6.0,\n",
       " 5.0,\n",
       " 2.0,\n",
       " 3.0,\n",
       " 4.0,\n",
       " 5.0,\n",
       " 4.0,\n",
       " 7.0,\n",
       " 4.0,\n",
       " 6.0,\n",
       " 2.0,\n",
       " 4.0,\n",
       " 7.0,\n",
       " 2.0,\n",
       " 5.0,\n",
       " 4.0,\n",
       " 5.0,\n",
       " 3.0,\n",
       " 6.0,\n",
       " 5.0,\n",
       " 6.0,\n",
       " 5.0,\n",
       " 3.0,\n",
       " 3.0,\n",
       " 6.0,\n",
       " 5.0,\n",
       " 4.0,\n",
       " 3.0,\n",
       " 5.0,\n",
       " 3.0,\n",
       " 4.0,\n",
       " 3.0,\n",
       " 5.0,\n",
       " 2.0,\n",
       " 3.0,\n",
       " 1.0,\n",
       " 3.0,\n",
       " 6.0,\n",
       " 4.0,\n",
       " 5.0,\n",
       " 4.0,\n",
       " 2.0,\n",
       " 5.0,\n",
       " 6.0,\n",
       " 2.0,\n",
       " 5.0,\n",
       " 2.0,\n",
       " 5.0,\n",
       " 8.0,\n",
       " 4.0,\n",
       " 5.0,\n",
       " 3.0,\n",
       " 4.0,\n",
       " 3.0,\n",
       " 4.0,\n",
       " 6.0,\n",
       " 3.0,\n",
       " 6.0,\n",
       " 6.0,\n",
       " 5.0,\n",
       " 3.0,\n",
       " 3.0,\n",
       " 3.0,\n",
       " 2.0,\n",
       " 3.0,\n",
       " 6.0,\n",
       " 0.0,\n",
       " 7.0,\n",
       " 3.0,\n",
       " 5.0,\n",
       " 5.0,\n",
       " 5.0,\n",
       " 4.0,\n",
       " 1.0,\n",
       " 1.0,\n",
       " 6.0,\n",
       " 4.0,\n",
       " 5.0,\n",
       " 2.0,\n",
       " 4.0,\n",
       " 5.0,\n",
       " 2.0,\n",
       " 6.0,\n",
       " 6.0,\n",
       " 5.0,\n",
       " 6.0,\n",
       " 5.0,\n",
       " 5.0,\n",
       " 4.0,\n",
       " 5.0,\n",
       " 2.0,\n",
       " 6.0,\n",
       " 4.0,\n",
       " 4.0,\n",
       " 4.0,\n",
       " 4.0,\n",
       " 1.0,\n",
       " 1.0,\n",
       " 5.0,\n",
       " 2.0,\n",
       " 1.0,\n",
       " 6.0,\n",
       " 4.0,\n",
       " 3.0,\n",
       " 5.0,\n",
       " 4.0,\n",
       " 4.0,\n",
       " 4.0,\n",
       " 6.0,\n",
       " 6.0,\n",
       " 4.0,\n",
       " 4.0,\n",
       " 2.0,\n",
       " 2.0,\n",
       " 6.0,\n",
       " 7.0,\n",
       " 3.0,\n",
       " 7.0,\n",
       " 1.0,\n",
       " 3.0,\n",
       " 3.0,\n",
       " 4.0,\n",
       " 7.0,\n",
       " 5.0,\n",
       " 7.0,\n",
       " 4.0,\n",
       " 4.0,\n",
       " 6.0,\n",
       " 4.0,\n",
       " 6.0,\n",
       " 3.0,\n",
       " 4.0,\n",
       " 7.0,\n",
       " 4.0,\n",
       " 4.0,\n",
       " 4.0,\n",
       " 2.0,\n",
       " 1.0,\n",
       " 6.0,\n",
       " 3.0,\n",
       " 5.0,\n",
       " 0.0,\n",
       " 4.0,\n",
       " 2.0,\n",
       " 5.0,\n",
       " 5.0,\n",
       " 1.0,\n",
       " 3.0,\n",
       " 2.0,\n",
       " 4.0,\n",
       " 2.0,\n",
       " 1.0,\n",
       " 4.0,\n",
       " 6.0,\n",
       " 4.0,\n",
       " 8.0,\n",
       " 7.0,\n",
       " 6.0,\n",
       " 3.0,\n",
       " 4.0,\n",
       " 5.0,\n",
       " 3.0,\n",
       " 4.0,\n",
       " 3.0,\n",
       " 7.0,\n",
       " 4.0,\n",
       " 5.0,\n",
       " 3.0,\n",
       " 2.0,\n",
       " 4.0,\n",
       " 2.0,\n",
       " 6.0,\n",
       " 6.0,\n",
       " 3.0,\n",
       " 2.0,\n",
       " 4.0,\n",
       " 6.0,\n",
       " 4.0,\n",
       " 7.0,\n",
       " 4.0,\n",
       " 4.0,\n",
       " 2.0,\n",
       " 5.0,\n",
       " 7.0,\n",
       " 3.0,\n",
       " 2.0,\n",
       " 2.0,\n",
       " 3.0,\n",
       " 4.0,\n",
       " 4.0,\n",
       " 5.0,\n",
       " 6.0,\n",
       " 2.0,\n",
       " 5.0,\n",
       " 7.0,\n",
       " 4.0,\n",
       " 1.0,\n",
       " 6.0,\n",
       " 4.0,\n",
       " 3.0,\n",
       " 1.0,\n",
       " 8.0,\n",
       " 5.0,\n",
       " 5.0,\n",
       " 4.0,\n",
       " 3.0,\n",
       " 4.0,\n",
       " 5.0,\n",
       " 4.0,\n",
       " 4.0,\n",
       " 4.0,\n",
       " 3.0,\n",
       " 4.0,\n",
       " 3.0,\n",
       " 4.0,\n",
       " 1.0,\n",
       " 4.0,\n",
       " 3.0,\n",
       " 7.0,\n",
       " 2.0,\n",
       " 6.0,\n",
       " 5.0,\n",
       " 6.0,\n",
       " 5.0,\n",
       " 3.0,\n",
       " 2.0,\n",
       " 5.0,\n",
       " 4.0,\n",
       " 4.0,\n",
       " 2.0,\n",
       " 6.0,\n",
       " 3.0,\n",
       " 4.0,\n",
       " 4.0,\n",
       " 0.0,\n",
       " 2.0,\n",
       " 4.0,\n",
       " 3.0,\n",
       " 3.0,\n",
       " 5.0,\n",
       " 5.0,\n",
       " 3.0,\n",
       " 3.0,\n",
       " 8.0,\n",
       " 2.0,\n",
       " 5.0,\n",
       " 4.0,\n",
       " 4.0,\n",
       " 3.0,\n",
       " 2.0,\n",
       " 7.0,\n",
       " 6.0,\n",
       " 5.0,\n",
       " 1.0,\n",
       " 7.0,\n",
       " 3.0,\n",
       " 2.0,\n",
       " 3.0,\n",
       " 4.0,\n",
       " 5.0,\n",
       " 3.0,\n",
       " 5.0,\n",
       " 7.0,\n",
       " 5.0,\n",
       " 2.0,\n",
       " 5.0,\n",
       " 5.0,\n",
       " 7.0,\n",
       " 2.0,\n",
       " 2.0,\n",
       " 4.0,\n",
       " 4.0,\n",
       " 5.0,\n",
       " 3.0,\n",
       " 3.0,\n",
       " 3.0,\n",
       " 3.0,\n",
       " 5.0,\n",
       " 7.0,\n",
       " 0.0,\n",
       " 4.0,\n",
       " 5.0,\n",
       " 7.0,\n",
       " 3.0,\n",
       " 5.0,\n",
       " 2.0,\n",
       " 2.0,\n",
       " 3.0,\n",
       " 3.0,\n",
       " 6.0,\n",
       " 6.0,\n",
       " 3.0,\n",
       " 4.0,\n",
       " 1.0,\n",
       " 9.0,\n",
       " 3.0,\n",
       " 5.0,\n",
       " 3.0,\n",
       " 5.0,\n",
       " 5.0,\n",
       " 4.0,\n",
       " 5.0,\n",
       " 4.0,\n",
       " 3.0,\n",
       " 4.0,\n",
       " 2.0,\n",
       " 6.0,\n",
       " 2.0,\n",
       " 3.0,\n",
       " 3.0,\n",
       " 1.0,\n",
       " 2.0,\n",
       " 5.0,\n",
       " 4.0,\n",
       " 3.0,\n",
       " 5.0,\n",
       " 4.0,\n",
       " 6.0,\n",
       " 3.0,\n",
       " 3.0,\n",
       " 2.0,\n",
       " 3.0,\n",
       " 6.0,\n",
       " 3.0,\n",
       " 7.0,\n",
       " 2.0,\n",
       " 3.0,\n",
       " 4.0,\n",
       " 4.0,\n",
       " 4.0,\n",
       " 7.0,\n",
       " 4.0,\n",
       " 5.0,\n",
       " 3.0,\n",
       " 1.0,\n",
       " 4.0,\n",
       " 5.0,\n",
       " 2.0,\n",
       " 3.0,\n",
       " 2.0,\n",
       " 6.0,\n",
       " 6.0,\n",
       " 5.0,\n",
       " 5.0,\n",
       " 2.0,\n",
       " 4.0,\n",
       " 4.0,\n",
       " 3.0,\n",
       " 3.0,\n",
       " 3.0,\n",
       " 3.0,\n",
       " 3.0,\n",
       " 7.0,\n",
       " 4.0,\n",
       " 3.0,\n",
       " 3.0,\n",
       " 5.0,\n",
       " 0.0,\n",
       " 7.0,\n",
       " 5.0,\n",
       " 4.0,\n",
       " 5.0,\n",
       " 5.0,\n",
       " 3.0,\n",
       " 2.0,\n",
       " 2.0,\n",
       " 5.0,\n",
       " 7.0,\n",
       " 6.0,\n",
       " 2.0,\n",
       " 5.0,\n",
       " 5.0,\n",
       " 3.0,\n",
       " 7.0,\n",
       " 4.0,\n",
       " 4.0,\n",
       " 5.0,\n",
       " 8.0,\n",
       " 3.0,\n",
       " 5.0,\n",
       " 4.0,\n",
       " 4.0,\n",
       " 4.0,\n",
       " 3.0,\n",
       " 4.0,\n",
       " 6.0,\n",
       " 6.0,\n",
       " 6.0,\n",
       " 7.0,\n",
       " 4.0,\n",
       " 3.0,\n",
       " 1.0,\n",
       " 4.0,\n",
       " 5.0,\n",
       " 5.0,\n",
       " ...]"
      ]
     },
     "execution_count": 86,
     "metadata": {},
     "output_type": "execute_result"
    }
   ],
   "source": [
    "repetitions = 5000 \n",
    "deck_statistics = []\n",
    "for i in np.arange(repetitions):\n",
    "    x = deck_simulation_and_statistic(13, deck_model_probabilities)\n",
    "    deck_statistics.append(x)\n",
    "deck_statistics "
   ]
  },
  {
   "cell_type": "code",
   "execution_count": 87,
   "metadata": {
    "deletable": false,
    "editable": false
   },
   "outputs": [
    {
     "name": "stdout",
     "output_type": "stream",
     "text": [
      "~~~~~~~~~~~~~~~~~~~~~~~~~~~~~~~~~~~~~~~~~~~~~~~~~~~~~~~~~~~~~~~~~~~~~\n",
      "Running tests\n",
      "\n",
      "---------------------------------------------------------------------\n",
      "Test summary\n",
      "    Passed: 2\n",
      "    Failed: 0\n",
      "[ooooooooook] 100.0% passed\n",
      "\n"
     ]
    }
   ],
   "source": [
    "ok.grade(\"q5_4\");"
   ]
  },
  {
   "cell_type": "markdown",
   "metadata": {},
   "source": [
    "Let’s take a look at the distribution of simulated statistics."
   ]
  },
  {
   "cell_type": "code",
   "execution_count": 88,
   "metadata": {},
   "outputs": [
    {
     "data": {
      "image/png": "[encoded data removed]",
      "text/plain": [
       "<Figure size 432x288 with 1 Axes>"
      ]
     },
     "metadata": {},
     "output_type": "display_data"
    }
   ],
   "source": [
    "#Draw a distribution of statistics \n",
    "Table().with_column('Deck Statistics', deck_statistics).hist()"
   ]
  },
  {
   "cell_type": "markdown",
   "metadata": {
    "deletable": false,
    "editable": false
   },
   "source": [
    "#### Question 5\n",
    "Given your observed value, do you believe that Jade's model is reasonable, or is our alternative more likely? Explain your answer using the distribution drawn in the previous problem. \n",
    "\n",
    "<!--\n",
    "BEGIN QUESTION\n",
    "name: q5_5\n",
    "manual: true\n",
    "-->\n",
    "<!-- EXPORT TO PDF -->"
   ]
  },
  {
   "cell_type": "markdown",
   "metadata": {
    "export_pdf": true,
    "manual_problem_id": "dice_and_coins_5"
   },
   "source": [
    "Jade's model is reasonable because it seems that the deck is fair; usually 4-6 out of 13 cards are face cards, according to the sample distribution of the histogram. The distribution demonstrates that drawing 8 face cards was an outlier and that the deck is fair."
   ]
  },
  {
   "cell_type": "markdown",
   "metadata": {},
   "source": [
    "## 6. Submission\n"
   ]
  },
  {
   "cell_type": "markdown",
   "metadata": {
    "collapsed": true
   },
   "source": [
    "Once you're finished, select \"Save and Checkpoint\" in the File menu and then execute the `submit` cell below. The result will contain a link that you can use to check that your assignment has been submitted successfully. If you submit more than once before the deadline, we will only grade your final submission. If you mistakenly submit the wrong one, you can head to [okpy.org](https://okpy.org/) and flag the correct version. To do so, go to the website, click on this assignment, and find the version you would like to have graded. There should be an option to flag that submission for grading!"
   ]
  },
  {
   "cell_type": "code",
   "execution_count": 89,
   "metadata": {},
   "outputs": [
    {
     "data": {
      "application/javascript": [
       "IPython.notebook.save_checkpoint();"
      ],
      "text/plain": [
       "<IPython.core.display.Javascript object>"
      ]
     },
     "metadata": {},
     "output_type": "display_data"
    },
    {
     "data": {
      "application/javascript": [
       "IPython.notebook.save_notebook();"
      ],
      "text/plain": [
       "<IPython.core.display.Javascript object>"
      ]
     },
     "metadata": {},
     "output_type": "display_data"
    },
    {
     "name": "stdout",
     "output_type": "stream",
     "text": [
      "Saving notebook... Saved 'hw06.ipynb'.\n",
      "Submit... 100% complete\n",
      "Submission successful for user: lillyliu@berkeley.edu\n",
      "URL: https://okpy.org/cal/data8/sp20/hw06/submissions/jYXKoY\n",
      "\n"
     ]
    }
   ],
   "source": [
    "_ = ok.submit()"
   ]
  },
  {
   "cell_type": "code",
   "execution_count": 90,
   "metadata": {},
   "outputs": [
    {
     "name": "stdout",
     "output_type": "stream",
     "text": [
      "Running all tests...\n",
      "~~~~~~~~~~~~~~~~~~~~~~~~~~~~~~~~~~~~~~~~~~~~~~~~~~~~~~~~~~~~~~~~~~~~~\n",
      "Running tests\n",
      "\n",
      "---------------------------------------------------------------------\n",
      "Test summary\n",
      "    Passed: 1\n",
      "    Failed: 0\n",
      "[ooooooooook] 100.0% passed\n",
      "\n",
      "~~~~~~~~~~~~~~~~~~~~~~~~~~~~~~~~~~~~~~~~~~~~~~~~~~~~~~~~~~~~~~~~~~~~~\n",
      "Running tests\n",
      "\n",
      "---------------------------------------------------------------------\n",
      "Test summary\n",
      "    Passed: 1\n",
      "    Failed: 0\n",
      "[ooooooooook] 100.0% passed\n",
      "\n",
      "~~~~~~~~~~~~~~~~~~~~~~~~~~~~~~~~~~~~~~~~~~~~~~~~~~~~~~~~~~~~~~~~~~~~~\n",
      "Running tests\n",
      "\n",
      "---------------------------------------------------------------------\n",
      "Test summary\n",
      "    Passed: 1\n",
      "    Failed: 0\n",
      "[ooooooooook] 100.0% passed\n",
      "\n",
      "~~~~~~~~~~~~~~~~~~~~~~~~~~~~~~~~~~~~~~~~~~~~~~~~~~~~~~~~~~~~~~~~~~~~~\n",
      "Running tests\n",
      "\n",
      "---------------------------------------------------------------------\n",
      "Test summary\n",
      "    Passed: 1\n",
      "    Failed: 0\n",
      "[ooooooooook] 100.0% passed\n",
      "\n",
      "~~~~~~~~~~~~~~~~~~~~~~~~~~~~~~~~~~~~~~~~~~~~~~~~~~~~~~~~~~~~~~~~~~~~~\n",
      "Running tests\n",
      "\n",
      "---------------------------------------------------------------------\n",
      "Test summary\n",
      "    Passed: 2\n",
      "    Failed: 0\n",
      "[ooooooooook] 100.0% passed\n",
      "\n",
      "~~~~~~~~~~~~~~~~~~~~~~~~~~~~~~~~~~~~~~~~~~~~~~~~~~~~~~~~~~~~~~~~~~~~~\n",
      "Running tests\n",
      "\n",
      "---------------------------------------------------------------------\n",
      "Test summary\n",
      "    Passed: 1\n",
      "    Failed: 0\n",
      "[ooooooooook] 100.0% passed\n",
      "\n",
      "~~~~~~~~~~~~~~~~~~~~~~~~~~~~~~~~~~~~~~~~~~~~~~~~~~~~~~~~~~~~~~~~~~~~~\n",
      "Running tests\n",
      "\n",
      "---------------------------------------------------------------------\n",
      "Test summary\n",
      "    Passed: 1\n",
      "    Failed: 0\n",
      "[ooooooooook] 100.0% passed\n",
      "\n",
      "~~~~~~~~~~~~~~~~~~~~~~~~~~~~~~~~~~~~~~~~~~~~~~~~~~~~~~~~~~~~~~~~~~~~~\n",
      "Running tests\n",
      "\n",
      "---------------------------------------------------------------------\n",
      "Test summary\n",
      "    Passed: 2\n",
      "    Failed: 0\n",
      "[ooooooooook] 100.0% passed\n",
      "\n",
      "~~~~~~~~~~~~~~~~~~~~~~~~~~~~~~~~~~~~~~~~~~~~~~~~~~~~~~~~~~~~~~~~~~~~~\n",
      "Running tests\n",
      "\n",
      "---------------------------------------------------------------------\n",
      "Test summary\n",
      "    Passed: 1\n",
      "    Failed: 0\n",
      "[ooooooooook] 100.0% passed\n",
      "\n",
      "~~~~~~~~~~~~~~~~~~~~~~~~~~~~~~~~~~~~~~~~~~~~~~~~~~~~~~~~~~~~~~~~~~~~~\n",
      "Running tests\n",
      "\n",
      "---------------------------------------------------------------------\n",
      "Test summary\n",
      "    Passed: 3\n",
      "    Failed: 0\n",
      "[ooooooooook] 100.0% passed\n",
      "\n",
      "~~~~~~~~~~~~~~~~~~~~~~~~~~~~~~~~~~~~~~~~~~~~~~~~~~~~~~~~~~~~~~~~~~~~~\n",
      "Running tests\n",
      "\n",
      "---------------------------------------------------------------------\n",
      "Test summary\n",
      "    Passed: 3\n",
      "    Failed: 0\n",
      "[ooooooooook] 100.0% passed\n",
      "\n",
      "~~~~~~~~~~~~~~~~~~~~~~~~~~~~~~~~~~~~~~~~~~~~~~~~~~~~~~~~~~~~~~~~~~~~~\n",
      "Running tests\n",
      "\n",
      "---------------------------------------------------------------------\n",
      "Test summary\n",
      "    Passed: 1\n",
      "    Failed: 0\n",
      "[ooooooooook] 100.0% passed\n",
      "\n",
      "~~~~~~~~~~~~~~~~~~~~~~~~~~~~~~~~~~~~~~~~~~~~~~~~~~~~~~~~~~~~~~~~~~~~~\n",
      "Running tests\n",
      "\n",
      "---------------------------------------------------------------------\n",
      "Test summary\n",
      "    Passed: 4\n",
      "    Failed: 0\n",
      "[ooooooooook] 100.0% passed\n",
      "\n",
      "~~~~~~~~~~~~~~~~~~~~~~~~~~~~~~~~~~~~~~~~~~~~~~~~~~~~~~~~~~~~~~~~~~~~~\n",
      "Running tests\n",
      "\n",
      "---------------------------------------------------------------------\n",
      "Test summary\n",
      "    Passed: 3\n",
      "    Failed: 0\n",
      "[ooooooooook] 100.0% passed\n",
      "\n",
      "~~~~~~~~~~~~~~~~~~~~~~~~~~~~~~~~~~~~~~~~~~~~~~~~~~~~~~~~~~~~~~~~~~~~~\n",
      "Running tests\n",
      "\n",
      "---------------------------------------------------------------------\n",
      "Test summary\n",
      "    Passed: 3\n",
      "    Failed: 0\n",
      "[ooooooooook] 100.0% passed\n",
      "\n",
      "~~~~~~~~~~~~~~~~~~~~~~~~~~~~~~~~~~~~~~~~~~~~~~~~~~~~~~~~~~~~~~~~~~~~~\n",
      "Running tests\n",
      "\n",
      "---------------------------------------------------------------------\n",
      "Test summary\n",
      "    Passed: 1\n",
      "    Failed: 0\n",
      "[ooooooooook] 100.0% passed\n",
      "\n",
      "~~~~~~~~~~~~~~~~~~~~~~~~~~~~~~~~~~~~~~~~~~~~~~~~~~~~~~~~~~~~~~~~~~~~~\n",
      "Running tests\n",
      "\n",
      "---------------------------------------------------------------------\n",
      "Test summary\n",
      "    Passed: 3\n",
      "    Failed: 0\n",
      "[ooooooooook] 100.0% passed\n",
      "\n",
      "~~~~~~~~~~~~~~~~~~~~~~~~~~~~~~~~~~~~~~~~~~~~~~~~~~~~~~~~~~~~~~~~~~~~~\n",
      "Running tests\n",
      "\n",
      "---------------------------------------------------------------------\n",
      "Test summary\n",
      "    Passed: 1\n",
      "    Failed: 0\n",
      "[ooooooooook] 100.0% passed\n",
      "\n",
      "Finished running all tests.\n"
     ]
    }
   ],
   "source": [
    "# For your convenience, you can run this cell to run all the tests at once!\n",
    "import os\n",
    "print(\"Running all tests...\")\n",
    "_ = [ok.grade(q[:-3]) for q in os.listdir(\"tests\") if q.startswith('q') and len(q) <= 10]\n",
    "print(\"Finished running all tests.\")"
   ]
  },
  {
   "cell_type": "code",
   "execution_count": null,
   "metadata": {},
   "outputs": [],
   "source": []
  }
 ],
 "metadata": {
  "kernelspec": {
   "display_name": "Python 3",
   "language": "python",
   "name": "python3"
  },
  "language_info": {
   "codemirror_mode": {
    "name": "ipython",
    "version": 3
   },
   "file_extension": ".py",
   "mimetype": "text/x-python",
   "name": "python",
   "nbconvert_exporter": "python",
   "pygments_lexer": "ipython3",
   "version": "3.6.9"
  }
 },
 "nbformat": 4,
 "nbformat_minor": 1
}
